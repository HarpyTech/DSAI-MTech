{
 "cells": [
  {
   "cell_type": "markdown",
   "metadata": {
    "id": "6imy92Ur-z2d"
   },
   "source": [
    "# STATISTICS MID EXAM\n",
    "\n",
    "### Total Marks : 40\n",
    "### Time - 2 Hours\n"
   ]
  },
  {
   "cell_type": "markdown",
   "metadata": {
    "id": "cEo57bFf-z2f"
   },
   "source": [
    " _________________"
   ]
  },
  {
   "cell_type": "markdown",
   "metadata": {
    "id": "d2Dsctxp-z2g"
   },
   "source": [
    "# SECTION A: 10 MARKS"
   ]
  },
  {
   "cell_type": "markdown",
   "metadata": {
    "id": "h26nsMnG-z2i"
   },
   "source": [
    "### 1. A sample of 20 students is randomly selected and collected their scores in Data Science.  Perform an interval estimate on population scores with 95% confidence. (5 marks)\n",
    "\n",
    "datascience_scores= [88, 45, 62, 54, 57, 66, 69, 94, 60, 50, 86, 81, 89, 62, 56, 60, 51,\n",
    "       94, 87, 55]\n",
    "       \n",
    "#### Note : Assume data is normal"
   ]
  },
  {
   "cell_type": "code",
   "execution_count": 8,
   "metadata": {},
   "outputs": [
    {
     "data": {
      "text/plain": [
       "(68.3, 15.84645070670401)"
      ]
     },
     "execution_count": 8,
     "metadata": {},
     "output_type": "execute_result"
    }
   ],
   "source": [
    "import numpy as np \n",
    "\n",
    "datascience_scores = np.array([88, 45, 62, 54, 57, 66, 69, 94, 60, 50, 86, 81, 89, 62, 56, 60, 51, 94, 87, 55])\n",
    "\n",
    "mean = datascience_scores.mean()\n",
    "std = datascience_scores.std()\n",
    "\n",
    "mean, std"
   ]
  },
  {
   "cell_type": "code",
   "execution_count": 9,
   "metadata": {},
   "outputs": [
    {
     "data": {
      "text/plain": [
       "(2.093024054408263, 7.4163672213604315)"
      ]
     },
     "execution_count": 9,
     "metadata": {},
     "output_type": "execute_result"
    }
   ],
   "source": [
    "from scipy.stats import t\n",
    "\n",
    "n = 20\n",
    "confidence_level = 0.95\n",
    "alpha = 1 - confidence_level\n",
    "dof = n - 1\n",
    "\n",
    "t_score = t.ppf(confidence_level + alpha / 2, dof)\n",
    "\n",
    "margin_error = t_score * (std / np.sqrt(n))\n",
    "\n",
    "t_score, margin_error"
   ]
  },
  {
   "cell_type": "code",
   "execution_count": 10,
   "metadata": {},
   "outputs": [
    {
     "data": {
      "text/plain": [
       "(60.883632778639566, 75.71636722136043)"
      ]
     },
     "execution_count": 10,
     "metadata": {},
     "output_type": "execute_result"
    }
   ],
   "source": [
    "lower_bound = mean - margin_error\n",
    "upper_bound = mean + margin_error\n",
    "\n",
    "lower_bound, upper_bound"
   ]
  },
  {
   "cell_type": "code",
   "execution_count": 11,
   "metadata": {},
   "outputs": [
    {
     "data": {
      "text/plain": [
       "(61.0, 76.0)"
      ]
     },
     "execution_count": 11,
     "metadata": {},
     "output_type": "execute_result"
    }
   ],
   "source": [
    "np.round(lower_bound), np.round(upper_bound)"
   ]
  },
  {
   "cell_type": "markdown",
   "metadata": {},
   "source": [
    "### Conclusion\n",
    "\n",
    "Since we have sample size 20, i.e less than 30, we are using t test.\n",
    "The 95% confidence interval for the given sample scores on the population lies between **61** to **76**."
   ]
  },
  {
   "cell_type": "markdown",
   "metadata": {},
   "source": [
    "### 2. A shopkeeper assumes that equal proportion rice, corn, wheat availble in his store. After measuring , he found that  100 packets of rice, 75 packets of corn, 90 packets of wheat in his shop. Check the farmers assumptions with 99% confidence. ( 5 marks)"
   ]
  },
  {
   "cell_type": "code",
   "execution_count": 28,
   "metadata": {},
   "outputs": [],
   "source": [
    "# Define the Hypothesis\n",
    "# H0: All Proportions are equal\n",
    "# H1: Atleast one Proportion is different\n"
   ]
  },
  {
   "cell_type": "code",
   "execution_count": 29,
   "metadata": {},
   "outputs": [
    {
     "data": {
      "text/plain": [
       "(9.21034037197618, 3.5849056603773586)"
      ]
     },
     "execution_count": 29,
     "metadata": {},
     "output_type": "execute_result"
    }
   ],
   "source": [
    "import scipy.stats as stats\n",
    "\n",
    "observed = np.array([100, 75, 90])\n",
    "expected = [observed.sum() / 3] * 3\n",
    "\n",
    "chi2_stats = stats.chisquare(observed, f_exp=expected)[0]\n",
    "\n",
    "deg_of_freedom = len(observed) - 1\n",
    "alpha = 0.01\n",
    "\n",
    "critical_value = stats.chi2.ppf(1 - alpha, deg_of_freedom)\n",
    "\n",
    "critical_value, chi2_stats"
   ]
  },
  {
   "cell_type": "code",
   "execution_count": 27,
   "metadata": {},
   "outputs": [
    {
     "name": "stdout",
     "output_type": "stream",
     "text": [
      "Fail to Reject H0: There is not enough evidence to conclude that the proportions are different \n"
     ]
    }
   ],
   "source": [
    "if critical_value < chi2_stats:\n",
    "    print(\"Reject H0: The proportions are not equal\")\n",
    "else:\n",
    "    print(\"Fail to Reject H0: There is not enough evidence to conclude that the proportions are different \")\n",
    "    "
   ]
  },
  {
   "cell_type": "markdown",
   "metadata": {
    "id": "eG6HOAvb-z2q"
   },
   "source": [
    " _________________"
   ]
  },
  {
   "cell_type": "markdown",
   "metadata": {
    "id": "0kbvPkA9-z2r"
   },
   "source": [
    "# SECTION B: 10Marks\n"
   ]
  },
  {
   "cell_type": "markdown",
   "metadata": {
    "id": "vRxYOr4q-z2s"
   },
   "source": [
    " _________________"
   ]
  },
  {
   "cell_type": "markdown",
   "metadata": {
    "id": "6LpQdDpo-z2s"
   },
   "source": [
    "### 3 . A fisherman claims that average weight of fishes in a pond is greater than 3kg. A sample of 50 fishes are selected and found the average weight 3.5 kg and standard devaition of 0.75kg. Test the fisherman's calim with 99% confidence level.\n",
    "\n",
    "#### Note: Assume data is normal\n",
    "\n",
    "A. Frame the hypothesis (2 mark)\n",
    "\n",
    "B. Calculate the test statistic and p_value  (5 mark)\n",
    "\n",
    "C. Interpret the results (3 marks)"
   ]
  },
  {
   "cell_type": "markdown",
   "metadata": {
    "id": "DMQj7PEZ-z2t"
   },
   "source": [
    "## State the Hypothesis\n",
    "### H0: The Average weight of the fishes in the pond is lessthan or eqaul to 3 kg.\n",
    "### H1:The Average weight of the fishes in the pond is geater than 3 Kg"
   ]
  },
  {
   "cell_type": "markdown",
   "metadata": {
    "id": "y57w4MY_-z2x"
   },
   "source": [
    " _________________"
   ]
  },
  {
   "cell_type": "code",
   "execution_count": 33,
   "metadata": {},
   "outputs": [
    {
     "data": {
      "text/plain": [
       "4.714045207910317"
      ]
     },
     "execution_count": 33,
     "metadata": {},
     "output_type": "execute_result"
    }
   ],
   "source": [
    "# Calculate test statistics\n",
    "n = 50\n",
    "x_bar = 3.5\n",
    "std = 0.75\n",
    "mu = 3\n",
    "confidence = 0.99\n",
    "alpha = 0.01\n",
    "\n",
    "t_stat = (x_bar - mu) / (std / np.sqrt(n))\n",
    "\n",
    "t_stat"
   ]
  },
  {
   "cell_type": "code",
   "execution_count": 32,
   "metadata": {},
   "outputs": [
    {
     "data": {
      "text/plain": [
       "1.0235132411294397e-05"
      ]
     },
     "execution_count": 32,
     "metadata": {},
     "output_type": "execute_result"
    }
   ],
   "source": [
    "# P value \n",
    "p_value = stats.t.sf(t_stat, df=n-1)\n",
    "\n",
    "p_value"
   ]
  },
  {
   "cell_type": "code",
   "execution_count": 34,
   "metadata": {},
   "outputs": [
    {
     "data": {
      "text/plain": [
       "True"
      ]
     },
     "execution_count": 34,
     "metadata": {},
     "output_type": "execute_result"
    }
   ],
   "source": [
    "p_value < alpha    "
   ]
  },
  {
   "cell_type": "markdown",
   "metadata": {},
   "source": [
    "## Reject H0:\n",
    "\n",
    "### Conclusion: The Fishermans claim is True, that Average weight of the fishes in the pond is greater than 3 Kg"
   ]
  },
  {
   "cell_type": "markdown",
   "metadata": {
    "id": "BXZCgUr--z2y"
   },
   "source": [
    "# SECTION C: 20 MARKS"
   ]
  },
  {
   "cell_type": "markdown",
   "metadata": {
    "id": "D0-9nQIM-z2y"
   },
   "source": [
    " _________________"
   ]
  },
  {
   "cell_type": "code",
   "execution_count": 35,
   "metadata": {
    "id": "aGxQGGWw-z2z"
   },
   "outputs": [
    {
     "data": {
      "text/html": [
       "<div>\n",
       "<style scoped>\n",
       "    .dataframe tbody tr th:only-of-type {\n",
       "        vertical-align: middle;\n",
       "    }\n",
       "\n",
       "    .dataframe tbody tr th {\n",
       "        vertical-align: top;\n",
       "    }\n",
       "\n",
       "    .dataframe thead th {\n",
       "        text-align: right;\n",
       "    }\n",
       "</style>\n",
       "<table border=\"1\" class=\"dataframe\">\n",
       "  <thead>\n",
       "    <tr style=\"text-align: right;\">\n",
       "      <th></th>\n",
       "      <th>Item_Identifier</th>\n",
       "      <th>Item_Weight</th>\n",
       "      <th>Item_Fat_Content</th>\n",
       "      <th>Item_Visibility</th>\n",
       "      <th>Item_Type</th>\n",
       "      <th>Item_MRP</th>\n",
       "      <th>Outlet_Identifier</th>\n",
       "      <th>Outlet_Establishment_Year</th>\n",
       "      <th>Outlet_Size</th>\n",
       "      <th>Outlet_Location_Type</th>\n",
       "      <th>Outlet_Type</th>\n",
       "      <th>Item_Outlet_Sales</th>\n",
       "    </tr>\n",
       "  </thead>\n",
       "  <tbody>\n",
       "    <tr>\n",
       "      <th>0</th>\n",
       "      <td>FDA15</td>\n",
       "      <td>9.300</td>\n",
       "      <td>Low Fat</td>\n",
       "      <td>0.016047</td>\n",
       "      <td>Dairy</td>\n",
       "      <td>249.8092</td>\n",
       "      <td>OUT049</td>\n",
       "      <td>1999</td>\n",
       "      <td>Medium</td>\n",
       "      <td>Tier 1</td>\n",
       "      <td>Supermarket Type1</td>\n",
       "      <td>3735.1380</td>\n",
       "    </tr>\n",
       "    <tr>\n",
       "      <th>1</th>\n",
       "      <td>DRC01</td>\n",
       "      <td>5.920</td>\n",
       "      <td>Regular</td>\n",
       "      <td>0.019278</td>\n",
       "      <td>Soft Drinks</td>\n",
       "      <td>48.2692</td>\n",
       "      <td>OUT018</td>\n",
       "      <td>2009</td>\n",
       "      <td>Medium</td>\n",
       "      <td>Tier 3</td>\n",
       "      <td>Supermarket Type2</td>\n",
       "      <td>443.4228</td>\n",
       "    </tr>\n",
       "    <tr>\n",
       "      <th>2</th>\n",
       "      <td>FDN15</td>\n",
       "      <td>17.500</td>\n",
       "      <td>Low Fat</td>\n",
       "      <td>0.016760</td>\n",
       "      <td>Meat</td>\n",
       "      <td>141.6180</td>\n",
       "      <td>OUT049</td>\n",
       "      <td>1999</td>\n",
       "      <td>Medium</td>\n",
       "      <td>Tier 1</td>\n",
       "      <td>Supermarket Type1</td>\n",
       "      <td>2097.2700</td>\n",
       "    </tr>\n",
       "    <tr>\n",
       "      <th>3</th>\n",
       "      <td>NCD19</td>\n",
       "      <td>8.930</td>\n",
       "      <td>Low Fat</td>\n",
       "      <td>0.000000</td>\n",
       "      <td>Household</td>\n",
       "      <td>53.8614</td>\n",
       "      <td>OUT013</td>\n",
       "      <td>1987</td>\n",
       "      <td>High</td>\n",
       "      <td>Tier 3</td>\n",
       "      <td>Supermarket Type1</td>\n",
       "      <td>994.7052</td>\n",
       "    </tr>\n",
       "    <tr>\n",
       "      <th>4</th>\n",
       "      <td>FDP36</td>\n",
       "      <td>10.395</td>\n",
       "      <td>Regular</td>\n",
       "      <td>0.000000</td>\n",
       "      <td>Baking Goods</td>\n",
       "      <td>51.4008</td>\n",
       "      <td>OUT018</td>\n",
       "      <td>2009</td>\n",
       "      <td>Medium</td>\n",
       "      <td>Tier 3</td>\n",
       "      <td>Supermarket Type2</td>\n",
       "      <td>556.6088</td>\n",
       "    </tr>\n",
       "  </tbody>\n",
       "</table>\n",
       "</div>"
      ],
      "text/plain": [
       "  Item_Identifier  Item_Weight Item_Fat_Content  Item_Visibility  \\\n",
       "0           FDA15        9.300          Low Fat         0.016047   \n",
       "1           DRC01        5.920          Regular         0.019278   \n",
       "2           FDN15       17.500          Low Fat         0.016760   \n",
       "3           NCD19        8.930          Low Fat         0.000000   \n",
       "4           FDP36       10.395          Regular         0.000000   \n",
       "\n",
       "      Item_Type  Item_MRP Outlet_Identifier  Outlet_Establishment_Year  \\\n",
       "0         Dairy  249.8092            OUT049                       1999   \n",
       "1   Soft Drinks   48.2692            OUT018                       2009   \n",
       "2          Meat  141.6180            OUT049                       1999   \n",
       "3     Household   53.8614            OUT013                       1987   \n",
       "4  Baking Goods   51.4008            OUT018                       2009   \n",
       "\n",
       "  Outlet_Size Outlet_Location_Type        Outlet_Type  Item_Outlet_Sales  \n",
       "0      Medium               Tier 1  Supermarket Type1          3735.1380  \n",
       "1      Medium               Tier 3  Supermarket Type2           443.4228  \n",
       "2      Medium               Tier 1  Supermarket Type1          2097.2700  \n",
       "3        High               Tier 3  Supermarket Type1           994.7052  \n",
       "4      Medium               Tier 3  Supermarket Type2           556.6088  "
      ]
     },
     "execution_count": 35,
     "metadata": {},
     "output_type": "execute_result"
    }
   ],
   "source": [
    "import pandas as pd\n",
    "data= pd.read_csv('data_set.csv')\n",
    "data.head()"
   ]
  },
  {
   "cell_type": "markdown",
   "metadata": {},
   "source": [
    "### 4. Frame the hypothesis ,calculate the test statistic and p_value , interpret the results for the following tasks with 95% Confidence level :\n",
    "\n",
    "i. The shop keeper claims that the average of the item outlet sales is not less than $2280.Validate if his claim is true.(4 marks)\n",
    "\n",
    "ii. Is there any relation between Item_Fat_Content and Item_Outlet_Sales? (4 marks)\n",
    "\n",
    "iii.Is there any relation between Outlet_Location_Type and Outlet_Type? (4 marks)\n",
    "\n",
    "iv.Is there any relation between Item_Weight and Item_Outlet_Sales? (4 marks)\n",
    "\n",
    "v. Is there any relation between Outlet_Size and Item_Outlet_Sales? (4 marks)\n",
    "\n",
    "\n",
    "**Note: Assume all continuous columns are normally distributed and have equal variance.**"
   ]
  },
  {
   "cell_type": "markdown",
   "metadata": {},
   "source": [
    "### 4 - i\n",
    "\n",
    "#### State Hypothesis\n",
    "* H0: The Average item outlet sales is less than or eqaul to 2280.\n",
    "* H1: The Average item outlet sales is greater than 2280."
   ]
  },
  {
   "cell_type": "code",
   "execution_count": 36,
   "metadata": {},
   "outputs": [
    {
     "data": {
      "text/plain": [
       "(-0.3624724078368445, 0.6414922422772362)"
      ]
     },
     "execution_count": 36,
     "metadata": {},
     "output_type": "execute_result"
    }
   ],
   "source": [
    "sample_size = len(data['Item_Outlet_Sales'])\n",
    "sample_mean = data[\"Item_Outlet_Sales\"].mean()\n",
    "sample_std = data[\"Item_Outlet_Sales\"].std()\n",
    "\n",
    "mu = 2280\n",
    "alpha = 0.05\n",
    "\n",
    "# Calculaate the t-statistics and p value\n",
    "t_stat = (sample_mean - mu) / (sample_std / np.sqrt(sample_size))\n",
    "p_value = t.sf(t_stat, df=sample_size - 1)\n",
    "\n",
    "t_stat, p_value"
   ]
  },
  {
   "cell_type": "code",
   "execution_count": 37,
   "metadata": {},
   "outputs": [
    {
     "name": "stdout",
     "output_type": "stream",
     "text": [
      "Fail to reject H0: There is not enough evidence to conclude that the average sales is greater than $2280\n"
     ]
    }
   ],
   "source": [
    "if p_value < alpha:\n",
    "    print(\"Reject H0: The Average item outlet sales are greater than $2280\")\n",
    "else:\n",
    "    print(\"Fail to reject H0: There is not enough evidence to conclude that the average sales is greater than $2280\")"
   ]
  },
  {
   "cell_type": "markdown",
   "metadata": {},
   "source": [
    "#### Conclusion: Shopkeeper Claim is not true"
   ]
  },
  {
   "cell_type": "markdown",
   "metadata": {},
   "source": [
    "#### 4 - iii\n",
    "H0: No Significant relation between Item_Location_Type and Outlet_Type\n",
    "H1: There is Relation"
   ]
  },
  {
   "cell_type": "code",
   "execution_count": 53,
   "metadata": {},
   "outputs": [
    {
     "data": {
      "text/plain": [
       "(0.5582655261035571, 45.87462124439782, 0.0)"
      ]
     },
     "execution_count": 53,
     "metadata": {},
     "output_type": "execute_result"
    }
   ],
   "source": [
    "from sklearn.preprocessing import LabelEncoder\n",
    "\n",
    "data[\"Outlet_Location_Type\"] = LabelEncoder().fit_transform(data['Outlet_Location_Type'])\n",
    "data[\"Outlet_Type\"] = LabelEncoder().fit_transform(data['Outlet_Type'])\n",
    "# Perform Pearson correlation\n",
    "correlation_coef = data[\"Outlet_Location_Type\"].corr(data[\"Outlet_Type\"])\n",
    "\n",
    "# Calculate P-Value\n",
    "t_stat = correlation_coef * np.sqrt((sample_size - 2) / (1 - correlation_coef ** 2))\n",
    "p_value = t.sf(t_stat, df=sample_size - 2)\n",
    "\n",
    "correlation_coef, t_stat, p_value"
   ]
  },
  {
   "cell_type": "markdown",
   "metadata": {},
   "source": [
    "#### Conclusion\n",
    "Since we have got the p_value as **0** i.e less than alpha and  reject H0.\n",
    "**There is sifnificant relation between Outlet_Location_Type and Outlet_Type**"
   ]
  },
  {
   "cell_type": "code",
   "execution_count": null,
   "metadata": {},
   "outputs": [],
   "source": []
  },
  {
   "cell_type": "markdown",
   "metadata": {},
   "source": [
    "#### 4 - ii\n",
    "H0: No Significant relation between Item_Fat_Content and Item_Outlet_Sales\n",
    "H1: There is Relation"
   ]
  },
  {
   "cell_type": "code",
   "execution_count": 50,
   "metadata": {},
   "outputs": [
    {
     "data": {
      "text/plain": [
       "(0.008847280875777476, 0.603197971700419, 0.27320321427374517)"
      ]
     },
     "execution_count": 50,
     "metadata": {},
     "output_type": "execute_result"
    }
   ],
   "source": [
    "from sklearn.preprocessing import LabelEncoder\n",
    "\n",
    "data[\"Item_Fat_Content\"] = LabelEncoder().fit_transform(data['Item_Fat_Content'])\n",
    "\n",
    "# Perform Pearson correlation\n",
    "correlation_coef = data[\"Item_Fat_Content\"].corr(data[\"Item_Outlet_Sales\"])\n",
    "\n",
    "# Calculate P-Value\n",
    "t_stat = correlation_coef * np.sqrt((sample_size - 2) / (1 - correlation_coef ** 2))\n",
    "p_value = t.sf(t_stat, df=sample_size - 2)\n",
    "\n",
    "correlation_coef, t_stat, p_value"
   ]
  },
  {
   "cell_type": "markdown",
   "metadata": {},
   "source": [
    "#### Conclusion\n",
    "Since we have got the p_value as **0.2732** i.e greter than alpha and failed to reject H0.\n",
    "**There is no sifnificant relation between Item_Fat_Content and Outlet_Sales**"
   ]
  },
  {
   "cell_type": "code",
   "execution_count": null,
   "metadata": {},
   "outputs": [],
   "source": []
  },
  {
   "cell_type": "markdown",
   "metadata": {},
   "source": [
    "#### 4 - v\n",
    "H0: No Significant relation between Outlet_Size and Item_Outlet_Sales\n",
    "H1: There is Relation"
   ]
  },
  {
   "cell_type": "code",
   "execution_count": 54,
   "metadata": {},
   "outputs": [
    {
     "data": {
      "text/plain": [
       "(0.025965428797625232, 1.770822410412953, 0.038327882612726114)"
      ]
     },
     "execution_count": 54,
     "metadata": {},
     "output_type": "execute_result"
    }
   ],
   "source": [
    "from sklearn.preprocessing import LabelEncoder\n",
    "\n",
    "data[\"Outlet_Size\"] = LabelEncoder().fit_transform(data['Outlet_Size'])\n",
    "\n",
    "# Perform Pearson correlation\n",
    "correlation_coef = data[\"Outlet_Size\"].corr(data[\"Item_Outlet_Sales\"])\n",
    "\n",
    "# Calculate P-Value\n",
    "t_stat = correlation_coef * np.sqrt((sample_size - 2) / (1 - correlation_coef ** 2))\n",
    "p_value = t.sf(t_stat, df=sample_size - 2)\n",
    "\n",
    "correlation_coef, t_stat, p_value"
   ]
  },
  {
   "cell_type": "markdown",
   "metadata": {},
   "source": [
    "#### Conclusion\n",
    "Since we have got the p_value as **0.03** i.e less than alpha, reject H0.\n",
    "**There is sifnificant relation between Outlet_Size and Outlet_Sales**"
   ]
  },
  {
   "cell_type": "code",
   "execution_count": null,
   "metadata": {},
   "outputs": [],
   "source": []
  },
  {
   "cell_type": "markdown",
   "metadata": {},
   "source": []
  },
  {
   "cell_type": "code",
   "execution_count": null,
   "metadata": {},
   "outputs": [],
   "source": []
  },
  {
   "cell_type": "code",
   "execution_count": null,
   "metadata": {},
   "outputs": [],
   "source": []
  },
  {
   "cell_type": "code",
   "execution_count": null,
   "metadata": {},
   "outputs": [],
   "source": []
  },
  {
   "cell_type": "code",
   "execution_count": null,
   "metadata": {},
   "outputs": [],
   "source": []
  },
  {
   "cell_type": "markdown",
   "metadata": {},
   "source": [
    "#### 4 - iv\n",
    "H0: No Significant relation between Item_Weight and Item_Outlet_Sales\n",
    "H1: There is Relation"
   ]
  },
  {
   "cell_type": "code",
   "execution_count": 40,
   "metadata": {},
   "outputs": [
    {
     "data": {
      "text/plain": [
       "(0.010971826651563646, 0.7480629387621539, 0.2272300210664357)"
      ]
     },
     "execution_count": 40,
     "metadata": {},
     "output_type": "execute_result"
    }
   ],
   "source": [
    "# Perform Pearson correlation\n",
    "correlation_coef = data[\"Item_Weight\"].corr(data[\"Item_Outlet_Sales\"])\n",
    "\n",
    "# Calculate P-Value\n",
    "t_stat = correlation_coef * np.sqrt((sample_size - 2) / (1 - correlation_coef ** 2))\n",
    "p_value = t.sf(t_stat, df=sample_size - 2)\n",
    "\n",
    "correlation_coef, t_stat, p_value"
   ]
  },
  {
   "cell_type": "markdown",
   "metadata": {},
   "source": [
    "#### Conclusion\n",
    "Since we have got the p_value as **0.2272** i.e greter than alpha and failed to reject H0.\n",
    "**There is no sifnificant relation between Item_Weight and Outlet_Sales**"
   ]
  },
  {
   "cell_type": "markdown",
   "metadata": {},
   "source": []
  },
  {
   "cell_type": "code",
   "execution_count": null,
   "metadata": {},
   "outputs": [],
   "source": []
  },
  {
   "cell_type": "code",
   "execution_count": null,
   "metadata": {},
   "outputs": [],
   "source": []
  },
  {
   "cell_type": "code",
   "execution_count": null,
   "metadata": {},
   "outputs": [],
   "source": []
  },
  {
   "cell_type": "code",
   "execution_count": null,
   "metadata": {},
   "outputs": [],
   "source": []
  },
  {
   "cell_type": "code",
   "execution_count": null,
   "metadata": {},
   "outputs": [],
   "source": []
  }
 ],
 "metadata": {
  "colab": {
   "name": "STAT_MID_SET1_QUESTION.ipynb",
   "provenance": [],
   "toc_visible": true
  },
  "kernelspec": {
   "display_name": "Python 3",
   "language": "python",
   "name": "python3"
  },
  "language_info": {
   "codemirror_mode": {
    "name": "ipython",
    "version": 3
   },
   "file_extension": ".py",
   "mimetype": "text/x-python",
   "name": "python",
   "nbconvert_exporter": "python",
   "pygments_lexer": "ipython3",
   "version": "3.7.3"
  }
 },
 "nbformat": 4,
 "nbformat_minor": 1
}
