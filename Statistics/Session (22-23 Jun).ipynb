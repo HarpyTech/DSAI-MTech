{
 "cells": [
  {
   "cell_type": "code",
   "execution_count": null,
   "metadata": {},
   "outputs": [],
   "source": []
  },
  {
   "cell_type": "markdown",
   "metadata": {},
   "source": [
    "<a id=\"lib\"></a>\n",
    "# 1. Import Libraries\n",
    "\n",
    "**Let us import the required libraries.**"
   ]
  },
  {
   "cell_type": "code",
   "execution_count": 1,
   "metadata": {},
   "outputs": [],
   "source": [
    "# import 'pandas' \n",
    "import pandas as pd \n",
    "\n",
    "# import 'numpy' \n",
    "import numpy as np\n",
    "\n",
    "# import subpackage of matplotlib\n",
    "import matplotlib.pyplot as plt\n",
    "from matplotlib import gridspec\n",
    "\n",
    "# import 'seaborn'\n",
    "import seaborn as sns\n",
    "\n",
    "# to suppress warnings \n",
    "from warnings import filterwarnings\n",
    "filterwarnings('ignore')\n",
    "\n",
    "# import 'factorial' from math library\n",
    "from math import factorial\n",
    "\n",
    "# import 'stats' package from scipy library\n",
    "from scipy import stats\n",
    "from scipy.stats import randint\n",
    "from scipy.stats import skewnorm\n",
    "\n",
    "# import 'random' to generate a random sample\n",
    "import random\n",
    "\n",
    "# import statistics to perform statistical computation  \n",
    "import statistics\n",
    "\n",
    "# import a library to perform Z-test\n",
    "from statsmodels.stats import weightstats as stests\n",
    "\n",
    "# to test the normality \n",
    "import scipy.stats as st\n",
    "\n",
    "# import the function to calculate the power of test\n",
    "from statsmodels.stats import power"
   ]
  },
  {
   "cell_type": "markdown",
   "metadata": {},
   "source": [
    "#### 1. From a sample of 250 observations, it is found that the average income of a 27 year old Londoner is £45,000 with a sample standard deviation of £4000. Obtain the 95% confidence interval to estimate the average income."
   ]
  },
  {
   "cell_type": "code",
   "execution_count": 4,
   "metadata": {},
   "outputs": [
    {
     "name": "stdout",
     "output_type": "stream",
     "text": [
      "44504.16397415635 45495.83602584365\n"
     ]
    }
   ],
   "source": [
    "n =250\n",
    "xbar = 45000\n",
    "sigma = 4000\n",
    "alpha = 1 - 0.95\n",
    "zalphaby2 = st.norm.isf(alpha/2)\n",
    "std_error = sigma/np.sqrt(n)\n",
    "margin_error = zalphaby2 * std_error\n",
    "lower_conf_limit = xbar - margin_error\n",
    "upper_conf_limit = xbar + margin_error\n",
    "print(lower_conf_limit, upper_conf_limit)"
   ]
  },
  {
   "cell_type": "markdown",
   "metadata": {},
   "source": [
    "Hence we can say that population average income of londoner is lies between 44504 to 45495 at 95% configdence"
   ]
  },
  {
   "cell_type": "code",
   "execution_count": 6,
   "metadata": {},
   "outputs": [
    {
     "data": {
      "text/plain": [
       "(44504.16397415635, 45495.83602584365)"
      ]
     },
     "execution_count": 6,
     "metadata": {},
     "output_type": "execute_result"
    }
   ],
   "source": [
    "st.norm.interval(1 - alpha, xbar, sigma/np.sqrt(n))"
   ]
  },
  {
   "cell_type": "code",
   "execution_count": 8,
   "metadata": {},
   "outputs": [
    {
     "data": {
      "text/plain": [
       "(44348.361002958416, 45651.638997041584)"
      ]
     },
     "execution_count": 8,
     "metadata": {},
     "output_type": "execute_result"
    }
   ],
   "source": [
    "\n",
    "st.norm.interval(0.99, xbar, sigma/np.sqrt(n)) # confidence level is 99%"
   ]
  },
  {
   "cell_type": "code",
   "execution_count": 10,
   "metadata": {},
   "outputs": [
    {
     "data": {
      "text/plain": [
       "(44583.88128969955, 45416.11871030045)"
      ]
     },
     "execution_count": 10,
     "metadata": {},
     "output_type": "execute_result"
    }
   ],
   "source": [
    "st.norm.interval(0.90, xbar, sigma/np.sqrt(n)) # confidence level is 90%"
   ]
  },
  {
   "cell_type": "markdown",
   "metadata": {},
   "source": [
    "#### 2. There are 150 apples on a tree. You randomly choose 40 apples and found that the average weight of apples is 182 grams with a standard deviation of 30 grams. Find the 95% confidence interval for the population mean."
   ]
  },
  {
   "cell_type": "code",
   "execution_count": 11,
   "metadata": {},
   "outputs": [],
   "source": [
    "n = 40\n",
    "xbar = 182\n",
    "sigma = 30\n",
    "alpha = 1-0.95\n",
    "std_error = sigma / np.sqrt(n)\n",
    "dof = n -1\n",
    "talphaby2 = st.t.isf(alpha / 2, dof)\n",
    "margin_error = talphaby2 * std_error"
   ]
  },
  {
   "cell_type": "code",
   "execution_count": 12,
   "metadata": {},
   "outputs": [
    {
     "name": "stdout",
     "output_type": "stream",
     "text": [
      "172.40553457459347 191.59446542540653\n"
     ]
    }
   ],
   "source": [
    "lower_conf_limit = xbar - margin_error\n",
    "upper_conf_limit = xbar + margin_error\n",
    "print(lower_conf_limit, upper_conf_limit)"
   ]
  },
  {
   "cell_type": "code",
   "execution_count": 15,
   "metadata": {},
   "outputs": [
    {
     "data": {
      "text/plain": [
       "(172.40553457459347, 191.59446542540653)"
      ]
     },
     "execution_count": 15,
     "metadata": {},
     "output_type": "execute_result"
    }
   ],
   "source": [
    "st.t.interval(0.95, dof, xbar, std_error) # Condifdence Level of 95%"
   ]
  },
  {
   "cell_type": "code",
   "execution_count": 17,
   "metadata": {},
   "outputs": [
    {
     "data": {
      "text/plain": [
       "(161.44776610403363, 202.55223389596637)"
      ]
     },
     "execution_count": 17,
     "metadata": {},
     "output_type": "execute_result"
    }
   ],
   "source": [
    "st.t.interval(0.9999, dof, xbar, std_error) # Condifdence Level of 99%"
   ]
  },
  {
   "cell_type": "code",
   "execution_count": 20,
   "metadata": {},
   "outputs": [
    {
     "name": "stdout",
     "output_type": "stream",
     "text": [
      "Sample Size =  10\n",
      "Zalphaby2 =  1.959963984540054\n",
      "Talphaby2 =  2.2621571627409915\n",
      "Sample Size =  20\n",
      "Zalphaby2 =  1.959963984540054\n",
      "Talphaby2 =  2.093024054408263\n",
      "Sample Size =  100\n",
      "Zalphaby2 =  1.959963984540054\n",
      "Talphaby2 =  1.9842169515086827\n",
      "Sample Size =  1000\n",
      "Zalphaby2 =  1.959963984540054\n",
      "Talphaby2 =  1.9623414611334487\n"
     ]
    }
   ],
   "source": [
    "alpha = 1 - 0.95\n",
    "n = 10\n",
    "print(\"Sample Size = \", n)\n",
    "print(\"Zalphaby2 = \", st.norm.isf(alpha / 2))\n",
    "print(\"Talphaby2 = \", st.t.isf(alpha / 2, n-1))\n",
    "\n",
    "n = 20\n",
    "print(\"Sample Size = \", n)\n",
    "print(\"Zalphaby2 = \", st.norm.isf(alpha / 2))\n",
    "print(\"Talphaby2 = \", st.t.isf(alpha / 2, n-1))\n",
    "\n",
    "n = 100\n",
    "print(\"Sample Size = \", n)\n",
    "print(\"Zalphaby2 = \", st.norm.isf(alpha / 2))\n",
    "print(\"Talphaby2 = \", st.t.isf(alpha / 2, n-1))\n",
    "\n",
    "n = 1000\n",
    "print(\"Sample Size = \", n)\n",
    "print(\"Zalphaby2 = \", st.norm.isf(alpha / 2))\n",
    "print(\"Talphaby2 = \", st.t.isf(alpha / 2, n-1))"
   ]
  },
  {
   "cell_type": "markdown",
   "metadata": {},
   "source": [
    "#### 3. A financial firm has created 50 portfolios. From them, a sample of 13 portfolios was selected, out of which 8 were found to be underperforming. Construct 99% confidence interval to estimate the population proportion ,Can you estimate the number of underperforming portfolios?"
   ]
  },
  {
   "cell_type": "code",
   "execution_count": 25,
   "metadata": {},
   "outputs": [
    {
     "name": "stdout",
     "output_type": "stream",
     "text": [
      "0.26782280814713805 0.9629464226220927\n",
      "13.391140407356902 48.14732113110464\n"
     ]
    }
   ],
   "source": [
    "n = 13\n",
    "X = 8\n",
    "alpha = 1 - 0.99\n",
    "p = X /n\n",
    "q = 1-p\n",
    "std_error = np.sqrt(p*q/n)\n",
    "zalphaby2 = st.norm.isf(alpha/2)\n",
    "margin_error = zalphaby2 * std_error\n",
    "lower_conf_limit = p - margin_error\n",
    "upper_conf_limit = p + margin_error\n",
    "print(lower_conf_limit, upper_conf_limit) # range in percentage since its considered with probability\n",
    "print(lower_conf_limit*50, upper_conf_limit*50) # to know the range out of 50 Portfolios\n"
   ]
  },
  {
   "cell_type": "code",
   "execution_count": 26,
   "metadata": {},
   "outputs": [
    {
     "data": {
      "text/plain": [
       "(0.26782280814713805, 0.9629464226220927)"
      ]
     },
     "execution_count": 26,
     "metadata": {},
     "output_type": "execute_result"
    }
   ],
   "source": [
    "st.norm.interval(0.99, p, std_error)"
   ]
  },
  {
   "cell_type": "code",
   "execution_count": 27,
   "metadata": {},
   "outputs": [
    {
     "data": {
      "text/plain": [
       "(0.26782280814713805, 0.9629464226220927)"
      ]
     },
     "execution_count": 27,
     "metadata": {},
     "output_type": "execute_result"
    }
   ],
   "source": [
    "from statsmodels.stats.proportion import proportion_confint\n",
    "\n",
    "proportion_confint(X, n, alpha)"
   ]
  },
  {
   "cell_type": "markdown",
   "metadata": {},
   "source": [
    "Hence we can estimate the underperforming portfolios out of 50 as 0.26*50 (13) to 0.96*50 (48) at 99% confidence level"
   ]
  },
  {
   "cell_type": "code",
   "execution_count": 28,
   "metadata": {},
   "outputs": [
    {
     "data": {
      "text/html": [
       "<div>\n",
       "<style scoped>\n",
       "    .dataframe tbody tr th:only-of-type {\n",
       "        vertical-align: middle;\n",
       "    }\n",
       "\n",
       "    .dataframe tbody tr th {\n",
       "        vertical-align: top;\n",
       "    }\n",
       "\n",
       "    .dataframe thead th {\n",
       "        text-align: right;\n",
       "    }\n",
       "</style>\n",
       "<table border=\"1\" class=\"dataframe\">\n",
       "  <thead>\n",
       "    <tr style=\"text-align: right;\">\n",
       "      <th></th>\n",
       "      <th>total_bill</th>\n",
       "      <th>tip</th>\n",
       "      <th>sex</th>\n",
       "      <th>smoker</th>\n",
       "      <th>day</th>\n",
       "      <th>time</th>\n",
       "      <th>size</th>\n",
       "    </tr>\n",
       "  </thead>\n",
       "  <tbody>\n",
       "    <tr>\n",
       "      <th>0</th>\n",
       "      <td>16.99</td>\n",
       "      <td>1.01</td>\n",
       "      <td>Female</td>\n",
       "      <td>No</td>\n",
       "      <td>Sun</td>\n",
       "      <td>Dinner</td>\n",
       "      <td>2</td>\n",
       "    </tr>\n",
       "    <tr>\n",
       "      <th>1</th>\n",
       "      <td>10.34</td>\n",
       "      <td>1.66</td>\n",
       "      <td>Male</td>\n",
       "      <td>No</td>\n",
       "      <td>Sun</td>\n",
       "      <td>Dinner</td>\n",
       "      <td>3</td>\n",
       "    </tr>\n",
       "    <tr>\n",
       "      <th>2</th>\n",
       "      <td>21.01</td>\n",
       "      <td>3.50</td>\n",
       "      <td>Male</td>\n",
       "      <td>No</td>\n",
       "      <td>Sun</td>\n",
       "      <td>Dinner</td>\n",
       "      <td>3</td>\n",
       "    </tr>\n",
       "    <tr>\n",
       "      <th>3</th>\n",
       "      <td>23.68</td>\n",
       "      <td>3.31</td>\n",
       "      <td>Male</td>\n",
       "      <td>No</td>\n",
       "      <td>Sun</td>\n",
       "      <td>Dinner</td>\n",
       "      <td>2</td>\n",
       "    </tr>\n",
       "    <tr>\n",
       "      <th>4</th>\n",
       "      <td>24.59</td>\n",
       "      <td>3.61</td>\n",
       "      <td>Female</td>\n",
       "      <td>No</td>\n",
       "      <td>Sun</td>\n",
       "      <td>Dinner</td>\n",
       "      <td>4</td>\n",
       "    </tr>\n",
       "  </tbody>\n",
       "</table>\n",
       "</div>"
      ],
      "text/plain": [
       "   total_bill   tip     sex smoker  day    time  size\n",
       "0       16.99  1.01  Female     No  Sun  Dinner     2\n",
       "1       10.34  1.66    Male     No  Sun  Dinner     3\n",
       "2       21.01  3.50    Male     No  Sun  Dinner     3\n",
       "3       23.68  3.31    Male     No  Sun  Dinner     2\n",
       "4       24.59  3.61  Female     No  Sun  Dinner     4"
      ]
     },
     "execution_count": 28,
     "metadata": {},
     "output_type": "execute_result"
    }
   ],
   "source": [
    "df = sns.load_dataset('tips')\n",
    "df.head()"
   ]
  },
  {
   "cell_type": "markdown",
   "metadata": {},
   "source": [
    "The Restaurent manager claims that the average total bill is $20, test this claim at 95% level of confidence or 5% of significance ?"
   ]
  },
  {
   "cell_type": "code",
   "execution_count": 29,
   "metadata": {},
   "outputs": [],
   "source": [
    "# step 1: state  H0 & H1 and level of significance (alpha)\n",
    "\n",
    "# H0: mu_tb = 20\n",
    "# H1 mu_tb != 20\n",
    "# significance is 5%\n",
    "alpha = 0.05"
   ]
  },
  {
   "cell_type": "markdown",
   "metadata": {},
   "source": [
    "##### Note: always consider the static data set as Sample of Population Data set irrespective of data set size\n",
    "##### Population data set is always dynamic data set for example Realtime daat set , Time Series data"
   ]
  },
  {
   "cell_type": "code",
   "execution_count": 30,
   "metadata": {},
   "outputs": [
    {
     "name": "stdout",
     "output_type": "stream",
     "text": [
      "-0.37559294451919506\n"
     ]
    }
   ],
   "source": [
    "# Step 2: select appropiate test and compute corresponding test statistics\n",
    "# one sample t test of mean (because of unknown population standard deviation), here standard deviation connot be calculated becuase we are having sample data set.\n",
    "# t_statistic = (xbar - hypothesis(population) mean)/ std_error\n",
    "\n",
    "mu = 20\n",
    "n = len(df.total_bill)\n",
    "xbar = df.total_bill.mean()\n",
    "s = df.total_bill.std()\n",
    "std_error = s / np.sqrt(n)\n",
    "t_statistic = (xbar - mu) / std_error\n",
    "\n",
    "print(t_statistic) # Statistical Value"
   ]
  },
  {
   "cell_type": "code",
   "execution_count": 31,
   "metadata": {},
   "outputs": [
    {
     "name": "stdout",
     "output_type": "stream",
     "text": [
      "-1.9697743954258797\n"
     ]
    }
   ],
   "source": [
    "talphaby2 = st.t.ppf(alpha/2, n - 1)\n",
    "print(talphaby2) # Critical Region value"
   ]
  },
  {
   "cell_type": "markdown",
   "metadata": {},
   "source": [
    "##### Critical Value Approach: (Decision Rule)\n",
    "* If abs (test statistic) < abs(Critical value) > --> fail; to reject H0\n",
    "    else reject H0\n",
    "* since abs(-0.375) < abs(-1.96) ---> failed to reject H0\n",
    "\n",
    "##### It means that the sample is drawn from a population whose mean is $20\n",
    "\n",
    "#### **Conclusion: The Claim by the Restaurent Manager is True**"
   ]
  },
  {
   "cell_type": "code",
   "execution_count": null,
   "metadata": {},
   "outputs": [],
   "source": [
    "st.t.interval(0.95, n-1, xbar, std_error)"
   ]
  },
  {
   "cell_type": "markdown",
   "metadata": {},
   "source": [
    "##### Confidence Interval Approach: (Decision Rule)\n",
    "* If hypothesis value falls in the confidence interval > --> fail; to reject H0\n",
    "    else reject H0\n",
    "* since 20 falls in between **18.66 and 20.90** ---> failed to reject H0\n",
    "\n",
    "##### It means that the sample is drawn from a population whose mean is $20"
   ]
  },
  {
   "cell_type": "code",
   "execution_count": 34,
   "metadata": {},
   "outputs": [
    {
     "name": "stdout",
     "output_type": "stream",
     "text": [
      "0.7075471935626723\n"
     ]
    }
   ],
   "source": [
    "p_value = st.t.cdf(t_statistic, n-1)*2\n",
    "print(p_value)"
   ]
  },
  {
   "cell_type": "markdown",
   "metadata": {},
   "source": [
    "##### P - Value Approach: (Decision Rule)\n",
    "* If p value is greater than alpha > --> fail; to reject H0\n",
    "    else reject H0\n",
    "* since p - value 0.70 > alpha(0.05) ---> failed to reject H0\n",
    "\n",
    "##### It means that the sample is drawn from a population whose mean is $20"
   ]
  },
  {
   "cell_type": "code",
   "execution_count": 35,
   "metadata": {},
   "outputs": [
    {
     "data": {
      "text/plain": [
       "TtestResult(statistic=-0.37559294451919506, pvalue=0.7075471935626723, df=243)"
      ]
     },
     "execution_count": 35,
     "metadata": {},
     "output_type": "execute_result"
    }
   ],
   "source": [
    "st.ttest_1samp(df.total_bill, mu)"
   ]
  },
  {
   "cell_type": "code",
   "execution_count": null,
   "metadata": {},
   "outputs": [],
   "source": []
  },
  {
   "cell_type": "code",
   "execution_count": null,
   "metadata": {},
   "outputs": [],
   "source": []
  }
 ],
 "metadata": {
  "kernelspec": {
   "display_name": "base",
   "language": "python",
   "name": "python3"
  },
  "language_info": {
   "codemirror_mode": {
    "name": "ipython",
    "version": 3
   },
   "file_extension": ".py",
   "mimetype": "text/x-python",
   "name": "python",
   "nbconvert_exporter": "python",
   "pygments_lexer": "ipython3",
   "version": "3.11.7"
  }
 },
 "nbformat": 4,
 "nbformat_minor": 2
}
