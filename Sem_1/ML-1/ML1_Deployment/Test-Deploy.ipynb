{
 "cells": [
  {
   "cell_type": "markdown",
   "metadata": {},
   "source": [
    "## Target perdition using pickle model"
   ]
  },
  {
   "cell_type": "code",
   "execution_count": 1,
   "metadata": {},
   "outputs": [],
   "source": [
    "import pandas as pd\n",
    "import numpy as np\n",
    "import pickle\n",
    "import joblib"
   ]
  },
  {
   "cell_type": "markdown",
   "metadata": {},
   "source": [
    "## Create single record Test dataframe"
   ]
  },
  {
   "cell_type": "code",
   "execution_count": 2,
   "metadata": {},
   "outputs": [],
   "source": [
    "# A general user detail input \n",
    "married='Yes'\n",
    "education='Graduate'\n",
    "applicant_income=1500\n",
    "loan_amount=150\n",
    "credit_history=1"
   ]
  },
  {
   "cell_type": "code",
   "execution_count": 3,
   "metadata": {},
   "outputs": [
    {
     "data": {
      "text/html": [
       "<div>\n",
       "<style scoped>\n",
       "    .dataframe tbody tr th:only-of-type {\n",
       "        vertical-align: middle;\n",
       "    }\n",
       "\n",
       "    .dataframe tbody tr th {\n",
       "        vertical-align: top;\n",
       "    }\n",
       "\n",
       "    .dataframe thead th {\n",
       "        text-align: right;\n",
       "    }\n",
       "</style>\n",
       "<table border=\"1\" class=\"dataframe\">\n",
       "  <thead>\n",
       "    <tr style=\"text-align: right;\">\n",
       "      <th></th>\n",
       "      <th>Married</th>\n",
       "      <th>Education</th>\n",
       "      <th>ApplicantIncome</th>\n",
       "      <th>LoanAmount</th>\n",
       "      <th>Credit_History</th>\n",
       "    </tr>\n",
       "  </thead>\n",
       "  <tbody>\n",
       "    <tr>\n",
       "      <th>0</th>\n",
       "      <td>Yes</td>\n",
       "      <td>Graduate</td>\n",
       "      <td>1500</td>\n",
       "      <td>150</td>\n",
       "      <td>1</td>\n",
       "    </tr>\n",
       "  </tbody>\n",
       "</table>\n",
       "</div>"
      ],
      "text/plain": [
       "  Married Education  ApplicantIncome  LoanAmount  Credit_History\n",
       "0     Yes  Graduate             1500         150               1"
      ]
     },
     "execution_count": 3,
     "metadata": {},
     "output_type": "execute_result"
    }
   ],
   "source": [
    "data = {'Married': ['Yes'], \n",
    "        'Education': ['Graduate'], \n",
    "        'ApplicantIncome': [1500],\n",
    "       'LoanAmount' : [150],\n",
    "       'Credit_History': [1]}\n",
    "\n",
    "df = pd.DataFrame(data)\n",
    "\n",
    "df = df.astype({'Married': object, \n",
    "                'Education': object, \n",
    "                'ApplicantIncome': 'Int64',\n",
    "                 'LoanAmount': 'Int64',\n",
    "                 'Credit_History': 'Int64',\n",
    "               })\n",
    "df"
   ]
  },
  {
   "cell_type": "markdown",
   "metadata": {},
   "source": [
    "## Fetch Model from pickle file"
   ]
  },
  {
   "cell_type": "code",
   "execution_count": 4,
   "metadata": {},
   "outputs": [],
   "source": [
    "#my_model=pickle.load(open('full_pipeline.pkl','rb'))\n",
    "my_model = joblib.load('full_pipeline.pkl') "
   ]
  },
  {
   "cell_type": "markdown",
   "metadata": {},
   "source": [
    "## Predict target"
   ]
  },
  {
   "cell_type": "code",
   "execution_count": 5,
   "metadata": {},
   "outputs": [
    {
     "data": {
      "text/plain": [
       "array([0.2854])"
      ]
     },
     "execution_count": 5,
     "metadata": {},
     "output_type": "execute_result"
    }
   ],
   "source": [
    "my_model.predict(df)"
   ]
  },
  {
   "cell_type": "markdown",
   "metadata": {},
   "source": [
    "## Flask Web APP (on localhost)"
   ]
  },
  {
   "cell_type": "code",
   "execution_count": 8,
   "metadata": {},
   "outputs": [
    {
     "name": "stdout",
     "output_type": "stream",
     "text": [
      "Collecting blinker==1.6.2 (from -r requirments.txt (line 1))\n",
      "  Using cached blinker-1.6.2-py3-none-any.whl.metadata (2.0 kB)\n",
      "Collecting click==8.1.3 (from -r requirments.txt (line 2))\n",
      "  Using cached click-8.1.3-py3-none-any.whl.metadata (3.2 kB)\n",
      "Collecting Flask==2.3.2 (from -r requirments.txt (line 3))\n",
      "  Using cached Flask-2.3.2-py3-none-any.whl.metadata (3.7 kB)\n",
      "Collecting itsdangerous==2.1.2 (from -r requirments.txt (line 4))\n",
      "  Downloading itsdangerous-2.1.2-py3-none-any.whl.metadata (2.9 kB)\n",
      "Collecting Jinja2==3.1.2 (from -r requirments.txt (line 5))\n",
      "  Using cached Jinja2-3.1.2-py3-none-any.whl.metadata (3.5 kB)\n",
      "Collecting joblib==1.3.1 (from -r requirments.txt (line 6))\n",
      "  Using cached joblib-1.3.1-py3-none-any.whl.metadata (5.4 kB)\n",
      "Requirement already satisfied: MarkupSafe==2.1.3 in c:\\users\\lokesh\\anaconda3\\lib\\site-packages (from -r requirments.txt (line 7)) (2.1.3)\n",
      "Collecting numpy==1.25.0 (from -r requirments.txt (line 8))\n",
      "  Using cached numpy-1.25.0-cp311-cp311-win_amd64.whl.metadata (5.7 kB)\n",
      "Collecting pandas==2.0.3 (from -r requirments.txt (line 9))\n",
      "  Using cached pandas-2.0.3-cp311-cp311-win_amd64.whl.metadata (18 kB)\n",
      "Collecting pip==23.1.2 (from -r requirments.txt (line 10))\n",
      "  Using cached pip-23.1.2-py3-none-any.whl.metadata (4.1 kB)\n",
      "Requirement already satisfied: python-dateutil==2.8.2 in c:\\users\\lokesh\\anaconda3\\lib\\site-packages (from -r requirments.txt (line 11)) (2.8.2)\n",
      "Collecting pytz==2023.3 (from -r requirments.txt (line 12))\n",
      "  Using cached pytz-2023.3-py2.py3-none-any.whl.metadata (22 kB)\n",
      "Collecting scikit-learn==1.3.0 (from -r requirments.txt (line 13))\n",
      "  Using cached scikit_learn-1.3.0-cp311-cp311-win_amd64.whl.metadata (11 kB)\n",
      "Collecting scipy==1.11.1 (from -r requirments.txt (line 14))\n",
      "  Using cached scipy-1.11.1-cp311-cp311-win_amd64.whl.metadata (59 kB)\n",
      "Collecting setuptools==67.8.0 (from -r requirments.txt (line 15))\n",
      "  Using cached setuptools-67.8.0-py3-none-any.whl.metadata (6.2 kB)\n",
      "Requirement already satisfied: six==1.16.0 in c:\\users\\lokesh\\anaconda3\\lib\\site-packages (from -r requirments.txt (line 16)) (1.16.0)\n",
      "Collecting threadpoolctl==3.1.0 (from -r requirments.txt (line 17))\n",
      "  Using cached threadpoolctl-3.1.0-py3-none-any.whl.metadata (9.2 kB)\n",
      "Requirement already satisfied: tzdata==2023.3 in c:\\users\\lokesh\\anaconda3\\lib\\site-packages (from -r requirments.txt (line 18)) (2023.3)\n",
      "Collecting Werkzeug==2.3.6 (from -r requirments.txt (line 19))\n",
      "  Using cached Werkzeug-2.3.6-py3-none-any.whl.metadata (4.1 kB)\n",
      "Collecting wheel==0.40.0 (from -r requirments.txt (line 20))\n",
      "  Using cached wheel-0.40.0-py3-none-any.whl.metadata (2.1 kB)\n",
      "Requirement already satisfied: colorama in c:\\users\\lokesh\\anaconda3\\lib\\site-packages (from click==8.1.3->-r requirments.txt (line 2)) (0.4.6)\n",
      "Using cached blinker-1.6.2-py3-none-any.whl (13 kB)\n",
      "Using cached click-8.1.3-py3-none-any.whl (96 kB)\n",
      "Using cached Flask-2.3.2-py3-none-any.whl (96 kB)\n",
      "Downloading itsdangerous-2.1.2-py3-none-any.whl (15 kB)\n",
      "Using cached Jinja2-3.1.2-py3-none-any.whl (133 kB)\n",
      "Using cached joblib-1.3.1-py3-none-any.whl (301 kB)\n",
      "Using cached numpy-1.25.0-cp311-cp311-win_amd64.whl (15.0 MB)\n",
      "Using cached pandas-2.0.3-cp311-cp311-win_amd64.whl (10.6 MB)\n",
      "Using cached pip-23.1.2-py3-none-any.whl (2.1 MB)\n",
      "Using cached pytz-2023.3-py2.py3-none-any.whl (502 kB)\n",
      "Using cached scikit_learn-1.3.0-cp311-cp311-win_amd64.whl (9.2 MB)\n",
      "Using cached scipy-1.11.1-cp311-cp311-win_amd64.whl (44.0 MB)\n",
      "Using cached setuptools-67.8.0-py3-none-any.whl (1.1 MB)\n",
      "Using cached threadpoolctl-3.1.0-py3-none-any.whl (14 kB)\n",
      "Using cached Werkzeug-2.3.6-py3-none-any.whl (242 kB)\n",
      "Using cached wheel-0.40.0-py3-none-any.whl (64 kB)\n"
     ]
    },
    {
     "name": "stderr",
     "output_type": "stream",
     "text": [
      "ERROR: To modify pip, please run the following command:\n",
      "C:\\Users\\lokesh\\anaconda3\\python.exe -m pip install -r requirments.txt\n"
     ]
    }
   ],
   "source": [
    "!pip install -r requirments.txt"
   ]
  },
  {
   "cell_type": "code",
   "execution_count": 9,
   "metadata": {},
   "outputs": [
    {
     "name": "stderr",
     "output_type": "stream",
     "text": [
      "Traceback (most recent call last):\n",
      "  File \"c:\\Users\\lokesh\\Desktop\\DSAI\\DSAI-MTech\\ML-1\\ML1_Deployment\\ml1_deployment_flask\\app.py\", line 7, in <module>\n",
      "    from flask import Flask, render_template, request\n",
      "ModuleNotFoundError: No module named 'flask'\n"
     ]
    }
   ],
   "source": [
    "!python app.py"
   ]
  },
  {
   "cell_type": "code",
   "execution_count": null,
   "metadata": {},
   "outputs": [],
   "source": []
  }
 ],
 "metadata": {
  "authors": [
   {
    "Kaustuv Kunal": "Author1"
   }
  ],
  "kernelspec": {
   "display_name": "Python 3 (ipykernel)",
   "language": "python",
   "name": "python3"
  },
  "language_info": {
   "codemirror_mode": {
    "name": "ipython",
    "version": 3
   },
   "file_extension": ".py",
   "mimetype": "text/x-python",
   "name": "python",
   "nbconvert_exporter": "python",
   "pygments_lexer": "ipython3",
   "version": "3.11.7"
  },
  "title": "Test Model Deploy"
 },
 "nbformat": 4,
 "nbformat_minor": 4
}
