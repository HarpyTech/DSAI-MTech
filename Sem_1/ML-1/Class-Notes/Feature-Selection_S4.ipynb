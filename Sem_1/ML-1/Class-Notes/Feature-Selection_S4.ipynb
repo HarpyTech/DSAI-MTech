{
 "cells": [
  {
   "cell_type": "markdown",
   "metadata": {},
   "source": [
    "## Feature Selection\n",
    "How to select the feature ?\n",
    "\n",
    "* If a Feature is having All Unique values over all rows then drop it.\n",
    "* If a Feature has Null Values more than 40% of population then drop the feature.\n",
    "* If all the five point summary describes same values on all the quartiles (i.e standard deviation is zero) then drop the feature.\n",
    "* \n",
    "* you can select the feature based upon the below items\n",
    "> - P-value\n",
    "> - R^2\n",
    "> - b value\n",
    "> Note: These are called Wrapper methods\n",
    "* Embeded Method\n",
    "\n",
    "\n",
    "Below are technique of feature selection\n",
    "1. **Backward Elimination** \n",
    "2. **Forward Selection**\n",
    "3. **Recursive Feature Elimination**"
   ]
  },
  {
   "cell_type": "code",
   "execution_count": 1,
   "metadata": {},
   "outputs": [],
   "source": [
    "import pyforest"
   ]
  },
  {
   "cell_type": "markdown",
   "metadata": {},
   "source": [
    "## Problem Statement\n",
    "\n",
    "The dataset contains the temperature, humidity, pressure, and so on recorded from different rooms. The data is collected from the sensors that are implanted in different houses. The house temperature and humidity were monitored using a wireless sensor network. We aim is predict the energy used by the appliances in Wh.\n",
    "\n",
    "## About the dataset (Appliances Energy Prediction data)\n",
    "\n",
    "**Appliances**: Energy use in Wh (Target Variable)<br>\n",
    "**lights**: Energy use of light fixtures in the house in Wh<br>\n",
    "**T1**: Temperature in the kitchen area in Celsius<br>\n",
    "**RH_1**: Humidity in the kitchen area in %<br>\n",
    "**T2**: Temperature in the living room area in Celsius<br>\n",
    "**RH_2**: Humidity in the living room area in %<br>\n",
    "**T3**: Temperature in the laundry room area<br>\n",
    "**RH_3**: Humidity in the laundry room area in %<br>\n",
    "**T4**: Temperature in the office room in Celsius<br>\n",
    "**RH_4**: Humidity in the office room in %<br>\n",
    "**T5**: Temperature in the bathroom in Celsius<br>\n",
    "**RH_5**: Humidity in the bathroom in %<br>\n",
    "**T6**: Temperature outside the building (north side) in Celsius<br>\n",
    "**RH_6**: Humidity outside the building (north side) in %<br>\n",
    "**T7**: Temperature in ironing room  in Celsius<br>\n",
    "**RH_7**: Humidity in ironing room in %<br>\n",
    "**T8**: Temperature in teenager room 2 in Celsius<br>\n",
    "**RH_8**: Humidity in teenager room 2 in %<br>\n",
    "**T9**: Temperature in parents room in Celsius<br>\n",
    "**RH_9**: Humidity in parents room in %<br>\n",
    "**T_out**: Temperature outside the building in Celsius<br>\n",
    "**Pres_mm_hg**:  Pressure in mm Hg<br>\n",
    "**RH_out**: Humidity outside the building in %<br>\n",
    "**Windspeed**:  Speed of the wind in m/s<br>\n",
    "**Visibility**:  Visibility of the building from the nearest weather station in km"
   ]
  },
  {
   "cell_type": "code",
   "execution_count": 2,
   "metadata": {},
   "outputs": [
    {
     "data": {
      "application/javascript": "\n        if (window._pyforest_update_imports_cell) { window._pyforest_update_imports_cell('import pandas as pd'); }\n    ",
      "text/plain": [
       "<IPython.core.display.Javascript object>"
      ]
     },
     "metadata": {},
     "output_type": "display_data"
    },
    {
     "data": {
      "text/html": [
       "<div>\n",
       "<style scoped>\n",
       "    .dataframe tbody tr th:only-of-type {\n",
       "        vertical-align: middle;\n",
       "    }\n",
       "\n",
       "    .dataframe tbody tr th {\n",
       "        vertical-align: top;\n",
       "    }\n",
       "\n",
       "    .dataframe thead th {\n",
       "        text-align: right;\n",
       "    }\n",
       "</style>\n",
       "<table border=\"1\" class=\"dataframe\">\n",
       "  <thead>\n",
       "    <tr style=\"text-align: right;\">\n",
       "      <th></th>\n",
       "      <th>Appliances</th>\n",
       "      <th>lights</th>\n",
       "      <th>T1</th>\n",
       "      <th>RH_1</th>\n",
       "      <th>T2</th>\n",
       "      <th>RH_2</th>\n",
       "      <th>T3</th>\n",
       "      <th>RH_3</th>\n",
       "      <th>T4</th>\n",
       "      <th>RH_4</th>\n",
       "      <th>...</th>\n",
       "      <th>RH_7</th>\n",
       "      <th>T8</th>\n",
       "      <th>RH_8</th>\n",
       "      <th>T9</th>\n",
       "      <th>RH_9</th>\n",
       "      <th>T_out</th>\n",
       "      <th>Press_mm_hg</th>\n",
       "      <th>RH_out</th>\n",
       "      <th>Windspeed</th>\n",
       "      <th>Visibility</th>\n",
       "    </tr>\n",
       "  </thead>\n",
       "  <tbody>\n",
       "    <tr>\n",
       "      <th>0</th>\n",
       "      <td>60</td>\n",
       "      <td>20</td>\n",
       "      <td>20.700000</td>\n",
       "      <td>44.700000</td>\n",
       "      <td>19.500000</td>\n",
       "      <td>45.590000</td>\n",
       "      <td>21.390000</td>\n",
       "      <td>41.95</td>\n",
       "      <td>20.566667</td>\n",
       "      <td>45.626667</td>\n",
       "      <td>...</td>\n",
       "      <td>43.290000</td>\n",
       "      <td>20.500000</td>\n",
       "      <td>52.790000</td>\n",
       "      <td>18.306667</td>\n",
       "      <td>47.590000</td>\n",
       "      <td>11.016667</td>\n",
       "      <td>756.533333</td>\n",
       "      <td>88.333333</td>\n",
       "      <td>8.833333</td>\n",
       "      <td>38.166667</td>\n",
       "    </tr>\n",
       "    <tr>\n",
       "      <th>1</th>\n",
       "      <td>60</td>\n",
       "      <td>0</td>\n",
       "      <td>21.290000</td>\n",
       "      <td>37.863333</td>\n",
       "      <td>19.390000</td>\n",
       "      <td>39.663333</td>\n",
       "      <td>21.790000</td>\n",
       "      <td>36.70</td>\n",
       "      <td>20.463333</td>\n",
       "      <td>37.526667</td>\n",
       "      <td>...</td>\n",
       "      <td>32.095000</td>\n",
       "      <td>22.000000</td>\n",
       "      <td>39.223333</td>\n",
       "      <td>19.600000</td>\n",
       "      <td>38.826667</td>\n",
       "      <td>8.350000</td>\n",
       "      <td>761.800000</td>\n",
       "      <td>70.000000</td>\n",
       "      <td>3.500000</td>\n",
       "      <td>40.000000</td>\n",
       "    </tr>\n",
       "    <tr>\n",
       "      <th>2</th>\n",
       "      <td>80</td>\n",
       "      <td>0</td>\n",
       "      <td>21.390000</td>\n",
       "      <td>35.790000</td>\n",
       "      <td>19.290000</td>\n",
       "      <td>37.700000</td>\n",
       "      <td>22.760000</td>\n",
       "      <td>34.29</td>\n",
       "      <td>21.323333</td>\n",
       "      <td>34.730000</td>\n",
       "      <td>...</td>\n",
       "      <td>29.200000</td>\n",
       "      <td>22.390000</td>\n",
       "      <td>37.290000</td>\n",
       "      <td>19.463333</td>\n",
       "      <td>35.500000</td>\n",
       "      <td>6.866667</td>\n",
       "      <td>762.333333</td>\n",
       "      <td>69.666667</td>\n",
       "      <td>3.000000</td>\n",
       "      <td>35.666667</td>\n",
       "    </tr>\n",
       "    <tr>\n",
       "      <th>3</th>\n",
       "      <td>40</td>\n",
       "      <td>0</td>\n",
       "      <td>19.033333</td>\n",
       "      <td>41.826667</td>\n",
       "      <td>18.533333</td>\n",
       "      <td>41.290000</td>\n",
       "      <td>18.100000</td>\n",
       "      <td>43.79</td>\n",
       "      <td>15.890000</td>\n",
       "      <td>47.530000</td>\n",
       "      <td>...</td>\n",
       "      <td>40.138889</td>\n",
       "      <td>19.594444</td>\n",
       "      <td>51.062778</td>\n",
       "      <td>15.100000</td>\n",
       "      <td>46.760000</td>\n",
       "      <td>5.133333</td>\n",
       "      <td>769.583333</td>\n",
       "      <td>92.000000</td>\n",
       "      <td>4.833333</td>\n",
       "      <td>23.166667</td>\n",
       "    </tr>\n",
       "    <tr>\n",
       "      <th>4</th>\n",
       "      <td>60</td>\n",
       "      <td>30</td>\n",
       "      <td>21.700000</td>\n",
       "      <td>46.633333</td>\n",
       "      <td>20.700000</td>\n",
       "      <td>45.900000</td>\n",
       "      <td>22.323333</td>\n",
       "      <td>44.79</td>\n",
       "      <td>21.000000</td>\n",
       "      <td>47.966667</td>\n",
       "      <td>...</td>\n",
       "      <td>45.200000</td>\n",
       "      <td>20.469444</td>\n",
       "      <td>53.189444</td>\n",
       "      <td>18.290000</td>\n",
       "      <td>51.863333</td>\n",
       "      <td>8.633333</td>\n",
       "      <td>757.566667</td>\n",
       "      <td>95.666667</td>\n",
       "      <td>6.000000</td>\n",
       "      <td>55.333333</td>\n",
       "    </tr>\n",
       "  </tbody>\n",
       "</table>\n",
       "<p>5 rows × 25 columns</p>\n",
       "</div>"
      ],
      "text/plain": [
       "   Appliances  lights         T1       RH_1         T2       RH_2         T3  \\\n",
       "0          60      20  20.700000  44.700000  19.500000  45.590000  21.390000   \n",
       "1          60       0  21.290000  37.863333  19.390000  39.663333  21.790000   \n",
       "2          80       0  21.390000  35.790000  19.290000  37.700000  22.760000   \n",
       "3          40       0  19.033333  41.826667  18.533333  41.290000  18.100000   \n",
       "4          60      30  21.700000  46.633333  20.700000  45.900000  22.323333   \n",
       "\n",
       "    RH_3         T4       RH_4  ...       RH_7         T8       RH_8  \\\n",
       "0  41.95  20.566667  45.626667  ...  43.290000  20.500000  52.790000   \n",
       "1  36.70  20.463333  37.526667  ...  32.095000  22.000000  39.223333   \n",
       "2  34.29  21.323333  34.730000  ...  29.200000  22.390000  37.290000   \n",
       "3  43.79  15.890000  47.530000  ...  40.138889  19.594444  51.062778   \n",
       "4  44.79  21.000000  47.966667  ...  45.200000  20.469444  53.189444   \n",
       "\n",
       "          T9       RH_9      T_out  Press_mm_hg     RH_out  Windspeed  \\\n",
       "0  18.306667  47.590000  11.016667   756.533333  88.333333   8.833333   \n",
       "1  19.600000  38.826667   8.350000   761.800000  70.000000   3.500000   \n",
       "2  19.463333  35.500000   6.866667   762.333333  69.666667   3.000000   \n",
       "3  15.100000  46.760000   5.133333   769.583333  92.000000   4.833333   \n",
       "4  18.290000  51.863333   8.633333   757.566667  95.666667   6.000000   \n",
       "\n",
       "   Visibility  \n",
       "0   38.166667  \n",
       "1   40.000000  \n",
       "2   35.666667  \n",
       "3   23.166667  \n",
       "4   55.333333  \n",
       "\n",
       "[5 rows x 25 columns]"
      ]
     },
     "execution_count": 2,
     "metadata": {},
     "output_type": "execute_result"
    }
   ],
   "source": [
    "energy = pd.read_csv(\"../data-sets/energy_data.csv\")\n",
    "\n",
    "energy.head()"
   ]
  },
  {
   "cell_type": "code",
   "execution_count": 3,
   "metadata": {},
   "outputs": [
    {
     "data": {
      "text/html": [
       "<div>\n",
       "<style scoped>\n",
       "    .dataframe tbody tr th:only-of-type {\n",
       "        vertical-align: middle;\n",
       "    }\n",
       "\n",
       "    .dataframe tbody tr th {\n",
       "        vertical-align: top;\n",
       "    }\n",
       "\n",
       "    .dataframe thead th {\n",
       "        text-align: right;\n",
       "    }\n",
       "</style>\n",
       "<table border=\"1\" class=\"dataframe\">\n",
       "  <thead>\n",
       "    <tr style=\"text-align: right;\">\n",
       "      <th></th>\n",
       "      <th>Appliances</th>\n",
       "      <th>lights</th>\n",
       "      <th>T1</th>\n",
       "      <th>RH_1</th>\n",
       "      <th>T2</th>\n",
       "      <th>RH_2</th>\n",
       "      <th>T3</th>\n",
       "      <th>RH_3</th>\n",
       "      <th>T4</th>\n",
       "      <th>RH_4</th>\n",
       "      <th>...</th>\n",
       "      <th>RH_7</th>\n",
       "      <th>T8</th>\n",
       "      <th>RH_8</th>\n",
       "      <th>T9</th>\n",
       "      <th>RH_9</th>\n",
       "      <th>T_out</th>\n",
       "      <th>Press_mm_hg</th>\n",
       "      <th>RH_out</th>\n",
       "      <th>Windspeed</th>\n",
       "      <th>Visibility</th>\n",
       "    </tr>\n",
       "  </thead>\n",
       "  <tbody>\n",
       "    <tr>\n",
       "      <th>count</th>\n",
       "      <td>1000.000000</td>\n",
       "      <td>1000.000000</td>\n",
       "      <td>1000.000000</td>\n",
       "      <td>1000.000000</td>\n",
       "      <td>1000.000000</td>\n",
       "      <td>1000.000000</td>\n",
       "      <td>1000.000000</td>\n",
       "      <td>1000.000000</td>\n",
       "      <td>1000.000000</td>\n",
       "      <td>1000.000000</td>\n",
       "      <td>...</td>\n",
       "      <td>1000.000000</td>\n",
       "      <td>1000.000000</td>\n",
       "      <td>1000.000000</td>\n",
       "      <td>1000.000000</td>\n",
       "      <td>1000.000000</td>\n",
       "      <td>1000.000000</td>\n",
       "      <td>1000.000000</td>\n",
       "      <td>1000.000000</td>\n",
       "      <td>1000.000000</td>\n",
       "      <td>1000.000000</td>\n",
       "    </tr>\n",
       "    <tr>\n",
       "      <th>mean</th>\n",
       "      <td>94.580000</td>\n",
       "      <td>3.880000</td>\n",
       "      <td>21.689083</td>\n",
       "      <td>40.220658</td>\n",
       "      <td>20.308276</td>\n",
       "      <td>40.456847</td>\n",
       "      <td>22.291003</td>\n",
       "      <td>39.193848</td>\n",
       "      <td>20.877548</td>\n",
       "      <td>38.883203</td>\n",
       "      <td>...</td>\n",
       "      <td>35.202685</td>\n",
       "      <td>22.110523</td>\n",
       "      <td>42.876733</td>\n",
       "      <td>19.500280</td>\n",
       "      <td>41.421305</td>\n",
       "      <td>7.270235</td>\n",
       "      <td>755.522126</td>\n",
       "      <td>79.722845</td>\n",
       "      <td>4.057964</td>\n",
       "      <td>38.219167</td>\n",
       "    </tr>\n",
       "    <tr>\n",
       "      <th>std</th>\n",
       "      <td>95.963705</td>\n",
       "      <td>8.075321</td>\n",
       "      <td>1.533835</td>\n",
       "      <td>3.966141</td>\n",
       "      <td>2.123854</td>\n",
       "      <td>4.080899</td>\n",
       "      <td>1.939537</td>\n",
       "      <td>3.171917</td>\n",
       "      <td>1.947205</td>\n",
       "      <td>4.297529</td>\n",
       "      <td>...</td>\n",
       "      <td>5.069127</td>\n",
       "      <td>1.877895</td>\n",
       "      <td>5.208331</td>\n",
       "      <td>1.926965</td>\n",
       "      <td>4.132533</td>\n",
       "      <td>5.207305</td>\n",
       "      <td>7.433976</td>\n",
       "      <td>14.623087</td>\n",
       "      <td>2.454295</td>\n",
       "      <td>11.679127</td>\n",
       "    </tr>\n",
       "    <tr>\n",
       "      <th>min</th>\n",
       "      <td>20.000000</td>\n",
       "      <td>0.000000</td>\n",
       "      <td>16.823333</td>\n",
       "      <td>28.193333</td>\n",
       "      <td>16.200000</td>\n",
       "      <td>24.823333</td>\n",
       "      <td>17.290000</td>\n",
       "      <td>33.200000</td>\n",
       "      <td>15.160000</td>\n",
       "      <td>29.421429</td>\n",
       "      <td>...</td>\n",
       "      <td>23.290000</td>\n",
       "      <td>16.583333</td>\n",
       "      <td>29.600000</td>\n",
       "      <td>15.000000</td>\n",
       "      <td>29.426667</td>\n",
       "      <td>-4.955556</td>\n",
       "      <td>730.700000</td>\n",
       "      <td>24.500000</td>\n",
       "      <td>0.000000</td>\n",
       "      <td>3.333333</td>\n",
       "    </tr>\n",
       "    <tr>\n",
       "      <th>25%</th>\n",
       "      <td>50.000000</td>\n",
       "      <td>0.000000</td>\n",
       "      <td>20.790000</td>\n",
       "      <td>37.200000</td>\n",
       "      <td>18.790000</td>\n",
       "      <td>38.057500</td>\n",
       "      <td>20.823333</td>\n",
       "      <td>36.900000</td>\n",
       "      <td>19.566667</td>\n",
       "      <td>35.484167</td>\n",
       "      <td>...</td>\n",
       "      <td>31.352738</td>\n",
       "      <td>20.910625</td>\n",
       "      <td>39.200000</td>\n",
       "      <td>18.100000</td>\n",
       "      <td>38.421429</td>\n",
       "      <td>3.537500</td>\n",
       "      <td>750.800000</td>\n",
       "      <td>70.000000</td>\n",
       "      <td>2.000000</td>\n",
       "      <td>28.666667</td>\n",
       "    </tr>\n",
       "    <tr>\n",
       "      <th>50%</th>\n",
       "      <td>60.000000</td>\n",
       "      <td>0.000000</td>\n",
       "      <td>21.600000</td>\n",
       "      <td>39.700000</td>\n",
       "      <td>19.890000</td>\n",
       "      <td>40.400000</td>\n",
       "      <td>22.100000</td>\n",
       "      <td>38.500000</td>\n",
       "      <td>20.760000</td>\n",
       "      <td>38.290000</td>\n",
       "      <td>...</td>\n",
       "      <td>34.609111</td>\n",
       "      <td>22.200000</td>\n",
       "      <td>42.352333</td>\n",
       "      <td>19.500000</td>\n",
       "      <td>40.566667</td>\n",
       "      <td>6.841667</td>\n",
       "      <td>755.941667</td>\n",
       "      <td>83.833333</td>\n",
       "      <td>3.666667</td>\n",
       "      <td>40.000000</td>\n",
       "    </tr>\n",
       "    <tr>\n",
       "      <th>75%</th>\n",
       "      <td>100.000000</td>\n",
       "      <td>0.000000</td>\n",
       "      <td>22.533333</td>\n",
       "      <td>42.861667</td>\n",
       "      <td>21.390000</td>\n",
       "      <td>43.200000</td>\n",
       "      <td>23.390000</td>\n",
       "      <td>41.500000</td>\n",
       "      <td>22.100000</td>\n",
       "      <td>41.992500</td>\n",
       "      <td>...</td>\n",
       "      <td>39.000000</td>\n",
       "      <td>23.441857</td>\n",
       "      <td>46.430694</td>\n",
       "      <td>20.600000</td>\n",
       "      <td>44.308333</td>\n",
       "      <td>10.433333</td>\n",
       "      <td>760.937500</td>\n",
       "      <td>91.333333</td>\n",
       "      <td>5.666667</td>\n",
       "      <td>40.000000</td>\n",
       "    </tr>\n",
       "    <tr>\n",
       "      <th>max</th>\n",
       "      <td>800.000000</td>\n",
       "      <td>40.000000</td>\n",
       "      <td>26.066667</td>\n",
       "      <td>54.800000</td>\n",
       "      <td>29.100000</td>\n",
       "      <td>53.249880</td>\n",
       "      <td>28.867143</td>\n",
       "      <td>49.930000</td>\n",
       "      <td>26.100000</td>\n",
       "      <td>50.963333</td>\n",
       "      <td>...</td>\n",
       "      <td>49.444444</td>\n",
       "      <td>27.100000</td>\n",
       "      <td>56.598333</td>\n",
       "      <td>24.434000</td>\n",
       "      <td>52.700000</td>\n",
       "      <td>25.600000</td>\n",
       "      <td>772.200000</td>\n",
       "      <td>100.000000</td>\n",
       "      <td>13.000000</td>\n",
       "      <td>65.000000</td>\n",
       "    </tr>\n",
       "  </tbody>\n",
       "</table>\n",
       "<p>8 rows × 25 columns</p>\n",
       "</div>"
      ],
      "text/plain": [
       "        Appliances       lights           T1         RH_1           T2  \\\n",
       "count  1000.000000  1000.000000  1000.000000  1000.000000  1000.000000   \n",
       "mean     94.580000     3.880000    21.689083    40.220658    20.308276   \n",
       "std      95.963705     8.075321     1.533835     3.966141     2.123854   \n",
       "min      20.000000     0.000000    16.823333    28.193333    16.200000   \n",
       "25%      50.000000     0.000000    20.790000    37.200000    18.790000   \n",
       "50%      60.000000     0.000000    21.600000    39.700000    19.890000   \n",
       "75%     100.000000     0.000000    22.533333    42.861667    21.390000   \n",
       "max     800.000000    40.000000    26.066667    54.800000    29.100000   \n",
       "\n",
       "              RH_2           T3         RH_3           T4         RH_4  ...  \\\n",
       "count  1000.000000  1000.000000  1000.000000  1000.000000  1000.000000  ...   \n",
       "mean     40.456847    22.291003    39.193848    20.877548    38.883203  ...   \n",
       "std       4.080899     1.939537     3.171917     1.947205     4.297529  ...   \n",
       "min      24.823333    17.290000    33.200000    15.160000    29.421429  ...   \n",
       "25%      38.057500    20.823333    36.900000    19.566667    35.484167  ...   \n",
       "50%      40.400000    22.100000    38.500000    20.760000    38.290000  ...   \n",
       "75%      43.200000    23.390000    41.500000    22.100000    41.992500  ...   \n",
       "max      53.249880    28.867143    49.930000    26.100000    50.963333  ...   \n",
       "\n",
       "              RH_7           T8         RH_8           T9         RH_9  \\\n",
       "count  1000.000000  1000.000000  1000.000000  1000.000000  1000.000000   \n",
       "mean     35.202685    22.110523    42.876733    19.500280    41.421305   \n",
       "std       5.069127     1.877895     5.208331     1.926965     4.132533   \n",
       "min      23.290000    16.583333    29.600000    15.000000    29.426667   \n",
       "25%      31.352738    20.910625    39.200000    18.100000    38.421429   \n",
       "50%      34.609111    22.200000    42.352333    19.500000    40.566667   \n",
       "75%      39.000000    23.441857    46.430694    20.600000    44.308333   \n",
       "max      49.444444    27.100000    56.598333    24.434000    52.700000   \n",
       "\n",
       "             T_out  Press_mm_hg       RH_out    Windspeed   Visibility  \n",
       "count  1000.000000  1000.000000  1000.000000  1000.000000  1000.000000  \n",
       "mean      7.270235   755.522126    79.722845     4.057964    38.219167  \n",
       "std       5.207305     7.433976    14.623087     2.454295    11.679127  \n",
       "min      -4.955556   730.700000    24.500000     0.000000     3.333333  \n",
       "25%       3.537500   750.800000    70.000000     2.000000    28.666667  \n",
       "50%       6.841667   755.941667    83.833333     3.666667    40.000000  \n",
       "75%      10.433333   760.937500    91.333333     5.666667    40.000000  \n",
       "max      25.600000   772.200000   100.000000    13.000000    65.000000  \n",
       "\n",
       "[8 rows x 25 columns]"
      ]
     },
     "execution_count": 3,
     "metadata": {},
     "output_type": "execute_result"
    }
   ],
   "source": [
    "energy.describe()"
   ]
  },
  {
   "cell_type": "markdown",
   "metadata": {},
   "source": [
    "#### Here lights column is having 0 in all the five point summary so drop the feature"
   ]
  },
  {
   "cell_type": "code",
   "execution_count": 4,
   "metadata": {},
   "outputs": [],
   "source": [
    "energy = energy.drop('lights', axis=1)"
   ]
  },
  {
   "cell_type": "code",
   "execution_count": 5,
   "metadata": {},
   "outputs": [
    {
     "data": {
      "application/javascript": "\n        if (window._pyforest_update_imports_cell) { window._pyforest_update_imports_cell('import matplotlib.pyplot as plt\\nimport pandas as pd'); }\n    ",
      "text/plain": [
       "<IPython.core.display.Javascript object>"
      ]
     },
     "metadata": {},
     "output_type": "display_data"
    },
    {
     "data": {
      "application/javascript": "\n        if (window._pyforest_update_imports_cell) { window._pyforest_update_imports_cell('import matplotlib.pyplot as plt\\nimport pandas as pd\\nimport seaborn as sns'); }\n    ",
      "text/plain": [
       "<IPython.core.display.Javascript object>"
      ]
     },
     "metadata": {},
     "output_type": "display_data"
    },
    {
     "data": {
      "application/javascript": "\n        if (window._pyforest_update_imports_cell) { window._pyforest_update_imports_cell('import matplotlib.pyplot as plt\\nimport pandas as pd\\nimport seaborn as sns'); }\n    ",
      "text/plain": [
       "<IPython.core.display.Javascript object>"
      ]
     },
     "metadata": {},
     "output_type": "display_data"
    },
    {
     "data": {
      "application/javascript": "\n        if (window._pyforest_update_imports_cell) { window._pyforest_update_imports_cell('import matplotlib.pyplot as plt\\nimport pandas as pd\\nimport seaborn as sns'); }\n    ",
      "text/plain": [
       "<IPython.core.display.Javascript object>"
      ]
     },
     "metadata": {},
     "output_type": "display_data"
    },
    {
     "data": {
      "application/javascript": "\n        if (window._pyforest_update_imports_cell) { window._pyforest_update_imports_cell('import matplotlib.pyplot as plt\\nimport pandas as pd\\nimport seaborn as sns'); }\n    ",
      "text/plain": [
       "<IPython.core.display.Javascript object>"
      ]
     },
     "metadata": {},
     "output_type": "display_data"
    },
    {
     "data": {
      "application/javascript": "\n        if (window._pyforest_update_imports_cell) { window._pyforest_update_imports_cell('import matplotlib.pyplot as plt\\nimport pandas as pd\\nimport seaborn as sns'); }\n    ",
      "text/plain": [
       "<IPython.core.display.Javascript object>"
      ]
     },
     "metadata": {},
     "output_type": "display_data"
    },
    {
     "data": {
      "application/javascript": "\n        if (window._pyforest_update_imports_cell) { window._pyforest_update_imports_cell('import matplotlib.pyplot as plt\\nimport pandas as pd\\nimport seaborn as sns'); }\n    ",
      "text/plain": [
       "<IPython.core.display.Javascript object>"
      ]
     },
     "metadata": {},
     "output_type": "display_data"
    },
    {
     "data": {
      "application/javascript": "\n        if (window._pyforest_update_imports_cell) { window._pyforest_update_imports_cell('import matplotlib.pyplot as plt\\nimport pandas as pd\\nimport seaborn as sns'); }\n    ",
      "text/plain": [
       "<IPython.core.display.Javascript object>"
      ]
     },
     "metadata": {},
     "output_type": "display_data"
    },
    {
     "data": {
      "application/javascript": "\n        if (window._pyforest_update_imports_cell) { window._pyforest_update_imports_cell('import matplotlib.pyplot as plt\\nimport pandas as pd\\nimport seaborn as sns'); }\n    ",
      "text/plain": [
       "<IPython.core.display.Javascript object>"
      ]
     },
     "metadata": {},
     "output_type": "display_data"
    },
    {
     "data": {
      "application/javascript": "\n        if (window._pyforest_update_imports_cell) { window._pyforest_update_imports_cell('import matplotlib.pyplot as plt\\nimport pandas as pd\\nimport seaborn as sns'); }\n    ",
      "text/plain": [
       "<IPython.core.display.Javascript object>"
      ]
     },
     "metadata": {},
     "output_type": "display_data"
    },
    {
     "data": {
      "application/javascript": "\n        if (window._pyforest_update_imports_cell) { window._pyforest_update_imports_cell('import matplotlib.pyplot as plt\\nimport pandas as pd\\nimport seaborn as sns'); }\n    ",
      "text/plain": [
       "<IPython.core.display.Javascript object>"
      ]
     },
     "metadata": {},
     "output_type": "display_data"
    },
    {
     "data": {
      "application/javascript": "\n        if (window._pyforest_update_imports_cell) { window._pyforest_update_imports_cell('import matplotlib.pyplot as plt\\nimport pandas as pd\\nimport seaborn as sns'); }\n    ",
      "text/plain": [
       "<IPython.core.display.Javascript object>"
      ]
     },
     "metadata": {},
     "output_type": "display_data"
    },
    {
     "data": {
      "application/javascript": "\n        if (window._pyforest_update_imports_cell) { window._pyforest_update_imports_cell('import matplotlib.pyplot as plt\\nimport pandas as pd\\nimport seaborn as sns'); }\n    ",
      "text/plain": [
       "<IPython.core.display.Javascript object>"
      ]
     },
     "metadata": {},
     "output_type": "display_data"
    },
    {
     "data": {
      "application/javascript": "\n        if (window._pyforest_update_imports_cell) { window._pyforest_update_imports_cell('import matplotlib.pyplot as plt\\nimport pandas as pd\\nimport seaborn as sns'); }\n    ",
      "text/plain": [
       "<IPython.core.display.Javascript object>"
      ]
     },
     "metadata": {},
     "output_type": "display_data"
    },
    {
     "data": {
      "application/javascript": "\n        if (window._pyforest_update_imports_cell) { window._pyforest_update_imports_cell('import matplotlib.pyplot as plt\\nimport pandas as pd\\nimport seaborn as sns'); }\n    ",
      "text/plain": [
       "<IPython.core.display.Javascript object>"
      ]
     },
     "metadata": {},
     "output_type": "display_data"
    },
    {
     "data": {
      "application/javascript": "\n        if (window._pyforest_update_imports_cell) { window._pyforest_update_imports_cell('import matplotlib.pyplot as plt\\nimport pandas as pd\\nimport seaborn as sns'); }\n    ",
      "text/plain": [
       "<IPython.core.display.Javascript object>"
      ]
     },
     "metadata": {},
     "output_type": "display_data"
    },
    {
     "data": {
      "application/javascript": "\n        if (window._pyforest_update_imports_cell) { window._pyforest_update_imports_cell('import matplotlib.pyplot as plt\\nimport pandas as pd\\nimport seaborn as sns'); }\n    ",
      "text/plain": [
       "<IPython.core.display.Javascript object>"
      ]
     },
     "metadata": {},
     "output_type": "display_data"
    },
    {
     "data": {
      "image/png": "[encoded data removed]",
      "text/plain": [
       "<Figure size 2000x2000 with 16 Axes>"
      ]
     },
     "metadata": {},
     "output_type": "display_data"
    }
   ],
   "source": [
    "fig, ax = plt.subplots(4, 4, figsize=(20, 20))\n",
    "\n",
    "for variable, subplot in zip(energy.columns, ax.flatten()):\n",
    "    z = sns.boxplot(x = energy[variable], orient = \"h\",whis=1.5 , ax=subplot) # plot the boxplot\n",
    "    z.set_xlabel(variable, fontsize = 20)                                   # set the x-axis label"
   ]
  },
  {
   "cell_type": "markdown",
   "metadata": {},
   "source": [
    "### To treat the Outliers we are going with Caping method to treat the outliers in the Sample"
   ]
  },
  {
   "cell_type": "code",
   "execution_count": 6,
   "metadata": {},
   "outputs": [
    {
     "data": {
      "application/javascript": "\n        if (window._pyforest_update_imports_cell) { window._pyforest_update_imports_cell('import numpy as np\\nimport matplotlib.pyplot as plt\\nimport pandas as pd\\nimport seaborn as sns'); }\n    ",
      "text/plain": [
       "<IPython.core.display.Javascript object>"
      ]
     },
     "metadata": {},
     "output_type": "display_data"
    },
    {
     "data": {
      "application/javascript": "\n        if (window._pyforest_update_imports_cell) { window._pyforest_update_imports_cell('import numpy as np\\nimport matplotlib.pyplot as plt\\nimport pandas as pd\\nimport seaborn as sns'); }\n    ",
      "text/plain": [
       "<IPython.core.display.Javascript object>"
      ]
     },
     "metadata": {},
     "output_type": "display_data"
    },
    {
     "data": {
      "application/javascript": "\n        if (window._pyforest_update_imports_cell) { window._pyforest_update_imports_cell('import numpy as np\\nimport matplotlib.pyplot as plt\\nimport pandas as pd\\nimport seaborn as sns'); }\n    ",
      "text/plain": [
       "<IPython.core.display.Javascript object>"
      ]
     },
     "metadata": {},
     "output_type": "display_data"
    },
    {
     "data": {
      "application/javascript": "\n        if (window._pyforest_update_imports_cell) { window._pyforest_update_imports_cell('import numpy as np\\nimport matplotlib.pyplot as plt\\nimport pandas as pd\\nimport seaborn as sns'); }\n    ",
      "text/plain": [
       "<IPython.core.display.Javascript object>"
      ]
     },
     "metadata": {},
     "output_type": "display_data"
    },
    {
     "data": {
      "application/javascript": "\n        if (window._pyforest_update_imports_cell) { window._pyforest_update_imports_cell('import numpy as np\\nimport matplotlib.pyplot as plt\\nimport pandas as pd\\nimport seaborn as sns'); }\n    ",
      "text/plain": [
       "<IPython.core.display.Javascript object>"
      ]
     },
     "metadata": {},
     "output_type": "display_data"
    },
    {
     "data": {
      "application/javascript": "\n        if (window._pyforest_update_imports_cell) { window._pyforest_update_imports_cell('import numpy as np\\nimport matplotlib.pyplot as plt\\nimport pandas as pd\\nimport seaborn as sns'); }\n    ",
      "text/plain": [
       "<IPython.core.display.Javascript object>"
      ]
     },
     "metadata": {},
     "output_type": "display_data"
    },
    {
     "data": {
      "application/javascript": "\n        if (window._pyforest_update_imports_cell) { window._pyforest_update_imports_cell('import numpy as np\\nimport matplotlib.pyplot as plt\\nimport pandas as pd\\nimport seaborn as sns'); }\n    ",
      "text/plain": [
       "<IPython.core.display.Javascript object>"
      ]
     },
     "metadata": {},
     "output_type": "display_data"
    },
    {
     "data": {
      "application/javascript": "\n        if (window._pyforest_update_imports_cell) { window._pyforest_update_imports_cell('import numpy as np\\nimport matplotlib.pyplot as plt\\nimport pandas as pd\\nimport seaborn as sns'); }\n    ",
      "text/plain": [
       "<IPython.core.display.Javascript object>"
      ]
     },
     "metadata": {},
     "output_type": "display_data"
    },
    {
     "data": {
      "application/javascript": "\n        if (window._pyforest_update_imports_cell) { window._pyforest_update_imports_cell('import numpy as np\\nimport matplotlib.pyplot as plt\\nimport pandas as pd\\nimport seaborn as sns'); }\n    ",
      "text/plain": [
       "<IPython.core.display.Javascript object>"
      ]
     },
     "metadata": {},
     "output_type": "display_data"
    },
    {
     "data": {
      "application/javascript": "\n        if (window._pyforest_update_imports_cell) { window._pyforest_update_imports_cell('import numpy as np\\nimport matplotlib.pyplot as plt\\nimport pandas as pd\\nimport seaborn as sns'); }\n    ",
      "text/plain": [
       "<IPython.core.display.Javascript object>"
      ]
     },
     "metadata": {},
     "output_type": "display_data"
    },
    {
     "data": {
      "application/javascript": "\n        if (window._pyforest_update_imports_cell) { window._pyforest_update_imports_cell('import numpy as np\\nimport matplotlib.pyplot as plt\\nimport pandas as pd\\nimport seaborn as sns'); }\n    ",
      "text/plain": [
       "<IPython.core.display.Javascript object>"
      ]
     },
     "metadata": {},
     "output_type": "display_data"
    },
    {
     "data": {
      "application/javascript": "\n        if (window._pyforest_update_imports_cell) { window._pyforest_update_imports_cell('import numpy as np\\nimport matplotlib.pyplot as plt\\nimport pandas as pd\\nimport seaborn as sns'); }\n    ",
      "text/plain": [
       "<IPython.core.display.Javascript object>"
      ]
     },
     "metadata": {},
     "output_type": "display_data"
    },
    {
     "data": {
      "application/javascript": "\n        if (window._pyforest_update_imports_cell) { window._pyforest_update_imports_cell('import numpy as np\\nimport matplotlib.pyplot as plt\\nimport pandas as pd\\nimport seaborn as sns'); }\n    ",
      "text/plain": [
       "<IPython.core.display.Javascript object>"
      ]
     },
     "metadata": {},
     "output_type": "display_data"
    },
    {
     "data": {
      "application/javascript": "\n        if (window._pyforest_update_imports_cell) { window._pyforest_update_imports_cell('import numpy as np\\nimport matplotlib.pyplot as plt\\nimport pandas as pd\\nimport seaborn as sns'); }\n    ",
      "text/plain": [
       "<IPython.core.display.Javascript object>"
      ]
     },
     "metadata": {},
     "output_type": "display_data"
    },
    {
     "data": {
      "application/javascript": "\n        if (window._pyforest_update_imports_cell) { window._pyforest_update_imports_cell('import numpy as np\\nimport matplotlib.pyplot as plt\\nimport pandas as pd\\nimport seaborn as sns'); }\n    ",
      "text/plain": [
       "<IPython.core.display.Javascript object>"
      ]
     },
     "metadata": {},
     "output_type": "display_data"
    },
    {
     "data": {
      "application/javascript": "\n        if (window._pyforest_update_imports_cell) { window._pyforest_update_imports_cell('import numpy as np\\nimport matplotlib.pyplot as plt\\nimport pandas as pd\\nimport seaborn as sns'); }\n    ",
      "text/plain": [
       "<IPython.core.display.Javascript object>"
      ]
     },
     "metadata": {},
     "output_type": "display_data"
    },
    {
     "data": {
      "application/javascript": "\n        if (window._pyforest_update_imports_cell) { window._pyforest_update_imports_cell('import numpy as np\\nimport matplotlib.pyplot as plt\\nimport pandas as pd\\nimport seaborn as sns'); }\n    ",
      "text/plain": [
       "<IPython.core.display.Javascript object>"
      ]
     },
     "metadata": {},
     "output_type": "display_data"
    },
    {
     "data": {
      "application/javascript": "\n        if (window._pyforest_update_imports_cell) { window._pyforest_update_imports_cell('import numpy as np\\nimport matplotlib.pyplot as plt\\nimport pandas as pd\\nimport seaborn as sns'); }\n    ",
      "text/plain": [
       "<IPython.core.display.Javascript object>"
      ]
     },
     "metadata": {},
     "output_type": "display_data"
    },
    {
     "data": {
      "application/javascript": "\n        if (window._pyforest_update_imports_cell) { window._pyforest_update_imports_cell('import numpy as np\\nimport matplotlib.pyplot as plt\\nimport pandas as pd\\nimport seaborn as sns'); }\n    ",
      "text/plain": [
       "<IPython.core.display.Javascript object>"
      ]
     },
     "metadata": {},
     "output_type": "display_data"
    },
    {
     "data": {
      "application/javascript": "\n        if (window._pyforest_update_imports_cell) { window._pyforest_update_imports_cell('import numpy as np\\nimport matplotlib.pyplot as plt\\nimport pandas as pd\\nimport seaborn as sns'); }\n    ",
      "text/plain": [
       "<IPython.core.display.Javascript object>"
      ]
     },
     "metadata": {},
     "output_type": "display_data"
    },
    {
     "data": {
      "application/javascript": "\n        if (window._pyforest_update_imports_cell) { window._pyforest_update_imports_cell('import numpy as np\\nimport matplotlib.pyplot as plt\\nimport pandas as pd\\nimport seaborn as sns'); }\n    ",
      "text/plain": [
       "<IPython.core.display.Javascript object>"
      ]
     },
     "metadata": {},
     "output_type": "display_data"
    },
    {
     "data": {
      "application/javascript": "\n        if (window._pyforest_update_imports_cell) { window._pyforest_update_imports_cell('import numpy as np\\nimport matplotlib.pyplot as plt\\nimport pandas as pd\\nimport seaborn as sns'); }\n    ",
      "text/plain": [
       "<IPython.core.display.Javascript object>"
      ]
     },
     "metadata": {},
     "output_type": "display_data"
    },
    {
     "data": {
      "application/javascript": "\n        if (window._pyforest_update_imports_cell) { window._pyforest_update_imports_cell('import numpy as np\\nimport matplotlib.pyplot as plt\\nimport pandas as pd\\nimport seaborn as sns'); }\n    ",
      "text/plain": [
       "<IPython.core.display.Javascript object>"
      ]
     },
     "metadata": {},
     "output_type": "display_data"
    },
    {
     "data": {
      "application/javascript": "\n        if (window._pyforest_update_imports_cell) { window._pyforest_update_imports_cell('import numpy as np\\nimport matplotlib.pyplot as plt\\nimport pandas as pd\\nimport seaborn as sns'); }\n    ",
      "text/plain": [
       "<IPython.core.display.Javascript object>"
      ]
     },
     "metadata": {},
     "output_type": "display_data"
    },
    {
     "data": {
      "application/javascript": "\n        if (window._pyforest_update_imports_cell) { window._pyforest_update_imports_cell('import numpy as np\\nimport matplotlib.pyplot as plt\\nimport pandas as pd\\nimport seaborn as sns'); }\n    ",
      "text/plain": [
       "<IPython.core.display.Javascript object>"
      ]
     },
     "metadata": {},
     "output_type": "display_data"
    },
    {
     "data": {
      "application/javascript": "\n        if (window._pyforest_update_imports_cell) { window._pyforest_update_imports_cell('import numpy as np\\nimport matplotlib.pyplot as plt\\nimport pandas as pd\\nimport seaborn as sns'); }\n    ",
      "text/plain": [
       "<IPython.core.display.Javascript object>"
      ]
     },
     "metadata": {},
     "output_type": "display_data"
    },
    {
     "data": {
      "application/javascript": "\n        if (window._pyforest_update_imports_cell) { window._pyforest_update_imports_cell('import numpy as np\\nimport matplotlib.pyplot as plt\\nimport pandas as pd\\nimport seaborn as sns'); }\n    ",
      "text/plain": [
       "<IPython.core.display.Javascript object>"
      ]
     },
     "metadata": {},
     "output_type": "display_data"
    },
    {
     "data": {
      "application/javascript": "\n        if (window._pyforest_update_imports_cell) { window._pyforest_update_imports_cell('import numpy as np\\nimport matplotlib.pyplot as plt\\nimport pandas as pd\\nimport seaborn as sns'); }\n    ",
      "text/plain": [
       "<IPython.core.display.Javascript object>"
      ]
     },
     "metadata": {},
     "output_type": "display_data"
    },
    {
     "data": {
      "application/javascript": "\n        if (window._pyforest_update_imports_cell) { window._pyforest_update_imports_cell('import numpy as np\\nimport matplotlib.pyplot as plt\\nimport pandas as pd\\nimport seaborn as sns'); }\n    ",
      "text/plain": [
       "<IPython.core.display.Javascript object>"
      ]
     },
     "metadata": {},
     "output_type": "display_data"
    },
    {
     "data": {
      "application/javascript": "\n        if (window._pyforest_update_imports_cell) { window._pyforest_update_imports_cell('import numpy as np\\nimport matplotlib.pyplot as plt\\nimport pandas as pd\\nimport seaborn as sns'); }\n    ",
      "text/plain": [
       "<IPython.core.display.Javascript object>"
      ]
     },
     "metadata": {},
     "output_type": "display_data"
    },
    {
     "data": {
      "application/javascript": "\n        if (window._pyforest_update_imports_cell) { window._pyforest_update_imports_cell('import numpy as np\\nimport matplotlib.pyplot as plt\\nimport pandas as pd\\nimport seaborn as sns'); }\n    ",
      "text/plain": [
       "<IPython.core.display.Javascript object>"
      ]
     },
     "metadata": {},
     "output_type": "display_data"
    },
    {
     "data": {
      "application/javascript": "\n        if (window._pyforest_update_imports_cell) { window._pyforest_update_imports_cell('import numpy as np\\nimport matplotlib.pyplot as plt\\nimport pandas as pd\\nimport seaborn as sns'); }\n    ",
      "text/plain": [
       "<IPython.core.display.Javascript object>"
      ]
     },
     "metadata": {},
     "output_type": "display_data"
    },
    {
     "data": {
      "application/javascript": "\n        if (window._pyforest_update_imports_cell) { window._pyforest_update_imports_cell('import numpy as np\\nimport matplotlib.pyplot as plt\\nimport pandas as pd\\nimport seaborn as sns'); }\n    ",
      "text/plain": [
       "<IPython.core.display.Javascript object>"
      ]
     },
     "metadata": {},
     "output_type": "display_data"
    },
    {
     "data": {
      "application/javascript": "\n        if (window._pyforest_update_imports_cell) { window._pyforest_update_imports_cell('import numpy as np\\nimport matplotlib.pyplot as plt\\nimport pandas as pd\\nimport seaborn as sns'); }\n    ",
      "text/plain": [
       "<IPython.core.display.Javascript object>"
      ]
     },
     "metadata": {},
     "output_type": "display_data"
    },
    {
     "data": {
      "application/javascript": "\n        if (window._pyforest_update_imports_cell) { window._pyforest_update_imports_cell('import numpy as np\\nimport matplotlib.pyplot as plt\\nimport pandas as pd\\nimport seaborn as sns'); }\n    ",
      "text/plain": [
       "<IPython.core.display.Javascript object>"
      ]
     },
     "metadata": {},
     "output_type": "display_data"
    },
    {
     "data": {
      "application/javascript": "\n        if (window._pyforest_update_imports_cell) { window._pyforest_update_imports_cell('import numpy as np\\nimport matplotlib.pyplot as plt\\nimport pandas as pd\\nimport seaborn as sns'); }\n    ",
      "text/plain": [
       "<IPython.core.display.Javascript object>"
      ]
     },
     "metadata": {},
     "output_type": "display_data"
    },
    {
     "data": {
      "application/javascript": "\n        if (window._pyforest_update_imports_cell) { window._pyforest_update_imports_cell('import numpy as np\\nimport matplotlib.pyplot as plt\\nimport pandas as pd\\nimport seaborn as sns'); }\n    ",
      "text/plain": [
       "<IPython.core.display.Javascript object>"
      ]
     },
     "metadata": {},
     "output_type": "display_data"
    },
    {
     "data": {
      "application/javascript": "\n        if (window._pyforest_update_imports_cell) { window._pyforest_update_imports_cell('import numpy as np\\nimport matplotlib.pyplot as plt\\nimport pandas as pd\\nimport seaborn as sns'); }\n    ",
      "text/plain": [
       "<IPython.core.display.Javascript object>"
      ]
     },
     "metadata": {},
     "output_type": "display_data"
    },
    {
     "data": {
      "application/javascript": "\n        if (window._pyforest_update_imports_cell) { window._pyforest_update_imports_cell('import numpy as np\\nimport matplotlib.pyplot as plt\\nimport pandas as pd\\nimport seaborn as sns'); }\n    ",
      "text/plain": [
       "<IPython.core.display.Javascript object>"
      ]
     },
     "metadata": {},
     "output_type": "display_data"
    },
    {
     "data": {
      "application/javascript": "\n        if (window._pyforest_update_imports_cell) { window._pyforest_update_imports_cell('import numpy as np\\nimport matplotlib.pyplot as plt\\nimport pandas as pd\\nimport seaborn as sns'); }\n    ",
      "text/plain": [
       "<IPython.core.display.Javascript object>"
      ]
     },
     "metadata": {},
     "output_type": "display_data"
    },
    {
     "data": {
      "application/javascript": "\n        if (window._pyforest_update_imports_cell) { window._pyforest_update_imports_cell('import numpy as np\\nimport matplotlib.pyplot as plt\\nimport pandas as pd\\nimport seaborn as sns'); }\n    ",
      "text/plain": [
       "<IPython.core.display.Javascript object>"
      ]
     },
     "metadata": {},
     "output_type": "display_data"
    },
    {
     "data": {
      "application/javascript": "\n        if (window._pyforest_update_imports_cell) { window._pyforest_update_imports_cell('import numpy as np\\nimport matplotlib.pyplot as plt\\nimport pandas as pd\\nimport seaborn as sns'); }\n    ",
      "text/plain": [
       "<IPython.core.display.Javascript object>"
      ]
     },
     "metadata": {},
     "output_type": "display_data"
    },
    {
     "data": {
      "application/javascript": "\n        if (window._pyforest_update_imports_cell) { window._pyforest_update_imports_cell('import numpy as np\\nimport matplotlib.pyplot as plt\\nimport pandas as pd\\nimport seaborn as sns'); }\n    ",
      "text/plain": [
       "<IPython.core.display.Javascript object>"
      ]
     },
     "metadata": {},
     "output_type": "display_data"
    },
    {
     "data": {
      "application/javascript": "\n        if (window._pyforest_update_imports_cell) { window._pyforest_update_imports_cell('import numpy as np\\nimport matplotlib.pyplot as plt\\nimport pandas as pd\\nimport seaborn as sns'); }\n    ",
      "text/plain": [
       "<IPython.core.display.Javascript object>"
      ]
     },
     "metadata": {},
     "output_type": "display_data"
    },
    {
     "data": {
      "application/javascript": "\n        if (window._pyforest_update_imports_cell) { window._pyforest_update_imports_cell('import numpy as np\\nimport matplotlib.pyplot as plt\\nimport pandas as pd\\nimport seaborn as sns'); }\n    ",
      "text/plain": [
       "<IPython.core.display.Javascript object>"
      ]
     },
     "metadata": {},
     "output_type": "display_data"
    },
    {
     "data": {
      "application/javascript": "\n        if (window._pyforest_update_imports_cell) { window._pyforest_update_imports_cell('import numpy as np\\nimport matplotlib.pyplot as plt\\nimport pandas as pd\\nimport seaborn as sns'); }\n    ",
      "text/plain": [
       "<IPython.core.display.Javascript object>"
      ]
     },
     "metadata": {},
     "output_type": "display_data"
    },
    {
     "data": {
      "application/javascript": "\n        if (window._pyforest_update_imports_cell) { window._pyforest_update_imports_cell('import numpy as np\\nimport matplotlib.pyplot as plt\\nimport pandas as pd\\nimport seaborn as sns'); }\n    ",
      "text/plain": [
       "<IPython.core.display.Javascript object>"
      ]
     },
     "metadata": {},
     "output_type": "display_data"
    },
    {
     "data": {
      "application/javascript": "\n        if (window._pyforest_update_imports_cell) { window._pyforest_update_imports_cell('import numpy as np\\nimport matplotlib.pyplot as plt\\nimport pandas as pd\\nimport seaborn as sns'); }\n    ",
      "text/plain": [
       "<IPython.core.display.Javascript object>"
      ]
     },
     "metadata": {},
     "output_type": "display_data"
    }
   ],
   "source": [
    "for i in energy.columns:\n",
    "    q1 = energy[i].quantile(0.25)\n",
    "    q3 = energy[i].quantile(0.75)\n",
    "\n",
    "    iqr = q3-q1\n",
    "    lb = q1 - 1.5*iqr\n",
    "    ub = q3 + 1.5*iqr\n",
    "\n",
    "    energy[i] = np.where(energy[i] < lb, energy[i].quantile(0.01), energy[i])\n",
    "    energy[i] = np.where(energy[i] > ub, energy[i].quantile(0.9), energy[i])"
   ]
  },
  {
   "cell_type": "code",
   "execution_count": 7,
   "metadata": {},
   "outputs": [
    {
     "data": {
      "application/javascript": "\n        if (window._pyforest_update_imports_cell) { window._pyforest_update_imports_cell('import numpy as np\\nimport matplotlib.pyplot as plt\\nimport pandas as pd\\nimport seaborn as sns'); }\n    ",
      "text/plain": [
       "<IPython.core.display.Javascript object>"
      ]
     },
     "metadata": {},
     "output_type": "display_data"
    },
    {
     "data": {
      "application/javascript": "\n        if (window._pyforest_update_imports_cell) { window._pyforest_update_imports_cell('import numpy as np\\nimport matplotlib.pyplot as plt\\nimport pandas as pd\\nimport seaborn as sns'); }\n    ",
      "text/plain": [
       "<IPython.core.display.Javascript object>"
      ]
     },
     "metadata": {},
     "output_type": "display_data"
    },
    {
     "data": {
      "application/javascript": "\n        if (window._pyforest_update_imports_cell) { window._pyforest_update_imports_cell('import numpy as np\\nimport matplotlib.pyplot as plt\\nimport pandas as pd\\nimport seaborn as sns'); }\n    ",
      "text/plain": [
       "<IPython.core.display.Javascript object>"
      ]
     },
     "metadata": {},
     "output_type": "display_data"
    },
    {
     "data": {
      "application/javascript": "\n        if (window._pyforest_update_imports_cell) { window._pyforest_update_imports_cell('import numpy as np\\nimport matplotlib.pyplot as plt\\nimport pandas as pd\\nimport seaborn as sns'); }\n    ",
      "text/plain": [
       "<IPython.core.display.Javascript object>"
      ]
     },
     "metadata": {},
     "output_type": "display_data"
    },
    {
     "data": {
      "application/javascript": "\n        if (window._pyforest_update_imports_cell) { window._pyforest_update_imports_cell('import numpy as np\\nimport matplotlib.pyplot as plt\\nimport pandas as pd\\nimport seaborn as sns'); }\n    ",
      "text/plain": [
       "<IPython.core.display.Javascript object>"
      ]
     },
     "metadata": {},
     "output_type": "display_data"
    },
    {
     "data": {
      "application/javascript": "\n        if (window._pyforest_update_imports_cell) { window._pyforest_update_imports_cell('import numpy as np\\nimport matplotlib.pyplot as plt\\nimport pandas as pd\\nimport seaborn as sns'); }\n    ",
      "text/plain": [
       "<IPython.core.display.Javascript object>"
      ]
     },
     "metadata": {},
     "output_type": "display_data"
    },
    {
     "data": {
      "application/javascript": "\n        if (window._pyforest_update_imports_cell) { window._pyforest_update_imports_cell('import numpy as np\\nimport matplotlib.pyplot as plt\\nimport pandas as pd\\nimport seaborn as sns'); }\n    ",
      "text/plain": [
       "<IPython.core.display.Javascript object>"
      ]
     },
     "metadata": {},
     "output_type": "display_data"
    },
    {
     "data": {
      "application/javascript": "\n        if (window._pyforest_update_imports_cell) { window._pyforest_update_imports_cell('import numpy as np\\nimport matplotlib.pyplot as plt\\nimport pandas as pd\\nimport seaborn as sns'); }\n    ",
      "text/plain": [
       "<IPython.core.display.Javascript object>"
      ]
     },
     "metadata": {},
     "output_type": "display_data"
    },
    {
     "data": {
      "application/javascript": "\n        if (window._pyforest_update_imports_cell) { window._pyforest_update_imports_cell('import numpy as np\\nimport matplotlib.pyplot as plt\\nimport pandas as pd\\nimport seaborn as sns'); }\n    ",
      "text/plain": [
       "<IPython.core.display.Javascript object>"
      ]
     },
     "metadata": {},
     "output_type": "display_data"
    },
    {
     "data": {
      "application/javascript": "\n        if (window._pyforest_update_imports_cell) { window._pyforest_update_imports_cell('import numpy as np\\nimport matplotlib.pyplot as plt\\nimport pandas as pd\\nimport seaborn as sns'); }\n    ",
      "text/plain": [
       "<IPython.core.display.Javascript object>"
      ]
     },
     "metadata": {},
     "output_type": "display_data"
    },
    {
     "data": {
      "application/javascript": "\n        if (window._pyforest_update_imports_cell) { window._pyforest_update_imports_cell('import numpy as np\\nimport matplotlib.pyplot as plt\\nimport pandas as pd\\nimport seaborn as sns'); }\n    ",
      "text/plain": [
       "<IPython.core.display.Javascript object>"
      ]
     },
     "metadata": {},
     "output_type": "display_data"
    },
    {
     "data": {
      "application/javascript": "\n        if (window._pyforest_update_imports_cell) { window._pyforest_update_imports_cell('import numpy as np\\nimport matplotlib.pyplot as plt\\nimport pandas as pd\\nimport seaborn as sns'); }\n    ",
      "text/plain": [
       "<IPython.core.display.Javascript object>"
      ]
     },
     "metadata": {},
     "output_type": "display_data"
    },
    {
     "data": {
      "application/javascript": "\n        if (window._pyforest_update_imports_cell) { window._pyforest_update_imports_cell('import numpy as np\\nimport matplotlib.pyplot as plt\\nimport pandas as pd\\nimport seaborn as sns'); }\n    ",
      "text/plain": [
       "<IPython.core.display.Javascript object>"
      ]
     },
     "metadata": {},
     "output_type": "display_data"
    },
    {
     "data": {
      "application/javascript": "\n        if (window._pyforest_update_imports_cell) { window._pyforest_update_imports_cell('import numpy as np\\nimport matplotlib.pyplot as plt\\nimport pandas as pd\\nimport seaborn as sns'); }\n    ",
      "text/plain": [
       "<IPython.core.display.Javascript object>"
      ]
     },
     "metadata": {},
     "output_type": "display_data"
    },
    {
     "data": {
      "application/javascript": "\n        if (window._pyforest_update_imports_cell) { window._pyforest_update_imports_cell('import numpy as np\\nimport matplotlib.pyplot as plt\\nimport pandas as pd\\nimport seaborn as sns'); }\n    ",
      "text/plain": [
       "<IPython.core.display.Javascript object>"
      ]
     },
     "metadata": {},
     "output_type": "display_data"
    },
    {
     "data": {
      "application/javascript": "\n        if (window._pyforest_update_imports_cell) { window._pyforest_update_imports_cell('import numpy as np\\nimport matplotlib.pyplot as plt\\nimport pandas as pd\\nimport seaborn as sns'); }\n    ",
      "text/plain": [
       "<IPython.core.display.Javascript object>"
      ]
     },
     "metadata": {},
     "output_type": "display_data"
    },
    {
     "data": {
      "application/javascript": "\n        if (window._pyforest_update_imports_cell) { window._pyforest_update_imports_cell('import numpy as np\\nimport matplotlib.pyplot as plt\\nimport pandas as pd\\nimport seaborn as sns'); }\n    ",
      "text/plain": [
       "<IPython.core.display.Javascript object>"
      ]
     },
     "metadata": {},
     "output_type": "display_data"
    },
    {
     "data": {
      "image/png": "[encoded data removed]",
      "text/plain": [
       "<Figure size 2000x2000 with 16 Axes>"
      ]
     },
     "metadata": {},
     "output_type": "display_data"
    }
   ],
   "source": [
    "fig, ax = plt.subplots(4, 4, figsize=(20, 20))\n",
    "\n",
    "for variable, subplot in zip(energy.columns, ax.flatten()):\n",
    "    z = sns.boxplot(x = energy[variable], orient = \"h\",whis=1.5 , ax=subplot) # plot the boxplot\n",
    "    z.set_xlabel(variable, fontsize = 20)"
   ]
  },
  {
   "cell_type": "code",
   "execution_count": 8,
   "metadata": {},
   "outputs": [
    {
     "data": {
      "text/plain": [
       "0"
      ]
     },
     "execution_count": 8,
     "metadata": {},
     "output_type": "execute_result"
    }
   ],
   "source": [
    "energy.isnull().sum().sum() # 0 denotes that there is no Missing Values"
   ]
  },
  {
   "cell_type": "code",
   "execution_count": 9,
   "metadata": {},
   "outputs": [
    {
     "data": {
      "text/html": [
       "<div>\n",
       "<style scoped>\n",
       "    .dataframe tbody tr th:only-of-type {\n",
       "        vertical-align: middle;\n",
       "    }\n",
       "\n",
       "    .dataframe tbody tr th {\n",
       "        vertical-align: top;\n",
       "    }\n",
       "\n",
       "    .dataframe thead th {\n",
       "        text-align: right;\n",
       "    }\n",
       "</style>\n",
       "<table border=\"1\" class=\"dataframe\">\n",
       "  <thead>\n",
       "    <tr style=\"text-align: right;\">\n",
       "      <th></th>\n",
       "      <th>Appliances</th>\n",
       "      <th>T1</th>\n",
       "      <th>RH_1</th>\n",
       "      <th>T2</th>\n",
       "      <th>RH_2</th>\n",
       "      <th>T3</th>\n",
       "      <th>RH_3</th>\n",
       "      <th>T4</th>\n",
       "      <th>RH_4</th>\n",
       "      <th>T5</th>\n",
       "      <th>...</th>\n",
       "      <th>RH_7</th>\n",
       "      <th>T8</th>\n",
       "      <th>RH_8</th>\n",
       "      <th>T9</th>\n",
       "      <th>RH_9</th>\n",
       "      <th>T_out</th>\n",
       "      <th>Press_mm_hg</th>\n",
       "      <th>RH_out</th>\n",
       "      <th>Windspeed</th>\n",
       "      <th>Visibility</th>\n",
       "    </tr>\n",
       "  </thead>\n",
       "  <tbody>\n",
       "    <tr>\n",
       "      <th>count</th>\n",
       "      <td>1000.00000</td>\n",
       "      <td>1000.000000</td>\n",
       "      <td>1000.000000</td>\n",
       "      <td>1000.000000</td>\n",
       "      <td>1000.000000</td>\n",
       "      <td>1000.000000</td>\n",
       "      <td>1000.000000</td>\n",
       "      <td>1000.000000</td>\n",
       "      <td>1000.000000</td>\n",
       "      <td>1000.000000</td>\n",
       "      <td>...</td>\n",
       "      <td>1000.000000</td>\n",
       "      <td>1000.000000</td>\n",
       "      <td>1000.000000</td>\n",
       "      <td>1000.000000</td>\n",
       "      <td>1000.000000</td>\n",
       "      <td>1000.000000</td>\n",
       "      <td>1000.000000</td>\n",
       "      <td>1000.000000</td>\n",
       "      <td>1000.000000</td>\n",
       "      <td>1000.000000</td>\n",
       "    </tr>\n",
       "    <tr>\n",
       "      <th>mean</th>\n",
       "      <td>76.49000</td>\n",
       "      <td>21.662343</td>\n",
       "      <td>40.177857</td>\n",
       "      <td>20.200596</td>\n",
       "      <td>40.441785</td>\n",
       "      <td>22.267316</td>\n",
       "      <td>39.188093</td>\n",
       "      <td>20.874301</td>\n",
       "      <td>38.883203</td>\n",
       "      <td>19.592496</td>\n",
       "      <td>...</td>\n",
       "      <td>35.202685</td>\n",
       "      <td>22.113608</td>\n",
       "      <td>42.876733</td>\n",
       "      <td>19.496681</td>\n",
       "      <td>41.429011</td>\n",
       "      <td>7.134435</td>\n",
       "      <td>755.553372</td>\n",
       "      <td>79.793145</td>\n",
       "      <td>4.028464</td>\n",
       "      <td>37.854195</td>\n",
       "    </tr>\n",
       "    <tr>\n",
       "      <th>std</th>\n",
       "      <td>38.40905</td>\n",
       "      <td>1.451204</td>\n",
       "      <td>3.841120</td>\n",
       "      <td>1.862205</td>\n",
       "      <td>3.937239</td>\n",
       "      <td>1.887691</td>\n",
       "      <td>3.157607</td>\n",
       "      <td>1.920966</td>\n",
       "      <td>4.297529</td>\n",
       "      <td>1.747256</td>\n",
       "      <td>...</td>\n",
       "      <td>5.069127</td>\n",
       "      <td>1.869671</td>\n",
       "      <td>5.208331</td>\n",
       "      <td>1.919469</td>\n",
       "      <td>4.113791</td>\n",
       "      <td>4.896667</td>\n",
       "      <td>7.343905</td>\n",
       "      <td>14.402851</td>\n",
       "      <td>2.379624</td>\n",
       "      <td>10.637561</td>\n",
       "    </tr>\n",
       "    <tr>\n",
       "      <th>min</th>\n",
       "      <td>20.00000</td>\n",
       "      <td>18.258400</td>\n",
       "      <td>29.726667</td>\n",
       "      <td>16.200000</td>\n",
       "      <td>30.287400</td>\n",
       "      <td>17.290000</td>\n",
       "      <td>33.200000</td>\n",
       "      <td>15.800000</td>\n",
       "      <td>29.421429</td>\n",
       "      <td>15.390000</td>\n",
       "      <td>...</td>\n",
       "      <td>23.290000</td>\n",
       "      <td>17.200000</td>\n",
       "      <td>29.600000</td>\n",
       "      <td>15.000000</td>\n",
       "      <td>30.500000</td>\n",
       "      <td>-4.955556</td>\n",
       "      <td>736.050000</td>\n",
       "      <td>38.980000</td>\n",
       "      <td>0.000000</td>\n",
       "      <td>15.000000</td>\n",
       "    </tr>\n",
       "    <tr>\n",
       "      <th>25%</th>\n",
       "      <td>50.00000</td>\n",
       "      <td>20.790000</td>\n",
       "      <td>37.200000</td>\n",
       "      <td>18.790000</td>\n",
       "      <td>38.057500</td>\n",
       "      <td>20.823333</td>\n",
       "      <td>36.900000</td>\n",
       "      <td>19.566667</td>\n",
       "      <td>35.484167</td>\n",
       "      <td>18.290000</td>\n",
       "      <td>...</td>\n",
       "      <td>31.352738</td>\n",
       "      <td>20.910625</td>\n",
       "      <td>39.200000</td>\n",
       "      <td>18.100000</td>\n",
       "      <td>38.421429</td>\n",
       "      <td>3.537500</td>\n",
       "      <td>750.800000</td>\n",
       "      <td>70.000000</td>\n",
       "      <td>2.000000</td>\n",
       "      <td>28.666667</td>\n",
       "    </tr>\n",
       "    <tr>\n",
       "      <th>50%</th>\n",
       "      <td>60.00000</td>\n",
       "      <td>21.600000</td>\n",
       "      <td>39.700000</td>\n",
       "      <td>19.890000</td>\n",
       "      <td>40.400000</td>\n",
       "      <td>22.100000</td>\n",
       "      <td>38.500000</td>\n",
       "      <td>20.760000</td>\n",
       "      <td>38.290000</td>\n",
       "      <td>19.417500</td>\n",
       "      <td>...</td>\n",
       "      <td>34.609111</td>\n",
       "      <td>22.200000</td>\n",
       "      <td>42.352333</td>\n",
       "      <td>19.500000</td>\n",
       "      <td>40.566667</td>\n",
       "      <td>6.841667</td>\n",
       "      <td>755.941667</td>\n",
       "      <td>83.833333</td>\n",
       "      <td>3.666667</td>\n",
       "      <td>40.000000</td>\n",
       "    </tr>\n",
       "    <tr>\n",
       "      <th>75%</th>\n",
       "      <td>100.00000</td>\n",
       "      <td>22.533333</td>\n",
       "      <td>42.861667</td>\n",
       "      <td>21.390000</td>\n",
       "      <td>43.200000</td>\n",
       "      <td>23.390000</td>\n",
       "      <td>41.500000</td>\n",
       "      <td>22.100000</td>\n",
       "      <td>41.992500</td>\n",
       "      <td>20.666667</td>\n",
       "      <td>...</td>\n",
       "      <td>39.000000</td>\n",
       "      <td>23.441857</td>\n",
       "      <td>46.430694</td>\n",
       "      <td>20.600000</td>\n",
       "      <td>44.308333</td>\n",
       "      <td>10.433333</td>\n",
       "      <td>760.937500</td>\n",
       "      <td>91.333333</td>\n",
       "      <td>5.666667</td>\n",
       "      <td>40.000000</td>\n",
       "    </tr>\n",
       "    <tr>\n",
       "      <th>max</th>\n",
       "      <td>170.00000</td>\n",
       "      <td>25.100000</td>\n",
       "      <td>51.293636</td>\n",
       "      <td>25.230000</td>\n",
       "      <td>50.790000</td>\n",
       "      <td>27.096364</td>\n",
       "      <td>47.056364</td>\n",
       "      <td>25.890000</td>\n",
       "      <td>50.963333</td>\n",
       "      <td>24.200000</td>\n",
       "      <td>...</td>\n",
       "      <td>49.444444</td>\n",
       "      <td>27.100000</td>\n",
       "      <td>56.598333</td>\n",
       "      <td>24.200000</td>\n",
       "      <td>52.700000</td>\n",
       "      <td>20.766667</td>\n",
       "      <td>772.200000</td>\n",
       "      <td>100.000000</td>\n",
       "      <td>11.000000</td>\n",
       "      <td>58.033333</td>\n",
       "    </tr>\n",
       "  </tbody>\n",
       "</table>\n",
       "<p>8 rows × 24 columns</p>\n",
       "</div>"
      ],
      "text/plain": [
       "       Appliances           T1         RH_1           T2         RH_2  \\\n",
       "count  1000.00000  1000.000000  1000.000000  1000.000000  1000.000000   \n",
       "mean     76.49000    21.662343    40.177857    20.200596    40.441785   \n",
       "std      38.40905     1.451204     3.841120     1.862205     3.937239   \n",
       "min      20.00000    18.258400    29.726667    16.200000    30.287400   \n",
       "25%      50.00000    20.790000    37.200000    18.790000    38.057500   \n",
       "50%      60.00000    21.600000    39.700000    19.890000    40.400000   \n",
       "75%     100.00000    22.533333    42.861667    21.390000    43.200000   \n",
       "max     170.00000    25.100000    51.293636    25.230000    50.790000   \n",
       "\n",
       "                T3         RH_3           T4         RH_4           T5  ...  \\\n",
       "count  1000.000000  1000.000000  1000.000000  1000.000000  1000.000000  ...   \n",
       "mean     22.267316    39.188093    20.874301    38.883203    19.592496  ...   \n",
       "std       1.887691     3.157607     1.920966     4.297529     1.747256  ...   \n",
       "min      17.290000    33.200000    15.800000    29.421429    15.390000  ...   \n",
       "25%      20.823333    36.900000    19.566667    35.484167    18.290000  ...   \n",
       "50%      22.100000    38.500000    20.760000    38.290000    19.417500  ...   \n",
       "75%      23.390000    41.500000    22.100000    41.992500    20.666667  ...   \n",
       "max      27.096364    47.056364    25.890000    50.963333    24.200000  ...   \n",
       "\n",
       "              RH_7           T8         RH_8           T9         RH_9  \\\n",
       "count  1000.000000  1000.000000  1000.000000  1000.000000  1000.000000   \n",
       "mean     35.202685    22.113608    42.876733    19.496681    41.429011   \n",
       "std       5.069127     1.869671     5.208331     1.919469     4.113791   \n",
       "min      23.290000    17.200000    29.600000    15.000000    30.500000   \n",
       "25%      31.352738    20.910625    39.200000    18.100000    38.421429   \n",
       "50%      34.609111    22.200000    42.352333    19.500000    40.566667   \n",
       "75%      39.000000    23.441857    46.430694    20.600000    44.308333   \n",
       "max      49.444444    27.100000    56.598333    24.200000    52.700000   \n",
       "\n",
       "             T_out  Press_mm_hg       RH_out    Windspeed   Visibility  \n",
       "count  1000.000000  1000.000000  1000.000000  1000.000000  1000.000000  \n",
       "mean      7.134435   755.553372    79.793145     4.028464    37.854195  \n",
       "std       4.896667     7.343905    14.402851     2.379624    10.637561  \n",
       "min      -4.955556   736.050000    38.980000     0.000000    15.000000  \n",
       "25%       3.537500   750.800000    70.000000     2.000000    28.666667  \n",
       "50%       6.841667   755.941667    83.833333     3.666667    40.000000  \n",
       "75%      10.433333   760.937500    91.333333     5.666667    40.000000  \n",
       "max      20.766667   772.200000   100.000000    11.000000    58.033333  \n",
       "\n",
       "[8 rows x 24 columns]"
      ]
     },
     "execution_count": 9,
     "metadata": {},
     "output_type": "execute_result"
    }
   ],
   "source": [
    "energy.describe()"
   ]
  },
  {
   "cell_type": "markdown",
   "metadata": {},
   "source": [
    "## Split the Features to Dependant variable and the Target Feature"
   ]
  },
  {
   "cell_type": "code",
   "execution_count": 10,
   "metadata": {},
   "outputs": [],
   "source": [
    "X = energy.drop('Appliances', axis=1) # Dependant Features from which the Predictions of Target will be made\n",
    "Y = energy.Appliances # Target Feature"
   ]
  },
  {
   "cell_type": "code",
   "execution_count": 11,
   "metadata": {},
   "outputs": [
    {
     "data": {
      "application/javascript": "\n        if (window._pyforest_update_imports_cell) { window._pyforest_update_imports_cell('import numpy as np\\nimport matplotlib.pyplot as plt\\nimport pandas as pd\\nimport seaborn as sns'); }\n    ",
      "text/plain": [
       "<IPython.core.display.Javascript object>"
      ]
     },
     "metadata": {},
     "output_type": "display_data"
    },
    {
     "data": {
      "text/html": [
       "<div>\n",
       "<style scoped>\n",
       "    .dataframe tbody tr th:only-of-type {\n",
       "        vertical-align: middle;\n",
       "    }\n",
       "\n",
       "    .dataframe tbody tr th {\n",
       "        vertical-align: top;\n",
       "    }\n",
       "\n",
       "    .dataframe thead th {\n",
       "        text-align: right;\n",
       "    }\n",
       "</style>\n",
       "<table border=\"1\" class=\"dataframe\">\n",
       "  <thead>\n",
       "    <tr style=\"text-align: right;\">\n",
       "      <th></th>\n",
       "      <th>T1</th>\n",
       "      <th>RH_1</th>\n",
       "      <th>T2</th>\n",
       "      <th>RH_2</th>\n",
       "      <th>T3</th>\n",
       "      <th>RH_3</th>\n",
       "      <th>T4</th>\n",
       "      <th>RH_4</th>\n",
       "      <th>T5</th>\n",
       "      <th>RH_5</th>\n",
       "      <th>...</th>\n",
       "      <th>RH_7</th>\n",
       "      <th>T8</th>\n",
       "      <th>RH_8</th>\n",
       "      <th>T9</th>\n",
       "      <th>RH_9</th>\n",
       "      <th>T_out</th>\n",
       "      <th>Press_mm_hg</th>\n",
       "      <th>RH_out</th>\n",
       "      <th>Windspeed</th>\n",
       "      <th>Visibility</th>\n",
       "    </tr>\n",
       "  </thead>\n",
       "  <tbody>\n",
       "    <tr>\n",
       "      <th>0</th>\n",
       "      <td>-0.663466</td>\n",
       "      <td>1.177887</td>\n",
       "      <td>-0.376407</td>\n",
       "      <td>1.308224</td>\n",
       "      <td>-0.464989</td>\n",
       "      <td>0.875121</td>\n",
       "      <td>-0.160226</td>\n",
       "      <td>1.569934</td>\n",
       "      <td>-0.877526</td>\n",
       "      <td>0.467548</td>\n",
       "      <td>...</td>\n",
       "      <td>1.596204</td>\n",
       "      <td>-0.863476</td>\n",
       "      <td>1.904300</td>\n",
       "      <td>-0.620281</td>\n",
       "      <td>1.498392</td>\n",
       "      <td>0.793228</td>\n",
       "      <td>0.133506</td>\n",
       "      <td>0.593248</td>\n",
       "      <td>2.020182</td>\n",
       "      <td>0.029389</td>\n",
       "    </tr>\n",
       "    <tr>\n",
       "      <th>1</th>\n",
       "      <td>-0.256704</td>\n",
       "      <td>-0.602866</td>\n",
       "      <td>-0.435506</td>\n",
       "      <td>-0.197814</td>\n",
       "      <td>-0.252984</td>\n",
       "      <td>-0.788362</td>\n",
       "      <td>-0.214045</td>\n",
       "      <td>-0.315813</td>\n",
       "      <td>-0.115952</td>\n",
       "      <td>-1.082950</td>\n",
       "      <td>...</td>\n",
       "      <td>-0.613368</td>\n",
       "      <td>-0.060794</td>\n",
       "      <td>-0.701804</td>\n",
       "      <td>0.053854</td>\n",
       "      <td>-0.632907</td>\n",
       "      <td>0.248368</td>\n",
       "      <td>0.851012</td>\n",
       "      <td>-0.680285</td>\n",
       "      <td>-0.222190</td>\n",
       "      <td>0.201821</td>\n",
       "    </tr>\n",
       "    <tr>\n",
       "      <th>2</th>\n",
       "      <td>-0.187761</td>\n",
       "      <td>-1.142910</td>\n",
       "      <td>-0.489233</td>\n",
       "      <td>-0.696721</td>\n",
       "      <td>0.261129</td>\n",
       "      <td>-1.551980</td>\n",
       "      <td>0.233871</td>\n",
       "      <td>-0.966900</td>\n",
       "      <td>-0.667568</td>\n",
       "      <td>-0.982780</td>\n",
       "      <td>...</td>\n",
       "      <td>-1.184758</td>\n",
       "      <td>0.147903</td>\n",
       "      <td>-1.073190</td>\n",
       "      <td>-0.017382</td>\n",
       "      <td>-1.441974</td>\n",
       "      <td>-0.054711</td>\n",
       "      <td>0.923671</td>\n",
       "      <td>-0.703440</td>\n",
       "      <td>-0.432412</td>\n",
       "      <td>-0.205745</td>\n",
       "    </tr>\n",
       "    <tr>\n",
       "      <th>3</th>\n",
       "      <td>-1.812513</td>\n",
       "      <td>0.429467</td>\n",
       "      <td>-0.895764</td>\n",
       "      <td>0.215542</td>\n",
       "      <td>-2.208731</td>\n",
       "      <td>1.458132</td>\n",
       "      <td>-2.595983</td>\n",
       "      <td>2.013046</td>\n",
       "      <td>-2.406401</td>\n",
       "      <td>0.168638</td>\n",
       "      <td>...</td>\n",
       "      <td>0.974265</td>\n",
       "      <td>-1.348058</td>\n",
       "      <td>1.572508</td>\n",
       "      <td>-2.291718</td>\n",
       "      <td>1.296531</td>\n",
       "      <td>-0.408870</td>\n",
       "      <td>1.911378</td>\n",
       "      <td>0.847955</td>\n",
       "      <td>0.338403</td>\n",
       "      <td>-1.381414</td>\n",
       "    </tr>\n",
       "    <tr>\n",
       "      <th>4</th>\n",
       "      <td>0.025962</td>\n",
       "      <td>1.681464</td>\n",
       "      <td>0.268313</td>\n",
       "      <td>1.386999</td>\n",
       "      <td>0.029690</td>\n",
       "      <td>1.774986</td>\n",
       "      <td>0.065468</td>\n",
       "      <td>2.114706</td>\n",
       "      <td>0.004297</td>\n",
       "      <td>1.049473</td>\n",
       "      <td>...</td>\n",
       "      <td>1.973183</td>\n",
       "      <td>-0.879827</td>\n",
       "      <td>1.981032</td>\n",
       "      <td>-0.628968</td>\n",
       "      <td>2.537694</td>\n",
       "      <td>0.306259</td>\n",
       "      <td>0.274282</td>\n",
       "      <td>1.102661</td>\n",
       "      <td>0.828922</td>\n",
       "      <td>1.643975</td>\n",
       "    </tr>\n",
       "  </tbody>\n",
       "</table>\n",
       "<p>5 rows × 23 columns</p>\n",
       "</div>"
      ],
      "text/plain": [
       "         T1      RH_1        T2      RH_2        T3      RH_3        T4  \\\n",
       "0 -0.663466  1.177887 -0.376407  1.308224 -0.464989  0.875121 -0.160226   \n",
       "1 -0.256704 -0.602866 -0.435506 -0.197814 -0.252984 -0.788362 -0.214045   \n",
       "2 -0.187761 -1.142910 -0.489233 -0.696721  0.261129 -1.551980  0.233871   \n",
       "3 -1.812513  0.429467 -0.895764  0.215542 -2.208731  1.458132 -2.595983   \n",
       "4  0.025962  1.681464  0.268313  1.386999  0.029690  1.774986  0.065468   \n",
       "\n",
       "       RH_4        T5      RH_5  ...      RH_7        T8      RH_8        T9  \\\n",
       "0  1.569934 -0.877526  0.467548  ...  1.596204 -0.863476  1.904300 -0.620281   \n",
       "1 -0.315813 -0.115952 -1.082950  ... -0.613368 -0.060794 -0.701804  0.053854   \n",
       "2 -0.966900 -0.667568 -0.982780  ... -1.184758  0.147903 -1.073190 -0.017382   \n",
       "3  2.013046 -2.406401  0.168638  ...  0.974265 -1.348058  1.572508 -2.291718   \n",
       "4  2.114706  0.004297  1.049473  ...  1.973183 -0.879827  1.981032 -0.628968   \n",
       "\n",
       "       RH_9     T_out  Press_mm_hg    RH_out  Windspeed  Visibility  \n",
       "0  1.498392  0.793228     0.133506  0.593248   2.020182    0.029389  \n",
       "1 -0.632907  0.248368     0.851012 -0.680285  -0.222190    0.201821  \n",
       "2 -1.441974 -0.054711     0.923671 -0.703440  -0.432412   -0.205745  \n",
       "3  1.296531 -0.408870     1.911378  0.847955   0.338403   -1.381414  \n",
       "4  2.537694  0.306259     0.274282  1.102661   0.828922    1.643975  \n",
       "\n",
       "[5 rows x 23 columns]"
      ]
     },
     "execution_count": 11,
     "metadata": {},
     "output_type": "execute_result"
    }
   ],
   "source": [
    "from sklearn.preprocessing import StandardScaler\n",
    "\n",
    "sc = StandardScaler()\n",
    "\n",
    "X_sc = sc.fit_transform(X)\n",
    "X_sc = pd.DataFrame(X_sc, columns=X.columns)\n",
    "\n",
    "X_sc.head()"
   ]
  },
  {
   "cell_type": "code",
   "execution_count": 12,
   "metadata": {},
   "outputs": [
    {
     "data": {
      "text/plain": [
       "1.0092023763616773"
      ]
     },
     "execution_count": 12,
     "metadata": {},
     "output_type": "execute_result"
    }
   ],
   "source": [
    "Y.skew()"
   ]
  },
  {
   "cell_type": "code",
   "execution_count": 13,
   "metadata": {},
   "outputs": [
    {
     "data": {
      "application/javascript": "\n        if (window._pyforest_update_imports_cell) { window._pyforest_update_imports_cell('import numpy as np\\nimport matplotlib.pyplot as plt\\nimport pandas as pd\\nimport seaborn as sns'); }\n    ",
      "text/plain": [
       "<IPython.core.display.Javascript object>"
      ]
     },
     "metadata": {},
     "output_type": "display_data"
    },
    {
     "name": "stderr",
     "output_type": "stream",
     "text": [
      "C:\\Users\\lokesh\\AppData\\Local\\Temp\\ipykernel_41540\\1412474975.py:1: UserWarning: \n",
      "\n",
      "`distplot` is a deprecated function and will be removed in seaborn v0.14.0.\n",
      "\n",
      "Please adapt your code to use either `displot` (a figure-level function with\n",
      "similar flexibility) or `histplot` (an axes-level function for histograms).\n",
      "\n",
      "For a guide to updating your code to use the new functions, please see\n",
      "https://gist.github.com/mwaskom/de44147ed2974457ad6372750bbe5751\n",
      "\n",
      "  sns.distplot(Y, kde=True)\n",
      "c:\\Users\\lokesh\\anaconda3\\Lib\\site-packages\\seaborn\\_oldcore.py:1119: FutureWarning: use_inf_as_na option is deprecated and will be removed in a future version. Convert inf values to NaN before operating instead.\n",
      "  with pd.option_context('mode.use_inf_as_na', True):\n"
     ]
    },
    {
     "data": {
      "text/plain": [
       "<Axes: xlabel='Appliances', ylabel='Density'>"
      ]
     },
     "execution_count": 13,
     "metadata": {},
     "output_type": "execute_result"
    },
    {
     "data": {
      "image/png": "[encoded data removed]",
      "text/plain": [
       "<Figure size 640x480 with 1 Axes>"
      ]
     },
     "metadata": {},
     "output_type": "display_data"
    }
   ],
   "source": [
    "sns.distplot(Y, kde=True)"
   ]
  },
  {
   "cell_type": "markdown",
   "metadata": {},
   "source": [
    "Box Cox transformation"
   ]
  },
  {
   "cell_type": "code",
   "execution_count": 14,
   "metadata": {},
   "outputs": [],
   "source": [
    "from scipy.stats import boxcox"
   ]
  },
  {
   "cell_type": "code",
   "execution_count": 15,
   "metadata": {},
   "outputs": [],
   "source": [
    "box_Y, lam = boxcox(Y) "
   ]
  },
  {
   "cell_type": "code",
   "execution_count": 16,
   "metadata": {},
   "outputs": [
    {
     "data": {
      "application/javascript": "\n        if (window._pyforest_update_imports_cell) { window._pyforest_update_imports_cell('import numpy as np\\nimport matplotlib.pyplot as plt\\nimport pandas as pd\\nimport seaborn as sns'); }\n    ",
      "text/plain": [
       "<IPython.core.display.Javascript object>"
      ]
     },
     "metadata": {},
     "output_type": "display_data"
    },
    {
     "data": {
      "text/plain": [
       "0    0.004218\n",
       "dtype: float64"
      ]
     },
     "execution_count": 16,
     "metadata": {},
     "output_type": "execute_result"
    }
   ],
   "source": [
    "box_Y = pd.DataFrame(box_Y)\n",
    "\n",
    "box_Y.skew()"
   ]
  },
  {
   "cell_type": "code",
   "execution_count": 17,
   "metadata": {},
   "outputs": [
    {
     "data": {
      "text/plain": [
       "-0.0970028670887093"
      ]
     },
     "execution_count": 17,
     "metadata": {},
     "output_type": "execute_result"
    }
   ],
   "source": [
    "lam # Value of lamda"
   ]
  },
  {
   "cell_type": "code",
   "execution_count": 18,
   "metadata": {},
   "outputs": [
    {
     "data": {
      "application/javascript": "\n        if (window._pyforest_update_imports_cell) { window._pyforest_update_imports_cell('import numpy as np\\nimport matplotlib.pyplot as plt\\nimport pandas as pd\\nimport seaborn as sns'); }\n    ",
      "text/plain": [
       "<IPython.core.display.Javascript object>"
      ]
     },
     "metadata": {},
     "output_type": "display_data"
    },
    {
     "name": "stderr",
     "output_type": "stream",
     "text": [
      "C:\\Users\\lokesh\\AppData\\Local\\Temp\\ipykernel_41540\\146284075.py:1: UserWarning: \n",
      "\n",
      "`distplot` is a deprecated function and will be removed in seaborn v0.14.0.\n",
      "\n",
      "Please adapt your code to use either `displot` (a figure-level function with\n",
      "similar flexibility) or `histplot` (an axes-level function for histograms).\n",
      "\n",
      "For a guide to updating your code to use the new functions, please see\n",
      "https://gist.github.com/mwaskom/de44147ed2974457ad6372750bbe5751\n",
      "\n",
      "  sns.distplot(box_Y, kde=True)\n",
      "c:\\Users\\lokesh\\anaconda3\\Lib\\site-packages\\seaborn\\_oldcore.py:1119: FutureWarning: use_inf_as_na option is deprecated and will be removed in a future version. Convert inf values to NaN before operating instead.\n",
      "  with pd.option_context('mode.use_inf_as_na', True):\n"
     ]
    },
    {
     "data": {
      "text/plain": [
       "<Axes: ylabel='Density'>"
      ]
     },
     "execution_count": 18,
     "metadata": {},
     "output_type": "execute_result"
    },
    {
     "data": {
      "image/png": "[encoded data removed]",
      "text/plain": [
       "<Figure size 640x480 with 1 Axes>"
      ]
     },
     "metadata": {},
     "output_type": "display_data"
    }
   ],
   "source": [
    "sns.distplot(box_Y, kde=True)"
   ]
  },
  {
   "cell_type": "code",
   "execution_count": 19,
   "metadata": {},
   "outputs": [
    {
     "data": {
      "text/plain": [
       "0    1.009202\n",
       "dtype: float64"
      ]
     },
     "execution_count": 19,
     "metadata": {},
     "output_type": "execute_result"
    }
   ],
   "source": [
    "# Inveese BoxCox values\n",
    "from scipy.special import inv_boxcox\n",
    "\n",
    "Y_1 = inv_boxcox(box_Y, lam)\n",
    "\n",
    "Y_1.skew()"
   ]
  },
  {
   "cell_type": "code",
   "execution_count": 20,
   "metadata": {},
   "outputs": [
    {
     "data": {
      "application/javascript": "\n        if (window._pyforest_update_imports_cell) { window._pyforest_update_imports_cell('import numpy as np\\nimport matplotlib.pyplot as plt\\nimport pandas as pd\\nimport seaborn as sns'); }\n    ",
      "text/plain": [
       "<IPython.core.display.Javascript object>"
      ]
     },
     "metadata": {},
     "output_type": "display_data"
    },
    {
     "name": "stderr",
     "output_type": "stream",
     "text": [
      "C:\\Users\\lokesh\\AppData\\Local\\Temp\\ipykernel_41540\\587476138.py:1: UserWarning: \n",
      "\n",
      "`distplot` is a deprecated function and will be removed in seaborn v0.14.0.\n",
      "\n",
      "Please adapt your code to use either `displot` (a figure-level function with\n",
      "similar flexibility) or `histplot` (an axes-level function for histograms).\n",
      "\n",
      "For a guide to updating your code to use the new functions, please see\n",
      "https://gist.github.com/mwaskom/de44147ed2974457ad6372750bbe5751\n",
      "\n",
      "  sns.distplot(Y_1, kde=True)\n",
      "c:\\Users\\lokesh\\anaconda3\\Lib\\site-packages\\seaborn\\_oldcore.py:1119: FutureWarning: use_inf_as_na option is deprecated and will be removed in a future version. Convert inf values to NaN before operating instead.\n",
      "  with pd.option_context('mode.use_inf_as_na', True):\n"
     ]
    },
    {
     "data": {
      "text/plain": [
       "<Axes: ylabel='Density'>"
      ]
     },
     "execution_count": 20,
     "metadata": {},
     "output_type": "execute_result"
    },
    {
     "data": {
      "image/png": "[encoded data removed]",
      "text/plain": [
       "<Figure size 640x480 with 1 Axes>"
      ]
     },
     "metadata": {},
     "output_type": "display_data"
    }
   ],
   "source": [
    "sns.distplot(Y_1, kde=True)"
   ]
  },
  {
   "cell_type": "code",
   "execution_count": 21,
   "metadata": {},
   "outputs": [
    {
     "data": {
      "application/javascript": "\n        if (window._pyforest_update_imports_cell) { window._pyforest_update_imports_cell('import numpy as np\\nimport matplotlib.pyplot as plt\\nimport pandas as pd\\nimport seaborn as sns'); }\n    ",
      "text/plain": [
       "<IPython.core.display.Javascript object>"
      ]
     },
     "metadata": {},
     "output_type": "display_data"
    },
    {
     "data": {
      "text/html": [
       "<div>\n",
       "<style scoped>\n",
       "    .dataframe tbody tr th:only-of-type {\n",
       "        vertical-align: middle;\n",
       "    }\n",
       "\n",
       "    .dataframe tbody tr th {\n",
       "        vertical-align: top;\n",
       "    }\n",
       "\n",
       "    .dataframe thead th {\n",
       "        text-align: right;\n",
       "    }\n",
       "</style>\n",
       "<table border=\"1\" class=\"dataframe\">\n",
       "  <thead>\n",
       "    <tr style=\"text-align: right;\">\n",
       "      <th></th>\n",
       "      <th>vif</th>\n",
       "      <th>feature</th>\n",
       "    </tr>\n",
       "  </thead>\n",
       "  <tbody>\n",
       "    <tr>\n",
       "      <th>16</th>\n",
       "      <td>23.588606</td>\n",
       "      <td>T9</td>\n",
       "    </tr>\n",
       "    <tr>\n",
       "      <th>10</th>\n",
       "      <td>20.561874</td>\n",
       "      <td>T6</td>\n",
       "    </tr>\n",
       "    <tr>\n",
       "      <th>18</th>\n",
       "      <td>20.140849</td>\n",
       "      <td>T_out</td>\n",
       "    </tr>\n",
       "    <tr>\n",
       "      <th>7</th>\n",
       "      <td>16.907077</td>\n",
       "      <td>RH_4</td>\n",
       "    </tr>\n",
       "    <tr>\n",
       "      <th>12</th>\n",
       "      <td>15.267661</td>\n",
       "      <td>T7</td>\n",
       "    </tr>\n",
       "    <tr>\n",
       "      <th>2</th>\n",
       "      <td>13.955872</td>\n",
       "      <td>T2</td>\n",
       "    </tr>\n",
       "    <tr>\n",
       "      <th>0</th>\n",
       "      <td>13.404370</td>\n",
       "      <td>T1</td>\n",
       "    </tr>\n",
       "    <tr>\n",
       "      <th>1</th>\n",
       "      <td>11.995605</td>\n",
       "      <td>RH_1</td>\n",
       "    </tr>\n",
       "    <tr>\n",
       "      <th>3</th>\n",
       "      <td>10.731543</td>\n",
       "      <td>RH_2</td>\n",
       "    </tr>\n",
       "    <tr>\n",
       "      <th>13</th>\n",
       "      <td>10.309529</td>\n",
       "      <td>RH_7</td>\n",
       "    </tr>\n",
       "    <tr>\n",
       "      <th>11</th>\n",
       "      <td>9.772501</td>\n",
       "      <td>RH_6</td>\n",
       "    </tr>\n",
       "    <tr>\n",
       "      <th>5</th>\n",
       "      <td>9.575194</td>\n",
       "      <td>RH_3</td>\n",
       "    </tr>\n",
       "    <tr>\n",
       "      <th>4</th>\n",
       "      <td>9.456242</td>\n",
       "      <td>T3</td>\n",
       "    </tr>\n",
       "    <tr>\n",
       "      <th>15</th>\n",
       "      <td>8.978261</td>\n",
       "      <td>RH_8</td>\n",
       "    </tr>\n",
       "    <tr>\n",
       "      <th>8</th>\n",
       "      <td>8.324158</td>\n",
       "      <td>T5</td>\n",
       "    </tr>\n",
       "    <tr>\n",
       "      <th>6</th>\n",
       "      <td>7.983409</td>\n",
       "      <td>T4</td>\n",
       "    </tr>\n",
       "    <tr>\n",
       "      <th>14</th>\n",
       "      <td>7.722286</td>\n",
       "      <td>T8</td>\n",
       "    </tr>\n",
       "    <tr>\n",
       "      <th>17</th>\n",
       "      <td>6.647813</td>\n",
       "      <td>RH_9</td>\n",
       "    </tr>\n",
       "    <tr>\n",
       "      <th>20</th>\n",
       "      <td>5.886077</td>\n",
       "      <td>RH_out</td>\n",
       "    </tr>\n",
       "    <tr>\n",
       "      <th>9</th>\n",
       "      <td>1.733530</td>\n",
       "      <td>RH_5</td>\n",
       "    </tr>\n",
       "    <tr>\n",
       "      <th>21</th>\n",
       "      <td>1.586667</td>\n",
       "      <td>Windspeed</td>\n",
       "    </tr>\n",
       "    <tr>\n",
       "      <th>19</th>\n",
       "      <td>1.522587</td>\n",
       "      <td>Press_mm_hg</td>\n",
       "    </tr>\n",
       "    <tr>\n",
       "      <th>22</th>\n",
       "      <td>1.072929</td>\n",
       "      <td>Visibility</td>\n",
       "    </tr>\n",
       "  </tbody>\n",
       "</table>\n",
       "</div>"
      ],
      "text/plain": [
       "          vif      feature\n",
       "16  23.588606           T9\n",
       "10  20.561874           T6\n",
       "18  20.140849        T_out\n",
       "7   16.907077         RH_4\n",
       "12  15.267661           T7\n",
       "2   13.955872           T2\n",
       "0   13.404370           T1\n",
       "1   11.995605         RH_1\n",
       "3   10.731543         RH_2\n",
       "13  10.309529         RH_7\n",
       "11   9.772501         RH_6\n",
       "5    9.575194         RH_3\n",
       "4    9.456242           T3\n",
       "15   8.978261         RH_8\n",
       "8    8.324158           T5\n",
       "6    7.983409           T4\n",
       "14   7.722286           T8\n",
       "17   6.647813         RH_9\n",
       "20   5.886077       RH_out\n",
       "9    1.733530         RH_5\n",
       "21   1.586667    Windspeed\n",
       "19   1.522587  Press_mm_hg\n",
       "22   1.072929   Visibility"
      ]
     },
     "execution_count": 21,
     "metadata": {},
     "output_type": "execute_result"
    }
   ],
   "source": [
    "from statsmodels.stats.outliers_influence import variance_inflation_factor\n",
    "\n",
    "vif = pd.DataFrame()\n",
    "\n",
    "vif['vif'] = [variance_inflation_factor(X_sc.values, i) for i in range(X_sc.shape[1])]\n",
    "vif['feature'] = X_sc.columns\n",
    "\n",
    "vif.sort_values('vif', ascending = False)"
   ]
  },
  {
   "cell_type": "markdown",
   "metadata": {},
   "source": [
    "#### **Note:** Don't drop multiple Features at a time, always drop every feature in sequential one after the one"
   ]
  },
  {
   "cell_type": "code",
   "execution_count": 22,
   "metadata": {},
   "outputs": [
    {
     "data": {
      "application/javascript": "\n        if (window._pyforest_update_imports_cell) { window._pyforest_update_imports_cell('import numpy as np\\nimport matplotlib.pyplot as plt\\nimport pandas as pd\\nimport seaborn as sns'); }\n    ",
      "text/plain": [
       "<IPython.core.display.Javascript object>"
      ]
     },
     "metadata": {},
     "output_type": "display_data"
    },
    {
     "data": {
      "text/html": [
       "<div>\n",
       "<style scoped>\n",
       "    .dataframe tbody tr th:only-of-type {\n",
       "        vertical-align: middle;\n",
       "    }\n",
       "\n",
       "    .dataframe tbody tr th {\n",
       "        vertical-align: top;\n",
       "    }\n",
       "\n",
       "    .dataframe thead th {\n",
       "        text-align: right;\n",
       "    }\n",
       "</style>\n",
       "<table border=\"1\" class=\"dataframe\">\n",
       "  <thead>\n",
       "    <tr style=\"text-align: right;\">\n",
       "      <th></th>\n",
       "      <th>vif</th>\n",
       "      <th>feature</th>\n",
       "    </tr>\n",
       "  </thead>\n",
       "  <tbody>\n",
       "    <tr>\n",
       "      <th>0</th>\n",
       "      <td>12.462406</td>\n",
       "      <td>T1</td>\n",
       "    </tr>\n",
       "    <tr>\n",
       "      <th>1</th>\n",
       "      <td>11.518129</td>\n",
       "      <td>RH_1</td>\n",
       "    </tr>\n",
       "    <tr>\n",
       "      <th>2</th>\n",
       "      <td>11.507273</td>\n",
       "      <td>T2</td>\n",
       "    </tr>\n",
       "    <tr>\n",
       "      <th>10</th>\n",
       "      <td>10.715029</td>\n",
       "      <td>T7</td>\n",
       "    </tr>\n",
       "    <tr>\n",
       "      <th>3</th>\n",
       "      <td>10.133529</td>\n",
       "      <td>RH_2</td>\n",
       "    </tr>\n",
       "    <tr>\n",
       "      <th>11</th>\n",
       "      <td>8.909752</td>\n",
       "      <td>RH_7</td>\n",
       "    </tr>\n",
       "    <tr>\n",
       "      <th>13</th>\n",
       "      <td>8.758071</td>\n",
       "      <td>RH_8</td>\n",
       "    </tr>\n",
       "    <tr>\n",
       "      <th>5</th>\n",
       "      <td>8.753880</td>\n",
       "      <td>RH_3</td>\n",
       "    </tr>\n",
       "    <tr>\n",
       "      <th>4</th>\n",
       "      <td>8.572502</td>\n",
       "      <td>T3</td>\n",
       "    </tr>\n",
       "    <tr>\n",
       "      <th>9</th>\n",
       "      <td>8.546468</td>\n",
       "      <td>RH_6</td>\n",
       "    </tr>\n",
       "    <tr>\n",
       "      <th>12</th>\n",
       "      <td>7.529527</td>\n",
       "      <td>T8</td>\n",
       "    </tr>\n",
       "    <tr>\n",
       "      <th>7</th>\n",
       "      <td>7.232864</td>\n",
       "      <td>T5</td>\n",
       "    </tr>\n",
       "    <tr>\n",
       "      <th>6</th>\n",
       "      <td>6.828594</td>\n",
       "      <td>T4</td>\n",
       "    </tr>\n",
       "    <tr>\n",
       "      <th>15</th>\n",
       "      <td>6.347019</td>\n",
       "      <td>T_out</td>\n",
       "    </tr>\n",
       "    <tr>\n",
       "      <th>14</th>\n",
       "      <td>5.915512</td>\n",
       "      <td>RH_9</td>\n",
       "    </tr>\n",
       "    <tr>\n",
       "      <th>17</th>\n",
       "      <td>5.259205</td>\n",
       "      <td>RH_out</td>\n",
       "    </tr>\n",
       "    <tr>\n",
       "      <th>8</th>\n",
       "      <td>1.658469</td>\n",
       "      <td>RH_5</td>\n",
       "    </tr>\n",
       "    <tr>\n",
       "      <th>18</th>\n",
       "      <td>1.575108</td>\n",
       "      <td>Windspeed</td>\n",
       "    </tr>\n",
       "    <tr>\n",
       "      <th>16</th>\n",
       "      <td>1.421372</td>\n",
       "      <td>Press_mm_hg</td>\n",
       "    </tr>\n",
       "    <tr>\n",
       "      <th>19</th>\n",
       "      <td>1.055871</td>\n",
       "      <td>Visibility</td>\n",
       "    </tr>\n",
       "  </tbody>\n",
       "</table>\n",
       "</div>"
      ],
      "text/plain": [
       "          vif      feature\n",
       "0   12.462406           T1\n",
       "1   11.518129         RH_1\n",
       "2   11.507273           T2\n",
       "10  10.715029           T7\n",
       "3   10.133529         RH_2\n",
       "11   8.909752         RH_7\n",
       "13   8.758071         RH_8\n",
       "5    8.753880         RH_3\n",
       "4    8.572502           T3\n",
       "9    8.546468         RH_6\n",
       "12   7.529527           T8\n",
       "7    7.232864           T5\n",
       "6    6.828594           T4\n",
       "15   6.347019        T_out\n",
       "14   5.915512         RH_9\n",
       "17   5.259205       RH_out\n",
       "8    1.658469         RH_5\n",
       "18   1.575108    Windspeed\n",
       "16   1.421372  Press_mm_hg\n",
       "19   1.055871   Visibility"
      ]
     },
     "execution_count": 22,
     "metadata": {},
     "output_type": "execute_result"
    }
   ],
   "source": [
    "X_sc1 = X_sc.drop(columns=['T9', 'T6', 'RH_4']) # here its done in session 3 and concluded that droping these columns will give the Normality of VIF\n",
    "# by repeating this below process for multiple times post droping of the above three feature the Input Sample is Normalized\n",
    "vif = pd.DataFrame()\n",
    "\n",
    "vif['vif'] = [variance_inflation_factor(X_sc1.values, i) for i in range(X_sc1.shape[1])]\n",
    "vif['feature'] = X_sc1.columns\n",
    "\n",
    "vif.sort_values('vif', ascending = False)"
   ]
  },
  {
   "cell_type": "code",
   "execution_count": 23,
   "metadata": {},
   "outputs": [
    {
     "data": {
      "text/html": [
       "<table class=\"simpletable\">\n",
       "<caption>OLS Regression Results</caption>\n",
       "<tr>\n",
       "  <th>Dep. Variable:</th>            <td>0</td>        <th>  R-squared:         </th> <td>   0.300</td>\n",
       "</tr>\n",
       "<tr>\n",
       "  <th>Model:</th>                   <td>OLS</td>       <th>  Adj. R-squared:    </th> <td>   0.285</td>\n",
       "</tr>\n",
       "<tr>\n",
       "  <th>Method:</th>             <td>Least Squares</td>  <th>  F-statistic:       </th> <td>   20.96</td>\n",
       "</tr>\n",
       "<tr>\n",
       "  <th>Date:</th>             <td>Sun, 04 Aug 2024</td> <th>  Prob (F-statistic):</th> <td>1.75e-62</td>\n",
       "</tr>\n",
       "<tr>\n",
       "  <th>Time:</th>                 <td>14:24:51</td>     <th>  Log-Likelihood:    </th> <td> -96.538</td>\n",
       "</tr>\n",
       "<tr>\n",
       "  <th>No. Observations:</th>      <td>  1000</td>      <th>  AIC:               </th> <td>   235.1</td>\n",
       "</tr>\n",
       "<tr>\n",
       "  <th>Df Residuals:</th>          <td>   979</td>      <th>  BIC:               </th> <td>   338.1</td>\n",
       "</tr>\n",
       "<tr>\n",
       "  <th>Df Model:</th>              <td>    20</td>      <th>                     </th>     <td> </td>   \n",
       "</tr>\n",
       "<tr>\n",
       "  <th>Covariance Type:</th>      <td>nonrobust</td>    <th>                     </th>     <td> </td>   \n",
       "</tr>\n",
       "</table>\n",
       "<table class=\"simpletable\">\n",
       "<tr>\n",
       "       <td></td>          <th>coef</th>     <th>std err</th>      <th>t</th>      <th>P>|t|</th>  <th>[0.025</th>    <th>0.975]</th>  \n",
       "</tr>\n",
       "<tr>\n",
       "  <th>const</th>       <td>    3.4560</td> <td>    0.009</td> <td>  405.770</td> <td> 0.000</td> <td>    3.439</td> <td>    3.473</td>\n",
       "</tr>\n",
       "<tr>\n",
       "  <th>T1</th>          <td>   -0.0696</td> <td>    0.030</td> <td>   -2.313</td> <td> 0.021</td> <td>   -0.129</td> <td>   -0.011</td>\n",
       "</tr>\n",
       "<tr>\n",
       "  <th>RH_1</th>        <td>    0.1272</td> <td>    0.029</td> <td>    4.401</td> <td> 0.000</td> <td>    0.070</td> <td>    0.184</td>\n",
       "</tr>\n",
       "<tr>\n",
       "  <th>T2</th>          <td>    0.0228</td> <td>    0.029</td> <td>    0.790</td> <td> 0.430</td> <td>   -0.034</td> <td>    0.080</td>\n",
       "</tr>\n",
       "<tr>\n",
       "  <th>RH_2</th>        <td>   -0.0589</td> <td>    0.027</td> <td>   -2.174</td> <td> 0.030</td> <td>   -0.112</td> <td>   -0.006</td>\n",
       "</tr>\n",
       "<tr>\n",
       "  <th>T3</th>          <td>    0.0988</td> <td>    0.025</td> <td>    3.961</td> <td> 0.000</td> <td>    0.050</td> <td>    0.148</td>\n",
       "</tr>\n",
       "<tr>\n",
       "  <th>RH_3</th>        <td>    0.0731</td> <td>    0.025</td> <td>    2.901</td> <td> 0.004</td> <td>    0.024</td> <td>    0.123</td>\n",
       "</tr>\n",
       "<tr>\n",
       "  <th>T4</th>          <td>    0.0398</td> <td>    0.022</td> <td>    1.787</td> <td> 0.074</td> <td>   -0.004</td> <td>    0.083</td>\n",
       "</tr>\n",
       "<tr>\n",
       "  <th>T5</th>          <td>   -0.0183</td> <td>    0.023</td> <td>   -0.798</td> <td> 0.425</td> <td>   -0.063</td> <td>    0.027</td>\n",
       "</tr>\n",
       "<tr>\n",
       "  <th>RH_5</th>        <td>    0.0197</td> <td>    0.011</td> <td>    1.798</td> <td> 0.072</td> <td>   -0.002</td> <td>    0.041</td>\n",
       "</tr>\n",
       "<tr>\n",
       "  <th>RH_6</th>        <td>    0.0316</td> <td>    0.025</td> <td>    1.271</td> <td> 0.204</td> <td>   -0.017</td> <td>    0.081</td>\n",
       "</tr>\n",
       "<tr>\n",
       "  <th>T7</th>          <td>   -0.1719</td> <td>    0.028</td> <td>   -6.165</td> <td> 0.000</td> <td>   -0.227</td> <td>   -0.117</td>\n",
       "</tr>\n",
       "<tr>\n",
       "  <th>RH_7</th>        <td>    0.0192</td> <td>    0.025</td> <td>    0.755</td> <td> 0.450</td> <td>   -0.031</td> <td>    0.069</td>\n",
       "</tr>\n",
       "<tr>\n",
       "  <th>T8</th>          <td>    0.1840</td> <td>    0.023</td> <td>    7.872</td> <td> 0.000</td> <td>    0.138</td> <td>    0.230</td>\n",
       "</tr>\n",
       "<tr>\n",
       "  <th>RH_8</th>        <td>   -0.2088</td> <td>    0.025</td> <td>   -8.285</td> <td> 0.000</td> <td>   -0.258</td> <td>   -0.159</td>\n",
       "</tr>\n",
       "<tr>\n",
       "  <th>RH_9</th>        <td>   -0.0292</td> <td>    0.021</td> <td>   -1.408</td> <td> 0.160</td> <td>   -0.070</td> <td>    0.011</td>\n",
       "</tr>\n",
       "<tr>\n",
       "  <th>T_out</th>       <td>    0.0096</td> <td>    0.021</td> <td>    0.447</td> <td> 0.655</td> <td>   -0.033</td> <td>    0.052</td>\n",
       "</tr>\n",
       "<tr>\n",
       "  <th>Press_mm_hg</th> <td>   -0.0015</td> <td>    0.010</td> <td>   -0.144</td> <td> 0.886</td> <td>   -0.021</td> <td>    0.018</td>\n",
       "</tr>\n",
       "<tr>\n",
       "  <th>RH_out</th>      <td>   -0.0157</td> <td>    0.020</td> <td>   -0.804</td> <td> 0.421</td> <td>   -0.054</td> <td>    0.023</td>\n",
       "</tr>\n",
       "<tr>\n",
       "  <th>Windspeed</th>   <td>    0.0287</td> <td>    0.011</td> <td>    2.685</td> <td> 0.007</td> <td>    0.008</td> <td>    0.050</td>\n",
       "</tr>\n",
       "<tr>\n",
       "  <th>Visibility</th>  <td>   -0.0088</td> <td>    0.009</td> <td>   -1.008</td> <td> 0.314</td> <td>   -0.026</td> <td>    0.008</td>\n",
       "</tr>\n",
       "</table>\n",
       "<table class=\"simpletable\">\n",
       "<tr>\n",
       "  <th>Omnibus:</th>       <td> 9.007</td> <th>  Durbin-Watson:     </th> <td>   1.968</td>\n",
       "</tr>\n",
       "<tr>\n",
       "  <th>Prob(Omnibus):</th> <td> 0.011</td> <th>  Jarque-Bera (JB):  </th> <td>  12.487</td>\n",
       "</tr>\n",
       "<tr>\n",
       "  <th>Skew:</th>          <td> 0.060</td> <th>  Prob(JB):          </th> <td> 0.00194</td>\n",
       "</tr>\n",
       "<tr>\n",
       "  <th>Kurtosis:</th>      <td> 3.534</td> <th>  Cond. No.          </th> <td>    14.6</td>\n",
       "</tr>\n",
       "</table><br/><br/>Notes:<br/>[1] Standard Errors assume that the covariance matrix of the errors is correctly specified."
      ],
      "text/latex": [
       "\\begin{center}\n",
       "\\begin{tabular}{lclc}\n",
       "\\toprule\n",
       "\\textbf{Dep. Variable:}    &        0         & \\textbf{  R-squared:         } &     0.300   \\\\\n",
       "\\textbf{Model:}            &       OLS        & \\textbf{  Adj. R-squared:    } &     0.285   \\\\\n",
       "\\textbf{Method:}           &  Least Squares   & \\textbf{  F-statistic:       } &     20.96   \\\\\n",
       "\\textbf{Date:}             & Sun, 04 Aug 2024 & \\textbf{  Prob (F-statistic):} &  1.75e-62   \\\\\n",
       "\\textbf{Time:}             &     14:24:51     & \\textbf{  Log-Likelihood:    } &   -96.538   \\\\\n",
       "\\textbf{No. Observations:} &        1000      & \\textbf{  AIC:               } &     235.1   \\\\\n",
       "\\textbf{Df Residuals:}     &         979      & \\textbf{  BIC:               } &     338.1   \\\\\n",
       "\\textbf{Df Model:}         &          20      & \\textbf{                     } &             \\\\\n",
       "\\textbf{Covariance Type:}  &    nonrobust     & \\textbf{                     } &             \\\\\n",
       "\\bottomrule\n",
       "\\end{tabular}\n",
       "\\begin{tabular}{lcccccc}\n",
       "                       & \\textbf{coef} & \\textbf{std err} & \\textbf{t} & \\textbf{P$> |$t$|$} & \\textbf{[0.025} & \\textbf{0.975]}  \\\\\n",
       "\\midrule\n",
       "\\textbf{const}         &       3.4560  &        0.009     &   405.770  &         0.000        &        3.439    &        3.473     \\\\\n",
       "\\textbf{T1}            &      -0.0696  &        0.030     &    -2.313  &         0.021        &       -0.129    &       -0.011     \\\\\n",
       "\\textbf{RH\\_1}         &       0.1272  &        0.029     &     4.401  &         0.000        &        0.070    &        0.184     \\\\\n",
       "\\textbf{T2}            &       0.0228  &        0.029     &     0.790  &         0.430        &       -0.034    &        0.080     \\\\\n",
       "\\textbf{RH\\_2}         &      -0.0589  &        0.027     &    -2.174  &         0.030        &       -0.112    &       -0.006     \\\\\n",
       "\\textbf{T3}            &       0.0988  &        0.025     &     3.961  &         0.000        &        0.050    &        0.148     \\\\\n",
       "\\textbf{RH\\_3}         &       0.0731  &        0.025     &     2.901  &         0.004        &        0.024    &        0.123     \\\\\n",
       "\\textbf{T4}            &       0.0398  &        0.022     &     1.787  &         0.074        &       -0.004    &        0.083     \\\\\n",
       "\\textbf{T5}            &      -0.0183  &        0.023     &    -0.798  &         0.425        &       -0.063    &        0.027     \\\\\n",
       "\\textbf{RH\\_5}         &       0.0197  &        0.011     &     1.798  &         0.072        &       -0.002    &        0.041     \\\\\n",
       "\\textbf{RH\\_6}         &       0.0316  &        0.025     &     1.271  &         0.204        &       -0.017    &        0.081     \\\\\n",
       "\\textbf{T7}            &      -0.1719  &        0.028     &    -6.165  &         0.000        &       -0.227    &       -0.117     \\\\\n",
       "\\textbf{RH\\_7}         &       0.0192  &        0.025     &     0.755  &         0.450        &       -0.031    &        0.069     \\\\\n",
       "\\textbf{T8}            &       0.1840  &        0.023     &     7.872  &         0.000        &        0.138    &        0.230     \\\\\n",
       "\\textbf{RH\\_8}         &      -0.2088  &        0.025     &    -8.285  &         0.000        &       -0.258    &       -0.159     \\\\\n",
       "\\textbf{RH\\_9}         &      -0.0292  &        0.021     &    -1.408  &         0.160        &       -0.070    &        0.011     \\\\\n",
       "\\textbf{T\\_out}        &       0.0096  &        0.021     &     0.447  &         0.655        &       -0.033    &        0.052     \\\\\n",
       "\\textbf{Press\\_mm\\_hg} &      -0.0015  &        0.010     &    -0.144  &         0.886        &       -0.021    &        0.018     \\\\\n",
       "\\textbf{RH\\_out}       &      -0.0157  &        0.020     &    -0.804  &         0.421        &       -0.054    &        0.023     \\\\\n",
       "\\textbf{Windspeed}     &       0.0287  &        0.011     &     2.685  &         0.007        &        0.008    &        0.050     \\\\\n",
       "\\textbf{Visibility}    &      -0.0088  &        0.009     &    -1.008  &         0.314        &       -0.026    &        0.008     \\\\\n",
       "\\bottomrule\n",
       "\\end{tabular}\n",
       "\\begin{tabular}{lclc}\n",
       "\\textbf{Omnibus:}       &  9.007 & \\textbf{  Durbin-Watson:     } &    1.968  \\\\\n",
       "\\textbf{Prob(Omnibus):} &  0.011 & \\textbf{  Jarque-Bera (JB):  } &   12.487  \\\\\n",
       "\\textbf{Skew:}          &  0.060 & \\textbf{  Prob(JB):          } &  0.00194  \\\\\n",
       "\\textbf{Kurtosis:}      &  3.534 & \\textbf{  Cond. No.          } &     14.6  \\\\\n",
       "\\bottomrule\n",
       "\\end{tabular}\n",
       "%\\caption{OLS Regression Results}\n",
       "\\end{center}\n",
       "\n",
       "Notes: \\newline\n",
       " [1] Standard Errors assume that the covariance matrix of the errors is correctly specified."
      ],
      "text/plain": [
       "<class 'statsmodels.iolib.summary.Summary'>\n",
       "\"\"\"\n",
       "                            OLS Regression Results                            \n",
       "==============================================================================\n",
       "Dep. Variable:                      0   R-squared:                       0.300\n",
       "Model:                            OLS   Adj. R-squared:                  0.285\n",
       "Method:                 Least Squares   F-statistic:                     20.96\n",
       "Date:                Sun, 04 Aug 2024   Prob (F-statistic):           1.75e-62\n",
       "Time:                        14:24:51   Log-Likelihood:                -96.538\n",
       "No. Observations:                1000   AIC:                             235.1\n",
       "Df Residuals:                     979   BIC:                             338.1\n",
       "Df Model:                          20                                         \n",
       "Covariance Type:            nonrobust                                         \n",
       "===============================================================================\n",
       "                  coef    std err          t      P>|t|      [0.025      0.975]\n",
       "-------------------------------------------------------------------------------\n",
       "const           3.4560      0.009    405.770      0.000       3.439       3.473\n",
       "T1             -0.0696      0.030     -2.313      0.021      -0.129      -0.011\n",
       "RH_1            0.1272      0.029      4.401      0.000       0.070       0.184\n",
       "T2              0.0228      0.029      0.790      0.430      -0.034       0.080\n",
       "RH_2           -0.0589      0.027     -2.174      0.030      -0.112      -0.006\n",
       "T3              0.0988      0.025      3.961      0.000       0.050       0.148\n",
       "RH_3            0.0731      0.025      2.901      0.004       0.024       0.123\n",
       "T4              0.0398      0.022      1.787      0.074      -0.004       0.083\n",
       "T5             -0.0183      0.023     -0.798      0.425      -0.063       0.027\n",
       "RH_5            0.0197      0.011      1.798      0.072      -0.002       0.041\n",
       "RH_6            0.0316      0.025      1.271      0.204      -0.017       0.081\n",
       "T7             -0.1719      0.028     -6.165      0.000      -0.227      -0.117\n",
       "RH_7            0.0192      0.025      0.755      0.450      -0.031       0.069\n",
       "T8              0.1840      0.023      7.872      0.000       0.138       0.230\n",
       "RH_8           -0.2088      0.025     -8.285      0.000      -0.258      -0.159\n",
       "RH_9           -0.0292      0.021     -1.408      0.160      -0.070       0.011\n",
       "T_out           0.0096      0.021      0.447      0.655      -0.033       0.052\n",
       "Press_mm_hg    -0.0015      0.010     -0.144      0.886      -0.021       0.018\n",
       "RH_out         -0.0157      0.020     -0.804      0.421      -0.054       0.023\n",
       "Windspeed       0.0287      0.011      2.685      0.007       0.008       0.050\n",
       "Visibility     -0.0088      0.009     -1.008      0.314      -0.026       0.008\n",
       "==============================================================================\n",
       "Omnibus:                        9.007   Durbin-Watson:                   1.968\n",
       "Prob(Omnibus):                  0.011   Jarque-Bera (JB):               12.487\n",
       "Skew:                           0.060   Prob(JB):                      0.00194\n",
       "Kurtosis:                       3.534   Cond. No.                         14.6\n",
       "==============================================================================\n",
       "\n",
       "Notes:\n",
       "[1] Standard Errors assume that the covariance matrix of the errors is correctly specified.\n",
       "\"\"\""
      ]
     },
     "execution_count": 23,
     "metadata": {},
     "output_type": "execute_result"
    }
   ],
   "source": [
    "import statsmodels.api as sm\n",
    "\n",
    "Xc = sm.add_constant(X_sc1)\n",
    "ols = sm.OLS(box_Y, Xc)\n",
    "ols_mod = ols.fit()\n",
    "\n",
    "ols_mod.summary()"
   ]
  },
  {
   "cell_type": "code",
   "execution_count": 24,
   "metadata": {},
   "outputs": [
    {
     "data": {
      "text/plain": [
       "0.060393254424483685"
      ]
     },
     "execution_count": 24,
     "metadata": {},
     "output_type": "execute_result"
    }
   ],
   "source": [
    "ols_mod.resid.skew()"
   ]
  },
  {
   "cell_type": "code",
   "execution_count": 25,
   "metadata": {},
   "outputs": [],
   "source": [
    "Y_pred = ols_mod.predict()"
   ]
  },
  {
   "cell_type": "code",
   "execution_count": 26,
   "metadata": {},
   "outputs": [
    {
     "data": {
      "application/javascript": "\n        if (window._pyforest_update_imports_cell) { window._pyforest_update_imports_cell('import numpy as np\\nimport matplotlib.pyplot as plt\\nimport pandas as pd\\nimport seaborn as sns'); }\n    ",
      "text/plain": [
       "<IPython.core.display.Javascript object>"
      ]
     },
     "metadata": {},
     "output_type": "display_data"
    },
    {
     "data": {
      "text/plain": [
       "[<matplotlib.lines.Line2D at 0x1aba042ca50>]"
      ]
     },
     "execution_count": 26,
     "metadata": {},
     "output_type": "execute_result"
    },
    {
     "data": {
      "image/png": "[encoded data removed]",
      "text/plain": [
       "<Figure size 640x480 with 1 Axes>"
      ]
     },
     "metadata": {},
     "output_type": "display_data"
    }
   ],
   "source": [
    "plt.plot(box_Y, Y_pred, '*')"
   ]
  },
  {
   "cell_type": "code",
   "execution_count": 27,
   "metadata": {},
   "outputs": [
    {
     "data": {
      "text/plain": [
       "(0.8342197354930532, 0.9774772350901021)"
      ]
     },
     "execution_count": 27,
     "metadata": {},
     "output_type": "execute_result"
    }
   ],
   "source": [
    "from statsmodels.stats.diagnostic import linear_rainbow\n",
    "\n",
    "linear_rainbow(ols_mod)"
   ]
  },
  {
   "cell_type": "code",
   "execution_count": 28,
   "metadata": {},
   "outputs": [
    {
     "data": {
      "application/javascript": "\n        if (window._pyforest_update_imports_cell) { window._pyforest_update_imports_cell('import numpy as np\\nimport matplotlib.pyplot as plt\\nimport pandas as pd\\nimport seaborn as sns'); }\n    ",
      "text/plain": [
       "<IPython.core.display.Javascript object>"
      ]
     },
     "metadata": {},
     "output_type": "display_data"
    },
    {
     "data": {
      "text/plain": [
       "<Axes: >"
      ]
     },
     "execution_count": 28,
     "metadata": {},
     "output_type": "execute_result"
    },
    {
     "data": {
      "image/png": "[encoded data removed]",
      "text/plain": [
       "<Figure size 640x480 with 1 Axes>"
      ]
     },
     "metadata": {},
     "output_type": "display_data"
    }
   ],
   "source": [
    "sns.residplot(x=Y_pred, y=ols_mod.resid)"
   ]
  },
  {
   "cell_type": "markdown",
   "metadata": {},
   "source": [
    "This Resid plot shows the Features are in equal Variance, though we see there is pattern formed on the plot, but the distribution of the Predictions are equally distributed"
   ]
  },
  {
   "cell_type": "code",
   "execution_count": 29,
   "metadata": {},
   "outputs": [],
   "source": [
    "p_val = ols_mod.pvalues"
   ]
  },
  {
   "cell_type": "code",
   "execution_count": 30,
   "metadata": {},
   "outputs": [
    {
     "data": {
      "text/plain": [
       "T2             0.429947\n",
       "T4             0.074208\n",
       "T5             0.424881\n",
       "RH_5           0.072448\n",
       "RH_6           0.204062\n",
       "RH_7           0.450223\n",
       "RH_9           0.159553\n",
       "T_out          0.654742\n",
       "Press_mm_hg    0.885705\n",
       "RH_out         0.421445\n",
       "Visibility     0.313801\n",
       "dtype: float64"
      ]
     },
     "execution_count": 30,
     "metadata": {},
     "output_type": "execute_result"
    }
   ],
   "source": [
    "p_val[p_val > 0.05]"
   ]
  },
  {
   "cell_type": "markdown",
   "metadata": {},
   "source": [
    "These are The Features which are insignificant in the Sample"
   ]
  },
  {
   "cell_type": "code",
   "execution_count": 31,
   "metadata": {},
   "outputs": [
    {
     "data": {
      "text/plain": [
       "0.8857047504116135"
      ]
     },
     "execution_count": 31,
     "metadata": {},
     "output_type": "execute_result"
    }
   ],
   "source": [
    "p_val[p_val > 0.05].max()"
   ]
  },
  {
   "cell_type": "code",
   "execution_count": 32,
   "metadata": {},
   "outputs": [],
   "source": [
    "X_v1 = X_sc1.copy()"
   ]
  },
  {
   "cell_type": "code",
   "execution_count": 33,
   "metadata": {},
   "outputs": [
    {
     "name": "stdout",
     "output_type": "stream",
     "text": [
      " The Final Features are:  Index(['T1', 'RH_1', 'RH_2', 'T3', 'RH_3', 'T4', 'T7', 'T8', 'RH_8',\n",
      "       'Windspeed'],\n",
      "      dtype='object')\n"
     ]
    }
   ],
   "source": [
    "while (len(X_v1.columns) > 0):\n",
    "    X_sc = sm.add_constant(X_v1)\n",
    "    ols = sm.OLS(box_Y, X_sc)\n",
    "    ols_mod = ols.fit()\n",
    "\n",
    "    f = ols_mod.pvalues[1:].idxmax()\n",
    "    if ols_mod.pvalues[1:].max() > 0.05:\n",
    "        X_v1 = X_v1.drop(columns=f)\n",
    "    else:\n",
    "        break\n",
    "\n",
    "print(\" The Final Features are: \", X_v1.columns)"
   ]
  },
  {
   "cell_type": "code",
   "execution_count": 34,
   "metadata": {},
   "outputs": [
    {
     "data": {
      "text/html": [
       "<div>\n",
       "<style scoped>\n",
       "    .dataframe tbody tr th:only-of-type {\n",
       "        vertical-align: middle;\n",
       "    }\n",
       "\n",
       "    .dataframe tbody tr th {\n",
       "        vertical-align: top;\n",
       "    }\n",
       "\n",
       "    .dataframe thead th {\n",
       "        text-align: right;\n",
       "    }\n",
       "</style>\n",
       "<table border=\"1\" class=\"dataframe\">\n",
       "  <thead>\n",
       "    <tr style=\"text-align: right;\">\n",
       "      <th></th>\n",
       "      <th>T1</th>\n",
       "      <th>RH_1</th>\n",
       "      <th>RH_2</th>\n",
       "      <th>T3</th>\n",
       "      <th>RH_3</th>\n",
       "      <th>T4</th>\n",
       "      <th>T7</th>\n",
       "      <th>T8</th>\n",
       "      <th>RH_8</th>\n",
       "      <th>Windspeed</th>\n",
       "    </tr>\n",
       "  </thead>\n",
       "  <tbody>\n",
       "    <tr>\n",
       "      <th>0</th>\n",
       "      <td>-0.663466</td>\n",
       "      <td>1.177887</td>\n",
       "      <td>1.308224</td>\n",
       "      <td>-0.464989</td>\n",
       "      <td>0.875121</td>\n",
       "      <td>-0.160226</td>\n",
       "      <td>-1.085462</td>\n",
       "      <td>-0.863476</td>\n",
       "      <td>1.904300</td>\n",
       "      <td>2.020182</td>\n",
       "    </tr>\n",
       "    <tr>\n",
       "      <th>1</th>\n",
       "      <td>-0.256704</td>\n",
       "      <td>-0.602866</td>\n",
       "      <td>-0.197814</td>\n",
       "      <td>-0.252984</td>\n",
       "      <td>-0.788362</td>\n",
       "      <td>-0.214045</td>\n",
       "      <td>-0.508105</td>\n",
       "      <td>-0.060794</td>\n",
       "      <td>-0.701804</td>\n",
       "      <td>-0.222190</td>\n",
       "    </tr>\n",
       "    <tr>\n",
       "      <th>2</th>\n",
       "      <td>-0.187761</td>\n",
       "      <td>-1.142910</td>\n",
       "      <td>-0.696721</td>\n",
       "      <td>0.261129</td>\n",
       "      <td>-1.551980</td>\n",
       "      <td>0.233871</td>\n",
       "      <td>-0.541485</td>\n",
       "      <td>0.147903</td>\n",
       "      <td>-1.073190</td>\n",
       "      <td>-0.432412</td>\n",
       "    </tr>\n",
       "    <tr>\n",
       "      <th>3</th>\n",
       "      <td>-1.812513</td>\n",
       "      <td>0.429467</td>\n",
       "      <td>0.215542</td>\n",
       "      <td>-2.208731</td>\n",
       "      <td>1.458132</td>\n",
       "      <td>-2.595983</td>\n",
       "      <td>-2.341005</td>\n",
       "      <td>-1.348058</td>\n",
       "      <td>1.572508</td>\n",
       "      <td>0.338403</td>\n",
       "    </tr>\n",
       "    <tr>\n",
       "      <th>4</th>\n",
       "      <td>0.025962</td>\n",
       "      <td>1.681464</td>\n",
       "      <td>1.386999</td>\n",
       "      <td>0.029690</td>\n",
       "      <td>1.774986</td>\n",
       "      <td>0.065468</td>\n",
       "      <td>-0.759076</td>\n",
       "      <td>-0.879827</td>\n",
       "      <td>1.981032</td>\n",
       "      <td>0.828922</td>\n",
       "    </tr>\n",
       "    <tr>\n",
       "      <th>...</th>\n",
       "      <td>...</td>\n",
       "      <td>...</td>\n",
       "      <td>...</td>\n",
       "      <td>...</td>\n",
       "      <td>...</td>\n",
       "      <td>...</td>\n",
       "      <td>...</td>\n",
       "      <td>...</td>\n",
       "      <td>...</td>\n",
       "      <td>...</td>\n",
       "    </tr>\n",
       "    <tr>\n",
       "      <th>995</th>\n",
       "      <td>-0.601417</td>\n",
       "      <td>0.107351</td>\n",
       "      <td>-0.010618</td>\n",
       "      <td>-1.095704</td>\n",
       "      <td>0.285773</td>\n",
       "      <td>-0.351197</td>\n",
       "      <td>-0.145866</td>\n",
       "      <td>-0.595915</td>\n",
       "      <td>0.868902</td>\n",
       "      <td>-0.642635</td>\n",
       "    </tr>\n",
       "    <tr>\n",
       "      <th>996</th>\n",
       "      <td>0.232790</td>\n",
       "      <td>-1.296587</td>\n",
       "      <td>-0.833095</td>\n",
       "      <td>-0.464989</td>\n",
       "      <td>-1.485441</td>\n",
       "      <td>-0.252239</td>\n",
       "      <td>-0.376644</td>\n",
       "      <td>0.361952</td>\n",
       "      <td>-0.637132</td>\n",
       "      <td>-1.273302</td>\n",
       "    </tr>\n",
       "    <tr>\n",
       "      <th>997</th>\n",
       "      <td>0.088010</td>\n",
       "      <td>0.568385</td>\n",
       "      <td>1.528455</td>\n",
       "      <td>-0.035679</td>\n",
       "      <td>-0.189508</td>\n",
       "      <td>0.169635</td>\n",
       "      <td>-0.145866</td>\n",
       "      <td>-0.173169</td>\n",
       "      <td>-0.156891</td>\n",
       "      <td>-0.011968</td>\n",
       "    </tr>\n",
       "    <tr>\n",
       "      <th>998</th>\n",
       "      <td>-0.277386</td>\n",
       "      <td>-1.273145</td>\n",
       "      <td>-1.636936</td>\n",
       "      <td>-1.048003</td>\n",
       "      <td>-0.991149</td>\n",
       "      <td>0.065468</td>\n",
       "      <td>0.772302</td>\n",
       "      <td>0.989827</td>\n",
       "      <td>-1.732080</td>\n",
       "      <td>0.828922</td>\n",
       "    </tr>\n",
       "    <tr>\n",
       "      <th>999</th>\n",
       "      <td>0.133972</td>\n",
       "      <td>-0.361497</td>\n",
       "      <td>-1.055019</td>\n",
       "      <td>-0.035679</td>\n",
       "      <td>-0.724992</td>\n",
       "      <td>0.586300</td>\n",
       "      <td>0.294261</td>\n",
       "      <td>-0.488891</td>\n",
       "      <td>-0.681954</td>\n",
       "      <td>-0.572561</td>\n",
       "    </tr>\n",
       "  </tbody>\n",
       "</table>\n",
       "<p>1000 rows × 10 columns</p>\n",
       "</div>"
      ],
      "text/plain": [
       "           T1      RH_1      RH_2        T3      RH_3        T4        T7  \\\n",
       "0   -0.663466  1.177887  1.308224 -0.464989  0.875121 -0.160226 -1.085462   \n",
       "1   -0.256704 -0.602866 -0.197814 -0.252984 -0.788362 -0.214045 -0.508105   \n",
       "2   -0.187761 -1.142910 -0.696721  0.261129 -1.551980  0.233871 -0.541485   \n",
       "3   -1.812513  0.429467  0.215542 -2.208731  1.458132 -2.595983 -2.341005   \n",
       "4    0.025962  1.681464  1.386999  0.029690  1.774986  0.065468 -0.759076   \n",
       "..        ...       ...       ...       ...       ...       ...       ...   \n",
       "995 -0.601417  0.107351 -0.010618 -1.095704  0.285773 -0.351197 -0.145866   \n",
       "996  0.232790 -1.296587 -0.833095 -0.464989 -1.485441 -0.252239 -0.376644   \n",
       "997  0.088010  0.568385  1.528455 -0.035679 -0.189508  0.169635 -0.145866   \n",
       "998 -0.277386 -1.273145 -1.636936 -1.048003 -0.991149  0.065468  0.772302   \n",
       "999  0.133972 -0.361497 -1.055019 -0.035679 -0.724992  0.586300  0.294261   \n",
       "\n",
       "           T8      RH_8  Windspeed  \n",
       "0   -0.863476  1.904300   2.020182  \n",
       "1   -0.060794 -0.701804  -0.222190  \n",
       "2    0.147903 -1.073190  -0.432412  \n",
       "3   -1.348058  1.572508   0.338403  \n",
       "4   -0.879827  1.981032   0.828922  \n",
       "..        ...       ...        ...  \n",
       "995 -0.595915  0.868902  -0.642635  \n",
       "996  0.361952 -0.637132  -1.273302  \n",
       "997 -0.173169 -0.156891  -0.011968  \n",
       "998  0.989827 -1.732080   0.828922  \n",
       "999 -0.488891 -0.681954  -0.572561  \n",
       "\n",
       "[1000 rows x 10 columns]"
      ]
     },
     "execution_count": 34,
     "metadata": {},
     "output_type": "execute_result"
    }
   ],
   "source": [
    "X_v1"
   ]
  },
  {
   "cell_type": "code",
   "execution_count": 35,
   "metadata": {},
   "outputs": [
    {
     "data": {
      "text/html": [
       "<table class=\"simpletable\">\n",
       "<caption>OLS Regression Results</caption>\n",
       "<tr>\n",
       "  <th>Dep. Variable:</th>            <td>0</td>        <th>  R-squared:         </th> <td>   0.292</td>\n",
       "</tr>\n",
       "<tr>\n",
       "  <th>Model:</th>                   <td>OLS</td>       <th>  Adj. R-squared:    </th> <td>   0.285</td>\n",
       "</tr>\n",
       "<tr>\n",
       "  <th>Method:</th>             <td>Least Squares</td>  <th>  F-statistic:       </th> <td>   40.87</td>\n",
       "</tr>\n",
       "<tr>\n",
       "  <th>Date:</th>             <td>Sun, 04 Aug 2024</td> <th>  Prob (F-statistic):</th> <td>9.77e-68</td>\n",
       "</tr>\n",
       "<tr>\n",
       "  <th>Time:</th>                 <td>14:24:52</td>     <th>  Log-Likelihood:    </th> <td> -101.76</td>\n",
       "</tr>\n",
       "<tr>\n",
       "  <th>No. Observations:</th>      <td>  1000</td>      <th>  AIC:               </th> <td>   225.5</td>\n",
       "</tr>\n",
       "<tr>\n",
       "  <th>Df Residuals:</th>          <td>   989</td>      <th>  BIC:               </th> <td>   279.5</td>\n",
       "</tr>\n",
       "<tr>\n",
       "  <th>Df Model:</th>              <td>    10</td>      <th>                     </th>     <td> </td>   \n",
       "</tr>\n",
       "<tr>\n",
       "  <th>Covariance Type:</th>      <td>nonrobust</td>    <th>                     </th>     <td> </td>   \n",
       "</tr>\n",
       "</table>\n",
       "<table class=\"simpletable\">\n",
       "<tr>\n",
       "      <td></td>         <th>coef</th>     <th>std err</th>      <th>t</th>      <th>P>|t|</th>  <th>[0.025</th>    <th>0.975]</th>  \n",
       "</tr>\n",
       "<tr>\n",
       "  <th>const</th>     <td>    3.4560</td> <td>    0.009</td> <td>  405.715</td> <td> 0.000</td> <td>    3.439</td> <td>    3.473</td>\n",
       "</tr>\n",
       "<tr>\n",
       "  <th>T1</th>        <td>   -0.0522</td> <td>    0.023</td> <td>   -2.287</td> <td> 0.022</td> <td>   -0.097</td> <td>   -0.007</td>\n",
       "</tr>\n",
       "<tr>\n",
       "  <th>RH_1</th>      <td>    0.1451</td> <td>    0.023</td> <td>    6.309</td> <td> 0.000</td> <td>    0.100</td> <td>    0.190</td>\n",
       "</tr>\n",
       "<tr>\n",
       "  <th>RH_2</th>      <td>   -0.0794</td> <td>    0.017</td> <td>   -4.789</td> <td> 0.000</td> <td>   -0.112</td> <td>   -0.047</td>\n",
       "</tr>\n",
       "<tr>\n",
       "  <th>T3</th>        <td>    0.0769</td> <td>    0.022</td> <td>    3.552</td> <td> 0.000</td> <td>    0.034</td> <td>    0.119</td>\n",
       "</tr>\n",
       "<tr>\n",
       "  <th>RH_3</th>      <td>    0.0867</td> <td>    0.022</td> <td>    3.941</td> <td> 0.000</td> <td>    0.044</td> <td>    0.130</td>\n",
       "</tr>\n",
       "<tr>\n",
       "  <th>T4</th>        <td>    0.0431</td> <td>    0.021</td> <td>    2.064</td> <td> 0.039</td> <td>    0.002</td> <td>    0.084</td>\n",
       "</tr>\n",
       "<tr>\n",
       "  <th>T7</th>        <td>   -0.1824</td> <td>    0.024</td> <td>   -7.728</td> <td> 0.000</td> <td>   -0.229</td> <td>   -0.136</td>\n",
       "</tr>\n",
       "<tr>\n",
       "  <th>T8</th>        <td>    0.1843</td> <td>    0.021</td> <td>    8.813</td> <td> 0.000</td> <td>    0.143</td> <td>    0.225</td>\n",
       "</tr>\n",
       "<tr>\n",
       "  <th>RH_8</th>      <td>   -0.2089</td> <td>    0.016</td> <td>  -12.900</td> <td> 0.000</td> <td>   -0.241</td> <td>   -0.177</td>\n",
       "</tr>\n",
       "<tr>\n",
       "  <th>Windspeed</th> <td>    0.0335</td> <td>    0.009</td> <td>    3.585</td> <td> 0.000</td> <td>    0.015</td> <td>    0.052</td>\n",
       "</tr>\n",
       "</table>\n",
       "<table class=\"simpletable\">\n",
       "<tr>\n",
       "  <th>Omnibus:</th>       <td> 6.613</td> <th>  Durbin-Watson:     </th> <td>   1.962</td>\n",
       "</tr>\n",
       "<tr>\n",
       "  <th>Prob(Omnibus):</th> <td> 0.037</td> <th>  Jarque-Bera (JB):  </th> <td>   8.476</td>\n",
       "</tr>\n",
       "<tr>\n",
       "  <th>Skew:</th>          <td> 0.050</td> <th>  Prob(JB):          </th> <td>  0.0144</td>\n",
       "</tr>\n",
       "<tr>\n",
       "  <th>Kurtosis:</th>      <td> 3.440</td> <th>  Cond. No.          </th> <td>    8.20</td>\n",
       "</tr>\n",
       "</table><br/><br/>Notes:<br/>[1] Standard Errors assume that the covariance matrix of the errors is correctly specified."
      ],
      "text/latex": [
       "\\begin{center}\n",
       "\\begin{tabular}{lclc}\n",
       "\\toprule\n",
       "\\textbf{Dep. Variable:}    &        0         & \\textbf{  R-squared:         } &     0.292   \\\\\n",
       "\\textbf{Model:}            &       OLS        & \\textbf{  Adj. R-squared:    } &     0.285   \\\\\n",
       "\\textbf{Method:}           &  Least Squares   & \\textbf{  F-statistic:       } &     40.87   \\\\\n",
       "\\textbf{Date:}             & Sun, 04 Aug 2024 & \\textbf{  Prob (F-statistic):} &  9.77e-68   \\\\\n",
       "\\textbf{Time:}             &     14:24:52     & \\textbf{  Log-Likelihood:    } &   -101.76   \\\\\n",
       "\\textbf{No. Observations:} &        1000      & \\textbf{  AIC:               } &     225.5   \\\\\n",
       "\\textbf{Df Residuals:}     &         989      & \\textbf{  BIC:               } &     279.5   \\\\\n",
       "\\textbf{Df Model:}         &          10      & \\textbf{                     } &             \\\\\n",
       "\\textbf{Covariance Type:}  &    nonrobust     & \\textbf{                     } &             \\\\\n",
       "\\bottomrule\n",
       "\\end{tabular}\n",
       "\\begin{tabular}{lcccccc}\n",
       "                   & \\textbf{coef} & \\textbf{std err} & \\textbf{t} & \\textbf{P$> |$t$|$} & \\textbf{[0.025} & \\textbf{0.975]}  \\\\\n",
       "\\midrule\n",
       "\\textbf{const}     &       3.4560  &        0.009     &   405.715  &         0.000        &        3.439    &        3.473     \\\\\n",
       "\\textbf{T1}        &      -0.0522  &        0.023     &    -2.287  &         0.022        &       -0.097    &       -0.007     \\\\\n",
       "\\textbf{RH\\_1}     &       0.1451  &        0.023     &     6.309  &         0.000        &        0.100    &        0.190     \\\\\n",
       "\\textbf{RH\\_2}     &      -0.0794  &        0.017     &    -4.789  &         0.000        &       -0.112    &       -0.047     \\\\\n",
       "\\textbf{T3}        &       0.0769  &        0.022     &     3.552  &         0.000        &        0.034    &        0.119     \\\\\n",
       "\\textbf{RH\\_3}     &       0.0867  &        0.022     &     3.941  &         0.000        &        0.044    &        0.130     \\\\\n",
       "\\textbf{T4}        &       0.0431  &        0.021     &     2.064  &         0.039        &        0.002    &        0.084     \\\\\n",
       "\\textbf{T7}        &      -0.1824  &        0.024     &    -7.728  &         0.000        &       -0.229    &       -0.136     \\\\\n",
       "\\textbf{T8}        &       0.1843  &        0.021     &     8.813  &         0.000        &        0.143    &        0.225     \\\\\n",
       "\\textbf{RH\\_8}     &      -0.2089  &        0.016     &   -12.900  &         0.000        &       -0.241    &       -0.177     \\\\\n",
       "\\textbf{Windspeed} &       0.0335  &        0.009     &     3.585  &         0.000        &        0.015    &        0.052     \\\\\n",
       "\\bottomrule\n",
       "\\end{tabular}\n",
       "\\begin{tabular}{lclc}\n",
       "\\textbf{Omnibus:}       &  6.613 & \\textbf{  Durbin-Watson:     } &    1.962  \\\\\n",
       "\\textbf{Prob(Omnibus):} &  0.037 & \\textbf{  Jarque-Bera (JB):  } &    8.476  \\\\\n",
       "\\textbf{Skew:}          &  0.050 & \\textbf{  Prob(JB):          } &   0.0144  \\\\\n",
       "\\textbf{Kurtosis:}      &  3.440 & \\textbf{  Cond. No.          } &     8.20  \\\\\n",
       "\\bottomrule\n",
       "\\end{tabular}\n",
       "%\\caption{OLS Regression Results}\n",
       "\\end{center}\n",
       "\n",
       "Notes: \\newline\n",
       " [1] Standard Errors assume that the covariance matrix of the errors is correctly specified."
      ],
      "text/plain": [
       "<class 'statsmodels.iolib.summary.Summary'>\n",
       "\"\"\"\n",
       "                            OLS Regression Results                            \n",
       "==============================================================================\n",
       "Dep. Variable:                      0   R-squared:                       0.292\n",
       "Model:                            OLS   Adj. R-squared:                  0.285\n",
       "Method:                 Least Squares   F-statistic:                     40.87\n",
       "Date:                Sun, 04 Aug 2024   Prob (F-statistic):           9.77e-68\n",
       "Time:                        14:24:52   Log-Likelihood:                -101.76\n",
       "No. Observations:                1000   AIC:                             225.5\n",
       "Df Residuals:                     989   BIC:                             279.5\n",
       "Df Model:                          10                                         \n",
       "Covariance Type:            nonrobust                                         \n",
       "==============================================================================\n",
       "                 coef    std err          t      P>|t|      [0.025      0.975]\n",
       "------------------------------------------------------------------------------\n",
       "const          3.4560      0.009    405.715      0.000       3.439       3.473\n",
       "T1            -0.0522      0.023     -2.287      0.022      -0.097      -0.007\n",
       "RH_1           0.1451      0.023      6.309      0.000       0.100       0.190\n",
       "RH_2          -0.0794      0.017     -4.789      0.000      -0.112      -0.047\n",
       "T3             0.0769      0.022      3.552      0.000       0.034       0.119\n",
       "RH_3           0.0867      0.022      3.941      0.000       0.044       0.130\n",
       "T4             0.0431      0.021      2.064      0.039       0.002       0.084\n",
       "T7            -0.1824      0.024     -7.728      0.000      -0.229      -0.136\n",
       "T8             0.1843      0.021      8.813      0.000       0.143       0.225\n",
       "RH_8          -0.2089      0.016    -12.900      0.000      -0.241      -0.177\n",
       "Windspeed      0.0335      0.009      3.585      0.000       0.015       0.052\n",
       "==============================================================================\n",
       "Omnibus:                        6.613   Durbin-Watson:                   1.962\n",
       "Prob(Omnibus):                  0.037   Jarque-Bera (JB):                8.476\n",
       "Skew:                           0.050   Prob(JB):                       0.0144\n",
       "Kurtosis:                       3.440   Cond. No.                         8.20\n",
       "==============================================================================\n",
       "\n",
       "Notes:\n",
       "[1] Standard Errors assume that the covariance matrix of the errors is correctly specified.\n",
       "\"\"\""
      ]
     },
     "execution_count": 35,
     "metadata": {},
     "output_type": "execute_result"
    }
   ],
   "source": [
    "X_sc = sm.add_constant(X_v1)\n",
    "ols = sm.OLS(box_Y, X_sc)\n",
    "ols_mod = ols.fit()\n",
    "\n",
    "ols_mod.summary()"
   ]
  },
  {
   "cell_type": "markdown",
   "metadata": {},
   "source": [
    "## Forward Selection Technique"
   ]
  },
  {
   "cell_type": "code",
   "execution_count": 36,
   "metadata": {},
   "outputs": [],
   "source": [
    "from sklearn.linear_model import LinearRegression\n",
    "from  sklearn.model_selection import train_test_split"
   ]
  },
  {
   "cell_type": "code",
   "execution_count": 37,
   "metadata": {},
   "outputs": [],
   "source": [
    "X_Train, X_Test, Y_Train, Y_Test = train_test_split(X_sc1, box_Y, test_size=0.3, random_state=48)"
   ]
  },
  {
   "cell_type": "code",
   "execution_count": 38,
   "metadata": {},
   "outputs": [
    {
     "data": {
      "text/html": [
       "<style>#sk-container-id-1 {color: black;background-color: white;}#sk-container-id-1 pre{padding: 0;}#sk-container-id-1 div.sk-toggleable {background-color: white;}#sk-container-id-1 label.sk-toggleable__label {cursor: pointer;display: block;width: 100%;margin-bottom: 0;padding: 0.3em;box-sizing: border-box;text-align: center;}#sk-container-id-1 label.sk-toggleable__label-arrow:before {content: \"▸\";float: left;margin-right: 0.25em;color: #696969;}#sk-container-id-1 label.sk-toggleable__label-arrow:hover:before {color: black;}#sk-container-id-1 div.sk-estimator:hover label.sk-toggleable__label-arrow:before {color: black;}#sk-container-id-1 div.sk-toggleable__content {max-height: 0;max-width: 0;overflow: hidden;text-align: left;background-color: #f0f8ff;}#sk-container-id-1 div.sk-toggleable__content pre {margin: 0.2em;color: black;border-radius: 0.25em;background-color: #f0f8ff;}#sk-container-id-1 input.sk-toggleable__control:checked~div.sk-toggleable__content {max-height: 200px;max-width: 100%;overflow: auto;}#sk-container-id-1 input.sk-toggleable__control:checked~label.sk-toggleable__label-arrow:before {content: \"▾\";}#sk-container-id-1 div.sk-estimator input.sk-toggleable__control:checked~label.sk-toggleable__label {background-color: #d4ebff;}#sk-container-id-1 div.sk-label input.sk-toggleable__control:checked~label.sk-toggleable__label {background-color: #d4ebff;}#sk-container-id-1 input.sk-hidden--visually {border: 0;clip: rect(1px 1px 1px 1px);clip: rect(1px, 1px, 1px, 1px);height: 1px;margin: -1px;overflow: hidden;padding: 0;position: absolute;width: 1px;}#sk-container-id-1 div.sk-estimator {font-family: monospace;background-color: #f0f8ff;border: 1px dotted black;border-radius: 0.25em;box-sizing: border-box;margin-bottom: 0.5em;}#sk-container-id-1 div.sk-estimator:hover {background-color: #d4ebff;}#sk-container-id-1 div.sk-parallel-item::after {content: \"\";width: 100%;border-bottom: 1px solid gray;flex-grow: 1;}#sk-container-id-1 div.sk-label:hover label.sk-toggleable__label {background-color: #d4ebff;}#sk-container-id-1 div.sk-serial::before {content: \"\";position: absolute;border-left: 1px solid gray;box-sizing: border-box;top: 0;bottom: 0;left: 50%;z-index: 0;}#sk-container-id-1 div.sk-serial {display: flex;flex-direction: column;align-items: center;background-color: white;padding-right: 0.2em;padding-left: 0.2em;position: relative;}#sk-container-id-1 div.sk-item {position: relative;z-index: 1;}#sk-container-id-1 div.sk-parallel {display: flex;align-items: stretch;justify-content: center;background-color: white;position: relative;}#sk-container-id-1 div.sk-item::before, #sk-container-id-1 div.sk-parallel-item::before {content: \"\";position: absolute;border-left: 1px solid gray;box-sizing: border-box;top: 0;bottom: 0;left: 50%;z-index: -1;}#sk-container-id-1 div.sk-parallel-item {display: flex;flex-direction: column;z-index: 1;position: relative;background-color: white;}#sk-container-id-1 div.sk-parallel-item:first-child::after {align-self: flex-end;width: 50%;}#sk-container-id-1 div.sk-parallel-item:last-child::after {align-self: flex-start;width: 50%;}#sk-container-id-1 div.sk-parallel-item:only-child::after {width: 0;}#sk-container-id-1 div.sk-dashed-wrapped {border: 1px dashed gray;margin: 0 0.4em 0.5em 0.4em;box-sizing: border-box;padding-bottom: 0.4em;background-color: white;}#sk-container-id-1 div.sk-label label {font-family: monospace;font-weight: bold;display: inline-block;line-height: 1.2em;}#sk-container-id-1 div.sk-label-container {text-align: center;}#sk-container-id-1 div.sk-container {/* jupyter's `normalize.less` sets `[hidden] { display: none; }` but bootstrap.min.css set `[hidden] { display: none !important; }` so we also need the `!important` here to be able to override the default hidden behavior on the sphinx rendered scikit-learn.org. See: https://github.com/scikit-learn/scikit-learn/issues/21755 */display: inline-block !important;position: relative;}#sk-container-id-1 div.sk-text-repr-fallback {display: none;}</style><div id=\"sk-container-id-1\" class=\"sk-top-container\"><div class=\"sk-text-repr-fallback\"><pre>LinearRegression()</pre><b>In a Jupyter environment, please rerun this cell to show the HTML representation or trust the notebook. <br />On GitHub, the HTML representation is unable to render, please try loading this page with nbviewer.org.</b></div><div class=\"sk-container\" hidden><div class=\"sk-item\"><div class=\"sk-estimator sk-toggleable\"><input class=\"sk-toggleable__control sk-hidden--visually\" id=\"sk-estimator-id-1\" type=\"checkbox\" checked><label for=\"sk-estimator-id-1\" class=\"sk-toggleable__label sk-toggleable__label-arrow\">LinearRegression</label><div class=\"sk-toggleable__content\"><pre>LinearRegression()</pre></div></div></div></div></div>"
      ],
      "text/plain": [
       "LinearRegression()"
      ]
     },
     "execution_count": 38,
     "metadata": {},
     "output_type": "execute_result"
    }
   ],
   "source": [
    "lr = LinearRegression()\n",
    "\n",
    "lr.fit(X_Train, Y_Train)"
   ]
  },
  {
   "cell_type": "code",
   "execution_count": 39,
   "metadata": {},
   "outputs": [],
   "source": [
    "Y_pred = lr.predict(X_Test)"
   ]
  },
  {
   "cell_type": "code",
   "execution_count": 40,
   "metadata": {},
   "outputs": [
    {
     "data": {
      "application/javascript": "\n        if (window._pyforest_update_imports_cell) { window._pyforest_update_imports_cell('import numpy as np\\nimport matplotlib.pyplot as plt\\nimport pandas as pd\\nimport seaborn as sns'); }\n    ",
      "text/plain": [
       "<IPython.core.display.Javascript object>"
      ]
     },
     "metadata": {},
     "output_type": "display_data"
    },
    {
     "data": {
      "text/html": [
       "<div>\n",
       "<style scoped>\n",
       "    .dataframe tbody tr th:only-of-type {\n",
       "        vertical-align: middle;\n",
       "    }\n",
       "\n",
       "    .dataframe tbody tr th {\n",
       "        vertical-align: top;\n",
       "    }\n",
       "\n",
       "    .dataframe thead th {\n",
       "        text-align: right;\n",
       "    }\n",
       "</style>\n",
       "<table border=\"1\" class=\"dataframe\">\n",
       "  <thead>\n",
       "    <tr style=\"text-align: right;\">\n",
       "      <th></th>\n",
       "      <th>T1</th>\n",
       "      <th>RH_1</th>\n",
       "      <th>T2</th>\n",
       "      <th>RH_2</th>\n",
       "      <th>T3</th>\n",
       "      <th>RH_3</th>\n",
       "      <th>T4</th>\n",
       "      <th>T5</th>\n",
       "      <th>RH_5</th>\n",
       "      <th>RH_6</th>\n",
       "      <th>T7</th>\n",
       "      <th>RH_7</th>\n",
       "      <th>T8</th>\n",
       "      <th>RH_8</th>\n",
       "      <th>RH_9</th>\n",
       "      <th>T_out</th>\n",
       "      <th>Press_mm_hg</th>\n",
       "      <th>RH_out</th>\n",
       "      <th>Windspeed</th>\n",
       "      <th>Visibility</th>\n",
       "    </tr>\n",
       "  </thead>\n",
       "  <tbody>\n",
       "    <tr>\n",
       "      <th>0</th>\n",
       "      <td>-0.07967</td>\n",
       "      <td>0.125978</td>\n",
       "      <td>0.021541</td>\n",
       "      <td>-0.073566</td>\n",
       "      <td>0.117768</td>\n",
       "      <td>0.078293</td>\n",
       "      <td>0.05807</td>\n",
       "      <td>-0.025304</td>\n",
       "      <td>0.005911</td>\n",
       "      <td>0.04927</td>\n",
       "      <td>-0.200405</td>\n",
       "      <td>0.036628</td>\n",
       "      <td>0.200984</td>\n",
       "      <td>-0.232611</td>\n",
       "      <td>-0.009236</td>\n",
       "      <td>0.01162</td>\n",
       "      <td>0.014028</td>\n",
       "      <td>-0.019783</td>\n",
       "      <td>0.027041</td>\n",
       "      <td>-0.00317</td>\n",
       "    </tr>\n",
       "  </tbody>\n",
       "</table>\n",
       "</div>"
      ],
      "text/plain": [
       "        T1      RH_1        T2      RH_2        T3      RH_3       T4  \\\n",
       "0 -0.07967  0.125978  0.021541 -0.073566  0.117768  0.078293  0.05807   \n",
       "\n",
       "         T5      RH_5     RH_6        T7      RH_7        T8      RH_8  \\\n",
       "0 -0.025304  0.005911  0.04927 -0.200405  0.036628  0.200984 -0.232611   \n",
       "\n",
       "       RH_9    T_out  Press_mm_hg    RH_out  Windspeed  Visibility  \n",
       "0 -0.009236  0.01162     0.014028 -0.019783   0.027041    -0.00317  "
      ]
     },
     "execution_count": 40,
     "metadata": {},
     "output_type": "execute_result"
    }
   ],
   "source": [
    "lr.coef_\n",
    "\n",
    "pd.DataFrame(lr.coef_, columns=X_Train.columns)"
   ]
  },
  {
   "cell_type": "code",
   "execution_count": 41,
   "metadata": {},
   "outputs": [
    {
     "data": {
      "text/plain": [
       "array([3.46518161])"
      ]
     },
     "execution_count": 41,
     "metadata": {},
     "output_type": "execute_result"
    }
   ],
   "source": [
    "lr.intercept_"
   ]
  },
  {
   "cell_type": "code",
   "execution_count": 42,
   "metadata": {},
   "outputs": [
    {
     "data": {
      "text/plain": [
       "(300, 1)"
      ]
     },
     "execution_count": 42,
     "metadata": {},
     "output_type": "execute_result"
    }
   ],
   "source": [
    "Y_pred.shape"
   ]
  },
  {
   "cell_type": "code",
   "execution_count": 43,
   "metadata": {},
   "outputs": [
    {
     "data": {
      "text/plain": [
       "0.24100506280332257"
      ]
     },
     "execution_count": 43,
     "metadata": {},
     "output_type": "execute_result"
    }
   ],
   "source": [
    "from sklearn.metrics import r2_score, mean_squared_error\n",
    "\n",
    "r2_score(Y_Test, Y_pred)"
   ]
  },
  {
   "cell_type": "code",
   "execution_count": 44,
   "metadata": {},
   "outputs": [
    {
     "data": {
      "text/plain": [
       "0.0806727023588955"
      ]
     },
     "execution_count": 44,
     "metadata": {},
     "output_type": "execute_result"
    }
   ],
   "source": [
    "mean_squared_error(Y_Test, Y_pred)"
   ]
  },
  {
   "cell_type": "markdown",
   "metadata": {},
   "source": [
    "### Feature Selection with SK-Learn"
   ]
  },
  {
   "cell_type": "code",
   "execution_count": 45,
   "metadata": {},
   "outputs": [],
   "source": [
    "from mlxtend.feature_selection import SequentialFeatureSelector as sfs"
   ]
  },
  {
   "cell_type": "code",
   "execution_count": 46,
   "metadata": {},
   "outputs": [
    {
     "data": {
      "text/plain": [
       "0.2622032475641302"
      ]
     },
     "execution_count": 46,
     "metadata": {},
     "output_type": "execute_result"
    }
   ],
   "source": [
    "lr = LinearRegression()\n",
    "\n",
    "lr_back = sfs(estimator=lr, k_features=8, forward=False) # here k_features is the no of features to be selected\n",
    "# k_features accpets tuple value (4, 16) this gives best set of significant features within the range of 4 to 16.\n",
    "# can be given **best** to get the best features out the significance features\n",
    "# to make the above as forward selection / backward selection we can toggle with forward as True or False, True will give the Forward Selection and False will Backward Selection\n",
    "sfs_back = lr_back.fit(X_Train, Y_Train)\n",
    "back_feat = sfs_back.k_feature_names_\n",
    "\n",
    "sfs_back.k_score_ # this it the value of R-Square value"
   ]
  },
  {
   "cell_type": "markdown",
   "metadata": {},
   "source": [
    "* here k_features is the no of features to be selected\n",
    "* k_features accpets tuple value (4, 16) this gives best set of significant features within the range of 4 to 16. can be given **best** to get the best features out the significance features\n",
    "* to make the above as forward selection / backward selection we can toggle with forward as True or False, True will give the Forward Selection and False will Backward Selection"
   ]
  },
  {
   "cell_type": "markdown",
   "metadata": {},
   "source": [
    "### Feature ranking with recursive feature elimination."
   ]
  },
  {
   "cell_type": "code",
   "execution_count": 47,
   "metadata": {},
   "outputs": [
    {
     "data": {
      "text/plain": [
       "array([ 1,  1,  6,  1,  1,  1,  2,  4, 12,  7,  1,  3,  1,  1, 10, 11,  9,\n",
       "        8,  5, 13])"
      ]
     },
     "execution_count": 47,
     "metadata": {},
     "output_type": "execute_result"
    }
   ],
   "source": [
    "from sklearn.feature_selection import RFE\n",
    "\n",
    "rfe_mod = RFE(estimator=lr, n_features_to_select=8)\n",
    "rfe_feat = rfe_mod.fit(X_Train, Y_Train)\n",
    "\n",
    "rfe_feat.ranking_"
   ]
  },
  {
   "cell_type": "code",
   "execution_count": 48,
   "metadata": {},
   "outputs": [
    {
     "data": {
      "application/javascript": "\n        if (window._pyforest_update_imports_cell) { window._pyforest_update_imports_cell('import numpy as np\\nimport matplotlib.pyplot as plt\\nimport pandas as pd\\nimport seaborn as sns'); }\n    ",
      "text/plain": [
       "<IPython.core.display.Javascript object>"
      ]
     },
     "metadata": {},
     "output_type": "display_data"
    },
    {
     "data": {
      "text/html": [
       "<div>\n",
       "<style scoped>\n",
       "    .dataframe tbody tr th:only-of-type {\n",
       "        vertical-align: middle;\n",
       "    }\n",
       "\n",
       "    .dataframe tbody tr th {\n",
       "        vertical-align: top;\n",
       "    }\n",
       "\n",
       "    .dataframe thead th {\n",
       "        text-align: right;\n",
       "    }\n",
       "</style>\n",
       "<table border=\"1\" class=\"dataframe\">\n",
       "  <thead>\n",
       "    <tr style=\"text-align: right;\">\n",
       "      <th></th>\n",
       "      <th>Rank</th>\n",
       "      <th>Feature</th>\n",
       "    </tr>\n",
       "  </thead>\n",
       "  <tbody>\n",
       "    <tr>\n",
       "      <th>0</th>\n",
       "      <td>1</td>\n",
       "      <td>T1</td>\n",
       "    </tr>\n",
       "    <tr>\n",
       "      <th>1</th>\n",
       "      <td>1</td>\n",
       "      <td>RH_1</td>\n",
       "    </tr>\n",
       "    <tr>\n",
       "      <th>3</th>\n",
       "      <td>1</td>\n",
       "      <td>RH_2</td>\n",
       "    </tr>\n",
       "    <tr>\n",
       "      <th>4</th>\n",
       "      <td>1</td>\n",
       "      <td>T3</td>\n",
       "    </tr>\n",
       "    <tr>\n",
       "      <th>5</th>\n",
       "      <td>1</td>\n",
       "      <td>RH_3</td>\n",
       "    </tr>\n",
       "    <tr>\n",
       "      <th>10</th>\n",
       "      <td>1</td>\n",
       "      <td>T7</td>\n",
       "    </tr>\n",
       "    <tr>\n",
       "      <th>12</th>\n",
       "      <td>1</td>\n",
       "      <td>T8</td>\n",
       "    </tr>\n",
       "    <tr>\n",
       "      <th>13</th>\n",
       "      <td>1</td>\n",
       "      <td>RH_8</td>\n",
       "    </tr>\n",
       "  </tbody>\n",
       "</table>\n",
       "</div>"
      ],
      "text/plain": [
       "    Rank Feature\n",
       "0      1      T1\n",
       "1      1    RH_1\n",
       "3      1    RH_2\n",
       "4      1      T3\n",
       "5      1    RH_3\n",
       "10     1      T7\n",
       "12     1      T8\n",
       "13     1    RH_8"
      ]
     },
     "execution_count": 48,
     "metadata": {},
     "output_type": "execute_result"
    }
   ],
   "source": [
    "rank = pd.DataFrame()\n",
    "\n",
    "rank['Rank'] = rfe_feat.ranking_\n",
    "rank['Feature'] = X_Train.columns\n",
    "\n",
    "feat = rank[rank['Rank'] == 1]\n",
    "feat = feat.reindex()\n",
    "feat"
   ]
  },
  {
   "cell_type": "markdown",
   "metadata": {},
   "source": [
    "### Recursive feature elimination with cross-validation to select features."
   ]
  },
  {
   "cell_type": "code",
   "execution_count": 49,
   "metadata": {},
   "outputs": [
    {
     "data": {
      "application/javascript": "\n        if (window._pyforest_update_imports_cell) { window._pyforest_update_imports_cell('import numpy as np\\nimport matplotlib.pyplot as plt\\nimport pandas as pd\\nimport seaborn as sns'); }\n    ",
      "text/plain": [
       "<IPython.core.display.Javascript object>"
      ]
     },
     "metadata": {},
     "output_type": "display_data"
    },
    {
     "data": {
      "text/html": [
       "<div>\n",
       "<style scoped>\n",
       "    .dataframe tbody tr th:only-of-type {\n",
       "        vertical-align: middle;\n",
       "    }\n",
       "\n",
       "    .dataframe tbody tr th {\n",
       "        vertical-align: top;\n",
       "    }\n",
       "\n",
       "    .dataframe thead th {\n",
       "        text-align: right;\n",
       "    }\n",
       "</style>\n",
       "<table border=\"1\" class=\"dataframe\">\n",
       "  <thead>\n",
       "    <tr style=\"text-align: right;\">\n",
       "      <th></th>\n",
       "      <th>Rank</th>\n",
       "      <th>Feature</th>\n",
       "    </tr>\n",
       "  </thead>\n",
       "  <tbody>\n",
       "    <tr>\n",
       "      <th>1</th>\n",
       "      <td>1</td>\n",
       "      <td>RH_1</td>\n",
       "    </tr>\n",
       "    <tr>\n",
       "      <th>3</th>\n",
       "      <td>1</td>\n",
       "      <td>RH_2</td>\n",
       "    </tr>\n",
       "    <tr>\n",
       "      <th>4</th>\n",
       "      <td>1</td>\n",
       "      <td>T3</td>\n",
       "    </tr>\n",
       "    <tr>\n",
       "      <th>5</th>\n",
       "      <td>1</td>\n",
       "      <td>RH_3</td>\n",
       "    </tr>\n",
       "    <tr>\n",
       "      <th>10</th>\n",
       "      <td>1</td>\n",
       "      <td>T7</td>\n",
       "    </tr>\n",
       "    <tr>\n",
       "      <th>12</th>\n",
       "      <td>1</td>\n",
       "      <td>T8</td>\n",
       "    </tr>\n",
       "    <tr>\n",
       "      <th>13</th>\n",
       "      <td>1</td>\n",
       "      <td>RH_8</td>\n",
       "    </tr>\n",
       "  </tbody>\n",
       "</table>\n",
       "</div>"
      ],
      "text/plain": [
       "    Rank Feature\n",
       "1      1    RH_1\n",
       "3      1    RH_2\n",
       "4      1      T3\n",
       "5      1    RH_3\n",
       "10     1      T7\n",
       "12     1      T8\n",
       "13     1    RH_8"
      ]
     },
     "execution_count": 49,
     "metadata": {},
     "output_type": "execute_result"
    }
   ],
   "source": [
    "from sklearn.feature_selection import RFECV\n",
    "\n",
    "rfe_mod = RFECV(estimator=lr)\n",
    "rfe_feat = rfe_mod.fit(X_Train, Y_Train)\n",
    "\n",
    "rfe_feat.ranking_\n",
    "rank = pd.DataFrame()\n",
    "\n",
    "rank['Rank'] = rfe_feat.ranking_\n",
    "rank['Feature'] = X_Train.columns\n",
    "\n",
    "feat = rank[rank['Rank'] == 1]\n",
    "feat = feat.reindex()\n",
    "feat"
   ]
  },
  {
   "cell_type": "code",
   "execution_count": 50,
   "metadata": {},
   "outputs": [
    {
     "name": "stdout",
     "output_type": "stream",
     "text": [
      "BackWord Feature Slection Method selected Features\n"
     ]
    },
    {
     "data": {
      "text/plain": [
       "['RH_1', 'RH_2', 'T3', 'RH_3', 'T7', 'T8', 'RH_8', 'Windspeed']"
      ]
     },
     "execution_count": 50,
     "metadata": {},
     "output_type": "execute_result"
    }
   ],
   "source": [
    "print(\"BackWord Feature Slection Method selected Features\")\n",
    "list(back_feat)"
   ]
  },
  {
   "cell_type": "code",
   "execution_count": 51,
   "metadata": {},
   "outputs": [
    {
     "name": "stdout",
     "output_type": "stream",
     "text": [
      "Features Selected By Recursive Forward Elimator\n"
     ]
    },
    {
     "data": {
      "text/plain": [
       "['RH_1', 'RH_2', 'T3', 'RH_3', 'T7', 'T8', 'RH_8']"
      ]
     },
     "execution_count": 51,
     "metadata": {},
     "output_type": "execute_result"
    }
   ],
   "source": [
    "print(\"Features Selected By Recursive Forward Elimator\")\n",
    "list(feat.Feature)"
   ]
  },
  {
   "cell_type": "code",
   "execution_count": 52,
   "metadata": {},
   "outputs": [
    {
     "data": {
      "text/html": [
       "<div>\n",
       "<style scoped>\n",
       "    .dataframe tbody tr th:only-of-type {\n",
       "        vertical-align: middle;\n",
       "    }\n",
       "\n",
       "    .dataframe tbody tr th {\n",
       "        vertical-align: top;\n",
       "    }\n",
       "\n",
       "    .dataframe thead th {\n",
       "        text-align: right;\n",
       "    }\n",
       "</style>\n",
       "<table border=\"1\" class=\"dataframe\">\n",
       "  <thead>\n",
       "    <tr style=\"text-align: right;\">\n",
       "      <th></th>\n",
       "      <th>T1</th>\n",
       "      <th>RH_1</th>\n",
       "      <th>T2</th>\n",
       "      <th>RH_2</th>\n",
       "      <th>T3</th>\n",
       "      <th>RH_3</th>\n",
       "      <th>T4</th>\n",
       "      <th>T5</th>\n",
       "      <th>RH_5</th>\n",
       "      <th>RH_6</th>\n",
       "      <th>T7</th>\n",
       "      <th>RH_7</th>\n",
       "      <th>T8</th>\n",
       "      <th>RH_8</th>\n",
       "      <th>RH_9</th>\n",
       "      <th>T_out</th>\n",
       "      <th>Press_mm_hg</th>\n",
       "      <th>RH_out</th>\n",
       "      <th>Windspeed</th>\n",
       "      <th>Visibility</th>\n",
       "    </tr>\n",
       "  </thead>\n",
       "  <tbody>\n",
       "    <tr>\n",
       "      <th>729</th>\n",
       "      <td>0.156953</td>\n",
       "      <td>0.419916</td>\n",
       "      <td>-0.322680</td>\n",
       "      <td>1.209120</td>\n",
       "      <td>0.989013</td>\n",
       "      <td>0.225570</td>\n",
       "      <td>0.430051</td>\n",
       "      <td>0.685706</td>\n",
       "      <td>0.083920</td>\n",
       "      <td>-0.096241</td>\n",
       "      <td>0.477235</td>\n",
       "      <td>0.261316</td>\n",
       "      <td>0.474327</td>\n",
       "      <td>0.792064</td>\n",
       "      <td>0.868488</td>\n",
       "      <td>0.432258</td>\n",
       "      <td>-1.437744</td>\n",
       "      <td>0.604825</td>\n",
       "      <td>0.408477</td>\n",
       "      <td>-0.973849</td>\n",
       "    </tr>\n",
       "    <tr>\n",
       "      <th>319</th>\n",
       "      <td>-0.946131</td>\n",
       "      <td>-0.612417</td>\n",
       "      <td>-0.913673</td>\n",
       "      <td>-0.419739</td>\n",
       "      <td>-0.729995</td>\n",
       "      <td>0.003773</td>\n",
       "      <td>-0.872029</td>\n",
       "      <td>-0.974870</td>\n",
       "      <td>-0.221384</td>\n",
       "      <td>0.899271</td>\n",
       "      <td>-0.958534</td>\n",
       "      <td>-0.422905</td>\n",
       "      <td>-0.809964</td>\n",
       "      <td>0.611493</td>\n",
       "      <td>0.187510</td>\n",
       "      <td>-0.711949</td>\n",
       "      <td>-1.705673</td>\n",
       "      <td>0.570093</td>\n",
       "      <td>0.478551</td>\n",
       "      <td>-0.660337</td>\n",
       "    </tr>\n",
       "    <tr>\n",
       "      <th>340</th>\n",
       "      <td>-1.421837</td>\n",
       "      <td>-0.306798</td>\n",
       "      <td>-1.074853</td>\n",
       "      <td>-0.315553</td>\n",
       "      <td>-1.313010</td>\n",
       "      <td>0.415683</td>\n",
       "      <td>-0.976196</td>\n",
       "      <td>-1.349931</td>\n",
       "      <td>1.853405</td>\n",
       "      <td>1.022237</td>\n",
       "      <td>-1.256073</td>\n",
       "      <td>-0.261937</td>\n",
       "      <td>-1.291573</td>\n",
       "      <td>0.504880</td>\n",
       "      <td>-0.242155</td>\n",
       "      <td>-2.377179</td>\n",
       "      <td>0.128964</td>\n",
       "      <td>0.778489</td>\n",
       "      <td>-1.273302</td>\n",
       "      <td>1.897920</td>\n",
       "    </tr>\n",
       "    <tr>\n",
       "      <th>361</th>\n",
       "      <td>-0.111924</td>\n",
       "      <td>-1.273145</td>\n",
       "      <td>-0.990682</td>\n",
       "      <td>-0.410421</td>\n",
       "      <td>0.176327</td>\n",
       "      <td>-1.422070</td>\n",
       "      <td>0.117551</td>\n",
       "      <td>0.399399</td>\n",
       "      <td>-1.205498</td>\n",
       "      <td>-0.080835</td>\n",
       "      <td>0.739334</td>\n",
       "      <td>-0.377509</td>\n",
       "      <td>1.330521</td>\n",
       "      <td>-0.816421</td>\n",
       "      <td>-1.191471</td>\n",
       "      <td>-1.055892</td>\n",
       "      <td>0.344671</td>\n",
       "      <td>0.743756</td>\n",
       "      <td>-1.203228</td>\n",
       "      <td>0.201821</td>\n",
       "    </tr>\n",
       "    <tr>\n",
       "      <th>62</th>\n",
       "      <td>-0.877189</td>\n",
       "      <td>-0.882439</td>\n",
       "      <td>-1.343487</td>\n",
       "      <td>-0.165627</td>\n",
       "      <td>-1.148706</td>\n",
       "      <td>-0.629935</td>\n",
       "      <td>0.268593</td>\n",
       "      <td>-0.854622</td>\n",
       "      <td>0.732891</td>\n",
       "      <td>-0.073293</td>\n",
       "      <td>-1.036010</td>\n",
       "      <td>-0.081452</td>\n",
       "      <td>-0.922339</td>\n",
       "      <td>0.221538</td>\n",
       "      <td>-0.906919</td>\n",
       "      <td>-0.998001</td>\n",
       "      <td>-0.518154</td>\n",
       "      <td>0.083835</td>\n",
       "      <td>-1.273302</td>\n",
       "      <td>-1.444117</td>\n",
       "    </tr>\n",
       "  </tbody>\n",
       "</table>\n",
       "</div>"
      ],
      "text/plain": [
       "           T1      RH_1        T2      RH_2        T3      RH_3        T4  \\\n",
       "729  0.156953  0.419916 -0.322680  1.209120  0.989013  0.225570  0.430051   \n",
       "319 -0.946131 -0.612417 -0.913673 -0.419739 -0.729995  0.003773 -0.872029   \n",
       "340 -1.421837 -0.306798 -1.074853 -0.315553 -1.313010  0.415683 -0.976196   \n",
       "361 -0.111924 -1.273145 -0.990682 -0.410421  0.176327 -1.422070  0.117551   \n",
       "62  -0.877189 -0.882439 -1.343487 -0.165627 -1.148706 -0.629935  0.268593   \n",
       "\n",
       "           T5      RH_5      RH_6        T7      RH_7        T8      RH_8  \\\n",
       "729  0.685706  0.083920 -0.096241  0.477235  0.261316  0.474327  0.792064   \n",
       "319 -0.974870 -0.221384  0.899271 -0.958534 -0.422905 -0.809964  0.611493   \n",
       "340 -1.349931  1.853405  1.022237 -1.256073 -0.261937 -1.291573  0.504880   \n",
       "361  0.399399 -1.205498 -0.080835  0.739334 -0.377509  1.330521 -0.816421   \n",
       "62  -0.854622  0.732891 -0.073293 -1.036010 -0.081452 -0.922339  0.221538   \n",
       "\n",
       "         RH_9     T_out  Press_mm_hg    RH_out  Windspeed  Visibility  \n",
       "729  0.868488  0.432258    -1.437744  0.604825   0.408477   -0.973849  \n",
       "319  0.187510 -0.711949    -1.705673  0.570093   0.478551   -0.660337  \n",
       "340 -0.242155 -2.377179     0.128964  0.778489  -1.273302    1.897920  \n",
       "361 -1.191471 -1.055892     0.344671  0.743756  -1.203228    0.201821  \n",
       "62  -0.906919 -0.998001    -0.518154  0.083835  -1.273302   -1.444117  "
      ]
     },
     "execution_count": 52,
     "metadata": {},
     "output_type": "execute_result"
    }
   ],
   "source": [
    "X_Train.head()"
   ]
  },
  {
   "cell_type": "code",
   "execution_count": 53,
   "metadata": {},
   "outputs": [
    {
     "data": {
      "text/plain": [
       "[0.29657567933792517,\n",
       " 0.25244382265523524,\n",
       " 0.0694839624274333,\n",
       " 0.07945688967864686]"
      ]
     },
     "execution_count": 53,
     "metadata": {},
     "output_type": "execute_result"
    }
   ],
   "source": [
    "lr = LinearRegression()\n",
    "X_Train_feat = X_Train[list(back_feat)]\n",
    "X_test_feat = X_Test[list(back_feat)]\n",
    "lr.fit(X_Train_feat, Y_Train)\n",
    "\n",
    "ypred_train = lr.predict(X_Train_feat)\n",
    "ypred_test = lr.predict(X_test_feat)\n",
    "\n",
    "r2_train = r2_score(Y_Train, ypred_train)\n",
    "r2_test = r2_score(Y_Test, ypred_test)\n",
    "\n",
    "mse_train = mean_squared_error(Y_Train, ypred_train)\n",
    "mse_test = mean_squared_error(Y_Test, ypred_test)\n",
    "\n",
    "res_backw = [r2_train, r2_test, mse_train, mse_test]\n",
    "res_backw"
   ]
  },
  {
   "cell_type": "code",
   "execution_count": 54,
   "metadata": {},
   "outputs": [
    {
     "data": {
      "text/plain": [
       "[0.29007090311684036,\n",
       " 0.2411523857772646,\n",
       " 0.07012650152264018,\n",
       " 0.08065704356877056]"
      ]
     },
     "execution_count": 54,
     "metadata": {},
     "output_type": "execute_result"
    }
   ],
   "source": [
    "lr = LinearRegression()\n",
    "X_Train_feat = X_Train[list(feat.Feature)]\n",
    "X_test_feat = X_Test[list(feat.Feature)]\n",
    "lr.fit(X_Train_feat, Y_Train)\n",
    "\n",
    "ypred_train = lr.predict(X_Train_feat)\n",
    "ypred_test = lr.predict(X_test_feat)\n",
    "\n",
    "r2_train = r2_score(Y_Train, ypred_train)\n",
    "r2_test = r2_score(Y_Test, ypred_test)\n",
    "\n",
    "mse_train = mean_squared_error(Y_Train, ypred_train)\n",
    "mse_test = mean_squared_error(Y_Test, ypred_test)\n",
    "\n",
    "res_rfe = [r2_train, r2_test, mse_train, mse_test]\n",
    "res_rfe"
   ]
  },
  {
   "cell_type": "code",
   "execution_count": 58,
   "metadata": {},
   "outputs": [
    {
     "data": {
      "text/plain": [
       "0.2580618649247601"
      ]
     },
     "execution_count": 58,
     "metadata": {},
     "output_type": "execute_result"
    }
   ],
   "source": [
    "lr = LinearRegression()\n",
    "\n",
    "lr_forw = sfs(estimator=lr, k_features='best', forward=True)\n",
    "sfs_forw = lr_forw.fit(X_Train, Y_Train)\n",
    "forw_feat = sfs_forw.k_feature_names_\n",
    "\n",
    "sfs_forw.k_score_ # this it the value of R-Square value"
   ]
  },
  {
   "cell_type": "code",
   "execution_count": 62,
   "metadata": {},
   "outputs": [
    {
     "data": {
      "text/plain": [
       "[0.3084303180891814,\n",
       " 0.24613114075160314,\n",
       " 0.06831296613204249,\n",
       " 0.08012785740628288]"
      ]
     },
     "execution_count": 62,
     "metadata": {},
     "output_type": "execute_result"
    }
   ],
   "source": [
    "lr = LinearRegression()\n",
    "X_Train_feat = X_Train[list(forw_feat)]\n",
    "X_test_feat = X_Test[list(forw_feat)]\n",
    "lr.fit(X_Train_feat, Y_Train)\n",
    "\n",
    "ypred_train = lr.predict(X_Train_feat)\n",
    "ypred_test = lr.predict(X_test_feat)\n",
    "\n",
    "r2_train = r2_score(Y_Train, ypred_train)\n",
    "r2_test = r2_score(Y_Test, ypred_test)\n",
    "\n",
    "mse_train = mean_squared_error(Y_Train, ypred_train)\n",
    "mse_test = mean_squared_error(Y_Test, ypred_test)\n",
    "\n",
    "res_fw = [r2_train, r2_test, mse_train, mse_test]\n",
    "res_fw"
   ]
  },
  {
   "cell_type": "code",
   "execution_count": 65,
   "metadata": {},
   "outputs": [
    {
     "data": {
      "application/javascript": "\n        if (window._pyforest_update_imports_cell) { window._pyforest_update_imports_cell('import matplotlib.pyplot as plt\\nimport pandas as pd\\nimport re\\nimport numpy as np\\nimport seaborn as sns'); }\n    ",
      "text/plain": [
       "<IPython.core.display.Javascript object>"
      ]
     },
     "metadata": {},
     "output_type": "display_data"
    }
   ],
   "source": [
    "resultant = pd.DataFrame(index=['R2_Train', 'R2_Test', 'mse_Train', 'MSE_Test'])\n",
    "\n",
    "resultant['BackW'] = res_backw\n",
    "resultant['Forw'] = res_fw\n",
    "resultant['RFE'] = res_rfe"
   ]
  },
  {
   "cell_type": "code",
   "execution_count": 66,
   "metadata": {},
   "outputs": [
    {
     "data": {
      "text/html": [
       "<div>\n",
       "<style scoped>\n",
       "    .dataframe tbody tr th:only-of-type {\n",
       "        vertical-align: middle;\n",
       "    }\n",
       "\n",
       "    .dataframe tbody tr th {\n",
       "        vertical-align: top;\n",
       "    }\n",
       "\n",
       "    .dataframe thead th {\n",
       "        text-align: right;\n",
       "    }\n",
       "</style>\n",
       "<table border=\"1\" class=\"dataframe\">\n",
       "  <thead>\n",
       "    <tr style=\"text-align: right;\">\n",
       "      <th></th>\n",
       "      <th>BackW</th>\n",
       "      <th>Forw</th>\n",
       "      <th>RFE</th>\n",
       "    </tr>\n",
       "  </thead>\n",
       "  <tbody>\n",
       "    <tr>\n",
       "      <th>R2_Train</th>\n",
       "      <td>0.296576</td>\n",
       "      <td>0.308430</td>\n",
       "      <td>0.290071</td>\n",
       "    </tr>\n",
       "    <tr>\n",
       "      <th>R2_Test</th>\n",
       "      <td>0.252444</td>\n",
       "      <td>0.246131</td>\n",
       "      <td>0.241152</td>\n",
       "    </tr>\n",
       "    <tr>\n",
       "      <th>mse_Train</th>\n",
       "      <td>0.069484</td>\n",
       "      <td>0.068313</td>\n",
       "      <td>0.070127</td>\n",
       "    </tr>\n",
       "    <tr>\n",
       "      <th>MSE_Test</th>\n",
       "      <td>0.079457</td>\n",
       "      <td>0.080128</td>\n",
       "      <td>0.080657</td>\n",
       "    </tr>\n",
       "  </tbody>\n",
       "</table>\n",
       "</div>"
      ],
      "text/plain": [
       "              BackW      Forw       RFE\n",
       "R2_Train   0.296576  0.308430  0.290071\n",
       "R2_Test    0.252444  0.246131  0.241152\n",
       "mse_Train  0.069484  0.068313  0.070127\n",
       "MSE_Test   0.079457  0.080128  0.080657"
      ]
     },
     "execution_count": 66,
     "metadata": {},
     "output_type": "execute_result"
    }
   ],
   "source": [
    "resultant"
   ]
  },
  {
   "cell_type": "markdown",
   "metadata": {},
   "source": [
    "* Biased Error: Error produced by the model during the Fitting Stage (Training Stage)\n",
    "* Variance Error: Difference in prediction when model fits into diffrent data set"
   ]
  },
  {
   "cell_type": "code",
   "execution_count": null,
   "metadata": {},
   "outputs": [],
   "source": []
  }
 ],
 "metadata": {
  "kernelspec": {
   "display_name": "base",
   "language": "python",
   "name": "python3"
  },
  "language_info": {
   "codemirror_mode": {
    "name": "ipython",
    "version": 3
   },
   "file_extension": ".py",
   "mimetype": "text/x-python",
   "name": "python",
   "nbconvert_exporter": "python",
   "pygments_lexer": "ipython3",
   "version": "3.11.7"
  }
 },
 "nbformat": 4,
 "nbformat_minor": 2
}
