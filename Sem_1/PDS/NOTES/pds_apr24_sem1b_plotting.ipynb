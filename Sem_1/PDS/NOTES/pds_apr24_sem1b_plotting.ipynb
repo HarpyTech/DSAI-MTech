{
 "cells": [
  {
   "cell_type": "markdown",
   "id": "12752df6-88bc-45f8-ae6e-6c5b52a1ad58",
   "metadata": {},
   "source": [
    "# 12/May/2024"
   ]
  },
  {
   "cell_type": "markdown",
   "id": "05e25112-e691-4c8e-a79d-d349e9600fb0",
   "metadata": {},
   "source": [
    "# Visualization"
   ]
  },
  {
   "cell_type": "code",
   "execution_count": null,
   "id": "d137692b-64cf-4d3b-807b-5e199b9984af",
   "metadata": {},
   "outputs": [],
   "source": [
    "import pandas as pd\n",
    "import numpy as np\n",
    "\n",
    "import matplotlib.pyplot as plt\n",
    "import seaborn as sns"
   ]
  },
  {
   "cell_type": "code",
   "execution_count": null,
   "id": "72f02b4d-7c8b-4319-8d20-881582dcf333",
   "metadata": {},
   "outputs": [],
   "source": [
    "df1 = pd.read_csv('lds41.csv')\n",
    "df1"
   ]
  },
  {
   "cell_type": "markdown",
   "id": "97eb0f09-90d1-4c3f-983f-b2321623b88f",
   "metadata": {},
   "source": [
    "# Line Plot"
   ]
  },
  {
   "cell_type": "code",
   "execution_count": null,
   "id": "98cdb770-6081-4cb6-b3da-460027b5d067",
   "metadata": {},
   "outputs": [],
   "source": [
    "x1 = np.arange(1,6)\n",
    "y1 = x1 * 2\n",
    "y2 = x1 ** 2\n",
    "print(x1)\n",
    "print(y1)\n",
    "print(y2)"
   ]
  },
  {
   "cell_type": "code",
   "execution_count": null,
   "id": "5d4e09b8-3b7f-4498-8ab5-a9c75503f14c",
   "metadata": {},
   "outputs": [],
   "source": [
    "plt.plot(x1,y1, color='red', marker='*', linestyle='--', label='linear')\n",
    "plt.plot(x1,y2, color='#00ff00', marker='D', label='expo')\n",
    "plt.xlabel('x-axis')\n",
    "plt.ylabel('y-axis')\n",
    "plt.title('Linear-Exp Plot')\n",
    "#plt.xticks(np.linspace(x1.min(),x1.max(),5))\n",
    "#plt.xticks([1,2,3,4])\n",
    "#plt.yticks([1,2,3,4])\n",
    "plt.legend()\n",
    "\n",
    "plt.savefig('linear_expo.jpeg')\n",
    "\n",
    "f = plt.gcf()\n",
    "print(f)\n",
    "\n",
    "plt.show()"
   ]
  },
  {
   "cell_type": "code",
   "execution_count": null,
   "id": "a888403e-1039-4469-b9c0-fb6bb55b7595",
   "metadata": {},
   "outputs": [],
   "source": [
    "plt.figure(figsize=(4,3), dpi=100)\n",
    "plt.plot(df1.wt, df1.mpg, marker='*')\n",
    "plt.show()"
   ]
  },
  {
   "cell_type": "code",
   "execution_count": null,
   "id": "a42e36aa-42ae-41f4-b86c-d9cd18ed8263",
   "metadata": {},
   "outputs": [],
   "source": [
    "df1.plot(x='wt', y='mpg', kind='line', marker='*', figsize=(4,3))"
   ]
  },
  {
   "cell_type": "code",
   "execution_count": null,
   "id": "771a430c-12ae-4809-a677-3dd2d54977fb",
   "metadata": {},
   "outputs": [],
   "source": [
    "df1[:3].plot(x='wt', y='mpg', marker='*', figsize=(4,3))"
   ]
  },
  {
   "cell_type": "code",
   "execution_count": null,
   "id": "fe9463e9-76a8-45cb-9e29-6beaa19fa6b5",
   "metadata": {},
   "outputs": [],
   "source": [
    "df1.head()"
   ]
  },
  {
   "cell_type": "code",
   "execution_count": null,
   "id": "b1d8e500-d408-4ddb-8fe5-1825d9819a8f",
   "metadata": {},
   "outputs": [],
   "source": [
    "df1.sort_values(by='wt').plot(x='wt', y='mpg', marker='*', figsize=(4,3))\n",
    "#plt.plot(x1,y2, color='#00ff00', marker='D', label='expo')\n",
    "#plt.title('title')"
   ]
  },
  {
   "cell_type": "markdown",
   "id": "54bda876-209d-4931-b0f1-e066fd275cb7",
   "metadata": {},
   "source": [
    "# Scatter Plot"
   ]
  },
  {
   "cell_type": "code",
   "execution_count": null,
   "id": "1ecaf384-2c4c-4ec9-bcf1-12dc758ce5b8",
   "metadata": {},
   "outputs": [],
   "source": [
    "x1 = np.arange(1,6)\n",
    "y1 = x1 * 2\n",
    "y2 = x1 ** 2\n",
    "print(x1)\n",
    "print(y1)\n",
    "print(y2)"
   ]
  },
  {
   "cell_type": "code",
   "execution_count": null,
   "id": "7565f162-e686-4b1e-ad05-c007b36348ff",
   "metadata": {},
   "outputs": [],
   "source": [
    "plt.figure(figsize=(4,3), dpi=100)\n",
    "plt.scatter(x=x1, y=y1, label='linear')\n",
    "plt.scatter(x=x1, y=y2, label='expo')\n",
    "plt.legend()\n",
    "plt.show()"
   ]
  },
  {
   "cell_type": "code",
   "execution_count": null,
   "id": "831941e7-ceb1-4613-8a9b-478be9603265",
   "metadata": {},
   "outputs": [],
   "source": [
    "plt.figure(figsize=(3,2), dpi=100)\n",
    "plt.scatter(x=df1.gear, y=df1.mpg)"
   ]
  },
  {
   "cell_type": "code",
   "execution_count": null,
   "id": "4d543592-5ae3-4962-9858-464b6df47d58",
   "metadata": {},
   "outputs": [],
   "source": [
    "df1.gear.value_counts()"
   ]
  },
  {
   "cell_type": "code",
   "execution_count": null,
   "id": "aec6e5aa-9b40-458e-b863-c0ea83973f25",
   "metadata": {},
   "outputs": [],
   "source": [
    "df1.plot(x='gear', y='mpg', kind='scatter', figsize=(4,3))\n",
    "plt.show()\n",
    "df1.plot(x='gear', y='mpg', kind='scatter', figsize=(4,3), color='red')\n",
    "plt.show()"
   ]
  },
  {
   "cell_type": "code",
   "execution_count": null,
   "id": "51dd0de4-bcc3-442e-80b8-0a298ac02a6d",
   "metadata": {},
   "outputs": [],
   "source": [
    "df1.plot(x='gear', y='mpg', kind='scatter', figsize=(4,3))\n",
    "df1.plot(x='gear', y='mpg', kind='scatter', figsize=(4,3), color='red')\n",
    "plt.show()"
   ]
  },
  {
   "cell_type": "code",
   "execution_count": null,
   "id": "f6a50708-4a85-4a05-9c46-fedb51560c1d",
   "metadata": {},
   "outputs": [],
   "source": [
    "plt.figure(figsize=(3,2), dpi=100)\n",
    "plt.scatter(x=df1.gear, y=df1.mpg, s=df1.hp)\n",
    "plt.show()"
   ]
  },
  {
   "cell_type": "code",
   "execution_count": null,
   "id": "4718947a-6ae5-4afb-8825-634479cceec3",
   "metadata": {},
   "outputs": [],
   "source": [
    "plt.figure(figsize=(3,2), dpi=100)\n",
    "plt.scatter(x=x1, y=y1, label='linear')\n",
    "plt.text(2,8,'hello')\n",
    "ns1 = '({}:{})'.format(3,6)\n",
    "plt.text(3,6,ns1)\n",
    "plt.show()"
   ]
  },
  {
   "cell_type": "code",
   "execution_count": null,
   "id": "ce19441c-bf65-4e18-b3e4-e2f9f8164574",
   "metadata": {},
   "outputs": [],
   "source": [
    "plt.figure(figsize=(3,2), dpi=100)\n",
    "plt.scatter(x=x1, y=y1, label='linear')\n",
    "for xc,yc in zip(x1,y1):\n",
    "    ns1 = '({}:{})'.format(xc,yc)\n",
    "    plt.text(xc,yc, ns1)\n",
    "plt.show()"
   ]
  },
  {
   "cell_type": "markdown",
   "id": "fa61dd65-74ca-4fda-8f23-f5c6c4b446db",
   "metadata": {},
   "source": [
    "# Bar Plot"
   ]
  },
  {
   "cell_type": "code",
   "execution_count": null,
   "id": "0013b4f5-03e1-42f1-b063-4fbd3efcdc99",
   "metadata": {},
   "outputs": [],
   "source": [
    "cnames = ['Tata', 'Birla', 'Wipro', 'Infy']\n",
    "e1count = [100,200,300,400]\n",
    "e2count = [150,175,250,450]"
   ]
  },
  {
   "cell_type": "code",
   "execution_count": null,
   "id": "0556515c-c7f4-4ffc-8e8a-c7f652675e7d",
   "metadata": {},
   "outputs": [],
   "source": [
    "plt.figure(figsize=(3,2), dpi=100)\n",
    "plt.bar(x=cnames, height=e1count, color='red')\n",
    "plt.bar(x=cnames, height=e2count, color='blue')"
   ]
  },
  {
   "cell_type": "code",
   "execution_count": null,
   "id": "ddd950f1-18a3-44f6-a69f-baeb44e76234",
   "metadata": {},
   "outputs": [],
   "source": [
    "plt.figure(figsize=(3,2), dpi=100)\n",
    "plt.bar(x=cnames, height=e1count, color='red', label='e1count')\n",
    "plt.bar(x=cnames, height=e2count, bottom=e1count, color='blue')\n",
    "plt.legend()"
   ]
  },
  {
   "cell_type": "code",
   "execution_count": null,
   "id": "df47199b-43d0-4980-a909-f97411c15144",
   "metadata": {},
   "outputs": [],
   "source": [
    "plt.figure(figsize=(3,2), dpi=100)\n",
    "plt.bar(x=cnames, height=e1count, color='red')\n",
    "plt.bar(x=cnames, height=e2count, bottom=200, color='blue')  # v stacked bar chart"
   ]
  },
  {
   "cell_type": "code",
   "execution_count": null,
   "id": "db7124d1-9893-41d1-ae99-ffa82eaefac8",
   "metadata": {},
   "outputs": [],
   "source": [
    "plt.figure(figsize=(3,2), dpi=100)\n",
    "plt.bar(x=cnames, height=e1count, color='red', width=0.3)"
   ]
  },
  {
   "cell_type": "code",
   "execution_count": null,
   "id": "d421e98a-fb14-443a-8dbd-2edd8878840a",
   "metadata": {},
   "outputs": [],
   "source": [
    "# h stacked bar chart"
   ]
  },
  {
   "cell_type": "code",
   "execution_count": null,
   "id": "dc831b2a-01fd-4e2d-9d6f-97bad21e83ca",
   "metadata": {},
   "outputs": [],
   "source": [
    "cnames = ['Tata', 'Birla', 'Wipro', 'Infy']\n",
    "e1count = [100,200,300,400]\n",
    "e2count = [150,175,250,450]\n",
    "\n",
    "xtick_values = np.arange(len(cnames))\n",
    "print(xtick_values)\n",
    "plt.figure(figsize=(3,2), dpi=100)\n",
    "plt.bar(x=xtick_values, height=e1count, color='red', width=0.4)\n",
    "plt.bar(x=xtick_values+0.4, height=e2count, color='blue', width=0.4)\n",
    "\n",
    "plt.xticks(xtick_values+0.2, cnames)\n",
    "plt.show()"
   ]
  },
  {
   "cell_type": "code",
   "execution_count": null,
   "id": "467a14f5-a922-4c8f-ac4b-c516a8ea4214",
   "metadata": {},
   "outputs": [],
   "source": [
    "plt.figure(figsize=(4,3), dpi=100)\n",
    "plt.bar(x=df1.model, height=df1.mpg)\n",
    "plt.xticks(rotation=90, fontsize=4)\n",
    "plt.show()"
   ]
  },
  {
   "cell_type": "code",
   "execution_count": null,
   "id": "40b2e8b9-2428-4bdd-a645-a364fb9e6bb3",
   "metadata": {},
   "outputs": [],
   "source": [
    "df1.plot(kind='bar',x='model',y='mpg', figsize=(4,3))"
   ]
  },
  {
   "cell_type": "code",
   "execution_count": null,
   "id": "17fe796d-d7dd-4d5b-975d-20bf50cee48f",
   "metadata": {},
   "outputs": [],
   "source": [
    "# DIY:  barh. plt.barh,  df1.plot(kind='barh')"
   ]
  },
  {
   "cell_type": "markdown",
   "id": "32b79e70-10aa-4b73-aa7b-5d69efd82192",
   "metadata": {},
   "source": [
    "# Histogram"
   ]
  },
  {
   "cell_type": "code",
   "execution_count": null,
   "id": "3c156fa9-fe1f-4863-98da-6e10004a221f",
   "metadata": {},
   "outputs": [],
   "source": [
    "np.random.seed(23)\n",
    "marks = np.random.randint(low=0, high=101, size=100)\n",
    "print(marks.min())\n",
    "print(marks.max())\n",
    "print(marks.mean())"
   ]
  },
  {
   "cell_type": "code",
   "execution_count": null,
   "id": "b76bf664-082d-4569-9caa-ba4e96de4ae3",
   "metadata": {},
   "outputs": [],
   "source": [
    "plt.figure(figsize=(4,3), dpi=100)\n",
    "plt.hist(marks, rwidth=0.9, bins=10)"
   ]
  },
  {
   "cell_type": "code",
   "execution_count": null,
   "id": "3a1debc7-0dd0-4687-956c-62b08cdac344",
   "metadata": {},
   "outputs": [],
   "source": [
    "plt.figure(figsize=(4,3), dpi=100)\n",
    "plt.hist(df1.hp, rwidth=0.9, bins=5)"
   ]
  },
  {
   "cell_type": "code",
   "execution_count": null,
   "id": "9d740c66-5ae7-4a85-8fb1-d4f6ce1e075c",
   "metadata": {},
   "outputs": [],
   "source": [
    "df1.hp.plot(kind='hist', rwidth=0.9, bins=5, figsize=(4,3))"
   ]
  },
  {
   "cell_type": "code",
   "execution_count": null,
   "id": "d1f1fbb5-d4fd-43af-8975-4fe82def89d4",
   "metadata": {},
   "outputs": [],
   "source": [
    "#df1.hp.plot(kind='hist', rwidth=0.9, bins=5, figsize=(4,3))\n",
    "df1.hp.plot(kind='kde',figsize=(4,3))"
   ]
  },
  {
   "cell_type": "markdown",
   "id": "21463e69-1a34-4487-b122-000b522b4781",
   "metadata": {},
   "source": [
    "# Pie Chart"
   ]
  },
  {
   "cell_type": "code",
   "execution_count": null,
   "id": "0303ebc2-f3fe-478b-93a4-bd0fdb5352e8",
   "metadata": {},
   "outputs": [],
   "source": [
    "vc = df1.gear.value_counts()\n",
    "vc"
   ]
  },
  {
   "cell_type": "code",
   "execution_count": null,
   "id": "b5d23790-9e31-4d73-b6ad-196fc41a4991",
   "metadata": {},
   "outputs": [],
   "source": [
    "vc = df1.carb.value_counts()\n",
    "vc"
   ]
  },
  {
   "cell_type": "code",
   "execution_count": null,
   "id": "b3f830df-34d5-4def-9333-3c51732d2ece",
   "metadata": {},
   "outputs": [],
   "source": [
    "vc = df1.carb.value_counts()\n",
    "plt.figure(figsize=(4,3), dpi=100)\n",
    "plt.pie(x=vc.values, labels=vc.index, autopct='%.2f', radius=1)\n",
    "plt.show()"
   ]
  },
  {
   "cell_type": "code",
   "execution_count": null,
   "id": "d870240b-7b78-4f6d-ab5d-d54238d85272",
   "metadata": {},
   "outputs": [],
   "source": [
    "vc = df1.carb.value_counts()\n",
    "plt.figure(figsize=(4,3), dpi=100)\n",
    "plt.pie(x=vc.values, labels=vc.index, autopct='%.2f', radius=1, explode=[0,0,0,0.4,0,0])\n",
    "plt.show()"
   ]
  },
  {
   "cell_type": "code",
   "execution_count": null,
   "id": "69fd648a-28e9-46be-b5e4-6986b5c4f2a3",
   "metadata": {},
   "outputs": [],
   "source": [
    "vc = df1.carb.value_counts()\n",
    "vc.plot(kind='pie', figsize=(4,3), radius=1, autopct='%.2f')"
   ]
  },
  {
   "cell_type": "markdown",
   "id": "c8d2eb62-5a6e-4d7d-ad97-2fcee1f9c5b2",
   "metadata": {},
   "source": [
    "# BoxPlot"
   ]
  },
  {
   "cell_type": "code",
   "execution_count": null,
   "id": "387c75f0-c577-4c14-9edd-731069da3b49",
   "metadata": {},
   "outputs": [],
   "source": [
    "plt.figure(figsize=(4,3), dpi=100)\n",
    "v1 = list(range(200,300))\n",
    "plt.boxplot(v1)\n",
    "plt.show()"
   ]
  },
  {
   "cell_type": "code",
   "execution_count": null,
   "id": "a32bd18a-613c-4680-bb02-5cbb5ee4793b",
   "metadata": {},
   "outputs": [],
   "source": [
    "plt.figure(figsize=(4,3), dpi=100)\n",
    "v1 = list(range(200,300))\n",
    "v1.append(400)\n",
    "v1.append(10)\n",
    "v1.append(20)\n",
    "plt.boxplot(v1)\n",
    "plt.show()"
   ]
  },
  {
   "cell_type": "code",
   "execution_count": null,
   "id": "953ed4ac-15e6-4701-9ba0-e986ff2b6a7d",
   "metadata": {},
   "outputs": [],
   "source": [
    "q2 = np.percentile(v1,50)\n",
    "q1 = np.percentile(v1,25)\n",
    "q3 = np.percentile(v1,75)\n",
    "iqr = q3 - q1\n",
    "uw_limit = q3 + (1.5 * iqr)\n",
    "lw_limit = q1 - (1.5 * iqr)\n",
    "\n",
    "print(lw_limit, q1, q2, q3, uw_limit, iqr)"
   ]
  },
  {
   "cell_type": "code",
   "execution_count": null,
   "id": "8830a9bc-a0eb-4600-a381-632e31468751",
   "metadata": {},
   "outputs": [],
   "source": [
    "plt.figure(figsize=(4,3), dpi=100)\n",
    "plt.boxplot(df1.hp)\n",
    "plt.show()"
   ]
  },
  {
   "cell_type": "code",
   "execution_count": null,
   "id": "e24116c4-a640-4887-8ecd-d65a512eeae8",
   "metadata": {},
   "outputs": [],
   "source": [
    "df1.hp.plot(kind='box',figsize=(4,3))"
   ]
  },
  {
   "cell_type": "code",
   "execution_count": null,
   "id": "11763283-c98d-4e0b-a67a-d12b8d424ddc",
   "metadata": {},
   "outputs": [],
   "source": [
    "df1.hp.max()"
   ]
  },
  {
   "cell_type": "code",
   "execution_count": null,
   "id": "7c210994-6c81-40c5-add8-4b27778b798e",
   "metadata": {},
   "outputs": [],
   "source": [
    "np.percentile(df1.hp,50)"
   ]
  },
  {
   "cell_type": "code",
   "execution_count": null,
   "id": "57ff838f-fa5f-4294-a68d-7397ddf48c59",
   "metadata": {},
   "outputs": [],
   "source": [
    "df1.hp.median()"
   ]
  },
  {
   "cell_type": "code",
   "execution_count": null,
   "id": "4e0a5a44-e331-4ccd-ba9f-3528d793c50c",
   "metadata": {},
   "outputs": [],
   "source": [
    "df1[['hp','disp']].plot(kind='box',figsize=(4,3))"
   ]
  },
  {
   "cell_type": "code",
   "execution_count": null,
   "id": "b120c355-5b44-4fd9-92ae-45f3014de3ff",
   "metadata": {},
   "outputs": [],
   "source": [
    "# DIY: Write a function, to computer all boxplot params and return all"
   ]
  },
  {
   "cell_type": "code",
   "execution_count": null,
   "id": "1aea7dfe-f752-42da-b7a4-73d1392b62f3",
   "metadata": {},
   "outputs": [],
   "source": [
    "plt.figure(figsize=(4,3), dpi=100)\n",
    "plt.boxplot(df1.hp)\n",
    "plt.text(1, np.percentile(df1.hp,25), str(np.percentile(df1.hp,25)))\n",
    "plt.text(1, np.percentile(df1.hp,50), str(np.percentile(df1.hp,50)))\n",
    "plt.text(1, np.percentile(df1.hp,75), str(np.percentile(df1.hp,75)))\n",
    "plt.show()"
   ]
  },
  {
   "cell_type": "markdown",
   "id": "859622d2-a342-451b-81c2-6536bbf79459",
   "metadata": {},
   "source": [
    "# Seaborn"
   ]
  },
  {
   "cell_type": "markdown",
   "id": "a5e2737b-4aef-4696-878a-4d6077da9318",
   "metadata": {},
   "source": [
    "# Scatter Family"
   ]
  },
  {
   "cell_type": "code",
   "execution_count": null,
   "id": "9f173cbd-4b2a-4097-864c-8750d06fad46",
   "metadata": {},
   "outputs": [],
   "source": [
    "x1 = [1,2,3,1,2,3,1,2,3]\n",
    "y1 = [4,5,6,4,5,6,4,5,6]"
   ]
  },
  {
   "cell_type": "code",
   "execution_count": null,
   "id": "09f88c29-1258-4b49-b959-c08882be34a9",
   "metadata": {},
   "outputs": [],
   "source": [
    "plt.figure(figsize=(3,2), dpi=100)\n",
    "sns.scatterplot(x=x1, y=y1)"
   ]
  },
  {
   "cell_type": "code",
   "execution_count": null,
   "id": "40476097-a699-41b2-9caf-16abb48fb2e1",
   "metadata": {},
   "outputs": [],
   "source": [
    "plt.figure(figsize=(3,2), dpi=100)\n",
    "sns.stripplot(x=x1, y=y1)"
   ]
  },
  {
   "cell_type": "code",
   "execution_count": null,
   "id": "e8ffeccb-a223-48be-bebd-2a0fed09c169",
   "metadata": {},
   "outputs": [],
   "source": [
    "plt.figure(figsize=(3,2), dpi=100)\n",
    "sns.swarmplot(x=x1, y=y1)"
   ]
  },
  {
   "cell_type": "code",
   "execution_count": null,
   "id": "c8388359-71e9-4479-8fef-db24eef7ea9b",
   "metadata": {},
   "outputs": [],
   "source": [
    "plt.rcParams['figure.figsize'] = (3,2)"
   ]
  },
  {
   "cell_type": "code",
   "execution_count": null,
   "id": "a33695fd-da64-4543-b159-f05847591663",
   "metadata": {},
   "outputs": [],
   "source": [
    "sns.swarmplot(x=x1, y=y1)"
   ]
  },
  {
   "cell_type": "code",
   "execution_count": null,
   "id": "28216ebe-67ab-4d69-9236-ea86bd84b427",
   "metadata": {},
   "outputs": [],
   "source": [
    "sns.swarmplot(x=x1, y=y1)"
   ]
  },
  {
   "cell_type": "code",
   "execution_count": null,
   "id": "6d6bb0dd-6d58-4ae4-a4ab-24b1d6b8497b",
   "metadata": {},
   "outputs": [],
   "source": [
    "sns.scatterplot(data=df1, x='gear', y='mpg')"
   ]
  },
  {
   "cell_type": "code",
   "execution_count": null,
   "id": "07d1e651-35c0-4312-abc3-243c4b97e522",
   "metadata": {},
   "outputs": [],
   "source": [
    "sns.scatterplot(x=df1.gear, y=df1.mpg)"
   ]
  },
  {
   "cell_type": "code",
   "execution_count": null,
   "id": "7987b939-8d31-4d2a-8d9c-8db6caa14c34",
   "metadata": {},
   "outputs": [],
   "source": [
    "sns.scatterplot(data=df1, x='gear', y='mpg', hue='gear', palette='rainbow')"
   ]
  },
  {
   "cell_type": "code",
   "execution_count": null,
   "id": "bdf2f000-4d48-487e-8fd4-21c522057358",
   "metadata": {},
   "outputs": [],
   "source": [
    "print(plt.colormaps())  ## list of color palettes"
   ]
  },
  {
   "cell_type": "code",
   "execution_count": null,
   "id": "7f3bbc22-4e58-4bb5-a840-e53f1302bb25",
   "metadata": {},
   "outputs": [],
   "source": [
    "pd.crosstab(df1.gear, df1.am)"
   ]
  },
  {
   "cell_type": "code",
   "execution_count": null,
   "id": "28bb6ad0-29db-4ee3-bcbe-fa7a582bf48e",
   "metadata": {},
   "outputs": [],
   "source": [
    "sns.swarmplot(data=df1, x='gear', y='mpg', hue='am')"
   ]
  },
  {
   "cell_type": "markdown",
   "id": "08fdbc09-c0cc-4bac-b078-fe4b750c1203",
   "metadata": {},
   "source": [
    "# DISTPLOT"
   ]
  },
  {
   "cell_type": "code",
   "execution_count": null,
   "id": "f16ddcef-a3bf-40e2-8b94-51a185918730",
   "metadata": {},
   "outputs": [],
   "source": [
    "sns.__version__"
   ]
  },
  {
   "cell_type": "code",
   "execution_count": null,
   "id": "a98983cf-72b9-4fc0-a3ed-f3c34b317e50",
   "metadata": {},
   "outputs": [],
   "source": [
    "sns.distplot(a=df1.hp, hist=True, kde=True, rug=True, \n",
    "             hist_kws={'rwidth':0.9, 'color':'green'},\n",
    "            kde_kws={'shade':True, 'color':'red'},\n",
    "            rug_kws={'height':0.2})"
   ]
  },
  {
   "cell_type": "code",
   "execution_count": null,
   "id": "4a63867f-721b-4291-bcb3-61def0a88dd6",
   "metadata": {},
   "outputs": [],
   "source": [
    "sns.distplot(a=df1.hp, hist=False, kde=True, rug=False, \n",
    "             hist_kws={'rwidth':0.9, 'color':'green'},\n",
    "            kde_kws={'shade':True, 'color':'red'},\n",
    "            rug_kws={'height':0.2})"
   ]
  },
  {
   "cell_type": "markdown",
   "id": "9924e218-c736-401c-920d-8db96ac49cff",
   "metadata": {},
   "source": [
    "# Regression Plot"
   ]
  },
  {
   "cell_type": "code",
   "execution_count": null,
   "id": "b9ee33cb-1000-414f-ae98-6ca87d66cdbe",
   "metadata": {},
   "outputs": [],
   "source": [
    "sns.regplot(data=df1, x='wt', y='hp')"
   ]
  },
  {
   "cell_type": "markdown",
   "id": "14d198fc-8aa5-492b-ae98-77c329819d95",
   "metadata": {},
   "source": [
    "# Barplot"
   ]
  },
  {
   "cell_type": "code",
   "execution_count": null,
   "id": "4cca5968-a7af-4dc7-98da-aaa17e46c0f7",
   "metadata": {},
   "outputs": [],
   "source": [
    "sns.barplot(df1.hp)"
   ]
  },
  {
   "cell_type": "code",
   "execution_count": null,
   "id": "2de3d0c7-a35a-418b-b20e-4c2fef87f9e9",
   "metadata": {},
   "outputs": [],
   "source": [
    "sns.barplot(data=df1, x='model',y='mpg')\n",
    "plt.xticks(rotation=90)\n",
    "plt.show()"
   ]
  },
  {
   "cell_type": "code",
   "execution_count": null,
   "id": "7f25b35c-bcc5-449e-a1b1-aee695785b24",
   "metadata": {},
   "outputs": [],
   "source": [
    "sns.countplot(data=df1, x='gear')"
   ]
  },
  {
   "cell_type": "code",
   "execution_count": null,
   "id": "37bd2c17-1dee-44f1-ad64-8ce3f37d79a5",
   "metadata": {},
   "outputs": [],
   "source": [
    "sns.countplot(data=df1, y='gear')"
   ]
  },
  {
   "cell_type": "markdown",
   "id": "4caf1108-c11c-46b3-859d-414fccf2e7b0",
   "metadata": {},
   "source": [
    "# IQR Family"
   ]
  },
  {
   "cell_type": "code",
   "execution_count": null,
   "id": "51105a2b-e260-434d-970c-e6571bc60c8b",
   "metadata": {},
   "outputs": [],
   "source": [
    "sns.boxplot(df1.hp)"
   ]
  },
  {
   "cell_type": "code",
   "execution_count": null,
   "id": "7941c6b4-e08b-4f17-b47e-429e4dfa3cf9",
   "metadata": {},
   "outputs": [],
   "source": [
    "sns.boxplot(data=df1, x='gear', y='hp')"
   ]
  },
  {
   "cell_type": "code",
   "execution_count": null,
   "id": "0a23bed6-83a7-457c-aafe-c6fc75b6e6ad",
   "metadata": {},
   "outputs": [],
   "source": [
    "sns.boxplot(data=df1, x='gear', y='hp', hue='am')"
   ]
  },
  {
   "cell_type": "code",
   "execution_count": null,
   "id": "6f81b257-78de-41de-bb4b-64bd55f3e91c",
   "metadata": {},
   "outputs": [],
   "source": [
    "sns.boxenplot(y=df1.hp)"
   ]
  },
  {
   "cell_type": "code",
   "execution_count": null,
   "id": "39be092e-d4ac-44f0-89dd-1ab90429e3b5",
   "metadata": {},
   "outputs": [],
   "source": [
    "sns.__version__"
   ]
  },
  {
   "cell_type": "code",
   "execution_count": null,
   "id": "45fc1f3a-8ccb-4f55-9c7d-3ba7fa1defee",
   "metadata": {},
   "outputs": [],
   "source": [
    "v1 = list(range(200,600))\n",
    "sns.boxenplot(v1)"
   ]
  },
  {
   "cell_type": "code",
   "execution_count": null,
   "id": "ad1b234c-f7c5-42e4-835c-4c2ca7139cc0",
   "metadata": {},
   "outputs": [],
   "source": [
    "sns.violinplot(data=df1, x='gear', y='hp')  #  combo of box and KDE"
   ]
  },
  {
   "cell_type": "markdown",
   "id": "92151efa-7071-454f-a150-7b4fe63ed08b",
   "metadata": {},
   "source": [
    "# MultiPlots"
   ]
  },
  {
   "cell_type": "markdown",
   "id": "5a3ecbbb-66b5-4e3d-ac63-d9b783373585",
   "metadata": {},
   "source": [
    "### Joint Plot"
   ]
  },
  {
   "cell_type": "code",
   "execution_count": null,
   "id": "8494be74-b660-4f06-9c48-5ce88305d055",
   "metadata": {},
   "outputs": [],
   "source": [
    "plt.figure(figsize=(4,3))\n",
    "sns.jointplot(x=df1.gear, y=df1.mpg, height=3)"
   ]
  },
  {
   "cell_type": "markdown",
   "id": "c95b22e8-3149-49b6-b132-6cd806965f37",
   "metadata": {},
   "source": [
    "## Pairplot"
   ]
  },
  {
   "cell_type": "code",
   "execution_count": null,
   "id": "920f3047-dced-4bce-914f-fd4173db6be3",
   "metadata": {},
   "outputs": [],
   "source": [
    "df2 = df1[['hp','disp','gear','mpg','wt']]\n",
    "df2"
   ]
  },
  {
   "cell_type": "code",
   "execution_count": null,
   "id": "f4007a76-946c-4251-a66c-9ccb0a22fe20",
   "metadata": {},
   "outputs": [],
   "source": [
    "sns.pairplot(df2)"
   ]
  },
  {
   "cell_type": "markdown",
   "id": "1e53d825-ed25-4284-81c2-eda5940185e7",
   "metadata": {},
   "source": [
    "## Heatmap"
   ]
  },
  {
   "cell_type": "code",
   "execution_count": null,
   "id": "102f8b8d-b888-4bff-b762-d66813704ada",
   "metadata": {},
   "outputs": [],
   "source": [
    "cmat = df1.corr(numeric_only = True)\n",
    "cmat"
   ]
  },
  {
   "cell_type": "code",
   "execution_count": null,
   "id": "0929b269-9f72-4b6b-8100-87d9bd55ad4f",
   "metadata": {},
   "outputs": [],
   "source": [
    "plt.figure(figsize=(6,4))\n",
    "sns.heatmap(cmat, annot=True, cmap='rainbow')"
   ]
  },
  {
   "cell_type": "code",
   "execution_count": null,
   "id": "1d1f8911-c9e5-4015-a079-7aa2fb93cfa3",
   "metadata": {},
   "outputs": [],
   "source": [
    "sns.__version__"
   ]
  },
  {
   "cell_type": "markdown",
   "id": "ff02cafc-9141-48e7-9161-bcd5d08d6e29",
   "metadata": {},
   "source": [
    "# Sub Plotting"
   ]
  },
  {
   "cell_type": "code",
   "execution_count": null,
   "id": "7f169834-00a5-41c8-af6c-0c0166cbc34b",
   "metadata": {},
   "outputs": [],
   "source": [
    "f,ax = plt.subplots(2,2, figsize=(9,6))\n",
    "print(f)\n",
    "print(ax)\n",
    "\n",
    "ax[0,0].scatter(df1.gear, df1.mpg)\n",
    "ax[0,0].set_xlabel('scatter-x-axis')\n",
    "\n",
    "ax[0,1].bar(x=df1.index, height=df1.mpg)\n",
    "\n",
    "ax[1,0].pie(df1.gear.value_counts(), autopct='%.2f')\n",
    "ax[1,0].set_title('PieTitle')\n",
    "\n",
    "ax[1,1].plot(df1.wt, df1.mpg)\n",
    "\n",
    "plt.tight_layout()\n",
    "\n",
    "plt.savefig('subplot.jpeg')\n",
    "plt.show()"
   ]
  },
  {
   "cell_type": "code",
   "execution_count": null,
   "id": "d5c21c77-9b38-4f51-8836-de8bdc3aac9e",
   "metadata": {},
   "outputs": [],
   "source": []
  }
 ],
 "metadata": {
  "kernelspec": {
   "display_name": "Python 3 (ipykernel)",
   "language": "python",
   "name": "python3"
  },
  "language_info": {
   "codemirror_mode": {
    "name": "ipython",
    "version": 3
   },
   "file_extension": ".py",
   "mimetype": "text/x-python",
   "name": "python",
   "nbconvert_exporter": "python",
   "pygments_lexer": "ipython3",
   "version": "3.11.7"
  }
 },
 "nbformat": 4,
 "nbformat_minor": 5
}
