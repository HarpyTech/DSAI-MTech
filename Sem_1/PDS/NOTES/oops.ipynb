{
 "cells": [
  {
   "cell_type": "code",
   "execution_count": null,
   "id": "e315d4e3-c995-4baf-986b-24995a107bdf",
   "metadata": {},
   "outputs": [],
   "source": [
    "class myemp:\n",
    "    e = 'engineer'\n",
    "    \n",
    "    def gete(self):\n",
    "        print(\"selfid\",id(self))\n",
    "        return self.e"
   ]
  },
  {
   "cell_type": "code",
   "execution_count": null,
   "id": "285a82c1-d3e6-4cbc-8758-f9d40f51925c",
   "metadata": {},
   "outputs": [],
   "source": [
    "e1 = myemp()\n",
    "print(e1.e)\n",
    "print(id(e1))\n",
    "\n",
    "e1.gete()"
   ]
  },
  {
   "cell_type": "code",
   "execution_count": null,
   "id": "def3523b-7dfc-468e-932d-81d69636fb6d",
   "metadata": {},
   "outputs": [],
   "source": [
    "class utime:\n",
    "    def __init__(self, uh=0, um=0, us=0):\n",
    "        self.h = uh\n",
    "        self.m = um\n",
    "        self.s = us"
   ]
  },
  {
   "cell_type": "code",
   "execution_count": null,
   "id": "a24b101a-d9a3-4457-834a-9729cdd94bc5",
   "metadata": {},
   "outputs": [],
   "source": [
    "t1 = utime(10,20,30)\n",
    "print(t1.__dict__)"
   ]
  },
  {
   "cell_type": "code",
   "execution_count": null,
   "id": "4fbfed12-72f5-4c81-99cb-bd95334c669e",
   "metadata": {},
   "outputs": [],
   "source": [
    "t2 = utime()\n",
    "t2.__dict__"
   ]
  },
  {
   "cell_type": "code",
   "execution_count": null,
   "id": "224cd942-06a2-4591-b3f4-55ddd9aa31ed",
   "metadata": {},
   "outputs": [],
   "source": [
    "t2.__class__"
   ]
  },
  {
   "cell_type": "code",
   "execution_count": 17,
   "id": "ac0dd3d9-3d8f-4cc4-9650-4f2f5afa669f",
   "metadata": {},
   "outputs": [],
   "source": [
    "a = 20"
   ]
  },
  {
   "cell_type": "code",
   "execution_count": 18,
   "id": "c16016a3-cf3e-4c40-9a2f-832e9a992341",
   "metadata": {},
   "outputs": [],
   "source": [
    "a = 'hello'"
   ]
  },
  {
   "cell_type": "code",
   "execution_count": 19,
   "id": "83dc616c-428c-4b1a-8cff-ade8c15d2376",
   "metadata": {},
   "outputs": [
    {
     "data": {
      "text/plain": [
       "False"
      ]
     },
     "execution_count": 19,
     "metadata": {},
     "output_type": "execute_result"
    }
   ],
   "source": [
    "'str' in globals()"
   ]
  },
  {
   "cell_type": "code",
   "execution_count": 20,
   "id": "07246d80-c81d-4d6a-90f7-c2553aae1880",
   "metadata": {},
   "outputs": [],
   "source": [
    "str = 20"
   ]
  },
  {
   "cell_type": "code",
   "execution_count": 21,
   "id": "f95ee998-4fca-4ae0-b1d3-3edf196019a5",
   "metadata": {},
   "outputs": [
    {
     "data": {
      "text/plain": [
       "True"
      ]
     },
     "execution_count": 21,
     "metadata": {},
     "output_type": "execute_result"
    }
   ],
   "source": [
    "'str' in globals()"
   ]
  },
  {
   "cell_type": "code",
   "execution_count": 22,
   "id": "fb2d5f05-e68c-4c88-a714-8a31f3a4fa38",
   "metadata": {},
   "outputs": [
    {
     "data": {
      "text/plain": [
       "'__main__'"
      ]
     },
     "execution_count": 22,
     "metadata": {},
     "output_type": "execute_result"
    }
   ],
   "source": [
    "__name__"
   ]
  },
  {
   "cell_type": "code",
   "execution_count": 50,
   "id": "a044d8de-f0ca-46b0-9be6-11a9388b1595",
   "metadata": {},
   "outputs": [],
   "source": [
    "class point:\n",
    "    def __init__(self, ux=0, uy=0):\n",
    "        self.x = ux\n",
    "        self.y = uy\n",
    "\n",
    "    def __str__(self):\n",
    "        ns = \"({}:{})\".format(self.x, self.y)\n",
    "        return ns\n",
    "\n",
    "    def __add__(left, right):\n",
    "        npx = left.x + right.x\n",
    "        npy = left.y + right.y\n",
    "        temp_point = point(npx,npy)\n",
    "        return temp_point"
   ]
  },
  {
   "cell_type": "code",
   "execution_count": 51,
   "id": "575edf24-0d59-4f4c-88bd-fbcd4a52b859",
   "metadata": {},
   "outputs": [],
   "source": [
    "p1 = point(10,20)"
   ]
  },
  {
   "cell_type": "code",
   "execution_count": 52,
   "id": "fd4268f8-1860-4c15-ab5b-f88d11d46567",
   "metadata": {},
   "outputs": [
    {
     "data": {
      "text/plain": [
       "10"
      ]
     },
     "execution_count": 52,
     "metadata": {},
     "output_type": "execute_result"
    }
   ],
   "source": [
    "p1.x"
   ]
  },
  {
   "cell_type": "code",
   "execution_count": 53,
   "id": "b3e40403-bdab-483e-bd3d-b4f9ef2c2780",
   "metadata": {},
   "outputs": [
    {
     "data": {
      "text/plain": [
       "20"
      ]
     },
     "execution_count": 53,
     "metadata": {},
     "output_type": "execute_result"
    }
   ],
   "source": [
    "p1.y"
   ]
  },
  {
   "cell_type": "code",
   "execution_count": 54,
   "id": "42a92a56-2eca-4544-b593-ee828250e1e3",
   "metadata": {},
   "outputs": [
    {
     "name": "stdout",
     "output_type": "stream",
     "text": [
      "(10:20)\n"
     ]
    }
   ],
   "source": [
    "print(p1)"
   ]
  },
  {
   "cell_type": "code",
   "execution_count": 55,
   "id": "02e8e45d-270d-49ce-98ad-8f6234d2dd8b",
   "metadata": {},
   "outputs": [
    {
     "name": "stdout",
     "output_type": "stream",
     "text": [
      "(110:220)\n"
     ]
    }
   ],
   "source": [
    "p1 = point(10,20)\n",
    "p2 = point(100,200)\n",
    "p3 = p1 + p2\n",
    "print(p3)"
   ]
  },
  {
   "cell_type": "code",
   "execution_count": null,
   "id": "ea406bbb-486c-4041-b3e8-e4e79a7d8b34",
   "metadata": {},
   "outputs": [],
   "source": []
  }
 ],
 "metadata": {
  "kernelspec": {
   "display_name": "Python 3 (ipykernel)",
   "language": "python",
   "name": "python3"
  },
  "language_info": {
   "codemirror_mode": {
    "name": "ipython",
    "version": 3
   },
   "file_extension": ".py",
   "mimetype": "text/x-python",
   "name": "python",
   "nbconvert_exporter": "python",
   "pygments_lexer": "ipython3",
   "version": "3.11.7"
  }
 },
 "nbformat": 4,
 "nbformat_minor": 5
}
