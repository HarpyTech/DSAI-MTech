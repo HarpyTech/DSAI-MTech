{
 "cells": [
  {
   "cell_type": "markdown",
   "id": "8e1d45bb",
   "metadata": {},
   "source": [
    "# 28/Apr/2024"
   ]
  },
  {
   "cell_type": "markdown",
   "id": "ebf93398",
   "metadata": {},
   "source": [
    "# NUMPY"
   ]
  },
  {
   "cell_type": "code",
   "execution_count": null,
   "id": "ab2c6986",
   "metadata": {},
   "outputs": [],
   "source": [
    "import numpy as np"
   ]
  },
  {
   "cell_type": "markdown",
   "id": "ab0e1153",
   "metadata": {},
   "source": [
    "Creation of Arrays"
   ]
  },
  {
   "cell_type": "code",
   "execution_count": null,
   "id": "5c292c59",
   "metadata": {},
   "outputs": [],
   "source": [
    "mylist1 = [10,20,30,40,50]\n",
    "n5 = np.array(mylist1)\n",
    "print(type(n5))\n",
    "print(n5)\n",
    "print(n5.shape) # num of elements along each axis, as a tuple\n",
    "print(n5.ndim)  #  number of dimension\n",
    "print(n5.size)  #  total number of elements\n",
    "print()\n",
    "\n",
    "print(n5.itemsize) # size in bytes occupied in memory\n",
    "print(n5.dtype)"
   ]
  },
  {
   "cell_type": "code",
   "execution_count": null,
   "id": "242945f8",
   "metadata": {},
   "outputs": [],
   "source": [
    "mylist1 = [10,20,30,40.89,50]\n",
    "n5 = np.array(mylist1)\n",
    "print(type(n5))\n",
    "print(n5)\n",
    "print(n5.shape) # num of elements along each axis, as a tuple\n",
    "print(n5.ndim)  #  number of dimension\n",
    "print(n5.size)  #  total number of elements\n",
    "print()\n",
    "\n",
    "print(n5.itemsize) # size in bytes occupied in memory\n",
    "print(n5.dtype)"
   ]
  },
  {
   "cell_type": "code",
   "execution_count": null,
   "id": "0457f0d8",
   "metadata": {},
   "outputs": [],
   "source": [
    "mylist1 = [10,20,30,40,50]\n",
    "n5 = np.array(mylist1, dtype=np.int8)  #  hardcoded itemsize. NOT recommended\n",
    "print(type(n5))\n",
    "print(n5)\n",
    "print(n5.shape) # num of elements along each axis, as a tuple\n",
    "print(n5.ndim)  #  number of dimension\n",
    "print(n5.size)  #  total number of elements\n",
    "print()\n",
    "\n",
    "print(n5.itemsize) # size in bytes occupied in memory\n",
    "print(n5.dtype)"
   ]
  },
  {
   "cell_type": "code",
   "execution_count": null,
   "id": "e4f0675f",
   "metadata": {},
   "outputs": [],
   "source": [
    "mylist1 = [10,20,30,40,500]\n",
    "n5 = np.array(mylist1, dtype=np.int8)  #  hardcoded itemsize. NOT recommended\n",
    "print(type(n5))\n",
    "print(n5)\n",
    "print(n5.shape) # num of elements along each axis, as a tuple\n",
    "print(n5.ndim)  #  number of dimension\n",
    "print(n5.size)  #  total number of elements\n",
    "print()\n",
    "\n",
    "print(n5.itemsize) # size in bytes occupied in memory\n",
    "print(n5.dtype)"
   ]
  },
  {
   "cell_type": "code",
   "execution_count": null,
   "id": "aa6ecbba",
   "metadata": {},
   "outputs": [],
   "source": [
    "np.arange(10)"
   ]
  },
  {
   "cell_type": "code",
   "execution_count": null,
   "id": "29086fc4",
   "metadata": {},
   "outputs": [],
   "source": [
    "np.arange(10,20)"
   ]
  },
  {
   "cell_type": "code",
   "execution_count": null,
   "id": "7c10539a",
   "metadata": {},
   "outputs": [],
   "source": [
    "np.arange(10,30,2)"
   ]
  },
  {
   "cell_type": "code",
   "execution_count": null,
   "id": "fcf471c8",
   "metadata": {},
   "outputs": [],
   "source": [
    "r = np.arange(10.01,30.98,2.1)\n",
    "print(r)\n",
    "print(r.shape)"
   ]
  },
  {
   "cell_type": "raw",
   "id": "7ef435c5",
   "metadata": {},
   "source": [
    "11 22 33 44\n",
    "55 66 77 88\n",
    "99 23 45 67"
   ]
  },
  {
   "cell_type": "code",
   "execution_count": null,
   "id": "4007a99b",
   "metadata": {},
   "outputs": [],
   "source": [
    "mylist34 = [\n",
    "    [11,22,33,44],\n",
    "    [55,66,77,88],\n",
    "    [99,23,45,67]\n",
    "]"
   ]
  },
  {
   "cell_type": "code",
   "execution_count": null,
   "id": "0326f1fb",
   "metadata": {},
   "outputs": [],
   "source": [
    "n34 = np.array(mylist34)\n",
    "print(n34.shape)\n",
    "n34"
   ]
  },
  {
   "cell_type": "code",
   "execution_count": null,
   "id": "0ec12d4f",
   "metadata": {},
   "outputs": [],
   "source": [
    "n34 = np.arange(12).reshape(3,4)\n",
    "print(n34.shape)\n",
    "print(n34)"
   ]
  },
  {
   "cell_type": "code",
   "execution_count": null,
   "id": "b344ff61",
   "metadata": {},
   "outputs": [],
   "source": [
    "n34.reshape(2,3)"
   ]
  },
  {
   "cell_type": "code",
   "execution_count": null,
   "id": "50793289",
   "metadata": {},
   "outputs": [],
   "source": [
    "n34.reshape(12)"
   ]
  },
  {
   "cell_type": "code",
   "execution_count": null,
   "id": "982a99c4",
   "metadata": {},
   "outputs": [],
   "source": [
    "n34.reshape(1,12)"
   ]
  },
  {
   "cell_type": "code",
   "execution_count": null,
   "id": "041b4661",
   "metadata": {},
   "outputs": [],
   "source": [
    "np.random.seed(23)\n",
    "n64 = np.random.randint(low=10, high=100, size=(6,4))\n",
    "n64"
   ]
  },
  {
   "cell_type": "code",
   "execution_count": null,
   "id": "a807ab40",
   "metadata": {},
   "outputs": [],
   "source": [
    "n = np.arange(2348).reshape(4,-1)\n",
    "print(n.shape)"
   ]
  },
  {
   "cell_type": "code",
   "execution_count": null,
   "id": "d6061e1f",
   "metadata": {},
   "outputs": [],
   "source": [
    "np.identity(4)"
   ]
  },
  {
   "cell_type": "code",
   "execution_count": null,
   "id": "51947740",
   "metadata": {},
   "outputs": [],
   "source": [
    "np.identity(4, dtype=np.int32)"
   ]
  },
  {
   "cell_type": "code",
   "execution_count": null,
   "id": "59052bbb",
   "metadata": {},
   "outputs": [],
   "source": [
    "np.zeros(shape=(3,4) )"
   ]
  },
  {
   "cell_type": "code",
   "execution_count": null,
   "id": "b60b9495",
   "metadata": {},
   "outputs": [],
   "source": [
    "np.ones(shape=(3,4) )"
   ]
  },
  {
   "cell_type": "code",
   "execution_count": null,
   "id": "bf9375e2",
   "metadata": {},
   "outputs": [],
   "source": [
    "np.full(shape=(3,4), fill_value=55)"
   ]
  },
  {
   "cell_type": "code",
   "execution_count": null,
   "id": "e05a6e02",
   "metadata": {},
   "outputs": [],
   "source": [
    "import random\n",
    "random.randint(10,20)"
   ]
  },
  {
   "cell_type": "code",
   "execution_count": null,
   "id": "aa15fdbd",
   "metadata": {},
   "outputs": [],
   "source": [
    "np.full(shape=(3,4) , fill_value=random.randint(10,20))"
   ]
  },
  {
   "cell_type": "code",
   "execution_count": null,
   "id": "8f105272",
   "metadata": {},
   "outputs": [],
   "source": [
    "n = np.random.rand(60,40) # uniform dist framrwork random generator\n",
    "print(n.min())\n",
    "print(n.max())\n",
    "print(n.mean())"
   ]
  },
  {
   "cell_type": "code",
   "execution_count": null,
   "id": "b5099f4f",
   "metadata": {},
   "outputs": [],
   "source": [
    "import matplotlib.pyplot as plt"
   ]
  },
  {
   "cell_type": "code",
   "execution_count": null,
   "id": "88306bc7",
   "metadata": {},
   "outputs": [],
   "source": [
    "plt.scatter(n, n.T)"
   ]
  },
  {
   "cell_type": "code",
   "execution_count": null,
   "id": "6c0a0bde",
   "metadata": {},
   "outputs": [],
   "source": [
    "plt.hist(n)"
   ]
  },
  {
   "cell_type": "code",
   "execution_count": null,
   "id": "9abefd3d",
   "metadata": {},
   "outputs": [],
   "source": [
    "n = np.random.randn(60,40) # std normal dist framrwork random generator\n",
    "print(n.min())\n",
    "print(n.max())\n",
    "print(n.mean())"
   ]
  },
  {
   "cell_type": "code",
   "execution_count": null,
   "id": "b05ec229",
   "metadata": {},
   "outputs": [],
   "source": [
    "plt.scatter(n, n.T)"
   ]
  },
  {
   "cell_type": "code",
   "execution_count": null,
   "id": "02e122cb",
   "metadata": {},
   "outputs": [],
   "source": [
    "plt.hist(n)"
   ]
  },
  {
   "cell_type": "markdown",
   "id": "48446c90",
   "metadata": {},
   "source": [
    "# Arthmetic Ops"
   ]
  },
  {
   "cell_type": "code",
   "execution_count": null,
   "id": "779218a1",
   "metadata": {},
   "outputs": [],
   "source": [
    "n34a = np.arange(12).reshape(3,4)\n",
    "n34b = np.arange(100,112).reshape(3,4)"
   ]
  },
  {
   "cell_type": "code",
   "execution_count": null,
   "id": "7bbc9f24",
   "metadata": {},
   "outputs": [],
   "source": [
    "print(n34a)\n",
    "print(n34b)\n",
    "n34a+n34b"
   ]
  },
  {
   "cell_type": "code",
   "execution_count": null,
   "id": "2568dae8",
   "metadata": {},
   "outputs": [],
   "source": [
    "n34a-n34b"
   ]
  },
  {
   "cell_type": "code",
   "execution_count": null,
   "id": "b262dd28",
   "metadata": {},
   "outputs": [],
   "source": [
    "print(n34a)\n",
    "print(n34b)\n",
    "n34a*n34b  # cell 2 cell multiplication"
   ]
  },
  {
   "cell_type": "code",
   "execution_count": null,
   "id": "bac0b517",
   "metadata": {},
   "outputs": [],
   "source": [
    "n34a@n34b  ##  leads to error"
   ]
  },
  {
   "cell_type": "raw",
   "id": "ef31a1b6",
   "metadata": {},
   "source": [
    "MxN  @  NxK  -->  MxK    #  rule for matmul"
   ]
  },
  {
   "cell_type": "code",
   "execution_count": null,
   "id": "46d7ebd6",
   "metadata": {},
   "outputs": [],
   "source": [
    "print(n34b)\n",
    "n43 = n34b.T    ##  transpose can also use np.transpose\n",
    "n43"
   ]
  },
  {
   "cell_type": "code",
   "execution_count": null,
   "id": "c1254865",
   "metadata": {},
   "outputs": [],
   "source": [
    "print(n34a)\n",
    "print(n43)\n",
    "n34a@n43   #  matrix multiplication.  Sum of Products"
   ]
  },
  {
   "cell_type": "code",
   "execution_count": null,
   "id": "18a3e525",
   "metadata": {},
   "outputs": [],
   "source": [
    "(0*100)+(1*101)+(2*102)+(3*103)"
   ]
  },
  {
   "cell_type": "code",
   "execution_count": null,
   "id": "cdeba6cc",
   "metadata": {},
   "outputs": [],
   "source": [
    "(8*108)+(9*109)+(10*110)+(11*111)"
   ]
  },
  {
   "cell_type": "code",
   "execution_count": null,
   "id": "99162e22",
   "metadata": {},
   "outputs": [],
   "source": [
    "n34a"
   ]
  },
  {
   "cell_type": "code",
   "execution_count": null,
   "id": "6f68b6b8",
   "metadata": {},
   "outputs": [],
   "source": [
    "n34b"
   ]
  },
  {
   "cell_type": "code",
   "execution_count": null,
   "id": "6b9059af",
   "metadata": {},
   "outputs": [],
   "source": [
    "np.power(n34b,2)"
   ]
  },
  {
   "cell_type": "code",
   "execution_count": null,
   "id": "3f3e50fd",
   "metadata": {},
   "outputs": [],
   "source": [
    "np.remainder(n34b,3)"
   ]
  },
  {
   "cell_type": "markdown",
   "id": "5cc48d0d",
   "metadata": {},
   "source": [
    "# Extraction of values"
   ]
  },
  {
   "cell_type": "code",
   "execution_count": null,
   "id": "faa6f441",
   "metadata": {},
   "outputs": [],
   "source": [
    "np.random.seed(23)\n",
    "n89 = np.random.randint(low=10, high=100, size=(8,9))\n",
    "n89"
   ]
  },
  {
   "cell_type": "code",
   "execution_count": null,
   "id": "2333548d",
   "metadata": {},
   "outputs": [],
   "source": [
    "n89[0][0]"
   ]
  },
  {
   "cell_type": "code",
   "execution_count": null,
   "id": "f81d8396",
   "metadata": {},
   "outputs": [],
   "source": [
    "n89[0,0]"
   ]
  },
  {
   "cell_type": "raw",
   "id": "3a8409a4",
   "metadata": {},
   "source": [
    "Grammer\n",
    "\n",
    "n89[row_index]\n",
    "n89[row_index, col_index]\n",
    "\n",
    "n89[row_slice]\n",
    "n89[row_slice, col_slice]\n",
    "\n",
    "n89[ [list of rows] ]\n",
    "\n",
    "n89[ [list of rows] ,[list of cols] ]. values based on zip(rlist, clist)\n",
    "\n",
    "combo of above \n",
    "\n",
    "n89[boolean matrix of same shape as n89 ]"
   ]
  },
  {
   "cell_type": "code",
   "execution_count": null,
   "id": "2753b2c9",
   "metadata": {},
   "outputs": [],
   "source": [
    "n89[2:5]"
   ]
  },
  {
   "cell_type": "code",
   "execution_count": null,
   "id": "681cd920",
   "metadata": {},
   "outputs": [],
   "source": [
    "n89[1:6:2]"
   ]
  },
  {
   "cell_type": "code",
   "execution_count": null,
   "id": "75037a2b",
   "metadata": {},
   "outputs": [],
   "source": [
    "n89[1::2]"
   ]
  },
  {
   "cell_type": "code",
   "execution_count": null,
   "id": "df3a7548",
   "metadata": {},
   "outputs": [],
   "source": [
    "n89[2:6, 2:8]"
   ]
  },
  {
   "cell_type": "code",
   "execution_count": null,
   "id": "ea282994",
   "metadata": {},
   "outputs": [],
   "source": [
    "n89[  [0,1,-2,-1]  ]"
   ]
  },
  {
   "cell_type": "code",
   "execution_count": null,
   "id": "d39cfb8f",
   "metadata": {},
   "outputs": [],
   "source": [
    "n89[-3:]"
   ]
  },
  {
   "cell_type": "code",
   "execution_count": null,
   "id": "be4a4826",
   "metadata": {},
   "outputs": [],
   "source": [
    "n89"
   ]
  },
  {
   "cell_type": "code",
   "execution_count": null,
   "id": "d365524a",
   "metadata": {},
   "outputs": [],
   "source": [
    "n89[  [0,1,-2,-1] ,   [0,1,-2,-1]   ]"
   ]
  },
  {
   "cell_type": "code",
   "execution_count": null,
   "id": "b61646ab",
   "metadata": {},
   "outputs": [],
   "source": [
    "n89[:, [3,5,-1]]"
   ]
  },
  {
   "cell_type": "code",
   "execution_count": null,
   "id": "df615796",
   "metadata": {},
   "outputs": [],
   "source": [
    "n89[:, -2]"
   ]
  },
  {
   "cell_type": "code",
   "execution_count": null,
   "id": "3654a7f5",
   "metadata": {},
   "outputs": [],
   "source": [
    "n89[:, [-2] ]"
   ]
  },
  {
   "cell_type": "markdown",
   "id": "dda19c12",
   "metadata": {},
   "source": [
    "Conditional Access"
   ]
  },
  {
   "cell_type": "code",
   "execution_count": null,
   "id": "21346a9f",
   "metadata": {},
   "outputs": [],
   "source": [
    "n89"
   ]
  },
  {
   "cell_type": "code",
   "execution_count": null,
   "id": "9088bed8",
   "metadata": {},
   "outputs": [],
   "source": [
    "mask1 = n89 > 50\n",
    "mask1"
   ]
  },
  {
   "cell_type": "code",
   "execution_count": null,
   "id": "d2f4d6ab",
   "metadata": {},
   "outputs": [],
   "source": [
    "n89[mask1]"
   ]
  },
  {
   "cell_type": "code",
   "execution_count": null,
   "id": "b5f618ee",
   "metadata": {},
   "outputs": [],
   "source": [
    "n89[n89>50] # extract all values from n89 > 50"
   ]
  },
  {
   "cell_type": "code",
   "execution_count": null,
   "id": "23336b08",
   "metadata": {},
   "outputs": [],
   "source": [
    "mask1 = n89>50\n",
    "print(mask1)"
   ]
  },
  {
   "cell_type": "code",
   "execution_count": null,
   "id": "a03a0ffe",
   "metadata": {},
   "outputs": [],
   "source": [
    "mask2 = n89%2 ==0\n",
    "print(mask2)"
   ]
  },
  {
   "cell_type": "code",
   "execution_count": null,
   "id": "89695818",
   "metadata": {},
   "outputs": [],
   "source": [
    "mask3 = mask1 & mask2\n",
    "mask3"
   ]
  },
  {
   "cell_type": "code",
   "execution_count": null,
   "id": "c1ecc119",
   "metadata": {},
   "outputs": [],
   "source": [
    "n89[mask3]"
   ]
  },
  {
   "cell_type": "code",
   "execution_count": null,
   "id": "a9d2172d",
   "metadata": {},
   "outputs": [],
   "source": [
    "n89[  (n89>50) & (n89%2==0) ] # all even values greater than 50"
   ]
  },
  {
   "cell_type": "code",
   "execution_count": null,
   "id": "af3bf578",
   "metadata": {},
   "outputs": [],
   "source": [
    "n89[  (n89>75) | (n89<25) ]"
   ]
  },
  {
   "cell_type": "code",
   "execution_count": null,
   "id": "83167a8e",
   "metadata": {},
   "outputs": [],
   "source": [
    "n89[n89>50] = 999\n",
    "n89"
   ]
  },
  {
   "cell_type": "markdown",
   "id": "0f61e26f",
   "metadata": {},
   "source": [
    "linspace"
   ]
  },
  {
   "cell_type": "code",
   "execution_count": null,
   "id": "97653e10",
   "metadata": {},
   "outputs": [],
   "source": [
    "np.linspace(start=3, stop=5, num=9)"
   ]
  },
  {
   "cell_type": "code",
   "execution_count": null,
   "id": "a9ca7194",
   "metadata": {},
   "outputs": [],
   "source": [
    "np.linspace(start=3, stop=5, num=9, retstep=True)"
   ]
  },
  {
   "cell_type": "markdown",
   "id": "4eb2664e",
   "metadata": {},
   "source": [
    "insert"
   ]
  },
  {
   "cell_type": "code",
   "execution_count": null,
   "id": "8c68e864",
   "metadata": {},
   "outputs": [],
   "source": [
    "n64 = np.arange(24).reshape(6,4)\n",
    "n64"
   ]
  },
  {
   "cell_type": "code",
   "execution_count": null,
   "id": "9876bbb2",
   "metadata": {},
   "outputs": [],
   "source": [
    "n24 = np.arange(100,108).reshape(2,4)\n",
    "n24"
   ]
  },
  {
   "cell_type": "code",
   "execution_count": null,
   "id": "3384f261",
   "metadata": {},
   "outputs": [],
   "source": [
    "n26 = np.arange(200,212).reshape(2,6)\n",
    "n26"
   ]
  },
  {
   "cell_type": "code",
   "execution_count": null,
   "id": "60f79efc",
   "metadata": {},
   "outputs": [],
   "source": [
    "n84 = np.insert(arr=n64,obj=2,values=n24,axis=0)\n",
    "n84"
   ]
  },
  {
   "cell_type": "code",
   "execution_count": null,
   "id": "8a832a0a",
   "metadata": {},
   "outputs": [],
   "source": [
    "n66 = np.insert(arr=n64,obj=1,values=n26,axis=1)  ##  Check this...\n",
    "n66"
   ]
  },
  {
   "cell_type": "markdown",
   "id": "9864198e",
   "metadata": {},
   "source": [
    "Looping"
   ]
  },
  {
   "cell_type": "code",
   "execution_count": null,
   "id": "92e09102",
   "metadata": {},
   "outputs": [],
   "source": [
    "n64"
   ]
  },
  {
   "cell_type": "code",
   "execution_count": null,
   "id": "f004948d",
   "metadata": {},
   "outputs": [],
   "source": [
    "for item in n64:\n",
    "    print(item)"
   ]
  },
  {
   "cell_type": "code",
   "execution_count": null,
   "id": "b1a75050",
   "metadata": {},
   "outputs": [],
   "source": [
    "for item in np.nditer(n64):\n",
    "    print(item)"
   ]
  },
  {
   "cell_type": "code",
   "execution_count": null,
   "id": "e35fe7dd",
   "metadata": {},
   "outputs": [],
   "source": [
    "for index, value in np.ndenumerate(n64):\n",
    "    print(index, value)"
   ]
  },
  {
   "cell_type": "markdown",
   "id": "6a8cc6d0-1507-49b1-b6f3-ec7b3f68fdf0",
   "metadata": {},
   "source": [
    "# 11/May/2024"
   ]
  },
  {
   "cell_type": "markdown",
   "id": "ea0cdd8a-63ae-43bf-9c05-1a227e3d8d8a",
   "metadata": {},
   "source": [
    "# Aggregation"
   ]
  },
  {
   "cell_type": "code",
   "execution_count": null,
   "id": "c496623c-854b-49b1-b39f-338462bfa511",
   "metadata": {},
   "outputs": [],
   "source": [
    "np.random.seed(23)\n",
    "n64 = np.random.randint(low=1, high=20, size=(6,4))\n",
    "n64"
   ]
  },
  {
   "cell_type": "code",
   "execution_count": null,
   "id": "b7450c7c-1bcb-4c29-949d-a996009efb43",
   "metadata": {},
   "outputs": [],
   "source": [
    "print(n64)\n",
    "print(np.sum(n64))\n",
    "print(np.sum(n64, axis=0))\n",
    "print(np.sum(n64, axis=1))"
   ]
  },
  {
   "cell_type": "code",
   "execution_count": null,
   "id": "209ec313-4f6c-465a-a7e7-d15b1d045177",
   "metadata": {},
   "outputs": [],
   "source": [
    "print(n64)\n",
    "print(np.min(n64))\n",
    "print(np.min(n64, axis=0))\n",
    "print(np.min(n64, axis=1))"
   ]
  },
  {
   "cell_type": "code",
   "execution_count": null,
   "id": "6ab6ef0e-75c1-452a-bd1d-1917dfd52eea",
   "metadata": {},
   "outputs": [],
   "source": [
    "print(n64)\n",
    "print(np.max(n64))\n",
    "print(np.max(n64, axis=0))\n",
    "print(np.max(n64, axis=1))"
   ]
  },
  {
   "cell_type": "code",
   "execution_count": null,
   "id": "782d7b2a-d318-4fc2-b081-d7ae1778c21f",
   "metadata": {},
   "outputs": [],
   "source": [
    "print(n64)\n",
    "print(np.mean(n64))\n",
    "print(np.mean(n64, axis=0))\n",
    "print(np.mean(n64, axis=1))"
   ]
  },
  {
   "cell_type": "code",
   "execution_count": null,
   "id": "ceb9b385-3acc-4c87-b037-a578b01fe575",
   "metadata": {},
   "outputs": [],
   "source": [
    "print(n64)\n",
    "print(np.median(n64))\n",
    "print(np.median(n64, axis=0))\n",
    "print(np.median(n64, axis=1))"
   ]
  },
  {
   "cell_type": "code",
   "execution_count": null,
   "id": "3e32734d-cea3-4f29-b9ca-9abf87a8d421",
   "metadata": {},
   "outputs": [],
   "source": [
    "print(n64)\n",
    "print(np.std(n64))\n",
    "print(np.std(n64, axis=0))\n",
    "print(np.std(n64, axis=1))"
   ]
  },
  {
   "cell_type": "code",
   "execution_count": null,
   "id": "2ed62109-3d24-4bdf-a92a-c30f36b90f9f",
   "metadata": {},
   "outputs": [],
   "source": [
    "print(n64)\n",
    "print(np.var(n64))\n",
    "print(np.var(n64, axis=0))\n",
    "print(np.var(n64, axis=1))"
   ]
  },
  {
   "cell_type": "markdown",
   "id": "8f947ec4-4c45-4dd7-a27e-7ea1e9f83605",
   "metadata": {},
   "source": [
    "# Array Split"
   ]
  },
  {
   "cell_type": "code",
   "execution_count": null,
   "id": "d764b771-dedc-4a30-bc69-8c7064170776",
   "metadata": {},
   "outputs": [],
   "source": [
    "np.random.seed(23)\n",
    "n89 = np.random.randint(low=10, high=101, size=(8,9))\n",
    "n89"
   ]
  },
  {
   "cell_type": "code",
   "execution_count": null,
   "id": "34c90646-b1a6-4a6a-9df7-d6f003d0fadd",
   "metadata": {},
   "outputs": [],
   "source": [
    "r = np.vsplit(n89,2)\n",
    "print(type(r))\n",
    "for arr in r:\n",
    "    print(arr)\n",
    "    print(arr.shape)\n",
    "    print()"
   ]
  },
  {
   "cell_type": "code",
   "execution_count": null,
   "id": "c9a91f4e-7a87-42f1-967d-3fbf8c2795b7",
   "metadata": {},
   "outputs": [],
   "source": [
    "np.vsplit(n89,4)"
   ]
  },
  {
   "cell_type": "code",
   "execution_count": null,
   "id": "fad5e013-0834-44f2-88d1-e14d77f03256",
   "metadata": {},
   "outputs": [],
   "source": [
    "np.vsplit(n89,3)"
   ]
  },
  {
   "cell_type": "code",
   "execution_count": null,
   "id": "7226e425-2615-43c9-9a5b-fbd56c407a0b",
   "metadata": {},
   "outputs": [],
   "source": [
    "np.hsplit(n89,3)"
   ]
  },
  {
   "cell_type": "code",
   "execution_count": null,
   "id": "61e4b9e1-7988-4697-8be9-8e90f6bd0085",
   "metadata": {},
   "outputs": [],
   "source": [
    "np.vsplit(n89,[3,4,6,7] )  #   :3:4:6:7:"
   ]
  },
  {
   "cell_type": "code",
   "execution_count": null,
   "id": "d19dd46a-9259-4b3d-80e6-e376b42dd357",
   "metadata": {},
   "outputs": [],
   "source": [
    "np.vsplit(n89,[4,6] )"
   ]
  },
  {
   "cell_type": "code",
   "execution_count": null,
   "id": "ed746d12-ad19-4c4c-a4c5-309434d249c6",
   "metadata": {},
   "outputs": [],
   "source": [
    "np.hsplit(n89, [3,5,7,8])   ##  :3:5:7:8:"
   ]
  },
  {
   "cell_type": "markdown",
   "id": "e9960c77-1cee-487b-94e7-8b51ad62ecd5",
   "metadata": {},
   "source": [
    "# Concat/Stack"
   ]
  },
  {
   "cell_type": "code",
   "execution_count": null,
   "id": "9e9f7926-3340-40fc-a2e8-a722b232f452",
   "metadata": {},
   "outputs": [],
   "source": [
    "n34 = np.arange(12).reshape(3,4)\n",
    "n36 = np.arange(100,118).reshape(3,6)\n",
    "n64 = np.arange(200,224).reshape(6,4)"
   ]
  },
  {
   "cell_type": "code",
   "execution_count": null,
   "id": "b5d1b5ee-94b5-4a8a-b882-2d196c9c7cad",
   "metadata": {},
   "outputs": [],
   "source": [
    "np.concatenate( (n34,n64), axis=0)#.shape"
   ]
  },
  {
   "cell_type": "code",
   "execution_count": null,
   "id": "a1255ed0-f0fa-4051-85dc-810710819344",
   "metadata": {},
   "outputs": [],
   "source": [
    "np.concatenate( (n34,n36), axis=0)#error"
   ]
  },
  {
   "cell_type": "code",
   "execution_count": null,
   "id": "3f613b64-a5dc-4d4c-bcba-0cd52ca9f9e9",
   "metadata": {},
   "outputs": [],
   "source": [
    "np.concatenate( (n34,n64), axis=1)#.error"
   ]
  },
  {
   "cell_type": "code",
   "execution_count": null,
   "id": "95052220-8f69-4238-8a7e-297a9e81f699",
   "metadata": {},
   "outputs": [],
   "source": [
    "print(n34)\n",
    "print(n36)\n",
    "np.concatenate( (n34,n36), axis=1)#.shape"
   ]
  },
  {
   "cell_type": "code",
   "execution_count": null,
   "id": "80869611-1804-48ec-b86c-0f654ee3b246",
   "metadata": {},
   "outputs": [],
   "source": [
    "np.vstack([n34,n64]) # same as concat with axis=0"
   ]
  },
  {
   "cell_type": "code",
   "execution_count": null,
   "id": "f0da9b53-7603-4874-9b11-ca44340cde92",
   "metadata": {},
   "outputs": [],
   "source": [
    "np.hstack((n34,n36))  #  same as concat with axis=1"
   ]
  },
  {
   "cell_type": "code",
   "execution_count": null,
   "id": "91fae7c1-4889-4f9c-b423-9c978ff71dcb",
   "metadata": {},
   "outputs": [],
   "source": []
  }
 ],
 "metadata": {
  "kernelspec": {
   "display_name": "Python 3 (ipykernel)",
   "language": "python",
   "name": "python3"
  },
  "language_info": {
   "codemirror_mode": {
    "name": "ipython",
    "version": 3
   },
   "file_extension": ".py",
   "mimetype": "text/x-python",
   "name": "python",
   "nbconvert_exporter": "python",
   "pygments_lexer": "ipython3",
   "version": "3.11.7"
  }
 },
 "nbformat": 4,
 "nbformat_minor": 5
}
