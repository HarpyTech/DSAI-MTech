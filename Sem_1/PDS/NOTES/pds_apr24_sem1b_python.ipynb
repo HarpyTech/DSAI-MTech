{
 "cells": [
  {
   "cell_type": "markdown",
   "id": "257788cd",
   "metadata": {},
   "source": [
    "# Python Programming Lang"
   ]
  },
  {
   "cell_type": "markdown",
   "id": "f89407ec",
   "metadata": {},
   "source": [
    "# 27/Apr/2024"
   ]
  },
  {
   "cell_type": "markdown",
   "id": "790936e0",
   "metadata": {},
   "source": [
    "# Write a Print Statement ?"
   ]
  },
  {
   "cell_type": "code",
   "execution_count": null,
   "id": "54e067a4",
   "metadata": {},
   "outputs": [],
   "source": [
    "print('Hello World')"
   ]
  },
  {
   "cell_type": "raw",
   "id": "aad0edb8",
   "metadata": {},
   "source": [
    "this is commentd\n",
    "cell of \n",
    "jupyter notebook"
   ]
  },
  {
   "cell_type": "markdown",
   "id": "700fb1b7",
   "metadata": {},
   "source": [
    "# Syntax"
   ]
  },
  {
   "cell_type": "code",
   "execution_count": null,
   "id": "7677a95b",
   "metadata": {},
   "outputs": [],
   "source": [
    "print('NSE Mumbai')  #  Line comment starts     print('BSE Mumbai')\n",
    "# print('NSE BSE India')  # full line commented\n",
    "\n",
    "print('NSE # BSE # Mumbai') # hash within quotes, is treated as literal hash"
   ]
  },
  {
   "cell_type": "code",
   "execution_count": null,
   "id": "782039ed",
   "metadata": {},
   "outputs": [],
   "source": [
    "usd = \"Dollar: $\";   rupee = \"Rupee: \\u20b9\"\n",
    "\n",
    "print(usd, rupee)"
   ]
  },
  {
   "cell_type": "code",
   "execution_count": null,
   "id": "730abf6b",
   "metadata": {},
   "outputs": [],
   "source": [
    "ms1 = 'nse mumbai is \n",
    "in India'\n",
    "\n",
    "print(ms1)"
   ]
  },
  {
   "cell_type": "code",
   "execution_count": null,
   "id": "69903e94",
   "metadata": {},
   "outputs": [],
   "source": [
    "ms2 = ''' this is\n",
    "bse mumbai\n",
    "in india\n",
    "\n",
    "'''\n",
    "print(ms2)"
   ]
  },
  {
   "cell_type": "code",
   "execution_count": null,
   "id": "f76c3eb2",
   "metadata": {},
   "outputs": [],
   "source": [
    "print('hello \" world  ')"
   ]
  },
  {
   "cell_type": "code",
   "execution_count": null,
   "id": "b2739869",
   "metadata": {},
   "outputs": [],
   "source": [
    "ms1 = 'hello'\n",
    "\n",
    "'''\n",
    "line comment 1\n",
    "line comment 2\n",
    "'''\n",
    "print(ms1)"
   ]
  },
  {
   "cell_type": "code",
   "execution_count": null,
   "id": "7265e717",
   "metadata": {},
   "outputs": [],
   "source": [
    "10"
   ]
  },
  {
   "cell_type": "code",
   "execution_count": null,
   "id": "49cfbde1",
   "metadata": {},
   "outputs": [],
   "source": [
    "'hello'"
   ]
  },
  {
   "cell_type": "code",
   "execution_count": null,
   "id": "91e70942",
   "metadata": {},
   "outputs": [],
   "source": [
    "10\n",
    "20\n",
    "30"
   ]
  },
  {
   "cell_type": "code",
   "execution_count": null,
   "id": "d908563e",
   "metadata": {},
   "outputs": [],
   "source": [
    "ms1 = 'NSE'\n",
    "10+10+20\n",
    "print(ms1)"
   ]
  },
  {
   "cell_type": "code",
   "execution_count": null,
   "id": "34c94ad7",
   "metadata": {},
   "outputs": [],
   "source": [
    "ms1 = 'NSE'\n",
    "print(10+20+30)\n",
    "print(ms1)"
   ]
  },
  {
   "cell_type": "markdown",
   "id": "faa42635",
   "metadata": {},
   "source": [
    "Variable Rules"
   ]
  },
  {
   "cell_type": "code",
   "execution_count": null,
   "id": "df3a414b",
   "metadata": {},
   "outputs": [],
   "source": [
    "temp = 20\n",
    "Temp = 21\n",
    "print(temp, Temp)  #  case sensitive"
   ]
  },
  {
   "cell_type": "code",
   "execution_count": null,
   "id": "2deec01c",
   "metadata": {},
   "outputs": [],
   "source": [
    "91exchange = 'NSE'  # error starting with num"
   ]
  },
  {
   "cell_type": "code",
   "execution_count": null,
   "id": "ea5903a8",
   "metadata": {},
   "outputs": [],
   "source": [
    "exchange@NSE = 'Mumbai'  # error no special char"
   ]
  },
  {
   "cell_type": "code",
   "execution_count": null,
   "id": "d8c7aa07",
   "metadata": {},
   "outputs": [],
   "source": [
    "exchange_NSE = 'MUmbai' # _ ok"
   ]
  },
  {
   "cell_type": "code",
   "execution_count": null,
   "id": "ef0c3e0e",
   "metadata": {},
   "outputs": [],
   "source": [
    "exchange_91_NSE = 'Mumbai'  # num inbetween is ok"
   ]
  },
  {
   "cell_type": "code",
   "execution_count": null,
   "id": "26edcdc6",
   "metadata": {},
   "outputs": [],
   "source": [
    "if = 'hello'  #  lang keyword cannot be var name"
   ]
  },
  {
   "cell_type": "code",
   "execution_count": null,
   "id": "9f29d900",
   "metadata": {},
   "outputs": [],
   "source": [
    "import keyword\n",
    "print(keyword.kwlist)"
   ]
  },
  {
   "cell_type": "code",
   "execution_count": null,
   "id": "2ec4022c",
   "metadata": {},
   "outputs": [],
   "source": [
    "#   print is NOT a language keyword. It is a Variable referring to a builtin function."
   ]
  },
  {
   "cell_type": "markdown",
   "id": "d9622aca",
   "metadata": {},
   "source": [
    "Indentation"
   ]
  },
  {
   "cell_type": "code",
   "execution_count": null,
   "id": "819fab95",
   "metadata": {},
   "outputs": [],
   "source": [
    "sensor = 1\n",
    "\n",
    "if sensor == 0:\n",
    "    print('Sensor goes OFF')\n",
    "    print('Motor goes OFF')\n",
    "else:\n",
    "        print('Sensor goes ON')\n",
    "        print('Motor goes ON')\n",
    "        \n",
    "print('Done')"
   ]
  },
  {
   "cell_type": "code",
   "execution_count": null,
   "id": "30e03d7c",
   "metadata": {},
   "outputs": [],
   "source": [
    "sensor = 1\n",
    "\n",
    "if sensor == 0:\n",
    "    print('Sensor goes OFF')\n",
    "      print('Motor goes OFF')  #error indentation\n",
    "else:\n",
    "        print('Sensor goes ON')\n",
    "        print('Motor goes ON')\n",
    "        \n",
    "print('Done')"
   ]
  },
  {
   "cell_type": "markdown",
   "id": "a5da95e0",
   "metadata": {},
   "source": [
    "# Variable "
   ]
  },
  {
   "cell_type": "code",
   "execution_count": null,
   "id": "8a80a45d",
   "metadata": {},
   "outputs": [],
   "source": [
    "m1 = 23\n",
    "print(type(m1))\n",
    "print(id(m1))"
   ]
  },
  {
   "cell_type": "code",
   "execution_count": null,
   "id": "1cd6828d",
   "metadata": {},
   "outputs": [],
   "source": [
    "m1 = 23\n",
    "m2 = 23\n",
    "print(id(m1))\n",
    "print(id(m2))"
   ]
  },
  {
   "cell_type": "code",
   "execution_count": null,
   "id": "d4ec82c9",
   "metadata": {},
   "outputs": [],
   "source": [
    "m1 = 2300\n",
    "m2 = 2300\n",
    "print(id(m1))\n",
    "print(id(m2))"
   ]
  },
  {
   "cell_type": "code",
   "execution_count": null,
   "id": "cff3a5de",
   "metadata": {},
   "outputs": [],
   "source": [
    "# -5 to 256 are prefixed in memory"
   ]
  },
  {
   "cell_type": "code",
   "execution_count": null,
   "id": "9a034a27",
   "metadata": {},
   "outputs": [],
   "source": [
    "m1 = m2 = 2300\n",
    "print(id(m1))\n",
    "print(id(m2))"
   ]
  },
  {
   "cell_type": "code",
   "execution_count": null,
   "id": "f4b8291c",
   "metadata": {},
   "outputs": [],
   "source": [
    "print('hello')"
   ]
  },
  {
   "cell_type": "code",
   "execution_count": null,
   "id": "e5cd7e75",
   "metadata": {},
   "outputs": [],
   "source": [
    "print = 20"
   ]
  },
  {
   "cell_type": "code",
   "execution_count": null,
   "id": "cabe4519",
   "metadata": {},
   "outputs": [],
   "source": [
    "print('hello')"
   ]
  },
  {
   "cell_type": "code",
   "execution_count": null,
   "id": "e2693abc",
   "metadata": {},
   "outputs": [],
   "source": [
    "del print"
   ]
  },
  {
   "cell_type": "code",
   "execution_count": null,
   "id": "c8a10621",
   "metadata": {},
   "outputs": [],
   "source": [
    "print('hello world')"
   ]
  },
  {
   "cell_type": "code",
   "execution_count": null,
   "id": "5f229a1d",
   "metadata": {},
   "outputs": [],
   "source": [
    "type(print)"
   ]
  },
  {
   "cell_type": "code",
   "execution_count": null,
   "id": "12a4a37b",
   "metadata": {},
   "outputs": [],
   "source": [
    "type(20)"
   ]
  },
  {
   "cell_type": "code",
   "execution_count": null,
   "id": "476c9511",
   "metadata": {},
   "outputs": [],
   "source": [
    "print(type(20))"
   ]
  },
  {
   "cell_type": "code",
   "execution_count": null,
   "id": "7c8bd538",
   "metadata": {},
   "outputs": [],
   "source": [
    "#  python is dynamically typed langauge"
   ]
  },
  {
   "cell_type": "code",
   "execution_count": null,
   "id": "2c5ccf9d",
   "metadata": {},
   "outputs": [],
   "source": [
    "# in python, there is no contract bn the variable and the object it is viewing currently"
   ]
  },
  {
   "cell_type": "code",
   "execution_count": null,
   "id": "be296956",
   "metadata": {},
   "outputs": [],
   "source": [
    "myprint = print"
   ]
  },
  {
   "cell_type": "code",
   "execution_count": null,
   "id": "aa242e19",
   "metadata": {},
   "outputs": [],
   "source": [
    "myprint('hello world')"
   ]
  },
  {
   "cell_type": "code",
   "execution_count": null,
   "id": "068a8c9c",
   "metadata": {},
   "outputs": [],
   "source": [
    "del print"
   ]
  },
  {
   "cell_type": "code",
   "execution_count": null,
   "id": "a90de11b",
   "metadata": {},
   "outputs": [],
   "source": [
    "myprint('data science')"
   ]
  },
  {
   "cell_type": "code",
   "execution_count": null,
   "id": "573cc5d8",
   "metadata": {},
   "outputs": [],
   "source": [
    "a = b = c= 2000\n",
    "print(a,b,c)\n",
    "print(id(a), id(b), id(c))"
   ]
  },
  {
   "cell_type": "code",
   "execution_count": null,
   "id": "e04391e4",
   "metadata": {},
   "outputs": [],
   "source": [
    "var0, var1, var2 = 2345, 'Hello', [22,44,55]  #  positional mapping\n",
    "print(var0, var1, var2)"
   ]
  },
  {
   "cell_type": "markdown",
   "id": "6d09b3b9",
   "metadata": {},
   "source": [
    "keyboard interface"
   ]
  },
  {
   "cell_type": "code",
   "execution_count": null,
   "id": "cc5274aa",
   "metadata": {},
   "outputs": [],
   "source": [
    "ms1 = input('enter course name: ')\n",
    "print(type(ms1))\n",
    "print(ms1)"
   ]
  },
  {
   "cell_type": "code",
   "execution_count": null,
   "id": "58a647f3",
   "metadata": {},
   "outputs": [],
   "source": [
    "r = input('enter marks: ')\n",
    "print(type(r))\n",
    "print(r)\n",
    "print(r+10)"
   ]
  },
  {
   "cell_type": "code",
   "execution_count": null,
   "id": "80442f9e",
   "metadata": {},
   "outputs": [],
   "source": [
    "r = input('enter marks: ')\n",
    "print(type(r))\n",
    "print(r)\n",
    "\n",
    "r1 = int(r)\n",
    "print(r1+10)"
   ]
  },
  {
   "cell_type": "code",
   "execution_count": null,
   "id": "5d8f47d8",
   "metadata": {},
   "outputs": [],
   "source": [
    "int(\"200\")"
   ]
  },
  {
   "cell_type": "code",
   "execution_count": null,
   "id": "703fd4f8",
   "metadata": {},
   "outputs": [],
   "source": [
    "int('hello')"
   ]
  },
  {
   "cell_type": "code",
   "execution_count": null,
   "id": "7f8ae6bd",
   "metadata": {},
   "outputs": [],
   "source": [
    "isinstance(20,int)"
   ]
  },
  {
   "cell_type": "code",
   "execution_count": null,
   "id": "7713c5d1",
   "metadata": {},
   "outputs": [],
   "source": [
    "isinstance(20,str)"
   ]
  },
  {
   "cell_type": "code",
   "execution_count": null,
   "id": "eb847a23",
   "metadata": {},
   "outputs": [],
   "source": [
    "isinstance('hello',(str,list) )"
   ]
  },
  {
   "cell_type": "code",
   "execution_count": null,
   "id": "9669c711",
   "metadata": {},
   "outputs": [],
   "source": [
    "help(isinstance)"
   ]
  },
  {
   "cell_type": "markdown",
   "id": "c798e89d",
   "metadata": {},
   "source": [
    "# Operators"
   ]
  },
  {
   "cell_type": "code",
   "execution_count": null,
   "id": "03c8dfd1",
   "metadata": {},
   "outputs": [],
   "source": [
    "10+20"
   ]
  },
  {
   "cell_type": "code",
   "execution_count": null,
   "id": "6c28fb1e",
   "metadata": {},
   "outputs": [],
   "source": [
    "10-20"
   ]
  },
  {
   "cell_type": "code",
   "execution_count": null,
   "id": "c820f1d7",
   "metadata": {},
   "outputs": [],
   "source": [
    "10*20"
   ]
  },
  {
   "cell_type": "code",
   "execution_count": null,
   "id": "39225b54",
   "metadata": {},
   "outputs": [],
   "source": [
    "30/13"
   ]
  },
  {
   "cell_type": "code",
   "execution_count": null,
   "id": "b1e8930a",
   "metadata": {},
   "outputs": [],
   "source": [
    "30//13"
   ]
  },
  {
   "cell_type": "code",
   "execution_count": null,
   "id": "c20ff865",
   "metadata": {},
   "outputs": [],
   "source": [
    "30%13"
   ]
  },
  {
   "cell_type": "code",
   "execution_count": null,
   "id": "863a902e",
   "metadata": {},
   "outputs": [],
   "source": [
    "2**3  #  2 to the power of 3. exponential operator"
   ]
  },
  {
   "cell_type": "code",
   "execution_count": null,
   "id": "556e61c1",
   "metadata": {},
   "outputs": [],
   "source": [
    "bool(5)"
   ]
  },
  {
   "cell_type": "code",
   "execution_count": null,
   "id": "108fc11c",
   "metadata": {},
   "outputs": [],
   "source": [
    "bool(0)"
   ]
  },
  {
   "cell_type": "code",
   "execution_count": null,
   "id": "f061f205",
   "metadata": {},
   "outputs": [],
   "source": [
    "bool('True')"
   ]
  },
  {
   "cell_type": "code",
   "execution_count": null,
   "id": "b1d59eff",
   "metadata": {},
   "outputs": [],
   "source": [
    "bool('False')"
   ]
  },
  {
   "cell_type": "code",
   "execution_count": null,
   "id": "07bc9dd4",
   "metadata": {},
   "outputs": [],
   "source": [
    "bool('')"
   ]
  },
  {
   "cell_type": "code",
   "execution_count": null,
   "id": "e3cada2f",
   "metadata": {},
   "outputs": [],
   "source": [
    "bool([0])"
   ]
  },
  {
   "cell_type": "code",
   "execution_count": null,
   "id": "f2082c55",
   "metadata": {},
   "outputs": [],
   "source": [
    "bool([])"
   ]
  },
  {
   "cell_type": "code",
   "execution_count": null,
   "id": "dbab8b95",
   "metadata": {},
   "outputs": [],
   "source": [
    "not(True)"
   ]
  },
  {
   "cell_type": "code",
   "execution_count": null,
   "id": "2a5a9d32",
   "metadata": {},
   "outputs": [],
   "source": [
    "not(False)"
   ]
  },
  {
   "cell_type": "code",
   "execution_count": null,
   "id": "743244f2",
   "metadata": {},
   "outputs": [],
   "source": [
    "print(type(True))"
   ]
  },
  {
   "cell_type": "code",
   "execution_count": null,
   "id": "1c8d2175",
   "metadata": {},
   "outputs": [],
   "source": [
    "print(type(False))"
   ]
  },
  {
   "cell_type": "code",
   "execution_count": null,
   "id": "38ffb64a",
   "metadata": {},
   "outputs": [],
   "source": [
    "print(dir(int))"
   ]
  },
  {
   "cell_type": "code",
   "execution_count": null,
   "id": "ee20b25e",
   "metadata": {},
   "outputs": [],
   "source": [
    "print(dir(str))"
   ]
  },
  {
   "cell_type": "code",
   "execution_count": null,
   "id": "90de3219",
   "metadata": {},
   "outputs": [],
   "source": [
    "help(str.split)"
   ]
  },
  {
   "cell_type": "code",
   "execution_count": null,
   "id": "96ed044e",
   "metadata": {},
   "outputs": [],
   "source": [
    "print(dir(keyword))"
   ]
  },
  {
   "cell_type": "code",
   "execution_count": null,
   "id": "5ef71284",
   "metadata": {},
   "outputs": [],
   "source": [
    "dir('hello')"
   ]
  },
  {
   "cell_type": "code",
   "execution_count": null,
   "id": "aeb5ab07",
   "metadata": {},
   "outputs": [],
   "source": [
    "def calci(n0,n1):\n",
    "    s = n0 + n1\n",
    "    p = n0 * n1\n",
    "    \n",
    "    return s,p"
   ]
  },
  {
   "cell_type": "code",
   "execution_count": null,
   "id": "ac2b8753",
   "metadata": {},
   "outputs": [],
   "source": [
    "s1,p1 = calci(10,20)\n",
    "print(s1,p1)"
   ]
  },
  {
   "cell_type": "code",
   "execution_count": null,
   "id": "59693be3",
   "metadata": {},
   "outputs": [],
   "source": [
    "def mf1():\n",
    "    a = 20\n",
    "    return a\n",
    "\n",
    "a1 =mf1()\n",
    "print(a1)"
   ]
  },
  {
   "cell_type": "code",
   "execution_count": null,
   "id": "540a844e",
   "metadata": {},
   "outputs": [],
   "source": [
    "def mf1():\n",
    "    a = 20\n",
    "    print(a)\n",
    "    #return a\n",
    "\n",
    "a1 =mf1()\n",
    "print(a1)"
   ]
  },
  {
   "cell_type": "code",
   "execution_count": null,
   "id": "8e2c8fd1",
   "metadata": {},
   "outputs": [],
   "source": [
    "print(type(None))"
   ]
  },
  {
   "cell_type": "code",
   "execution_count": null,
   "id": "ebdf2984",
   "metadata": {},
   "outputs": [],
   "source": [
    "def tempcheck(temp1):\n",
    "    if temp1 > 99:\n",
    "        return 'Hot'\n",
    "    elif temp1 < 60:\n",
    "        return 'Cold'\n",
    "    else:\n",
    "        return 'Normal'"
   ]
  },
  {
   "cell_type": "code",
   "execution_count": null,
   "id": "70c881e4",
   "metadata": {},
   "outputs": [],
   "source": [
    "t1 = float(input('Enter temperature: '))\n",
    "feel = tempcheck(t1)\n",
    "print(t1, feel)"
   ]
  },
  {
   "cell_type": "code",
   "execution_count": null,
   "id": "ed6cf12d",
   "metadata": {},
   "outputs": [],
   "source": [
    "def isTrouble(talking, hour):\n",
    "    if talking and (hour >= 20 or hour <= 7):\n",
    "        return True\n",
    "    else:\n",
    "        return False"
   ]
  },
  {
   "cell_type": "code",
   "execution_count": null,
   "id": "aafb15cc",
   "metadata": {},
   "outputs": [],
   "source": [
    "print(isTrouble(True,19))\n",
    "print(isTrouble(True,20))\n",
    "print(isTrouble(True,21))\n",
    "print(isTrouble(True,6))\n",
    "print(isTrouble(True,7))\n",
    "print(isTrouble(True,8))\n",
    "\n",
    "\n",
    "print(isTrouble(False,21))\n",
    "print(isTrouble(False,6))\n"
   ]
  },
  {
   "cell_type": "markdown",
   "id": "7f6382b5",
   "metadata": {},
   "source": [
    "# Strings"
   ]
  },
  {
   "cell_type": "code",
   "execution_count": null,
   "id": "e6521b1c",
   "metadata": {},
   "outputs": [],
   "source": [
    "ms1 = 'Hello World'\n",
    "print(type(ms1))\n",
    "print(len(ms1))\n",
    "print(ms1)"
   ]
  },
  {
   "cell_type": "code",
   "execution_count": null,
   "id": "76c22fc5",
   "metadata": {},
   "outputs": [],
   "source": [
    "ms1[0]"
   ]
  },
  {
   "cell_type": "code",
   "execution_count": null,
   "id": "214fc679",
   "metadata": {},
   "outputs": [],
   "source": [
    "ms1[0] = 'J'"
   ]
  },
  {
   "cell_type": "code",
   "execution_count": null,
   "id": "31d28833",
   "metadata": {},
   "outputs": [],
   "source": [
    "ms2 = 'abcdefghijkl'\n",
    "print(ms2[:])\n",
    "print(ms2[::-1])\n",
    "print(ms2[::3])\n",
    "print(ms2[2:7:2])\n",
    "print(ms2[2:7:-1])\n",
    "print(ms2[7:2:-1])"
   ]
  },
  {
   "cell_type": "code",
   "execution_count": null,
   "id": "d1d44ac7",
   "metadata": {},
   "outputs": [],
   "source": [
    "'hello' * 'world'"
   ]
  },
  {
   "cell_type": "code",
   "execution_count": null,
   "id": "978926b6",
   "metadata": {},
   "outputs": [],
   "source": [
    "'hello' * 3"
   ]
  },
  {
   "cell_type": "code",
   "execution_count": null,
   "id": "576df455",
   "metadata": {},
   "outputs": [],
   "source": [
    "'good' in 'this is a good book'  #  in checks for presence,  not in checks for absense"
   ]
  },
  {
   "cell_type": "code",
   "execution_count": null,
   "id": "aa6d5f90",
   "metadata": {},
   "outputs": [],
   "source": [
    "'good' not in 'this is a good book'"
   ]
  },
  {
   "cell_type": "code",
   "execution_count": null,
   "id": "3b5e39e9",
   "metadata": {},
   "outputs": [],
   "source": [
    "'replace' in dir(str)"
   ]
  },
  {
   "cell_type": "code",
   "execution_count": null,
   "id": "4854f5e9",
   "metadata": {},
   "outputs": [],
   "source": [
    "print(dir(str))"
   ]
  },
  {
   "cell_type": "code",
   "execution_count": null,
   "id": "a2c14632",
   "metadata": {},
   "outputs": [],
   "source": [
    "ms1 = 'king ring SING'\n",
    "ns1 = ms1.replace('ng', 'ms')\n",
    "print(ns1)\n",
    "print(ms1)"
   ]
  },
  {
   "cell_type": "code",
   "execution_count": null,
   "id": "43b28beb",
   "metadata": {},
   "outputs": [],
   "source": [
    "ms1 = 'king ring SING'\n",
    "print(id(ms1))\n",
    "ms1 = ms1.replace('ng', 'ms')\n",
    "print(id(ms1))\n",
    "print(ms1)"
   ]
  },
  {
   "cell_type": "code",
   "execution_count": null,
   "id": "0794dec4",
   "metadata": {},
   "outputs": [],
   "source": [
    "ms1 = 'king ring SING'\n",
    "ms1.replace('g','*').replace('G','$')"
   ]
  },
  {
   "cell_type": "code",
   "execution_count": null,
   "id": "8cd70365",
   "metadata": {},
   "outputs": [],
   "source": [
    "ms1 = 'king ring SING'\n",
    "\n",
    "ms1.replace('ng', 'ms', 1)\n"
   ]
  },
  {
   "cell_type": "code",
   "execution_count": null,
   "id": "86d2f859",
   "metadata": {},
   "outputs": [],
   "source": [
    "ms1 = 'National Exchange'"
   ]
  },
  {
   "cell_type": "code",
   "execution_count": null,
   "id": "4003a871",
   "metadata": {},
   "outputs": [],
   "source": [
    "ms1.find('a')"
   ]
  },
  {
   "cell_type": "code",
   "execution_count": null,
   "id": "ecf7b253",
   "metadata": {},
   "outputs": [],
   "source": [
    "ms1.rfind('a')"
   ]
  },
  {
   "cell_type": "code",
   "execution_count": null,
   "id": "250bf43a",
   "metadata": {},
   "outputs": [],
   "source": [
    "ms1.find('a',3)"
   ]
  },
  {
   "cell_type": "code",
   "execution_count": null,
   "id": "a6c215b4",
   "metadata": {},
   "outputs": [],
   "source": [
    "ms1.find('a',3,5)"
   ]
  },
  {
   "cell_type": "code",
   "execution_count": null,
   "id": "0141bad1",
   "metadata": {},
   "outputs": [],
   "source": [
    "ms1[3:5]"
   ]
  },
  {
   "cell_type": "code",
   "execution_count": null,
   "id": "7d6c7029",
   "metadata": {},
   "outputs": [],
   "source": [
    "\"2023\".isdigit()"
   ]
  },
  {
   "cell_type": "code",
   "execution_count": null,
   "id": "6f289067",
   "metadata": {},
   "outputs": [],
   "source": [
    "'apr2024'.isdigit()"
   ]
  },
  {
   "cell_type": "code",
   "execution_count": null,
   "id": "79849282",
   "metadata": {},
   "outputs": [],
   "source": [
    "'apr2024'.isalpha()"
   ]
  },
  {
   "cell_type": "code",
   "execution_count": null,
   "id": "e54f9e98",
   "metadata": {},
   "outputs": [],
   "source": [
    "'apr2024'.isalnum()"
   ]
  },
  {
   "cell_type": "markdown",
   "id": "50c6bde8",
   "metadata": {},
   "source": [
    "String Split"
   ]
  },
  {
   "cell_type": "code",
   "execution_count": null,
   "id": "e3ae17ff",
   "metadata": {},
   "outputs": [],
   "source": [
    "ms1 = 'World Health Org'\n",
    "\n",
    "r = ms1.split()\n",
    "print(type(r))\n",
    "print(r)"
   ]
  },
  {
   "cell_type": "code",
   "execution_count": null,
   "id": "c60d8a48",
   "metadata": {},
   "outputs": [],
   "source": [
    "ms1 = 'World Health Org'\n",
    "\n",
    "r = ms1.split(maxsplit=1)\n",
    "print(type(r))\n",
    "print(r)"
   ]
  },
  {
   "cell_type": "code",
   "execution_count": null,
   "id": "575df971",
   "metadata": {},
   "outputs": [],
   "source": [
    "ms1 = 'World_Health_Org'\n",
    "\n",
    "r = ms1.split('_')\n",
    "print(type(r))\n",
    "print(r)"
   ]
  },
  {
   "cell_type": "code",
   "execution_count": null,
   "id": "fb4e69ad",
   "metadata": {},
   "outputs": [],
   "source": [
    "mlist1 = ['World', 'Health', 'Org']\n",
    "delimiter='::'\n",
    "\n",
    "newstring1 = delimiter.join(mlist1)\n",
    "newstring1"
   ]
  },
  {
   "cell_type": "code",
   "execution_count": null,
   "id": "d4d991d6",
   "metadata": {},
   "outputs": [],
   "source": [
    "mlist1 = ['World', 'Health', 'Org']\n",
    "'$$'.join(mlist1)"
   ]
  },
  {
   "cell_type": "code",
   "execution_count": null,
   "id": "425dc34b",
   "metadata": {},
   "outputs": [],
   "source": [
    "mlist1 = ['World', 'Health', 'Org']\n",
    "' '.join(mlist1)"
   ]
  },
  {
   "cell_type": "code",
   "execution_count": null,
   "id": "3f977ed7",
   "metadata": {},
   "outputs": [],
   "source": [
    "mlist1 = ['World', 'Health', 'Org']\n",
    "'_'.join(mlist1)"
   ]
  },
  {
   "cell_type": "code",
   "execution_count": null,
   "id": "e8df0e89",
   "metadata": {},
   "outputs": [],
   "source": [
    "mlist1 = ['World', 'Health', 'Org']\n",
    "''.join(mlist1)"
   ]
  },
  {
   "cell_type": "code",
   "execution_count": null,
   "id": "da3e0f74",
   "metadata": {},
   "outputs": [],
   "source": [
    "' '.join([1,2,3])"
   ]
  },
  {
   "cell_type": "markdown",
   "id": "4b9a532a",
   "metadata": {},
   "source": [
    "Formatted Print"
   ]
  },
  {
   "cell_type": "code",
   "execution_count": null,
   "id": "023516f5",
   "metadata": {},
   "outputs": [],
   "source": [
    "#  Average Math marks of 50 students is 98.76 in exam."
   ]
  },
  {
   "cell_type": "code",
   "execution_count": null,
   "id": "b7fbd738",
   "metadata": {},
   "outputs": [],
   "source": [
    "sub = 'Eng'\n",
    "num = 50\n",
    "avg = 98.76\n",
    "\n",
    "ns1 = \"Average {} marks of {} students is {} in exam\".format(sub, num,avg)\n",
    "print(ns1)"
   ]
  },
  {
   "cell_type": "code",
   "execution_count": null,
   "id": "a76dcce2",
   "metadata": {},
   "outputs": [],
   "source": [
    "# unconstrained formatting\n",
    "ns1 = \"Average {} marks of {} students is {} in exam\".format(num,sub,avg)\n",
    "print(ns1)"
   ]
  },
  {
   "cell_type": "code",
   "execution_count": null,
   "id": "b0c2cc01",
   "metadata": {},
   "outputs": [],
   "source": [
    "# datatype constraint\n",
    "ns1 = \"Average {:s} marks of {:d} students is {:f} in exam\".format(num,sub,avg)\n",
    "print(ns1)"
   ]
  },
  {
   "cell_type": "code",
   "execution_count": null,
   "id": "de0590cd",
   "metadata": {},
   "outputs": [],
   "source": [
    "# datatype constraint\n",
    "ns1 = \"Average {:s} marks of {:d} students is {:.1f} in exam\".format(sub, num,avg)\n",
    "print(ns1)"
   ]
  },
  {
   "cell_type": "code",
   "execution_count": null,
   "id": "58d194d2",
   "metadata": {},
   "outputs": [],
   "source": [
    "# datatype constraint plus replacement_index constraint\n",
    "ns1 = \"Average {1:s} marks of {0:d} students is {2:f} in exam\".format(num,sub,avg)\n",
    "print(ns1)"
   ]
  },
  {
   "cell_type": "code",
   "execution_count": null,
   "id": "7da657af",
   "metadata": {},
   "outputs": [],
   "source": [
    "help('FORMATTING')  #  format spec mini lang"
   ]
  },
  {
   "cell_type": "code",
   "execution_count": null,
   "id": "08ff5e55",
   "metadata": {},
   "outputs": [],
   "source": [
    "ns1 = 's{}e'.format('python')\n",
    "print(ns1)"
   ]
  },
  {
   "cell_type": "code",
   "execution_count": null,
   "id": "7db3ad44",
   "metadata": {},
   "outputs": [],
   "source": [
    "ns1 = 's{:10}e'.format('python')\n",
    "print(ns1)"
   ]
  },
  {
   "cell_type": "code",
   "execution_count": null,
   "id": "b6de7367",
   "metadata": {},
   "outputs": [],
   "source": [
    "ns1 = 's{:>10}e'.format('python')  # right align\n",
    "print(ns1)"
   ]
  },
  {
   "cell_type": "code",
   "execution_count": null,
   "id": "0676c370",
   "metadata": {},
   "outputs": [],
   "source": [
    "ns1 = 's{:<10}e'.format('python')  # left align\n",
    "print(ns1)"
   ]
  },
  {
   "cell_type": "code",
   "execution_count": null,
   "id": "1c8d59e3",
   "metadata": {},
   "outputs": [],
   "source": [
    "ns1 = 's{:^10}e'.format('python')  # centre align\n",
    "print(ns1)"
   ]
  },
  {
   "cell_type": "code",
   "execution_count": null,
   "id": "2c394fc3",
   "metadata": {},
   "outputs": [],
   "source": [
    "ns1 = 's{:*^10}e'.format('pythonpython') # padding, alignment, width_of_char\n",
    "print(ns1)"
   ]
  },
  {
   "cell_type": "code",
   "execution_count": null,
   "id": "06a3a096",
   "metadata": {},
   "outputs": [],
   "source": [
    "ns1 = 's{:*^10}e'.format('python') # Padding, Alignment, Width_of_char\n",
    "print(ns1)"
   ]
  },
  {
   "cell_type": "code",
   "execution_count": null,
   "id": "54ca32e2",
   "metadata": {},
   "outputs": [],
   "source": [
    "print('c:\\tiger')"
   ]
  },
  {
   "cell_type": "code",
   "execution_count": null,
   "id": "43e687ff",
   "metadata": {},
   "outputs": [],
   "source": [
    "print('c:\\\\tiger')"
   ]
  },
  {
   "cell_type": "code",
   "execution_count": null,
   "id": "c74840ab",
   "metadata": {},
   "outputs": [],
   "source": [
    "print(\"c:\\piger\")"
   ]
  },
  {
   "cell_type": "markdown",
   "id": "45714dd6",
   "metadata": {},
   "source": [
    "# Lists"
   ]
  },
  {
   "cell_type": "code",
   "execution_count": null,
   "id": "76807db5",
   "metadata": {},
   "outputs": [],
   "source": [
    "mylist1 = list('pythonworld')\n",
    "print(type(mylist1))\n",
    "print(len(mylist1))\n",
    "print(mylist1)"
   ]
  },
  {
   "cell_type": "code",
   "execution_count": null,
   "id": "1e1a109e",
   "metadata": {},
   "outputs": [],
   "source": [
    "mylist1 = [10,20,30,40,50]\n",
    "print(mylist1)\n",
    "print(id(mylist1))\n",
    "mylist1[0] = 999\n",
    "print(mylist1)\n",
    "print(id(mylist1))"
   ]
  },
  {
   "cell_type": "code",
   "execution_count": null,
   "id": "e4ddb2ea",
   "metadata": {},
   "outputs": [],
   "source": [
    "[1,2,3] + [4,5,6,'hello']"
   ]
  },
  {
   "cell_type": "code",
   "execution_count": null,
   "id": "73d7fc54",
   "metadata": {},
   "outputs": [],
   "source": [
    "[1,2,3] * 3"
   ]
  },
  {
   "cell_type": "code",
   "execution_count": null,
   "id": "c3d34302",
   "metadata": {},
   "outputs": [],
   "source": [
    "mylist1 = list('pythonworld')\n",
    "mylist1"
   ]
  },
  {
   "cell_type": "code",
   "execution_count": null,
   "id": "b5d6880c",
   "metadata": {},
   "outputs": [],
   "source": [
    "mylist1[::-2]"
   ]
  },
  {
   "cell_type": "code",
   "execution_count": null,
   "id": "0fadca10",
   "metadata": {},
   "outputs": [],
   "source": [
    "'d' in mylist1"
   ]
  },
  {
   "cell_type": "code",
   "execution_count": null,
   "id": "5786fbd0",
   "metadata": {},
   "outputs": [],
   "source": [
    "'dd' in mylist1"
   ]
  },
  {
   "cell_type": "code",
   "execution_count": null,
   "id": "e92745eb",
   "metadata": {},
   "outputs": [],
   "source": [
    "'dd' not in mylist1"
   ]
  },
  {
   "cell_type": "code",
   "execution_count": null,
   "id": "8eb9f112",
   "metadata": {},
   "outputs": [],
   "source": [
    "m34 = [\n",
    "    [0,1,2,3],\n",
    "    [4,5,6,7],\n",
    "    [8,9,10,11]\n",
    "]\n",
    "print(m34)"
   ]
  },
  {
   "cell_type": "code",
   "execution_count": null,
   "id": "68abf5b5",
   "metadata": {},
   "outputs": [],
   "source": [
    "print(dir(list))"
   ]
  },
  {
   "cell_type": "code",
   "execution_count": null,
   "id": "07ebe89f",
   "metadata": {},
   "outputs": [],
   "source": [
    "mylist1 = [2,4,6,8,10]\n",
    "print(mylist1)\n",
    "a = mylist1.append('hello')\n",
    "print(a)\n",
    "print(mylist1)"
   ]
  },
  {
   "cell_type": "code",
   "execution_count": null,
   "id": "ba3ee5f3",
   "metadata": {},
   "outputs": [],
   "source": [
    "mylist1 = [1,2,3]\n",
    "mylist2 =  [4,5,6]\n",
    "\n",
    "mylist1.append(mylist2)\n",
    "print(mylist1)"
   ]
  },
  {
   "cell_type": "code",
   "execution_count": null,
   "id": "2d12421e",
   "metadata": {},
   "outputs": [],
   "source": [
    "mylist1 = [1,2,3]\n",
    "mylist2 =  [4,5,6]\n",
    "\n",
    "mylist1.extend(mylist2)\n",
    "print(mylist1)"
   ]
  },
  {
   "cell_type": "code",
   "execution_count": null,
   "id": "e9509b66",
   "metadata": {},
   "outputs": [],
   "source": [
    "mylist1 = [1,2,3]\n",
    "mylist1.insert(0,'hello')\n",
    "print(mylist1)"
   ]
  },
  {
   "cell_type": "code",
   "execution_count": null,
   "id": "1926ec32",
   "metadata": {},
   "outputs": [],
   "source": [
    "mylist1 = [1,2,3]\n",
    "mylist1.insert(-1,'hello')\n",
    "print(mylist1)"
   ]
  },
  {
   "cell_type": "code",
   "execution_count": null,
   "id": "eae745f8",
   "metadata": {},
   "outputs": [],
   "source": [
    "mylist1 = [1,2,3]\n",
    "mylist1.insert(100,'hello')\n",
    "print(mylist1)"
   ]
  },
  {
   "cell_type": "code",
   "execution_count": null,
   "id": "094ac48c",
   "metadata": {},
   "outputs": [],
   "source": [
    "mylist1 = [1,2,3]\n",
    "mylist1.insert(len(mylist1),'hello')\n",
    "print(mylist1)"
   ]
  },
  {
   "cell_type": "code",
   "execution_count": null,
   "id": "c326b0eb",
   "metadata": {},
   "outputs": [],
   "source": [
    "mylist1 = list('dataanalysis')\n",
    "mylist1.remove('a')\n",
    "print(mylist1)"
   ]
  },
  {
   "cell_type": "code",
   "execution_count": null,
   "id": "fe1e3de0",
   "metadata": {},
   "outputs": [],
   "source": [
    "mylist1 = list('dataanalysis')\n",
    "\n",
    "while 'a' in mylist1:\n",
    "    mylist1.remove('a')\n",
    "    \n",
    "print(mylist1)"
   ]
  },
  {
   "cell_type": "code",
   "execution_count": null,
   "id": "1319cd63",
   "metadata": {},
   "outputs": [],
   "source": [
    "mylist1 = list('python')\n",
    "print(mylist1)\n",
    "mylist1.reverse()\n",
    "print(mylist1)"
   ]
  },
  {
   "cell_type": "code",
   "execution_count": null,
   "id": "341c5501",
   "metadata": {},
   "outputs": [],
   "source": [
    "mylist1 = list('python')\n",
    "print(mylist1)\n",
    "mylist1[::-1]"
   ]
  },
  {
   "cell_type": "code",
   "execution_count": null,
   "id": "d8dc405a",
   "metadata": {},
   "outputs": [],
   "source": [
    "mylist1 = list('dataanalysis')\n",
    "print(mylist1)\n",
    "i = mylist1.index('y')\n",
    "print(i)"
   ]
  },
  {
   "cell_type": "code",
   "execution_count": null,
   "id": "200a593e",
   "metadata": {},
   "outputs": [],
   "source": [
    "mylist1 = list('dataanalysis')\n",
    "print(mylist1)\n",
    "i = mylist1.index('z')\n",
    "print(i)"
   ]
  },
  {
   "cell_type": "code",
   "execution_count": null,
   "id": "40a9969f",
   "metadata": {},
   "outputs": [],
   "source": [
    "mylist1 = list('dataanalysis')\n",
    "print(mylist1)\n",
    "if 'z' in mylist1:\n",
    "    i = mylist1.index('z')\n",
    "    print(i)"
   ]
  },
  {
   "cell_type": "code",
   "execution_count": null,
   "id": "b93fa4e5",
   "metadata": {},
   "outputs": [],
   "source": [
    "mylist1 = list('dataanalysis')\n",
    "print(mylist1)\n",
    "try:\n",
    "    i = mylist1.index('z')\n",
    "except Exception as eobj:\n",
    "    print('some exception occurred')\n",
    "    print(eobj)\n",
    "    print(eobj.__class__)"
   ]
  },
  {
   "cell_type": "code",
   "execution_count": null,
   "id": "c93b9f8f",
   "metadata": {},
   "outputs": [],
   "source": [
    "'hello'.__class__"
   ]
  },
  {
   "cell_type": "code",
   "execution_count": null,
   "id": "150a1c4b",
   "metadata": {},
   "outputs": [],
   "source": [
    "a = 20\n",
    "raise ValueError('Hi, DSAI')\n",
    "print(a)"
   ]
  },
  {
   "cell_type": "code",
   "execution_count": null,
   "id": "276c2474",
   "metadata": {},
   "outputs": [],
   "source": [
    "mylist1 = list('dataanalysis')\n",
    "print(mylist1)\n",
    "mylist1.count('a')"
   ]
  },
  {
   "cell_type": "code",
   "execution_count": null,
   "id": "96d38b41",
   "metadata": {},
   "outputs": [],
   "source": [
    "mylist1 = [2,4,10,6,1,9]\n",
    "print(max(mylist1))\n",
    "print(min(mylist1))"
   ]
  },
  {
   "cell_type": "code",
   "execution_count": null,
   "id": "269ffa3a",
   "metadata": {},
   "outputs": [],
   "source": [
    "mylist1 = list('python')\n",
    "print(mylist1)\n",
    "print(max(mylist1))\n",
    "print(min(mylist1))"
   ]
  },
  {
   "cell_type": "code",
   "execution_count": null,
   "id": "a83df393",
   "metadata": {},
   "outputs": [],
   "source": [
    "ord('y')"
   ]
  },
  {
   "cell_type": "code",
   "execution_count": null,
   "id": "029a02c4",
   "metadata": {},
   "outputs": [],
   "source": [
    "ord('h')"
   ]
  },
  {
   "cell_type": "code",
   "execution_count": null,
   "id": "e4979484",
   "metadata": {},
   "outputs": [],
   "source": [
    "chr(65)"
   ]
  },
  {
   "cell_type": "code",
   "execution_count": null,
   "id": "68e37762",
   "metadata": {},
   "outputs": [],
   "source": [
    "ord('A')"
   ]
  },
  {
   "cell_type": "code",
   "execution_count": null,
   "id": "1a36b9d6",
   "metadata": {},
   "outputs": [],
   "source": [
    "'\\u20B9'"
   ]
  },
  {
   "cell_type": "code",
   "execution_count": null,
   "id": "43f85b8b",
   "metadata": {},
   "outputs": [],
   "source": [
    "mylist1 = [2,4,10,6,1,9]\n",
    "sum(mylist1)/len(mylist1)"
   ]
  },
  {
   "cell_type": "code",
   "execution_count": null,
   "id": "f7dfabc9",
   "metadata": {},
   "outputs": [],
   "source": [
    "print(dir(__builtins__))"
   ]
  },
  {
   "cell_type": "markdown",
   "id": "ade3757f",
   "metadata": {},
   "source": [
    "SORT"
   ]
  },
  {
   "cell_type": "code",
   "execution_count": null,
   "id": "903efa21",
   "metadata": {},
   "outputs": [],
   "source": [
    "mylist1 = [20,10,'Hello', [22,33,44,55], 'Pythonworld', 2, 6]\n",
    "print(mylist1)\n",
    "mylist1.sort()"
   ]
  },
  {
   "cell_type": "code",
   "execution_count": null,
   "id": "e850b7cc",
   "metadata": {},
   "outputs": [],
   "source": [
    "20 > 30.45"
   ]
  },
  {
   "cell_type": "code",
   "execution_count": null,
   "id": "d6ac0936",
   "metadata": {},
   "outputs": [],
   "source": [
    "20 > 'a'"
   ]
  },
  {
   "cell_type": "code",
   "execution_count": null,
   "id": "e14860cf",
   "metadata": {},
   "outputs": [],
   "source": [
    "mylist1 = [20,10, 2, 6]\n",
    "print(mylist1)\n",
    "mylist1.sort(reverse=True)\n",
    "print(mylist1)"
   ]
  },
  {
   "cell_type": "code",
   "execution_count": null,
   "id": "8cba2ef9",
   "metadata": {},
   "outputs": [],
   "source": [
    "mylist1 = list('python')\n",
    "print(mylist1)\n",
    "mylist1.sort(reverse=True)\n",
    "print(mylist1)"
   ]
  },
  {
   "cell_type": "code",
   "execution_count": null,
   "id": "8947341d",
   "metadata": {},
   "outputs": [],
   "source": [
    "def sort_logic(obj):\n",
    "    if isinstance(obj, int):\n",
    "        return obj\n",
    "    elif isinstance(obj, str):\n",
    "        return len(obj)\n",
    "    \n",
    "    return 0"
   ]
  },
  {
   "cell_type": "code",
   "execution_count": null,
   "id": "771148f0",
   "metadata": {},
   "outputs": [],
   "source": [
    "mylist1 = [20,10,'Hello', [22,33,44,55], 'Pythonworld', 2, 6]\n",
    "print(mylist1)\n",
    "mylist1.sort(key=sort_logic)\n",
    "print(mylist1)"
   ]
  },
  {
   "cell_type": "code",
   "execution_count": null,
   "id": "8319f3eb",
   "metadata": {},
   "outputs": [],
   "source": [
    "mylist1 = [10,20,30,40]\n",
    "mylist2 = [10,20,30,40]\n",
    "print(mylist1)\n",
    "print(mylist2)\n",
    "print(id(mylist1))\n",
    "print(id(mylist2))\n",
    "\n",
    "mylist1[0] = 999\n",
    "print()\n",
    "\n",
    "print(mylist1)\n",
    "print(mylist2)"
   ]
  },
  {
   "cell_type": "code",
   "execution_count": null,
   "id": "0b3385ab",
   "metadata": {},
   "outputs": [],
   "source": [
    "mylist1 == mylist2"
   ]
  },
  {
   "cell_type": "code",
   "execution_count": null,
   "id": "07396582",
   "metadata": {},
   "outputs": [],
   "source": [
    "mylist1 is mylist2"
   ]
  },
  {
   "cell_type": "code",
   "execution_count": null,
   "id": "1f751ba5",
   "metadata": {},
   "outputs": [],
   "source": [
    "mylist1 = [10,20,30,40]\n",
    "mylist2 = mylist1\n",
    "print(mylist1)\n",
    "print(mylist2)\n",
    "print(id(mylist1))\n",
    "print(id(mylist2))\n",
    "\n",
    "mylist1[0] = 999\n",
    "print()\n",
    "\n",
    "print(mylist1)\n",
    "print(mylist2)"
   ]
  },
  {
   "cell_type": "code",
   "execution_count": null,
   "id": "cfb72643",
   "metadata": {},
   "outputs": [],
   "source": [
    "mylist1 = [10,20,30,40]\n",
    "mylist2 = mylist1.copy()\n",
    "print(mylist1)\n",
    "print(mylist2)\n",
    "print(id(mylist1))\n",
    "print(id(mylist2))\n",
    "\n",
    "mylist1[0] = 999\n",
    "print()\n",
    "\n",
    "print(mylist1)\n",
    "print(mylist2)"
   ]
  },
  {
   "cell_type": "code",
   "execution_count": null,
   "id": "2c09839d",
   "metadata": {},
   "outputs": [],
   "source": [
    "mylist1 = [10,20,30,40, [666,777,888,999]]\n",
    "mylist2 = mylist1.copy()\n",
    "print(mylist1)\n",
    "print(mylist2)\n",
    "print(id(mylist1))\n",
    "print(id(mylist2))\n",
    "\n",
    "mylist1[0] = 234567\n",
    "mylist1[-1][-1] = 2345\n",
    "print()\n",
    "\n",
    "print(mylist1)\n",
    "print(mylist2)"
   ]
  },
  {
   "cell_type": "code",
   "execution_count": null,
   "id": "973eb2aa",
   "metadata": {},
   "outputs": [],
   "source": [
    "import copy"
   ]
  },
  {
   "cell_type": "code",
   "execution_count": null,
   "id": "fa10aaba",
   "metadata": {},
   "outputs": [],
   "source": [
    "mylist1 = [10,20,30,40, [666,777,888,999]]\n",
    "mylist2 = copy.deepcopy(mylist1)\n",
    "print(mylist1)\n",
    "print(mylist2)\n",
    "print(id(mylist1))\n",
    "print(id(mylist2))\n",
    "\n",
    "mylist1[0] = 234567\n",
    "mylist1[-1][-1] = 2345\n",
    "print()\n",
    "\n",
    "print(mylist1)\n",
    "print(mylist2)"
   ]
  },
  {
   "cell_type": "code",
   "execution_count": null,
   "id": "1284ca81",
   "metadata": {},
   "outputs": [],
   "source": []
  },
  {
   "cell_type": "markdown",
   "id": "083184a4",
   "metadata": {},
   "source": [
    "# Tuple"
   ]
  },
  {
   "cell_type": "code",
   "execution_count": null,
   "id": "8feb8c98",
   "metadata": {},
   "outputs": [],
   "source": [
    "mt1 = (11,22,33,44,55)\n",
    "print(len(mt1))\n",
    "print(type(mt1))\n",
    "mt1"
   ]
  },
  {
   "cell_type": "code",
   "execution_count": null,
   "id": "b724ccb9",
   "metadata": {},
   "outputs": [],
   "source": [
    "mt1[0]"
   ]
  },
  {
   "cell_type": "code",
   "execution_count": null,
   "id": "5537e1e5",
   "metadata": {},
   "outputs": [],
   "source": [
    "mt1[0] = 999"
   ]
  },
  {
   "cell_type": "code",
   "execution_count": null,
   "id": "f97ac256",
   "metadata": {},
   "outputs": [],
   "source": [
    "mt1 = (100,)\n",
    "print(type(mt1))\n",
    "print(mt1)"
   ]
  },
  {
   "cell_type": "code",
   "execution_count": null,
   "id": "0ef18cb7",
   "metadata": {},
   "outputs": [],
   "source": [
    "print(dir(tuple))"
   ]
  },
  {
   "cell_type": "code",
   "execution_count": null,
   "id": "26c82eb8",
   "metadata": {},
   "outputs": [],
   "source": [
    "mt1 = tuple('dataanalysis')"
   ]
  },
  {
   "cell_type": "code",
   "execution_count": null,
   "id": "661eb1ad",
   "metadata": {},
   "outputs": [],
   "source": [
    "mt1.index('a')"
   ]
  },
  {
   "cell_type": "code",
   "execution_count": null,
   "id": "25cbc9c5",
   "metadata": {},
   "outputs": [],
   "source": [
    "mt1.count('a')"
   ]
  },
  {
   "cell_type": "code",
   "execution_count": null,
   "id": "d71663de",
   "metadata": {},
   "outputs": [],
   "source": [
    "mt1 = (111,222,333,444,555)\n",
    "print(mt1)\n",
    "print(id(mt1))\n",
    "templist = list(mt1)\n",
    "templist.append(666)\n",
    "templist.append(777)\n",
    "\n",
    "mt1 = tuple(templist)\n",
    "print(mt1)\n",
    "print(id(mt1))"
   ]
  },
  {
   "cell_type": "markdown",
   "id": "52058ff1",
   "metadata": {},
   "source": [
    "# Dictionary"
   ]
  },
  {
   "cell_type": "code",
   "execution_count": null,
   "id": "e408699b",
   "metadata": {},
   "outputs": [],
   "source": [
    "md1 = {'Bank':'SBI', 'Branch':'MGROAD', 91:'India'}\n",
    "print(type(md1))\n",
    "print(len(md1))\n",
    "md1"
   ]
  },
  {
   "cell_type": "code",
   "execution_count": null,
   "id": "b975572a",
   "metadata": {},
   "outputs": [],
   "source": [
    "md1[0] # error"
   ]
  },
  {
   "cell_type": "code",
   "execution_count": null,
   "id": "a34f9e47",
   "metadata": {},
   "outputs": [],
   "source": [
    "md1[91]"
   ]
  },
  {
   "cell_type": "code",
   "execution_count": null,
   "id": "e37e61da",
   "metadata": {},
   "outputs": [],
   "source": [
    "md1['Bank']"
   ]
  },
  {
   "cell_type": "code",
   "execution_count": null,
   "id": "c63c91a6",
   "metadata": {},
   "outputs": [],
   "source": [
    "md1['Bank'] = 'Axis'"
   ]
  },
  {
   "cell_type": "code",
   "execution_count": null,
   "id": "4c7a57a8",
   "metadata": {},
   "outputs": [],
   "source": [
    "md1['City'] = 'Blr'"
   ]
  },
  {
   "cell_type": "code",
   "execution_count": null,
   "id": "9a84ebf7",
   "metadata": {},
   "outputs": [],
   "source": [
    "del md1['Branch']"
   ]
  },
  {
   "cell_type": "code",
   "execution_count": null,
   "id": "09b52e6f",
   "metadata": {},
   "outputs": [],
   "source": [
    "md1 = {'Bank':'SBI', 'Branch':'Delhi', 'Bank':'Axis', 'City':'Delhi'}\n",
    "print(md1)"
   ]
  },
  {
   "cell_type": "code",
   "execution_count": null,
   "id": "bdb3a463",
   "metadata": {},
   "outputs": [],
   "source": [
    "md1 = {'Bank':'SBI', 'Branch':'Delhi', [110011, 110022]:'Delhi'}\n",
    "md1"
   ]
  },
  {
   "cell_type": "code",
   "execution_count": null,
   "id": "d2612e9c",
   "metadata": {},
   "outputs": [],
   "source": [
    "md1 = {'Bank':'SBI', 'Branch':'Delhi', (110011, 110011):'Delhi'}\n",
    "md1"
   ]
  },
  {
   "cell_type": "code",
   "execution_count": null,
   "id": "971c9be7",
   "metadata": {},
   "outputs": [],
   "source": [
    "md1 = {'Bank':'SBI', 'Branch':'Delhi', ([110011, 110022]):'Delhi'}\n",
    "md1"
   ]
  },
  {
   "cell_type": "code",
   "execution_count": null,
   "id": "17cbad50",
   "metadata": {},
   "outputs": [],
   "source": [
    "hash(91)"
   ]
  },
  {
   "cell_type": "code",
   "execution_count": null,
   "id": "a62d6761",
   "metadata": {},
   "outputs": [],
   "source": [
    "hash('hello')"
   ]
  },
  {
   "cell_type": "code",
   "execution_count": null,
   "id": "8baab80d",
   "metadata": {},
   "outputs": [],
   "source": [
    "print(dir(dict))"
   ]
  },
  {
   "cell_type": "code",
   "execution_count": null,
   "id": "65095363",
   "metadata": {},
   "outputs": [],
   "source": [
    "md1 = {'Bank':'SBI', 'Branch':'MGROAD', 'City':'Delhi'}\n",
    "k = md1.keys()\n",
    "print(type(k))\n",
    "print(k)  ##   list-like"
   ]
  },
  {
   "cell_type": "code",
   "execution_count": null,
   "id": "480506cd",
   "metadata": {},
   "outputs": [],
   "source": [
    "k[0]"
   ]
  },
  {
   "cell_type": "code",
   "execution_count": null,
   "id": "9f509be4",
   "metadata": {},
   "outputs": [],
   "source": [
    "list(k)"
   ]
  },
  {
   "cell_type": "code",
   "execution_count": null,
   "id": "b5926852",
   "metadata": {},
   "outputs": [],
   "source": [
    "for item in k:\n",
    "    print(item)"
   ]
  },
  {
   "cell_type": "code",
   "execution_count": null,
   "id": "a384221a",
   "metadata": {},
   "outputs": [],
   "source": [
    "md1 = {'Bank':'SBI', 'Branch':'MGROAD', 'City':'Delhi'}\n",
    "print(list(md1.keys()))"
   ]
  },
  {
   "cell_type": "code",
   "execution_count": null,
   "id": "8469cc7b",
   "metadata": {},
   "outputs": [],
   "source": [
    "md1 = {'Bank':'SBI', 'Branch':'MGROAD', 'City':'Delhi'}\n",
    "print(list(md1.values()))"
   ]
  },
  {
   "cell_type": "code",
   "execution_count": null,
   "id": "037da2c8",
   "metadata": {},
   "outputs": [],
   "source": [
    "md1 = {'Bank':'SBI', 'Branch':'MGROAD', 'City':'Delhi'}\n",
    "print(list(md1.items()))"
   ]
  },
  {
   "cell_type": "code",
   "execution_count": null,
   "id": "2ba0f002",
   "metadata": {},
   "outputs": [],
   "source": [
    "md1 = {'Bank':'SBI', 'Branch':'MGROAD', 'City':'Delhi'}\n",
    "r = md1.get('Branch')\n",
    "print(r)"
   ]
  },
  {
   "cell_type": "code",
   "execution_count": null,
   "id": "ddf7c60c",
   "metadata": {},
   "outputs": [],
   "source": [
    "md1 = {'Bank':'SBI', 'Branch':'MGROAD', 'City':'Delhi'}\n",
    "r = md1.get('State')\n",
    "print(r)"
   ]
  },
  {
   "cell_type": "code",
   "execution_count": null,
   "id": "3314f0b9",
   "metadata": {},
   "outputs": [],
   "source": [
    "md1 = {'Bank':'SBI', 'Branch':'MGROAD', 'City':'Delhi'}\n",
    "r = md1.get('State', 'Unknown')\n",
    "print(r)"
   ]
  },
  {
   "cell_type": "code",
   "execution_count": null,
   "id": "79a96252",
   "metadata": {},
   "outputs": [],
   "source": [
    "md1 = {'Bank':'SBI', 'Branch':'MGROAD', 'City':'Delhi'}\n",
    "r = md1.get('Branch', 'Unknown')\n",
    "print(r)"
   ]
  },
  {
   "cell_type": "code",
   "execution_count": null,
   "id": "a9850605",
   "metadata": {},
   "outputs": [],
   "source": [
    "md1 = {'Bank':'SBI', 'Branch':'MGROAD', 'City':'Delhi'}\n",
    "p = md1.pop()\n",
    "print(p)\n",
    "print(md1)"
   ]
  },
  {
   "cell_type": "code",
   "execution_count": null,
   "id": "122100a2",
   "metadata": {},
   "outputs": [],
   "source": [
    "md1 = {'Bank':'SBI', 'Branch':'MGROAD', 'City':'Delhi'}\n",
    "print(md1)\n",
    "p = md1.pop('Branch')\n",
    "print(p)\n",
    "print(md1)"
   ]
  },
  {
   "cell_type": "code",
   "execution_count": null,
   "id": "15e1f4e4",
   "metadata": {},
   "outputs": [],
   "source": [
    "md1 = {'Bank':'SBI', 'Branch':'MGROAD', 'City':'Delhi'}\n",
    "print(md1)\n",
    "p = md1.pop('State')\n",
    "print(p)\n",
    "print(md1)"
   ]
  },
  {
   "cell_type": "code",
   "execution_count": null,
   "id": "2ce9f3ec",
   "metadata": {},
   "outputs": [],
   "source": [
    "md1 = {'Bank':'SBI', 'Branch':'MGROAD', 'City':'Delhi'}\n",
    "print(md1)\n",
    "p = md1.pop('State', 'Key_Not_Existing')\n",
    "print(p)\n",
    "print(md1)"
   ]
  },
  {
   "cell_type": "code",
   "execution_count": null,
   "id": "940ee0ac",
   "metadata": {},
   "outputs": [],
   "source": [
    "md1 = {'Bank':'SBI', 'Branch':'MGROAD', 'City':'Delhi'}\n",
    "print(md1)\n",
    "\n",
    "d = md1.setdefault('State')\n",
    "\n",
    "print(d)\n",
    "print(md1)"
   ]
  },
  {
   "cell_type": "code",
   "execution_count": null,
   "id": "3c3d7896",
   "metadata": {},
   "outputs": [],
   "source": [
    "md1 = {'Bank':'SBI', 'Branch':'MGROAD', 'City':'Delhi'}\n",
    "print(md1)\n",
    "\n",
    "d = md1.setdefault('State', 'Delhi')\n",
    "\n",
    "print(d)\n",
    "print(md1)"
   ]
  },
  {
   "cell_type": "code",
   "execution_count": null,
   "id": "9cb189c8",
   "metadata": {},
   "outputs": [],
   "source": [
    "md1 = {'Bank':'SBI', 'Branch':'MGROAD', 'City':'Delhi'}\n",
    "print(md1)\n",
    "\n",
    "d = md1.setdefault('Branch', 'Delhi')\n",
    "\n",
    "print(d)\n",
    "print(md1)"
   ]
  },
  {
   "cell_type": "code",
   "execution_count": null,
   "id": "2cf853f8",
   "metadata": {},
   "outputs": [],
   "source": [
    "md1 = {'Bank':'SBI', 'Branch':'MGROAD', 'City':'Delhi'}\n",
    "print(md1)\n",
    "\n",
    "md2 = {'Bank':'Axis', 'State':'Delhi'}\n",
    "print(md2)\n",
    "\n",
    "md1.update(md2)\n",
    "\n",
    "print(md1)"
   ]
  },
  {
   "cell_type": "code",
   "execution_count": null,
   "id": "18074193",
   "metadata": {},
   "outputs": [],
   "source": [
    "klist = ['Bank','Branch','City', 'State']\n",
    "vlist = ['Axis','MGROAD', 'Blr']\n",
    "\n",
    "z = zip(klist, vlist) # zip o/p is ITERATOR. one time readable\n",
    "print(type(z))\n",
    "print(z)\n",
    "print(list(z))\n",
    "print(list(z))"
   ]
  },
  {
   "cell_type": "code",
   "execution_count": null,
   "id": "90f528c5",
   "metadata": {},
   "outputs": [],
   "source": [
    "klist = ['Bank','Branch','City', 'State']\n",
    "vlist = ['Axis','MGROAD', 'Blr']\n",
    "\n",
    "z = zip(klist, vlist) # zip o/p is ITERATOR. one time readable\n",
    "print(type(z))\n",
    "print(z)\n",
    "kvlist = list(z)\n",
    "print(kvlist)\n",
    "\n",
    "md2 = dict(kvlist)\n",
    "md2"
   ]
  },
  {
   "cell_type": "code",
   "execution_count": null,
   "id": "21e0af38",
   "metadata": {},
   "outputs": [],
   "source": [
    "klist = ['Bank','Branch','City', 'State']\n",
    "vlist = ['Axis','MGROAD', 'Blr']\n",
    "md3 = dict(zip(klist,vlist))\n",
    "md3"
   ]
  },
  {
   "cell_type": "markdown",
   "id": "0182b1a8",
   "metadata": {},
   "source": [
    "# SET"
   ]
  },
  {
   "cell_type": "code",
   "execution_count": null,
   "id": "4e6f303f",
   "metadata": {},
   "outputs": [],
   "source": [
    "ms1 = {}\n",
    "print(type(ms1)) # this is a dict"
   ]
  },
  {
   "cell_type": "code",
   "execution_count": null,
   "id": "600c72e4",
   "metadata": {},
   "outputs": [],
   "source": [
    "ms1 = set()  # create an empty set\n",
    "print(type(ms1))\n",
    "ms1"
   ]
  },
  {
   "cell_type": "code",
   "execution_count": null,
   "id": "02aa44d4",
   "metadata": {},
   "outputs": [],
   "source": [
    "ms1[0] = 'hello'"
   ]
  },
  {
   "cell_type": "code",
   "execution_count": null,
   "id": "e3719ab3",
   "metadata": {},
   "outputs": [],
   "source": [
    "ms1.add(20)\n",
    "ms1.add(21)\n",
    "ms1.add('hello')"
   ]
  },
  {
   "cell_type": "code",
   "execution_count": null,
   "id": "44fed03a",
   "metadata": {},
   "outputs": [],
   "source": [
    "ms1"
   ]
  },
  {
   "cell_type": "code",
   "execution_count": null,
   "id": "73449349",
   "metadata": {},
   "outputs": [],
   "source": [
    "ms1.pop()"
   ]
  },
  {
   "cell_type": "code",
   "execution_count": null,
   "id": "140691d1",
   "metadata": {},
   "outputs": [],
   "source": [
    "ms1 = set('pythondatascience')\n",
    "ms1"
   ]
  },
  {
   "cell_type": "code",
   "execution_count": null,
   "id": "4d78c586",
   "metadata": {},
   "outputs": [],
   "source": [
    "ms1 = {2,4,6,8,10,12}\n",
    "ms2 = {1,3,5,7,9,11,4,6}"
   ]
  },
  {
   "cell_type": "code",
   "execution_count": null,
   "id": "e34c0882",
   "metadata": {},
   "outputs": [],
   "source": [
    "ms1.union(ms2)"
   ]
  },
  {
   "cell_type": "code",
   "execution_count": null,
   "id": "910e6528",
   "metadata": {},
   "outputs": [],
   "source": [
    "ms1.intersection(ms2)"
   ]
  },
  {
   "cell_type": "code",
   "execution_count": null,
   "id": "7b35afb0",
   "metadata": {},
   "outputs": [],
   "source": [
    "ms1-ms2"
   ]
  },
  {
   "cell_type": "code",
   "execution_count": null,
   "id": "aef4d9ae",
   "metadata": {},
   "outputs": [],
   "source": [
    "ms1.symmetric_difference(ms2)"
   ]
  },
  {
   "cell_type": "markdown",
   "id": "b715e09a",
   "metadata": {},
   "source": [
    "# Decision Making"
   ]
  },
  {
   "cell_type": "code",
   "execution_count": null,
   "id": "059b4518",
   "metadata": {},
   "outputs": [],
   "source": [
    "age = 6\n",
    "\n",
    "if age >= 18:\n",
    "    result = 'Valid_Voter'\n",
    "else:\n",
    "    result = 'Invalid_Voter'\n",
    "    \n",
    "print(age,result)"
   ]
  },
  {
   "cell_type": "code",
   "execution_count": null,
   "id": "d9aa8992",
   "metadata": {},
   "outputs": [],
   "source": [
    "age = 6\n",
    "\n",
    "result1 = 'Valid_Voter' if age >= 18 else 'Invalid_Voter'\n",
    "\n",
    "print(age,result1)"
   ]
  },
  {
   "cell_type": "code",
   "execution_count": null,
   "id": "533e9edf",
   "metadata": {},
   "outputs": [],
   "source": [
    "temp = 999\n",
    "\n",
    "if temp >= 99:\n",
    "    result = 'Hot'\n",
    "else:\n",
    "    if temp <= 60:\n",
    "        result = 'Cold'\n",
    "    else:\n",
    "        result = 'Normal'\n",
    "        \n",
    "print(temp, result)"
   ]
  },
  {
   "cell_type": "code",
   "execution_count": null,
   "id": "3e5295bf",
   "metadata": {},
   "outputs": [],
   "source": [
    "temp = 999\n",
    "\n",
    "result = 'Hot' if temp>=99 else 'Cold' if temp<=60 else 'Normal'"
   ]
  },
  {
   "cell_type": "code",
   "execution_count": null,
   "id": "bab7891f",
   "metadata": {},
   "outputs": [],
   "source": [
    "age = 8\n",
    "\n",
    "result ='SSC' if age>=80 else 'SC' if age>=60 else 'Norm' if age>=18 else 'Minor'\n",
    "print(age,result)"
   ]
  },
  {
   "cell_type": "markdown",
   "id": "2595313f",
   "metadata": {},
   "source": [
    "Range"
   ]
  },
  {
   "cell_type": "code",
   "execution_count": null,
   "id": "e6051825",
   "metadata": {},
   "outputs": [],
   "source": [
    "r = range(10)\n",
    "print(type(r))\n",
    "print(r)\n",
    "print(list(r))"
   ]
  },
  {
   "cell_type": "code",
   "execution_count": null,
   "id": "2883f5e3",
   "metadata": {},
   "outputs": [],
   "source": [
    "r = range(10,20)\n",
    "print(list(r))"
   ]
  },
  {
   "cell_type": "code",
   "execution_count": null,
   "id": "0602774c",
   "metadata": {},
   "outputs": [],
   "source": [
    "r = range(10,20,2)\n",
    "print(list(r))"
   ]
  },
  {
   "cell_type": "code",
   "execution_count": null,
   "id": "2925d0b8",
   "metadata": {},
   "outputs": [],
   "source": [
    "import sys\n",
    "\n",
    "r = range(100000)\n",
    "print(sys.getsizeof(r))\n",
    "mylist1 = list(r)\n",
    "print(sys.getsizeof(mylist1))\n",
    "#print(mylist1)"
   ]
  },
  {
   "cell_type": "code",
   "execution_count": null,
   "id": "b2e1fa17",
   "metadata": {},
   "outputs": [],
   "source": [
    "r = range(100000)"
   ]
  },
  {
   "cell_type": "code",
   "execution_count": null,
   "id": "173a4ac5",
   "metadata": {},
   "outputs": [],
   "source": [
    "r[0]"
   ]
  },
  {
   "cell_type": "code",
   "execution_count": null,
   "id": "5c700ee4",
   "metadata": {},
   "outputs": [],
   "source": [
    "r[-1]"
   ]
  },
  {
   "cell_type": "code",
   "execution_count": null,
   "id": "6789a7a5",
   "metadata": {},
   "outputs": [],
   "source": [
    "r[99999]"
   ]
  },
  {
   "cell_type": "code",
   "execution_count": null,
   "id": "d0310f81",
   "metadata": {},
   "outputs": [],
   "source": [
    "r[9999999]"
   ]
  },
  {
   "cell_type": "code",
   "execution_count": null,
   "id": "51b228a1",
   "metadata": {},
   "outputs": [],
   "source": [
    "mylist1[9999999]"
   ]
  },
  {
   "cell_type": "markdown",
   "id": "2a61c441",
   "metadata": {},
   "source": [
    "# 28/Apr/2023"
   ]
  },
  {
   "cell_type": "markdown",
   "id": "cb49fd37",
   "metadata": {},
   "source": [
    "# Loops"
   ]
  },
  {
   "cell_type": "code",
   "execution_count": null,
   "id": "24609383",
   "metadata": {},
   "outputs": [],
   "source": [
    "lcount = 10\n",
    "\n",
    "while lcount <= 20:\n",
    "    print(lcount, end=' ')\n",
    "    lcount = lcount + 1\n",
    "    \n",
    "print('Done')\n",
    "print('Done1')"
   ]
  },
  {
   "cell_type": "code",
   "execution_count": null,
   "id": "c14b1994",
   "metadata": {},
   "outputs": [],
   "source": [
    "print(10,20,30,40, sep='::')"
   ]
  },
  {
   "cell_type": "code",
   "execution_count": null,
   "id": "82af3b20",
   "metadata": {},
   "outputs": [],
   "source": [
    "for letter in \"python\":\n",
    "    print(letter)"
   ]
  },
  {
   "cell_type": "code",
   "execution_count": null,
   "id": "7fad3c6d",
   "metadata": {},
   "outputs": [],
   "source": [
    "print(dir(__builtins__))"
   ]
  },
  {
   "cell_type": "code",
   "execution_count": null,
   "id": "3e1a39f9",
   "metadata": {},
   "outputs": [],
   "source": [
    "for item in [11,22,33]:\n",
    "    print(item)"
   ]
  },
  {
   "cell_type": "code",
   "execution_count": null,
   "id": "8fab94c5",
   "metadata": {},
   "outputs": [],
   "source": [
    "for item in [11,22,33]:\n",
    "    print(item, end=' ')"
   ]
  },
  {
   "cell_type": "code",
   "execution_count": null,
   "id": "efeafc12",
   "metadata": {},
   "outputs": [],
   "source": [
    "print(10,20,30,40, sep=':', end=' ')\n",
    "print(11,22,33,44)"
   ]
  },
  {
   "cell_type": "code",
   "execution_count": null,
   "id": "7ecc316b",
   "metadata": {},
   "outputs": [],
   "source": [
    "for item in (11,22,33,'Hello'):\n",
    "    print(item)"
   ]
  },
  {
   "cell_type": "code",
   "execution_count": null,
   "id": "5140e431",
   "metadata": {},
   "outputs": [],
   "source": [
    "for num in range(10,20,2):\n",
    "    print(num, end=' ')"
   ]
  },
  {
   "cell_type": "code",
   "execution_count": null,
   "id": "40afc56b",
   "metadata": {},
   "outputs": [],
   "source": [
    "print(10,20,30,40, sep=':::')"
   ]
  },
  {
   "cell_type": "markdown",
   "id": "ab1aa490",
   "metadata": {},
   "source": [
    "dict looping"
   ]
  },
  {
   "cell_type": "code",
   "execution_count": null,
   "id": "6fc164a2",
   "metadata": {},
   "outputs": [],
   "source": [
    "md1 = {'Bank':'SBI', 'Branch':'MGROAD', 'City':'Delhi'}"
   ]
  },
  {
   "cell_type": "code",
   "execution_count": null,
   "id": "bdaffef5",
   "metadata": {},
   "outputs": [],
   "source": [
    "for k in md1.keys():\n",
    "    print(k)"
   ]
  },
  {
   "cell_type": "code",
   "execution_count": null,
   "id": "01c2e332",
   "metadata": {},
   "outputs": [],
   "source": [
    "for v in md1.values():\n",
    "    print(v)"
   ]
  },
  {
   "cell_type": "code",
   "execution_count": null,
   "id": "278cec6d",
   "metadata": {},
   "outputs": [],
   "source": [
    "for k in md1:\n",
    "    print(k)"
   ]
  },
  {
   "cell_type": "code",
   "execution_count": null,
   "id": "27081635",
   "metadata": {},
   "outputs": [],
   "source": [
    "for kv in md1.items():\n",
    "    print(kv)"
   ]
  },
  {
   "cell_type": "code",
   "execution_count": null,
   "id": "c60afaa8",
   "metadata": {},
   "outputs": [],
   "source": [
    "for k,v in md1.items():  # on the fly unpacking of a tuple into 2 individual objs\n",
    "    print(k,v)"
   ]
  },
  {
   "cell_type": "code",
   "execution_count": null,
   "id": "3b7d6ee0",
   "metadata": {},
   "outputs": [],
   "source": [
    "a,b = 10,20\n",
    "print(a)\n",
    "print(b)"
   ]
  },
  {
   "cell_type": "code",
   "execution_count": null,
   "id": "def02972",
   "metadata": {},
   "outputs": [],
   "source": [
    "a = 10,20,'Hello'  ##  packed into a tuple\n",
    "print(a)"
   ]
  },
  {
   "cell_type": "code",
   "execution_count": null,
   "id": "05984d25",
   "metadata": {},
   "outputs": [],
   "source": [
    "a,b = 10,20,30"
   ]
  },
  {
   "cell_type": "code",
   "execution_count": null,
   "id": "58201684",
   "metadata": {},
   "outputs": [],
   "source": [
    "a = (10,20)\n",
    "print(a)"
   ]
  },
  {
   "cell_type": "code",
   "execution_count": null,
   "id": "22eafca4",
   "metadata": {},
   "outputs": [],
   "source": [
    "a,b = (10,20)  #  unpacking of a tuple\n",
    "print(a,b)"
   ]
  },
  {
   "cell_type": "code",
   "execution_count": null,
   "id": "471caa98",
   "metadata": {},
   "outputs": [],
   "source": [
    "a,b = (10,20,30)"
   ]
  },
  {
   "cell_type": "code",
   "execution_count": null,
   "id": "6faecce4",
   "metadata": {},
   "outputs": [],
   "source": [
    "shoplist = []\n",
    "\n",
    "while True:\n",
    "    item = input('Enter New Item: ')\n",
    "    \n",
    "    if item == 'endshopping':\n",
    "        break\n",
    "        \n",
    "    shoplist.append(item)\n",
    "    \n",
    "print(shoplist)"
   ]
  },
  {
   "cell_type": "code",
   "execution_count": null,
   "id": "6f267a59",
   "metadata": {},
   "outputs": [],
   "source": [
    "sqlist = []\n",
    "\n",
    "for num in range(5,11):\n",
    "    result = num**2\n",
    "    sqlist.append(result)\n",
    "    \n",
    "print(sqlist)"
   ]
  },
  {
   "cell_type": "code",
   "execution_count": null,
   "id": "9959be36",
   "metadata": {},
   "outputs": [],
   "source": [
    "sqlist1 = [ num**2     for num in range(5,11) ]  # List Comprehension\n",
    "print(sqlist1)"
   ]
  },
  {
   "cell_type": "code",
   "execution_count": null,
   "id": "a26b052a",
   "metadata": {},
   "outputs": [],
   "source": [
    "evsqlist = []\n",
    "\n",
    "for num in range(10,21):\n",
    "    if num%2 == 0:\n",
    "        result = num**2\n",
    "        evsqlist.append(result)\n",
    "        \n",
    "print(evsqlist)"
   ]
  },
  {
   "cell_type": "code",
   "execution_count": null,
   "id": "5409ab98",
   "metadata": {},
   "outputs": [],
   "source": [
    "evsqlist1 = [ (num,num**2)  for num in range(10,21)  if num%2==0 ]\n",
    "print(evsqlist1)"
   ]
  },
  {
   "cell_type": "code",
   "execution_count": null,
   "id": "af429239",
   "metadata": {},
   "outputs": [],
   "source": [
    "eo3list = []\n",
    "\n",
    "for num in range(10,31):\n",
    "    if num%3 == 0:\n",
    "        if num%2 == 0:\n",
    "            r = num**2\n",
    "        else:\n",
    "            r = num**3\n",
    "        eo3list.append(  (num,r) )\n",
    "        \n",
    "print(eo3list)"
   ]
  },
  {
   "cell_type": "code",
   "execution_count": null,
   "id": "82535671",
   "metadata": {},
   "outputs": [],
   "source": [
    "eo3list1 = [(num,num**2) if num%2==0 else (num,num**3) for num in range(10,31) if num%3 == 0]\n",
    "print(eo3list1)"
   ]
  },
  {
   "cell_type": "code",
   "execution_count": null,
   "id": "83a8f68a",
   "metadata": {},
   "outputs": [],
   "source": [
    "eo3list2 = [n**2 if n%2==0 else n**3 for n in range(10,31) if n%3 == 0]\n",
    "print(eo3list2)"
   ]
  },
  {
   "cell_type": "raw",
   "id": "f0b341b8",
   "metadata": {},
   "source": [
    "#Grammer #1\n",
    "\n",
    "final_list = [ <2. final_expression> <1. for loop> ]\n",
    "control_flow:  1,2  1,2  1ends\n",
    "\n",
    "final_list = [<3. final_expre> <1. loop> <2. gating_condition>]  \n",
    "control_flow:  1,2t,3  1,2f  1,2f  1,2t,3  1ends"
   ]
  },
  {
   "cell_type": "code",
   "execution_count": null,
   "id": "857e007b",
   "metadata": {},
   "outputs": [],
   "source": [
    "ulist = ['u1','u2','u3']\n",
    "plist = ['p1','p2','p3']\n",
    "uplist = []\n",
    "\n",
    "for u in ulist:\n",
    "    for p in plist:\n",
    "        r = (u,p)\n",
    "        uplist.append(r)\n",
    "print(uplist)"
   ]
  },
  {
   "cell_type": "code",
   "execution_count": null,
   "id": "819a1949",
   "metadata": {},
   "outputs": [],
   "source": [
    "ulist = ['u1','u2','u3']\n",
    "plist = ['p1','p2','p3']\n",
    "uplist1 = [ (u,p) for u in ulist  for p in plist]\n",
    "print(uplist1)"
   ]
  },
  {
   "cell_type": "code",
   "execution_count": null,
   "id": "6814d067",
   "metadata": {},
   "outputs": [],
   "source": [
    "ulist = ['u1','u2','u3']\n",
    "plist = ['p1','p2','p3']\n",
    "uplist = []\n",
    "\n",
    "for u in ulist:\n",
    "    if u != 'u2':\n",
    "        for p in plist:\n",
    "            r = (u,p)\n",
    "            uplist.append(r)\n",
    "print(uplist)"
   ]
  },
  {
   "cell_type": "code",
   "execution_count": null,
   "id": "d4350477",
   "metadata": {},
   "outputs": [],
   "source": [
    "ulist = ['u1','u2','u3']\n",
    "plist = ['p1','p2','p3']\n",
    "uplist1 = [ (u,p) for u in ulist  if u!= 'u2' for p in plist]\n",
    "print(uplist1)"
   ]
  },
  {
   "cell_type": "code",
   "execution_count": null,
   "id": "02486b84",
   "metadata": {},
   "outputs": [],
   "source": [
    "ulist = ['u1','u2','u3']\n",
    "plist = ['p1','p2','p3']\n",
    "uplist1 = [ (u,p) for u in ulist  if u!= 'u2' for p in plist if p!= 'p2']\n",
    "print(uplist1)"
   ]
  },
  {
   "cell_type": "code",
   "execution_count": null,
   "id": "d0873ad7",
   "metadata": {},
   "outputs": [],
   "source": [
    "rlist = [ num%3 for num in range(10,30)]\n",
    "rlist"
   ]
  },
  {
   "cell_type": "code",
   "execution_count": null,
   "id": "cddc4f9b",
   "metadata": {},
   "outputs": [],
   "source": [
    "rlist = { num%3 for num in range(10,30)}  # set compre\n",
    "rlist"
   ]
  },
  {
   "cell_type": "code",
   "execution_count": null,
   "id": "2f871925",
   "metadata": {},
   "outputs": [],
   "source": [
    "rlist = { num:num%3 for num in range(10,30)}  # dict compre\n",
    "rlist"
   ]
  },
  {
   "cell_type": "code",
   "execution_count": null,
   "id": "70237e40",
   "metadata": {},
   "outputs": [],
   "source": [
    "#DIY:  Generator comprehension"
   ]
  },
  {
   "cell_type": "markdown",
   "id": "ab96ec10",
   "metadata": {},
   "source": [
    "# Functions"
   ]
  },
  {
   "cell_type": "code",
   "execution_count": null,
   "id": "de763539",
   "metadata": {},
   "outputs": [],
   "source": [
    "def mf1(r0,r1):\n",
    "    print(r0,r1)"
   ]
  },
  {
   "cell_type": "code",
   "execution_count": null,
   "id": "fd953238",
   "metadata": {},
   "outputs": [],
   "source": [
    "mf1()"
   ]
  },
  {
   "cell_type": "code",
   "execution_count": null,
   "id": "0abcc589",
   "metadata": {},
   "outputs": [],
   "source": [
    "mf1(10)"
   ]
  },
  {
   "cell_type": "code",
   "execution_count": null,
   "id": "faff4a02",
   "metadata": {},
   "outputs": [],
   "source": [
    "mf1(10,20)"
   ]
  },
  {
   "cell_type": "code",
   "execution_count": null,
   "id": "5baf2819",
   "metadata": {},
   "outputs": [],
   "source": [
    "def mf2(r0,d0=111):\n",
    "    print(r0)\n",
    "    print(d0)"
   ]
  },
  {
   "cell_type": "code",
   "execution_count": null,
   "id": "4b627af7",
   "metadata": {},
   "outputs": [],
   "source": [
    "mf2()"
   ]
  },
  {
   "cell_type": "code",
   "execution_count": null,
   "id": "f7338639",
   "metadata": {},
   "outputs": [],
   "source": [
    "mf2(222)"
   ]
  },
  {
   "cell_type": "code",
   "execution_count": null,
   "id": "432da8c7",
   "metadata": {},
   "outputs": [],
   "source": [
    "mf2(444,555)"
   ]
  },
  {
   "cell_type": "code",
   "execution_count": null,
   "id": "cae01a84",
   "metadata": {},
   "outputs": [],
   "source": [
    "def mf3(d0=111, r0):\n",
    "    print(r0,d0)"
   ]
  },
  {
   "cell_type": "code",
   "execution_count": null,
   "id": "5de2ddef",
   "metadata": {},
   "outputs": [],
   "source": [
    "#RULE_1:  While defining a function, the required params, should be\n",
    "# specified before default params."
   ]
  },
  {
   "cell_type": "code",
   "execution_count": null,
   "id": "75bf105a",
   "metadata": {},
   "outputs": [],
   "source": [
    "def mf4(r0,r1):\n",
    "    print(r0,r1)"
   ]
  },
  {
   "cell_type": "code",
   "execution_count": null,
   "id": "828b12b9",
   "metadata": {},
   "outputs": [],
   "source": [
    "mf4(10,20) # python does positional mapping"
   ]
  },
  {
   "cell_type": "code",
   "execution_count": null,
   "id": "42461be1",
   "metadata": {},
   "outputs": [],
   "source": [
    "mf4(r1=111, r0=222)  #paramater-keyword mapping"
   ]
  },
  {
   "cell_type": "code",
   "execution_count": null,
   "id": "b10c0501",
   "metadata": {},
   "outputs": [],
   "source": [
    "mf4(111,r1=222)"
   ]
  },
  {
   "cell_type": "code",
   "execution_count": null,
   "id": "40c0336e",
   "metadata": {},
   "outputs": [],
   "source": [
    "mf4(r0=333, 444)"
   ]
  },
  {
   "cell_type": "code",
   "execution_count": null,
   "id": "f1412d87",
   "metadata": {},
   "outputs": [],
   "source": [
    "#RULE_2: While calling a function, positionally mapped values \n",
    "# should be specified before parameter-keyword mapped values"
   ]
  },
  {
   "cell_type": "code",
   "execution_count": null,
   "id": "634a7bcb",
   "metadata": {},
   "outputs": [],
   "source": [
    "def mf5(p1,p2,p3,p4,p5):\n",
    "    print(p1,p2,p3,p4,p5)\n",
    "    \n",
    "mf5(10,20,30,40,50)\n",
    "mf5(p1=11,p2=22,p3=33,p4=44,p5=55)"
   ]
  },
  {
   "cell_type": "code",
   "execution_count": null,
   "id": "4f52ac0f",
   "metadata": {},
   "outputs": [],
   "source": [
    "def mf6(p1,p2,/,p3,p4,p5):\n",
    "    print(p1,p2,p3,p4,p5)\n",
    "    \n",
    "mf6(10,20,30,40,50)\n",
    "mf6(p1=11,p2=22,p3=33,p4=44,p5=55)\n",
    "\n",
    "#RULE: Parameter before / must be passed only in positional style"
   ]
  },
  {
   "cell_type": "code",
   "execution_count": null,
   "id": "b46f5a61",
   "metadata": {},
   "outputs": [],
   "source": [
    "def mf7(p1,p2,*,p3,p4,p5):\n",
    "    print(p1,p2,p3,p4,p5)\n",
    "\n",
    "mf7(p1=11,p2=22,p3=33,p4=44,p5=55)\n",
    "mf7(10,20,p3=30,p4=40,p5=50)\n",
    "mf7(10,20,30,40,50)\n",
    "\n",
    "\n",
    "#RULE: Parameter after * must be passed only in parameter-keyword style"
   ]
  },
  {
   "cell_type": "code",
   "execution_count": null,
   "id": "78146a8c",
   "metadata": {},
   "outputs": [],
   "source": [
    "def mf8(p1,p2,/,p3,*,p4,p5):\n",
    "    print(p1,p2,p3,p4,p5)\n",
    "\n",
    "\n",
    "mf8(10,20,30,p4=40,p5=50)\n",
    "mf8(10,20,p3=30,p4=40,p5=50)\n",
    "# p3 can be passed in any style\n",
    "# p1,p2 only in positional style\n",
    "# p4,p5 only in param-keyword style\n",
    "\n",
    "# mf8(10,p2=20,p3=30,p4=40,p5=50) #err\n",
    "# mf8(10,20,30,40,p5=50) #err"
   ]
  },
  {
   "cell_type": "markdown",
   "id": "01b0f229",
   "metadata": {},
   "source": [
    "Variable Length Params"
   ]
  },
  {
   "cell_type": "code",
   "execution_count": null,
   "id": "9e081bd4",
   "metadata": {},
   "outputs": [],
   "source": [
    "def mf9(args):\n",
    "    print(args)\n",
    "mf9(10)\n",
    "mf9(10,20,30,40,50,'Hello')    "
   ]
  },
  {
   "cell_type": "code",
   "execution_count": null,
   "id": "7d355081",
   "metadata": {},
   "outputs": [],
   "source": []
  },
  {
   "cell_type": "code",
   "execution_count": null,
   "id": "d09ccbd9",
   "metadata": {},
   "outputs": [],
   "source": []
  },
  {
   "cell_type": "code",
   "execution_count": null,
   "id": "474be9b7",
   "metadata": {},
   "outputs": [],
   "source": [
    "def mf10(*args):\n",
    "    print(args)\n",
    "\n",
    "mf10(10,20,30,40,50,'Hello')  "
   ]
  },
  {
   "cell_type": "code",
   "execution_count": null,
   "id": "c9a637b1",
   "metadata": {},
   "outputs": [],
   "source": [
    "def mf11(p0,p1,*args):\n",
    "    print(p0,p1)\n",
    "    print(args)\n",
    "    \n",
    "mf11(10,20,30,40,50,'hello')    "
   ]
  },
  {
   "cell_type": "code",
   "execution_count": null,
   "id": "44d670c3",
   "metadata": {},
   "outputs": [],
   "source": []
  },
  {
   "cell_type": "code",
   "execution_count": null,
   "id": "b2a5012b",
   "metadata": {},
   "outputs": [],
   "source": [
    "def mf12(*args, p0,p1):\n",
    "    print(p0,p1)\n",
    "    print(args)\n",
    "    \n",
    "mf12(10,20,30,40,50,'hello')"
   ]
  },
  {
   "cell_type": "code",
   "execution_count": null,
   "id": "ace41cdc",
   "metadata": {},
   "outputs": [],
   "source": [
    "mf12(10,20,30,40,50,'hello', p1=111, p0=100)"
   ]
  },
  {
   "cell_type": "code",
   "execution_count": null,
   "id": "0ea61d60",
   "metadata": {},
   "outputs": [],
   "source": [
    "def mf13(kwargs):\n",
    "    print(kwargs)\n",
    "mf13(a=10,b=11)    "
   ]
  },
  {
   "cell_type": "code",
   "execution_count": null,
   "id": "900b78ab",
   "metadata": {},
   "outputs": [],
   "source": [
    "def mf14(c,**kwargs):\n",
    "    print(c)\n",
    "    print(kwargs)\n",
    "mf14(a=10,b=11,c=222)  \n",
    "mf14(999,a=10,b=11) "
   ]
  },
  {
   "cell_type": "code",
   "execution_count": null,
   "id": "9b24eee4",
   "metadata": {},
   "outputs": [],
   "source": [
    "def mf15(r0,r1,*args, d2=222, d3=333, **kwargs):\n",
    "    print(r0,r1)\n",
    "    print(d2,d3)\n",
    "    print(args)\n",
    "    print(kwargs)"
   ]
  },
  {
   "cell_type": "code",
   "execution_count": null,
   "id": "91cbe1e3",
   "metadata": {},
   "outputs": [],
   "source": [
    "mf15(10,20,30,40,'Hello',z=555,d3=2323)"
   ]
  },
  {
   "cell_type": "code",
   "execution_count": null,
   "id": "4bc96bfc",
   "metadata": {},
   "outputs": [],
   "source": [
    "# var tuple can be populated only in positional style\n",
    "# var dict can be populated only param-keyword style\n",
    "# var dict has to be specified last in the function signature."
   ]
  },
  {
   "cell_type": "markdown",
   "id": "87bfce60",
   "metadata": {},
   "source": [
    "# Lambda"
   ]
  },
  {
   "cell_type": "code",
   "execution_count": null,
   "id": "53461beb",
   "metadata": {},
   "outputs": [],
   "source": [
    "def isEven1(num):\n",
    "    return num%2==0\n",
    "\n",
    "print(isEven1(20))\n",
    "print(isEven1(21))"
   ]
  },
  {
   "cell_type": "code",
   "execution_count": null,
   "id": "b6fe0f01",
   "metadata": {},
   "outputs": [],
   "source": [
    "isEven2 = lambda num : num%2 == 0\n",
    "\n",
    "print(isEven2(200))\n",
    "print(isEven2(211))"
   ]
  },
  {
   "cell_type": "code",
   "execution_count": null,
   "id": "57e5a60f",
   "metadata": {},
   "outputs": [],
   "source": [
    "print(type(isEven1))"
   ]
  },
  {
   "cell_type": "code",
   "execution_count": null,
   "id": "699aa906",
   "metadata": {},
   "outputs": [],
   "source": [
    "print(type(isEven2))"
   ]
  },
  {
   "cell_type": "code",
   "execution_count": null,
   "id": "039dfb19",
   "metadata": {},
   "outputs": [],
   "source": [
    "def explist1(num):\n",
    "    elist = []\n",
    "    \n",
    "    for exp in range(1,4):\n",
    "        elist.append(num**exp)\n",
    "    \n",
    "    return elist\n",
    "\n",
    "explist1(5)"
   ]
  },
  {
   "cell_type": "code",
   "execution_count": null,
   "id": "5b7ecb5e",
   "metadata": {},
   "outputs": [],
   "source": [
    "explist2 = lambda num :  [ num**exp for exp in range(1,4)]\n",
    "r = explist2(4)\n",
    "print(r)"
   ]
  },
  {
   "cell_type": "code",
   "execution_count": null,
   "id": "d3007918",
   "metadata": {},
   "outputs": [],
   "source": [
    "kmlist = [1,2,3,4,5]\n",
    "\n",
    "km2m = lambda k: k*1000   ##  named function object.\n",
    "\n",
    "mobj = map(km2m, kmlist) # map o/p is an ITERATOR.\n",
    "print(list(mobj))"
   ]
  },
  {
   "cell_type": "code",
   "execution_count": null,
   "id": "5be8596e",
   "metadata": {},
   "outputs": [],
   "source": [
    "mlist = [1,2,3,4,5]\n",
    "\n",
    "mobj = map(lambda m: m*100, mlist) # anonymous, inline function obj\n",
    "print(list(mobj))"
   ]
  },
  {
   "cell_type": "code",
   "execution_count": null,
   "id": "2d49b6c5",
   "metadata": {},
   "outputs": [],
   "source": [
    "klist = ['Bank','Branch','City']\n",
    "vlist = ['SBI','MGROAD','Delhi']\n",
    "\n",
    "mobj = map(lambda k,v : (k,v), klist, vlist)\n",
    "kvlist = list(mobj)\n",
    "\n",
    "print(kvlist)\n",
    "print(kvlist)"
   ]
  },
  {
   "cell_type": "markdown",
   "id": "5d1ce135",
   "metadata": {},
   "source": [
    "filter"
   ]
  },
  {
   "cell_type": "code",
   "execution_count": null,
   "id": "27bf483b",
   "metadata": {},
   "outputs": [],
   "source": [
    "numlist = [2,4,1,3,7,11,23,56,85,78,67,97]\n",
    "\n",
    "fobj = filter(lambda num:num%2==0, numlist)\n",
    "print(list(fobj))"
   ]
  },
  {
   "cell_type": "markdown",
   "id": "3f870714",
   "metadata": {},
   "source": [
    "Reduce"
   ]
  },
  {
   "cell_type": "code",
   "execution_count": null,
   "id": "6510bb86",
   "metadata": {},
   "outputs": [],
   "source": [
    "from functools import reduce"
   ]
  },
  {
   "cell_type": "code",
   "execution_count": null,
   "id": "ec400097",
   "metadata": {},
   "outputs": [],
   "source": [
    "numlist = [2,4,6,8,10]\n",
    "\n",
    "robj = reduce(lambda x,y: x+y, numlist)\n",
    "print(robj)"
   ]
  },
  {
   "cell_type": "code",
   "execution_count": null,
   "id": "3395d74c",
   "metadata": {},
   "outputs": [],
   "source": [
    "numlist = [2,4,16,8,10]\n",
    "\n",
    "robj = reduce(lambda x,y: x*y, numlist)\n",
    "print(robj)"
   ]
  },
  {
   "cell_type": "code",
   "execution_count": null,
   "id": "a8c0f3ed",
   "metadata": {},
   "outputs": [],
   "source": [
    "numlist = [2,4,16,8,10]\n",
    "\n",
    "robj = reduce(lambda x,y: x if x>y else y, numlist)\n",
    "print(robj)"
   ]
  },
  {
   "cell_type": "code",
   "execution_count": null,
   "id": "b1f7e50a",
   "metadata": {},
   "outputs": [],
   "source": [
    "# DIY: list.sort use lambda.."
   ]
  },
  {
   "cell_type": "markdown",
   "id": "ebd954f5",
   "metadata": {},
   "source": [
    "# Variable Scope"
   ]
  },
  {
   "cell_type": "code",
   "execution_count": null,
   "id": "9a5dccd9",
   "metadata": {},
   "outputs": [],
   "source": [
    "g1 = 111\n",
    "\n",
    "def mf99(v2):\n",
    "    global g1\n",
    "    g1 = 999\n",
    "    v3 = 333\n",
    "    print(\"debug2\", g1,v2,v3) # v2,v3 are local vars.\n",
    "    print(locals())\n",
    "\n",
    "print(\"debug1\", g1)\n",
    "mf99(222)\n",
    "print(\"debug3\", g1)"
   ]
  },
  {
   "cell_type": "code",
   "execution_count": null,
   "id": "e94760e9",
   "metadata": {},
   "outputs": [],
   "source": [
    "globals()"
   ]
  },
  {
   "cell_type": "code",
   "execution_count": null,
   "id": "fd5b79c8",
   "metadata": {},
   "outputs": [],
   "source": [
    "g1 = 111\n",
    "\n",
    "def outer():\n",
    "    g1 = 999   \n",
    "    print(\"debug2\", g1)\n",
    "\n",
    "    def inner():\n",
    "        nonlocal g1\n",
    "        g1 = 888\n",
    "        print(\"debug3\", g1)\n",
    "    \n",
    "    inner()\n",
    "    print(\"debug22\", g1)\n",
    "        \n",
    "print(\"debug1\", g1)\n",
    "outer()\n",
    "print(\"debug4\", g1)"
   ]
  },
  {
   "cell_type": "markdown",
   "id": "80ebaafc",
   "metadata": {},
   "source": [
    "# Recursion"
   ]
  },
  {
   "cell_type": "code",
   "execution_count": null,
   "id": "d44cb855",
   "metadata": {},
   "outputs": [],
   "source": [
    "def fact(n):\n",
    "    if n <= 0:\n",
    "        return 1\n",
    "    \n",
    "    return n * fact(n-1)"
   ]
  },
  {
   "cell_type": "code",
   "execution_count": null,
   "id": "ab614ee6",
   "metadata": {},
   "outputs": [],
   "source": [
    "fact(5)"
   ]
  },
  {
   "cell_type": "code",
   "execution_count": null,
   "id": "cbd57653",
   "metadata": {},
   "outputs": [],
   "source": [
    "fact(6)"
   ]
  },
  {
   "cell_type": "code",
   "execution_count": null,
   "id": "d9cf5755",
   "metadata": {},
   "outputs": [],
   "source": [
    "# DIY: fibonaci series using factorial."
   ]
  }
 ],
 "metadata": {
  "kernelspec": {
   "display_name": "Python 3 (ipykernel)",
   "language": "python",
   "name": "python3"
  },
  "language_info": {
   "codemirror_mode": {
    "name": "ipython",
    "version": 3
   },
   "file_extension": ".py",
   "mimetype": "text/x-python",
   "name": "python",
   "nbconvert_exporter": "python",
   "pygments_lexer": "ipython3",
   "version": "3.11.5"
  }
 },
 "nbformat": 4,
 "nbformat_minor": 5
}
