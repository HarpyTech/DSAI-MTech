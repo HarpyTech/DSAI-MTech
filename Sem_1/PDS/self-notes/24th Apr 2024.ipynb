{
 "cells": [
  {
   "cell_type": "code",
   "execution_count": 1,
   "id": "c1184917",
   "metadata": {},
   "outputs": [
    {
     "name": "stdout",
     "output_type": "stream",
     "text": [
      "Hello World\n"
     ]
    }
   ],
   "source": [
    "print(\"Hello World\")"
   ]
  },
  {
   "cell_type": "code",
   "execution_count": 6,
   "id": "82dc4e01",
   "metadata": {},
   "outputs": [
    {
     "name": "stdout",
     "output_type": "stream",
     "text": [
      "National Stcok Exchange\n",
      "USD $ Rupee ₹\n"
     ]
    }
   ],
   "source": [
    "print(\"National Stcok Exchange\") # comment start\n",
    "# print(\"SSE\")\n",
    "usd = \"USD $\"; rupee = \"Rupee \\u20b9\"\n",
    "print(usd, rupee)\n",
    "\"\"\"\n",
    "Multiline Comments\n",
    "\"\"\""
   ]
  },
  {
   "cell_type": "code",
   "execution_count": 8,
   "id": "79b00916",
   "metadata": {},
   "outputs": [
    {
     "name": "stdout",
     "output_type": "stream",
     "text": [
      " National Stock Exchange is in Mumbai,\n",
      "It is India's first Digital Exchange.\n",
      "\n"
     ]
    }
   ],
   "source": [
    "# string in multiline\n",
    "MultiLineString = \"\"\" National Stock Exchange is in Mumbai,\n",
    "It is India's first Digital Exchange.\n",
    "\"\"\"\n",
    "print(MultiLineString)"
   ]
  },
  {
   "cell_type": "code",
   "execution_count": 10,
   "id": "f8b50e23",
   "metadata": {},
   "outputs": [
    {
     "ename": "SyntaxError",
     "evalue": "invalid syntax (3580619696.py, line 1)",
     "output_type": "error",
     "traceback": [
      "\u001b[1;36m  Cell \u001b[1;32mIn[10], line 1\u001b[1;36m\u001b[0m\n\u001b[1;33m    print(`String`, 'String')\u001b[0m\n\u001b[1;37m          ^\u001b[0m\n\u001b[1;31mSyntaxError\u001b[0m\u001b[1;31m:\u001b[0m invalid syntax\n"
     ]
    }
   ],
   "source": [
    "print(`String`, 'String')"
   ]
  },
  {
   "cell_type": "code",
   "execution_count": 12,
   "id": "473fb665",
   "metadata": {},
   "outputs": [
    {
     "name": "stdout",
     "output_type": "stream",
     "text": [
      "['False', 'None', 'True', 'and', 'as', 'assert', 'async', 'await', 'break', 'class', 'continue', 'def', 'del', 'elif', 'else', 'except', 'finally', 'for', 'from', 'global', 'if', 'import', 'in', 'is', 'lambda', 'nonlocal', 'not', 'or', 'pass', 'raise', 'return', 'try', 'while', 'with', 'yield']\n"
     ]
    }
   ],
   "source": [
    "import keyword\n",
    "print(keyword.kwlist)\n",
    "# print id NOT a language keyword, Its variable referering to builtin function."
   ]
  },
  {
   "cell_type": "code",
   "execution_count": 15,
   "id": "300d5aec",
   "metadata": {},
   "outputs": [
    {
     "name": "stdout",
     "output_type": "stream",
     "text": [
      "<class 'int'>\n",
      "140720721217000\n",
      "1371441318128\n",
      "1371441316688\n"
     ]
    }
   ],
   "source": [
    "# Python is a dynamically typed language where it will auto define the data type of variable post its value is assigned\n",
    "m1 = 23\n",
    "print(type(m1)) # method type return class of its Data type\n",
    "print(id(m1)) # id method return the memory location of variable / its value\n",
    "print(id(\"Run time defined value location\"))\n",
    "print(id(\"Run time defined value location\"))"
   ]
  },
  {
   "cell_type": "code",
   "execution_count": 44,
   "id": "d951ab7b",
   "metadata": {},
   "outputs": [
    {
     "name": "stdout",
     "output_type": "stream",
     "text": [
      "exception occured and it has been solved deleting print assignment\n",
      "Exception 'int' object is not callable\n"
     ]
    }
   ],
   "source": [
    "print = 10\n",
    "\n",
    "try:\n",
    "    print(\"Hello world\")\n",
    "except Exception as ex:\n",
    "    del print\n",
    "    print(\"exception occured and it has been solved deleting print assignment\")\n",
    "    print(\"Exception\", ex)"
   ]
  },
  {
   "cell_type": "markdown",
   "id": "8370a033",
   "metadata": {},
   "source": [
    "### Keyboard Interface"
   ]
  },
  {
   "cell_type": "code",
   "execution_count": 21,
   "id": "db5f8093",
   "metadata": {},
   "outputs": [
    {
     "name": "stdout",
     "output_type": "stream",
     "text": [
      "enter course name: DSAI\n",
      "<class 'str'>\n",
      "DSAI\n"
     ]
    }
   ],
   "source": [
    "ms1 = input(\"enter course name: \")\n",
    "print(type(ms1))\n",
    "print(ms1)"
   ]
  },
  {
   "cell_type": "code",
   "execution_count": 23,
   "id": "5a50d65b",
   "metadata": {},
   "outputs": [
    {
     "data": {
      "text/plain": [
       "True"
      ]
     },
     "execution_count": 23,
     "metadata": {},
     "output_type": "execute_result"
    }
   ],
   "source": [
    "isinstance(\"Hello\", str) # is used to check the data type of the variable"
   ]
  },
  {
   "cell_type": "code",
   "execution_count": 25,
   "id": "92524d1b",
   "metadata": {},
   "outputs": [],
   "source": [
    "def add_given_data(a, b):\n",
    "    \"\"\"\n",
    "    It performs Addition operation with the given values\n",
    "    \"\"\"\n",
    "    a + b"
   ]
  },
  {
   "cell_type": "code",
   "execution_count": 26,
   "id": "8ca7868f",
   "metadata": {},
   "outputs": [
    {
     "name": "stdout",
     "output_type": "stream",
     "text": [
      "['__add__', '__class__', '__contains__', '__delattr__', '__dir__', '__doc__', '__eq__', '__format__', '__ge__', '__getattribute__', '__getitem__', '__getnewargs__', '__getstate__', '__gt__', '__hash__', '__init__', '__init_subclass__', '__iter__', '__le__', '__len__', '__lt__', '__mod__', '__mul__', '__ne__', '__new__', '__reduce__', '__reduce_ex__', '__repr__', '__rmod__', '__rmul__', '__setattr__', '__sizeof__', '__str__', '__subclasshook__', 'capitalize', 'casefold', 'center', 'count', 'encode', 'endswith', 'expandtabs', 'find', 'format', 'format_map', 'index', 'isalnum', 'isalpha', 'isascii', 'isdecimal', 'isdigit', 'isidentifier', 'islower', 'isnumeric', 'isprintable', 'isspace', 'istitle', 'isupper', 'join', 'ljust', 'lower', 'lstrip', 'maketrans', 'partition', 'removeprefix', 'removesuffix', 'replace', 'rfind', 'rindex', 'rjust', 'rpartition', 'rsplit', 'rstrip', 'split', 'splitlines', 'startswith', 'strip', 'swapcase', 'title', 'translate', 'upper', 'zfill']\n"
     ]
    }
   ],
   "source": [
    "add_given_data(12, 23)\n",
    "print(dir(str)) # to look for the attributes and methods of given class / class of given instance"
   ]
  },
  {
   "cell_type": "code",
   "execution_count": 29,
   "id": "d0d6a4bb",
   "metadata": {},
   "outputs": [
    {
     "name": "stdout",
     "output_type": "stream",
     "text": [
      "Enter the Temperature: 45\n",
      "It's Cold\n"
     ]
    }
   ],
   "source": [
    "def temperature(temp): \n",
    "    if temp > 99:\n",
    "        print(\"Its Hot\")\n",
    "    elif temp < 60:\n",
    "        print(\"It's Cold\")\n",
    "    else:\n",
    "\n",
    "temp = int(input(\"Enter the Temperature: \"))\n",
    "temperature(temp)"
   ]
  },
  {
   "cell_type": "code",
   "execution_count": 34,
   "id": "84eea77f",
   "metadata": {},
   "outputs": [
    {
     "name": "stdout",
     "output_type": "stream",
     "text": [
      "we are in Trouble\n",
      "Not in Trouble\n",
      "we are in Trouble\n"
     ]
    }
   ],
   "source": [
    " def isTrouble(isTalking, hour):\n",
    "        if isTalking and (hour <= 7 or hour >= 20):\n",
    "            print(\"we are in Trouble\")\n",
    "        else:\n",
    "            print(\"Not in Trouble\")\n",
    "isTrouble(True, 22)\n",
    "isTrouble(True, 19)\n",
    "isTrouble(True, 2)"
   ]
  },
  {
   "cell_type": "code",
   "execution_count": 37,
   "id": "9c424c3c",
   "metadata": {},
   "outputs": [
    {
     "name": "stdout",
     "output_type": "stream",
     "text": [
      "140720721223688\n",
      "140720721223688\n",
      "140720721223048\n",
      "140720721223688\n",
      "140720721223048\n",
      "140720721223688\n"
     ]
    }
   ],
   "source": [
    "print(id(232))\n",
    "print(id(232))\n",
    "print(id(212))\n",
    "print(id(232))\n",
    "print(id(212))\n",
    "print(id(232))"
   ]
  },
  {
   "cell_type": "code",
   "execution_count": 40,
   "id": "9ba8f40b",
   "metadata": {},
   "outputs": [
    {
     "name": "stdout",
     "output_type": "stream",
     "text": [
      "ABCDE\n"
     ]
    }
   ],
   "source": [
    "string1 = \"ABCDEFGHIJKL\"\n",
    "print(string1[0:-7])"
   ]
  },
  {
   "cell_type": "code",
   "execution_count": 45,
   "id": "3e3fd379",
   "metadata": {},
   "outputs": [
    {
     "name": "stdout",
     "output_type": "stream",
     "text": [
      "Page Title\n",
      "PAGE TITLE\n"
     ]
    }
   ],
   "source": [
    "string1 = \"page title\"\n",
    "print(string1.title())\n",
    "print(string1.upper())"
   ]
  },
  {
   "cell_type": "code",
   "execution_count": 47,
   "id": "47416a38",
   "metadata": {},
   "outputs": [
    {
     "name": "stdout",
     "output_type": "stream",
     "text": [
      "Format String Syntax\n",
      "********************\n",
      "\n",
      "The \"str.format()\" method and the \"Formatter\" class share the same\n",
      "syntax for format strings (although in the case of \"Formatter\",\n",
      "subclasses can define their own format string syntax).  The syntax is\n",
      "related to that of formatted string literals, but it is less\n",
      "sophisticated and, in particular, does not support arbitrary\n",
      "expressions.\n",
      "\n",
      "Format strings contain “replacement fields” surrounded by curly braces\n",
      "\"{}\". Anything that is not contained in braces is considered literal\n",
      "text, which is copied unchanged to the output.  If you need to include\n",
      "a brace character in the literal text, it can be escaped by doubling:\n",
      "\"{{\" and \"}}\".\n",
      "\n",
      "The grammar for a replacement field is as follows:\n",
      "\n",
      "   replacement_field ::= \"{\" [field_name] [\"!\" conversion] [\":\" format_spec] \"}\"\n",
      "   field_name        ::= arg_name (\".\" attribute_name | \"[\" element_index \"]\")*\n",
      "   arg_name          ::= [identifier | digit+]\n",
      "   attribute_name    ::= identifier\n",
      "   element_index     ::= digit+ | index_string\n",
      "   index_string      ::= <any source character except \"]\"> +\n",
      "   conversion        ::= \"r\" | \"s\" | \"a\"\n",
      "   format_spec       ::= <described in the next section>\n",
      "\n",
      "In less formal terms, the replacement field can start with a\n",
      "*field_name* that specifies the object whose value is to be formatted\n",
      "and inserted into the output instead of the replacement field. The\n",
      "*field_name* is optionally followed by a  *conversion* field, which is\n",
      "preceded by an exclamation point \"'!'\", and a *format_spec*, which is\n",
      "preceded by a colon \"':'\".  These specify a non-default format for the\n",
      "replacement value.\n",
      "\n",
      "See also the Format Specification Mini-Language section.\n",
      "\n",
      "The *field_name* itself begins with an *arg_name* that is either a\n",
      "number or a keyword.  If it’s a number, it refers to a positional\n",
      "argument, and if it’s a keyword, it refers to a named keyword\n",
      "argument. An *arg_name* is treated as a number if a call to\n",
      "\"str.isdecimal()\" on the string would return true. If the numerical\n",
      "arg_names in a format string are 0, 1, 2, … in sequence, they can all\n",
      "be omitted (not just some) and the numbers 0, 1, 2, … will be\n",
      "automatically inserted in that order. Because *arg_name* is not quote-\n",
      "delimited, it is not possible to specify arbitrary dictionary keys\n",
      "(e.g., the strings \"'10'\" or \"':-]'\") within a format string. The\n",
      "*arg_name* can be followed by any number of index or attribute\n",
      "expressions. An expression of the form \"'.name'\" selects the named\n",
      "attribute using \"getattr()\", while an expression of the form\n",
      "\"'[index]'\" does an index lookup using \"__getitem__()\".\n",
      "\n",
      "Changed in version 3.1: The positional argument specifiers can be\n",
      "omitted for \"str.format()\", so \"'{} {}'.format(a, b)\" is equivalent to\n",
      "\"'{0} {1}'.format(a, b)\".\n",
      "\n",
      "Changed in version 3.4: The positional argument specifiers can be\n",
      "omitted for \"Formatter\".\n",
      "\n",
      "Some simple format string examples:\n",
      "\n",
      "   \"First, thou shalt count to {0}\"  # References first positional argument\n",
      "   \"Bring me a {}\"                   # Implicitly references the first positional argument\n",
      "   \"From {} to {}\"                   # Same as \"From {0} to {1}\"\n",
      "   \"My quest is {name}\"              # References keyword argument 'name'\n",
      "   \"Weight in tons {0.weight}\"       # 'weight' attribute of first positional arg\n",
      "   \"Units destroyed: {players[0]}\"   # First element of keyword argument 'players'.\n",
      "\n",
      "The *conversion* field causes a type coercion before formatting.\n",
      "Normally, the job of formatting a value is done by the \"__format__()\"\n",
      "method of the value itself.  However, in some cases it is desirable to\n",
      "force a type to be formatted as a string, overriding its own\n",
      "definition of formatting.  By converting the value to a string before\n",
      "calling \"__format__()\", the normal formatting logic is bypassed.\n",
      "\n",
      "Three conversion flags are currently supported: \"'!s'\" which calls\n",
      "\"str()\" on the value, \"'!r'\" which calls \"repr()\" and \"'!a'\" which\n",
      "calls \"ascii()\".\n",
      "\n",
      "Some examples:\n",
      "\n",
      "   \"Harold's a clever {0!s}\"        # Calls str() on the argument first\n",
      "   \"Bring out the holy {name!r}\"    # Calls repr() on the argument first\n",
      "   \"More {!a}\"                      # Calls ascii() on the argument first\n",
      "\n",
      "The *format_spec* field contains a specification of how the value\n",
      "should be presented, including such details as field width, alignment,\n",
      "padding, decimal precision and so on.  Each value type can define its\n",
      "own “formatting mini-language” or interpretation of the *format_spec*.\n",
      "\n",
      "Most built-in types support a common formatting mini-language, which\n",
      "is described in the next section.\n",
      "\n",
      "A *format_spec* field can also include nested replacement fields\n",
      "within it. These nested replacement fields may contain a field name,\n",
      "conversion flag and format specification, but deeper nesting is not\n",
      "allowed.  The replacement fields within the format_spec are\n",
      "substituted before the *format_spec* string is interpreted. This\n",
      "allows the formatting of a value to be dynamically specified.\n",
      "\n",
      "See the Format examples section for some examples.\n",
      "\n",
      "\n",
      "Format Specification Mini-Language\n",
      "==================================\n",
      "\n",
      "“Format specifications” are used within replacement fields contained\n",
      "within a format string to define how individual values are presented\n",
      "(see Format String Syntax and Formatted string literals). They can\n",
      "also be passed directly to the built-in \"format()\" function.  Each\n",
      "formattable type may define how the format specification is to be\n",
      "interpreted.\n",
      "\n",
      "Most built-in types implement the following options for format\n",
      "specifications, although some of the formatting options are only\n",
      "supported by the numeric types.\n",
      "\n",
      "A general convention is that an empty format specification produces\n",
      "the same result as if you had called \"str()\" on the value. A non-empty\n",
      "format specification typically modifies the result.\n",
      "\n",
      "The general form of a *standard format specifier* is:\n",
      "\n",
      "   format_spec     ::= [[fill]align][sign][\"z\"][\"#\"][\"0\"][width][grouping_option][\".\" precision][type]\n",
      "   fill            ::= <any character>\n",
      "   align           ::= \"<\" | \">\" | \"=\" | \"^\"\n",
      "   sign            ::= \"+\" | \"-\" | \" \"\n",
      "   width           ::= digit+\n",
      "   grouping_option ::= \"_\" | \",\"\n",
      "   precision       ::= digit+\n",
      "   type            ::= \"b\" | \"c\" | \"d\" | \"e\" | \"E\" | \"f\" | \"F\" | \"g\" | \"G\" | \"n\" | \"o\" | \"s\" | \"x\" | \"X\" | \"%\"\n",
      "\n",
      "If a valid *align* value is specified, it can be preceded by a *fill*\n",
      "character that can be any character and defaults to a space if\n",
      "omitted. It is not possible to use a literal curly brace (”\"{\"” or\n",
      "“\"}\"”) as the *fill* character in a formatted string literal or when\n",
      "using the \"str.format()\" method.  However, it is possible to insert a\n",
      "curly brace with a nested replacement field.  This limitation doesn’t\n",
      "affect the \"format()\" function.\n",
      "\n",
      "The meaning of the various alignment options is as follows:\n",
      "\n",
      "+-----------+------------------------------------------------------------+\n",
      "| Option    | Meaning                                                    |\n",
      "|===========|============================================================|\n",
      "| \"'<'\"     | Forces the field to be left-aligned within the available   |\n",
      "|           | space (this is the default for most objects).              |\n",
      "+-----------+------------------------------------------------------------+\n",
      "| \"'>'\"     | Forces the field to be right-aligned within the available  |\n",
      "|           | space (this is the default for numbers).                   |\n",
      "+-----------+------------------------------------------------------------+\n",
      "| \"'='\"     | Forces the padding to be placed after the sign (if any)    |\n",
      "|           | but before the digits.  This is used for printing fields   |\n",
      "|           | in the form ‘+000000120’. This alignment option is only    |\n",
      "|           | valid for numeric types.  It becomes the default for       |\n",
      "|           | numbers when ‘0’ immediately precedes the field width.     |\n",
      "+-----------+------------------------------------------------------------+\n",
      "| \"'^'\"     | Forces the field to be centered within the available       |\n",
      "|           | space.                                                     |\n",
      "+-----------+------------------------------------------------------------+\n",
      "\n",
      "Note that unless a minimum field width is defined, the field width\n",
      "will always be the same size as the data to fill it, so that the\n",
      "alignment option has no meaning in this case.\n",
      "\n",
      "The *sign* option is only valid for number types, and can be one of\n",
      "the following:\n",
      "\n",
      "+-----------+------------------------------------------------------------+\n",
      "| Option    | Meaning                                                    |\n",
      "|===========|============================================================|\n",
      "| \"'+'\"     | indicates that a sign should be used for both positive as  |\n",
      "|           | well as negative numbers.                                  |\n",
      "+-----------+------------------------------------------------------------+\n",
      "| \"'-'\"     | indicates that a sign should be used only for negative     |\n",
      "|           | numbers (this is the default behavior).                    |\n",
      "+-----------+------------------------------------------------------------+\n",
      "| space     | indicates that a leading space should be used on positive  |\n",
      "|           | numbers, and a minus sign on negative numbers.             |\n",
      "+-----------+------------------------------------------------------------+\n",
      "\n",
      "The \"'z'\" option coerces negative zero floating-point values to\n",
      "positive zero after rounding to the format precision.  This option is\n",
      "only valid for floating-point presentation types.\n",
      "\n",
      "Changed in version 3.11: Added the \"'z'\" option (see also **PEP\n",
      "682**).\n",
      "\n",
      "The \"'#'\" option causes the “alternate form” to be used for the\n",
      "conversion.  The alternate form is defined differently for different\n",
      "types.  This option is only valid for integer, float and complex\n",
      "types. For integers, when binary, octal, or hexadecimal output is\n",
      "used, this option adds the respective prefix \"'0b'\", \"'0o'\", \"'0x'\",\n",
      "or \"'0X'\" to the output value. For float and complex the alternate\n",
      "form causes the result of the conversion to always contain a decimal-\n",
      "point character, even if no digits follow it. Normally, a decimal-\n",
      "point character appears in the result of these conversions only if a\n",
      "digit follows it. In addition, for \"'g'\" and \"'G'\" conversions,\n",
      "trailing zeros are not removed from the result.\n",
      "\n",
      "The \"','\" option signals the use of a comma for a thousands separator.\n",
      "For a locale aware separator, use the \"'n'\" integer presentation type\n",
      "instead.\n",
      "\n",
      "Changed in version 3.1: Added the \"','\" option (see also **PEP 378**).\n",
      "\n",
      "The \"'_'\" option signals the use of an underscore for a thousands\n",
      "separator for floating point presentation types and for integer\n",
      "presentation type \"'d'\".  For integer presentation types \"'b'\", \"'o'\",\n",
      "\"'x'\", and \"'X'\", underscores will be inserted every 4 digits.  For\n",
      "other presentation types, specifying this option is an error.\n",
      "\n",
      "Changed in version 3.6: Added the \"'_'\" option (see also **PEP 515**).\n",
      "\n",
      "*width* is a decimal integer defining the minimum total field width,\n",
      "including any prefixes, separators, and other formatting characters.\n",
      "If not specified, then the field width will be determined by the\n",
      "content.\n",
      "\n",
      "When no explicit alignment is given, preceding the *width* field by a\n",
      "zero (\"'0'\") character enables sign-aware zero-padding for numeric\n",
      "types.  This is equivalent to a *fill* character of \"'0'\" with an\n",
      "*alignment* type of \"'='\".\n",
      "\n",
      "Changed in version 3.10: Preceding the *width* field by \"'0'\" no\n",
      "longer affects the default alignment for strings.\n",
      "\n",
      "The *precision* is a decimal integer indicating how many digits should\n",
      "be displayed after the decimal point for presentation types \"'f'\" and\n",
      "\"'F'\", or before and after the decimal point for presentation types\n",
      "\"'g'\" or \"'G'\".  For string presentation types the field indicates the\n",
      "maximum field size - in other words, how many characters will be used\n",
      "from the field content.  The *precision* is not allowed for integer\n",
      "presentation types.\n",
      "\n",
      "Finally, the *type* determines how the data should be presented.\n",
      "\n",
      "The available string presentation types are:\n",
      "\n",
      "   +-----------+------------------------------------------------------------+\n",
      "   | Type      | Meaning                                                    |\n",
      "   |===========|============================================================|\n",
      "   | \"'s'\"     | String format. This is the default type for strings and    |\n",
      "   |           | may be omitted.                                            |\n",
      "   +-----------+------------------------------------------------------------+\n",
      "   | None      | The same as \"'s'\".                                         |\n",
      "   +-----------+------------------------------------------------------------+\n",
      "\n",
      "The available integer presentation types are:\n",
      "\n",
      "   +-----------+------------------------------------------------------------+\n",
      "   | Type      | Meaning                                                    |\n",
      "   |===========|============================================================|\n",
      "   | \"'b'\"     | Binary format. Outputs the number in base 2.               |\n",
      "   +-----------+------------------------------------------------------------+\n",
      "   | \"'c'\"     | Character. Converts the integer to the corresponding       |\n",
      "   |           | unicode character before printing.                         |\n",
      "   +-----------+------------------------------------------------------------+\n",
      "   | \"'d'\"     | Decimal Integer. Outputs the number in base 10.            |\n",
      "   +-----------+------------------------------------------------------------+\n",
      "   | \"'o'\"     | Octal format. Outputs the number in base 8.                |\n",
      "   +-----------+------------------------------------------------------------+\n",
      "   | \"'x'\"     | Hex format. Outputs the number in base 16, using lower-    |\n",
      "   |           | case letters for the digits above 9.                       |\n",
      "   +-----------+------------------------------------------------------------+\n",
      "   | \"'X'\"     | Hex format. Outputs the number in base 16, using upper-    |\n",
      "   |           | case letters for the digits above 9. In case \"'#'\" is      |\n",
      "   |           | specified, the prefix \"'0x'\" will be upper-cased to \"'0X'\" |\n",
      "   |           | as well.                                                   |\n",
      "   +-----------+------------------------------------------------------------+\n",
      "   | \"'n'\"     | Number. This is the same as \"'d'\", except that it uses the |\n",
      "   |           | current locale setting to insert the appropriate number    |\n",
      "   |           | separator characters.                                      |\n",
      "   +-----------+------------------------------------------------------------+\n",
      "   | None      | The same as \"'d'\".                                         |\n",
      "   +-----------+------------------------------------------------------------+\n",
      "\n",
      "In addition to the above presentation types, integers can be formatted\n",
      "with the floating point presentation types listed below (except \"'n'\"\n",
      "and \"None\"). When doing so, \"float()\" is used to convert the integer\n",
      "to a floating point number before formatting.\n",
      "\n",
      "The available presentation types for \"float\" and \"Decimal\" values are:\n",
      "\n",
      "   +-----------+------------------------------------------------------------+\n",
      "   | Type      | Meaning                                                    |\n",
      "   |===========|============================================================|\n",
      "   | \"'e'\"     | Scientific notation. For a given precision \"p\", formats    |\n",
      "   |           | the number in scientific notation with the letter ‘e’      |\n",
      "   |           | separating the coefficient from the exponent. The          |\n",
      "   |           | coefficient has one digit before and \"p\" digits after the  |\n",
      "   |           | decimal point, for a total of \"p + 1\" significant digits.  |\n",
      "   |           | With no precision given, uses a precision of \"6\" digits    |\n",
      "   |           | after the decimal point for \"float\", and shows all         |\n",
      "   |           | coefficient digits for \"Decimal\". If no digits follow the  |\n",
      "   |           | decimal point, the decimal point is also removed unless    |\n",
      "   |           | the \"#\" option is used.                                    |\n",
      "   +-----------+------------------------------------------------------------+\n",
      "   | \"'E'\"     | Scientific notation. Same as \"'e'\" except it uses an upper |\n",
      "   |           | case ‘E’ as the separator character.                       |\n",
      "   +-----------+------------------------------------------------------------+\n",
      "   | \"'f'\"     | Fixed-point notation. For a given precision \"p\", formats   |\n",
      "   |           | the number as a decimal number with exactly \"p\" digits     |\n",
      "   |           | following the decimal point. With no precision given, uses |\n",
      "   |           | a precision of \"6\" digits after the decimal point for      |\n",
      "   |           | \"float\", and uses a precision large enough to show all     |\n",
      "   |           | coefficient digits for \"Decimal\". If no digits follow the  |\n",
      "   |           | decimal point, the decimal point is also removed unless    |\n",
      "   |           | the \"#\" option is used.                                    |\n",
      "   +-----------+------------------------------------------------------------+\n",
      "   | \"'F'\"     | Fixed-point notation. Same as \"'f'\", but converts \"nan\" to |\n",
      "   |           | \"NAN\" and \"inf\" to \"INF\".                                  |\n",
      "   +-----------+------------------------------------------------------------+\n",
      "   | \"'g'\"     | General format.  For a given precision \"p >= 1\", this      |\n",
      "   |           | rounds the number to \"p\" significant digits and then       |\n",
      "   |           | formats the result in either fixed-point format or in      |\n",
      "   |           | scientific notation, depending on its magnitude. A         |\n",
      "   |           | precision of \"0\" is treated as equivalent to a precision   |\n",
      "   |           | of \"1\".  The precise rules are as follows: suppose that    |\n",
      "   |           | the result formatted with presentation type \"'e'\" and      |\n",
      "   |           | precision \"p-1\" would have exponent \"exp\".  Then, if \"m <= |\n",
      "   |           | exp < p\", where \"m\" is -4 for floats and -6 for            |\n",
      "   |           | \"Decimals\", the number is formatted with presentation type |\n",
      "   |           | \"'f'\" and precision \"p-1-exp\".  Otherwise, the number is   |\n",
      "   |           | formatted with presentation type \"'e'\" and precision       |\n",
      "   |           | \"p-1\". In both cases insignificant trailing zeros are      |\n",
      "   |           | removed from the significand, and the decimal point is     |\n",
      "   |           | also removed if there are no remaining digits following    |\n",
      "   |           | it, unless the \"'#'\" option is used.  With no precision    |\n",
      "   |           | given, uses a precision of \"6\" significant digits for      |\n",
      "   |           | \"float\". For \"Decimal\", the coefficient of the result is   |\n",
      "   |           | formed from the coefficient digits of the value;           |\n",
      "   |           | scientific notation is used for values smaller than \"1e-6\" |\n",
      "   |           | in absolute value and values where the place value of the  |\n",
      "   |           | least significant digit is larger than 1, and fixed-point  |\n",
      "   |           | notation is used otherwise.  Positive and negative         |\n",
      "   |           | infinity, positive and negative zero, and nans, are        |\n",
      "   |           | formatted as \"inf\", \"-inf\", \"0\", \"-0\" and \"nan\"            |\n",
      "   |           | respectively, regardless of the precision.                 |\n",
      "   +-----------+------------------------------------------------------------+\n",
      "   | \"'G'\"     | General format. Same as \"'g'\" except switches to \"'E'\" if  |\n",
      "   |           | the number gets too large. The representations of infinity |\n",
      "   |           | and NaN are uppercased, too.                               |\n",
      "   +-----------+------------------------------------------------------------+\n",
      "   | \"'n'\"     | Number. This is the same as \"'g'\", except that it uses the |\n",
      "   |           | current locale setting to insert the appropriate number    |\n",
      "   |           | separator characters.                                      |\n",
      "   +-----------+------------------------------------------------------------+\n",
      "   | \"'%'\"     | Percentage. Multiplies the number by 100 and displays in   |\n",
      "   |           | fixed (\"'f'\") format, followed by a percent sign.          |\n",
      "   +-----------+------------------------------------------------------------+\n",
      "   | None      | For \"float\" this is the same as \"'g'\", except that when    |\n",
      "   |           | fixed-point notation is used to format the result, it      |\n",
      "   |           | always includes at least one digit past the decimal point. |\n",
      "   |           | The precision used is as large as needed to represent the  |\n",
      "   |           | given value faithfully.  For \"Decimal\", this is the same   |\n",
      "   |           | as either \"'g'\" or \"'G'\" depending on the value of         |\n",
      "   |           | \"context.capitals\" for the current decimal context.  The   |\n",
      "   |           | overall effect is to match the output of \"str()\" as        |\n",
      "   |           | altered by the other format modifiers.                     |\n",
      "   +-----------+------------------------------------------------------------+\n",
      "\n",
      "\n",
      "Format examples\n",
      "===============\n",
      "\n",
      "This section contains examples of the \"str.format()\" syntax and\n",
      "comparison with the old \"%\"-formatting.\n",
      "\n",
      "In most of the cases the syntax is similar to the old \"%\"-formatting,\n",
      "with the addition of the \"{}\" and with \":\" used instead of \"%\". For\n",
      "example, \"'%03.2f'\" can be translated to \"'{:03.2f}'\".\n",
      "\n",
      "The new format syntax also supports new and different options, shown\n",
      "in the following examples.\n",
      "\n",
      "Accessing arguments by position:\n",
      "\n",
      "   >>> '{0}, {1}, {2}'.format('a', 'b', 'c')\n",
      "   'a, b, c'\n",
      "   >>> '{}, {}, {}'.format('a', 'b', 'c')  # 3.1+ only\n",
      "   'a, b, c'\n",
      "   >>> '{2}, {1}, {0}'.format('a', 'b', 'c')\n",
      "   'c, b, a'\n",
      "   >>> '{2}, {1}, {0}'.format(*'abc')      # unpacking argument sequence\n",
      "   'c, b, a'\n",
      "   >>> '{0}{1}{0}'.format('abra', 'cad')   # arguments' indices can be repeated\n",
      "   'abracadabra'\n",
      "\n",
      "Accessing arguments by name:\n",
      "\n",
      "   >>> 'Coordinates: {latitude}, {longitude}'.format(latitude='37.24N', longitude='-115.81W')\n",
      "   'Coordinates: 37.24N, -115.81W'\n",
      "   >>> coord = {'latitude': '37.24N', 'longitude': '-115.81W'}\n",
      "   >>> 'Coordinates: {latitude}, {longitude}'.format(**coord)\n",
      "   'Coordinates: 37.24N, -115.81W'\n",
      "\n",
      "Accessing arguments’ attributes:\n",
      "\n",
      "   >>> c = 3-5j\n",
      "   >>> ('The complex number {0} is formed from the real part {0.real} '\n",
      "   ...  'and the imaginary part {0.imag}.').format(c)\n",
      "   'The complex number (3-5j) is formed from the real part 3.0 and the imaginary part -5.0.'\n",
      "   >>> class Point:\n",
      "   ...     def __init__(self, x, y):\n",
      "   ...         self.x, self.y = x, y\n",
      "   ...     def __str__(self):\n",
      "   ...         return 'Point({self.x}, {self.y})'.format(self=self)\n",
      "   ...\n",
      "   >>> str(Point(4, 2))\n",
      "   'Point(4, 2)'\n",
      "\n",
      "Accessing arguments’ items:\n",
      "\n",
      "   >>> coord = (3, 5)\n",
      "   >>> 'X: {0[0]};  Y: {0[1]}'.format(coord)\n",
      "   'X: 3;  Y: 5'\n",
      "\n",
      "Replacing \"%s\" and \"%r\":\n",
      "\n",
      "   >>> \"repr() shows quotes: {!r}; str() doesn't: {!s}\".format('test1', 'test2')\n",
      "   \"repr() shows quotes: 'test1'; str() doesn't: test2\"\n",
      "\n",
      "Aligning the text and specifying a width:\n",
      "\n",
      "   >>> '{:<30}'.format('left aligned')\n",
      "   'left aligned                  '\n",
      "   >>> '{:>30}'.format('right aligned')\n",
      "   '                 right aligned'\n",
      "   >>> '{:^30}'.format('centered')\n",
      "   '           centered           '\n",
      "   >>> '{:*^30}'.format('centered')  # use '*' as a fill char\n",
      "   '***********centered***********'\n",
      "\n",
      "Replacing \"%+f\", \"%-f\", and \"% f\" and specifying a sign:\n",
      "\n",
      "   >>> '{:+f}; {:+f}'.format(3.14, -3.14)  # show it always\n",
      "   '+3.140000; -3.140000'\n",
      "   >>> '{: f}; {: f}'.format(3.14, -3.14)  # show a space for positive numbers\n",
      "   ' 3.140000; -3.140000'\n",
      "   >>> '{:-f}; {:-f}'.format(3.14, -3.14)  # show only the minus -- same as '{:f}; {:f}'\n",
      "   '3.140000; -3.140000'\n",
      "\n",
      "Replacing \"%x\" and \"%o\" and converting the value to different bases:\n",
      "\n",
      "   >>> # format also supports binary numbers\n",
      "   >>> \"int: {0:d};  hex: {0:x};  oct: {0:o};  bin: {0:b}\".format(42)\n",
      "   'int: 42;  hex: 2a;  oct: 52;  bin: 101010'\n",
      "   >>> # with 0x, 0o, or 0b as prefix:\n",
      "   >>> \"int: {0:d};  hex: {0:#x};  oct: {0:#o};  bin: {0:#b}\".format(42)\n",
      "   'int: 42;  hex: 0x2a;  oct: 0o52;  bin: 0b101010'\n",
      "\n",
      "Using the comma as a thousands separator:\n",
      "\n",
      "   >>> '{:,}'.format(1234567890)\n",
      "   '1,234,567,890'\n",
      "\n",
      "Expressing a percentage:\n",
      "\n",
      "   >>> points = 19\n",
      "   >>> total = 22\n",
      "   >>> 'Correct answers: {:.2%}'.format(points/total)\n",
      "   'Correct answers: 86.36%'\n",
      "\n",
      "Using type-specific formatting:\n",
      "\n",
      "   >>> import datetime\n",
      "   >>> d = datetime.datetime(2010, 7, 4, 12, 15, 58)\n",
      "   >>> '{:%Y-%m-%d %H:%M:%S}'.format(d)\n",
      "   '2010-07-04 12:15:58'\n",
      "\n",
      "Nesting arguments and more complex examples:\n",
      "\n",
      "   >>> for align, text in zip('<^>', ['left', 'center', 'right']):\n",
      "   ...     '{0:{fill}{align}16}'.format(text, fill=align, align=align)\n",
      "   ...\n",
      "   'left<<<<<<<<<<<<'\n",
      "   '^^^^^center^^^^^'\n",
      "   '>>>>>>>>>>>right'\n",
      "   >>>\n",
      "   >>> octets = [192, 168, 0, 1]\n",
      "   >>> '{:02X}{:02X}{:02X}{:02X}'.format(*octets)\n",
      "   'C0A80001'\n",
      "   >>> int(_, 16)\n",
      "   3232235521\n",
      "   >>>\n",
      "   >>> width = 5\n",
      "   >>> for num in range(5,12): \n",
      "   ...     for base in 'dXob':\n",
      "   ...         print('{0:{width}{base}}'.format(num, base=base, width=width), end=' ')\n",
      "   ...     print()\n",
      "   ...\n",
      "       5     5     5   101\n",
      "       6     6     6   110\n",
      "       7     7     7   111\n",
      "       8     8    10  1000\n",
      "       9     9    11  1001\n",
      "      10     A    12  1010\n",
      "      11     B    13  1011\n",
      "\n",
      "Related help topics: OPERATORS\n",
      "\n"
     ]
    }
   ],
   "source": [
    "help(\"FORMATTING\")"
   ]
  },
  {
   "cell_type": "code",
   "execution_count": 50,
   "id": "e72f9936",
   "metadata": {},
   "outputs": [
    {
     "name": "stdout",
     "output_type": "stream",
     "text": [
      "s*Pythons**e\n"
     ]
    }
   ],
   "source": [
    "print(\"s{:*^10}e\".format(\"Pythons\"))"
   ]
  },
  {
   "cell_type": "code",
   "execution_count": 51,
   "id": "78401287",
   "metadata": {},
   "outputs": [
    {
     "data": {
      "text/plain": [
       "['p', 'y', 't', 'h', 'o', 'n', 'w', 'o', 'r', 'l', 'd']"
      ]
     },
     "execution_count": 51,
     "metadata": {},
     "output_type": "execute_result"
    }
   ],
   "source": [
    " list(\"pythonworld\")"
   ]
  },
  {
   "cell_type": "code",
   "execution_count": 52,
   "id": "42fdcc02",
   "metadata": {},
   "outputs": [
    {
     "name": "stdout",
     "output_type": "stream",
     "text": [
      "[1, 2, 3, 4, 5] 1371456160768\n",
      "[1, 2, 3, 4, 5, 'Hello'] 1371456160768\n"
     ]
    }
   ],
   "source": [
    "mylist=[1,2,3,4,5]\n",
    "print(mylist, id(mylist))\n",
    "mylist.append(\"Hello\")\n",
    "print(mylist, id(mylist))"
   ]
  },
  {
   "cell_type": "code",
   "execution_count": 53,
   "id": "cf7fd0a8",
   "metadata": {},
   "outputs": [],
   "source": [
    "mylist.extend(mylist)"
   ]
  },
  {
   "cell_type": "code",
   "execution_count": 54,
   "id": "b2480054",
   "metadata": {},
   "outputs": [
    {
     "name": "stdout",
     "output_type": "stream",
     "text": [
      "[1, 2, 3, 4, 5, 'Hello', 1, 2, 3, 4, 5, 'Hello']\n"
     ]
    }
   ],
   "source": [
    "print(mylist)"
   ]
  },
  {
   "cell_type": "code",
   "execution_count": 55,
   "id": "7433e50c",
   "metadata": {},
   "outputs": [
    {
     "data": {
      "text/plain": [
       "['__add__',\n",
       " '__class__',\n",
       " '__class_getitem__',\n",
       " '__contains__',\n",
       " '__delattr__',\n",
       " '__delitem__',\n",
       " '__dir__',\n",
       " '__doc__',\n",
       " '__eq__',\n",
       " '__format__',\n",
       " '__ge__',\n",
       " '__getattribute__',\n",
       " '__getitem__',\n",
       " '__getstate__',\n",
       " '__gt__',\n",
       " '__hash__',\n",
       " '__iadd__',\n",
       " '__imul__',\n",
       " '__init__',\n",
       " '__init_subclass__',\n",
       " '__iter__',\n",
       " '__le__',\n",
       " '__len__',\n",
       " '__lt__',\n",
       " '__mul__',\n",
       " '__ne__',\n",
       " '__new__',\n",
       " '__reduce__',\n",
       " '__reduce_ex__',\n",
       " '__repr__',\n",
       " '__reversed__',\n",
       " '__rmul__',\n",
       " '__setattr__',\n",
       " '__setitem__',\n",
       " '__sizeof__',\n",
       " '__str__',\n",
       " '__subclasshook__',\n",
       " 'append',\n",
       " 'clear',\n",
       " 'copy',\n",
       " 'count',\n",
       " 'extend',\n",
       " 'index',\n",
       " 'insert',\n",
       " 'pop',\n",
       " 'remove',\n",
       " 'reverse',\n",
       " 'sort']"
      ]
     },
     "execution_count": 55,
     "metadata": {},
     "output_type": "execute_result"
    }
   ],
   "source": [
    "dir(list)"
   ]
  },
  {
   "cell_type": "code",
   "execution_count": 56,
   "id": "014cf87e",
   "metadata": {},
   "outputs": [
    {
     "name": "stdout",
     "output_type": "stream",
     "text": [
      "Help on class dict in module builtins:\n",
      "\n",
      "class dict(object)\n",
      " |  dict() -> new empty dictionary\n",
      " |  dict(mapping) -> new dictionary initialized from a mapping object's\n",
      " |      (key, value) pairs\n",
      " |  dict(iterable) -> new dictionary initialized as if via:\n",
      " |      d = {}\n",
      " |      for k, v in iterable:\n",
      " |          d[k] = v\n",
      " |  dict(**kwargs) -> new dictionary initialized with the name=value pairs\n",
      " |      in the keyword argument list.  For example:  dict(one=1, two=2)\n",
      " |  \n",
      " |  Built-in subclasses:\n",
      " |      StgDict\n",
      " |  \n",
      " |  Methods defined here:\n",
      " |  \n",
      " |  __contains__(self, key, /)\n",
      " |      True if the dictionary has the specified key, else False.\n",
      " |  \n",
      " |  __delitem__(self, key, /)\n",
      " |      Delete self[key].\n",
      " |  \n",
      " |  __eq__(self, value, /)\n",
      " |      Return self==value.\n",
      " |  \n",
      " |  __ge__(self, value, /)\n",
      " |      Return self>=value.\n",
      " |  \n",
      " |  __getattribute__(self, name, /)\n",
      " |      Return getattr(self, name).\n",
      " |  \n",
      " |  __getitem__(...)\n",
      " |      x.__getitem__(y) <==> x[y]\n",
      " |  \n",
      " |  __gt__(self, value, /)\n",
      " |      Return self>value.\n",
      " |  \n",
      " |  __init__(self, /, *args, **kwargs)\n",
      " |      Initialize self.  See help(type(self)) for accurate signature.\n",
      " |  \n",
      " |  __ior__(self, value, /)\n",
      " |      Return self|=value.\n",
      " |  \n",
      " |  __iter__(self, /)\n",
      " |      Implement iter(self).\n",
      " |  \n",
      " |  __le__(self, value, /)\n",
      " |      Return self<=value.\n",
      " |  \n",
      " |  __len__(self, /)\n",
      " |      Return len(self).\n",
      " |  \n",
      " |  __lt__(self, value, /)\n",
      " |      Return self<value.\n",
      " |  \n",
      " |  __ne__(self, value, /)\n",
      " |      Return self!=value.\n",
      " |  \n",
      " |  __or__(self, value, /)\n",
      " |      Return self|value.\n",
      " |  \n",
      " |  __repr__(self, /)\n",
      " |      Return repr(self).\n",
      " |  \n",
      " |  __reversed__(self, /)\n",
      " |      Return a reverse iterator over the dict keys.\n",
      " |  \n",
      " |  __ror__(self, value, /)\n",
      " |      Return value|self.\n",
      " |  \n",
      " |  __setitem__(self, key, value, /)\n",
      " |      Set self[key] to value.\n",
      " |  \n",
      " |  __sizeof__(...)\n",
      " |      D.__sizeof__() -> size of D in memory, in bytes\n",
      " |  \n",
      " |  clear(...)\n",
      " |      D.clear() -> None.  Remove all items from D.\n",
      " |  \n",
      " |  copy(...)\n",
      " |      D.copy() -> a shallow copy of D\n",
      " |  \n",
      " |  get(self, key, default=None, /)\n",
      " |      Return the value for key if key is in the dictionary, else default.\n",
      " |  \n",
      " |  items(...)\n",
      " |      D.items() -> a set-like object providing a view on D's items\n",
      " |  \n",
      " |  keys(...)\n",
      " |      D.keys() -> a set-like object providing a view on D's keys\n",
      " |  \n",
      " |  pop(...)\n",
      " |      D.pop(k[,d]) -> v, remove specified key and return the corresponding value.\n",
      " |      \n",
      " |      If the key is not found, return the default if given; otherwise,\n",
      " |      raise a KeyError.\n",
      " |  \n",
      " |  popitem(self, /)\n",
      " |      Remove and return a (key, value) pair as a 2-tuple.\n",
      " |      \n",
      " |      Pairs are returned in LIFO (last-in, first-out) order.\n",
      " |      Raises KeyError if the dict is empty.\n",
      " |  \n",
      " |  setdefault(self, key, default=None, /)\n",
      " |      Insert key with a value of default if key is not in the dictionary.\n",
      " |      \n",
      " |      Return the value for key if key is in the dictionary, else default.\n",
      " |  \n",
      " |  update(...)\n",
      " |      D.update([E, ]**F) -> None.  Update D from dict/iterable E and F.\n",
      " |      If E is present and has a .keys() method, then does:  for k in E: D[k] = E[k]\n",
      " |      If E is present and lacks a .keys() method, then does:  for k, v in E: D[k] = v\n",
      " |      In either case, this is followed by: for k in F:  D[k] = F[k]\n",
      " |  \n",
      " |  values(...)\n",
      " |      D.values() -> an object providing a view on D's values\n",
      " |  \n",
      " |  ----------------------------------------------------------------------\n",
      " |  Class methods defined here:\n",
      " |  \n",
      " |  __class_getitem__(...) from builtins.type\n",
      " |      See PEP 585\n",
      " |  \n",
      " |  fromkeys(iterable, value=None, /) from builtins.type\n",
      " |      Create a new dictionary with keys from iterable and values set to value.\n",
      " |  \n",
      " |  ----------------------------------------------------------------------\n",
      " |  Static methods defined here:\n",
      " |  \n",
      " |  __new__(*args, **kwargs) from builtins.type\n",
      " |      Create and return a new object.  See help(type) for accurate signature.\n",
      " |  \n",
      " |  ----------------------------------------------------------------------\n",
      " |  Data and other attributes defined here:\n",
      " |  \n",
      " |  __hash__ = None\n",
      "\n"
     ]
    }
   ],
   "source": [
    "help(dict)"
   ]
  },
  {
   "cell_type": "code",
   "execution_count": 58,
   "id": "4ec9858e",
   "metadata": {},
   "outputs": [
    {
     "name": "stdout",
     "output_type": "stream",
     "text": [
      "Lokesh\n",
      "233213213\n"
     ]
    }
   ],
   "source": [
    "md1 = {'name': \"Lokesh\", 'ph': \"233213213\", 'address': \"HSR Layout\" }\n",
    "print(md1.get(\"name\", \"Anonymus\"))\n",
    "print(md1['ph'])"
   ]
  },
  {
   "cell_type": "code",
   "execution_count": 62,
   "id": "75f7b27e",
   "metadata": {},
   "outputs": [],
   "source": [
    "md1.setdefault('Data')"
   ]
  },
  {
   "cell_type": "markdown",
   "id": "6732eb6c",
   "metadata": {},
   "source": [
    "## Sets\n"
   ]
  },
  {
   "cell_type": "code",
   "execution_count": 63,
   "id": "961734e2",
   "metadata": {},
   "outputs": [
    {
     "name": "stdout",
     "output_type": "stream",
     "text": [
      "{'s', 'n', 'c', 'd', 'i', 'o', 'y', 't', 'e', 'h', 'a', 'p'}\n"
     ]
    }
   ],
   "source": [
    "ms1 = set(\"pythondatascience\")\n",
    "print(ms1)"
   ]
  },
  {
   "cell_type": "code",
   "execution_count": 64,
   "id": "68d80aef",
   "metadata": {},
   "outputs": [
    {
     "name": "stdout",
     "output_type": "stream",
     "text": [
      "{2, 4, 5, 6, 10, 12}\n"
     ]
    }
   ],
   "source": [
    "myset1 = {2,4,5,6,12,10,4,6}\n",
    "print(myset1)"
   ]
  },
  {
   "cell_type": "code",
   "execution_count": 65,
   "id": "39226257",
   "metadata": {},
   "outputs": [
    {
     "data": {
      "text/plain": [
       "{20}"
      ]
     },
     "execution_count": 65,
     "metadata": {},
     "output_type": "execute_result"
    }
   ],
   "source": [
    "myset2 = set()\n",
    "myset2.add(20)\n",
    "myset2u"
   ]
  },
  {
   "cell_type": "code",
   "execution_count": 66,
   "id": "68b05390",
   "metadata": {},
   "outputs": [
    {
     "name": "stdout",
     "output_type": "stream",
     "text": [
      "{2, 4, 5, 6, 20, 10, 12}\n",
      "set()\n"
     ]
    }
   ],
   "source": [
    "u = myset1.union(myset2); print(u)\n",
    "i = myset1.intersection(myset2); print(i)"
   ]
  },
  {
   "cell_type": "markdown",
   "id": "c9c8d960",
   "metadata": {},
   "source": [
    "### Decision Making"
   ]
  },
  {
   "cell_type": "code",
   "execution_count": 68,
   "id": "5a9ef5e7",
   "metadata": {},
   "outputs": [
    {
     "name": "stdout",
     "output_type": "stream",
     "text": [
      "YSC\n"
     ]
    }
   ],
   "source": [
    "age = 75\n",
    "result = \"SSC\" if age > 80 else \"YSC\" if age > 60 else \"Regular\" if age > 18 else \"Minor\"\n",
    "print(result)"
   ]
  },
  {
   "cell_type": "markdown",
   "id": "3bd9dc6c",
   "metadata": {},
   "source": [
    "#### Range Methods"
   ]
  },
  {
   "cell_type": "code",
   "execution_count": null,
   "id": "12eed8de",
   "metadata": {},
   "outputs": [],
   "source": []
  }
 ],
 "metadata": {
  "kernelspec": {
   "display_name": "Python 3 (ipykernel)",
   "language": "python",
   "name": "python3"
  },
  "language_info": {
   "codemirror_mode": {
    "name": "ipython",
    "version": 3
   },
   "file_extension": ".py",
   "mimetype": "text/x-python",
   "name": "python",
   "nbconvert_exporter": "python",
   "pygments_lexer": "ipython3",
   "version": "3.11.7"
  }
 },
 "nbformat": 4,
 "nbformat_minor": 5
}
