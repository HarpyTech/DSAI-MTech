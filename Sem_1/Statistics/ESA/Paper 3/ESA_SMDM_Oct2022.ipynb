{
  "cells": [
    {
      "cell_type": "markdown",
      "id": "ae066f34",
      "metadata": {
        "id": "ae066f34"
      },
      "source": [
        "### OCT 2022: END SEMESTER ASSESSMENT (ESA)\n",
        "## M TECH DATA SCIENCE AND MACHINE LEARNING_ SEMESTER I\n",
        "### UE20CS902 – Statistical Methods for Decision Making\n",
        "  "
      ]
    },
    {
      "cell_type": "code",
      "execution_count": 1,
      "id": "4cb67927",
      "metadata": {
        "id": "4cb67927"
      },
      "outputs": [],
      "source": [
        "# import 'pandas'\n",
        "import pandas as pd\n",
        "\n",
        "# import 'numpy'\n",
        "import numpy as np\n",
        "\n",
        "# import subpackage of matplotlib\n",
        "import matplotlib.pyplot as plt\n",
        "\n",
        "# import 'seaborn'\n",
        "import seaborn as sns\n",
        "\n",
        "# to suppress warnings\n",
        "from warnings import filterwarnings\n",
        "filterwarnings('ignore')\n",
        "\n",
        "# import statsmodels\n",
        "import statsmodels.api as sm\n",
        "\n",
        "# import 'stats' package from scipy library\n",
        "import scipy.stats as stats\n",
        "\n",
        "# import statistics to perform statistical computations\n",
        "import statistics\n",
        "\n",
        "# to test the normality\n",
        "from scipy.stats import shapiro\n",
        "\n",
        "# import a library to perform Z-test\n",
        "from statsmodels.stats import weightstats as stests\n",
        "\n",
        "# import statsmodels\n",
        "import statsmodels.api as sm\n",
        "from statsmodels.formula.api import ols\n",
        "from statsmodels.stats.anova import anova_lm\n",
        "\n",
        "# import the functions to perform Chi-square tests\n",
        "from scipy.stats import chi2_contingency\n",
        "from scipy.stats import chi2\n",
        "from scipy.stats import chisquare"
      ]
    },
    {
      "cell_type": "code",
      "execution_count": null,
      "id": "5b065aea",
      "metadata": {
        "id": "5b065aea"
      },
      "outputs": [],
      "source": []
    },
    {
      "cell_type": "markdown",
      "id": "480a4255",
      "metadata": {
        "id": "480a4255"
      },
      "source": [
        "### 3a) Fifteen adult males between the ages of 35 and 50 participated in a study to evaluate the effect of diet and exercise on blood cholesterol levels. The total cholesterol was measured in each subject initially and then three months after participating in an aerobic exercise program and switching to a low-fat diet. The data  is provided  in BC.csv file. Do the data support the claim that low-fat diet and aerobic exercise are of value in producing a mean reduction in blood cholesterol levels? Use alpha =. 0.05. Find the P-value\n",
        "- i. State the null hypothesis and the alternate hypothesis. (1 mark)\n",
        "\n",
        "- ii. Which test is to be performed. (1 mark)\n",
        "- iii. Compute test statistics, p value. (3 marks)\n",
        "- iv. At the 0.05 significance level, can we conclude whether program has helpedreduction in cholesterol levels ? (1 mark)\n"
      ]
    },
    {
      "cell_type": "code",
      "execution_count": 2,
      "id": "e7c6083d",
      "metadata": {
        "id": "e7c6083d",
        "outputId": "2c37faa5-ae70-42d2-f26d-2c32e362c80d",
        "colab": {
          "base_uri": "https://localhost:8080/",
          "height": 206
        }
      },
      "outputs": [
        {
          "output_type": "execute_result",
          "data": {
            "text/plain": [
              "   subject  Before  After\n",
              "0        1     265    229\n",
              "1        2     240    231\n",
              "2        3     258    227\n",
              "3        4     295    240\n",
              "4        5     251    238"
            ],
            "text/html": [
              "\n",
              "  <div id=\"df-b6c9174c-3c0b-4916-a41c-fb957da1bf7d\" class=\"colab-df-container\">\n",
              "    <div>\n",
              "<style scoped>\n",
              "    .dataframe tbody tr th:only-of-type {\n",
              "        vertical-align: middle;\n",
              "    }\n",
              "\n",
              "    .dataframe tbody tr th {\n",
              "        vertical-align: top;\n",
              "    }\n",
              "\n",
              "    .dataframe thead th {\n",
              "        text-align: right;\n",
              "    }\n",
              "</style>\n",
              "<table border=\"1\" class=\"dataframe\">\n",
              "  <thead>\n",
              "    <tr style=\"text-align: right;\">\n",
              "      <th></th>\n",
              "      <th>subject</th>\n",
              "      <th>Before</th>\n",
              "      <th>After</th>\n",
              "    </tr>\n",
              "  </thead>\n",
              "  <tbody>\n",
              "    <tr>\n",
              "      <th>0</th>\n",
              "      <td>1</td>\n",
              "      <td>265</td>\n",
              "      <td>229</td>\n",
              "    </tr>\n",
              "    <tr>\n",
              "      <th>1</th>\n",
              "      <td>2</td>\n",
              "      <td>240</td>\n",
              "      <td>231</td>\n",
              "    </tr>\n",
              "    <tr>\n",
              "      <th>2</th>\n",
              "      <td>3</td>\n",
              "      <td>258</td>\n",
              "      <td>227</td>\n",
              "    </tr>\n",
              "    <tr>\n",
              "      <th>3</th>\n",
              "      <td>4</td>\n",
              "      <td>295</td>\n",
              "      <td>240</td>\n",
              "    </tr>\n",
              "    <tr>\n",
              "      <th>4</th>\n",
              "      <td>5</td>\n",
              "      <td>251</td>\n",
              "      <td>238</td>\n",
              "    </tr>\n",
              "  </tbody>\n",
              "</table>\n",
              "</div>\n",
              "    <div class=\"colab-df-buttons\">\n",
              "\n",
              "  <div class=\"colab-df-container\">\n",
              "    <button class=\"colab-df-convert\" onclick=\"convertToInteractive('df-b6c9174c-3c0b-4916-a41c-fb957da1bf7d')\"\n",
              "            title=\"Convert this dataframe to an interactive table.\"\n",
              "            style=\"display:none;\">\n",
              "\n",
              "  <svg xmlns=\"http://www.w3.org/2000/svg\" height=\"24px\" viewBox=\"0 -960 960 960\">\n",
              "    <path d=\"M120-120v-720h720v720H120Zm60-500h600v-160H180v160Zm220 220h160v-160H400v160Zm0 220h160v-160H400v160ZM180-400h160v-160H180v160Zm440 0h160v-160H620v160ZM180-180h160v-160H180v160Zm440 0h160v-160H620v160Z\"/>\n",
              "  </svg>\n",
              "    </button>\n",
              "\n",
              "  <style>\n",
              "    .colab-df-container {\n",
              "      display:flex;\n",
              "      gap: 12px;\n",
              "    }\n",
              "\n",
              "    .colab-df-convert {\n",
              "      background-color: #E8F0FE;\n",
              "      border: none;\n",
              "      border-radius: 50%;\n",
              "      cursor: pointer;\n",
              "      display: none;\n",
              "      fill: #1967D2;\n",
              "      height: 32px;\n",
              "      padding: 0 0 0 0;\n",
              "      width: 32px;\n",
              "    }\n",
              "\n",
              "    .colab-df-convert:hover {\n",
              "      background-color: #E2EBFA;\n",
              "      box-shadow: 0px 1px 2px rgba(60, 64, 67, 0.3), 0px 1px 3px 1px rgba(60, 64, 67, 0.15);\n",
              "      fill: #174EA6;\n",
              "    }\n",
              "\n",
              "    .colab-df-buttons div {\n",
              "      margin-bottom: 4px;\n",
              "    }\n",
              "\n",
              "    [theme=dark] .colab-df-convert {\n",
              "      background-color: #3B4455;\n",
              "      fill: #D2E3FC;\n",
              "    }\n",
              "\n",
              "    [theme=dark] .colab-df-convert:hover {\n",
              "      background-color: #434B5C;\n",
              "      box-shadow: 0px 1px 3px 1px rgba(0, 0, 0, 0.15);\n",
              "      filter: drop-shadow(0px 1px 2px rgba(0, 0, 0, 0.3));\n",
              "      fill: #FFFFFF;\n",
              "    }\n",
              "  </style>\n",
              "\n",
              "    <script>\n",
              "      const buttonEl =\n",
              "        document.querySelector('#df-b6c9174c-3c0b-4916-a41c-fb957da1bf7d button.colab-df-convert');\n",
              "      buttonEl.style.display =\n",
              "        google.colab.kernel.accessAllowed ? 'block' : 'none';\n",
              "\n",
              "      async function convertToInteractive(key) {\n",
              "        const element = document.querySelector('#df-b6c9174c-3c0b-4916-a41c-fb957da1bf7d');\n",
              "        const dataTable =\n",
              "          await google.colab.kernel.invokeFunction('convertToInteractive',\n",
              "                                                    [key], {});\n",
              "        if (!dataTable) return;\n",
              "\n",
              "        const docLinkHtml = 'Like what you see? Visit the ' +\n",
              "          '<a target=\"_blank\" href=https://colab.research.google.com/notebooks/data_table.ipynb>data table notebook</a>'\n",
              "          + ' to learn more about interactive tables.';\n",
              "        element.innerHTML = '';\n",
              "        dataTable['output_type'] = 'display_data';\n",
              "        await google.colab.output.renderOutput(dataTable, element);\n",
              "        const docLink = document.createElement('div');\n",
              "        docLink.innerHTML = docLinkHtml;\n",
              "        element.appendChild(docLink);\n",
              "      }\n",
              "    </script>\n",
              "  </div>\n",
              "\n",
              "\n",
              "<div id=\"df-b7ebf32e-c10d-421f-9a1e-bd71a37ba6cf\">\n",
              "  <button class=\"colab-df-quickchart\" onclick=\"quickchart('df-b7ebf32e-c10d-421f-9a1e-bd71a37ba6cf')\"\n",
              "            title=\"Suggest charts\"\n",
              "            style=\"display:none;\">\n",
              "\n",
              "<svg xmlns=\"http://www.w3.org/2000/svg\" height=\"24px\"viewBox=\"0 0 24 24\"\n",
              "     width=\"24px\">\n",
              "    <g>\n",
              "        <path d=\"M19 3H5c-1.1 0-2 .9-2 2v14c0 1.1.9 2 2 2h14c1.1 0 2-.9 2-2V5c0-1.1-.9-2-2-2zM9 17H7v-7h2v7zm4 0h-2V7h2v10zm4 0h-2v-4h2v4z\"/>\n",
              "    </g>\n",
              "</svg>\n",
              "  </button>\n",
              "\n",
              "<style>\n",
              "  .colab-df-quickchart {\n",
              "      --bg-color: #E8F0FE;\n",
              "      --fill-color: #1967D2;\n",
              "      --hover-bg-color: #E2EBFA;\n",
              "      --hover-fill-color: #174EA6;\n",
              "      --disabled-fill-color: #AAA;\n",
              "      --disabled-bg-color: #DDD;\n",
              "  }\n",
              "\n",
              "  [theme=dark] .colab-df-quickchart {\n",
              "      --bg-color: #3B4455;\n",
              "      --fill-color: #D2E3FC;\n",
              "      --hover-bg-color: #434B5C;\n",
              "      --hover-fill-color: #FFFFFF;\n",
              "      --disabled-bg-color: #3B4455;\n",
              "      --disabled-fill-color: #666;\n",
              "  }\n",
              "\n",
              "  .colab-df-quickchart {\n",
              "    background-color: var(--bg-color);\n",
              "    border: none;\n",
              "    border-radius: 50%;\n",
              "    cursor: pointer;\n",
              "    display: none;\n",
              "    fill: var(--fill-color);\n",
              "    height: 32px;\n",
              "    padding: 0;\n",
              "    width: 32px;\n",
              "  }\n",
              "\n",
              "  .colab-df-quickchart:hover {\n",
              "    background-color: var(--hover-bg-color);\n",
              "    box-shadow: 0 1px 2px rgba(60, 64, 67, 0.3), 0 1px 3px 1px rgba(60, 64, 67, 0.15);\n",
              "    fill: var(--button-hover-fill-color);\n",
              "  }\n",
              "\n",
              "  .colab-df-quickchart-complete:disabled,\n",
              "  .colab-df-quickchart-complete:disabled:hover {\n",
              "    background-color: var(--disabled-bg-color);\n",
              "    fill: var(--disabled-fill-color);\n",
              "    box-shadow: none;\n",
              "  }\n",
              "\n",
              "  .colab-df-spinner {\n",
              "    border: 2px solid var(--fill-color);\n",
              "    border-color: transparent;\n",
              "    border-bottom-color: var(--fill-color);\n",
              "    animation:\n",
              "      spin 1s steps(1) infinite;\n",
              "  }\n",
              "\n",
              "  @keyframes spin {\n",
              "    0% {\n",
              "      border-color: transparent;\n",
              "      border-bottom-color: var(--fill-color);\n",
              "      border-left-color: var(--fill-color);\n",
              "    }\n",
              "    20% {\n",
              "      border-color: transparent;\n",
              "      border-left-color: var(--fill-color);\n",
              "      border-top-color: var(--fill-color);\n",
              "    }\n",
              "    30% {\n",
              "      border-color: transparent;\n",
              "      border-left-color: var(--fill-color);\n",
              "      border-top-color: var(--fill-color);\n",
              "      border-right-color: var(--fill-color);\n",
              "    }\n",
              "    40% {\n",
              "      border-color: transparent;\n",
              "      border-right-color: var(--fill-color);\n",
              "      border-top-color: var(--fill-color);\n",
              "    }\n",
              "    60% {\n",
              "      border-color: transparent;\n",
              "      border-right-color: var(--fill-color);\n",
              "    }\n",
              "    80% {\n",
              "      border-color: transparent;\n",
              "      border-right-color: var(--fill-color);\n",
              "      border-bottom-color: var(--fill-color);\n",
              "    }\n",
              "    90% {\n",
              "      border-color: transparent;\n",
              "      border-bottom-color: var(--fill-color);\n",
              "    }\n",
              "  }\n",
              "</style>\n",
              "\n",
              "  <script>\n",
              "    async function quickchart(key) {\n",
              "      const quickchartButtonEl =\n",
              "        document.querySelector('#' + key + ' button');\n",
              "      quickchartButtonEl.disabled = true;  // To prevent multiple clicks.\n",
              "      quickchartButtonEl.classList.add('colab-df-spinner');\n",
              "      try {\n",
              "        const charts = await google.colab.kernel.invokeFunction(\n",
              "            'suggestCharts', [key], {});\n",
              "      } catch (error) {\n",
              "        console.error('Error during call to suggestCharts:', error);\n",
              "      }\n",
              "      quickchartButtonEl.classList.remove('colab-df-spinner');\n",
              "      quickchartButtonEl.classList.add('colab-df-quickchart-complete');\n",
              "    }\n",
              "    (() => {\n",
              "      let quickchartButtonEl =\n",
              "        document.querySelector('#df-b7ebf32e-c10d-421f-9a1e-bd71a37ba6cf button');\n",
              "      quickchartButtonEl.style.display =\n",
              "        google.colab.kernel.accessAllowed ? 'block' : 'none';\n",
              "    })();\n",
              "  </script>\n",
              "</div>\n",
              "\n",
              "    </div>\n",
              "  </div>\n"
            ],
            "application/vnd.google.colaboratory.intrinsic+json": {
              "type": "dataframe",
              "variable_name": "df",
              "summary": "{\n  \"name\": \"df\",\n  \"rows\": 15,\n  \"fields\": [\n    {\n      \"column\": \"subject\",\n      \"properties\": {\n        \"dtype\": \"number\",\n        \"std\": 4,\n        \"min\": 1,\n        \"max\": 15,\n        \"num_unique_values\": 15,\n        \"samples\": [\n          10,\n          12,\n          1\n        ],\n        \"semantic_type\": \"\",\n        \"description\": \"\"\n      }\n    },\n    {\n      \"column\": \"Before\",\n      \"properties\": {\n        \"dtype\": \"number\",\n        \"std\": 24,\n        \"min\": 225,\n        \"max\": 314,\n        \"num_unique_values\": 14,\n        \"samples\": [\n          279,\n          238,\n          265\n        ],\n        \"semantic_type\": \"\",\n        \"description\": \"\"\n      }\n    },\n    {\n      \"column\": \"After\",\n      \"properties\": {\n        \"dtype\": \"number\",\n        \"std\": 10,\n        \"min\": 218,\n        \"max\": 256,\n        \"num_unique_values\": 15,\n        \"samples\": [\n          239,\n          218,\n          229\n        ],\n        \"semantic_type\": \"\",\n        \"description\": \"\"\n      }\n    }\n  ]\n}"
            }
          },
          "metadata": {},
          "execution_count": 2
        }
      ],
      "source": [
        "df = pd.read_csv('BC.csv')\n",
        "df.head()"
      ]
    },
    {
      "cell_type": "markdown",
      "source": [
        "### i. State the null hypothesis and the alternate hypothesis (1 mark)\n",
        "- Null Hypothesis (H₀): There is no mean reduction in blood cholesterol levels after participating in the aerobic exercise program and switching to a low-fat diet.\n",
        "\n",
        "- Alternate Hypothesis (H₁): There is a mean reduction in blood cholesterol levels after participating in the aerobic exercise program and switching to a low-fat diet.\n",
        "\n",
        "### ii. Which test is to be performed (1 mark)\n",
        "We will perform a paired t-test because we are comparing the cholesterol levels of the same subjects before and after the intervention."
      ],
      "metadata": {
        "id": "tS4MxeCVdPJZ"
      },
      "id": "tS4MxeCVdPJZ"
    },
    {
      "cell_type": "code",
      "execution_count": 4,
      "id": "e512acba",
      "metadata": {
        "id": "e512acba",
        "outputId": "be6f5569-1842-409a-e5ee-289fe676887e",
        "colab": {
          "base_uri": "https://localhost:8080/"
        }
      },
      "outputs": [
        {
          "output_type": "stream",
          "name": "stdout",
          "text": [
            "Paired t-test: t-statistic=5.4659, p-value=0.0001\n"
          ]
        }
      ],
      "source": [
        "# Extract the initial and final cholesterol levels\n",
        "initial_cholesterol = df['Before']\n",
        "final_cholesterol = df['After']\n",
        "\n",
        "# Perform paired t-test\n",
        "t_stat, p_value = stats.ttest_rel(initial_cholesterol, final_cholesterol)\n",
        "\n",
        "print(f'Paired t-test: t-statistic={t_stat:.4f}, p-value={p_value:.4f}')"
      ]
    },
    {
      "cell_type": "markdown",
      "source": [
        "**p-value is less than 0.05**, we reject the null hypothesis and conclude that the program has helped reduce cholesterol levels."
      ],
      "metadata": {
        "id": "Vny4BUW5dnuS"
      },
      "id": "Vny4BUW5dnuS"
    },
    {
      "cell_type": "markdown",
      "id": "58909b1f",
      "metadata": {
        "id": "58909b1f"
      },
      "source": [
        "#### 3b) The compressive strength of samples of cement can be modeled by a normal distribution with a mean of 6000 kilograms per square centimeter and a standard deviation of 100 kilograms per square centimeter.\n",
        "\n",
        "- i. What is the probability that a sample’s strength is less than 6250 Kg/cm2 ( 2mark)\n",
        "- ii. What is the probability that a sample’s strength is between 5800 and 5900 Kg/cm2(2 mark)\n",
        "- iii. What strength is exceeded by 95% of the samples (2 mark)k\n"
      ]
    },
    {
      "cell_type": "code",
      "execution_count": 5,
      "id": "a2c650d3",
      "metadata": {
        "id": "a2c650d3",
        "outputId": "5685ae79-7df2-46c0-c996-0c4010a7cffc",
        "colab": {
          "base_uri": "https://localhost:8080/"
        }
      },
      "outputs": [
        {
          "output_type": "stream",
          "name": "stdout",
          "text": [
            "Probability that a sample’s strength is less than 6250 Kg/cm²: 0.9938\n"
          ]
        }
      ],
      "source": [
        "# Given parameters\n",
        "mean = 6000\n",
        "std_dev = 100\n",
        "\n",
        "# Calculate the probability\n",
        "probability_less_than_6250 = stats.norm.cdf(6250, mean, std_dev)\n",
        "print(f'Probability that a sample’s strength is less than 6250 Kg/cm²: {probability_less_than_6250:.4f}')"
      ]
    },
    {
      "cell_type": "code",
      "execution_count": 6,
      "id": "c299a503",
      "metadata": {
        "id": "c299a503",
        "outputId": "3508503d-e82a-4097-8b45-b83283716770",
        "colab": {
          "base_uri": "https://localhost:8080/"
        }
      },
      "outputs": [
        {
          "output_type": "stream",
          "name": "stdout",
          "text": [
            "Probability that a sample’s strength is between 5800 and 5900 Kg/cm²: 0.1359\n"
          ]
        }
      ],
      "source": [
        "# Calculate the probabilities\n",
        "probability_less_than_5800 = stats.norm.cdf(5800, mean, std_dev)\n",
        "probability_less_than_5900 = stats.norm.cdf(5900, mean, std_dev)\n",
        "\n",
        "# Calculate the probability between 5800 and 5900\n",
        "probability_between_5800_and_5900 = probability_less_than_5900 - probability_less_than_5800\n",
        "print(f'Probability that a sample’s strength is between 5800 and 5900 Kg/cm²: {probability_between_5800_and_5900:.4f}')\n"
      ]
    },
    {
      "cell_type": "code",
      "execution_count": 7,
      "id": "e332cd5b",
      "metadata": {
        "id": "e332cd5b",
        "outputId": "a306ae3d-c2b1-40f0-b809-08a8d152fb92",
        "colab": {
          "base_uri": "https://localhost:8080/"
        }
      },
      "outputs": [
        {
          "output_type": "stream",
          "name": "stdout",
          "text": [
            "Strength exceeded by 95% of the samples: 5835.5146 Kg/cm²\n"
          ]
        }
      ],
      "source": [
        "# Calculate the strength exceeded by 95% of the samples\n",
        "strength_exceeded_by_95_percent = stats.norm.ppf(0.05, mean, std_dev)\n",
        "print(f'Strength exceeded by 95% of the samples: {strength_exceeded_by_95_percent:.4f} Kg/cm²')\n"
      ]
    },
    {
      "cell_type": "code",
      "execution_count": null,
      "id": "6ce2c0db",
      "metadata": {
        "id": "6ce2c0db"
      },
      "outputs": [],
      "source": []
    },
    {
      "cell_type": "code",
      "execution_count": null,
      "id": "cd4a08b4",
      "metadata": {
        "id": "cd4a08b4"
      },
      "outputs": [],
      "source": []
    },
    {
      "cell_type": "markdown",
      "id": "2c127b16",
      "metadata": {
        "id": "2c127b16"
      },
      "source": [
        "#### 3c) An experiment in which shape measurement was determined for several different nozzle types. Interest in this experiment focuses primarily on nozzle type and to determine whether there is difference across various nozzle types in terms of shape.\n",
        "\n",
        "```\n",
        "Nozzle\n",
        "1\t0.78\t0.8\t    0.81\t0.75\t0.77\t0.78\n",
        "2\t0.85\t0.85\t0.92\t0.86\t0.81\t0.83\n",
        "3\t0.93\t0.92\t0.95\t0.89\t0.89\t0.83\n",
        "4\t1.14\t0.97\t0.98\t0.88\t0.86\t0.83\n",
        "5\t0.97\t0.86\t0.78\t0.76\t0.76\t0.75\n",
        "\n",
        "```\n",
        "- i)\tState the hypothesis and the test to be conducted    1\n",
        "- ii)\tDoes nozzle type affect shape measurement use a p value 3\n",
        "- iii) Based on the mean value for each Nozzle type which would you say can play a siginifcant difference 2 mark\n"
      ]
    },
    {
      "cell_type": "code",
      "execution_count": 13,
      "id": "a9f4bc03",
      "metadata": {
        "id": "a9f4bc03",
        "outputId": "657c5c45-390e-48f5-f084-10714fd5567c",
        "colab": {
          "base_uri": "https://localhost:8080/",
          "height": 793
        }
      },
      "outputs": [
        {
          "output_type": "stream",
          "name": "stdout",
          "text": [
            "F-statistic: 5.314493758668515\n",
            "p-value: 0.0030786564921346997\n",
            "Nozzle type significantly affects shape measurement.\n",
            "Multiple Comparison of Means - Tukey HSD, FWER=0.05 \n",
            "====================================================\n",
            "group1 group2 meandiff p-adj   lower   upper  reject\n",
            "----------------------------------------------------\n",
            "     1      2   0.0717  0.401 -0.0459  0.1892  False\n",
            "     1      3     0.12 0.0438  0.0024  0.2376   True\n",
            "     1      4   0.1617 0.0037  0.0441  0.2792   True\n",
            "     1      5   0.0317 0.9308 -0.0859  0.1492  False\n",
            "     2      3   0.0483 0.7471 -0.0692  0.1659  False\n",
            "     2      4     0.09 0.1953 -0.0276  0.2076  False\n",
            "     2      5    -0.04 0.8532 -0.1576  0.0776  False\n",
            "     3      4   0.0417  0.834 -0.0759  0.1592  False\n",
            "     3      5  -0.0883   0.21 -0.2059  0.0292  False\n",
            "     4      5    -0.13  0.025 -0.2476 -0.0124   True\n",
            "----------------------------------------------------\n"
          ]
        },
        {
          "output_type": "display_data",
          "data": {
            "text/plain": [
              "<Figure size 640x480 with 1 Axes>"
            ],
            "image/png": "[encoded data removed]"
          },
          "metadata": {}
        }
      ],
      "source": [
        "import pandas as pd\n",
        "import scipy.stats as stats\n",
        "import seaborn as sns\n",
        "import matplotlib.pyplot as plt\n",
        "\n",
        "# Sample data (replace with your actual data)\n",
        "data = {\n",
        "    'nozzle': [1, 1, 1, 1, 1, 1, 2, 2, 2, 2, 2, 2, 3, 3, 3, 3, 3, 3, 4, 4, 4, 4, 4, 4, 5, 5, 5, 5, 5, 5],\n",
        "    'shape': [0.78, 0.8, 0.81, 0.75, 0.77, 0.78, 0.85, 0.85, 0.92, 0.86, 0.81, 0.83, 0.93, 0.92, 0.95, 0.89, 0.89, 0.83, 1.14, 0.97, 0.98, 0.88, 0.86, 0.83, 0.97, 0.86, 0.78, 0.76, 0.76, 0.75]\n",
        "}\n",
        "\n",
        "\n",
        "\n",
        "# Create a DataFrame\n",
        "df = pd.DataFrame(data)\n",
        "\n",
        "# (i) Hypothesis and Test\n",
        "#   Null hypothesis: There is no difference in shape measurement across nozzle types.\n",
        "#   Alternative hypothesis: There is a difference in shape measurement across nozzle types.\n",
        "#   Test: One-way ANOVA\n",
        "\n",
        "# Perform one-way ANOVA\n",
        "f_statistic, p_value = stats.f_oneway(df['shape'][df['nozzle'] == 1],\n",
        "                                   df['shape'][df['nozzle'] == 2],\n",
        "                                   df['shape'][df['nozzle'] == 3],\n",
        "                                   df['shape'][df['nozzle'] == 4],\n",
        "                                   df['shape'][df['nozzle'] == 5])\n",
        "\n",
        "print(\"F-statistic:\", f_statistic)\n",
        "print(\"p-value:\", p_value)\n",
        "\n",
        "# (ii) Does nozzle type affect shape measurement?\n",
        "if p_value < 0.05:\n",
        "    print(\"Nozzle type significantly affects shape measurement.\")\n",
        "else:\n",
        "    print(\"Nozzle type does not significantly affect shape measurement.\")\n",
        "\n",
        "# (iii) Significant differences between nozzle types\n",
        "#   Use Tukey's HSD test for pairwise comparisons\n",
        "from statsmodels.stats.multicomp import pairwise_tukeyhsd\n",
        "\n",
        "tukey_results = pairwise_tukeyhsd(df['shape'], df['nozzle'])\n",
        "print(tukey_results)\n",
        "\n",
        "# Visualize the data\n",
        "sns.boxplot(x='nozzle', y='shape', data=df)\n",
        "plt.title('Shape Measurement by Nozzle Type')\n",
        "plt.show()"
      ]
    },
    {
      "cell_type": "code",
      "source": [
        "df.head()"
      ],
      "metadata": {
        "id": "64K1tZNYgNKw",
        "outputId": "642b2585-3128-4150-ba0a-8eec3c714475",
        "colab": {
          "base_uri": "https://localhost:8080/",
          "height": 206
        }
      },
      "id": "64K1tZNYgNKw",
      "execution_count": 14,
      "outputs": [
        {
          "output_type": "execute_result",
          "data": {
            "text/plain": [
              "   nozzle  shape\n",
              "0       1   0.78\n",
              "1       1   0.80\n",
              "2       1   0.81\n",
              "3       1   0.75\n",
              "4       1   0.77"
            ],
            "text/html": [
              "\n",
              "  <div id=\"df-6c0d85a3-1fa6-4b9f-828a-8cd6b897f342\" class=\"colab-df-container\">\n",
              "    <div>\n",
              "<style scoped>\n",
              "    .dataframe tbody tr th:only-of-type {\n",
              "        vertical-align: middle;\n",
              "    }\n",
              "\n",
              "    .dataframe tbody tr th {\n",
              "        vertical-align: top;\n",
              "    }\n",
              "\n",
              "    .dataframe thead th {\n",
              "        text-align: right;\n",
              "    }\n",
              "</style>\n",
              "<table border=\"1\" class=\"dataframe\">\n",
              "  <thead>\n",
              "    <tr style=\"text-align: right;\">\n",
              "      <th></th>\n",
              "      <th>nozzle</th>\n",
              "      <th>shape</th>\n",
              "    </tr>\n",
              "  </thead>\n",
              "  <tbody>\n",
              "    <tr>\n",
              "      <th>0</th>\n",
              "      <td>1</td>\n",
              "      <td>0.78</td>\n",
              "    </tr>\n",
              "    <tr>\n",
              "      <th>1</th>\n",
              "      <td>1</td>\n",
              "      <td>0.80</td>\n",
              "    </tr>\n",
              "    <tr>\n",
              "      <th>2</th>\n",
              "      <td>1</td>\n",
              "      <td>0.81</td>\n",
              "    </tr>\n",
              "    <tr>\n",
              "      <th>3</th>\n",
              "      <td>1</td>\n",
              "      <td>0.75</td>\n",
              "    </tr>\n",
              "    <tr>\n",
              "      <th>4</th>\n",
              "      <td>1</td>\n",
              "      <td>0.77</td>\n",
              "    </tr>\n",
              "  </tbody>\n",
              "</table>\n",
              "</div>\n",
              "    <div class=\"colab-df-buttons\">\n",
              "\n",
              "  <div class=\"colab-df-container\">\n",
              "    <button class=\"colab-df-convert\" onclick=\"convertToInteractive('df-6c0d85a3-1fa6-4b9f-828a-8cd6b897f342')\"\n",
              "            title=\"Convert this dataframe to an interactive table.\"\n",
              "            style=\"display:none;\">\n",
              "\n",
              "  <svg xmlns=\"http://www.w3.org/2000/svg\" height=\"24px\" viewBox=\"0 -960 960 960\">\n",
              "    <path d=\"M120-120v-720h720v720H120Zm60-500h600v-160H180v160Zm220 220h160v-160H400v160Zm0 220h160v-160H400v160ZM180-400h160v-160H180v160Zm440 0h160v-160H620v160ZM180-180h160v-160H180v160Zm440 0h160v-160H620v160Z\"/>\n",
              "  </svg>\n",
              "    </button>\n",
              "\n",
              "  <style>\n",
              "    .colab-df-container {\n",
              "      display:flex;\n",
              "      gap: 12px;\n",
              "    }\n",
              "\n",
              "    .colab-df-convert {\n",
              "      background-color: #E8F0FE;\n",
              "      border: none;\n",
              "      border-radius: 50%;\n",
              "      cursor: pointer;\n",
              "      display: none;\n",
              "      fill: #1967D2;\n",
              "      height: 32px;\n",
              "      padding: 0 0 0 0;\n",
              "      width: 32px;\n",
              "    }\n",
              "\n",
              "    .colab-df-convert:hover {\n",
              "      background-color: #E2EBFA;\n",
              "      box-shadow: 0px 1px 2px rgba(60, 64, 67, 0.3), 0px 1px 3px 1px rgba(60, 64, 67, 0.15);\n",
              "      fill: #174EA6;\n",
              "    }\n",
              "\n",
              "    .colab-df-buttons div {\n",
              "      margin-bottom: 4px;\n",
              "    }\n",
              "\n",
              "    [theme=dark] .colab-df-convert {\n",
              "      background-color: #3B4455;\n",
              "      fill: #D2E3FC;\n",
              "    }\n",
              "\n",
              "    [theme=dark] .colab-df-convert:hover {\n",
              "      background-color: #434B5C;\n",
              "      box-shadow: 0px 1px 3px 1px rgba(0, 0, 0, 0.15);\n",
              "      filter: drop-shadow(0px 1px 2px rgba(0, 0, 0, 0.3));\n",
              "      fill: #FFFFFF;\n",
              "    }\n",
              "  </style>\n",
              "\n",
              "    <script>\n",
              "      const buttonEl =\n",
              "        document.querySelector('#df-6c0d85a3-1fa6-4b9f-828a-8cd6b897f342 button.colab-df-convert');\n",
              "      buttonEl.style.display =\n",
              "        google.colab.kernel.accessAllowed ? 'block' : 'none';\n",
              "\n",
              "      async function convertToInteractive(key) {\n",
              "        const element = document.querySelector('#df-6c0d85a3-1fa6-4b9f-828a-8cd6b897f342');\n",
              "        const dataTable =\n",
              "          await google.colab.kernel.invokeFunction('convertToInteractive',\n",
              "                                                    [key], {});\n",
              "        if (!dataTable) return;\n",
              "\n",
              "        const docLinkHtml = 'Like what you see? Visit the ' +\n",
              "          '<a target=\"_blank\" href=https://colab.research.google.com/notebooks/data_table.ipynb>data table notebook</a>'\n",
              "          + ' to learn more about interactive tables.';\n",
              "        element.innerHTML = '';\n",
              "        dataTable['output_type'] = 'display_data';\n",
              "        await google.colab.output.renderOutput(dataTable, element);\n",
              "        const docLink = document.createElement('div');\n",
              "        docLink.innerHTML = docLinkHtml;\n",
              "        element.appendChild(docLink);\n",
              "      }\n",
              "    </script>\n",
              "  </div>\n",
              "\n",
              "\n",
              "<div id=\"df-b4550ba9-5eb9-4f1c-82e3-6a60c846757b\">\n",
              "  <button class=\"colab-df-quickchart\" onclick=\"quickchart('df-b4550ba9-5eb9-4f1c-82e3-6a60c846757b')\"\n",
              "            title=\"Suggest charts\"\n",
              "            style=\"display:none;\">\n",
              "\n",
              "<svg xmlns=\"http://www.w3.org/2000/svg\" height=\"24px\"viewBox=\"0 0 24 24\"\n",
              "     width=\"24px\">\n",
              "    <g>\n",
              "        <path d=\"M19 3H5c-1.1 0-2 .9-2 2v14c0 1.1.9 2 2 2h14c1.1 0 2-.9 2-2V5c0-1.1-.9-2-2-2zM9 17H7v-7h2v7zm4 0h-2V7h2v10zm4 0h-2v-4h2v4z\"/>\n",
              "    </g>\n",
              "</svg>\n",
              "  </button>\n",
              "\n",
              "<style>\n",
              "  .colab-df-quickchart {\n",
              "      --bg-color: #E8F0FE;\n",
              "      --fill-color: #1967D2;\n",
              "      --hover-bg-color: #E2EBFA;\n",
              "      --hover-fill-color: #174EA6;\n",
              "      --disabled-fill-color: #AAA;\n",
              "      --disabled-bg-color: #DDD;\n",
              "  }\n",
              "\n",
              "  [theme=dark] .colab-df-quickchart {\n",
              "      --bg-color: #3B4455;\n",
              "      --fill-color: #D2E3FC;\n",
              "      --hover-bg-color: #434B5C;\n",
              "      --hover-fill-color: #FFFFFF;\n",
              "      --disabled-bg-color: #3B4455;\n",
              "      --disabled-fill-color: #666;\n",
              "  }\n",
              "\n",
              "  .colab-df-quickchart {\n",
              "    background-color: var(--bg-color);\n",
              "    border: none;\n",
              "    border-radius: 50%;\n",
              "    cursor: pointer;\n",
              "    display: none;\n",
              "    fill: var(--fill-color);\n",
              "    height: 32px;\n",
              "    padding: 0;\n",
              "    width: 32px;\n",
              "  }\n",
              "\n",
              "  .colab-df-quickchart:hover {\n",
              "    background-color: var(--hover-bg-color);\n",
              "    box-shadow: 0 1px 2px rgba(60, 64, 67, 0.3), 0 1px 3px 1px rgba(60, 64, 67, 0.15);\n",
              "    fill: var(--button-hover-fill-color);\n",
              "  }\n",
              "\n",
              "  .colab-df-quickchart-complete:disabled,\n",
              "  .colab-df-quickchart-complete:disabled:hover {\n",
              "    background-color: var(--disabled-bg-color);\n",
              "    fill: var(--disabled-fill-color);\n",
              "    box-shadow: none;\n",
              "  }\n",
              "\n",
              "  .colab-df-spinner {\n",
              "    border: 2px solid var(--fill-color);\n",
              "    border-color: transparent;\n",
              "    border-bottom-color: var(--fill-color);\n",
              "    animation:\n",
              "      spin 1s steps(1) infinite;\n",
              "  }\n",
              "\n",
              "  @keyframes spin {\n",
              "    0% {\n",
              "      border-color: transparent;\n",
              "      border-bottom-color: var(--fill-color);\n",
              "      border-left-color: var(--fill-color);\n",
              "    }\n",
              "    20% {\n",
              "      border-color: transparent;\n",
              "      border-left-color: var(--fill-color);\n",
              "      border-top-color: var(--fill-color);\n",
              "    }\n",
              "    30% {\n",
              "      border-color: transparent;\n",
              "      border-left-color: var(--fill-color);\n",
              "      border-top-color: var(--fill-color);\n",
              "      border-right-color: var(--fill-color);\n",
              "    }\n",
              "    40% {\n",
              "      border-color: transparent;\n",
              "      border-right-color: var(--fill-color);\n",
              "      border-top-color: var(--fill-color);\n",
              "    }\n",
              "    60% {\n",
              "      border-color: transparent;\n",
              "      border-right-color: var(--fill-color);\n",
              "    }\n",
              "    80% {\n",
              "      border-color: transparent;\n",
              "      border-right-color: var(--fill-color);\n",
              "      border-bottom-color: var(--fill-color);\n",
              "    }\n",
              "    90% {\n",
              "      border-color: transparent;\n",
              "      border-bottom-color: var(--fill-color);\n",
              "    }\n",
              "  }\n",
              "</style>\n",
              "\n",
              "  <script>\n",
              "    async function quickchart(key) {\n",
              "      const quickchartButtonEl =\n",
              "        document.querySelector('#' + key + ' button');\n",
              "      quickchartButtonEl.disabled = true;  // To prevent multiple clicks.\n",
              "      quickchartButtonEl.classList.add('colab-df-spinner');\n",
              "      try {\n",
              "        const charts = await google.colab.kernel.invokeFunction(\n",
              "            'suggestCharts', [key], {});\n",
              "      } catch (error) {\n",
              "        console.error('Error during call to suggestCharts:', error);\n",
              "      }\n",
              "      quickchartButtonEl.classList.remove('colab-df-spinner');\n",
              "      quickchartButtonEl.classList.add('colab-df-quickchart-complete');\n",
              "    }\n",
              "    (() => {\n",
              "      let quickchartButtonEl =\n",
              "        document.querySelector('#df-b4550ba9-5eb9-4f1c-82e3-6a60c846757b button');\n",
              "      quickchartButtonEl.style.display =\n",
              "        google.colab.kernel.accessAllowed ? 'block' : 'none';\n",
              "    })();\n",
              "  </script>\n",
              "</div>\n",
              "\n",
              "    </div>\n",
              "  </div>\n"
            ],
            "application/vnd.google.colaboratory.intrinsic+json": {
              "type": "dataframe",
              "variable_name": "df",
              "summary": "{\n  \"name\": \"df\",\n  \"rows\": 30,\n  \"fields\": [\n    {\n      \"column\": \"nozzle\",\n      \"properties\": {\n        \"dtype\": \"number\",\n        \"std\": 1,\n        \"min\": 1,\n        \"max\": 5,\n        \"num_unique_values\": 5,\n        \"samples\": [\n          2,\n          5,\n          3\n        ],\n        \"semantic_type\": \"\",\n        \"description\": \"\"\n      }\n    },\n    {\n      \"column\": \"shape\",\n      \"properties\": {\n        \"dtype\": \"number\",\n        \"std\": 0.0875621290101012,\n        \"min\": 0.75,\n        \"max\": 1.14,\n        \"num_unique_values\": 17,\n        \"samples\": [\n          0.78,\n          0.8,\n          0.85\n        ],\n        \"semantic_type\": \"\",\n        \"description\": \"\"\n      }\n    }\n  ]\n}"
            }
          },
          "metadata": {},
          "execution_count": 14
        }
      ]
    },
    {
      "cell_type": "code",
      "execution_count": null,
      "id": "0f9651d8",
      "metadata": {
        "id": "0f9651d8"
      },
      "outputs": [],
      "source": []
    },
    {
      "cell_type": "markdown",
      "id": "cb9399e6",
      "metadata": {
        "id": "cb9399e6"
      },
      "source": [
        "#### 3d) Two catalysts are being analyzed to determine how they affect the mean yield of a chemical process. Specifically, catalysts 1 is currently in use, but catalyst 2 is acceptable. Since catalyst is cheaper, it should be adopted, providing it does not change the process yield. A test is run in the pilot plant and results in the data shown table. Is there any difference in mean yields for an α =.05 and assume equal variances\n",
        "\n",
        "```\n",
        "Number\t     1\t     2\t   3\t   4\t    5\t    6\t    7\t   8\n",
        "Catlayst1\t91.50\t94.18\t92.18\t95.39\t91.79\t89.07\t94.72   89.21\n",
        "Catalyst2\t89.19\t90.95\t90.46\t93.21\t97.19\t97.04\t91.07   92.75\n",
        "\n",
        "```\n",
        "\n",
        "- i)\tState the hypothesis and type of test to be used                    2 marks\n",
        "- ii)\tTest the hypothesis and conclude                                    4 marks"
      ]
    },
    {
      "cell_type": "markdown",
      "source": [
        "### i) Hypothesis and Test\n",
        "\n",
        "- **Null Hypothesis (H₀)**: There is no significant difference in the mean yield between Catalyst 1 and Catalyst 2.\n",
        "\n",
        "- **Alternative Hypothesis (H₁)**: There is a significant difference in the mean yield between Catalyst 1 and Catalyst 2.\n",
        "\n",
        "Test: Two-sample t-test (assuming equal variances)"
      ],
      "metadata": {
        "id": "KUVcFSNejbvW"
      },
      "id": "KUVcFSNejbvW"
    },
    {
      "cell_type": "code",
      "execution_count": 15,
      "id": "0caa1167",
      "metadata": {
        "id": "0caa1167",
        "outputId": "b6103adb-90a1-4ef9-ac46-3c38f76b047f",
        "colab": {
          "base_uri": "https://localhost:8080/"
        }
      },
      "outputs": [
        {
          "output_type": "stream",
          "name": "stdout",
          "text": [
            "t-statistic: -0.35359086434617987\n",
            "p-value: 0.7289136186068217\n",
            "Fail to reject the null hypothesis. There is no significant difference in mean yields between the two catalysts.\n"
          ]
        }
      ],
      "source": [
        "import pandas as pd\n",
        "import scipy.stats as stats\n",
        "\n",
        "# Sample data (replace with your actual data)\n",
        "data = {\n",
        "    'Catalyst': ['Catalyst1', 'Catalyst1', 'Catalyst1', 'Catalyst1', 'Catalyst1', 'Catalyst1', 'Catalyst1', 'Catalyst1',\n",
        "                 'Catalyst2', 'Catalyst2', 'Catalyst2', 'Catalyst2', 'Catalyst2', 'Catalyst2', 'Catalyst2', 'Catalyst2'],\n",
        "    'Yield': [91.50, 94.18, 92.18, 95.39, 91.79, 89.07, 94.72, 89.21,\n",
        "              89.19, 90.95, 90.46, 93.21, 97.19, 97.04, 91.07, 92.75]\n",
        "}\n",
        "\n",
        "# Create a DataFrame\n",
        "df = pd.DataFrame(data)\n",
        "\n",
        "# Perform two-sample t-test\n",
        "t_statistic, p_value = stats.ttest_ind(df['Yield'][df['Catalyst'] == 'Catalyst1'],\n",
        "                                     df['Yield'][df['Catalyst'] == 'Catalyst2'],\n",
        "                                     equal_var=True)\n",
        "\n",
        "print(\"t-statistic:\", t_statistic)\n",
        "print(\"p-value:\", p_value)\n",
        "\n",
        "# Set significance level (alpha)\n",
        "alpha = 0.05\n",
        "\n",
        "# Compare p-value with alpha\n",
        "if p_value < alpha:\n",
        "    print(\"Reject the null hypothesis. There is a significant difference in mean yields between the two catalysts.\")\n",
        "else:\n",
        "    print(\"Fail to reject the null hypothesis. There is no significant difference in mean yields between the two catalysts.\")"
      ]
    },
    {
      "cell_type": "code",
      "execution_count": null,
      "id": "4fe59ee2",
      "metadata": {
        "id": "4fe59ee2"
      },
      "outputs": [],
      "source": []
    },
    {
      "cell_type": "code",
      "execution_count": null,
      "id": "3b0ad95c",
      "metadata": {
        "id": "3b0ad95c"
      },
      "outputs": [],
      "source": []
    },
    {
      "cell_type": "code",
      "execution_count": null,
      "id": "6129929b",
      "metadata": {
        "id": "6129929b"
      },
      "outputs": [],
      "source": []
    },
    {
      "cell_type": "markdown",
      "id": "0edb18fe",
      "metadata": {
        "id": "0edb18fe"
      },
      "source": [
        "#### 3e) The amount of water consumed each day by a healthy adult follows a normal distribution with a mean of 1.52 liters, standard deviation of .18. A sample of 40 adults water consumption in liters is taken and it has a mean of 1.76 liters.Test whether any increase in the consumption of water?\n",
        "\n",
        "- (i) State the null hypothesis and the alternate hypothesis. (1 mark)\n",
        "- (ii) Which test is to be performed. (1 mark)\n",
        "- (iii) Compute test statistics, pvalue. (3 marks)\n",
        "- (iv) At the 0.05 significance level, can we conclude that water consumption has increased? (1 mark)\n"
      ]
    },
    {
      "cell_type": "code",
      "execution_count": null,
      "id": "08d7da57",
      "metadata": {
        "id": "08d7da57"
      },
      "outputs": [],
      "source": []
    },
    {
      "cell_type": "markdown",
      "source": [
        "#### i) State the null hypothesis and the alternate hypothesis (1 mark)\n",
        "- **Null Hypothesis (H₀)**: There is no increase in the mean water consumption of healthy adults.\n",
        "\n",
        "- **Alternate Hypothesis (H₁)**: There is an increase in the mean water consumption of healthy adults.\n",
        "\n",
        "#### ii) Which test is to be performed (1 mark)\n",
        "We will perform a one-sample t-test to compare the sample mean to the population mean."
      ],
      "metadata": {
        "id": "CNiSU0GTj0xT"
      },
      "id": "CNiSU0GTj0xT"
    },
    {
      "cell_type": "code",
      "execution_count": 16,
      "id": "340c507d",
      "metadata": {
        "id": "340c507d",
        "outputId": "86bf9ab3-5904-40cc-da86-a3bc36014406",
        "colab": {
          "base_uri": "https://localhost:8080/"
        }
      },
      "outputs": [
        {
          "output_type": "stream",
          "name": "stdout",
          "text": [
            "One-sample t-test: t-statistic=8.4327, p-value=0.0000\n"
          ]
        }
      ],
      "source": [
        "# Given parameters\n",
        "population_mean = 1.52\n",
        "sample_mean = 1.76\n",
        "std_dev = 0.18\n",
        "sample_size = 40\n",
        "\n",
        "# Calculate the standard error\n",
        "standard_error = std_dev / (sample_size ** 0.5)\n",
        "\n",
        "# Perform one-sample t-test\n",
        "t_stat = (sample_mean - population_mean) / standard_error\n",
        "p_value = stats.t.sf(t_stat, df=sample_size-1)  # One-tailed test\n",
        "\n",
        "print(f'One-sample t-test: t-statistic={t_stat:.4f}, p-value={p_value:.4f}')"
      ]
    },
    {
      "cell_type": "code",
      "execution_count": 17,
      "id": "dd1d30c9",
      "metadata": {
        "id": "dd1d30c9",
        "outputId": "50a44b1f-d528-4852-a088-0c4a417ab6e6",
        "colab": {
          "base_uri": "https://localhost:8080/"
        }
      },
      "outputs": [
        {
          "output_type": "stream",
          "name": "stdout",
          "text": [
            "Z-statistic: 8.432740427115679\n",
            "P-value: 1.6883155939436834e-17\n",
            "Reject the null hypothesis. There is strong evidence that the mean water consumption has increased.\n"
          ]
        }
      ],
      "source": [
        "\n",
        "# Given data\n",
        "mu = 1.52\n",
        "sigma = 0.18\n",
        "n = 40\n",
        "x_bar = 1.76\n",
        "alpha = 0.05\n",
        "\n",
        "# Calculate the test statistic\n",
        "z = (x_bar - mu) / (sigma / n**0.5)\n",
        "\n",
        "# Calculate the p-value\n",
        "p_value = stats.norm.sf(z)\n",
        "\n",
        "print(\"Z-statistic:\", z)\n",
        "print(\"P-value:\", p_value)\n",
        "\n",
        "# Compare p-value with alpha\n",
        "if p_value < alpha:\n",
        "    print(\"Reject the null hypothesis. There is strong evidence that the mean water consumption has increased.\")\n",
        "else:\n",
        "    print(\"Fail to reject the null hypothesis. There is not enough evidence to conclude that the mean water consumption has increased.\")"
      ]
    },
    {
      "cell_type": "code",
      "execution_count": null,
      "id": "dcbd28de",
      "metadata": {
        "id": "dcbd28de"
      },
      "outputs": [],
      "source": []
    },
    {
      "cell_type": "markdown",
      "id": "cac006bb",
      "metadata": {
        "id": "cac006bb"
      },
      "source": [
        "### 4a) Consider the purchases.csv file and answer the following questions\n"
      ]
    },
    {
      "cell_type": "code",
      "execution_count": 20,
      "id": "e0fb9888",
      "metadata": {
        "id": "e0fb9888",
        "outputId": "c283ab76-a29c-4afc-9b22-d17ef73826b3",
        "colab": {
          "base_uri": "https://localhost:8080/",
          "height": 278
        }
      },
      "outputs": [
        {
          "output_type": "execute_result",
          "data": {
            "text/plain": [
              "          Products  Prod_id    Cust_id      Sales  Order_Quan   Profit  \\\n",
              "0  COPIERS AND FAX  Prod_16  Cust_1088  10909.641          40  2616.46   \n",
              "1  COPIERS AND FAX  Prod_16  Cust_1820  10607.641          27  2977.36   \n",
              "2            PAPER   Prod_6  Cust_1659    754.641          13    29.80   \n",
              "3            PAPER   Prod_6   Cust_622    572.641          22    92.78   \n",
              "4  OFFICE MACHINES  Prod_17   Cust_564  10128.641          50  5133.68   \n",
              "\n",
              "   Shipping_Cost  Product_Base_Margin Customer_Segment  \n",
              "0          22.00                 0.57      HOME OFFICE  \n",
              "1          23.69                 0.56        CORPORATE  \n",
              "2           8.90                 0.37   SMALL BUSINESS  \n",
              "3          10.99                 0.39   SMALL BUSINESS  \n",
              "4          20.50                 0.36   SMALL BUSINESS  "
            ],
            "text/html": [
              "\n",
              "  <div id=\"df-46366106-e09d-4b6a-9d5f-ef3a8c58aace\" class=\"colab-df-container\">\n",
              "    <div>\n",
              "<style scoped>\n",
              "    .dataframe tbody tr th:only-of-type {\n",
              "        vertical-align: middle;\n",
              "    }\n",
              "\n",
              "    .dataframe tbody tr th {\n",
              "        vertical-align: top;\n",
              "    }\n",
              "\n",
              "    .dataframe thead th {\n",
              "        text-align: right;\n",
              "    }\n",
              "</style>\n",
              "<table border=\"1\" class=\"dataframe\">\n",
              "  <thead>\n",
              "    <tr style=\"text-align: right;\">\n",
              "      <th></th>\n",
              "      <th>Products</th>\n",
              "      <th>Prod_id</th>\n",
              "      <th>Cust_id</th>\n",
              "      <th>Sales</th>\n",
              "      <th>Order_Quan</th>\n",
              "      <th>Profit</th>\n",
              "      <th>Shipping_Cost</th>\n",
              "      <th>Product_Base_Margin</th>\n",
              "      <th>Customer_Segment</th>\n",
              "    </tr>\n",
              "  </thead>\n",
              "  <tbody>\n",
              "    <tr>\n",
              "      <th>0</th>\n",
              "      <td>COPIERS AND FAX</td>\n",
              "      <td>Prod_16</td>\n",
              "      <td>Cust_1088</td>\n",
              "      <td>10909.641</td>\n",
              "      <td>40</td>\n",
              "      <td>2616.46</td>\n",
              "      <td>22.00</td>\n",
              "      <td>0.57</td>\n",
              "      <td>HOME OFFICE</td>\n",
              "    </tr>\n",
              "    <tr>\n",
              "      <th>1</th>\n",
              "      <td>COPIERS AND FAX</td>\n",
              "      <td>Prod_16</td>\n",
              "      <td>Cust_1820</td>\n",
              "      <td>10607.641</td>\n",
              "      <td>27</td>\n",
              "      <td>2977.36</td>\n",
              "      <td>23.69</td>\n",
              "      <td>0.56</td>\n",
              "      <td>CORPORATE</td>\n",
              "    </tr>\n",
              "    <tr>\n",
              "      <th>2</th>\n",
              "      <td>PAPER</td>\n",
              "      <td>Prod_6</td>\n",
              "      <td>Cust_1659</td>\n",
              "      <td>754.641</td>\n",
              "      <td>13</td>\n",
              "      <td>29.80</td>\n",
              "      <td>8.90</td>\n",
              "      <td>0.37</td>\n",
              "      <td>SMALL BUSINESS</td>\n",
              "    </tr>\n",
              "    <tr>\n",
              "      <th>3</th>\n",
              "      <td>PAPER</td>\n",
              "      <td>Prod_6</td>\n",
              "      <td>Cust_622</td>\n",
              "      <td>572.641</td>\n",
              "      <td>22</td>\n",
              "      <td>92.78</td>\n",
              "      <td>10.99</td>\n",
              "      <td>0.39</td>\n",
              "      <td>SMALL BUSINESS</td>\n",
              "    </tr>\n",
              "    <tr>\n",
              "      <th>4</th>\n",
              "      <td>OFFICE MACHINES</td>\n",
              "      <td>Prod_17</td>\n",
              "      <td>Cust_564</td>\n",
              "      <td>10128.641</td>\n",
              "      <td>50</td>\n",
              "      <td>5133.68</td>\n",
              "      <td>20.50</td>\n",
              "      <td>0.36</td>\n",
              "      <td>SMALL BUSINESS</td>\n",
              "    </tr>\n",
              "  </tbody>\n",
              "</table>\n",
              "</div>\n",
              "    <div class=\"colab-df-buttons\">\n",
              "\n",
              "  <div class=\"colab-df-container\">\n",
              "    <button class=\"colab-df-convert\" onclick=\"convertToInteractive('df-46366106-e09d-4b6a-9d5f-ef3a8c58aace')\"\n",
              "            title=\"Convert this dataframe to an interactive table.\"\n",
              "            style=\"display:none;\">\n",
              "\n",
              "  <svg xmlns=\"http://www.w3.org/2000/svg\" height=\"24px\" viewBox=\"0 -960 960 960\">\n",
              "    <path d=\"M120-120v-720h720v720H120Zm60-500h600v-160H180v160Zm220 220h160v-160H400v160Zm0 220h160v-160H400v160ZM180-400h160v-160H180v160Zm440 0h160v-160H620v160ZM180-180h160v-160H180v160Zm440 0h160v-160H620v160Z\"/>\n",
              "  </svg>\n",
              "    </button>\n",
              "\n",
              "  <style>\n",
              "    .colab-df-container {\n",
              "      display:flex;\n",
              "      gap: 12px;\n",
              "    }\n",
              "\n",
              "    .colab-df-convert {\n",
              "      background-color: #E8F0FE;\n",
              "      border: none;\n",
              "      border-radius: 50%;\n",
              "      cursor: pointer;\n",
              "      display: none;\n",
              "      fill: #1967D2;\n",
              "      height: 32px;\n",
              "      padding: 0 0 0 0;\n",
              "      width: 32px;\n",
              "    }\n",
              "\n",
              "    .colab-df-convert:hover {\n",
              "      background-color: #E2EBFA;\n",
              "      box-shadow: 0px 1px 2px rgba(60, 64, 67, 0.3), 0px 1px 3px 1px rgba(60, 64, 67, 0.15);\n",
              "      fill: #174EA6;\n",
              "    }\n",
              "\n",
              "    .colab-df-buttons div {\n",
              "      margin-bottom: 4px;\n",
              "    }\n",
              "\n",
              "    [theme=dark] .colab-df-convert {\n",
              "      background-color: #3B4455;\n",
              "      fill: #D2E3FC;\n",
              "    }\n",
              "\n",
              "    [theme=dark] .colab-df-convert:hover {\n",
              "      background-color: #434B5C;\n",
              "      box-shadow: 0px 1px 3px 1px rgba(0, 0, 0, 0.15);\n",
              "      filter: drop-shadow(0px 1px 2px rgba(0, 0, 0, 0.3));\n",
              "      fill: #FFFFFF;\n",
              "    }\n",
              "  </style>\n",
              "\n",
              "    <script>\n",
              "      const buttonEl =\n",
              "        document.querySelector('#df-46366106-e09d-4b6a-9d5f-ef3a8c58aace button.colab-df-convert');\n",
              "      buttonEl.style.display =\n",
              "        google.colab.kernel.accessAllowed ? 'block' : 'none';\n",
              "\n",
              "      async function convertToInteractive(key) {\n",
              "        const element = document.querySelector('#df-46366106-e09d-4b6a-9d5f-ef3a8c58aace');\n",
              "        const dataTable =\n",
              "          await google.colab.kernel.invokeFunction('convertToInteractive',\n",
              "                                                    [key], {});\n",
              "        if (!dataTable) return;\n",
              "\n",
              "        const docLinkHtml = 'Like what you see? Visit the ' +\n",
              "          '<a target=\"_blank\" href=https://colab.research.google.com/notebooks/data_table.ipynb>data table notebook</a>'\n",
              "          + ' to learn more about interactive tables.';\n",
              "        element.innerHTML = '';\n",
              "        dataTable['output_type'] = 'display_data';\n",
              "        await google.colab.output.renderOutput(dataTable, element);\n",
              "        const docLink = document.createElement('div');\n",
              "        docLink.innerHTML = docLinkHtml;\n",
              "        element.appendChild(docLink);\n",
              "      }\n",
              "    </script>\n",
              "  </div>\n",
              "\n",
              "\n",
              "<div id=\"df-11ad4b5f-14a6-40ba-bc2e-1e5d61193a7b\">\n",
              "  <button class=\"colab-df-quickchart\" onclick=\"quickchart('df-11ad4b5f-14a6-40ba-bc2e-1e5d61193a7b')\"\n",
              "            title=\"Suggest charts\"\n",
              "            style=\"display:none;\">\n",
              "\n",
              "<svg xmlns=\"http://www.w3.org/2000/svg\" height=\"24px\"viewBox=\"0 0 24 24\"\n",
              "     width=\"24px\">\n",
              "    <g>\n",
              "        <path d=\"M19 3H5c-1.1 0-2 .9-2 2v14c0 1.1.9 2 2 2h14c1.1 0 2-.9 2-2V5c0-1.1-.9-2-2-2zM9 17H7v-7h2v7zm4 0h-2V7h2v10zm4 0h-2v-4h2v4z\"/>\n",
              "    </g>\n",
              "</svg>\n",
              "  </button>\n",
              "\n",
              "<style>\n",
              "  .colab-df-quickchart {\n",
              "      --bg-color: #E8F0FE;\n",
              "      --fill-color: #1967D2;\n",
              "      --hover-bg-color: #E2EBFA;\n",
              "      --hover-fill-color: #174EA6;\n",
              "      --disabled-fill-color: #AAA;\n",
              "      --disabled-bg-color: #DDD;\n",
              "  }\n",
              "\n",
              "  [theme=dark] .colab-df-quickchart {\n",
              "      --bg-color: #3B4455;\n",
              "      --fill-color: #D2E3FC;\n",
              "      --hover-bg-color: #434B5C;\n",
              "      --hover-fill-color: #FFFFFF;\n",
              "      --disabled-bg-color: #3B4455;\n",
              "      --disabled-fill-color: #666;\n",
              "  }\n",
              "\n",
              "  .colab-df-quickchart {\n",
              "    background-color: var(--bg-color);\n",
              "    border: none;\n",
              "    border-radius: 50%;\n",
              "    cursor: pointer;\n",
              "    display: none;\n",
              "    fill: var(--fill-color);\n",
              "    height: 32px;\n",
              "    padding: 0;\n",
              "    width: 32px;\n",
              "  }\n",
              "\n",
              "  .colab-df-quickchart:hover {\n",
              "    background-color: var(--hover-bg-color);\n",
              "    box-shadow: 0 1px 2px rgba(60, 64, 67, 0.3), 0 1px 3px 1px rgba(60, 64, 67, 0.15);\n",
              "    fill: var(--button-hover-fill-color);\n",
              "  }\n",
              "\n",
              "  .colab-df-quickchart-complete:disabled,\n",
              "  .colab-df-quickchart-complete:disabled:hover {\n",
              "    background-color: var(--disabled-bg-color);\n",
              "    fill: var(--disabled-fill-color);\n",
              "    box-shadow: none;\n",
              "  }\n",
              "\n",
              "  .colab-df-spinner {\n",
              "    border: 2px solid var(--fill-color);\n",
              "    border-color: transparent;\n",
              "    border-bottom-color: var(--fill-color);\n",
              "    animation:\n",
              "      spin 1s steps(1) infinite;\n",
              "  }\n",
              "\n",
              "  @keyframes spin {\n",
              "    0% {\n",
              "      border-color: transparent;\n",
              "      border-bottom-color: var(--fill-color);\n",
              "      border-left-color: var(--fill-color);\n",
              "    }\n",
              "    20% {\n",
              "      border-color: transparent;\n",
              "      border-left-color: var(--fill-color);\n",
              "      border-top-color: var(--fill-color);\n",
              "    }\n",
              "    30% {\n",
              "      border-color: transparent;\n",
              "      border-left-color: var(--fill-color);\n",
              "      border-top-color: var(--fill-color);\n",
              "      border-right-color: var(--fill-color);\n",
              "    }\n",
              "    40% {\n",
              "      border-color: transparent;\n",
              "      border-right-color: var(--fill-color);\n",
              "      border-top-color: var(--fill-color);\n",
              "    }\n",
              "    60% {\n",
              "      border-color: transparent;\n",
              "      border-right-color: var(--fill-color);\n",
              "    }\n",
              "    80% {\n",
              "      border-color: transparent;\n",
              "      border-right-color: var(--fill-color);\n",
              "      border-bottom-color: var(--fill-color);\n",
              "    }\n",
              "    90% {\n",
              "      border-color: transparent;\n",
              "      border-bottom-color: var(--fill-color);\n",
              "    }\n",
              "  }\n",
              "</style>\n",
              "\n",
              "  <script>\n",
              "    async function quickchart(key) {\n",
              "      const quickchartButtonEl =\n",
              "        document.querySelector('#' + key + ' button');\n",
              "      quickchartButtonEl.disabled = true;  // To prevent multiple clicks.\n",
              "      quickchartButtonEl.classList.add('colab-df-spinner');\n",
              "      try {\n",
              "        const charts = await google.colab.kernel.invokeFunction(\n",
              "            'suggestCharts', [key], {});\n",
              "      } catch (error) {\n",
              "        console.error('Error during call to suggestCharts:', error);\n",
              "      }\n",
              "      quickchartButtonEl.classList.remove('colab-df-spinner');\n",
              "      quickchartButtonEl.classList.add('colab-df-quickchart-complete');\n",
              "    }\n",
              "    (() => {\n",
              "      let quickchartButtonEl =\n",
              "        document.querySelector('#df-11ad4b5f-14a6-40ba-bc2e-1e5d61193a7b button');\n",
              "      quickchartButtonEl.style.display =\n",
              "        google.colab.kernel.accessAllowed ? 'block' : 'none';\n",
              "    })();\n",
              "  </script>\n",
              "</div>\n",
              "\n",
              "    </div>\n",
              "  </div>\n"
            ],
            "application/vnd.google.colaboratory.intrinsic+json": {
              "type": "dataframe",
              "variable_name": "df",
              "summary": "{\n  \"name\": \"df\",\n  \"rows\": 5977,\n  \"fields\": [\n    {\n      \"column\": \"Products\",\n      \"properties\": {\n        \"dtype\": \"category\",\n        \"num_unique_values\": 12,\n        \"samples\": [\n          \"AIR CONDITIONER\",\n          \"PENS & ART SUPPLIES\",\n          \"COPIERS AND FAX\"\n        ],\n        \"semantic_type\": \"\",\n        \"description\": \"\"\n      }\n    },\n    {\n      \"column\": \"Prod_id\",\n      \"properties\": {\n        \"dtype\": \"category\",\n        \"num_unique_values\": 12,\n        \"samples\": [\n          \"Prod_11\",\n          \"Prod_13\",\n          \"Prod_16\"\n        ],\n        \"semantic_type\": \"\",\n        \"description\": \"\"\n      }\n    },\n    {\n      \"column\": \"Cust_id\",\n      \"properties\": {\n        \"dtype\": \"category\",\n        \"num_unique_values\": 1674,\n        \"samples\": [\n          \"Cust_263\",\n          \"Cust_966\",\n          \"Cust_1774\"\n        ],\n        \"semantic_type\": \"\",\n        \"description\": \"\"\n      }\n    },\n    {\n      \"column\": \"Sales\",\n      \"properties\": {\n        \"dtype\": \"number\",\n        \"std\": 7461.09350179773,\n        \"min\": 3.42,\n        \"max\": 45923.76,\n        \"num_unique_values\": 1949,\n        \"samples\": [\n          227.5,\n          4042.96,\n          185.61\n        ],\n        \"semantic_type\": \"\",\n        \"description\": \"\"\n      }\n    },\n    {\n      \"column\": \"Order_Quan\",\n      \"properties\": {\n        \"dtype\": \"number\",\n        \"std\": 14,\n        \"min\": 1,\n        \"max\": 58,\n        \"num_unique_values\": 58,\n        \"samples\": [\n          40,\n          54,\n          30\n        ],\n        \"semantic_type\": \"\",\n        \"description\": \"\"\n      }\n    },\n    {\n      \"column\": \"Profit\",\n      \"properties\": {\n        \"dtype\": \"number\",\n        \"std\": 2701.386492559955,\n        \"min\": -14140.7,\n        \"max\": 14440.39,\n        \"num_unique_values\": 2025,\n        \"samples\": [\n          1021.07,\n          -24.96,\n          3203.85\n        ],\n        \"semantic_type\": \"\",\n        \"description\": \"\"\n      }\n    },\n    {\n      \"column\": \"Shipping_Cost\",\n      \"properties\": {\n        \"dtype\": \"number\",\n        \"std\": 15.420363426747025,\n        \"min\": 0.49,\n        \"max\": 164.73,\n        \"num_unique_values\": 540,\n        \"samples\": [\n          1.35,\n          19.63,\n          60.19\n        ],\n        \"semantic_type\": \"\",\n        \"description\": \"\"\n      }\n    },\n    {\n      \"column\": \"Product_Base_Margin\",\n      \"properties\": {\n        \"dtype\": \"number\",\n        \"std\": 0.16582683827888017,\n        \"min\": 0.35,\n        \"max\": 6.98,\n        \"num_unique_values\": 54,\n        \"samples\": [\n          0.42,\n          0.7,\n          0.61\n        ],\n        \"semantic_type\": \"\",\n        \"description\": \"\"\n      }\n    },\n    {\n      \"column\": \"Customer_Segment\",\n      \"properties\": {\n        \"dtype\": \"category\",\n        \"num_unique_values\": 3,\n        \"samples\": [\n          \"HOME OFFICE\",\n          \"CORPORATE\",\n          \"SMALL BUSINESS\"\n        ],\n        \"semantic_type\": \"\",\n        \"description\": \"\"\n      }\n    }\n  ]\n}"
            }
          },
          "metadata": {},
          "execution_count": 20
        }
      ],
      "source": [
        "df = pd.read_csv('purchase.csv')\n",
        "# display first five observations using head()\n",
        "df.head()"
      ]
    },
    {
      "cell_type": "markdown",
      "id": "1f8f5bbb",
      "metadata": {
        "id": "1f8f5bbb"
      },
      "source": [
        "### 4a.i)Provide a summary statistics of all the variables, with respect to sales which variables have high correlation (more than .55), moderate (.4-.55) and low correlation. - 3marks\n",
        "\n"
      ]
    },
    {
      "cell_type": "code",
      "execution_count": 29,
      "id": "b6ffd8fb",
      "metadata": {
        "id": "b6ffd8fb",
        "outputId": "61ffd046-7a7d-4d7b-de78-fa2a12ccd1fe",
        "colab": {
          "base_uri": "https://localhost:8080/",
          "height": 704
        }
      },
      "outputs": [
        {
          "output_type": "stream",
          "name": "stdout",
          "text": [
            "              Sales   Order_Quan        Profit  Shipping_Cost  \\\n",
            "count   5977.000000  5977.000000   5977.000000    5977.000000   \n",
            "mean    5269.333126    27.657019   1148.646120      15.181052   \n",
            "std     7461.093502    14.373769   2701.386493      15.420363   \n",
            "min        3.420000     1.000000 -14140.700000       0.490000   \n",
            "25%      151.750000    16.000000    -35.980000       4.750000   \n",
            "50%     1311.680000    28.000000     40.320000      10.290000   \n",
            "75%     8315.641000    40.000000   2509.810000      21.990000   \n",
            "max    45923.760000    58.000000  14440.390000     164.730000   \n",
            "\n",
            "       Product_Base_Margin  \n",
            "count          5977.000000  \n",
            "mean              0.493346  \n",
            "std               0.165827  \n",
            "min               0.350000  \n",
            "25%               0.370000  \n",
            "50%               0.400000  \n",
            "75%               0.580000  \n",
            "max               6.980000  \n"
          ]
        },
        {
          "output_type": "error",
          "ename": "ValueError",
          "evalue": "could not convert string to float: 'COPIERS AND FAX'",
          "traceback": [
            "\u001b[0;31m---------------------------------------------------------------------------\u001b[0m",
            "\u001b[0;31mValueError\u001b[0m                                Traceback (most recent call last)",
            "\u001b[0;32m<ipython-input-29-32412d614827>\u001b[0m in \u001b[0;36m<cell line: 6>\u001b[0;34m()\u001b[0m\n\u001b[1;32m      4\u001b[0m \u001b[0;34m\u001b[0m\u001b[0m\n\u001b[1;32m      5\u001b[0m \u001b[0;31m# Correlation matrix\u001b[0m\u001b[0;34m\u001b[0m\u001b[0;34m\u001b[0m\u001b[0m\n\u001b[0;32m----> 6\u001b[0;31m \u001b[0mcorrelation_matrix\u001b[0m \u001b[0;34m=\u001b[0m \u001b[0mdf\u001b[0m\u001b[0;34m.\u001b[0m\u001b[0mcorr\u001b[0m\u001b[0;34m(\u001b[0m\u001b[0;34m)\u001b[0m\u001b[0;34m\u001b[0m\u001b[0;34m\u001b[0m\u001b[0m\n\u001b[0m\u001b[1;32m      7\u001b[0m \u001b[0mprint\u001b[0m\u001b[0;34m(\u001b[0m\u001b[0mcorrelation_matrix\u001b[0m\u001b[0;34m)\u001b[0m\u001b[0;34m\u001b[0m\u001b[0;34m\u001b[0m\u001b[0m\n\u001b[1;32m      8\u001b[0m \u001b[0;34m\u001b[0m\u001b[0m\n",
            "\u001b[0;32m/usr/local/lib/python3.10/dist-packages/pandas/core/frame.py\u001b[0m in \u001b[0;36mcorr\u001b[0;34m(self, method, min_periods, numeric_only)\u001b[0m\n\u001b[1;32m  11047\u001b[0m         \u001b[0mcols\u001b[0m \u001b[0;34m=\u001b[0m \u001b[0mdata\u001b[0m\u001b[0;34m.\u001b[0m\u001b[0mcolumns\u001b[0m\u001b[0;34m\u001b[0m\u001b[0;34m\u001b[0m\u001b[0m\n\u001b[1;32m  11048\u001b[0m         \u001b[0midx\u001b[0m \u001b[0;34m=\u001b[0m \u001b[0mcols\u001b[0m\u001b[0;34m.\u001b[0m\u001b[0mcopy\u001b[0m\u001b[0;34m(\u001b[0m\u001b[0;34m)\u001b[0m\u001b[0;34m\u001b[0m\u001b[0;34m\u001b[0m\u001b[0m\n\u001b[0;32m> 11049\u001b[0;31m         \u001b[0mmat\u001b[0m \u001b[0;34m=\u001b[0m \u001b[0mdata\u001b[0m\u001b[0;34m.\u001b[0m\u001b[0mto_numpy\u001b[0m\u001b[0;34m(\u001b[0m\u001b[0mdtype\u001b[0m\u001b[0;34m=\u001b[0m\u001b[0mfloat\u001b[0m\u001b[0;34m,\u001b[0m \u001b[0mna_value\u001b[0m\u001b[0;34m=\u001b[0m\u001b[0mnp\u001b[0m\u001b[0;34m.\u001b[0m\u001b[0mnan\u001b[0m\u001b[0;34m,\u001b[0m \u001b[0mcopy\u001b[0m\u001b[0;34m=\u001b[0m\u001b[0;32mFalse\u001b[0m\u001b[0;34m)\u001b[0m\u001b[0;34m\u001b[0m\u001b[0;34m\u001b[0m\u001b[0m\n\u001b[0m\u001b[1;32m  11050\u001b[0m \u001b[0;34m\u001b[0m\u001b[0m\n\u001b[1;32m  11051\u001b[0m         \u001b[0;32mif\u001b[0m \u001b[0mmethod\u001b[0m \u001b[0;34m==\u001b[0m \u001b[0;34m\"pearson\"\u001b[0m\u001b[0;34m:\u001b[0m\u001b[0;34m\u001b[0m\u001b[0;34m\u001b[0m\u001b[0m\n",
            "\u001b[0;32m/usr/local/lib/python3.10/dist-packages/pandas/core/frame.py\u001b[0m in \u001b[0;36mto_numpy\u001b[0;34m(self, dtype, copy, na_value)\u001b[0m\n\u001b[1;32m   1991\u001b[0m         \u001b[0;32mif\u001b[0m \u001b[0mdtype\u001b[0m \u001b[0;32mis\u001b[0m \u001b[0;32mnot\u001b[0m \u001b[0;32mNone\u001b[0m\u001b[0;34m:\u001b[0m\u001b[0;34m\u001b[0m\u001b[0;34m\u001b[0m\u001b[0m\n\u001b[1;32m   1992\u001b[0m             \u001b[0mdtype\u001b[0m \u001b[0;34m=\u001b[0m \u001b[0mnp\u001b[0m\u001b[0;34m.\u001b[0m\u001b[0mdtype\u001b[0m\u001b[0;34m(\u001b[0m\u001b[0mdtype\u001b[0m\u001b[0;34m)\u001b[0m\u001b[0;34m\u001b[0m\u001b[0;34m\u001b[0m\u001b[0m\n\u001b[0;32m-> 1993\u001b[0;31m         \u001b[0mresult\u001b[0m \u001b[0;34m=\u001b[0m \u001b[0mself\u001b[0m\u001b[0;34m.\u001b[0m\u001b[0m_mgr\u001b[0m\u001b[0;34m.\u001b[0m\u001b[0mas_array\u001b[0m\u001b[0;34m(\u001b[0m\u001b[0mdtype\u001b[0m\u001b[0;34m=\u001b[0m\u001b[0mdtype\u001b[0m\u001b[0;34m,\u001b[0m \u001b[0mcopy\u001b[0m\u001b[0;34m=\u001b[0m\u001b[0mcopy\u001b[0m\u001b[0;34m,\u001b[0m \u001b[0mna_value\u001b[0m\u001b[0;34m=\u001b[0m\u001b[0mna_value\u001b[0m\u001b[0;34m)\u001b[0m\u001b[0;34m\u001b[0m\u001b[0;34m\u001b[0m\u001b[0m\n\u001b[0m\u001b[1;32m   1994\u001b[0m         \u001b[0;32mif\u001b[0m \u001b[0mresult\u001b[0m\u001b[0;34m.\u001b[0m\u001b[0mdtype\u001b[0m \u001b[0;32mis\u001b[0m \u001b[0;32mnot\u001b[0m \u001b[0mdtype\u001b[0m\u001b[0;34m:\u001b[0m\u001b[0;34m\u001b[0m\u001b[0;34m\u001b[0m\u001b[0m\n\u001b[1;32m   1995\u001b[0m             \u001b[0mresult\u001b[0m \u001b[0;34m=\u001b[0m \u001b[0mnp\u001b[0m\u001b[0;34m.\u001b[0m\u001b[0masarray\u001b[0m\u001b[0;34m(\u001b[0m\u001b[0mresult\u001b[0m\u001b[0;34m,\u001b[0m \u001b[0mdtype\u001b[0m\u001b[0;34m=\u001b[0m\u001b[0mdtype\u001b[0m\u001b[0;34m)\u001b[0m\u001b[0;34m\u001b[0m\u001b[0;34m\u001b[0m\u001b[0m\n",
            "\u001b[0;32m/usr/local/lib/python3.10/dist-packages/pandas/core/internals/managers.py\u001b[0m in \u001b[0;36mas_array\u001b[0;34m(self, dtype, copy, na_value)\u001b[0m\n\u001b[1;32m   1692\u001b[0m                 \u001b[0marr\u001b[0m\u001b[0;34m.\u001b[0m\u001b[0mflags\u001b[0m\u001b[0;34m.\u001b[0m\u001b[0mwriteable\u001b[0m \u001b[0;34m=\u001b[0m \u001b[0;32mFalse\u001b[0m\u001b[0;34m\u001b[0m\u001b[0;34m\u001b[0m\u001b[0m\n\u001b[1;32m   1693\u001b[0m         \u001b[0;32melse\u001b[0m\u001b[0;34m:\u001b[0m\u001b[0;34m\u001b[0m\u001b[0;34m\u001b[0m\u001b[0m\n\u001b[0;32m-> 1694\u001b[0;31m             \u001b[0marr\u001b[0m \u001b[0;34m=\u001b[0m \u001b[0mself\u001b[0m\u001b[0;34m.\u001b[0m\u001b[0m_interleave\u001b[0m\u001b[0;34m(\u001b[0m\u001b[0mdtype\u001b[0m\u001b[0;34m=\u001b[0m\u001b[0mdtype\u001b[0m\u001b[0;34m,\u001b[0m \u001b[0mna_value\u001b[0m\u001b[0;34m=\u001b[0m\u001b[0mna_value\u001b[0m\u001b[0;34m)\u001b[0m\u001b[0;34m\u001b[0m\u001b[0;34m\u001b[0m\u001b[0m\n\u001b[0m\u001b[1;32m   1695\u001b[0m             \u001b[0;31m# The underlying data was copied within _interleave, so no need\u001b[0m\u001b[0;34m\u001b[0m\u001b[0;34m\u001b[0m\u001b[0m\n\u001b[1;32m   1696\u001b[0m             \u001b[0;31m# to further copy if copy=True or setting na_value\u001b[0m\u001b[0;34m\u001b[0m\u001b[0;34m\u001b[0m\u001b[0m\n",
            "\u001b[0;32m/usr/local/lib/python3.10/dist-packages/pandas/core/internals/managers.py\u001b[0m in \u001b[0;36m_interleave\u001b[0;34m(self, dtype, na_value)\u001b[0m\n\u001b[1;32m   1751\u001b[0m             \u001b[0;32melse\u001b[0m\u001b[0;34m:\u001b[0m\u001b[0;34m\u001b[0m\u001b[0;34m\u001b[0m\u001b[0m\n\u001b[1;32m   1752\u001b[0m                 \u001b[0marr\u001b[0m \u001b[0;34m=\u001b[0m \u001b[0mblk\u001b[0m\u001b[0;34m.\u001b[0m\u001b[0mget_values\u001b[0m\u001b[0;34m(\u001b[0m\u001b[0mdtype\u001b[0m\u001b[0;34m)\u001b[0m\u001b[0;34m\u001b[0m\u001b[0;34m\u001b[0m\u001b[0m\n\u001b[0;32m-> 1753\u001b[0;31m             \u001b[0mresult\u001b[0m\u001b[0;34m[\u001b[0m\u001b[0mrl\u001b[0m\u001b[0;34m.\u001b[0m\u001b[0mindexer\u001b[0m\u001b[0;34m]\u001b[0m \u001b[0;34m=\u001b[0m \u001b[0marr\u001b[0m\u001b[0;34m\u001b[0m\u001b[0;34m\u001b[0m\u001b[0m\n\u001b[0m\u001b[1;32m   1754\u001b[0m             \u001b[0mitemmask\u001b[0m\u001b[0;34m[\u001b[0m\u001b[0mrl\u001b[0m\u001b[0;34m.\u001b[0m\u001b[0mindexer\u001b[0m\u001b[0;34m]\u001b[0m \u001b[0;34m=\u001b[0m \u001b[0;36m1\u001b[0m\u001b[0;34m\u001b[0m\u001b[0;34m\u001b[0m\u001b[0m\n\u001b[1;32m   1755\u001b[0m \u001b[0;34m\u001b[0m\u001b[0m\n",
            "\u001b[0;31mValueError\u001b[0m: could not convert string to float: 'COPIERS AND FAX'"
          ]
        }
      ],
      "source": [
        "# Summary statistics\n",
        "summary_stats = df.describe()\n",
        "print(summary_stats)\n",
        "\n",
        "# Correlation matrix\n",
        "correlation_matrix = df.corr()\n",
        "print(correlation_matrix)\n",
        "\n",
        "# Correlation with sales\n",
        "correlation_with_sales = correlation_matrix['sales']\n",
        "print(correlation_with_sales)"
      ]
    },
    {
      "cell_type": "markdown",
      "id": "37e91dba",
      "metadata": {
        "id": "37e91dba"
      },
      "source": [
        "### 4a.ii)Provide a histogram for the variable sales and profit, based on histogram and cacluation of skewness and kurtosis what would you describe about sales and profit. 4 marks\n",
        "\n"
      ]
    },
    {
      "cell_type": "code",
      "execution_count": 23,
      "id": "2af28662",
      "metadata": {
        "id": "2af28662",
        "outputId": "7bd51f10-843b-48b4-ab8f-9ce42b993056",
        "colab": {
          "base_uri": "https://localhost:8080/",
          "height": 540
        }
      },
      "outputs": [
        {
          "output_type": "display_data",
          "data": {
            "text/plain": [
              "<Figure size 1200x600 with 2 Axes>"
            ],
            "image/png": "[encoded data removed]"
          },
          "metadata": {}
        },
        {
          "output_type": "stream",
          "name": "stdout",
          "text": [
            "Sales Skewness: 2.0320\n",
            "Sales Kurtosis: 4.8308\n",
            "Profit Skewness: 0.7687\n",
            "Profit Kurtosis: 7.6054\n"
          ]
        }
      ],
      "source": [
        "\n",
        "# Plot histograms\n",
        "plt.figure(figsize=(12, 6))\n",
        "\n",
        "# Histogram for Sales\n",
        "plt.subplot(1, 2, 1)\n",
        "plt.hist(df['Sales'], bins=15, edgecolor='black')\n",
        "plt.title('Histogram of Sales')\n",
        "plt.xlabel('Sales')\n",
        "plt.ylabel('Frequency')\n",
        "\n",
        "# Histogram for Profit\n",
        "plt.subplot(1, 2, 2)\n",
        "plt.hist(df['Profit'], bins=15, edgecolor='black')\n",
        "plt.title('Histogram of Profit')\n",
        "plt.xlabel('Profit')\n",
        "plt.ylabel('Frequency')\n",
        "\n",
        "plt.tight_layout()\n",
        "plt.show()\n",
        "\n",
        "# Calculate skewness and kurtosis\n",
        "sales_skewness = stats.skew(df['Sales'])\n",
        "sales_kurtosis = stats.kurtosis(df['Sales'])\n",
        "profit_skewness = stats.skew(df['Profit'])\n",
        "profit_kurtosis = stats.kurtosis(df['Profit'])\n",
        "\n",
        "print(f'Sales Skewness: {sales_skewness:.4f}')\n",
        "print(f'Sales Kurtosis: {sales_kurtosis:.4f}')\n",
        "print(f'Profit Skewness: {profit_skewness:.4f}')\n",
        "print(f'Profit Kurtosis: {profit_kurtosis:.4f}')\n"
      ]
    },
    {
      "cell_type": "markdown",
      "id": "cc8b9727",
      "metadata": {
        "id": "cc8b9727"
      },
      "source": [
        "### 4a.iii) Plot the plot the histogram for variable sales, profit based on customer segements,  based on these plots which segment provides more sales, profit and less sales, profit (assume bins  = 15) 4 marks\n",
        "\n"
      ]
    },
    {
      "cell_type": "code",
      "execution_count": 26,
      "id": "3b3e03d3",
      "metadata": {
        "id": "3b3e03d3",
        "outputId": "1d656097-4879-4f22-be6c-4ab5d3d63158",
        "colab": {
          "base_uri": "https://localhost:8080/",
          "height": 468
        }
      },
      "outputs": [
        {
          "output_type": "display_data",
          "data": {
            "text/plain": [
              "<Figure size 1200x600 with 2 Axes>"
            ],
            "image/png": "[encoded data removed]"
          },
          "metadata": {}
        }
      ],
      "source": [
        "# Histogram for Sales\n",
        "# Plot histograms for Sales based on Customer Segments\n",
        "plt.figure(figsize=(12, 6))\n",
        "plt.subplot(1, 2, 1)\n",
        "for segment in df['Customer_Segment'].unique():\n",
        "    plt.hist(df[df['Customer_Segment'] == segment]['Sales'], bins=15, alpha=0.5, label=segment)\n",
        "plt.title('Histogram of Sales by Customer Segment')\n",
        "plt.xlabel('Sales')\n",
        "plt.ylabel('Frequency')\n",
        "plt.legend()\n",
        "\n",
        "# Histogram for Profit\n",
        "plt.subplot(1, 2, 2)\n",
        "for segment in df['Customer_Segment'].unique():\n",
        "    plt.hist(df[df['Customer_Segment'] == segment]['Profit'], bins=15, alpha=0.5, label=segment)\n",
        "plt.title('Histogram of Profit by Customer Segment')\n",
        "plt.xlabel('Profit')\n",
        "plt.ylabel('Frequency')\n",
        "plt.legend()\n",
        "\n",
        "plt.tight_layout()\n",
        "plt.show()"
      ]
    },
    {
      "cell_type": "markdown",
      "id": "a8ccd128",
      "metadata": {
        "id": "a8ccd128"
      },
      "source": [
        "### 4a.iv) Draw a scatter plot for all of the variables, what is your observation and conclusion for the relationship between sales and  the other numeric variables 4 marks\n"
      ]
    },
    {
      "cell_type": "code",
      "execution_count": 30,
      "id": "dac7c118",
      "metadata": {
        "id": "dac7c118",
        "outputId": "1a313154-f570-42b4-87af-976b68030159",
        "colab": {
          "base_uri": "https://localhost:8080/",
          "height": 344
        }
      },
      "outputs": [
        {
          "output_type": "display_data",
          "data": {
            "text/plain": [
              "<Figure size 1400x500 with 4 Axes>"
            ],
            "image/png": "[encoded data removed]"
          },
          "metadata": {}
        }
      ],
      "source": [
        "# Plot scatter plots for all variables against sales\n",
        "sns.pairplot(df, x_vars=[\"Order_Quan\", \"Profit\", \"Shipping_Cost\", \"Product_Base_Margin\"], y_vars='Sales', height=5, aspect=0.7)\n",
        "plt.show()"
      ]
    },
    {
      "cell_type": "markdown",
      "id": "51532c55",
      "metadata": {
        "id": "51532c55"
      },
      "source": [
        "### 4b. Consider the purchases.csv file and answer the following questions"
      ]
    },
    {
      "cell_type": "markdown",
      "id": "dad05228",
      "metadata": {
        "id": "dad05228"
      },
      "source": [
        "### 4b.i)Draw a boxplot for sales based on customer segments, what do you observe in terms of outliers, and sales difference for various segments. 3\n"
      ]
    },
    {
      "cell_type": "code",
      "execution_count": 31,
      "id": "74da8816",
      "metadata": {
        "id": "74da8816",
        "outputId": "b5628599-260c-47f4-bd4c-f17246351880",
        "colab": {
          "base_uri": "https://localhost:8080/",
          "height": 564
        }
      },
      "outputs": [
        {
          "output_type": "display_data",
          "data": {
            "text/plain": [
              "<Figure size 1000x600 with 1 Axes>"
            ],
            "image/png": "[encoded data removed]"
          },
          "metadata": {}
        }
      ],
      "source": [
        "# Draw a boxplot for sales based on customer segments\n",
        "plt.figure(figsize=(10, 6))\n",
        "sns.boxplot(x='Customer_Segment', y='Sales', data=df)\n",
        "plt.title('Boxplot of Sales by Customer Segment')\n",
        "plt.xlabel('Customer Segment')\n",
        "plt.ylabel('Sales')\n",
        "plt.show()"
      ]
    },
    {
      "cell_type": "markdown",
      "id": "50479e72",
      "metadata": {
        "id": "50479e72"
      },
      "source": [
        "### 4b.ii)Conduct a hypothesis to see whether there is a difference in terms of sales for customer segment of home business and corporate. What do you conclude 4 - marks"
      ]
    },
    {
      "cell_type": "code",
      "execution_count": null,
      "id": "5b4664e0",
      "metadata": {
        "id": "5b4664e0"
      },
      "outputs": [],
      "source": []
    },
    {
      "cell_type": "markdown",
      "source": [
        "\n",
        "#### i) State the hypothesis and type of test to be used\n",
        "Hypothesis:\n",
        "\n",
        "- Null Hypothesis (H₀): There is no difference in sales between the home business and corporate customer segments.\n",
        "\n",
        "- Alternative Hypothesis (H₁): There is a difference in sales between the home business and corporate customer segments.\n",
        "\n",
        "**Test**: We will perform a two-sample t-test to compare the mean sales of the two customer segments."
      ],
      "metadata": {
        "id": "pAseaWQMoKI2"
      },
      "id": "pAseaWQMoKI2"
    },
    {
      "cell_type": "code",
      "execution_count": 34,
      "id": "e0835a4c",
      "metadata": {
        "id": "e0835a4c",
        "outputId": "587d0a38-acbd-4278-cf15-0d447be7e95e",
        "colab": {
          "base_uri": "https://localhost:8080/"
        }
      },
      "outputs": [
        {
          "output_type": "stream",
          "name": "stdout",
          "text": [
            "Two-sample t-test: t-statistic=-0.2525, p-value=0.8006\n"
          ]
        }
      ],
      "source": [
        "# Extract sales for home business and corporate customer segments\n",
        "home_business_sales = df[df['Customer_Segment'] == 'HOME OFFICE']['Sales']\n",
        "corporate_sales = df[df['Customer_Segment'] == 'CORPORATE']['Sales']\n",
        "\n",
        "# Perform two-sample t-test\n",
        "t_stat, p_value = stats.ttest_ind(home_business_sales, corporate_sales)\n",
        "\n",
        "print(f'Two-sample t-test: t-statistic={t_stat:.4f}, p-value={p_value:.4f}')"
      ]
    },
    {
      "cell_type": "markdown",
      "source": [
        "**p-value is greater than 0.05**, we fail to reject the null hypothesis and conclude that there is no significant difference in sales between the home business and corporate customer segments."
      ],
      "metadata": {
        "id": "LXUjeySeouoS"
      },
      "id": "LXUjeySeouoS"
    },
    {
      "cell_type": "markdown",
      "id": "3cde64b4",
      "metadata": {
        "id": "3cde64b4"
      },
      "source": [
        "### 4b.iii)Conduct an hypothesis to prove whether the sales from small business segment is mote than corporate, do you agree or not. 4 marks"
      ]
    },
    {
      "cell_type": "code",
      "execution_count": null,
      "id": "bf33c14d",
      "metadata": {
        "id": "bf33c14d"
      },
      "outputs": [],
      "source": []
    },
    {
      "cell_type": "markdown",
      "source": [
        "Hypothesis:\n",
        "\n",
        "- Null Hypothesis (H₀): The sales from the small business segment are not more than the sales from the corporate segment.\n",
        "\n",
        "- Alternative Hypothesis (H₁): The sales from the small business segment are more than the sales from the corporate segment.\n",
        "\n",
        "Test: We will perform a one-tailed two-sample t-test to compare the mean sales of the two customer segments."
      ],
      "metadata": {
        "id": "fXsllXn7o9AD"
      },
      "id": "fXsllXn7o9AD"
    },
    {
      "cell_type": "code",
      "execution_count": 35,
      "id": "322f08dc",
      "metadata": {
        "id": "322f08dc",
        "outputId": "a383f6af-2b63-47f5-f6c9-7863c68af7f3",
        "colab": {
          "base_uri": "https://localhost:8080/"
        }
      },
      "outputs": [
        {
          "output_type": "stream",
          "name": "stdout",
          "text": [
            "One-tailed two-sample t-test: t-statistic=6.3126, p-value=0.0000\n"
          ]
        }
      ],
      "source": [
        "# Extract sales for small business and corporate customer segments\n",
        "small_business_sales = df[df['Customer_Segment'] == 'SMALL BUSINESS']['Sales']\n",
        "corporate_sales = df[df['Customer_Segment'] == 'CORPORATE']['Sales']\n",
        "\n",
        "# Perform one-tailed two-sample t-test\n",
        "t_stat, p_value = stats.ttest_ind(small_business_sales, corporate_sales, alternative='greater')\n",
        "\n",
        "print(f'One-tailed two-sample t-test: t-statistic={t_stat:.4f}, p-value={p_value:.4f}')"
      ]
    },
    {
      "cell_type": "markdown",
      "source": [
        "**P-value is less than 0.05**, we reject the null hypothesis and conclude that the sales from the small business segment are more than the sales from the corporate segment."
      ],
      "metadata": {
        "id": "Mv2bs9MZpVLJ"
      },
      "id": "Mv2bs9MZpVLJ"
    },
    {
      "cell_type": "markdown",
      "id": "c6275f13",
      "metadata": {
        "id": "c6275f13"
      },
      "source": [
        "\n",
        "\n",
        "### 4b.iv)Conduct an ANOVA to check whether there is sales difference for products of the following type Paper, Telephones and Communications, Binder and Binder Accessories and Computer Perephirals. 4 marks\n",
        "\n",
        "\n",
        "\n",
        "\n"
      ]
    },
    {
      "cell_type": "markdown",
      "source": [
        "Hypothesis:\n",
        "\n",
        "- Null Hypothesis (H₀): There is no difference in sales between the different product types.\n",
        "\n",
        "- Alternative Hypothesis (H₁): There is a difference in sales between the different product types.\n",
        "\n",
        "**Test**: We will perform a one-way ANOVA (Analysis of Variance) test to determine if there are any statistically significant differences between the means of the different product types."
      ],
      "metadata": {
        "id": "w9FQdyf1pjYk"
      },
      "id": "w9FQdyf1pjYk"
    },
    {
      "cell_type": "code",
      "source": [
        "df.head()"
      ],
      "metadata": {
        "id": "mD3XtKPop2cq",
        "outputId": "619d6231-624f-49b1-f250-32c3ed9e9880",
        "colab": {
          "base_uri": "https://localhost:8080/",
          "height": 278
        }
      },
      "id": "mD3XtKPop2cq",
      "execution_count": 37,
      "outputs": [
        {
          "output_type": "execute_result",
          "data": {
            "text/plain": [
              "          Products  Prod_id    Cust_id      Sales  Order_Quan   Profit  \\\n",
              "0  COPIERS AND FAX  Prod_16  Cust_1088  10909.641          40  2616.46   \n",
              "1  COPIERS AND FAX  Prod_16  Cust_1820  10607.641          27  2977.36   \n",
              "2            PAPER   Prod_6  Cust_1659    754.641          13    29.80   \n",
              "3            PAPER   Prod_6   Cust_622    572.641          22    92.78   \n",
              "4  OFFICE MACHINES  Prod_17   Cust_564  10128.641          50  5133.68   \n",
              "\n",
              "   Shipping_Cost  Product_Base_Margin Customer_Segment  \n",
              "0          22.00                 0.57      HOME OFFICE  \n",
              "1          23.69                 0.56        CORPORATE  \n",
              "2           8.90                 0.37   SMALL BUSINESS  \n",
              "3          10.99                 0.39   SMALL BUSINESS  \n",
              "4          20.50                 0.36   SMALL BUSINESS  "
            ],
            "text/html": [
              "\n",
              "  <div id=\"df-f44cc731-6839-4904-bfe9-dbc442618884\" class=\"colab-df-container\">\n",
              "    <div>\n",
              "<style scoped>\n",
              "    .dataframe tbody tr th:only-of-type {\n",
              "        vertical-align: middle;\n",
              "    }\n",
              "\n",
              "    .dataframe tbody tr th {\n",
              "        vertical-align: top;\n",
              "    }\n",
              "\n",
              "    .dataframe thead th {\n",
              "        text-align: right;\n",
              "    }\n",
              "</style>\n",
              "<table border=\"1\" class=\"dataframe\">\n",
              "  <thead>\n",
              "    <tr style=\"text-align: right;\">\n",
              "      <th></th>\n",
              "      <th>Products</th>\n",
              "      <th>Prod_id</th>\n",
              "      <th>Cust_id</th>\n",
              "      <th>Sales</th>\n",
              "      <th>Order_Quan</th>\n",
              "      <th>Profit</th>\n",
              "      <th>Shipping_Cost</th>\n",
              "      <th>Product_Base_Margin</th>\n",
              "      <th>Customer_Segment</th>\n",
              "    </tr>\n",
              "  </thead>\n",
              "  <tbody>\n",
              "    <tr>\n",
              "      <th>0</th>\n",
              "      <td>COPIERS AND FAX</td>\n",
              "      <td>Prod_16</td>\n",
              "      <td>Cust_1088</td>\n",
              "      <td>10909.641</td>\n",
              "      <td>40</td>\n",
              "      <td>2616.46</td>\n",
              "      <td>22.00</td>\n",
              "      <td>0.57</td>\n",
              "      <td>HOME OFFICE</td>\n",
              "    </tr>\n",
              "    <tr>\n",
              "      <th>1</th>\n",
              "      <td>COPIERS AND FAX</td>\n",
              "      <td>Prod_16</td>\n",
              "      <td>Cust_1820</td>\n",
              "      <td>10607.641</td>\n",
              "      <td>27</td>\n",
              "      <td>2977.36</td>\n",
              "      <td>23.69</td>\n",
              "      <td>0.56</td>\n",
              "      <td>CORPORATE</td>\n",
              "    </tr>\n",
              "    <tr>\n",
              "      <th>2</th>\n",
              "      <td>PAPER</td>\n",
              "      <td>Prod_6</td>\n",
              "      <td>Cust_1659</td>\n",
              "      <td>754.641</td>\n",
              "      <td>13</td>\n",
              "      <td>29.80</td>\n",
              "      <td>8.90</td>\n",
              "      <td>0.37</td>\n",
              "      <td>SMALL BUSINESS</td>\n",
              "    </tr>\n",
              "    <tr>\n",
              "      <th>3</th>\n",
              "      <td>PAPER</td>\n",
              "      <td>Prod_6</td>\n",
              "      <td>Cust_622</td>\n",
              "      <td>572.641</td>\n",
              "      <td>22</td>\n",
              "      <td>92.78</td>\n",
              "      <td>10.99</td>\n",
              "      <td>0.39</td>\n",
              "      <td>SMALL BUSINESS</td>\n",
              "    </tr>\n",
              "    <tr>\n",
              "      <th>4</th>\n",
              "      <td>OFFICE MACHINES</td>\n",
              "      <td>Prod_17</td>\n",
              "      <td>Cust_564</td>\n",
              "      <td>10128.641</td>\n",
              "      <td>50</td>\n",
              "      <td>5133.68</td>\n",
              "      <td>20.50</td>\n",
              "      <td>0.36</td>\n",
              "      <td>SMALL BUSINESS</td>\n",
              "    </tr>\n",
              "  </tbody>\n",
              "</table>\n",
              "</div>\n",
              "    <div class=\"colab-df-buttons\">\n",
              "\n",
              "  <div class=\"colab-df-container\">\n",
              "    <button class=\"colab-df-convert\" onclick=\"convertToInteractive('df-f44cc731-6839-4904-bfe9-dbc442618884')\"\n",
              "            title=\"Convert this dataframe to an interactive table.\"\n",
              "            style=\"display:none;\">\n",
              "\n",
              "  <svg xmlns=\"http://www.w3.org/2000/svg\" height=\"24px\" viewBox=\"0 -960 960 960\">\n",
              "    <path d=\"M120-120v-720h720v720H120Zm60-500h600v-160H180v160Zm220 220h160v-160H400v160Zm0 220h160v-160H400v160ZM180-400h160v-160H180v160Zm440 0h160v-160H620v160ZM180-180h160v-160H180v160Zm440 0h160v-160H620v160Z\"/>\n",
              "  </svg>\n",
              "    </button>\n",
              "\n",
              "  <style>\n",
              "    .colab-df-container {\n",
              "      display:flex;\n",
              "      gap: 12px;\n",
              "    }\n",
              "\n",
              "    .colab-df-convert {\n",
              "      background-color: #E8F0FE;\n",
              "      border: none;\n",
              "      border-radius: 50%;\n",
              "      cursor: pointer;\n",
              "      display: none;\n",
              "      fill: #1967D2;\n",
              "      height: 32px;\n",
              "      padding: 0 0 0 0;\n",
              "      width: 32px;\n",
              "    }\n",
              "\n",
              "    .colab-df-convert:hover {\n",
              "      background-color: #E2EBFA;\n",
              "      box-shadow: 0px 1px 2px rgba(60, 64, 67, 0.3), 0px 1px 3px 1px rgba(60, 64, 67, 0.15);\n",
              "      fill: #174EA6;\n",
              "    }\n",
              "\n",
              "    .colab-df-buttons div {\n",
              "      margin-bottom: 4px;\n",
              "    }\n",
              "\n",
              "    [theme=dark] .colab-df-convert {\n",
              "      background-color: #3B4455;\n",
              "      fill: #D2E3FC;\n",
              "    }\n",
              "\n",
              "    [theme=dark] .colab-df-convert:hover {\n",
              "      background-color: #434B5C;\n",
              "      box-shadow: 0px 1px 3px 1px rgba(0, 0, 0, 0.15);\n",
              "      filter: drop-shadow(0px 1px 2px rgba(0, 0, 0, 0.3));\n",
              "      fill: #FFFFFF;\n",
              "    }\n",
              "  </style>\n",
              "\n",
              "    <script>\n",
              "      const buttonEl =\n",
              "        document.querySelector('#df-f44cc731-6839-4904-bfe9-dbc442618884 button.colab-df-convert');\n",
              "      buttonEl.style.display =\n",
              "        google.colab.kernel.accessAllowed ? 'block' : 'none';\n",
              "\n",
              "      async function convertToInteractive(key) {\n",
              "        const element = document.querySelector('#df-f44cc731-6839-4904-bfe9-dbc442618884');\n",
              "        const dataTable =\n",
              "          await google.colab.kernel.invokeFunction('convertToInteractive',\n",
              "                                                    [key], {});\n",
              "        if (!dataTable) return;\n",
              "\n",
              "        const docLinkHtml = 'Like what you see? Visit the ' +\n",
              "          '<a target=\"_blank\" href=https://colab.research.google.com/notebooks/data_table.ipynb>data table notebook</a>'\n",
              "          + ' to learn more about interactive tables.';\n",
              "        element.innerHTML = '';\n",
              "        dataTable['output_type'] = 'display_data';\n",
              "        await google.colab.output.renderOutput(dataTable, element);\n",
              "        const docLink = document.createElement('div');\n",
              "        docLink.innerHTML = docLinkHtml;\n",
              "        element.appendChild(docLink);\n",
              "      }\n",
              "    </script>\n",
              "  </div>\n",
              "\n",
              "\n",
              "<div id=\"df-d9219c73-7e16-42ac-a132-e4b4c40151a5\">\n",
              "  <button class=\"colab-df-quickchart\" onclick=\"quickchart('df-d9219c73-7e16-42ac-a132-e4b4c40151a5')\"\n",
              "            title=\"Suggest charts\"\n",
              "            style=\"display:none;\">\n",
              "\n",
              "<svg xmlns=\"http://www.w3.org/2000/svg\" height=\"24px\"viewBox=\"0 0 24 24\"\n",
              "     width=\"24px\">\n",
              "    <g>\n",
              "        <path d=\"M19 3H5c-1.1 0-2 .9-2 2v14c0 1.1.9 2 2 2h14c1.1 0 2-.9 2-2V5c0-1.1-.9-2-2-2zM9 17H7v-7h2v7zm4 0h-2V7h2v10zm4 0h-2v-4h2v4z\"/>\n",
              "    </g>\n",
              "</svg>\n",
              "  </button>\n",
              "\n",
              "<style>\n",
              "  .colab-df-quickchart {\n",
              "      --bg-color: #E8F0FE;\n",
              "      --fill-color: #1967D2;\n",
              "      --hover-bg-color: #E2EBFA;\n",
              "      --hover-fill-color: #174EA6;\n",
              "      --disabled-fill-color: #AAA;\n",
              "      --disabled-bg-color: #DDD;\n",
              "  }\n",
              "\n",
              "  [theme=dark] .colab-df-quickchart {\n",
              "      --bg-color: #3B4455;\n",
              "      --fill-color: #D2E3FC;\n",
              "      --hover-bg-color: #434B5C;\n",
              "      --hover-fill-color: #FFFFFF;\n",
              "      --disabled-bg-color: #3B4455;\n",
              "      --disabled-fill-color: #666;\n",
              "  }\n",
              "\n",
              "  .colab-df-quickchart {\n",
              "    background-color: var(--bg-color);\n",
              "    border: none;\n",
              "    border-radius: 50%;\n",
              "    cursor: pointer;\n",
              "    display: none;\n",
              "    fill: var(--fill-color);\n",
              "    height: 32px;\n",
              "    padding: 0;\n",
              "    width: 32px;\n",
              "  }\n",
              "\n",
              "  .colab-df-quickchart:hover {\n",
              "    background-color: var(--hover-bg-color);\n",
              "    box-shadow: 0 1px 2px rgba(60, 64, 67, 0.3), 0 1px 3px 1px rgba(60, 64, 67, 0.15);\n",
              "    fill: var(--button-hover-fill-color);\n",
              "  }\n",
              "\n",
              "  .colab-df-quickchart-complete:disabled,\n",
              "  .colab-df-quickchart-complete:disabled:hover {\n",
              "    background-color: var(--disabled-bg-color);\n",
              "    fill: var(--disabled-fill-color);\n",
              "    box-shadow: none;\n",
              "  }\n",
              "\n",
              "  .colab-df-spinner {\n",
              "    border: 2px solid var(--fill-color);\n",
              "    border-color: transparent;\n",
              "    border-bottom-color: var(--fill-color);\n",
              "    animation:\n",
              "      spin 1s steps(1) infinite;\n",
              "  }\n",
              "\n",
              "  @keyframes spin {\n",
              "    0% {\n",
              "      border-color: transparent;\n",
              "      border-bottom-color: var(--fill-color);\n",
              "      border-left-color: var(--fill-color);\n",
              "    }\n",
              "    20% {\n",
              "      border-color: transparent;\n",
              "      border-left-color: var(--fill-color);\n",
              "      border-top-color: var(--fill-color);\n",
              "    }\n",
              "    30% {\n",
              "      border-color: transparent;\n",
              "      border-left-color: var(--fill-color);\n",
              "      border-top-color: var(--fill-color);\n",
              "      border-right-color: var(--fill-color);\n",
              "    }\n",
              "    40% {\n",
              "      border-color: transparent;\n",
              "      border-right-color: var(--fill-color);\n",
              "      border-top-color: var(--fill-color);\n",
              "    }\n",
              "    60% {\n",
              "      border-color: transparent;\n",
              "      border-right-color: var(--fill-color);\n",
              "    }\n",
              "    80% {\n",
              "      border-color: transparent;\n",
              "      border-right-color: var(--fill-color);\n",
              "      border-bottom-color: var(--fill-color);\n",
              "    }\n",
              "    90% {\n",
              "      border-color: transparent;\n",
              "      border-bottom-color: var(--fill-color);\n",
              "    }\n",
              "  }\n",
              "</style>\n",
              "\n",
              "  <script>\n",
              "    async function quickchart(key) {\n",
              "      const quickchartButtonEl =\n",
              "        document.querySelector('#' + key + ' button');\n",
              "      quickchartButtonEl.disabled = true;  // To prevent multiple clicks.\n",
              "      quickchartButtonEl.classList.add('colab-df-spinner');\n",
              "      try {\n",
              "        const charts = await google.colab.kernel.invokeFunction(\n",
              "            'suggestCharts', [key], {});\n",
              "      } catch (error) {\n",
              "        console.error('Error during call to suggestCharts:', error);\n",
              "      }\n",
              "      quickchartButtonEl.classList.remove('colab-df-spinner');\n",
              "      quickchartButtonEl.classList.add('colab-df-quickchart-complete');\n",
              "    }\n",
              "    (() => {\n",
              "      let quickchartButtonEl =\n",
              "        document.querySelector('#df-d9219c73-7e16-42ac-a132-e4b4c40151a5 button');\n",
              "      quickchartButtonEl.style.display =\n",
              "        google.colab.kernel.accessAllowed ? 'block' : 'none';\n",
              "    })();\n",
              "  </script>\n",
              "</div>\n",
              "\n",
              "    </div>\n",
              "  </div>\n"
            ],
            "application/vnd.google.colaboratory.intrinsic+json": {
              "type": "dataframe",
              "variable_name": "df",
              "summary": "{\n  \"name\": \"df\",\n  \"rows\": 5977,\n  \"fields\": [\n    {\n      \"column\": \"Products\",\n      \"properties\": {\n        \"dtype\": \"category\",\n        \"num_unique_values\": 12,\n        \"samples\": [\n          \"AIR CONDITIONER\",\n          \"PENS & ART SUPPLIES\",\n          \"COPIERS AND FAX\"\n        ],\n        \"semantic_type\": \"\",\n        \"description\": \"\"\n      }\n    },\n    {\n      \"column\": \"Prod_id\",\n      \"properties\": {\n        \"dtype\": \"category\",\n        \"num_unique_values\": 12,\n        \"samples\": [\n          \"Prod_11\",\n          \"Prod_13\",\n          \"Prod_16\"\n        ],\n        \"semantic_type\": \"\",\n        \"description\": \"\"\n      }\n    },\n    {\n      \"column\": \"Cust_id\",\n      \"properties\": {\n        \"dtype\": \"category\",\n        \"num_unique_values\": 1674,\n        \"samples\": [\n          \"Cust_263\",\n          \"Cust_966\",\n          \"Cust_1774\"\n        ],\n        \"semantic_type\": \"\",\n        \"description\": \"\"\n      }\n    },\n    {\n      \"column\": \"Sales\",\n      \"properties\": {\n        \"dtype\": \"number\",\n        \"std\": 7461.09350179773,\n        \"min\": 3.42,\n        \"max\": 45923.76,\n        \"num_unique_values\": 1949,\n        \"samples\": [\n          227.5,\n          4042.96,\n          185.61\n        ],\n        \"semantic_type\": \"\",\n        \"description\": \"\"\n      }\n    },\n    {\n      \"column\": \"Order_Quan\",\n      \"properties\": {\n        \"dtype\": \"number\",\n        \"std\": 14,\n        \"min\": 1,\n        \"max\": 58,\n        \"num_unique_values\": 58,\n        \"samples\": [\n          40,\n          54,\n          30\n        ],\n        \"semantic_type\": \"\",\n        \"description\": \"\"\n      }\n    },\n    {\n      \"column\": \"Profit\",\n      \"properties\": {\n        \"dtype\": \"number\",\n        \"std\": 2701.386492559955,\n        \"min\": -14140.7,\n        \"max\": 14440.39,\n        \"num_unique_values\": 2025,\n        \"samples\": [\n          1021.07,\n          -24.96,\n          3203.85\n        ],\n        \"semantic_type\": \"\",\n        \"description\": \"\"\n      }\n    },\n    {\n      \"column\": \"Shipping_Cost\",\n      \"properties\": {\n        \"dtype\": \"number\",\n        \"std\": 15.420363426747025,\n        \"min\": 0.49,\n        \"max\": 164.73,\n        \"num_unique_values\": 540,\n        \"samples\": [\n          1.35,\n          19.63,\n          60.19\n        ],\n        \"semantic_type\": \"\",\n        \"description\": \"\"\n      }\n    },\n    {\n      \"column\": \"Product_Base_Margin\",\n      \"properties\": {\n        \"dtype\": \"number\",\n        \"std\": 0.16582683827888017,\n        \"min\": 0.35,\n        \"max\": 6.98,\n        \"num_unique_values\": 54,\n        \"samples\": [\n          0.42,\n          0.7,\n          0.61\n        ],\n        \"semantic_type\": \"\",\n        \"description\": \"\"\n      }\n    },\n    {\n      \"column\": \"Customer_Segment\",\n      \"properties\": {\n        \"dtype\": \"category\",\n        \"num_unique_values\": 3,\n        \"samples\": [\n          \"HOME OFFICE\",\n          \"CORPORATE\",\n          \"SMALL BUSINESS\"\n        ],\n        \"semantic_type\": \"\",\n        \"description\": \"\"\n      }\n    }\n  ]\n}"
            }
          },
          "metadata": {},
          "execution_count": 37
        }
      ]
    },
    {
      "cell_type": "code",
      "source": [
        "df.Products.value_counts()"
      ],
      "metadata": {
        "id": "Ls4w_p1jp7Q-",
        "outputId": "f18a9143-5525-446b-92ec-4e3fb62744c8",
        "colab": {
          "base_uri": "https://localhost:8080/",
          "height": 492
        }
      },
      "id": "Ls4w_p1jp7Q-",
      "execution_count": 38,
      "outputs": [
        {
          "output_type": "execute_result",
          "data": {
            "text/plain": [
              "Products\n",
              "PAPER                             1084\n",
              "TELEPHONES AND COMMUNICATION       882\n",
              "BINDERS AND BINDER ACCESSORIES     848\n",
              "COMPUTER PERIPHERALS               551\n",
              "PENS & ART SUPPLIES                525\n",
              "VENDING MACHINE                    383\n",
              "AIR CONDITIONER                    354\n",
              "LABELS                             334\n",
              "RUBBER BANDS                       325\n",
              "OFFICE MACHINES                    318\n",
              "ENVELOPES                          244\n",
              "COPIERS AND FAX                    129\n",
              "Name: count, dtype: int64"
            ],
            "text/html": [
              "<div>\n",
              "<style scoped>\n",
              "    .dataframe tbody tr th:only-of-type {\n",
              "        vertical-align: middle;\n",
              "    }\n",
              "\n",
              "    .dataframe tbody tr th {\n",
              "        vertical-align: top;\n",
              "    }\n",
              "\n",
              "    .dataframe thead th {\n",
              "        text-align: right;\n",
              "    }\n",
              "</style>\n",
              "<table border=\"1\" class=\"dataframe\">\n",
              "  <thead>\n",
              "    <tr style=\"text-align: right;\">\n",
              "      <th></th>\n",
              "      <th>count</th>\n",
              "    </tr>\n",
              "    <tr>\n",
              "      <th>Products</th>\n",
              "      <th></th>\n",
              "    </tr>\n",
              "  </thead>\n",
              "  <tbody>\n",
              "    <tr>\n",
              "      <th>PAPER</th>\n",
              "      <td>1084</td>\n",
              "    </tr>\n",
              "    <tr>\n",
              "      <th>TELEPHONES AND COMMUNICATION</th>\n",
              "      <td>882</td>\n",
              "    </tr>\n",
              "    <tr>\n",
              "      <th>BINDERS AND BINDER ACCESSORIES</th>\n",
              "      <td>848</td>\n",
              "    </tr>\n",
              "    <tr>\n",
              "      <th>COMPUTER PERIPHERALS</th>\n",
              "      <td>551</td>\n",
              "    </tr>\n",
              "    <tr>\n",
              "      <th>PENS &amp; ART SUPPLIES</th>\n",
              "      <td>525</td>\n",
              "    </tr>\n",
              "    <tr>\n",
              "      <th>VENDING MACHINE</th>\n",
              "      <td>383</td>\n",
              "    </tr>\n",
              "    <tr>\n",
              "      <th>AIR CONDITIONER</th>\n",
              "      <td>354</td>\n",
              "    </tr>\n",
              "    <tr>\n",
              "      <th>LABELS</th>\n",
              "      <td>334</td>\n",
              "    </tr>\n",
              "    <tr>\n",
              "      <th>RUBBER BANDS</th>\n",
              "      <td>325</td>\n",
              "    </tr>\n",
              "    <tr>\n",
              "      <th>OFFICE MACHINES</th>\n",
              "      <td>318</td>\n",
              "    </tr>\n",
              "    <tr>\n",
              "      <th>ENVELOPES</th>\n",
              "      <td>244</td>\n",
              "    </tr>\n",
              "    <tr>\n",
              "      <th>COPIERS AND FAX</th>\n",
              "      <td>129</td>\n",
              "    </tr>\n",
              "  </tbody>\n",
              "</table>\n",
              "</div><br><label><b>dtype:</b> int64</label>"
            ]
          },
          "metadata": {},
          "execution_count": 38
        }
      ]
    },
    {
      "cell_type": "code",
      "execution_count": 39,
      "id": "0353db29",
      "metadata": {
        "id": "0353db29",
        "outputId": "5dd270ef-637f-4cd3-a3bb-03c364886e06",
        "colab": {
          "base_uri": "https://localhost:8080/"
        }
      },
      "outputs": [
        {
          "output_type": "stream",
          "name": "stdout",
          "text": [
            "                   sum_sq      df            F  PR(>F)\n",
            "C(Products)  9.204096e+10     3.0  2103.899055     0.0\n",
            "Residual     4.901212e+10  3361.0          NaN     NaN\n"
          ]
        }
      ],
      "source": [
        "# Filter the dataset for the specified product types\n",
        "filtered_df = df[df['Products'].isin(['PAPER', 'TELEPHONES AND COMMUNICATION', 'BINDERS AND BINDER ACCESSORIES',\n",
        "                                      'COMPUTER PERIPHERALS'])]\n",
        "\n",
        "# Perform one-way ANOVA\n",
        "model = ols('Sales ~ C(Products)', data=filtered_df).fit()\n",
        "anova_table = sm.stats.anova_lm(model, typ=2)\n",
        "\n",
        "print(anova_table)"
      ]
    },
    {
      "cell_type": "markdown",
      "source": [
        "**p-value is less than 0.05**, we reject the null hypothesis and conclude that there is a significant difference in sales between the different product types."
      ],
      "metadata": {
        "id": "jSJhz448qPlO"
      },
      "id": "jSJhz448qPlO"
    },
    {
      "cell_type": "code",
      "source": [],
      "metadata": {
        "id": "px_XraN7pzvs"
      },
      "id": "px_XraN7pzvs",
      "execution_count": null,
      "outputs": []
    }
  ],
  "metadata": {
    "kernelspec": {
      "display_name": "Python 3 (ipykernel)",
      "language": "python",
      "name": "python3"
    },
    "language_info": {
      "codemirror_mode": {
        "name": "ipython",
        "version": 3
      },
      "file_extension": ".py",
      "mimetype": "text/x-python",
      "name": "python",
      "nbconvert_exporter": "python",
      "pygments_lexer": "ipython3",
      "version": "3.9.6"
    },
    "colab": {
      "provenance": []
    }
  },
  "nbformat": 4,
  "nbformat_minor": 5
}