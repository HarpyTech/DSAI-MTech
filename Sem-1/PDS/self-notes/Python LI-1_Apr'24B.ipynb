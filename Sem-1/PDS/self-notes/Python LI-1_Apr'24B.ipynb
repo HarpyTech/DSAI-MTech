{
 "cells": [
  {
   "cell_type": "markdown",
   "id": "6648d902",
   "metadata": {},
   "source": [
    "1. Python\n",
    "2. Python Data Types\n",
    "3. Data conversion\n",
    "4. Containers\n",
    "5. Conditional Statement\n",
    "6. Loops\n",
    "7. Def Function\n",
    "8. List comprehension.\n",
    "9. Lambda\n",
    "10. Map\n",
    "11. Filter\n",
    "12. Reduce"
   ]
  },
  {
   "cell_type": "markdown",
   "id": "0e88824c",
   "metadata": {},
   "source": [
    "### 5. Conditional statement:"
   ]
  },
  {
   "cell_type": "markdown",
   "id": "8a566195",
   "metadata": {},
   "source": [
    "A `conditional statement` in Python allows you to execute different blocks of code based on whether a certain condition is true or false. The basic syntax includes:\n",
    "\n",
    "**Syntax:**\n",
    "\n",
    "if condition:\n",
    "    \n",
    "    # code block to execute if condition is true\n",
    "\n",
    "elif another_condition:\n",
    "    \n",
    "    # code block to execute if another_condition is true\n",
    "\n",
    "else:\n",
    "    \n",
    "    # code block to execute if none of the above conditions are true\n",
    "    \n",
    "Here's a brief breakdown:\n",
    "- `if`: Used to check a condition. If it's true, the code block under it is executed.\n",
    "- `elif` (short for else if): Used to check another condition if the previous condition(s) were false.\n",
    "- `else`: Used to provide a default action if none of the preceding conditions were true."
   ]
  },
  {
   "cell_type": "markdown",
   "id": "d2866c3e",
   "metadata": {},
   "source": [
    "#### Example:\n",
    "\n",
    "Write a program to determine whether a person is eligible to vote or note."
   ]
  },
  {
   "cell_type": "code",
   "execution_count": null,
   "id": "518db048",
   "metadata": {},
   "outputs": [],
   "source": []
  },
  {
   "cell_type": "markdown",
   "id": "eff8377d",
   "metadata": {},
   "source": [
    "#### Practice :\n",
    "Write a program to find the character is vowel or not:"
   ]
  },
  {
   "cell_type": "code",
   "execution_count": null,
   "id": "02fabd3f",
   "metadata": {},
   "outputs": [],
   "source": []
  },
  {
   "cell_type": "markdown",
   "id": "05336fbb",
   "metadata": {},
   "source": [
    "### 6. For Loop"
   ]
  },
  {
   "cell_type": "markdown",
   "id": "11d56bb0",
   "metadata": {},
   "source": [
    "A for loop in Python is used to iterate over a sequence (such as a list, tuple, string, or range) or any other iterable object. The basic syntax for a for loop in Python is as follows:\n",
    "\n",
    "**Syntax:**\n",
    "    \n",
    "for item in iterable:\n",
    "    # code block to execute for each item in the iterable\n",
    "\n",
    "Here's a breakdown of the syntax:\n",
    "\n",
    "`for:` This keyword initiates the loop.\n",
    "\n",
    "`item:` This variable represents the current item in the iteration. You can name it whatever you want.\n",
    "\n",
    "`in:` This keyword is used to specify the iterable object over which you want to iterate.\n",
    "\n",
    "`iterable:` This is the sequence, collection, or any other iterable object that you want to iterate over.\n",
    "\n",
    "`code block:` This is the block of code that will be executed for each item in the iterable."
   ]
  },
  {
   "cell_type": "markdown",
   "id": "30299083",
   "metadata": {},
   "source": [
    "#### Example:\n",
    "Write a program to classify a given number as prime or composite."
   ]
  },
  {
   "cell_type": "code",
   "execution_count": null,
   "id": "b339998d",
   "metadata": {},
   "outputs": [],
   "source": []
  },
  {
   "cell_type": "markdown",
   "id": "2bef373c",
   "metadata": {},
   "source": [
    "#### Practice:\n",
    "Write a program to print all the numbers from m-n thereby classifing them as odd or even."
   ]
  },
  {
   "cell_type": "code",
   "execution_count": 2,
   "id": "652771d9",
   "metadata": {},
   "outputs": [
    {
     "name": "stdout",
     "output_type": "stream",
     "text": [
      "Enter Number M10\n",
      "Enter Number N24\n",
      "Even\n",
      "Odd\n",
      "Even\n",
      "Odd\n",
      "Even\n",
      "Odd\n",
      "Even\n",
      "Odd\n",
      "Even\n",
      "Odd\n",
      "Even\n",
      "Odd\n",
      "Even\n",
      "Odd\n",
      "Even\n"
     ]
    }
   ],
   "source": [
    "number_i1 = int(input(\"Enter Number M\"))\n",
    "number_i2 = int(input(\"Enter Number N\"))\n",
    "\n",
    "while number_i1 <= number_i2:\n",
    "    if number_i1 % 2 == 0:\n",
    "        print(\"Even\")\n",
    "    else:\n",
    "        print(\"Odd\")\n",
    "    number_i1 += 1"
   ]
  },
  {
   "cell_type": "markdown",
   "id": "ad79c644",
   "metadata": {},
   "source": [
    "### 7. While loop:\n",
    "\n",
    "A while loop in Python is used to repeatedly execute a block of code as long as a condition is true. The basic syntax for a while loop in Python is as follows:\n",
    "\n",
    "**Syntax:**\n",
    "\n",
    "while condition:\n",
    "    # code block to execute as long as the condition is true\n",
    "\n",
    "Here's a breakdown of the syntax:\n",
    "\n",
    "`while:` This keyword initiates the while loop.\n",
    "\n",
    "`condition:` This is the condition that is evaluated before each iteration of the loop. If the condition is true, the code block under the while loop will execute. If the condition is false, the loop terminates.\n",
    "\n",
    "`code block:` This is the block of code that will be executed repeatedly as long as the condition remains true."
   ]
  },
  {
   "cell_type": "markdown",
   "id": "ca0faf99",
   "metadata": {},
   "source": [
    "#### Example:\n",
    "Write a program to calculate sum and average of first 10 numbers:"
   ]
  },
  {
   "cell_type": "code",
   "execution_count": 8,
   "id": "cf027b08",
   "metadata": {},
   "outputs": [
    {
     "name": "stdout",
     "output_type": "stream",
     "text": [
      "Sum:   55 ,  Avg:  5.5\n"
     ]
    }
   ],
   "source": [
    "total_sum = 0\n",
    "current_num = 0\n",
    "i = 0\n",
    "while i <= 10:\n",
    "    total_sum += i\n",
    "    i +=1\n",
    "\n",
    "avg_value = total_sum / 10\n",
    "\n",
    "print(\"Sum:  \", total_sum, \",  Avg: \", avg_value )"
   ]
  },
  {
   "cell_type": "markdown",
   "id": "65f745a2",
   "metadata": {},
   "source": [
    "#### Practice:\n",
    "Write a program to reverse a number."
   ]
  },
  {
   "cell_type": "code",
   "execution_count": 2,
   "id": "60d0023d",
   "metadata": {},
   "outputs": [
    {
     "name": "stdout",
     "output_type": "stream",
     "text": [
      "Reversed Number:  45231\n"
     ]
    }
   ],
   "source": [
    "num = int(input('Enter a number: '))\n",
    "\n",
    "reversed_num = 0\n",
    "\n",
    "while num != 0:\n",
    "    digit = num % 10\n",
    "    reversed_num = reversed_num * 10 + digit\n",
    "    num //= 10\n",
    "\n",
    "print(\"Reversed Number: \" , reversed_num)"
   ]
  },
  {
   "cell_type": "markdown",
   "id": "5722c237",
   "metadata": {},
   "source": [
    "### 8. Def function:\n",
    "\n",
    "def keyword is used to define a function. Functions are blocks of code that perform a specific task and can be reused throughout your program. Here's the basic syntax for defining a function:\n",
    "\n",
    "**Syntax:**\n",
    "\n",
    "def function_name(parameters):\n",
    "    \n",
    "    Body\n",
    "    \n",
    "    return value  # Optional return statement"
   ]
  },
  {
   "cell_type": "markdown",
   "id": "e50c9372",
   "metadata": {},
   "source": [
    "#### Example:\n",
    "\n",
    "Write a program to convert time into minutes"
   ]
  },
  {
   "cell_type": "code",
   "execution_count": 3,
   "id": "c4290a6c",
   "metadata": {},
   "outputs": [
    {
     "name": "stdout",
     "output_type": "stream",
     "text": [
      " Mins:  150\n"
     ]
    }
   ],
   "source": [
    "def time_min(h, m):\n",
    "    total_mins = h * 60 + m\n",
    "    print(\" Mins: \", total_mins)\n",
    "\n",
    "time_min(2,30)"
   ]
  },
  {
   "cell_type": "markdown",
   "id": "5843d96d",
   "metadata": {},
   "source": [
    "#### Parctice:\n",
    "Write a program to swap 2 numbers."
   ]
  },
  {
   "cell_type": "code",
   "execution_count": 5,
   "id": "ab155e46",
   "metadata": {},
   "outputs": [
    {
     "name": "stdout",
     "output_type": "stream",
     "text": [
      "12 10\n"
     ]
    }
   ],
   "source": [
    "def swap_nums(n,m):\n",
    "    t = n\n",
    "    n = m\n",
    "    m =t\n",
    "    print(n,m)\n",
    "swap_nums(10, 12)"
   ]
  },
  {
   "cell_type": "markdown",
   "id": "5536e4f7",
   "metadata": {},
   "source": [
    "### 9. List comprehension"
   ]
  },
  {
   "cell_type": "markdown",
   "id": "28f90d18",
   "metadata": {},
   "source": [
    "List comprehension is a concise way of creating lists in Python. It allows you to generate a new list by applying an expression to each item in an existing iterable (such as a list, tuple, or range) and optionally filtering the items based on a condition. The default syntax for list comprehension in Python is:\n",
    "\n",
    "**Synatx:**\n",
    "\n",
    "new_list = [expression for item in iterable if condition]\n",
    "\n",
    "Here's a breakdown of the syntax:\n",
    "\n",
    "`new_list`: This is the new list that will be created as a result of the list comprehension.\n",
    "\n",
    "`expression`: This is the expression that will be applied to each item in the iterable to generate the elements of the new list.\n",
    "\n",
    "`for item in iterable`: This part specifies the iteration over the items in the iterable. It's similar to the syntax of a regular for loop.\n",
    "\n",
    "`if condition`: This is an optional part that allows you to include only those items for which the condition is true."
   ]
  },
  {
   "cell_type": "markdown",
   "id": "292a002a",
   "metadata": {},
   "source": [
    "#### Example:\n",
    "\n",
    "Write a program to calculate cube from 1-10."
   ]
  },
  {
   "cell_type": "code",
   "execution_count": 6,
   "id": "9b222534",
   "metadata": {},
   "outputs": [
    {
     "name": "stdout",
     "output_type": "stream",
     "text": [
      "My List [1, 8, 27, 64, 125, 216, 343, 512, 729, 1000]\n"
     ]
    }
   ],
   "source": [
    "mylist = [ n ** 3 for n in range(1, 11)]\n",
    "\n",
    "print(\"My List\", mylist)"
   ]
  },
  {
   "cell_type": "markdown",
   "id": "0a73e77d",
   "metadata": {},
   "source": [
    "### Lmabda"
   ]
  },
  {
   "cell_type": "markdown",
   "id": "5fb499a6",
   "metadata": {},
   "source": [
    "A lambda operator or lambda function is used for creating small, one-time, anonymous function objects in Python.<br><br>The general expression for a lambda function is <br>\n",
    "                                      lambda argument(s): expression <br><br>\n",
    "                        "
   ]
  },
  {
   "cell_type": "code",
   "execution_count": null,
   "id": "90fb8ab4",
   "metadata": {},
   "outputs": [],
   "source": []
  },
  {
   "cell_type": "markdown",
   "id": "a5e58273",
   "metadata": {},
   "source": [
    "#### Example:\n",
    "Obtain the minimum among two numbers"
   ]
  },
  {
   "cell_type": "code",
   "execution_count": 7,
   "id": "ea6beefe",
   "metadata": {},
   "outputs": [
    {
     "data": {
      "text/plain": [
       "20"
      ]
     },
     "execution_count": 7,
     "metadata": {},
     "output_type": "execute_result"
    }
   ],
   "source": [
    "get_min = lambda n,m: n if n < m else m\n",
    "\n",
    "get_min(20, 22)"
   ]
  },
  {
   "cell_type": "markdown",
   "id": "b81ff2df",
   "metadata": {},
   "source": [
    "#### Practice:\n",
    "Check whether two strings are equal."
   ]
  },
  {
   "cell_type": "code",
   "execution_count": 8,
   "id": "5e9c2029",
   "metadata": {},
   "outputs": [
    {
     "data": {
      "text/plain": [
       "True"
      ]
     },
     "execution_count": 8,
     "metadata": {},
     "output_type": "execute_result"
    }
   ],
   "source": [
    "is_eq = lambda s1,s2: s1 == s2\n",
    "\n",
    "is_eq(\"Python\", \"Python\")"
   ]
  },
  {
   "cell_type": "markdown",
   "id": "43b5e877",
   "metadata": {},
   "source": [
    "### Map"
   ]
  },
  {
   "cell_type": "markdown",
   "id": "33f66a6b",
   "metadata": {},
   "source": [
    "map() is a built-in Python function that applies a given function to each item of an iterable (such as a list, tuple, or string) and returns a map object (an iterator) which can be converted into another data structure like a list or tuple. The syntax for map() function is:\n",
    "\n",
    "**Syntax:**\n",
    "map(function, iterable)\n",
    "\n",
    "Here's a breakdown of the syntax:\n",
    "\n",
    "function: This is a function that you want to apply to each item of the iterable. It could be a built-in function, a user-\n",
    "\n",
    "defined function, or a lambda function.\n",
    "\n",
    "iterable: This is an iterable (such as a list, tuple, or string) whose elements will be passed to the function."
   ]
  },
  {
   "cell_type": "markdown",
   "id": "45ac4c3c",
   "metadata": {},
   "source": [
    "#### Map Example:\n",
    "\n",
    "A test was conducted in a class, the list of all the scores is given. Tha scores are out of 45. Obtain the percentage of each score using lambda function.\n",
    "             \n",
    "marks = [ 20, 23, 34, 45, 33, 10, 43, 23, 27, 34, 37, 44, 42, 43 ]\n"
   ]
  },
  {
   "cell_type": "code",
   "execution_count": 11,
   "id": "7a0deb9e",
   "metadata": {},
   "outputs": [
    {
     "data": {
      "text/plain": [
       "[44.44444444444444,\n",
       " 51.111111111111114,\n",
       " 75.55555555555556,\n",
       " 100.0,\n",
       " 73.33333333333333,\n",
       " 22.22222222222222,\n",
       " 95.55555555555556,\n",
       " 51.111111111111114,\n",
       " 60.0,\n",
       " 75.55555555555556,\n",
       " 82.22222222222223,\n",
       " 97.77777777777777,\n",
       " 93.33333333333333,\n",
       " 95.55555555555556]"
      ]
     },
     "execution_count": 11,
     "metadata": {},
     "output_type": "execute_result"
    }
   ],
   "source": [
    "marks = [ 20, 23, 34, 45, 33, 10, 43, 23, 27, 34, 37, 44, 42, 43 ]\n",
    "\n",
    "list(map(lambda x,y=100: x*y/45, marks))"
   ]
  },
  {
   "cell_type": "markdown",
   "id": "3886889f",
   "metadata": {},
   "source": [
    "#### Practice:\n",
    "\n",
    "Create two lists and add corresponding elements of each list."
   ]
  },
  {
   "cell_type": "code",
   "execution_count": 12,
   "id": "fb7db0bc",
   "metadata": {},
   "outputs": [
    {
     "data": {
      "text/plain": [
       "[3, 7, 7, 8, 67, 14]"
      ]
     },
     "execution_count": 12,
     "metadata": {},
     "output_type": "execute_result"
    }
   ],
   "source": [
    "l1 = [1,2,4,2,65,8]\n",
    "l2 = [2,5,3,6,2,6]\n",
    "\n",
    "list(map(lambda x,y: x+y, l1,l2))"
   ]
  },
  {
   "cell_type": "markdown",
   "id": "bdfa69fe",
   "metadata": {},
   "source": [
    "### Filter"
   ]
  },
  {
   "cell_type": "markdown",
   "id": "298c790d",
   "metadata": {},
   "source": [
    "The filter() function in Python is used to construct an iterator from elements of an iterable for which a function returns true. It filters out elements based on the function provided. The syntax for filter() function is:\n",
    "\n",
    "**Syntax:**\n",
    "    \n",
    "filter(function, iterable)\n",
    "\n",
    "Here's a breakdown of the syntax:\n",
    "\n",
    "`function`: This is a function that tests if each element of the iterable is true or not. It can be a built-in function, a user-defined function, or a lambda function.\n",
    "\n",
    "`iterable`: This is an iterable (such as a list, tuple, or string) whose elements will be tested by the function.\n",
    "filter() returns an iterator yielding those items of the iterable for which the function returned true. To get the result in \n",
    "list, tuple, or any other iterable, you typically convert it using the list(), tuple(), or another constructor."
   ]
  },
  {
   "cell_type": "markdown",
   "id": "a5ff852b",
   "metadata": {},
   "source": [
    "#### Example:\n",
    "Program to create a list of numbers divisible by 2 or 4."
   ]
  },
  {
   "cell_type": "code",
   "execution_count": 13,
   "id": "463c3a6c",
   "metadata": {},
   "outputs": [
    {
     "data": {
      "text/plain": [
       "[2, 4, 6, 6, 8]"
      ]
     },
     "execution_count": 13,
     "metadata": {},
     "output_type": "execute_result"
    }
   ],
   "source": [
    "l1 = [1,2,3,4,5,6,6,7,8,9]\n",
    "\n",
    "list(filter(lambda x: x % 2 == 0, l1))"
   ]
  },
  {
   "cell_type": "markdown",
   "id": "f63cc920",
   "metadata": {},
   "source": [
    "### Reduce"
   ]
  },
  {
   "cell_type": "markdown",
   "id": "ac0a7cbe",
   "metadata": {},
   "source": [
    "The reduce() function in Python is used to apply a function of two arguments cumulatively to the items of an iterable, from left to right, so as to reduce the iterable to a single value. The reduce() function is part of the functools module in Python 3 and needs to be imported before using. The syntax for reduce() function is:\n",
    "\n",
    "**Syntax:**\n",
    "    \n",
    "functools.reduce(function, iterable[, initializer])\n",
    "\n",
    "Here's a breakdown of the syntax:\n",
    "\n",
    "`function`: This is a function that takes two arguments and performs some operation on them. The function is applied cumulatively to the items of the iterable.\n",
    "\n",
    "`iterable`: This is an iterable (such as a list, tuple, or string) whose items will be reduced by the function.\n",
    "\n",
    "`initializer (optional)`: This is an optional initial value for the reduction. If provided, it's placed before the items of the \n",
    "\n",
    "iterable in the calculation, and serves as a default when the iterable is empty.\n",
    "reduce() returns a single value that results from applying the function cumulatively to the items of the iterable."
   ]
  },
  {
   "cell_type": "markdown",
   "id": "6083eff0",
   "metadata": {},
   "source": [
    "#### Example:\n",
    "Write a program to calculate the sum of values in a list using the reduce() function."
   ]
  },
  {
   "cell_type": "code",
   "execution_count": 14,
   "id": "5e044597",
   "metadata": {},
   "outputs": [
    {
     "data": {
      "text/plain": [
       "51"
      ]
     },
     "execution_count": 14,
     "metadata": {},
     "output_type": "execute_result"
    }
   ],
   "source": [
    "import functools\n",
    "\n",
    "functools.reduce(lambda x, y: x+y, l1)"
   ]
  },
  {
   "cell_type": "code",
   "execution_count": null,
   "id": "5d7a8819",
   "metadata": {},
   "outputs": [],
   "source": []
  }
 ],
 "metadata": {
  "kernelspec": {
   "display_name": "Python 3 (ipykernel)",
   "language": "python",
   "name": "python3"
  },
  "language_info": {
   "codemirror_mode": {
    "name": "ipython",
    "version": 3
   },
   "file_extension": ".py",
   "mimetype": "text/x-python",
   "name": "python",
   "nbconvert_exporter": "python",
   "pygments_lexer": "ipython3",
   "version": "3.11.7"
  }
 },
 "nbformat": 4,
 "nbformat_minor": 5
}
