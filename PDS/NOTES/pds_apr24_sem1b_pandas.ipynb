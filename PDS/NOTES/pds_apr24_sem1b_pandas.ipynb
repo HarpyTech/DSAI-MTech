{
 "cells": [
  {
   "cell_type": "markdown",
   "id": "5a478bbb-fd51-4a05-a8aa-b6b3b46d7a72",
   "metadata": {},
   "source": [
    "# 11/May/2024"
   ]
  },
  {
   "cell_type": "markdown",
   "id": "ab2109c3-09e9-4ea9-8c20-8238989e8277",
   "metadata": {},
   "source": [
    "# Pandas"
   ]
  },
  {
   "cell_type": "code",
   "execution_count": null,
   "id": "28b60bf7-e570-4061-94b7-8458c2bab5dd",
   "metadata": {},
   "outputs": [],
   "source": [
    "import pandas as pd\n",
    "import numpy as np"
   ]
  },
  {
   "cell_type": "code",
   "execution_count": null,
   "id": "f14dfc03-936f-45b8-8a7c-42d00166ae75",
   "metadata": {},
   "outputs": [],
   "source": [
    "import os\n",
    "os.getcwd()"
   ]
  },
  {
   "cell_type": "code",
   "execution_count": null,
   "id": "0f761647-07e0-4b9d-9f71-0b2309d9a668",
   "metadata": {},
   "outputs": [],
   "source": [
    "!dir"
   ]
  },
  {
   "cell_type": "markdown",
   "id": "70f6862c-851f-45c2-a309-57aae71add20",
   "metadata": {},
   "source": [
    "# Series"
   ]
  },
  {
   "cell_type": "raw",
   "id": "f34d5654-a9f3-4aad-9893-b00fce4396fc",
   "metadata": {},
   "source": [
    "\n",
    "\n",
    "Tata       100\n",
    "Birla      200\n",
    "Wipro      300\n",
    "Infy       400"
   ]
  },
  {
   "cell_type": "code",
   "execution_count": null,
   "id": "ccd882f3-f76e-42bf-a9f1-a7ba244c9fa8",
   "metadata": {},
   "outputs": [],
   "source": [
    "vlist = [100,200,300,400]\n",
    "labels_list = ['Tata','Birla','Wipro','Infy']\n",
    "\n",
    "print(len(vlist))\n",
    "print(len(labels_list))"
   ]
  },
  {
   "cell_type": "code",
   "execution_count": null,
   "id": "0e91e3d8-177d-4a2f-841c-f25964190cf1",
   "metadata": {},
   "outputs": [],
   "source": [
    "ps1 = pd.Series(vlist, index=labels_list)\n",
    "print(type(ps1))\n",
    "print(ps1.index)\n",
    "print(ps1.shape)\n",
    "print(ps1.ndim)\n",
    "print(ps1.values)\n",
    "print(type(ps1.values))\n",
    "ps1"
   ]
  },
  {
   "cell_type": "code",
   "execution_count": null,
   "id": "4d324615-04bc-473c-88cb-0421882ec533",
   "metadata": {},
   "outputs": [],
   "source": [
    "ps1.index"
   ]
  },
  {
   "cell_type": "code",
   "execution_count": null,
   "id": "a03d7ccd-d8f9-426d-9c14-60767fba9603",
   "metadata": {},
   "outputs": [],
   "source": [
    "for i in ps1.index:\n",
    "    print(i)"
   ]
  },
  {
   "cell_type": "code",
   "execution_count": null,
   "id": "ad9cd96a-e6af-43e7-a72a-8a455028e7e0",
   "metadata": {},
   "outputs": [],
   "source": [
    "ps1.index[0]"
   ]
  },
  {
   "cell_type": "code",
   "execution_count": null,
   "id": "d1156598-d4d1-4e88-9eae-030369e472fb",
   "metadata": {},
   "outputs": [],
   "source": [
    "ps1[0]"
   ]
  },
  {
   "cell_type": "code",
   "execution_count": null,
   "id": "d1010e60-aa5a-4f09-8774-e6cd0fc17afd",
   "metadata": {},
   "outputs": [],
   "source": [
    "ps1['Tata']"
   ]
  },
  {
   "cell_type": "code",
   "execution_count": null,
   "id": "c8a126b7-2201-4573-9cc8-c8ff6ec0ec7a",
   "metadata": {},
   "outputs": [],
   "source": [
    "ps1[1:3]  #  unlabelled slice endpoint=False"
   ]
  },
  {
   "cell_type": "code",
   "execution_count": null,
   "id": "6dd75d01-a7f5-423e-9676-4a3896c8b802",
   "metadata": {},
   "outputs": [],
   "source": [
    "ps1['Birla':'Infy']  # labelled slice endpoint=True"
   ]
  },
  {
   "cell_type": "code",
   "execution_count": null,
   "id": "42c78ee9-c16e-4774-8d36-ca4627ed1fc6",
   "metadata": {},
   "outputs": [],
   "source": [
    "ps1[ ['Birla','Infy','Tata'] ]"
   ]
  },
  {
   "cell_type": "code",
   "execution_count": null,
   "id": "917a3fa5-8f8e-45a7-8ab7-5a669191d3ce",
   "metadata": {},
   "outputs": [],
   "source": [
    "ps1.mean()"
   ]
  },
  {
   "cell_type": "code",
   "execution_count": null,
   "id": "a5a410a0-447d-4b1e-969c-23a55fffec26",
   "metadata": {},
   "outputs": [],
   "source": [
    "ps1.min()"
   ]
  },
  {
   "cell_type": "code",
   "execution_count": null,
   "id": "632dd3c6-bdd7-4f8b-b96d-0cfe1ffc11dd",
   "metadata": {},
   "outputs": [],
   "source": [
    "ps1.max()"
   ]
  },
  {
   "cell_type": "code",
   "execution_count": null,
   "id": "cdc8e476-2452-4e67-ac8b-04358617ae14",
   "metadata": {},
   "outputs": [],
   "source": [
    "ps1['Tata'] = 1000"
   ]
  },
  {
   "cell_type": "code",
   "execution_count": null,
   "id": "7d0a5772-fc7b-4bab-bf8c-69a4ca52230f",
   "metadata": {},
   "outputs": [],
   "source": [
    "ps1"
   ]
  },
  {
   "cell_type": "code",
   "execution_count": null,
   "id": "9829991c-6584-4090-98d3-bf15cc369859",
   "metadata": {},
   "outputs": [],
   "source": [
    "md1 = {'Tata':111, 'Birla':222, 'Wipro':333, 'Infy':444}\n",
    "ps2 = pd.Series(md1)\n",
    "print(ps2.index)\n",
    "print(ps2.values)\n",
    "ps2"
   ]
  },
  {
   "cell_type": "markdown",
   "id": "010453ae-523a-4b60-81ae-26bec633243a",
   "metadata": {},
   "source": [
    "# DataFrame"
   ]
  },
  {
   "cell_type": "raw",
   "id": "df77106e-5b7e-4083-817d-f6fb14c97778",
   "metadata": {},
   "source": [
    "         Rev Exp HQ\n",
    "Tata     100 50  'Mum'\n",
    "Birla    200 150 'Kol'\n",
    "Wipro    300 250  'Blr'\n",
    "Infy     400 350  'Blr'\n",
    "MRF      500 450  'Che'"
   ]
  },
  {
   "cell_type": "code",
   "execution_count": null,
   "id": "375345b9-8ea6-44f2-a12a-32344d5f1058",
   "metadata": {},
   "outputs": [],
   "source": [
    "row_label_list = ['Tata', 'Birla','Wipro', 'Infy', 'MRF']\n",
    "col_label_list = ['Rev', 'Exp', 'HQ']\n",
    "\n",
    "values_list = [\n",
    "    [100,50,'Mum'],\n",
    "    [200,150,'Kol'],\n",
    "    [300,250,'Blr'],\n",
    "    [400,350,'Blr'],\n",
    "    [500,450,'Che']\n",
    "]"
   ]
  },
  {
   "cell_type": "code",
   "execution_count": null,
   "id": "222e9c56-f4f7-49f5-9ade-0f203a22a53b",
   "metadata": {},
   "outputs": [],
   "source": [
    "df1 = pd.DataFrame(values_list, index=row_label_list, columns=col_label_list)\n",
    "print(df1)\n",
    "print(df1.index)\n",
    "print(df1.columns)\n",
    "print(df1.values)"
   ]
  },
  {
   "cell_type": "code",
   "execution_count": null,
   "id": "b9d5192b-f657-4427-94cd-f9e1ede48a79",
   "metadata": {},
   "outputs": [],
   "source": [
    "md1 = {'Rev':[100,200,300,400,500],\n",
    "      'Exp':[50,150,250,350,450],\n",
    "      'HQ':['Mum','Kol','Blr','Blr','Che']}\n",
    "df2 = pd.DataFrame(md1, index=row_label_list)\n",
    "print(df2)\n",
    "print(df2.index)\n",
    "print(df2.columns)\n",
    "print(df2.values)\n",
    "print(df2.shape)"
   ]
  },
  {
   "cell_type": "markdown",
   "id": "3855d7b4-4b07-4b2f-88bc-4b5e1b6d13cc",
   "metadata": {},
   "source": [
    "# Read csv file"
   ]
  },
  {
   "cell_type": "code",
   "execution_count": null,
   "id": "bc53d94c-4519-48c5-8e06-439870168771",
   "metadata": {},
   "outputs": [],
   "source": [
    "df1 = pd.read_csv('lds1.csv')\n",
    "df1"
   ]
  },
  {
   "cell_type": "code",
   "execution_count": null,
   "id": "5fdbdcd4-a947-4f8f-ae6f-84f026321032",
   "metadata": {},
   "outputs": [],
   "source": [
    "df1 = pd.read_csv(r'C:\\Users\\Classroom_602\\Documents\\Python Scripts\\mtech_pds_apr24b\\lds1.csv')\n",
    "df1"
   ]
  },
  {
   "cell_type": "code",
   "execution_count": null,
   "id": "1176f9d9-ef60-4aa9-9880-075ba09d6b41",
   "metadata": {},
   "outputs": [],
   "source": [
    "print(df1.shape)"
   ]
  },
  {
   "cell_type": "code",
   "execution_count": null,
   "id": "f33729fe-af0b-4dfc-b7a1-ffd8653fd5d1",
   "metadata": {},
   "outputs": [],
   "source": [
    "df1.info()"
   ]
  },
  {
   "cell_type": "code",
   "execution_count": null,
   "id": "36ea73fb-6b88-4efa-b3f0-fd6284198e8d",
   "metadata": {},
   "outputs": [],
   "source": [
    "r = df1.describe()  #  summary stats\n",
    "print(type(r))\n",
    "r"
   ]
  },
  {
   "cell_type": "code",
   "execution_count": null,
   "id": "bcda2c2b-4a97-4476-8815-d6bee6cec3ca",
   "metadata": {},
   "outputs": [],
   "source": [
    "r.index"
   ]
  },
  {
   "cell_type": "code",
   "execution_count": null,
   "id": "c3b65f55-e77b-4a12-bf62-7f938c1fa92c",
   "metadata": {},
   "outputs": [],
   "source": [
    "r.columns"
   ]
  },
  {
   "cell_type": "code",
   "execution_count": null,
   "id": "e7cb4db3-0304-4940-979e-8fde066f64cb",
   "metadata": {},
   "outputs": [],
   "source": [
    "df1.describe(include='all')"
   ]
  },
  {
   "cell_type": "code",
   "execution_count": null,
   "id": "e6d72eff-4d50-476b-9e6d-ee04cff1ccfd",
   "metadata": {},
   "outputs": [],
   "source": [
    "df1.describe(include=[object,np.float64])"
   ]
  },
  {
   "cell_type": "code",
   "execution_count": null,
   "id": "0fcc5437-227f-4172-b9b6-dd6c8c6c913a",
   "metadata": {},
   "outputs": [],
   "source": [
    "df1.describe(include=np.int64)"
   ]
  },
  {
   "cell_type": "code",
   "execution_count": null,
   "id": "30d910a9-cf0f-410f-bbd9-b98873577341",
   "metadata": {},
   "outputs": [],
   "source": [
    "df1.describe(include=np.int64)"
   ]
  },
  {
   "cell_type": "code",
   "execution_count": null,
   "id": "736794e4-2a2b-4a38-8b69-16dba3e9f447",
   "metadata": {},
   "outputs": [],
   "source": [
    "df1.head()"
   ]
  },
  {
   "cell_type": "code",
   "execution_count": null,
   "id": "07a28c4c-178c-450c-92b1-014d676fd92e",
   "metadata": {},
   "outputs": [],
   "source": [
    "df1.tail(3)"
   ]
  },
  {
   "cell_type": "markdown",
   "id": "b86b0020-8fe5-43da-9df6-bfc3093b6f09",
   "metadata": {},
   "source": [
    "# Access"
   ]
  },
  {
   "cell_type": "code",
   "execution_count": null,
   "id": "768912d8-2556-48c1-83be-de42afd97cc7",
   "metadata": {},
   "outputs": [],
   "source": [
    "df1"
   ]
  },
  {
   "cell_type": "code",
   "execution_count": null,
   "id": "8236a1aa-cd0c-4ca0-9323-6d0ac1ef630f",
   "metadata": {},
   "outputs": [],
   "source": [
    "df1.index"
   ]
  },
  {
   "cell_type": "code",
   "execution_count": null,
   "id": "53b70714-672f-442e-9291-ff3ac2ec2e61",
   "metadata": {},
   "outputs": [],
   "source": [
    "df1.columns"
   ]
  },
  {
   "cell_type": "code",
   "execution_count": null,
   "id": "bffe64e5-4772-4be8-9d94-9c39f262c74b",
   "metadata": {},
   "outputs": [],
   "source": [
    "df1['Rev']"
   ]
  },
  {
   "cell_type": "code",
   "execution_count": null,
   "id": "4113c3bc-3152-46a8-a595-e09eb907be58",
   "metadata": {},
   "outputs": [],
   "source": [
    "df1['Chennai_Chemicals']"
   ]
  },
  {
   "cell_type": "code",
   "execution_count": null,
   "id": "5426b6ef-8db4-4fe9-8794-513313a9f9b1",
   "metadata": {},
   "outputs": [],
   "source": [
    "df1[  ['Rev','HQ', 'GST'] ]"
   ]
  },
  {
   "cell_type": "code",
   "execution_count": null,
   "id": "0de975b7-cae1-4e03-9204-2c1c7e5f2226",
   "metadata": {},
   "outputs": [],
   "source": [
    "df1[ ['Bombay_Finance', 'Central_Services'] ]"
   ]
  },
  {
   "cell_type": "code",
   "execution_count": null,
   "id": "c6a29fa7-f5bc-4da2-a674-bc06d55ea6a2",
   "metadata": {},
   "outputs": [],
   "source": [
    "df1[ 'Rev':'HQ' ]"
   ]
  },
  {
   "cell_type": "code",
   "execution_count": null,
   "id": "fdab29d7-362f-400a-a9ab-d9d4f43163c6",
   "metadata": {},
   "outputs": [],
   "source": [
    "df1['Indi_Services': 'Eastern_Estates']"
   ]
  },
  {
   "cell_type": "code",
   "execution_count": null,
   "id": "43bd8456-4566-4c1b-bdba-ecb282c34293",
   "metadata": {},
   "outputs": [],
   "source": [
    "df1['Indi_Services': 'Indi_Services']"
   ]
  },
  {
   "cell_type": "code",
   "execution_count": null,
   "id": "de25ca89-a1a9-48de-8945-533192e64239",
   "metadata": {},
   "outputs": [],
   "source": [
    "print(dir(df1))"
   ]
  },
  {
   "cell_type": "code",
   "execution_count": null,
   "id": "2e21b73a-36fa-4b03-97c5-df5ae22936ff",
   "metadata": {},
   "outputs": [],
   "source": [
    "df1.EmpCnt"
   ]
  },
  {
   "cell_type": "code",
   "execution_count": null,
   "id": "c9b57824-0ea9-4bc9-8b6d-572d223105c7",
   "metadata": {},
   "outputs": [],
   "source": [
    "df1.columns"
   ]
  },
  {
   "cell_type": "code",
   "execution_count": null,
   "id": "8e3756c8-6be7-4503-9c84-472cc42d5398",
   "metadata": {},
   "outputs": [],
   "source": [
    "df1.Start Date   #  error"
   ]
  },
  {
   "cell_type": "code",
   "execution_count": null,
   "id": "f818beec-f932-4a19-933e-4d866f29267f",
   "metadata": {},
   "outputs": [],
   "source": [
    "df1['Start Date']"
   ]
  },
  {
   "cell_type": "markdown",
   "id": "bcd9b867-c359-4b63-85ba-c5e6138c9c89",
   "metadata": {},
   "source": [
    "# Unlabelled Access or Integer Location BAsed Access"
   ]
  },
  {
   "cell_type": "code",
   "execution_count": null,
   "id": "21dd65be-1871-4baa-b011-e2eb9778c298",
   "metadata": {},
   "outputs": [],
   "source": [
    "df1.iloc[0]"
   ]
  },
  {
   "cell_type": "code",
   "execution_count": null,
   "id": "63a01a2c-8c05-4082-9230-2313453d1f22",
   "metadata": {},
   "outputs": [],
   "source": [
    "df1.iloc[0, 0]"
   ]
  },
  {
   "cell_type": "code",
   "execution_count": null,
   "id": "b9b85b9e-80cd-4e14-a09e-cf2e649541d9",
   "metadata": {},
   "outputs": [],
   "source": [
    "df1"
   ]
  },
  {
   "cell_type": "code",
   "execution_count": null,
   "id": "eb9cb5ac-aec4-46d6-be15-11930e4f5663",
   "metadata": {},
   "outputs": [],
   "source": [
    "df1.iloc[-1,-1]"
   ]
  },
  {
   "cell_type": "code",
   "execution_count": null,
   "id": "e39e35f7-479f-47a3-a29f-2a311c83963c",
   "metadata": {},
   "outputs": [],
   "source": [
    "df1"
   ]
  },
  {
   "cell_type": "code",
   "execution_count": null,
   "id": "02b1f4d4-7f04-4c74-935c-f8243c605c5a",
   "metadata": {},
   "outputs": [],
   "source": [
    "df1.iloc[0:5:2]"
   ]
  },
  {
   "cell_type": "code",
   "execution_count": null,
   "id": "7d6d5138-5cae-44ae-a83b-ef8f9ae3c323",
   "metadata": {},
   "outputs": [],
   "source": [
    "df1.iloc[0:5:2, 1:8:3]  ##  0,2,4  1,4,7"
   ]
  },
  {
   "cell_type": "code",
   "execution_count": null,
   "id": "32e6bb2e-11d9-4d8c-843e-56fac890b4b1",
   "metadata": {},
   "outputs": [],
   "source": [
    "df1.iloc[  [0,2,-2,-1]  ]"
   ]
  },
  {
   "cell_type": "code",
   "execution_count": null,
   "id": "ea9dc95c-76b5-4cd7-947d-10b730e5b7dd",
   "metadata": {},
   "outputs": [],
   "source": [
    "df1.iloc[  [0,2,-2,-1]  , [0,1,-3,-1,-2] ]"
   ]
  },
  {
   "cell_type": "code",
   "execution_count": null,
   "id": "1b2a1e11-69ae-49cc-bcf3-56166311efaf",
   "metadata": {},
   "outputs": [],
   "source": [
    "df1.iloc[4, 3:7]"
   ]
  },
  {
   "cell_type": "code",
   "execution_count": null,
   "id": "afe84293-3de1-4111-b21f-94b52f6681be",
   "metadata": {},
   "outputs": [],
   "source": [
    "df1.iloc[ :, [0,-1,-2]]"
   ]
  },
  {
   "cell_type": "code",
   "execution_count": null,
   "id": "eff67725-8b4a-4545-bc09-e0cac589370d",
   "metadata": {},
   "outputs": [],
   "source": [
    "df1.iloc[ :, 0]  #  returns a series"
   ]
  },
  {
   "cell_type": "code",
   "execution_count": null,
   "id": "346adc31-2a4f-4b5a-9a62-fbeca2d8d745",
   "metadata": {},
   "outputs": [],
   "source": [
    "df1.iloc[ :, [0]  ]  #  returns a DF"
   ]
  },
  {
   "cell_type": "markdown",
   "id": "44aa40e1-ce73-48d9-b929-10904cb650a7",
   "metadata": {},
   "source": [
    "# Labelled Access"
   ]
  },
  {
   "cell_type": "code",
   "execution_count": null,
   "id": "5febff06-3862-479f-88c2-7cbe7edc96ff",
   "metadata": {},
   "outputs": [],
   "source": [
    "df1"
   ]
  },
  {
   "cell_type": "code",
   "execution_count": null,
   "id": "d95361fd-91fe-4826-8ad5-692dc7b4ad94",
   "metadata": {},
   "outputs": [],
   "source": [
    "df1.loc[0,0]"
   ]
  },
  {
   "cell_type": "code",
   "execution_count": null,
   "id": "2ed3730a-0566-4dce-a335-c99bd7ab1636",
   "metadata": {},
   "outputs": [],
   "source": [
    "print(df1.index)\n",
    "print(df1.columns)"
   ]
  },
  {
   "cell_type": "code",
   "execution_count": null,
   "id": "0fcf4805-13f2-40bd-bdea-c63447efd774",
   "metadata": {},
   "outputs": [],
   "source": [
    "df1.loc['Indi_Services']"
   ]
  },
  {
   "cell_type": "code",
   "execution_count": null,
   "id": "0f0484e0-c325-431c-b42d-be73f518e558",
   "metadata": {},
   "outputs": [],
   "source": [
    "df1.loc['Indi_Services', 'Rev']"
   ]
  },
  {
   "cell_type": "code",
   "execution_count": null,
   "id": "5d89749f-89f3-4b04-b100-681c378264e5",
   "metadata": {},
   "outputs": [],
   "source": [
    "df1.loc['Kolkata_FMCG':'Chennai_Shipping':2]"
   ]
  },
  {
   "cell_type": "code",
   "execution_count": null,
   "id": "a18d14f2-3dcb-4f51-93ba-f05fb0f3f8c6",
   "metadata": {},
   "outputs": [],
   "source": [
    "df1.loc['Kolkata_FMCG':'Chennai_Shipping':2,  'Rev':'GST':3]"
   ]
  },
  {
   "cell_type": "code",
   "execution_count": null,
   "id": "c84c2797-42c0-438a-b8ea-b1a7ac6961ae",
   "metadata": {},
   "outputs": [],
   "source": [
    "df1.loc[  ['Indi_Services','Chennai_Shipping','Deccan_Sporting']  ]"
   ]
  },
  {
   "cell_type": "code",
   "execution_count": null,
   "id": "181bf94b-5672-4b86-9b93-abe7fe39958c",
   "metadata": {},
   "outputs": [],
   "source": [
    "df1.loc[  ['Indi_Services','Chennai_Shipping','Deccan_Sporting'], ['Rev','Exp','GST','HQ']   ]"
   ]
  },
  {
   "cell_type": "raw",
   "id": "f80a022b-2326-460a-9c53-2bffa014180f",
   "metadata": {},
   "source": [
    "Grammer\n",
    "Direct Access, Integer Location Based Access or Unlabelled Access,  Labelled Access\n",
    "\n",
    "1. Direct Access\n",
    "\n",
    "    df1[ col_label_only ]  or df1.col_label_without_spaces\n",
    "    df1[ [list of col labels only] ]\n",
    "    df1[ slice of row_labels_only]\n",
    "\n",
    "2. Unlabelled Access\n",
    "    df1.iloc[ row_n_index ]\n",
    "    df1.iloc[ row_n_index, col_n_index ]\n",
    "\n",
    "    df1.iloc[ row_n_slice ]\n",
    "    df1.iloc[ row_n_slice, col_n_slice ]\n",
    "\n",
    "    df1.iloc[ [list of row_n_indices] ]\n",
    "    df1.iloc[ [list of row_n_indices],  [list of col_n_indices] ]\n",
    "\n",
    "    combo of all of above\n",
    "\n",
    "3. Labelled Access\n",
    "    df1.loc[ row_label ]\n",
    "    df1.loc[ row_label, col_label ]\n",
    "\n",
    "    df1.loc[ row_label_slice ]\n",
    "    df1.loc[ row_label_slice, col_label_slice ]\n",
    "\n",
    "    df1.loc[ [list of row_labels] ]\n",
    "    df1.loc[ [list of row_labels],  [list of col_labels] ]\n",
    "\n",
    "    combo of all of above"
   ]
  },
  {
   "cell_type": "markdown",
   "id": "7bca5448-915a-4368-a0c0-9a9a169ee8a1",
   "metadata": {},
   "source": [
    "# Conditional Access"
   ]
  },
  {
   "cell_type": "code",
   "execution_count": null,
   "id": "7cb97af4-228e-4e09-bb49-a125a1d67625",
   "metadata": {},
   "outputs": [],
   "source": [
    "df1"
   ]
  },
  {
   "cell_type": "code",
   "execution_count": null,
   "id": "19e0586a-b236-4484-9154-238d74df4614",
   "metadata": {},
   "outputs": [],
   "source": [
    "df1.count()"
   ]
  },
  {
   "cell_type": "code",
   "execution_count": null,
   "id": "81f3f575-c24c-4f51-b349-48e4ff15f298",
   "metadata": {},
   "outputs": [],
   "source": [
    "df1.Vol.count()"
   ]
  },
  {
   "cell_type": "code",
   "execution_count": null,
   "id": "14471dd6-626f-4b22-8ced-d2535ad55d2d",
   "metadata": {},
   "outputs": [],
   "source": [
    "df1.Sector.value_counts() # freq of each value in the sector col"
   ]
  },
  {
   "cell_type": "code",
   "execution_count": null,
   "id": "61baa360-436f-4d21-9f37-ceed00d3dc76",
   "metadata": {},
   "outputs": [],
   "source": [
    "series_mask1 = df1.Sector == 'Pub'\n",
    "series_mask1"
   ]
  },
  {
   "cell_type": "code",
   "execution_count": null,
   "id": "806387dd-7931-466a-8b48-782d03a3b1d0",
   "metadata": {},
   "outputs": [],
   "source": [
    "df1[series_mask1]"
   ]
  },
  {
   "cell_type": "code",
   "execution_count": null,
   "id": "bd4c767e-12c7-4f75-b993-c6530db82f5d",
   "metadata": {},
   "outputs": [],
   "source": [
    "df1[df1.Sector == 'Pvt']"
   ]
  },
  {
   "cell_type": "code",
   "execution_count": null,
   "id": "69526b3a-d602-4cc2-b487-c2246aef72e2",
   "metadata": {},
   "outputs": [],
   "source": [
    "df1[  (df1.Sector == 'Pub') & (df1.GST == 'Services') ]"
   ]
  },
  {
   "cell_type": "code",
   "execution_count": null,
   "id": "b093baba-cb83-4f65-bb40-0497f5ab7dd5",
   "metadata": {},
   "outputs": [],
   "source": [
    "df1.Rev.mean()"
   ]
  },
  {
   "cell_type": "code",
   "execution_count": null,
   "id": "0dc683ed-682b-49e6-8f5f-c84928377314",
   "metadata": {},
   "outputs": [],
   "source": [
    "df1[ df1.Rev >= df1.Rev.mean() ]"
   ]
  },
  {
   "cell_type": "code",
   "execution_count": null,
   "id": "348c9b94-13f2-46b2-8f2c-869ea5b5e39d",
   "metadata": {},
   "outputs": [],
   "source": [
    "df1.loc[ df1.Rev >= df1.Rev.mean() ]"
   ]
  },
  {
   "cell_type": "code",
   "execution_count": null,
   "id": "803868b8-ee3c-4261-b7a5-49aefeed04e5",
   "metadata": {},
   "outputs": [],
   "source": [
    "df1.loc[ df1.Rev >= df1.Rev.mean() , ['EmpCnt','HQ']  ]"
   ]
  },
  {
   "cell_type": "markdown",
   "id": "99c05814-d7bc-4eda-9460-4c3e57fffec0",
   "metadata": {},
   "source": [
    "# Mutability"
   ]
  },
  {
   "cell_type": "code",
   "execution_count": null,
   "id": "35a3a4da-eaab-4a5a-9f81-a93d4b3bcc2f",
   "metadata": {},
   "outputs": [],
   "source": [
    "df1"
   ]
  },
  {
   "cell_type": "code",
   "execution_count": null,
   "id": "d8a8168b-aa22-4ff3-8f4e-05facae501fb",
   "metadata": {},
   "outputs": [],
   "source": [
    "df1['Profit'] = df1.Rev - df1.Exp"
   ]
  },
  {
   "cell_type": "code",
   "execution_count": null,
   "id": "b995ba70-b65b-4cb5-ab5c-cecb82cb48c5",
   "metadata": {},
   "outputs": [],
   "source": [
    "df1"
   ]
  },
  {
   "cell_type": "code",
   "execution_count": null,
   "id": "28bc95c9-6fb5-4785-8f3b-8655d7cae21e",
   "metadata": {},
   "outputs": [],
   "source": [
    "df1.Profit"
   ]
  },
  {
   "cell_type": "code",
   "execution_count": null,
   "id": "5e75f5d3-d93a-47b9-940b-5ddba7be26ba",
   "metadata": {},
   "outputs": [],
   "source": [
    "df1.loc[ df1.Rev >= df1.Rev.mean() , 'Rev']"
   ]
  },
  {
   "cell_type": "code",
   "execution_count": null,
   "id": "eed86142-5814-4a11-ae0b-7b2991f1b480",
   "metadata": {},
   "outputs": [],
   "source": [
    "df1.loc[ df1.Rev >= df1.Rev.mean() , 'Rev'] = 999"
   ]
  },
  {
   "cell_type": "code",
   "execution_count": null,
   "id": "e77d8005-3d1b-4e5e-81f8-196ab36a59c1",
   "metadata": {},
   "outputs": [],
   "source": [
    "df1"
   ]
  },
  {
   "cell_type": "code",
   "execution_count": null,
   "id": "2f123ef5-54da-4236-a50f-1b86f130438b",
   "metadata": {},
   "outputs": [],
   "source": [
    "df1.insert(loc=3, column='profit1', value=df1.Rev-df1.Exp, allow_duplicates=True)\n",
    "df1"
   ]
  },
  {
   "cell_type": "markdown",
   "id": "1d120a17-dba2-4fa1-933d-bda3c1cd4e68",
   "metadata": {},
   "source": [
    "# Sorting"
   ]
  },
  {
   "cell_type": "code",
   "execution_count": null,
   "id": "07b64b64-596f-476f-8e35-dfc66821efbc",
   "metadata": {},
   "outputs": [],
   "source": [
    "df1 = pd.read_csv('lds1.csv')\n",
    "df1"
   ]
  },
  {
   "cell_type": "code",
   "execution_count": null,
   "id": "9253e1c7-5197-4122-84cd-80092ba44d83",
   "metadata": {},
   "outputs": [],
   "source": [
    "df1.sort_index(axis=0, ascending=True, inplace=False)"
   ]
  },
  {
   "cell_type": "code",
   "execution_count": null,
   "id": "9ef18814-fa42-472b-88b1-345d6730938f",
   "metadata": {},
   "outputs": [],
   "source": [
    "df1.sort_index(axis=1, ascending=True, inplace=False)"
   ]
  },
  {
   "cell_type": "code",
   "execution_count": null,
   "id": "8f8e85e1-f697-4e15-be3d-b29e7d91adbb",
   "metadata": {},
   "outputs": [],
   "source": [
    "df2 = df1.sort_index(axis=1, ascending=False, inplace=False)\n",
    "print(df2)"
   ]
  },
  {
   "cell_type": "code",
   "execution_count": null,
   "id": "f1e3408a-31af-444c-a0a3-8a80905989e3",
   "metadata": {},
   "outputs": [],
   "source": [
    "df1"
   ]
  },
  {
   "cell_type": "code",
   "execution_count": null,
   "id": "2eb43875-3142-4f71-8a8d-f38be9553cac",
   "metadata": {},
   "outputs": [],
   "source": [
    "df2 = df1.sort_index(axis=1, ascending=False, inplace=True)\n",
    "print(df2)"
   ]
  },
  {
   "cell_type": "code",
   "execution_count": null,
   "id": "850c58a5-8a15-4e0f-b197-01edb8c54bd9",
   "metadata": {},
   "outputs": [],
   "source": [
    "df1"
   ]
  },
  {
   "cell_type": "code",
   "execution_count": null,
   "id": "4f4004b5-9ec7-45ad-a19e-528f5aacfe4f",
   "metadata": {},
   "outputs": [],
   "source": [
    "df1.sort_values(by='Vol', axis=0, ascending=True)"
   ]
  },
  {
   "cell_type": "code",
   "execution_count": null,
   "id": "8cc525e2-5574-4499-b5ee-d9fcf06457e7",
   "metadata": {},
   "outputs": [],
   "source": [
    "df1.sort_values(by=['Vol','Rev'],  axis=0, ascending=[True, False])"
   ]
  },
  {
   "cell_type": "code",
   "execution_count": null,
   "id": "f54aab7f-f4ff-4bf6-8e55-e88c3a3294f9",
   "metadata": {},
   "outputs": [],
   "source": [
    "df1.sort_values(by='NCR_Leagles',  axis=1, ascending=True)"
   ]
  },
  {
   "cell_type": "code",
   "execution_count": null,
   "id": "85100f1e-8076-4cc3-bd97-8d3bc7430711",
   "metadata": {},
   "outputs": [],
   "source": [
    "'abcd' > 10"
   ]
  },
  {
   "cell_type": "code",
   "execution_count": null,
   "id": "410a1f8b-c364-4fce-9c0a-968a520eaf9f",
   "metadata": {},
   "outputs": [],
   "source": [
    "df1.select_dtypes(include='number').sort_values(by='NCR_Leagles',  axis=1, ascending=True)"
   ]
  },
  {
   "cell_type": "markdown",
   "id": "4a92b84e-b0b0-40a6-8e71-b8266018023c",
   "metadata": {},
   "source": [
    "# Ranking"
   ]
  },
  {
   "cell_type": "code",
   "execution_count": null,
   "id": "a835cd84-987f-439f-8442-d9c9e2019630",
   "metadata": {},
   "outputs": [],
   "source": [
    "df1 = pd.read_csv('lds1.csv')\n",
    "df1"
   ]
  },
  {
   "cell_type": "code",
   "execution_count": null,
   "id": "32a8504a-f161-41f5-9741-b99fed4d6e02",
   "metadata": {},
   "outputs": [],
   "source": [
    "df1['Vrank'] = df1.Vol.rank(axis=0, method='average', ascending=False)\n",
    "df1"
   ]
  },
  {
   "cell_type": "code",
   "execution_count": null,
   "id": "7e26b2af-9551-4880-a2c0-379310326f2b",
   "metadata": {},
   "outputs": [],
   "source": [
    "df1['Vrank'] = df1.Vol.rank(axis=0, method='first', ascending=False)\n",
    "df1"
   ]
  },
  {
   "cell_type": "code",
   "execution_count": null,
   "id": "044ee50c-29e6-4635-b4a2-3a4e5d72e1cd",
   "metadata": {},
   "outputs": [],
   "source": [
    "df1['Vrank'] = df1.Vol.rank(axis=0, method='min', ascending=False)\n",
    "df1"
   ]
  },
  {
   "cell_type": "code",
   "execution_count": null,
   "id": "7b9ab5de-887e-4f35-989b-3ddd895c4c8e",
   "metadata": {},
   "outputs": [],
   "source": [
    "df1['Vrank'] = df1.Vol.rank(axis=0, method='max', ascending=False)\n",
    "df1"
   ]
  },
  {
   "cell_type": "code",
   "execution_count": null,
   "id": "6f7a48e5-26a3-439d-a939-4853d5d33f59",
   "metadata": {},
   "outputs": [],
   "source": [
    "df1['Vrank'] = df1.Vol.rank(axis=0, method='dense', ascending=False)\n",
    "df1"
   ]
  },
  {
   "cell_type": "markdown",
   "id": "bfefe579-18e2-4399-bc23-7f6d00e1245e",
   "metadata": {},
   "source": [
    "# File Reads"
   ]
  },
  {
   "cell_type": "code",
   "execution_count": null,
   "id": "d8a8a198-e100-4785-bd38-731749fb7a9e",
   "metadata": {},
   "outputs": [],
   "source": [
    "df1 = pd.read_csv('lds1.csv')\n",
    "df1"
   ]
  },
  {
   "cell_type": "code",
   "execution_count": null,
   "id": "507c32f2-fc26-477d-8909-c7abc3ba0a48",
   "metadata": {},
   "outputs": [],
   "source": [
    "df1.to_csv('file1.csv')\n",
    "df1.to_excel('file1.xlsx')\n",
    "df1.to_json('file1.json')\n",
    "df1.to_html('file1.html')"
   ]
  },
  {
   "cell_type": "code",
   "execution_count": null,
   "id": "22775300-96d0-4b55-a88e-5c0340f55d57",
   "metadata": {},
   "outputs": [],
   "source": [
    "df2 = pd.read_csv('file1.csv', index_col=0)\n",
    "df2"
   ]
  },
  {
   "cell_type": "code",
   "execution_count": null,
   "id": "e38c3c45-8c5e-46a7-9387-46d587a72df5",
   "metadata": {},
   "outputs": [],
   "source": [
    "df2 = pd.read_excel('file1.xlsx', index_col=0)\n",
    "df2"
   ]
  },
  {
   "cell_type": "code",
   "execution_count": null,
   "id": "b0eb1bb0-17ba-427d-83bb-40d394f13e6b",
   "metadata": {},
   "outputs": [],
   "source": [
    "df2 = pd.read_json('file1.json')\n",
    "df2"
   ]
  },
  {
   "cell_type": "code",
   "execution_count": null,
   "id": "6000e29b-b1c9-4c53-95b6-8e3c8cf9cad5",
   "metadata": {},
   "outputs": [],
   "source": [
    "list_of_df_tables = pd.read_html('file1.html', index_col=0)\n",
    "for df in list_of_df_tables:\n",
    "    print(df)\n",
    "    print()"
   ]
  },
  {
   "cell_type": "markdown",
   "id": "61a77785-3efa-4a98-95cb-3e8d02c03fc5",
   "metadata": {},
   "source": [
    "# MAP"
   ]
  },
  {
   "cell_type": "code",
   "execution_count": null,
   "id": "a507460b-2ffe-41c9-a536-b156fbc03387",
   "metadata": {},
   "outputs": [],
   "source": [
    "df1 = pd.read_csv('lds1.csv')\n",
    "df1"
   ]
  },
  {
   "cell_type": "code",
   "execution_count": null,
   "id": "694156ea-396d-4a7c-8966-e0d44631d1f5",
   "metadata": {},
   "outputs": [],
   "source": [
    "md1 = {'Hyd':'SZ', 'Blr':'SZ','Che':'SZ','Mum':'WZ', 'NCR':'NZ', 'Kol':'EZ'}\n",
    "df1['Zone'] = df1.HQ.map(md1)\n",
    "df1"
   ]
  },
  {
   "cell_type": "raw",
   "id": "71cc1c0a-bd8c-4343-81d0-25ec00c476ab",
   "metadata": {},
   "source": [
    "Vol > mean_vol  -- Good_Sales\n",
    "Vol <= mean_vol -- Average_Sales"
   ]
  },
  {
   "cell_type": "code",
   "execution_count": null,
   "id": "f1edac59-8c9f-40a1-9932-f8919681b88e",
   "metadata": {},
   "outputs": [],
   "source": [
    "def sales_performance_logic(vol_sales_value):\n",
    "    if vol_sales_value > df1.Vol.mean():\n",
    "        return 'Good_Sales'\n",
    "    else:\n",
    "        return 'Average_Sales'"
   ]
  },
  {
   "cell_type": "code",
   "execution_count": null,
   "id": "3e1e716c-61e1-4b16-9a34-328d495e6580",
   "metadata": {},
   "outputs": [],
   "source": [
    "df1['Sales_Performance'] = df1.Vol.map(sales_performance_logic)\n",
    "df1"
   ]
  },
  {
   "cell_type": "code",
   "execution_count": null,
   "id": "e6572e0f-fd52-49b3-9e89-114439326b7c",
   "metadata": {},
   "outputs": [],
   "source": [
    "df1['Sales_Performance1'] = df1.Vol.map(lambda v: 'Good_Sales' if v > df1.Vol.mean() else 'Average_Sales')\n",
    "df1"
   ]
  },
  {
   "cell_type": "markdown",
   "id": "bf8c32f7-ee76-4052-ab16-b654ba9e7e43",
   "metadata": {},
   "source": [
    "# Multiple DF in a HTML File"
   ]
  },
  {
   "cell_type": "code",
   "execution_count": null,
   "id": "199cf2ef-2616-47b7-a2e1-46801716d3da",
   "metadata": {},
   "outputs": [],
   "source": [
    "df1 = pd.read_csv('lds1.csv')\n",
    "df2 = pd.read_csv('lds0.csv')"
   ]
  },
  {
   "cell_type": "code",
   "execution_count": null,
   "id": "785b89a4-98ab-4666-b189-66ce26180aad",
   "metadata": {},
   "outputs": [],
   "source": [
    "fobj = open('file1.html','w')\n",
    "\n",
    "df1.to_html(buf=fobj)\n",
    "df2.to_html(buf=fobj)\n",
    "\n",
    "fobj.close()"
   ]
  },
  {
   "cell_type": "code",
   "execution_count": null,
   "id": "1ff1bff9-9cca-4d24-8a23-0a8d43044b01",
   "metadata": {},
   "outputs": [],
   "source": [
    "list_of_df_tables = pd.read_html('file1.html', index_col=0)\n",
    "for df in list_of_df_tables:\n",
    "    print(df)\n",
    "    print()"
   ]
  },
  {
   "cell_type": "markdown",
   "id": "c78fa32a-bc6b-4461-bc9d-505686c394cd",
   "metadata": {},
   "source": [
    "# Groupby"
   ]
  },
  {
   "cell_type": "code",
   "execution_count": null,
   "id": "7a925bc9-3a58-4799-947a-88b588a9dcf8",
   "metadata": {},
   "outputs": [],
   "source": [
    "df1 = pd.read_csv('lds1.csv')\n",
    "df1"
   ]
  },
  {
   "cell_type": "code",
   "execution_count": null,
   "id": "3213d87f-952b-4768-8854-5861065f1d28",
   "metadata": {},
   "outputs": [],
   "source": [
    "dfg = df1.groupby(by='Sector')\n",
    "print(type(dfg))"
   ]
  },
  {
   "cell_type": "code",
   "execution_count": null,
   "id": "9e6be8cf-1477-49d6-8de5-8cda948ee2f7",
   "metadata": {},
   "outputs": [],
   "source": [
    "print(dfg)"
   ]
  },
  {
   "cell_type": "code",
   "execution_count": null,
   "id": "764e4442-d38b-46c5-bb6c-b80ebadca6e0",
   "metadata": {},
   "outputs": [],
   "source": [
    "for item in list(dfg):\n",
    "    print(item[0])\n",
    "    print(item[1])\n",
    "    print()"
   ]
  },
  {
   "cell_type": "code",
   "execution_count": null,
   "id": "df02d3de-2e9c-4899-8acd-c98d21f2f3af",
   "metadata": {},
   "outputs": [],
   "source": [
    "df1.groupby(by='Sector')['Rev'].mean()"
   ]
  },
  {
   "cell_type": "code",
   "execution_count": null,
   "id": "e9bdac22-5292-4b40-ac72-4850b15d1a58",
   "metadata": {},
   "outputs": [],
   "source": [
    "#  SAC.  Split the DF to groups, Apply aggregation across groups,  Combine the results"
   ]
  },
  {
   "cell_type": "code",
   "execution_count": null,
   "id": "00870767-d56f-40b2-b3f9-bc1be736f43b",
   "metadata": {},
   "outputs": [],
   "source": [
    "df1.groupby(by='Sector')['Rev'].agg(['min','max','mean'])"
   ]
  },
  {
   "cell_type": "code",
   "execution_count": null,
   "id": "503eaab0-98c1-4cc1-9455-4f907f08afaf",
   "metadata": {},
   "outputs": [],
   "source": [
    "temp = df1.groupby(by='Sector')[ ['Rev','Vol'] ].agg(['min','max','mean'])\n",
    "temp"
   ]
  },
  {
   "cell_type": "code",
   "execution_count": null,
   "id": "286f7093-c0fa-4cb0-8ad0-6b784e93fafc",
   "metadata": {},
   "outputs": [],
   "source": [
    "temp = df1.groupby(by=['Sector','GST'])[ ['Rev','Vol'] ].agg(['min','max','mean','count'])\n",
    "temp"
   ]
  },
  {
   "cell_type": "code",
   "execution_count": null,
   "id": "8c7c9b9c-5305-4760-b006-cc6917625a25",
   "metadata": {},
   "outputs": [],
   "source": [
    "temp.columns"
   ]
  },
  {
   "cell_type": "code",
   "execution_count": null,
   "id": "3667a297-b385-4d10-8ec6-7beb7ed3aae6",
   "metadata": {},
   "outputs": [],
   "source": [
    "temp.index"
   ]
  },
  {
   "cell_type": "code",
   "execution_count": null,
   "id": "251a72d5-9d6e-41f4-9cc4-beee95cc20a1",
   "metadata": {},
   "outputs": [],
   "source": [
    "gpdf = df1.groupby(by=['Sector','GST'])\n",
    "gpdf[ ['Rev','Vol'] ].agg(['min','max','mean','count'])"
   ]
  },
  {
   "cell_type": "code",
   "execution_count": null,
   "id": "9f48f7e5-b608-4fb6-a9a2-d47e61161f2b",
   "metadata": {},
   "outputs": [],
   "source": [
    "def getdiff(col):\n",
    "    print(col)\n",
    "    print()\n",
    "    result = col.max() - col.min()\n",
    "    return result"
   ]
  },
  {
   "cell_type": "code",
   "execution_count": null,
   "id": "3d8d5031-f768-43d2-881c-e8870cacb5b0",
   "metadata": {},
   "outputs": [],
   "source": [
    "df1.groupby(by='Sector')['Rev'].agg(['min','max',getdiff])"
   ]
  },
  {
   "cell_type": "code",
   "execution_count": null,
   "id": "c1ea3c89-1906-4f77-8490-8eebe2f1a556",
   "metadata": {},
   "outputs": [],
   "source": [
    "df1.groupby(by='Sector')['Rev'].agg(['min','max',lambda col: col.max()-col.min()])"
   ]
  },
  {
   "cell_type": "code",
   "execution_count": null,
   "id": "02a4344e-7799-4269-a04c-8447a7a9c0bf",
   "metadata": {},
   "outputs": [],
   "source": [
    "df1.groupby(by='Sector')['Rev'].agg(minimum='min',maximum='max',diff=lambda col: col.max()-col.min())"
   ]
  },
  {
   "cell_type": "markdown",
   "id": "454628e2-e8c7-4e69-9d9b-fb83762f2e18",
   "metadata": {},
   "source": [
    "# Pivot Table"
   ]
  },
  {
   "cell_type": "code",
   "execution_count": null,
   "id": "1c6d812b-bca3-44a6-ad89-68643eea05de",
   "metadata": {},
   "outputs": [],
   "source": [
    "dfp = pd.pivot_table(df1, index='Sector', values='Rev', aggfunc='mean')\n",
    "dfp"
   ]
  },
  {
   "cell_type": "code",
   "execution_count": null,
   "id": "e1ae11fb-a16e-4c19-85e4-f6f434623c6f",
   "metadata": {},
   "outputs": [],
   "source": [
    "pd.pivot_table(df1, index='Sector', values=['Rev','Vol'], aggfunc='mean')"
   ]
  },
  {
   "cell_type": "code",
   "execution_count": null,
   "id": "6e5706f7-563b-4bc6-9941-d2d2468720f9",
   "metadata": {},
   "outputs": [],
   "source": [
    "pd.pivot_table(df1, index='Sector', values=['Rev','Vol'], aggfunc=['mean','sum','count'])"
   ]
  },
  {
   "cell_type": "code",
   "execution_count": null,
   "id": "f31f08df-43e0-4b50-84d7-a11737b0a3c4",
   "metadata": {},
   "outputs": [],
   "source": [
    "pd.pivot_table(df1, index='Sector', values=['Rev','Vol'], aggfunc=['mean','min','max',lambda c:c.max()-c.min()])"
   ]
  },
  {
   "cell_type": "code",
   "execution_count": null,
   "id": "d040d01c-c6d3-42d1-8e98-a4d38734a3c3",
   "metadata": {},
   "outputs": [],
   "source": [
    "pd.pivot_table(df1, index=['Sector','GST'], values=['Rev','Vol'], aggfunc=['mean','min','max',lambda c:c.max()-c.min()])"
   ]
  },
  {
   "cell_type": "code",
   "execution_count": null,
   "id": "900ceae0-f286-42a0-8682-5254b64da801",
   "metadata": {},
   "outputs": [],
   "source": [
    "diff = lambda c:c.max()-c.min()\n",
    "diff.__name__ = 'getdiff'\n",
    "pd.pivot_table(df1, index=['Sector','GST'], values=['Rev','Vol'], aggfunc=['mean','min','max',diff])"
   ]
  },
  {
   "cell_type": "code",
   "execution_count": null,
   "id": "48601342-a659-4db1-9cf4-bcd271332b98",
   "metadata": {},
   "outputs": [],
   "source": [
    "pd.pivot_table(df1, index='Sector',columns='GST', values='Rev', aggfunc='mean') # cross tab"
   ]
  },
  {
   "cell_type": "code",
   "execution_count": null,
   "id": "6243ef83-bc7b-4ffe-bbaa-e96068696c58",
   "metadata": {},
   "outputs": [],
   "source": [
    "pd.crosstab(df1.Sector, df1.GST, values=df1.Rev, aggfunc='mean')"
   ]
  },
  {
   "cell_type": "markdown",
   "id": "ed55e1f5-413c-4312-b867-d1a96debf52e",
   "metadata": {},
   "source": [
    "# Drop"
   ]
  },
  {
   "cell_type": "code",
   "execution_count": null,
   "id": "234cf995-b52a-4042-8cc8-81242a73dd24",
   "metadata": {},
   "outputs": [],
   "source": [
    "df1 = pd.read_csv('lds1.csv')\n",
    "df1"
   ]
  },
  {
   "cell_type": "code",
   "execution_count": null,
   "id": "871b5a85-2a48-47c3-a2ac-d912b3fe12f9",
   "metadata": {},
   "outputs": [],
   "source": [
    "df1.index"
   ]
  },
  {
   "cell_type": "code",
   "execution_count": null,
   "id": "d2170bd8-1492-4a6f-b223-f168e2ef695e",
   "metadata": {},
   "outputs": [],
   "source": [
    "df1.columns"
   ]
  },
  {
   "cell_type": "code",
   "execution_count": null,
   "id": "eaf7af7e-f758-4b79-9b9f-24b63d0ce7ee",
   "metadata": {},
   "outputs": [],
   "source": [
    "df1.drop(index=['Chennai_Chemicals', 'Indi_Services', 'Bangalore_Breweries'], \n",
    "         columns=['Vol','Exp','GST'], inplace=False)"
   ]
  },
  {
   "cell_type": "markdown",
   "id": "f725ba30-b665-4b7e-baf8-b54baff5d69f",
   "metadata": {},
   "source": [
    "# Renaming of Labels"
   ]
  },
  {
   "cell_type": "code",
   "execution_count": null,
   "id": "c12b6552-f6cf-4e1f-a447-fe4666cb4fbb",
   "metadata": {},
   "outputs": [],
   "source": [
    "df1 = pd.read_csv('lds1.csv')\n",
    "df1"
   ]
  },
  {
   "cell_type": "code",
   "execution_count": null,
   "id": "5c9f4b30-9918-4b91-bdc7-90073ad2c65e",
   "metadata": {},
   "outputs": [],
   "source": [
    "print(df1.index)\n",
    "print(df1.columns)"
   ]
  },
  {
   "cell_type": "code",
   "execution_count": null,
   "id": "d4649113-e59d-42b4-8553-d273b6f7bf53",
   "metadata": {},
   "outputs": [],
   "source": [
    "df1.rename(index={'Indi_Services':'IR','Bangalore_Breweries':'UB'},\n",
    "          columns={'Vol':'Volume'}, inplace=False)"
   ]
  },
  {
   "cell_type": "markdown",
   "id": "f85f98cd-a5a6-4742-ba2e-01f733e10395",
   "metadata": {},
   "source": [
    "# Replace of Values"
   ]
  },
  {
   "cell_type": "code",
   "execution_count": null,
   "id": "ab152f46-3b2d-4854-9058-2de1fba5167d",
   "metadata": {},
   "outputs": [],
   "source": [
    "df1 = pd.read_csv('lds1.csv')\n",
    "df1"
   ]
  },
  {
   "cell_type": "code",
   "execution_count": null,
   "id": "6edf9bfc-ddea-4dcc-93ac-34d7e47c131e",
   "metadata": {},
   "outputs": [],
   "source": [
    "df1.Sector.replace({'Pub':'Public'}, inplace=True)\n",
    "df1"
   ]
  },
  {
   "cell_type": "markdown",
   "id": "fff3bed3-25d9-4842-8282-892e14e7e2e7",
   "metadata": {},
   "source": [
    "# Duplicate Handling"
   ]
  },
  {
   "cell_type": "code",
   "execution_count": null,
   "id": "a874d1d1-ed29-42a6-aff6-eb589de629e0",
   "metadata": {},
   "outputs": [],
   "source": [
    "df33 = pd.read_csv('lds33.csv')\n",
    "df33"
   ]
  },
  {
   "cell_type": "code",
   "execution_count": null,
   "id": "bcd5aac7-903b-4744-88fb-7542947fc720",
   "metadata": {},
   "outputs": [],
   "source": [
    "df33.duplicated(subset=None, keep='first')"
   ]
  },
  {
   "cell_type": "code",
   "execution_count": null,
   "id": "92cdc52d-756c-4302-be6a-97929e8dccbb",
   "metadata": {},
   "outputs": [],
   "source": [
    "df33[df33.duplicated(subset=None, keep='first')]"
   ]
  },
  {
   "cell_type": "code",
   "execution_count": null,
   "id": "9c04e6ae-ac31-42f1-a690-51687304640b",
   "metadata": {},
   "outputs": [],
   "source": [
    "df33.drop_duplicates(subset=None, keep='first')"
   ]
  },
  {
   "cell_type": "code",
   "execution_count": null,
   "id": "9b843ff7-2041-4ff4-9eb7-23d81a0cbe8a",
   "metadata": {},
   "outputs": [],
   "source": [
    "df33.drop_duplicates(subset=None, keep='last')"
   ]
  },
  {
   "cell_type": "code",
   "execution_count": null,
   "id": "5f623ee3-5b4c-4a53-8d94-d8997f245a92",
   "metadata": {},
   "outputs": [],
   "source": [
    "df33.drop_duplicates(subset=None, keep=False)"
   ]
  },
  {
   "cell_type": "code",
   "execution_count": null,
   "id": "393bfc2b-6bcf-4c84-a39f-174c4b6e56fa",
   "metadata": {},
   "outputs": [],
   "source": [
    "df33.drop_duplicates(subset=['City','Temperature'], keep=False)"
   ]
  },
  {
   "cell_type": "code",
   "execution_count": null,
   "id": "6f4a34e4-7e72-43b7-b90f-b80705dd3b0d",
   "metadata": {},
   "outputs": [],
   "source": [
    "dftemp = df33.drop_duplicates(subset=['City','Temperature'], keep='first')\n",
    "dftemp"
   ]
  },
  {
   "cell_type": "code",
   "execution_count": null,
   "id": "1519d2de-400f-4543-85f0-5d3688f43045",
   "metadata": {},
   "outputs": [],
   "source": [
    "dftemp.reset_index(drop=True)"
   ]
  },
  {
   "cell_type": "code",
   "execution_count": null,
   "id": "2cdc8134-8c02-4d40-85b4-a68de240c598",
   "metadata": {},
   "outputs": [],
   "source": [
    "print(dftemp.index)\n",
    "print(dftemp.columns)"
   ]
  },
  {
   "cell_type": "code",
   "execution_count": null,
   "id": "81f1fb88-476f-48c5-a1bb-10978037da7f",
   "metadata": {},
   "outputs": [],
   "source": [
    "dftemp.iloc[2]"
   ]
  },
  {
   "cell_type": "code",
   "execution_count": null,
   "id": "22e68e75-e440-4777-a03c-2ab3c7031db5",
   "metadata": {},
   "outputs": [],
   "source": [
    "dftemp.loc[2]"
   ]
  },
  {
   "cell_type": "code",
   "execution_count": null,
   "id": "7c18487a-2d1e-4ca8-aa34-7e845cbbd053",
   "metadata": {},
   "outputs": [],
   "source": [
    "#missing data\n"
   ]
  },
  {
   "cell_type": "markdown",
   "id": "a0eee1a4-1262-463f-a33d-ea02708c4b0d",
   "metadata": {},
   "source": [
    "# 12/May/2024"
   ]
  },
  {
   "cell_type": "markdown",
   "id": "1de4dee5-ad7d-49d9-b786-c757f70b4cb4",
   "metadata": {},
   "source": [
    "# Stack Unstack"
   ]
  },
  {
   "cell_type": "raw",
   "id": "c5aa81d0-27f0-4338-a128-d60e58826a70",
   "metadata": {},
   "source": [
    "                         <year>\n",
    "                        <quarter>\n",
    "\n",
    "<company>  <domain>\n",
    "\n",
    "\n",
    "                    2022    2022   2023   2023\n",
    "                     Q1      Q2     Q1      Q2\n",
    " \n",
    "Tata    Tech\n",
    "Tata    FMCG\n",
    "Birla   Tech\n",
    "Birla   FMCG\n",
    "Wipro   Tech\n",
    "Wipro   FMCG\n",
    "ITC     Tech\n",
    "ITC     FMCG"
   ]
  },
  {
   "cell_type": "code",
   "execution_count": null,
   "id": "8569e56f-2b90-4caa-b674-b33211d8bdb2",
   "metadata": {},
   "outputs": [],
   "source": [
    "row_level0_list = ['Tata','Birla','Wipro','ITC']\n",
    "row_level1_list = ['Tech','FMCG']\n",
    "\n",
    "col_level0_list = [2022,2023]\n",
    "col_level1_list = ['Q1', 'Q2']\n",
    "\n",
    "np.random.seed(23)\n",
    "n84 = np.random.randint(low=10, high=101, size=(8,4))"
   ]
  },
  {
   "cell_type": "code",
   "execution_count": null,
   "id": "3cf28157-e2a8-4468-8cfb-28e4499000fa",
   "metadata": {},
   "outputs": [],
   "source": [
    "row_labels = pd.MultiIndex.from_product([row_level0_list,row_level1_list])\n",
    "row_labels"
   ]
  },
  {
   "cell_type": "code",
   "execution_count": null,
   "id": "cbffbead-deb4-46b8-b108-8b50afcbe9bc",
   "metadata": {},
   "outputs": [],
   "source": [
    "col_labels = pd.MultiIndex.from_product([col_level0_list,col_level1_list])\n",
    "col_labels"
   ]
  },
  {
   "cell_type": "code",
   "execution_count": null,
   "id": "fe708010-afd3-41b5-8d86-14799e760ec2",
   "metadata": {},
   "outputs": [],
   "source": [
    "df1 = pd.DataFrame(n84, index=row_labels, columns=col_labels)\n",
    "df1"
   ]
  },
  {
   "cell_type": "code",
   "execution_count": null,
   "id": "450b2429-6147-49e9-98e2-4b5a0fde22e5",
   "metadata": {},
   "outputs": [],
   "source": [
    "print(df1.index)\n",
    "print(df1.columns)"
   ]
  },
  {
   "cell_type": "code",
   "execution_count": null,
   "id": "3bac8c26-f62d-4099-b940-08fa6e991038",
   "metadata": {},
   "outputs": [],
   "source": [
    "df1.loc[('Birla', 'FMCG'), (2022, 'Q2')]"
   ]
  },
  {
   "cell_type": "code",
   "execution_count": null,
   "id": "07f00180-0697-4111-a23f-0bb3105cfeb9",
   "metadata": {},
   "outputs": [],
   "source": [
    "df1.stack(level=0)"
   ]
  },
  {
   "cell_type": "code",
   "execution_count": null,
   "id": "cd636880-e549-4d48-81f8-d3344a5e475f",
   "metadata": {},
   "outputs": [],
   "source": [
    "df2 = df1.unstack(level=1)\n",
    "df2"
   ]
  },
  {
   "cell_type": "code",
   "execution_count": null,
   "id": "7682a3c7-5aac-46f9-b123-e4b38342d389",
   "metadata": {},
   "outputs": [],
   "source": [
    "print(df2.index)\n",
    "print(df2.columns)"
   ]
  },
  {
   "cell_type": "raw",
   "id": "2b47d296-50e6-48f5-bae3-ab068c285f47",
   "metadata": {},
   "source": [
    "# convert the starting DF to below format\n",
    "\n",
    "                        <quarter>\n",
    "                        <company>\n",
    "\n",
    "<year>  <domain>"
   ]
  },
  {
   "cell_type": "code",
   "execution_count": null,
   "id": "6e100081-8e93-49b9-abd8-1c7c1a53c3bd",
   "metadata": {},
   "outputs": [],
   "source": [
    "df1.stack(level=0).unstack(level=0).unstack(level=0).stack(level=-1)"
   ]
  },
  {
   "cell_type": "markdown",
   "id": "579b5b6d-bd65-4cd5-9de9-d71ad566e1e6",
   "metadata": {},
   "source": [
    "# Concat"
   ]
  },
  {
   "cell_type": "code",
   "execution_count": null,
   "id": "f737f8b7-704d-43f2-bbff-6d498c239692",
   "metadata": {},
   "outputs": [],
   "source": [
    "df11 = pd.read_csv('lds11.csv')\n",
    "df12 = pd.read_csv('lds12.csv')\n",
    "df13 = pd.read_csv('lds13.csv')"
   ]
  },
  {
   "cell_type": "code",
   "execution_count": null,
   "id": "1d669141-6f57-423d-a575-57a589735c1b",
   "metadata": {},
   "outputs": [],
   "source": [
    "print(df11)\n",
    "print(df12)\n",
    "print(df13)"
   ]
  },
  {
   "cell_type": "code",
   "execution_count": null,
   "id": "94d2d241-7987-44be-b80b-c6ab546e0918",
   "metadata": {},
   "outputs": [],
   "source": [
    "print(df11)\n",
    "print(df12)\n",
    "dfc = pd.concat(objs=(df11,df12), axis=0, join='inner', keys=['f11','f12'])\n",
    "# inner is intersection of labels on the non-concatenating axis.\n",
    "# outer is union of labels.\n",
    "print(dfc)"
   ]
  },
  {
   "cell_type": "code",
   "execution_count": null,
   "id": "2f5b7260-a5c1-40e3-8782-f30f29bdeb3d",
   "metadata": {},
   "outputs": [],
   "source": [
    "dfc.index"
   ]
  },
  {
   "cell_type": "code",
   "execution_count": null,
   "id": "a94a0a10-366a-4a1b-974e-e06546e2f413",
   "metadata": {},
   "outputs": [],
   "source": [
    "print(df11)\n",
    "print(df12)\n",
    "dfc = pd.concat(objs=(df11,df12), axis=0, join='outer', keys=['f11','f12'])\n",
    "print(dfc)"
   ]
  },
  {
   "cell_type": "code",
   "execution_count": null,
   "id": "047cf7ca-b569-4c27-b3ed-49ae902ae4e2",
   "metadata": {},
   "outputs": [],
   "source": [
    "print(df11)\n",
    "print(df12)\n",
    "dfc = pd.concat(objs=(df11,df12), axis=1, join='outer', keys=['f11','f12'])\n",
    "dfc"
   ]
  },
  {
   "cell_type": "code",
   "execution_count": null,
   "id": "f1bb20bf-2431-487c-b486-6cc4ee6c44bd",
   "metadata": {},
   "outputs": [],
   "source": [
    "print(df11)\n",
    "print(df12)\n",
    "dfc = pd.concat(objs=(df11,df12), axis=1, join='inner', keys=['f11','f12'])\n",
    "dfc"
   ]
  },
  {
   "cell_type": "code",
   "execution_count": null,
   "id": "5497457c-2b74-491d-89ea-ec647760ef5f",
   "metadata": {},
   "outputs": [],
   "source": [
    "print(df11)\n",
    "print(df12)\n",
    "print(df13)\n",
    "dfc = pd.concat(objs=(df11,df12,df13), axis=1, join='inner', keys=['f11','f12','f13'])\n",
    "dfc"
   ]
  },
  {
   "cell_type": "markdown",
   "id": "98f6d34e-c500-4c45-acef-e9912d6bf624",
   "metadata": {},
   "source": [
    "# Merge"
   ]
  },
  {
   "cell_type": "code",
   "execution_count": null,
   "id": "f9cf8da5-3c3a-454f-9b61-24880c14252a",
   "metadata": {},
   "outputs": [],
   "source": [
    "df21 = pd.read_csv('lds21.csv')\n",
    "df22 = pd.read_csv('lds22.csv')\n",
    "df23 = pd.read_csv('lds23.csv')"
   ]
  },
  {
   "cell_type": "code",
   "execution_count": null,
   "id": "762d5ff1-4a64-41c0-a978-38bff4313955",
   "metadata": {},
   "outputs": [],
   "source": [
    "print(df21)\n",
    "print(df22)\n",
    "print(df23)"
   ]
  },
  {
   "cell_type": "code",
   "execution_count": null,
   "id": "eaae8653-55b8-42e8-815b-8c328b495bc1",
   "metadata": {},
   "outputs": [],
   "source": [
    "print(df21)\n",
    "print(df22)\n",
    "dfm = pd.merge(left=df21,right=df22, how='inner', on=None, indicator=True)\n",
    "print(dfm)"
   ]
  },
  {
   "cell_type": "code",
   "execution_count": null,
   "id": "3a31c4aa-b4be-401f-a9bc-63c92a781acd",
   "metadata": {},
   "outputs": [],
   "source": [
    "print(df21)\n",
    "print(df22)\n",
    "dfm = pd.merge(left=df21,right=df22, how='inner', on='HQ', indicator=True)\n",
    "print(dfm)"
   ]
  },
  {
   "cell_type": "code",
   "execution_count": null,
   "id": "77e11b25-5b5f-4878-8c5d-13c115a5ebda",
   "metadata": {},
   "outputs": [],
   "source": [
    "print(df21)\n",
    "print(df22)\n",
    "dfm = pd.merge(left=df21,right=df22, how='outer', on='HQ', indicator=True)\n",
    "print(dfm)"
   ]
  },
  {
   "cell_type": "code",
   "execution_count": null,
   "id": "4869d109-951a-4276-b1a4-a18e804d4459",
   "metadata": {},
   "outputs": [],
   "source": [
    "print(df21)\n",
    "print(df22)\n",
    "dfm = pd.merge(left=df21,right=df22, how='left', on='HQ', indicator=True)\n",
    "print(dfm)"
   ]
  },
  {
   "cell_type": "code",
   "execution_count": null,
   "id": "2dd45e7c-eac1-4e2a-b8cc-aa7cb3885044",
   "metadata": {},
   "outputs": [],
   "source": [
    "print(df21)\n",
    "print(df22)\n",
    "dfm = pd.merge(left=df21,right=df22, how='right', on='HQ', indicator=True)\n",
    "print(dfm)"
   ]
  },
  {
   "cell_type": "code",
   "execution_count": null,
   "id": "b30a24ae-05f9-4240-8297-4d5d23aff0be",
   "metadata": {},
   "outputs": [],
   "source": [
    "print(df21)\n",
    "print(df22)\n",
    "dfm = pd.merge(left=df21,right=df22, how='cross', indicator=True)\n",
    "print(dfm)"
   ]
  },
  {
   "cell_type": "code",
   "execution_count": null,
   "id": "26d02982-2c7d-4818-8a68-b3e9dbc0b280",
   "metadata": {},
   "outputs": [],
   "source": [
    "print(df21)\n",
    "print(df23)\n",
    "dfm = pd.merge(left=df21,right=df23, how='inner', on='HQ', indicator=True)\n",
    "print(dfm)"
   ]
  },
  {
   "cell_type": "code",
   "execution_count": null,
   "id": "b9da85d5-8e0d-4170-881f-8c103fbddfa2",
   "metadata": {},
   "outputs": [],
   "source": [
    "print(df23)\n",
    "print(df23)\n",
    "dfm = pd.merge(left=df23,right=df23, how='inner', on='HQ', indicator=True)\n",
    "print(dfm)"
   ]
  },
  {
   "cell_type": "code",
   "execution_count": null,
   "id": "7acab3fe-34d1-4e69-bd37-9e2054de2eec",
   "metadata": {},
   "outputs": [],
   "source": [
    "print(df22)\n",
    "print(df23)\n",
    "dfm = pd.merge(left=df22,right=df23, how='inner', on=['stock_name','HQ'], indicator=True)\n",
    "print(dfm)"
   ]
  },
  {
   "cell_type": "code",
   "execution_count": null,
   "id": "1acc5c1d-4cd6-4422-a3f6-ff0b69b3b2f0",
   "metadata": {},
   "outputs": [],
   "source": [
    "print(df21)\n",
    "print(df22)\n",
    "dfm = pd.merge(left=df21,right=df22, how='inner', left_on='stock_id',right_on='stock_name', indicator=True)\n",
    "print(dfm)"
   ]
  },
  {
   "cell_type": "code",
   "execution_count": null,
   "id": "14dce89a-7db8-410d-9610-3179fb25c4f3",
   "metadata": {},
   "outputs": [],
   "source": [
    "print(df21)\n",
    "print(df22)\n",
    "dfm = pd.merge(left=df21,right=df22, how='inner', left_index=True, right_index=True,indicator=True)\n",
    "print(dfm)"
   ]
  },
  {
   "cell_type": "markdown",
   "id": "f82319f4-cd65-4461-bcbe-2fc54efcfbc0",
   "metadata": {},
   "source": [
    "# NaN Handling"
   ]
  },
  {
   "cell_type": "code",
   "execution_count": null,
   "id": "6e622a5f-70e3-40dc-85e6-7f56f34bcce2",
   "metadata": {},
   "outputs": [],
   "source": [
    "df0 = pd.read_csv('lds0.csv')\n",
    "df0"
   ]
  },
  {
   "cell_type": "code",
   "execution_count": null,
   "id": "29322d18-e606-4aab-90ce-7b4abafe7095",
   "metadata": {},
   "outputs": [],
   "source": [
    "df0.info()"
   ]
  },
  {
   "cell_type": "code",
   "execution_count": null,
   "id": "07147f89-5b67-492e-87d1-8854c49c6d14",
   "metadata": {},
   "outputs": [],
   "source": [
    "df0"
   ]
  },
  {
   "cell_type": "code",
   "execution_count": null,
   "id": "252d954a-df02-4c04-9258-c5087d3102e4",
   "metadata": {},
   "outputs": [],
   "source": [
    "df0.Sector.value_counts()"
   ]
  },
  {
   "cell_type": "code",
   "execution_count": null,
   "id": "37b0c17e-cd7f-4b17-a0ce-7dced2d051a8",
   "metadata": {},
   "outputs": [],
   "source": [
    "df0.Sector.count()"
   ]
  },
  {
   "cell_type": "code",
   "execution_count": null,
   "id": "9b4e0924-6e7e-4455-a87c-f573d7dabb3b",
   "metadata": {},
   "outputs": [],
   "source": [
    "df0.isna()   # boolean matrix indicating NaN cell as True"
   ]
  },
  {
   "cell_type": "code",
   "execution_count": null,
   "id": "ae78fcce-40fc-4a80-af4a-f0c69bb15585",
   "metadata": {},
   "outputs": [],
   "source": [
    "df0.isna().sum()   # total nan along each columns"
   ]
  },
  {
   "cell_type": "code",
   "execution_count": null,
   "id": "2340b069-8c19-4d9c-b574-ed060ab092d0",
   "metadata": {},
   "outputs": [],
   "source": [
    "df0.isna().sum().sum() # total nan in the DF"
   ]
  },
  {
   "cell_type": "code",
   "execution_count": null,
   "id": "38d17bef-dcb6-4d7c-b9fa-e77bfe5b6ee8",
   "metadata": {},
   "outputs": [],
   "source": [
    "df0"
   ]
  },
  {
   "cell_type": "code",
   "execution_count": null,
   "id": "420d43ff-2e6d-4c94-b172-64d4bbebf509",
   "metadata": {},
   "outputs": [],
   "source": [
    "df0.dropna()"
   ]
  },
  {
   "cell_type": "code",
   "execution_count": null,
   "id": "0bebe1e4-602c-48bb-b091-958d326b2bce",
   "metadata": {},
   "outputs": [],
   "source": [
    "df0"
   ]
  },
  {
   "cell_type": "code",
   "execution_count": null,
   "id": "818ca40b-3ed2-4ee5-b4d8-82da0ad983ee",
   "metadata": {},
   "outputs": [],
   "source": [
    "df0.Rev.fillna(850)"
   ]
  },
  {
   "cell_type": "code",
   "execution_count": null,
   "id": "d99d2568-46fc-445d-9b2b-58a8a8c4a9bd",
   "metadata": {},
   "outputs": [],
   "source": [
    "df0.Rev.mean()"
   ]
  },
  {
   "cell_type": "code",
   "execution_count": null,
   "id": "17c29903-54f9-4e9b-af01-de59e2d87a5a",
   "metadata": {},
   "outputs": [],
   "source": [
    "df0.Rev.fillna(df0.Rev.mean(), inplace=True)"
   ]
  },
  {
   "cell_type": "code",
   "execution_count": null,
   "id": "c55f077c-a165-4f30-9e13-5d1c33078a8e",
   "metadata": {},
   "outputs": [],
   "source": [
    "df0"
   ]
  },
  {
   "cell_type": "code",
   "execution_count": null,
   "id": "2d3cdb17-610f-4c6c-b1a5-4ee7d8f48272",
   "metadata": {},
   "outputs": [],
   "source": [
    "df0.EmpCnt.mean()"
   ]
  },
  {
   "cell_type": "code",
   "execution_count": null,
   "id": "36ec6476-2fdf-4256-8cc3-3713a74f5628",
   "metadata": {},
   "outputs": [],
   "source": [
    "df0.EmpCnt.median()"
   ]
  },
  {
   "cell_type": "code",
   "execution_count": null,
   "id": "3600b090-b170-4873-a7bf-22ca1d3f6bd2",
   "metadata": {},
   "outputs": [],
   "source": [
    "df0.EmpCnt.fillna(df0.EmpCnt.median(), inplace=True)"
   ]
  },
  {
   "cell_type": "code",
   "execution_count": null,
   "id": "e4c5fbb0-e18f-4efa-ad93-2cb5aebb2381",
   "metadata": {},
   "outputs": [],
   "source": [
    "df0"
   ]
  },
  {
   "cell_type": "code",
   "execution_count": null,
   "id": "8c6df9d2-38f3-4d87-a588-35f048d2d9d1",
   "metadata": {},
   "outputs": [],
   "source": [
    "df0.Sector.fillna(method='bfill')"
   ]
  },
  {
   "cell_type": "code",
   "execution_count": null,
   "id": "60ce0a35-dd99-44de-9106-c7c04af19513",
   "metadata": {},
   "outputs": [],
   "source": [
    "df0.Sector.ffill()"
   ]
  },
  {
   "cell_type": "code",
   "execution_count": null,
   "id": "c9af73a6-7634-40fc-984d-92280629a408",
   "metadata": {},
   "outputs": [],
   "source": [
    "df0.Sector.bfill(inplace=True)"
   ]
  },
  {
   "cell_type": "code",
   "execution_count": null,
   "id": "d87d26f8-0e12-4434-909e-af09c2717e41",
   "metadata": {},
   "outputs": [],
   "source": [
    "df0"
   ]
  },
  {
   "cell_type": "code",
   "execution_count": null,
   "id": "66ebb9e3-e0ad-44ba-ae62-813f94864a18",
   "metadata": {},
   "outputs": [],
   "source": [
    "df0['HQ'] = df0.HQ.ffill().bfill()\n",
    "df0"
   ]
  },
  {
   "cell_type": "code",
   "execution_count": null,
   "id": "4a937a5e-f1e1-464b-8bbe-8385eee55971",
   "metadata": {},
   "outputs": [],
   "source": []
  }
 ],
 "metadata": {
  "kernelspec": {
   "display_name": "Python 3 (ipykernel)",
   "language": "python",
   "name": "python3"
  },
  "language_info": {
   "codemirror_mode": {
    "name": "ipython",
    "version": 3
   },
   "file_extension": ".py",
   "mimetype": "text/x-python",
   "name": "python",
   "nbconvert_exporter": "python",
   "pygments_lexer": "ipython3",
   "version": "3.11.7"
  }
 },
 "nbformat": 4,
 "nbformat_minor": 5
}
