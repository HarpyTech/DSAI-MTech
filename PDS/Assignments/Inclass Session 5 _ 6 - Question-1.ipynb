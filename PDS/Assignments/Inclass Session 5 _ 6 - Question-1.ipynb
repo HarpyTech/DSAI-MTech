{
 "cells": [
  {
   "cell_type": "markdown",
   "metadata": {},
   "source": [
    "<table align=\"center\" width=100%>\n",
    "    <tr>\n",
    "        <td width=\"10%\">\n",
    "            <img src=\"in_class.png\">\n",
    "        </td>\n",
    "        <td>\n",
    "            <div align=\"center\">\n",
    "                <font color=\"#21618C\" size=8px>\n",
    "                    <b> Inclass-Lab  <br>(Session 5 & 6)\n",
    "                    </b>\n",
    "                </font>\n",
    "            </div>\n",
    "        </td>\n",
    "    </tr>\n",
    "</table>"
   ]
  },
  {
   "cell_type": "markdown",
   "metadata": {},
   "source": [
    "## Table of Content\n",
    "1. **[Reshape](#Reshape)**\n",
    "2. **[Pivot Table](#Pivoting)**\n",
    "3. **[Duplicate](#Duplicating)**\n",
    "4. **[Replace](#Replacing)**\n",
    "5. **[Index](#Indexing)**\n",
    "6. **[Summary Statistics](#Summary_Statistics)**\n",
    "7. **[Merge, Join, Concatenate](#merge)**\n",
    "8. **[Plots using Library Matplotlib ](#matplotlib)**\n",
    "9. **[Plots using Library Seaborn ](#seaborn)**\n",
    "10. **[Plots using Library Plotly](#plotly)**"
   ]
  },
  {
   "cell_type": "markdown",
   "metadata": {},
   "source": [
    "**Let us import the required library**"
   ]
  },
  {
   "cell_type": "code",
   "execution_count": 20,
   "metadata": {},
   "outputs": [],
   "source": [
    "# import libraries\n",
    "import pandas as pd\n",
    "import numpy as np\n",
    "import seaborn as sb\n",
    "import matplotlib.pyplot as plt"
   ]
  },
  {
   "cell_type": "markdown",
   "metadata": {},
   "source": [
    "### Let's begin with some hands-on practice exercises"
   ]
  },
  {
   "cell_type": "markdown",
   "metadata": {},
   "source": [
    "<a id='Reshape'></a>\n",
    "## 1. Reshape"
   ]
  },
  {
   "cell_type": "markdown",
   "metadata": {},
   "source": [
    "<table align=\"left\" width=100%>\n",
    "    <tr>\n",
    "        <td width=\"6%\">\n",
    "            <img src=\"question_icon.png\">\n",
    "        </td>\n",
    "        <td>\n",
    "            <div align=\"left\">\n",
    "                <font color=\"#21618C\" size=4px>\n",
    "                    <b> 1. Write a program to reshape the given dataframe using the melt function, considering 'Day' as the identifier variable\n",
    "                    </b>\n",
    "                </font>\n",
    "            </div>\n",
    "        </td>\n",
    "    </tr>\n",
    "</table>"
   ]
  },
  {
   "cell_type": "markdown",
   "metadata": {},
   "source": [
    "**Use the dataframe given below:**\n",
    "   \n",
    "<table>\n",
    "<tr>\n",
    "<th>Day</th>\n",
    "<th>ICICI</th>\n",
    "<th>HDFC</th>\n",
    "</tr>\n",
    "<tr>\n",
    "<td>MON</td>\n",
    "<td>1129</td>\n",
    "<td>191</td>\n",
    "</tr>\n",
    "<tr>\n",
    "<td>TUES</td>\n",
    "<td>1132</td>\n",
    "<td>192</td>\n",
    "</tr>\n",
    "<tr>\n",
    "<td>WED</td>\n",
    "<td>1134</td>\n",
    "<td>190</td>\n",
    "</tr>\n",
    "<tr>\n",
    "<td>THU</td>\n",
    "<td>1152</td>\n",
    "<td>190</td>\n",
    "</tr>\n",
    "<tr>\n",
    "<td>FRI</td>\n",
    "<td>1152</td>\n",
    "<td>188</td>\n",
    "</tr>\n",
    "   \n",
    "</table>"
   ]
  },
  {
   "cell_type": "code",
   "execution_count": 21,
   "metadata": {},
   "outputs": [
    {
     "data": {
      "text/html": [
       "<div>\n",
       "<style scoped>\n",
       "    .dataframe tbody tr th:only-of-type {\n",
       "        vertical-align: middle;\n",
       "    }\n",
       "\n",
       "    .dataframe tbody tr th {\n",
       "        vertical-align: top;\n",
       "    }\n",
       "\n",
       "    .dataframe thead th {\n",
       "        text-align: right;\n",
       "    }\n",
       "</style>\n",
       "<table border=\"1\" class=\"dataframe\">\n",
       "  <thead>\n",
       "    <tr style=\"text-align: right;\">\n",
       "      <th></th>\n",
       "      <th>Day</th>\n",
       "      <th>Bank</th>\n",
       "      <th>Amount</th>\n",
       "    </tr>\n",
       "  </thead>\n",
       "  <tbody>\n",
       "    <tr>\n",
       "      <th>0</th>\n",
       "      <td>MON</td>\n",
       "      <td>ICICI</td>\n",
       "      <td>1129</td>\n",
       "    </tr>\n",
       "    <tr>\n",
       "      <th>1</th>\n",
       "      <td>TUES</td>\n",
       "      <td>ICICI</td>\n",
       "      <td>1132</td>\n",
       "    </tr>\n",
       "    <tr>\n",
       "      <th>2</th>\n",
       "      <td>WED</td>\n",
       "      <td>ICICI</td>\n",
       "      <td>1134</td>\n",
       "    </tr>\n",
       "    <tr>\n",
       "      <th>3</th>\n",
       "      <td>THU</td>\n",
       "      <td>ICICI</td>\n",
       "      <td>1152</td>\n",
       "    </tr>\n",
       "    <tr>\n",
       "      <th>4</th>\n",
       "      <td>FRI</td>\n",
       "      <td>ICICI</td>\n",
       "      <td>1152</td>\n",
       "    </tr>\n",
       "    <tr>\n",
       "      <th>5</th>\n",
       "      <td>MON</td>\n",
       "      <td>HDFC</td>\n",
       "      <td>191</td>\n",
       "    </tr>\n",
       "    <tr>\n",
       "      <th>6</th>\n",
       "      <td>TUES</td>\n",
       "      <td>HDFC</td>\n",
       "      <td>192</td>\n",
       "    </tr>\n",
       "    <tr>\n",
       "      <th>7</th>\n",
       "      <td>WED</td>\n",
       "      <td>HDFC</td>\n",
       "      <td>190</td>\n",
       "    </tr>\n",
       "    <tr>\n",
       "      <th>8</th>\n",
       "      <td>THU</td>\n",
       "      <td>HDFC</td>\n",
       "      <td>190</td>\n",
       "    </tr>\n",
       "    <tr>\n",
       "      <th>9</th>\n",
       "      <td>FRI</td>\n",
       "      <td>HDFC</td>\n",
       "      <td>188</td>\n",
       "    </tr>\n",
       "  </tbody>\n",
       "</table>\n",
       "</div>"
      ],
      "text/plain": [
       "    Day   Bank  Amount\n",
       "0   MON  ICICI    1129\n",
       "1  TUES  ICICI    1132\n",
       "2   WED  ICICI    1134\n",
       "3   THU  ICICI    1152\n",
       "4   FRI  ICICI    1152\n",
       "5   MON   HDFC     191\n",
       "6  TUES   HDFC     192\n",
       "7   WED   HDFC     190\n",
       "8   THU   HDFC     190\n",
       "9   FRI   HDFC     188"
      ]
     },
     "execution_count": 21,
     "metadata": {},
     "output_type": "execute_result"
    }
   ],
   "source": [
    "# type your code here\n",
    "data = {\n",
    "    'Day': ['MON', 'TUES', 'WED', 'THU', 'FRI'],\n",
    "    'ICICI': [1129, 1132, 1134, 1152, 1152],\n",
    "    'HDFC': [191, 192, 190, 190, 188]\n",
    "}\n",
    "col_labels = [\"ICICI\", \"HDFC\"]\n",
    "\n",
    "df = pd.DataFrame(data=data)\n",
    "df = pd.melt(df, id_vars=['Day'], value_vars=col_labels, var_name='Bank', value_name='Amount')\n",
    "df"
   ]
  },
  {
   "cell_type": "markdown",
   "metadata": {},
   "source": [
    "<a id='Pivoting'></a>\n",
    "## 2. Pivot Table"
   ]
  },
  {
   "cell_type": "markdown",
   "metadata": {},
   "source": [
    "<table align=\"left\" width=100%>\n",
    "    <tr>\n",
    "        <td width=\"6%\">\n",
    "            <img src=\"question_icon.png\">\n",
    "        </td>\n",
    "        <td>\n",
    "            <div align=\"left\">\n",
    "                <font color=\"#21618C\" size=4px>\n",
    "                    <b> 2. Find the average sales for each store\n",
    "                    </b>\n",
    "                </font>\n",
    "            </div>\n",
    "        </td>\n",
    "    </tr>\n",
    "</table>"
   ]
  },
  {
   "cell_type": "markdown",
   "metadata": {},
   "source": [
    "**Use the dataframe given below:**\n",
    "   \n",
    "<table>\n",
    "<tr>\n",
    "<th>Store</th>\n",
    "<th>Location</th>\n",
    "<th>Sales</th>\n",
    "</tr>\n",
    "<tr>\n",
    "<td>A</td>\n",
    "<td>Mumbai</td>\n",
    "<td>40000</td>\n",
    "</tr>\n",
    "<tr>\n",
    "<td>B</td>\n",
    "<td>Pune</td>\n",
    "<td>45000</td>\n",
    "</tr>\n",
    "<tr>\n",
    "<td>A</td>\n",
    "<td>Hyderabad</td>\n",
    "<td>50000</td>\n",
    "</tr>\n",
    "<tr>\n",
    "<td>C</td>\n",
    "<td>Mumbai</td>\n",
    "<td>90000</td>\n",
    "</tr>\n",
    "<tr>\n",
    "<td>D</td>\n",
    "<td>Pune</td>\n",
    "<td>89000</td>\n",
    "</tr>\n",
    "<tr>\n",
    "<td>A</td>\n",
    "<td>Delhi</td>\n",
    "<td>87000</td>\n",
    "</tr>\n",
    "<tr>\n",
    "<td>D</td>\n",
    "<td>Hyderabad</td>\n",
    "<td>85000</td>\n",
    "</tr>\n",
    "<tr>\n",
    "<td>A</td>\n",
    "<td>Pune</td>\n",
    "<td>78000</td>\n",
    "</tr>\n",
    "<tr>\n",
    "<td>C</td>\n",
    "<td>Mumbai</td>\n",
    "<td>89000</td>\n",
    "</tr>\n",
    "<tr>\n",
    "<td>B</td>\n",
    "<td>Pune</td>\n",
    "<td>70000</td>\n",
    "</tr>\n",
    "   \n",
    "</table>"
   ]
  },
  {
   "cell_type": "code",
   "execution_count": 19,
   "metadata": {},
   "outputs": [
    {
     "name": "stdout",
     "output_type": "stream",
     "text": [
      "         Sales\n",
      "Store         \n",
      "A      63750.0\n",
      "B      57500.0\n",
      "C      89500.0\n",
      "D      87000.0\n"
     ]
    }
   ],
   "source": [
    "# type your code here\n",
    "data = {\n",
    "    \"Store\": [\"A\", \"B\", \"A\", \"C\", \"D\", \"A\", \"D\", \"A\", \"C\", \"B\"],\n",
    "    \"Location\": [\"Mumbai\", \"Pune\", \"Hyderabad\", \"Mumbai\", \"Pune\", \"Delhi\", \"Hyderabad\", \"Pune\", \"Mumbai\", \"Pune\"],\n",
    "    \"Sales\": [40000, 45000, 50000, 90000, 89000, 87000, 85000, 78000, 89000, 70000]\n",
    "}\n",
    "df = pd.DataFrame(data)\n",
    "df = df.groupby(by=\"Store\")\n",
    "print(df.mean(numeric_only=True))"
   ]
  },
  {
   "cell_type": "markdown",
   "metadata": {},
   "source": [
    "<a id='Duplicating'></a>\n",
    "## 3. Duplicate"
   ]
  },
  {
   "cell_type": "markdown",
   "metadata": {},
   "source": [
    "<table align=\"left\" width=100%>\n",
    "    <tr>\n",
    "        <td width=\"6%\">\n",
    "            <img src=\"question_icon.png\">\n",
    "        </td>\n",
    "        <td>\n",
    "            <div align=\"left\">\n",
    "                <font color=\"#21618C\" size=4px>\n",
    "                    <b> 3. Select duplicate rows, except the last occurrence \n",
    "                    </b>\n",
    "                </font>\n",
    "            </div>\n",
    "        </td>\n",
    "    </tr>\n",
    "</table>"
   ]
  },
  {
   "cell_type": "markdown",
   "metadata": {},
   "source": [
    "**Use the dataframe given below:**\n",
    "   \n",
    "<table>\n",
    "<tr>\n",
    "<th>Name</th>\n",
    "<th>Salary</th>\n",
    "<th>City</th>\n",
    "</tr>\n",
    "<tr>\n",
    "<td>John</td>\n",
    "<td>3400</td>\n",
    "<td>Sydeny</td>\n",
    "</tr>\n",
    "<tr>\n",
    "<td>Robert</td>\n",
    "<td>3000</td>\n",
    "<td>Chicago</td>\n",
    "</tr>\n",
    "<tr>\n",
    "<td>Aadi</td>\n",
    "<td>1600</td>\n",
    "<td>New York</td>\n",
    "</tr>\n",
    "<tr>\n",
    "<td>Robert</td>\n",
    "<td>3000</td>\n",
    "<td>Chicago</td>\n",
    "</tr>\n",
    "<tr>\n",
    "<td>Robert</td>\n",
    "<td>3000</td>\n",
    "<td>Chicago</td>\n",
    "</tr>\n",
    "<tr>\n",
    "<td>Robert</td>\n",
    "<td>3000</td>\n",
    "<td>Texas</td>\n",
    "</tr>\n",
    "<tr>\n",
    "<td>Aadi</td>\n",
    "<td>4000</td>\n",
    "<td>London</td>\n",
    "</tr>\n",
    "<tr>\n",
    "<td>Sachine</td>\n",
    "<td>3000</td>\n",
    "<td>Chicago</td>\n",
    "</tr>\n",
    "   \n",
    "</table>"
   ]
  },
  {
   "cell_type": "code",
   "execution_count": 22,
   "metadata": {},
   "outputs": [
    {
     "name": "stdout",
     "output_type": "stream",
     "text": [
      "Duplicate rows except the last occurrence:\n",
      "     Name  Salary     City\n",
      "1  Robert    3000  Chicago\n",
      "3  Robert    3000  Chicago\n"
     ]
    }
   ],
   "source": [
    "# type your code here\n",
    "data = {\n",
    "    'Name': ['John', 'Robert', 'Aadi', 'Robert', 'Robert', 'Robert', 'Aadi', 'Sachine'],\n",
    "    'Salary': [3400, 3000, 1600, 3000, 3000, 3000, 4000, 3000],\n",
    "    'City': ['Sydney', 'Chicago', 'New York', 'Chicago', 'Chicago', 'Texas', 'London', 'Chicago']\n",
    "}\n",
    "\n",
    "df = pd.DataFrame(data)\n",
    "\n",
    "duplicate_rows_except_last = df[df.duplicated(keep='last')]\n",
    "\n",
    "print(\"Duplicate rows except the last occurrence:\")\n",
    "print(duplicate_rows_except_last)"
   ]
  },
  {
   "cell_type": "markdown",
   "metadata": {},
   "source": [
    "<table align=\"left\" width=100%>\n",
    "    <tr>\n",
    "        <td width=\"6%\">\n",
    "            <img src=\"question_icon.png\">\n",
    "        </td>\n",
    "        <td>\n",
    "            <div align=\"left\">\n",
    "                <font color=\"#21618C\" size=4px>\n",
    "                    <b> 4.  Select the duplicated rows based on the column names 'Salary' and 'City'\n",
    "                    </b>\n",
    "                </font>\n",
    "            </div>\n",
    "        </td>\n",
    "    </tr>\n",
    "</table>"
   ]
  },
  {
   "cell_type": "markdown",
   "metadata": {},
   "source": [
    "**Use the dataframe given below:**\n",
    "   \n",
    "<table>\n",
    "<tr>\n",
    "<th>Name</th>\n",
    "<th>Salary</th>\n",
    "<th>City</th>\n",
    "</tr>\n",
    "<tr>\n",
    "<td>John</td>\n",
    "<td>3400</td>\n",
    "<td>Sydeny</td>\n",
    "</tr>\n",
    "<tr>\n",
    "<td>Robert</td>\n",
    "<td>3000</td>\n",
    "<td>Chicago</td>\n",
    "</tr>\n",
    "<tr>\n",
    "<td>Aadi</td>\n",
    "<td>1600</td>\n",
    "<td>New York</td>\n",
    "</tr>\n",
    "<tr>\n",
    "<td>Robert</td>\n",
    "<td>3000</td>\n",
    "<td>Chicago</td>\n",
    "</tr>\n",
    "<tr>\n",
    "<td>Robert</td>\n",
    "<td>3000</td>\n",
    "<td>Chicago</td>\n",
    "</tr>\n",
    "<tr>\n",
    "<td>Robert</td>\n",
    "<td>3000</td>\n",
    "<td>Texas</td>\n",
    "</tr>\n",
    "<tr>\n",
    "<td>Aadi</td>\n",
    "<td>4000</td>\n",
    "<td>London</td>\n",
    "</tr>\n",
    "<tr>\n",
    "<td>Sachine</td>\n",
    "<td>3000</td>\n",
    "<td>Chicago</td>\n",
    "</tr>\n",
    "   \n",
    "</table>"
   ]
  },
  {
   "cell_type": "code",
   "execution_count": 23,
   "metadata": {},
   "outputs": [
    {
     "name": "stdout",
     "output_type": "stream",
     "text": [
      "Duplicate rows based on 'Salary' and 'City':\n",
      "      Name  Salary     City\n",
      "1   Robert    3000  Chicago\n",
      "3   Robert    3000  Chicago\n",
      "4   Robert    3000  Chicago\n",
      "7  Sachine    3000  Chicago\n"
     ]
    }
   ],
   "source": [
    "# type your code here\n",
    "duplicate_rows = df[df.duplicated(subset=['Salary', 'City'], keep=False)]\n",
    "\n",
    "print(\"Duplicate rows based on 'Salary' and 'City':\")\n",
    "print(duplicate_rows)"
   ]
  },
  {
   "cell_type": "markdown",
   "metadata": {},
   "source": [
    "<a id='Replacing'></a>\n",
    "## 4. Replace"
   ]
  },
  {
   "cell_type": "markdown",
   "metadata": {},
   "source": [
    "<table align=\"left\" width=100%>\n",
    "    <tr>\n",
    "        <td width=\"6%\">\n",
    "            <img src=\"question_icon.png\">\n",
    "        </td>\n",
    "        <td>\n",
    "            <div align=\"left\">\n",
    "                <font color=\"#21618C\" size=4px>\n",
    "                    <b> 5.  Replace all 0's with male and all 1's with female in the gender column\n",
    "                    </b>\n",
    "                </font>\n",
    "            </div>\n",
    "        </td>\n",
    "    </tr>\n",
    "</table>"
   ]
  },
  {
   "cell_type": "markdown",
   "metadata": {},
   "source": [
    "**Use the dataframe given below:**\n",
    "   \n",
    "<table>\n",
    "<tr>\n",
    "<th>Name</th>\n",
    "<th>Num_Children</th>\n",
    "<th>Gender</th>\n",
    "</tr>\n",
    "<tr>\n",
    "<td>John</td>\n",
    "<td>0</td>\n",
    "<td>0</td>\n",
    "</tr>\n",
    "<tr>\n",
    "<td>Robert</td>\n",
    "<td>4</td>\n",
    "<td>0</td>\n",
    "</tr>\n",
    "<tr>\n",
    "<td>Johny</td>\n",
    "<td>5</td>\n",
    "<td>0</td>\n",
    "</tr>\n",
    "<tr>\n",
    "<td>Mia</td>\n",
    "<td>3</td>\n",
    "<td>1</td>\n",
    "</tr>\n",
    "   \n",
    "</table>"
   ]
  },
  {
   "cell_type": "code",
   "execution_count": 24,
   "metadata": {},
   "outputs": [
    {
     "name": "stdout",
     "output_type": "stream",
     "text": [
      "     Name  Num_Children  Gender\n",
      "0    John             0    male\n",
      "1  Robert             4    male\n",
      "2   Johny             5    male\n",
      "3     Mia             3  female\n"
     ]
    }
   ],
   "source": [
    "# type your code here\n",
    "data = {\n",
    "    'Name': ['John', 'Robert', 'Johny', 'Mia'],\n",
    "    'Num_Children': [0, 4, 5, 3],\n",
    "    'Gender': [0, 0, 0, 1]\n",
    "}\n",
    "\n",
    "df = pd.DataFrame(data)\n",
    "\n",
    "df['Gender'] = df['Gender'].replace({0: 'male', 1: 'female'})\n",
    "\n",
    "print(df)"
   ]
  },
  {
   "cell_type": "markdown",
   "metadata": {},
   "source": [
    "<a id='Indexing'></a>\n",
    "## 5. Index"
   ]
  },
  {
   "cell_type": "markdown",
   "metadata": {},
   "source": [
    "<table align=\"left\" width=100%>\n",
    "    <tr>\n",
    "        <td width=\"6%\">\n",
    "            <img src=\"question_icon.png\">\n",
    "        </td>\n",
    "        <td>\n",
    "            <div align=\"left\">\n",
    "                <font color=\"#21618C\" size=4px>\n",
    "                    <b> 6.  Set 'Name' and 'City' columns as indices for the below dataframe\n",
    "                    </b>\n",
    "                </font>\n",
    "            </div>\n",
    "        </td>\n",
    "    </tr>\n",
    "</table>"
   ]
  },
  {
   "cell_type": "markdown",
   "metadata": {},
   "source": [
    "**Use the dataframe given below:**\n",
    "   \n",
    "<table>\n",
    "<tr>\n",
    "<th>Name</th>\n",
    "<th>City</th>\n",
    "<th>Sales</th>\n",
    "<th>Expenses</th>\n",
    "</tr>\n",
    "<tr>\n",
    "<td>John</td>\n",
    "<td>New York</td>\n",
    "<td>60000</td>\n",
    "<td>12000</td>\n",
    "</tr>\n",
    "<tr>\n",
    "<td>Robert</td>\n",
    "<td>Chicago</td>\n",
    "<td>42000</td>\n",
    "<td>33000</td>\n",
    "</tr>\n",
    "<tr>\n",
    "<td>Jony</td>\n",
    "<td>Texas</td>\n",
    "<td>50000</td>\n",
    "<td>40000</td>\n",
    "</tr>\n",
    "<tr>\n",
    "<td>Mia</td>\n",
    "<td>California</td>\n",
    "<td>24000</td>\n",
    "<td>34000</td>\n",
    "</tr>\n",
    "<tr>\n",
    "<td>Edward</td>\n",
    "<td>Sydney</td>\n",
    "<td>12000</td>\n",
    "<td>28000</td>\n",
    "</tr>\n",
    "<tr>\n",
    "<td>Thomas</td>\n",
    "<td>New York</td>\n",
    "<td>82000</td>\n",
    "<td>19000</td>\n",
    "</tr>\n",
    "<tr>\n",
    "<td>Ethan</td>\n",
    "<td>Chicago</td>\n",
    "<td>59000</td>\n",
    "<td>32000</td>\n",
    "</tr>\n",
    "<tr>\n",
    "<td>Olivia</td>\n",
    "<td>Sydeney</td>\n",
    "<td>85000</td>\n",
    "<td>10000</td>\n",
    "</tr>\n",
    "<tr>\n",
    "<td>Arun</td>\n",
    "<td>California</td>\n",
    "<td>97000</td>\n",
    "<td>49000</td>\n",
    "</tr>\n",
    "<tr>\n",
    "<td>Ankita</td>\n",
    "<td>Texas</td>\n",
    "<td>35000</td>\n",
    "<td>34000</td>\n",
    "</tr>\n",
    "<tr>\n",
    "<td>Paulo</td>\n",
    "<td>Chicago</td>\n",
    "<td>47000</td>\n",
    "<td>55000</td>\n",
    "</tr>\n",
    "\n",
    "</table>"
   ]
  },
  {
   "cell_type": "code",
   "execution_count": 25,
   "metadata": {},
   "outputs": [
    {
     "name": "stdout",
     "output_type": "stream",
     "text": [
      "      Name        City  Sales  Expenses\n",
      "0     John    New York  60000     12000\n",
      "1   Robert     Chicago  42000     33000\n",
      "2     Jony       Texas  50000     40000\n",
      "3      Mia  California  24000     34000\n",
      "4   Edward      Sydney  12000     28000\n",
      "5   Thomas    New York  82000     19000\n",
      "6    Ethan     Chicago  59000     32000\n",
      "7   Olivia      Sydney  85000     10000\n",
      "8     Arun  California  97000     49000\n",
      "9   Ankita       Texas  35000     34000\n",
      "10   Paulo     Chicago  47000     55000\n",
      "                   Sales  Expenses\n",
      "Name   City                       \n",
      "John   New York    60000     12000\n",
      "Robert Chicago     42000     33000\n",
      "Jony   Texas       50000     40000\n",
      "Mia    California  24000     34000\n",
      "Edward Sydney      12000     28000\n",
      "Thomas New York    82000     19000\n",
      "Ethan  Chicago     59000     32000\n",
      "Olivia Sydney      85000     10000\n",
      "Arun   California  97000     49000\n",
      "Ankita Texas       35000     34000\n",
      "Paulo  Chicago     47000     55000\n"
     ]
    }
   ],
   "source": [
    "# type your code here\n",
    "data = {\n",
    "    'Name': ['John', 'Robert', 'Jony', 'Mia', 'Edward', 'Thomas', 'Ethan', 'Olivia', 'Arun', 'Ankita', 'Paulo'],\n",
    "    'City': ['New York', 'Chicago', 'Texas', 'California', 'Sydney', 'New York', 'Chicago', 'Sydney', 'California', 'Texas', 'Chicago'],\n",
    "    'Sales': [60000, 42000, 50000, 24000, 12000, 82000, 59000, 85000, 97000, 35000, 47000],\n",
    "    'Expenses': [12000, 33000, 40000, 34000, 28000, 19000, 32000, 10000, 49000, 34000, 55000]\n",
    "}\n",
    "\n",
    "df = pd.DataFrame(data)\n",
    "\n",
    "print(df)\n",
    "\n",
    "df.set_index(['Name', 'City'], inplace=True)\n",
    "\n",
    "print(df)"
   ]
  },
  {
   "cell_type": "markdown",
   "metadata": {},
   "source": [
    "<a id='Summary_Statistics'></a>\n",
    "## 6. Summary Statistics"
   ]
  },
  {
   "cell_type": "markdown",
   "metadata": {},
   "source": [
    "<table align=\"left\" width=100%>\n",
    "    <tr>\n",
    "        <td width=\"6%\">\n",
    "            <img src=\"question_icon.png\">\n",
    "        </td>\n",
    "        <td>\n",
    "            <div align=\"left\">\n",
    "                <font color=\"#21618C\" size=4px>\n",
    "                    <b> 7.  Find the descriptive statistics for the sales column of the given dataframe\n",
    "                    </b>\n",
    "                </font>\n",
    "            </div>\n",
    "        </td>\n",
    "    </tr>\n",
    "</table>"
   ]
  },
  {
   "cell_type": "markdown",
   "metadata": {},
   "source": [
    "**Use the dataframe given below:**\n",
    "   \n",
    "<table>\n",
    "<tr>\n",
    "<th>Month</th>\n",
    "<th>Sales</th>\n",
    "<th>Seasons</th>\n",
    "</tr>\n",
    "<tr>\n",
    "<td>Jan</td>\n",
    "<td>22000</td>\n",
    "<td>Winter</td>\n",
    "</tr>\n",
    "<tr>\n",
    "<td>Feb</td>\n",
    "<td>27000</td>\n",
    "<td>Winter</td>\n",
    "</tr>\n",
    "<tr>\n",
    "<td>Mar</td>\n",
    "<td>25000</td>\n",
    "<td>Spring</td>\n",
    "</tr>\n",
    "<tr>\n",
    "<td>Apr</td>\n",
    "<td>29000</td>\n",
    "<td>Spring</td>\n",
    "</tr>\n",
    "<tr>\n",
    "<td>May</td>\n",
    "<td>35000</td>\n",
    "<td>Spring</td>\n",
    "</tr>\n",
    "<tr>\n",
    "<td>June</td>\n",
    "<td>67000</td>\n",
    "<td>Summer</td>\n",
    "</tr>\n",
    "<tr>\n",
    "<td>July</td>\n",
    "<td>78000</td>\n",
    "<td>Summer</td>\n",
    "</tr>\n",
    "<tr>\n",
    "<td>Aug</td>\n",
    "<td>67000</td>\n",
    "<td>Summer</td>\n",
    "</tr>\n",
    "<tr>\n",
    "<td>Sep</td>\n",
    "<td>56000</td>\n",
    "<td>Fall</td>\n",
    "</tr>\n",
    "<tr>\n",
    "<td>Oct</td>\n",
    "<td>56000</td>\n",
    "<td>Fall</td>\n",
    "</tr>\n",
    "<tr>\n",
    "<td>Nov</td>\n",
    "<td>56000</td>\n",
    "<td>Fall</td>\n",
    "</tr>\n",
    "<tr>\n",
    "<td>Dec</td>\n",
    "<td>60000</td>\n",
    "<td>Winter</td>\n",
    "</tr>\n",
    "\n",
    "</table>"
   ]
  },
  {
   "cell_type": "code",
   "execution_count": 26,
   "metadata": {},
   "outputs": [
    {
     "name": "stdout",
     "output_type": "stream",
     "text": [
      "count       12.000000\n",
      "mean     48166.666667\n",
      "std      19385.249000\n",
      "min      22000.000000\n",
      "25%      28500.000000\n",
      "50%      56000.000000\n",
      "75%      61750.000000\n",
      "max      78000.000000\n",
      "Name: Sales, dtype: float64\n"
     ]
    }
   ],
   "source": [
    "# type your code here\n",
    "\n",
    "data = {\n",
    "    'Month': ['Jan', 'Feb', 'Mar', 'Apr', 'May', 'June', 'July', 'Aug', 'Sep', 'Oct', 'Nov', 'Dec'],\n",
    "    'Sales': [22000, 27000, 25000, 29000, 35000, 67000, 78000, 67000, 56000, 56000, 56000, 60000],\n",
    "    'Seasons': ['Winter', 'Winter', 'Spring', 'Spring', 'Spring', 'Summer', 'Summer', 'Summer', 'Fall', 'Fall', 'Fall', 'Winter']\n",
    "}\n",
    "\n",
    "df = pd.DataFrame(data)\n",
    "\n",
    "sales_stats = df['Sales'].describe()\n",
    "\n",
    "print(sales_stats)"
   ]
  },
  {
   "cell_type": "markdown",
   "metadata": {},
   "source": [
    "<table align=\"left\" width=100%>\n",
    "    <tr>\n",
    "        <td width=\"6%\">\n",
    "            <img src=\"question_icon.png\">\n",
    "        </td>\n",
    "        <td>\n",
    "            <div align=\"left\">\n",
    "                <font color=\"#21618C\" size=4px>\n",
    "                    <b> 8.  Find the median of sales for each season \n",
    "                    </b>\n",
    "                </font>\n",
    "            </div>\n",
    "        </td>\n",
    "    </tr>\n",
    "</table>"
   ]
  },
  {
   "cell_type": "markdown",
   "metadata": {},
   "source": [
    "**Use the dataframe given below:**\n",
    "   \n",
    "<table>\n",
    "<tr>\n",
    "<th>Month</th>\n",
    "<th>Sales</th>\n",
    "<th>Seasons</th>\n",
    "</tr>\n",
    "<tr>\n",
    "<td>Jan</td>\n",
    "<td>22000</td>\n",
    "<td>Winter</td>\n",
    "</tr>\n",
    "<tr>\n",
    "<td>Feb</td>\n",
    "<td>27000</td>\n",
    "<td>Winter</td>\n",
    "</tr>\n",
    "<tr>\n",
    "<td>Mar</td>\n",
    "<td>25000</td>\n",
    "<td>Spring</td>\n",
    "</tr>\n",
    "<tr>\n",
    "<td>Apr</td>\n",
    "<td>29000</td>\n",
    "<td>Spring</td>\n",
    "</tr>\n",
    "<tr>\n",
    "<td>May</td>\n",
    "<td>35000</td>\n",
    "<td>Spring</td>\n",
    "</tr>\n",
    "<tr>\n",
    "<td>June</td>\n",
    "<td>67000</td>\n",
    "<td>Summer</td>\n",
    "</tr>\n",
    "<tr>\n",
    "<td>July</td>\n",
    "<td>78000</td>\n",
    "<td>Summer</td>\n",
    "</tr>\n",
    "<tr>\n",
    "<td>Aug</td>\n",
    "<td>67000</td>\n",
    "<td>Summer</td>\n",
    "</tr>\n",
    "<tr>\n",
    "<td>Sep</td>\n",
    "<td>56000</td>\n",
    "<td>Fall</td>\n",
    "</tr>\n",
    "<tr>\n",
    "<td>Oct</td>\n",
    "<td>56000</td>\n",
    "<td>Fall</td>\n",
    "</tr>\n",
    "<tr>\n",
    "<td>Nov</td>\n",
    "<td>56000</td>\n",
    "<td>Fall</td>\n",
    "</tr>\n",
    "<tr>\n",
    "<td>Dec</td>\n",
    "<td>60000</td>\n",
    "<td>Winter</td>\n",
    "</tr>\n",
    "\n",
    "</table>"
   ]
  },
  {
   "cell_type": "code",
   "execution_count": 28,
   "metadata": {},
   "outputs": [
    {
     "name": "stdout",
     "output_type": "stream",
     "text": [
      "Seasons\n",
      "Fall      56000.0\n",
      "Spring    29000.0\n",
      "Summer    67000.0\n",
      "Winter    27000.0\n",
      "Name: Sales, dtype: float64\n"
     ]
    }
   ],
   "source": [
    "# type your code here\n",
    "sales_stats = df.groupby('Seasons').Sales.median()\n",
    "\n",
    "print(sales_stats)"
   ]
  },
  {
   "cell_type": "markdown",
   "metadata": {},
   "source": [
    "<a id='merge'></a>\n",
    "## 7. Merge, Join, Concatenate"
   ]
  },
  {
   "cell_type": "markdown",
   "metadata": {},
   "source": [
    "<table align=\"left\" width=100%>\n",
    "    <tr>\n",
    "        <td width=\"6%\">\n",
    "            <img src=\"question_icon.png\">\n",
    "        </td>\n",
    "        <td>\n",
    "            <div align=\"left\">\n",
    "                <font color=\"#21618C\" size=4px>\n",
    "                    <b> 9. Merge the given dataframes on the column 'Brand'\n",
    "                    </b>\n",
    "                </font>\n",
    "            </div>\n",
    "        </td>\n",
    "    </tr>\n",
    "</table>"
   ]
  },
  {
   "cell_type": "markdown",
   "metadata": {},
   "source": [
    "**Use the dataframe given below:**\n",
    "   \n",
    "<table>\n",
    "<tr>\n",
    "<th>ID</th>\n",
    "<th>Brand</th>\n",
    "<th>Product</th>\n",
    "</tr>\n",
    "<tr>\n",
    "<td>101</td>\n",
    "<td>Apple</td>\n",
    "<td>iPhone</td>\n",
    "</tr>\n",
    "<tr>\n",
    "<td>102</td>\n",
    "<td>Canon</td>\n",
    "<td>DSLR</td>\n",
    "</tr>\n",
    "<tr>\n",
    "<td>103</td>\n",
    "<td>Samsung</td>\n",
    "<td>SmartPhone</td>\n",
    "</tr>\n",
    "<tr>\n",
    "<td>104</td>\n",
    "<td>Nikon</td>\n",
    "<td>DSLR</td>\n",
    "</tr>\n",
    "<td>105</td>\n",
    "<td>Sony</td>\n",
    "<td>SmartTV</td>\n",
    "</tr>\n",
    "   \n",
    "</table><br>\n",
    "\n",
    "<table>\n",
    "<tr>\n",
    "    <th>ID</th>\n",
    "<th>Brand</th>\n",
    "<th>Quantity_sold</th>\n",
    "</tr>\n",
    "<tr>\n",
    "    <td>101</td>\n",
    "<td>Apple</td>\n",
    "<td>234</td>\n",
    "</tr>\n",
    "<tr>\n",
    "    <td>102</td>\n",
    "<td>Canon</td>\n",
    "<td>344</td>\n",
    "</tr>\n",
    "<tr>\n",
    "    <td>104</td>\n",
    "<td>Samsung</td>\n",
    "<td>345</td>\n",
    "</tr>\n",
    "<tr>\n",
    "    <td>103</td>\n",
    "<td>Nikon</td>\n",
    "<td>262</td>\n",
    "</tr>\n",
    "    <td>105</td>\n",
    "<td>Sony</td>\n",
    "<td>356</td>\n",
    "</tr>\n",
    "</table>"
   ]
  },
  {
   "cell_type": "code",
   "execution_count": 29,
   "metadata": {},
   "outputs": [
    {
     "name": "stdout",
     "output_type": "stream",
     "text": [
      "   ID_x    Brand     Product  ID_y  Quantity_sold\n",
      "0   101    Apple      iPhone   101            234\n",
      "1   102    Canon        DSLR   102            344\n",
      "2   103  Samsung  SmartPhone   104            345\n",
      "3   104    Nikon        DSLR   103            262\n",
      "4   105     Sony     SmartTV   105            356\n"
     ]
    }
   ],
   "source": [
    "# type your code here\n",
    "data1 = {\n",
    "    'ID': [101, 102, 103, 104, 105],\n",
    "    'Brand': ['Apple', 'Canon', 'Samsung', 'Nikon', 'Sony'],\n",
    "    'Product': ['iPhone', 'DSLR', 'SmartPhone', 'DSLR', 'SmartTV']\n",
    "}\n",
    "\n",
    "data2 = {\n",
    "    'ID': [101, 102, 104, 103, 105],\n",
    "    'Brand': ['Apple', 'Canon', 'Samsung', 'Nikon', 'Sony'],\n",
    "    'Quantity_sold': [234, 344, 345, 262, 356]\n",
    "}\n",
    "\n",
    "df1 = pd.DataFrame(data1)\n",
    "df2 = pd.DataFrame(data2)\n",
    "\n",
    "merged_df = pd.merge(df1, df2, on='Brand')\n",
    "\n",
    "print(merged_df)"
   ]
  },
  {
   "cell_type": "markdown",
   "metadata": {},
   "source": [
    "<table align=\"left\" width=100%>\n",
    "    <tr>\n",
    "        <td width=\"6%\">\n",
    "            <img src=\"question_icon.png\">\n",
    "        </td>\n",
    "        <td>\n",
    "            <div align=\"left\">\n",
    "                <font color=\"#21618C\" size=4px>\n",
    "                    <b> 10. Using the dataframes created in question 9, merge the given dataframes by 'ID' and 'Brand'\n",
    "                    </b>\n",
    "                </font>\n",
    "            </div>\n",
    "        </td>\n",
    "    </tr>\n",
    "</table>"
   ]
  },
  {
   "cell_type": "code",
   "execution_count": 30,
   "metadata": {},
   "outputs": [
    {
     "name": "stdout",
     "output_type": "stream",
     "text": [
      "    ID  Brand  Product  Quantity_sold\n",
      "0  101  Apple   iPhone            234\n",
      "1  102  Canon     DSLR            344\n",
      "2  105   Sony  SmartTV            356\n"
     ]
    }
   ],
   "source": [
    "# type your code here\n",
    "merged_df = pd.merge(df1, df2, on=[\"ID\", \"Brand\"])\n",
    "\n",
    "print(merged_df)\n"
   ]
  },
  {
   "cell_type": "markdown",
   "metadata": {},
   "source": [
    "<table align=\"left\" width=100%>\n",
    "    <tr>\n",
    "        <td width=\"6%\">\n",
    "            <img src=\"question_icon.png\">\n",
    "        </td>\n",
    "        <td>\n",
    "            <div align=\"left\">\n",
    "                <font color=\"#21618C\" size=4px>\n",
    "                    <b> 11. Using the dataframes created in question 9, perform left join to combine values in the columns 'Brand' and 'ID'\n",
    "                    </b>\n",
    "                </font>\n",
    "            </div>\n",
    "        </td>\n",
    "    </tr>\n",
    "</table>"
   ]
  },
  {
   "cell_type": "code",
   "execution_count": 31,
   "metadata": {},
   "outputs": [
    {
     "name": "stdout",
     "output_type": "stream",
     "text": [
      "    ID    Brand     Product  Quantity_sold\n",
      "0  101    Apple      iPhone          234.0\n",
      "1  102    Canon        DSLR          344.0\n",
      "2  103  Samsung  SmartPhone            NaN\n",
      "3  104    Nikon        DSLR            NaN\n",
      "4  105     Sony     SmartTV          356.0\n"
     ]
    }
   ],
   "source": [
    "# type your code here\n",
    "merged_df = pd.merge(df1, df2, on=[\"ID\", \"Brand\"], how=\"left\")\n",
    "\n",
    "print(merged_df)"
   ]
  },
  {
   "cell_type": "markdown",
   "metadata": {},
   "source": [
    "<table align=\"left\" width=100%>\n",
    "    <tr>\n",
    "        <td width=\"6%\">\n",
    "            <img src=\"question_icon.png\">\n",
    "        </td>\n",
    "        <td>\n",
    "            <div align=\"left\">\n",
    "                <font color=\"#21618C\" size=4px>\n",
    "                    <b> 12. Using the dataframes created in question 9, perform outer join to combine values in the columns 'Brand' and 'ID'\n",
    "                    </b>\n",
    "                </font>\n",
    "            </div>\n",
    "        </td>\n",
    "    </tr>\n",
    "</table>"
   ]
  },
  {
   "cell_type": "code",
   "execution_count": 32,
   "metadata": {},
   "outputs": [
    {
     "name": "stdout",
     "output_type": "stream",
     "text": [
      "    ID    Brand     Product  Quantity_sold\n",
      "0  101    Apple      iPhone          234.0\n",
      "1  102    Canon        DSLR          344.0\n",
      "2  103  Samsung  SmartPhone            NaN\n",
      "3  104    Nikon        DSLR            NaN\n",
      "4  105     Sony     SmartTV          356.0\n",
      "5  104  Samsung         NaN          345.0\n",
      "6  103    Nikon         NaN          262.0\n"
     ]
    }
   ],
   "source": [
    "# type your code here\n",
    "merged_df = pd.merge(df1, df2, on=[\"ID\", \"Brand\"], how=\"outer\")\n",
    "\n",
    "print(merged_df)"
   ]
  },
  {
   "cell_type": "markdown",
   "metadata": {},
   "source": [
    "<a id='matplotlib'></a>\n",
    "## 8. Plots using Library Matplotlib "
   ]
  },
  {
   "cell_type": "markdown",
   "metadata": {},
   "source": [
    "### a. Scatter Plots"
   ]
  },
  {
   "cell_type": "markdown",
   "metadata": {},
   "source": [
    "<table align=\"left\">\n",
    "    <tr>\n",
    "        <td width=\"6%\">\n",
    "            <img src=\"question_icon.png\">\n",
    "        </td>\n",
    "        <td>\n",
    "            <div align=\"left\", style=\"font-size:120%\">\n",
    "                <font color=\"#21618C\">\n",
    "                    <b>13. Create a bubble plot. Further use the parameter 'alpha' to adjust the transparency level. (Generate the data using random number)</b>\n",
    "                </font>\n",
    "            </div>\n",
    "        </td>\n",
    "    </tr>\n",
    "</table>\n",
    "\n",
    "**Note:** A bubble chart is a type of scatter plot that represents three dimensional data. The third variable is represented by the size of a point (marker)."
   ]
  },
  {
   "cell_type": "code",
   "execution_count": 44,
   "metadata": {},
   "outputs": [
    {
     "data": {
      "image/png": "[encoded data removed]",
      "text/plain": [
       "<Figure size 800x600 with 1 Axes>"
      ]
     },
     "metadata": {},
     "output_type": "display_data"
    }
   ],
   "source": [
    "# type your code here\n",
    "np.random.seed(42)\n",
    "n_points = 50\n",
    "x_values = np.random.rand(n_points)  # Random x-values\n",
    "y_values = np.random.rand(n_points)  # Random y-values\n",
    "bubble_sizes = np.random.randint(10, 100, size=n_points)  # Random bubble sizes\n",
    "\n",
    "# Create the bubble plot\n",
    "plt.figure(figsize=(8, 6))\n",
    "plt.scatter(x_values, y_values, s=bubble_sizes, alpha=0.7, c='b')\n",
    "plt.xlabel('X-axis')\n",
    "plt.ylabel('Y-axis')\n",
    "plt.title('Bubble Plot Example')\n",
    "plt.grid(True)\n",
    "\n",
    "plt.show()\n"
   ]
  },
  {
   "cell_type": "markdown",
   "metadata": {},
   "source": [
    "### b. Barplots"
   ]
  },
  {
   "cell_type": "markdown",
   "metadata": {},
   "source": [
    "<table align=\"left\">\n",
    "    <tr>\n",
    "        <td width=\"6%\">\n",
    "            <img src=\"question_icon.png\">\n",
    "        </td>\n",
    "        <td>\n",
    "            <div align=\"left\", style=\"font-size:120%\">\n",
    "                <font color=\"#21618C\">\n",
    "                    <b> 14. The exports and imports (in billion dollars) is given for a country from 2001 to 2005. Draw a barplot for the data\n",
    "                    </b>\n",
    "                </font>\n",
    "            </div>\n",
    "        </td>\n",
    "    </tr>\n",
    "</table>"
   ]
  },
  {
   "cell_type": "markdown",
   "metadata": {},
   "source": [
    "<table>\n",
    "  <tr>\n",
    "  <th>Year</th>\n",
    "  <th>Import</th>\n",
    "  <th>Export</th>\n",
    "  </tr>\n",
    "  <tr>\n",
    "  <td>2001</td>\n",
    "  <td>54.4</td>\n",
    "  <td>42.5 </td>\n",
    "  </tr>\n",
    "  <tr>\n",
    "  <td>2002</td>\n",
    "  <td>53.8</td>\n",
    "  <td>44.5</td>\n",
    "  </tr>\n",
    "  <tr>\n",
    "  <td>2003</td>\n",
    "  <td>61.6</td>\n",
    "  <td>48.3</td>\n",
    "  </tr>\n",
    "  <tr>\n",
    "  <td>2004</td>\n",
    "  <td>74.15</td>\n",
    "  <td>57.24</td>\n",
    "  </tr>\n",
    "  <tr>\n",
    "  <td>2005</td>\n",
    "  <td>89.33</td>\n",
    "  <td>69.18</td>\n",
    "  </tr>\n",
    "</table>"
   ]
  },
  {
   "cell_type": "code",
   "execution_count": 39,
   "metadata": {},
   "outputs": [
    {
     "data": {
      "image/png": "[encoded data removed]",
      "text/plain": [
       "<Figure size 600x400 with 1 Axes>"
      ]
     },
     "metadata": {},
     "output_type": "display_data"
    }
   ],
   "source": [
    "# type your code here\n",
    "years = [2001, 2002, 2003, 2004, 2005]\n",
    "imports = [54.4, 53.8, 61.6, 74.15, 89.33]\n",
    "exports = [42.5, 44.5, 48.3, 57.24, 69.18]\n",
    "\n",
    "# Create a bar plot\n",
    "plt.figure(figsize=(6,4))\n",
    "plt.bar(years, imports, label='Imports', color='b', alpha=0.7)\n",
    "plt.bar(years, exports, label='Exports', color='g', alpha=0.7, bottom=imports)\n",
    "\n",
    "# Customize the plot\n",
    "plt.xlabel('Year')\n",
    "plt.ylabel('Amount (in billion dollars)')\n",
    "plt.title('Imports and Exports (2001-2005)')\n",
    "plt.legend()\n",
    "\n",
    "# Show the plot\n",
    "plt.show()"
   ]
  },
  {
   "cell_type": "markdown",
   "metadata": {},
   "source": [
    "### c. Pie plots"
   ]
  },
  {
   "cell_type": "markdown",
   "metadata": {},
   "source": [
    "<table align=\"left\">\n",
    "    <tr>\n",
    "        <td width=\"6%\">\n",
    "            <img src=\"question_icon.png\">\n",
    "        </td>\n",
    "        <td>\n",
    "            <div align=\"left\", style=\"font-size:120%\">\n",
    "                <font color=\"#21618C\">\n",
    "                    <b> 15. Following is the information release after the Indian budget is declared. Plot a donut chart for it\n",
    "                    </b>\n",
    "                </font>\n",
    "            </div>\n",
    "        </td>\n",
    "    </tr>\n",
    "</table>"
   ]
  },
  {
   "cell_type": "markdown",
   "metadata": {},
   "source": [
    "<table>\n",
    "  <tr>\n",
    "  <th>Income Form </th>\n",
    "  <th>Amount (in paise)</th>\n",
    "  </tr>\n",
    "  <tr>\n",
    "  <td>Corporation Tax</td>\n",
    "  <td>21</td>\n",
    "  </tr>\n",
    "  <tr>\n",
    "  <td>Income Tax</td>\n",
    "  <td>16</td>\n",
    "  </tr>\n",
    "  <tr>\n",
    "  <td>Customs</td>\n",
    "  <td>4</td>\n",
    "  </tr>\n",
    "  <tr>\n",
    "  <td>Union Excise Duties</td>\n",
    "  <td>8</td>\n",
    "</tr>\n",
    "  <tr>\n",
    "  <td>GST & Other Taxes</td>\n",
    "  <td>19</td>\n",
    "</tr>\n",
    "<tr>\n",
    "  <td>Non-Tax Revenue</td>\n",
    "  <td>9</td>\n",
    "  </tr>\n",
    "  <tr>\n",
    "  <td>Non-Debt Capital Receipts</td>\n",
    "  <td>3</td>\n",
    "</tr>\n",
    "  <tr>\n",
    "  <td>Borrowings and Other Liabilities</td>\n",
    "  <td>20</td>\n",
    "  </tr>\n",
    "</table>"
   ]
  },
  {
   "cell_type": "code",
   "execution_count": 43,
   "metadata": {},
   "outputs": [
    {
     "data": {
      "image/png": "[encoded data removed]",
      "text/plain": [
       "<Figure size 400x300 with 1 Axes>"
      ]
     },
     "metadata": {},
     "output_type": "display_data"
    }
   ],
   "source": [
    "# type your code here\n",
    "data = {\n",
    "    'Income Form': ['Corporation Tax', 'Income Tax', 'Customs', 'Union Excise Duties',\n",
    "                     'GST & Other Taxes', 'Non-Tax Revenue', 'Non-Debt Capital Receipts',\n",
    "                     'Borrowings and Other Liabilities'],\n",
    "    'Amount (in paise)': [21, 16, 4, 8, 19, 9, 3, 20]\n",
    "}\n",
    "\n",
    "df = pd.DataFrame(data)\n",
    "\n",
    "plt.figure(figsize=(4,3), dpi=100)\n",
    "plt.pie(x=df['Amount (in paise)'], labels=df['Income Form'], autopct='%.2f', radius=1)\n",
    "plt.show()"
   ]
  },
  {
   "cell_type": "markdown",
   "metadata": {},
   "source": [
    "### d. Line plots"
   ]
  },
  {
   "cell_type": "markdown",
   "metadata": {},
   "source": [
    "<table align=\"left\">\n",
    "    <tr>\n",
    "        <td width=\"6%\">\n",
    "            <img src=\"question_icon.png\">\n",
    "        </td>\n",
    "        <td>\n",
    "            <div align=\"left\", style=\"font-size:120%\">\n",
    "                <font color=\"#21618C\">\n",
    "                    <b> 16. Import the 'Returns.csv'. Plot a multiple line plot for the returns of each company\n",
    "                    </b>\n",
    "                </font>\n",
    "            </div>\n",
    "        </td>\n",
    "    </tr>\n",
    "</table>"
   ]
  },
  {
   "cell_type": "code",
   "execution_count": 51,
   "metadata": {},
   "outputs": [
    {
     "data": {
      "image/png": "[encoded data removed]",
      "text/plain": [
       "<Figure size 800x600 with 1 Axes>"
      ]
     },
     "metadata": {},
     "output_type": "display_data"
    }
   ],
   "source": [
    "# type your code here\n",
    "df = pd.read_csv(\"./Returns.csv\")\n",
    "\n",
    "plt.figure(figsize=(8,6), dpi=100)\n",
    "plt.plot(df.Day, df.TCS, label='TCS', marker='o')\n",
    "plt.plot(df.Day, df.HDFCBANK, label='HDFC Bank', marker='s')\n",
    "plt.plot(df.Day, df.JINDALSTEL, label='JINDAL Steel', marker='^')\n",
    "plt.plot(df.Day, df.TATAMOTORS, label=\"Tata Motors\", marker='*')\n",
    "plt.plot(df.Day, df.INFY, label=\"Infosys \", marker='D')\n",
    "plt.plot(df.Day, df.BOSCHLTD, label=\"Bosch Ltd \", marker='d')\n",
    "\n",
    "plt.xlabel('Days')\n",
    "plt.ylabel('Stock Value')\n",
    "plt.title('Stock Performance of Companies')\n",
    "plt.grid(True)\n",
    "plt.legend()\n",
    "\n",
    "plt.show()"
   ]
  },
  {
   "cell_type": "markdown",
   "metadata": {},
   "source": [
    "<a id='seaborn'></a>\n",
    "## 9. Plots using Library Seaborn"
   ]
  },
  {
   "cell_type": "markdown",
   "metadata": {},
   "source": [
    "<table align=\"left\">\n",
    "    <tr>\n",
    "        <td width=\"6%\">\n",
    "            <img src=\"question_icon.png\">\n",
    "        </td>\n",
    "        <td>\n",
    "            <div align=\"left\", style=\"font-size:120%\">\n",
    "                <font color=\"#21618C\">\n",
    "                    <b> 17. Import the dataset age_height.csv. Plot a heat map for the correlation matrix\n",
    "                    </b>\n",
    "                </font>\n",
    "            </div>\n",
    "        </td>\n",
    "    </tr>\n",
    "</table>"
   ]
  },
  {
   "cell_type": "code",
   "execution_count": 55,
   "metadata": {},
   "outputs": [
    {
     "data": {
      "application/javascript": "\n        if (window._pyforest_update_imports_cell) { window._pyforest_update_imports_cell('from sklearn.preprocessing import StandardScaler\\nfrom sklearn.preprocessing import PolynomialFeatures\\nfrom sklearn.preprocessing import OneHotEncoder\\nimport seaborn as sns'); }\n    ",
      "text/plain": [
       "<IPython.core.display.Javascript object>"
      ]
     },
     "metadata": {},
     "output_type": "display_data"
    },
    {
     "data": {
      "image/png": "[encoded data removed]",
      "text/plain": [
       "<Figure size 1000x800 with 2 Axes>"
      ]
     },
     "metadata": {},
     "output_type": "display_data"
    }
   ],
   "source": [
    "# type your code here\n",
    "df = pd.read_csv('./age-height.csv')\n",
    "\n",
    "corr_matrix = df.corr()\n",
    "\n",
    "plt.figure(figsize=(10, 8))\n",
    "sns.heatmap(corr_matrix, annot=True, cmap='coolwarm', fmt='.2f', linewidths=0.5)\n",
    "plt.title('Correlation Matrix Heatmap')\n",
    "plt.show()"
   ]
  },
  {
   "cell_type": "markdown",
   "metadata": {},
   "source": [
    "<table align=\"left\">\n",
    "    <tr>\n",
    "        <td width=\"6%\">\n",
    "            <img src=\"question_icon.png\">\n",
    "        </td>\n",
    "        <td>\n",
    "            <div align=\"left\", style=\"font-size:120%\">\n",
    "                <font color=\"#21618C\">\n",
    "                    <b> 18. Plot a  swarmplot using inbuilt data-set 'iris' given in seaborn\n",
    "                    </b>\n",
    "                </font>\n",
    "            </div>\n",
    "        </td>\n",
    "    </tr>\n",
    "</table>"
   ]
  },
  {
   "cell_type": "code",
   "execution_count": 19,
   "metadata": {},
   "outputs": [],
   "source": [
    "# type your code here"
   ]
  },
  {
   "cell_type": "markdown",
   "metadata": {},
   "source": [
    "<table align=\"left\">\n",
    "    <tr>\n",
    "        <td width=\"6%\">\n",
    "            <img src=\"question_icon.png\">\n",
    "        </td>\n",
    "        <td>\n",
    "            <div align=\"left\", style=\"font-size:120%\">\n",
    "                <font color=\"#21618C\">\n",
    "                    <b> 19. Using the 'diamonds' data available in the library seaborn, consider the price for the type of cut. Display the data using the following plots:\n",
    "                        <ol>\n",
    "                            <li> Multiple boxplot</li>\n",
    "                            <li> Violin Plot </li>\n",
    "                            <li> Boxen Plot </li>\n",
    "                        </ol>\n",
    "                    </b>\n",
    "                </font>\n",
    "            </div>\n",
    "        </td>\n",
    "    </tr>\n",
    "</table>"
   ]
  },
  {
   "cell_type": "code",
   "execution_count": 20,
   "metadata": {},
   "outputs": [],
   "source": [
    "# type your code here"
   ]
  },
  {
   "cell_type": "markdown",
   "metadata": {},
   "source": [
    "<table align=\"left\">\n",
    "    <tr>\n",
    "        <td width=\"6%\">\n",
    "            <img src=\"question_icon.png\">\n",
    "        </td>\n",
    "        <td>\n",
    "            <div align=\"left\", style=\"font-size:120%\">\n",
    "                <font color=\"#21618C\">\n",
    "                    <b> 20. Generate random number form normal distribution, plot the following:\n",
    "                        <ol>\n",
    "                            <li> Histogram</li>\n",
    "                            <li> Histogram with frequency curve </li>\n",
    "                        </ol>\n",
    "                    </b>\n",
    "                </font>\n",
    "            </div>\n",
    "        </td>\n",
    "    </tr>\n",
    "</table>"
   ]
  },
  {
   "cell_type": "code",
   "execution_count": 21,
   "metadata": {},
   "outputs": [],
   "source": [
    "# type your code here"
   ]
  }
 ],
 "metadata": {
  "kernelspec": {
   "display_name": "Python 3",
   "language": "python",
   "name": "python3"
  },
  "language_info": {
   "codemirror_mode": {
    "name": "ipython",
    "version": 3
   },
   "file_extension": ".py",
   "mimetype": "text/x-python",
   "name": "python",
   "nbconvert_exporter": "python",
   "pygments_lexer": "ipython3",
   "version": "3.11.7"
  }
 },
 "nbformat": 4,
 "nbformat_minor": 4
}
