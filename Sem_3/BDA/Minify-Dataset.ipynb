{
 "cells": [
  {
   "cell_type": "code",
   "execution_count": 7,
   "id": "edefd850",
   "metadata": {},
   "outputs": [
    {
     "name": "stdout",
     "output_type": "stream",
     "text": [
      "Copied 500 images to C:\\Users\\lokesh\\Downloads\\MCD\\MCD_Mini\\ALL\\all_benign\n",
      "Copied 500 images to C:\\Users\\lokesh\\Downloads\\MCD\\MCD_Mini\\ALL\\all_early\n",
      "Copied 500 images to C:\\Users\\lokesh\\Downloads\\MCD\\MCD_Mini\\ALL\\all_pre\n",
      "Copied 500 images to C:\\Users\\lokesh\\Downloads\\MCD\\MCD_Mini\\ALL\\all_pro\n",
      "Copied 500 images to C:\\Users\\lokesh\\Downloads\\MCD\\MCD_Mini\\Brain Cancer\\brain_glioma\n",
      "Copied 500 images to C:\\Users\\lokesh\\Downloads\\MCD\\MCD_Mini\\Brain Cancer\\brain_menin\n",
      "Copied 500 images to C:\\Users\\lokesh\\Downloads\\MCD\\MCD_Mini\\Brain Cancer\\brain_tumor\n",
      "Copied 500 images to C:\\Users\\lokesh\\Downloads\\MCD\\MCD_Mini\\Breast Cancer\\breast_benign\n",
      "Copied 500 images to C:\\Users\\lokesh\\Downloads\\MCD\\MCD_Mini\\Breast Cancer\\breast_malignant\n",
      "Copied 500 images to C:\\Users\\lokesh\\Downloads\\MCD\\MCD_Mini\\Cervical Cancer\\cervix_dyk\n",
      "Copied 500 images to C:\\Users\\lokesh\\Downloads\\MCD\\MCD_Mini\\Cervical Cancer\\cervix_koc\n",
      "Copied 500 images to C:\\Users\\lokesh\\Downloads\\MCD\\MCD_Mini\\Cervical Cancer\\cervix_mep\n",
      "Copied 500 images to C:\\Users\\lokesh\\Downloads\\MCD\\MCD_Mini\\Cervical Cancer\\cervix_pab\n",
      "Copied 500 images to C:\\Users\\lokesh\\Downloads\\MCD\\MCD_Mini\\Cervical Cancer\\cervix_sfi\n",
      "Copied 500 images to C:\\Users\\lokesh\\Downloads\\MCD\\MCD_Mini\\Kidney Cancer\\kidney_normal\n",
      "Copied 500 images to C:\\Users\\lokesh\\Downloads\\MCD\\MCD_Mini\\Kidney Cancer\\kidney_tumor\n",
      "Copied 500 images to C:\\Users\\lokesh\\Downloads\\MCD\\MCD_Mini\\Lung and Colon Cancer\\colon_aca\n",
      "Copied 500 images to C:\\Users\\lokesh\\Downloads\\MCD\\MCD_Mini\\Lung and Colon Cancer\\colon_bnt\n",
      "Copied 500 images to C:\\Users\\lokesh\\Downloads\\MCD\\MCD_Mini\\Lung and Colon Cancer\\lung_aca\n",
      "Copied 500 images to C:\\Users\\lokesh\\Downloads\\MCD\\MCD_Mini\\Lung and Colon Cancer\\lung_bnt\n",
      "Copied 500 images to C:\\Users\\lokesh\\Downloads\\MCD\\MCD_Mini\\Lung and Colon Cancer\\lung_scc\n",
      "Copied 500 images to C:\\Users\\lokesh\\Downloads\\MCD\\MCD_Mini\\Lymphoma\\lymph_cll\n",
      "Copied 500 images to C:\\Users\\lokesh\\Downloads\\MCD\\MCD_Mini\\Lymphoma\\lymph_fl\n",
      "Copied 500 images to C:\\Users\\lokesh\\Downloads\\MCD\\MCD_Mini\\Lymphoma\\lymph_mcl\n",
      "Copied 500 images to C:\\Users\\lokesh\\Downloads\\MCD\\MCD_Mini\\Oral Cancer\\oral_normal\n",
      "Copied 500 images to C:\\Users\\lokesh\\Downloads\\MCD\\MCD_Mini\\Oral Cancer\\oral_scc\n"
     ]
    }
   ],
   "source": [
    "import os\n",
    "import shutil\n",
    "from pathlib import Path\n",
    "from random import sample\n",
    "\n",
    "def minify_dataset(root_dir, output_dir, images_per_subclass=500, image_exts=('.gpg',)):\n",
    "    root_dir = Path(root_dir)\n",
    "    output_dir = Path(output_dir)\n",
    "    output_dir.mkdir(parents=True, exist_ok=True)\n",
    "\n",
    "    # Traverse class/subclass structure\n",
    "    for class_dir in root_dir.iterdir():\n",
    "        if class_dir.is_dir():\n",
    "            for subclass_dir in class_dir.iterdir():\n",
    "                if subclass_dir.is_dir():\n",
    "                    # List image files\n",
    "                    # image_files = [f for f in  if f.lower() in image_exts]\n",
    "                    image_files = [ os.path.join(subclass_dir.absolute(), f)  for f in os.listdir(subclass_dir.absolute())[:500]]\n",
    "\n",
    "                    # Sample only 500\n",
    "                    # selected_files = sample(image_files, min(images_per_subclass, len(image_files)))\n",
    "\n",
    "                    # Target directory\n",
    "                    target_dir = output_dir / class_dir.name / subclass_dir.name\n",
    "                    target_dir.mkdir(parents=True, exist_ok=True)\n",
    "\n",
    "                    # Copy files\n",
    "                    for file_path in image_files:\n",
    "                        shutil.copy2(file_path, target_dir)\n",
    "\n",
    "                    print(f\"Copied {len(image_files)} images to {target_dir}\")\n",
    "\n",
    "# ✅ Example Usage\n",
    "minify_dataset(\n",
    "    root_dir=\"C:/Users/lokesh/Downloads/MCD/Multi Cancer/Multi Cancer\",\n",
    "    output_dir=\"C:/Users/lokesh/Downloads/MCD/MCD_Mini\",\n",
    "    images_per_subclass=500\n",
    ")\n"
   ]
  },
  {
   "cell_type": "code",
   "execution_count": null,
   "id": "c8603025",
   "metadata": {},
   "outputs": [],
   "source": [
    "text = \"\" "
   ]
  }
 ],
 "metadata": {
  "kernelspec": {
   "display_name": "base",
   "language": "python",
   "name": "python3"
  },
  "language_info": {
   "codemirror_mode": {
    "name": "ipython",
    "version": 3
   },
   "file_extension": ".py",
   "mimetype": "text/x-python",
   "name": "python",
   "nbconvert_exporter": "python",
   "pygments_lexer": "ipython3",
   "version": "3.11.7"
  }
 },
 "nbformat": 4,
 "nbformat_minor": 5
}
