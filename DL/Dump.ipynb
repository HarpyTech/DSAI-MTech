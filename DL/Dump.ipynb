{
 "cells": [
  {
   "cell_type": "code",
   "execution_count": 2,
   "metadata": {},
   "outputs": [],
   "source": [
    "import pyforest\n",
    "import PyPDF2\n",
    "import fpdf"
   ]
  },
  {
   "cell_type": "code",
   "execution_count": 9,
   "metadata": {},
   "outputs": [
    {
     "name": "stdout",
     "output_type": "stream",
     "text": [
      "PDF with extracted information created at: ./Formatted_DL_Notes.pdf\n"
     ]
    }
   ],
   "source": [
    "from PyPDF2 import PdfReader\n",
    "from fpdf import FPDF\n",
    "\n",
    "# Extract text from the uploaded PDF\n",
    "def extract_text_from_pdf(file_path):\n",
    "    reader = PdfReader(file_path)\n",
    "    text = \"\"\n",
    "    for page in reader.pages:\n",
    "        text += page.extract_text() + \"\\n\"\n",
    "    return text\n",
    "\n",
    "# Create a new PDF with extracted text\n",
    "def create_pdf_with_text(output_path, text):\n",
    "    pdf = FPDF()\n",
    "    pdf.set_auto_page_break(auto=True, margin=15)\n",
    "    pdf.add_page()\n",
    "    pdf.set_font(\"Arial\", size=12)\n",
    "    \n",
    "    # Add text line by line\n",
    "    for line in text.split(\"\\n\"):\n",
    "        pdf.multi_cell(0, 10, line.encode('utf-8').decode('latin-1', 'ignore'))\n",
    "    pdf.output(output_path)\n",
    "\n",
    "# Paths for the input and output files\n",
    "input_pdf_path = \"DL Notes- 11th Jan'25.pdf\"\n",
    "output_pdf_path = \"./Formatted_DL_Notes.pdf\"\n",
    "\n",
    "# Extract text and create new PDF\n",
    "extracted_text = extract_text_from_pdf(input_pdf_path)\n",
    "create_pdf_with_text(output_pdf_path, extracted_text)\n",
    "\n",
    "print(f\"PDF with extracted information created at: {output_pdf_path}\")\n"
   ]
  },
  {
   "cell_type": "code",
   "execution_count": null,
   "metadata": {},
   "outputs": [
    {
     "name": "stdout",
     "output_type": "stream",
     "text": [
      "tf.Tensor(b'hello world', shape=(), dtype=string)\n"
     ]
    }
   ],
   "source": [
    "import pyforest\n",
    "import tensorflow as tf\n",
    "import keras\n",
    "\n",
    "import warnings \n",
    "warnings.filterwarnings('ignore')\n",
    "\n",
    "# Create a Tensor.\n",
    "hello = tf.constant(\"hello world\")\n",
    "print(hello)"
   ]
  },
  {
   "cell_type": "code",
   "execution_count": null,
   "metadata": {},
   "outputs": [],
   "source": [
    "import tensorflow_datasets.audio.commonvoice as cmv\n"
   ]
  }
 ],
 "metadata": {
  "kernelspec": {
   "display_name": "base",
   "language": "python",
   "name": "python3"
  },
  "language_info": {
   "codemirror_mode": {
    "name": "ipython",
    "version": 3
   },
   "file_extension": ".py",
   "mimetype": "text/x-python",
   "name": "python",
   "nbconvert_exporter": "python",
   "pygments_lexer": "ipython3",
   "version": "3.11.7"
  }
 },
 "nbformat": 4,
 "nbformat_minor": 2
}
