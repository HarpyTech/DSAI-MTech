{
 "cells": [
  {
   "cell_type": "markdown",
   "metadata": {},
   "source": [
    "## Mathematical Foundation for Data Science\n",
    "* MathMaster AI Guru - ChatGPT App --> created by the Lecturer Joshi AmrutKumar\n",
    "#### Types of Representation\n",
    "1. Linear Algebra\n",
    "2. Calculus\n",
    "\n",
    "##### Types of Linear Algebra\n",
    "1. Vectors (its Operations)\n"
   ]
  },
  {
   "cell_type": "markdown",
   "metadata": {},
   "source": [
    "### Vector\n",
    "\n",
    "1. Numpy Array\n",
    "2. List\n",
    "3. Dictionary\n",
    "\n",
    "\n",
    "#### Numpy Arrays"
   ]
  },
  {
   "cell_type": "code",
   "execution_count": null,
   "metadata": {},
   "outputs": [],
   "source": [
    "import numpy as np"
   ]
  },
  {
   "cell_type": "code",
   "execution_count": 2,
   "metadata": {},
   "outputs": [
    {
     "data": {
      "application/javascript": "\n        if (window._pyforest_update_imports_cell) { window._pyforest_update_imports_cell('import numpy as np'); }\n    ",
      "text/plain": [
       "<IPython.core.display.Javascript object>"
      ]
     },
     "metadata": {},
     "output_type": "display_data"
    },
    {
     "data": {
      "application/javascript": "\n        if (window._pyforest_update_imports_cell) { window._pyforest_update_imports_cell('import numpy as np'); }\n    ",
      "text/plain": [
       "<IPython.core.display.Javascript object>"
      ]
     },
     "metadata": {},
     "output_type": "display_data"
    },
    {
     "name": "stdout",
     "output_type": "stream",
     "text": [
      "[ 58 122] [ 71 100]\n"
     ]
    }
   ],
   "source": [
    "u = np.array([58, 122])\n",
    "v = np.array([71, 100])\n",
    "print(u, v)"
   ]
  },
  {
   "cell_type": "code",
   "execution_count": 2,
   "metadata": {},
   "outputs": [
    {
     "data": {
      "application/javascript": "\n        if (window._pyforest_update_imports_cell) { window._pyforest_update_imports_cell('import numpy as np'); }\n    ",
      "text/plain": [
       "<IPython.core.display.Javascript object>"
      ]
     },
     "metadata": {},
     "output_type": "display_data"
    },
    {
     "data": {
      "application/javascript": "\n        if (window._pyforest_update_imports_cell) { window._pyforest_update_imports_cell('import numpy as np'); }\n    ",
      "text/plain": [
       "<IPython.core.display.Javascript object>"
      ]
     },
     "metadata": {},
     "output_type": "display_data"
    },
    {
     "data": {
      "application/javascript": "\n        if (window._pyforest_update_imports_cell) { window._pyforest_update_imports_cell('import numpy as np'); }\n    ",
      "text/plain": [
       "<IPython.core.display.Javascript object>"
      ]
     },
     "metadata": {},
     "output_type": "display_data"
    },
    {
     "data": {
      "application/javascript": "\n        if (window._pyforest_update_imports_cell) { window._pyforest_update_imports_cell('import numpy as np'); }\n    ",
      "text/plain": [
       "<IPython.core.display.Javascript object>"
      ]
     },
     "metadata": {},
     "output_type": "display_data"
    },
    {
     "data": {
      "application/javascript": "\n        if (window._pyforest_update_imports_cell) { window._pyforest_update_imports_cell('import numpy as np'); }\n    ",
      "text/plain": [
       "<IPython.core.display.Javascript object>"
      ]
     },
     "metadata": {},
     "output_type": "display_data"
    },
    {
     "data": {
      "application/javascript": "\n        if (window._pyforest_update_imports_cell) { window._pyforest_update_imports_cell('import numpy as np'); }\n    ",
      "text/plain": [
       "<IPython.core.display.Javascript object>"
      ]
     },
     "metadata": {},
     "output_type": "display_data"
    },
    {
     "data": {
      "application/javascript": "\n        if (window._pyforest_update_imports_cell) { window._pyforest_update_imports_cell('import numpy as np'); }\n    ",
      "text/plain": [
       "<IPython.core.display.Javascript object>"
      ]
     },
     "metadata": {},
     "output_type": "display_data"
    },
    {
     "name": "stdout",
     "output_type": "stream",
     "text": [
      "Row Vector:  [1 2 3 4]\n",
      "Column Vector:  [[1]\n",
      " [2]\n",
      " [3]\n",
      " [4]]\n",
      "Zero Vector:  [0. 0. 0. 0.]\n",
      "Unit Vector:  [0.70710678 0.70710678]\n",
      "Vector of 1's:  [1. 1. 1. 1.]\n"
     ]
    }
   ],
   "source": [
    "# Row Vector (4-dimensional vector)\n",
    "row_vector = np.array([1,2,3,4])\n",
    "\n",
    "# Column Vector (4-dimensional vector)\n",
    "col_vector = np.array([[1], [2], [3], [4]])\n",
    "\n",
    "# Zero Vector (4-dimensional vector)\n",
    "zero_vector = np.zeros(4)\n",
    "\n",
    "# Unit Vector (2-dimensional vector)\n",
    "unit_vector = np.array([1/np.sqrt(2), 1/np.sqrt(2)])\n",
    "\n",
    "# Vector of 1s (4-dimensional vector)\n",
    "vector_of_1s = np.ones(4)\n",
    "\n",
    "# Any Vector object can be represented in N - dimensional way, with N no of attributes representing relation between Vector and attribute \n",
    "\n",
    "\n",
    "# Print Vectors\n",
    "print(\"Row Vector: \", row_vector)\n",
    "print(\"Column Vector: \", col_vector)\n",
    "print(\"Zero Vector: \", zero_vector)\n",
    "print(\"Unit Vector: \", unit_vector)\n",
    "print(\"Vector of 1's: \", vector_of_1s)"
   ]
  },
  {
   "cell_type": "code",
   "execution_count": 4,
   "metadata": {},
   "outputs": [
    {
     "data": {
      "application/javascript": "\n        if (window._pyforest_update_imports_cell) { window._pyforest_update_imports_cell('import numpy as np'); }\n    ",
      "text/plain": [
       "<IPython.core.display.Javascript object>"
      ]
     },
     "metadata": {},
     "output_type": "display_data"
    },
    {
     "name": "stdout",
     "output_type": "stream",
     "text": [
      "Commulative Property of Addition:\n",
      "a + b = [5 7 9]\n",
      "b + a = [5 7 9]\n"
     ]
    },
    {
     "data": {
      "application/javascript": "\n        if (window._pyforest_update_imports_cell) { window._pyforest_update_imports_cell('import numpy as np'); }\n    ",
      "text/plain": [
       "<IPython.core.display.Javascript object>"
      ]
     },
     "metadata": {},
     "output_type": "display_data"
    },
    {
     "name": "stdout",
     "output_type": "stream",
     "text": [
      "a+b == b+a : True\n",
      "Association Property of Addition:\n",
      "(a+b) + c :  [12 15 18]\n",
      "a + (b+c) :  [12 15 18]\n"
     ]
    },
    {
     "data": {
      "application/javascript": "\n        if (window._pyforest_update_imports_cell) { window._pyforest_update_imports_cell('import numpy as np'); }\n    ",
      "text/plain": [
       "<IPython.core.display.Javascript object>"
      ]
     },
     "metadata": {},
     "output_type": "display_data"
    },
    {
     "name": "stdout",
     "output_type": "stream",
     "text": [
      "a + (b+c) = a + (b+c) :  True\n"
     ]
    }
   ],
   "source": [
    "array_data = np.arange(1,10).reshape(3,3)\n",
    "\n",
    "# Define vectors a, b and c\n",
    "a = array_data[0]\n",
    "b = array_data[1]\n",
    "c = array_data[2]\n",
    "\n",
    "# Define Scaler k and m\n",
    "k,m = 2,4\n",
    "\n",
    "# Verify Commulative Property of Addition: a+b = b+a\n",
    "print(\"Commulative Property of Addition:\")\n",
    "print(\"a + b =\", a+b)\n",
    "print(\"b + a =\", b+a)\n",
    "print(\"a+b == b+a :\", np.array_equal(a+b, b+a))\n",
    "\n",
    "# Verify Association Property of Addition: (a+b) + c = a + (b+c)\n",
    "print(\"Association Property of Addition:\")\n",
    "print(\"(a+b) + c : \", (a+b) + c)\n",
    "print(\"a + (b+c) : \", a + (b+c))\n",
    "print(\"a + (b+c) = a + (b+c) : \", np.array_equal(a + (b+c), (a+b) + c))"
   ]
  },
  {
   "cell_type": "code",
   "execution_count": null,
   "metadata": {},
   "outputs": [],
   "source": []
  }
 ],
 "metadata": {
  "kernelspec": {
   "display_name": "base",
   "language": "python",
   "name": "python3"
  },
  "language_info": {
   "codemirror_mode": {
    "name": "ipython",
    "version": 3
   },
   "file_extension": ".py",
   "mimetype": "text/x-python",
   "name": "python",
   "nbconvert_exporter": "python",
   "pygments_lexer": "ipython3",
   "version": "3.11.7"
  }
 },
 "nbformat": 4,
 "nbformat_minor": 2
}
