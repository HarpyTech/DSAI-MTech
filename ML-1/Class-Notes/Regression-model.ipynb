{
 "cells": [
  {
   "cell_type": "code",
   "execution_count": 2,
   "metadata": {},
   "outputs": [],
   "source": [
    "import pyforest"
   ]
  },
  {
   "cell_type": "code",
   "execution_count": 20,
   "metadata": {},
   "outputs": [
    {
     "data": {
      "application/javascript": "\n        if (window._pyforest_update_imports_cell) { window._pyforest_update_imports_cell('import pandas as pd'); }\n    ",
      "text/plain": [
       "<IPython.core.display.Javascript object>"
      ]
     },
     "metadata": {},
     "output_type": "display_data"
    }
   ],
   "source": [
    "compensations = pd.read_csv(\"..\\Lecture-Notes\\Session 3\\employee_compensation.csv\")"
   ]
  },
  {
   "cell_type": "code",
   "execution_count": 7,
   "metadata": {},
   "outputs": [
    {
     "data": {
      "text/html": [
       "<div>\n",
       "<style scoped>\n",
       "    .dataframe tbody tr th:only-of-type {\n",
       "        vertical-align: middle;\n",
       "    }\n",
       "\n",
       "    .dataframe tbody tr th {\n",
       "        vertical-align: top;\n",
       "    }\n",
       "\n",
       "    .dataframe thead th {\n",
       "        text-align: right;\n",
       "    }\n",
       "</style>\n",
       "<table border=\"1\" class=\"dataframe\">\n",
       "  <thead>\n",
       "    <tr style=\"text-align: right;\">\n",
       "      <th></th>\n",
       "      <th>Year_Type</th>\n",
       "      <th>Year</th>\n",
       "      <th>Employee_Identifier</th>\n",
       "      <th>Salaries</th>\n",
       "      <th>Overtime</th>\n",
       "      <th>Other_Salaries</th>\n",
       "      <th>Total_Salary</th>\n",
       "      <th>Retirement</th>\n",
       "      <th>Health/Dental</th>\n",
       "      <th>Other_Benefits</th>\n",
       "      <th>Total_Benefits</th>\n",
       "      <th>Total_Compensation</th>\n",
       "    </tr>\n",
       "  </thead>\n",
       "  <tbody>\n",
       "    <tr>\n",
       "      <th>0</th>\n",
       "      <td>Fiscal</td>\n",
       "      <td>2015</td>\n",
       "      <td>42853</td>\n",
       "      <td>92288.22</td>\n",
       "      <td>267.45</td>\n",
       "      <td>267.45</td>\n",
       "      <td>92823.12</td>\n",
       "      <td>20700.20</td>\n",
       "      <td>12500.56</td>\n",
       "      <td>7605.75</td>\n",
       "      <td>40806.51</td>\n",
       "      <td>133629.63</td>\n",
       "    </tr>\n",
       "    <tr>\n",
       "      <th>1</th>\n",
       "      <td>Calendar</td>\n",
       "      <td>2015</td>\n",
       "      <td>28248</td>\n",
       "      <td>1466.38</td>\n",
       "      <td>348.23</td>\n",
       "      <td>0.00</td>\n",
       "      <td>1814.61</td>\n",
       "      <td>0.00</td>\n",
       "      <td>442.03</td>\n",
       "      <td>141.59</td>\n",
       "      <td>583.62</td>\n",
       "      <td>2398.23</td>\n",
       "    </tr>\n",
       "    <tr>\n",
       "      <th>2</th>\n",
       "      <td>Fiscal</td>\n",
       "      <td>2014</td>\n",
       "      <td>30651</td>\n",
       "      <td>76536.95</td>\n",
       "      <td>13583.72</td>\n",
       "      <td>10855.94</td>\n",
       "      <td>100976.61</td>\n",
       "      <td>18632.19</td>\n",
       "      <td>12464.61</td>\n",
       "      <td>8011.41</td>\n",
       "      <td>39108.21</td>\n",
       "      <td>140084.82</td>\n",
       "    </tr>\n",
       "    <tr>\n",
       "      <th>3</th>\n",
       "      <td>Fiscal</td>\n",
       "      <td>2014</td>\n",
       "      <td>19473</td>\n",
       "      <td>45659.88</td>\n",
       "      <td>0.00</td>\n",
       "      <td>1625.37</td>\n",
       "      <td>47285.25</td>\n",
       "      <td>10081.20</td>\n",
       "      <td>0.00</td>\n",
       "      <td>3936.63</td>\n",
       "      <td>14017.83</td>\n",
       "      <td>61303.08</td>\n",
       "    </tr>\n",
       "    <tr>\n",
       "      <th>4</th>\n",
       "      <td>Fiscal</td>\n",
       "      <td>2013</td>\n",
       "      <td>7176</td>\n",
       "      <td>41832.00</td>\n",
       "      <td>0.00</td>\n",
       "      <td>0.00</td>\n",
       "      <td>41832.00</td>\n",
       "      <td>7617.60</td>\n",
       "      <td>5908.52</td>\n",
       "      <td>3254.50</td>\n",
       "      <td>16780.62</td>\n",
       "      <td>58612.62</td>\n",
       "    </tr>\n",
       "  </tbody>\n",
       "</table>\n",
       "</div>"
      ],
      "text/plain": [
       "  Year_Type  Year  Employee_Identifier  Salaries  Overtime  Other_Salaries  \\\n",
       "0    Fiscal  2015                42853  92288.22    267.45          267.45   \n",
       "1  Calendar  2015                28248   1466.38    348.23            0.00   \n",
       "2    Fiscal  2014                30651  76536.95  13583.72        10855.94   \n",
       "3    Fiscal  2014                19473  45659.88      0.00         1625.37   \n",
       "4    Fiscal  2013                 7176  41832.00      0.00            0.00   \n",
       "\n",
       "   Total_Salary  Retirement  Health/Dental  Other_Benefits  Total_Benefits  \\\n",
       "0      92823.12    20700.20       12500.56         7605.75        40806.51   \n",
       "1       1814.61        0.00         442.03          141.59          583.62   \n",
       "2     100976.61    18632.19       12464.61         8011.41        39108.21   \n",
       "3      47285.25    10081.20           0.00         3936.63        14017.83   \n",
       "4      41832.00     7617.60        5908.52         3254.50        16780.62   \n",
       "\n",
       "   Total_Compensation  \n",
       "0           133629.63  \n",
       "1             2398.23  \n",
       "2           140084.82  \n",
       "3            61303.08  \n",
       "4            58612.62  "
      ]
     },
     "execution_count": 7,
     "metadata": {},
     "output_type": "execute_result"
    }
   ],
   "source": [
    "compensations.head()"
   ]
  },
  {
   "cell_type": "code",
   "execution_count": 8,
   "metadata": {},
   "outputs": [
    {
     "data": {
      "text/html": [
       "<div>\n",
       "<style scoped>\n",
       "    .dataframe tbody tr th:only-of-type {\n",
       "        vertical-align: middle;\n",
       "    }\n",
       "\n",
       "    .dataframe tbody tr th {\n",
       "        vertical-align: top;\n",
       "    }\n",
       "\n",
       "    .dataframe thead th {\n",
       "        text-align: right;\n",
       "    }\n",
       "</style>\n",
       "<table border=\"1\" class=\"dataframe\">\n",
       "  <thead>\n",
       "    <tr style=\"text-align: right;\">\n",
       "      <th></th>\n",
       "      <th>Year</th>\n",
       "      <th>Employee_Identifier</th>\n",
       "      <th>Salaries</th>\n",
       "      <th>Overtime</th>\n",
       "      <th>Other_Salaries</th>\n",
       "      <th>Total_Salary</th>\n",
       "      <th>Retirement</th>\n",
       "      <th>Health/Dental</th>\n",
       "      <th>Other_Benefits</th>\n",
       "      <th>Total_Benefits</th>\n",
       "      <th>Total_Compensation</th>\n",
       "    </tr>\n",
       "  </thead>\n",
       "  <tbody>\n",
       "    <tr>\n",
       "      <th>count</th>\n",
       "      <td>50000.000000</td>\n",
       "      <td>50000.000000</td>\n",
       "      <td>50000.000000</td>\n",
       "      <td>50000.000000</td>\n",
       "      <td>50000.000000</td>\n",
       "      <td>50000.000000</td>\n",
       "      <td>50000.000000</td>\n",
       "      <td>50000.000000</td>\n",
       "      <td>50000.000000</td>\n",
       "      <td>50000.000000</td>\n",
       "      <td>50000.000000</td>\n",
       "    </tr>\n",
       "    <tr>\n",
       "      <th>mean</th>\n",
       "      <td>2014.323520</td>\n",
       "      <td>26951.248280</td>\n",
       "      <td>63216.072364</td>\n",
       "      <td>4359.764337</td>\n",
       "      <td>3733.388626</td>\n",
       "      <td>71309.225327</td>\n",
       "      <td>12928.106369</td>\n",
       "      <td>8901.317952</td>\n",
       "      <td>4651.513353</td>\n",
       "      <td>26480.937674</td>\n",
       "      <td>97790.163001</td>\n",
       "    </tr>\n",
       "    <tr>\n",
       "      <th>std</th>\n",
       "      <td>1.031851</td>\n",
       "      <td>15538.458578</td>\n",
       "      <td>44815.697797</td>\n",
       "      <td>11080.852986</td>\n",
       "      <td>7585.911796</td>\n",
       "      <td>52275.710533</td>\n",
       "      <td>9816.080647</td>\n",
       "      <td>4909.608132</td>\n",
       "      <td>3790.660610</td>\n",
       "      <td>16841.374081</td>\n",
       "      <td>67871.134243</td>\n",
       "    </tr>\n",
       "    <tr>\n",
       "      <th>min</th>\n",
       "      <td>2013.000000</td>\n",
       "      <td>1.000000</td>\n",
       "      <td>-18437.730000</td>\n",
       "      <td>-12308.660000</td>\n",
       "      <td>-1473.150000</td>\n",
       "      <td>-3091.660000</td>\n",
       "      <td>-22684.610000</td>\n",
       "      <td>-478.950000</td>\n",
       "      <td>-8783.180000</td>\n",
       "      <td>-12992.390000</td>\n",
       "      <td>-3518.340000</td>\n",
       "    </tr>\n",
       "    <tr>\n",
       "      <th>25%</th>\n",
       "      <td>2013.000000</td>\n",
       "      <td>13509.750000</td>\n",
       "      <td>23347.365000</td>\n",
       "      <td>0.000000</td>\n",
       "      <td>0.000000</td>\n",
       "      <td>25281.260000</td>\n",
       "      <td>3559.685000</td>\n",
       "      <td>4267.960000</td>\n",
       "      <td>1588.502500</td>\n",
       "      <td>9570.765000</td>\n",
       "      <td>35769.755000</td>\n",
       "    </tr>\n",
       "    <tr>\n",
       "      <th>50%</th>\n",
       "      <td>2014.000000</td>\n",
       "      <td>27023.500000</td>\n",
       "      <td>62466.200000</td>\n",
       "      <td>0.000000</td>\n",
       "      <td>648.000000</td>\n",
       "      <td>67805.925000</td>\n",
       "      <td>13149.375000</td>\n",
       "      <td>11967.270000</td>\n",
       "      <td>4359.725000</td>\n",
       "      <td>30253.640000</td>\n",
       "      <td>97881.505000</td>\n",
       "    </tr>\n",
       "    <tr>\n",
       "      <th>75%</th>\n",
       "      <td>2015.000000</td>\n",
       "      <td>40364.250000</td>\n",
       "      <td>93031.832500</td>\n",
       "      <td>2648.882500</td>\n",
       "      <td>4477.030000</td>\n",
       "      <td>102920.862500</td>\n",
       "      <td>19580.715000</td>\n",
       "      <td>12801.790000</td>\n",
       "      <td>6854.057500</td>\n",
       "      <td>38708.865000</td>\n",
       "      <td>141770.195000</td>\n",
       "    </tr>\n",
       "    <tr>\n",
       "      <th>max</th>\n",
       "      <td>2016.000000</td>\n",
       "      <td>53793.000000</td>\n",
       "      <td>507831.600000</td>\n",
       "      <td>208668.820000</td>\n",
       "      <td>199112.350000</td>\n",
       "      <td>507831.600000</td>\n",
       "      <td>105052.980000</td>\n",
       "      <td>21291.180000</td>\n",
       "      <td>34108.750000</td>\n",
       "      <td>141043.640000</td>\n",
       "      <td>648875.240000</td>\n",
       "    </tr>\n",
       "  </tbody>\n",
       "</table>\n",
       "</div>"
      ],
      "text/plain": [
       "               Year  Employee_Identifier       Salaries       Overtime  \\\n",
       "count  50000.000000         50000.000000   50000.000000   50000.000000   \n",
       "mean    2014.323520         26951.248280   63216.072364    4359.764337   \n",
       "std        1.031851         15538.458578   44815.697797   11080.852986   \n",
       "min     2013.000000             1.000000  -18437.730000  -12308.660000   \n",
       "25%     2013.000000         13509.750000   23347.365000       0.000000   \n",
       "50%     2014.000000         27023.500000   62466.200000       0.000000   \n",
       "75%     2015.000000         40364.250000   93031.832500    2648.882500   \n",
       "max     2016.000000         53793.000000  507831.600000  208668.820000   \n",
       "\n",
       "       Other_Salaries   Total_Salary     Retirement  Health/Dental  \\\n",
       "count    50000.000000   50000.000000   50000.000000   50000.000000   \n",
       "mean      3733.388626   71309.225327   12928.106369    8901.317952   \n",
       "std       7585.911796   52275.710533    9816.080647    4909.608132   \n",
       "min      -1473.150000   -3091.660000  -22684.610000    -478.950000   \n",
       "25%          0.000000   25281.260000    3559.685000    4267.960000   \n",
       "50%        648.000000   67805.925000   13149.375000   11967.270000   \n",
       "75%       4477.030000  102920.862500   19580.715000   12801.790000   \n",
       "max     199112.350000  507831.600000  105052.980000   21291.180000   \n",
       "\n",
       "       Other_Benefits  Total_Benefits  Total_Compensation  \n",
       "count    50000.000000    50000.000000        50000.000000  \n",
       "mean      4651.513353    26480.937674        97790.163001  \n",
       "std       3790.660610    16841.374081        67871.134243  \n",
       "min      -8783.180000   -12992.390000        -3518.340000  \n",
       "25%       1588.502500     9570.765000        35769.755000  \n",
       "50%       4359.725000    30253.640000        97881.505000  \n",
       "75%       6854.057500    38708.865000       141770.195000  \n",
       "max      34108.750000   141043.640000       648875.240000  "
      ]
     },
     "execution_count": 8,
     "metadata": {},
     "output_type": "execute_result"
    }
   ],
   "source": [
    "# 1. Null Value Treatment\n",
    "# 2. Outlier Treatment\n",
    "# 3. Scaling\n",
    "# 4. Encoding\n",
    "\n",
    "compensations.describe()"
   ]
  },
  {
   "cell_type": "markdown",
   "metadata": {},
   "source": [
    "## Null Values Treatment"
   ]
  },
  {
   "cell_type": "code",
   "execution_count": 21,
   "metadata": {},
   "outputs": [],
   "source": [
    "# Drop Indentifiers from the Data\n",
    "compensations.drop('Employee_Identifier', axis=1, inplace=True)\n"
   ]
  },
  {
   "cell_type": "code",
   "execution_count": 14,
   "metadata": {},
   "outputs": [
    {
     "name": "stdout",
     "output_type": "stream",
     "text": [
      "<class 'pandas.core.frame.DataFrame'>\n",
      "RangeIndex: 50000 entries, 0 to 49999\n",
      "Data columns (total 11 columns):\n",
      " #   Column              Non-Null Count  Dtype  \n",
      "---  ------              --------------  -----  \n",
      " 0   Year_Type           50000 non-null  object \n",
      " 1   Year                50000 non-null  int64  \n",
      " 2   Salaries            50000 non-null  float64\n",
      " 3   Overtime            50000 non-null  float64\n",
      " 4   Other_Salaries      50000 non-null  float64\n",
      " 5   Total_Salary        50000 non-null  float64\n",
      " 6   Retirement          50000 non-null  float64\n",
      " 7   Health/Dental       50000 non-null  float64\n",
      " 8   Other_Benefits      50000 non-null  float64\n",
      " 9   Total_Benefits      50000 non-null  float64\n",
      " 10  Total_Compensation  50000 non-null  float64\n",
      "dtypes: float64(9), int64(1), object(1)\n",
      "memory usage: 4.2+ MB\n"
     ]
    }
   ],
   "source": [
    "compensations.info()"
   ]
  },
  {
   "cell_type": "code",
   "execution_count": 15,
   "metadata": {},
   "outputs": [],
   "source": [
    "compensations.Year = compensations.Year.astype(object)"
   ]
  },
  {
   "cell_type": "code",
   "execution_count": 16,
   "metadata": {},
   "outputs": [
    {
     "data": {
      "text/plain": [
       "Year_Type             0\n",
       "Year                  0\n",
       "Salaries              0\n",
       "Overtime              0\n",
       "Other_Salaries        0\n",
       "Total_Salary          0\n",
       "Retirement            0\n",
       "Health/Dental         0\n",
       "Other_Benefits        0\n",
       "Total_Benefits        0\n",
       "Total_Compensation    0\n",
       "dtype: int64"
      ]
     },
     "execution_count": 16,
     "metadata": {},
     "output_type": "execute_result"
    }
   ],
   "source": [
    "compensations.isnull().sum()"
   ]
  },
  {
   "cell_type": "code",
   "execution_count": 22,
   "metadata": {},
   "outputs": [
    {
     "data": {
      "application/javascript": "\n        if (window._pyforest_update_imports_cell) { window._pyforest_update_imports_cell('import pandas as pd'); }\n    ",
      "text/plain": [
       "<IPython.core.display.Javascript object>"
      ]
     },
     "metadata": {},
     "output_type": "display_data"
    }
   ],
   "source": [
    "compensations = pd.get_dummies(compensations, columns=['Year', 'Year_Type' ], drop_first=True, dtype=int)"
   ]
  },
  {
   "cell_type": "code",
   "execution_count": 23,
   "metadata": {},
   "outputs": [
    {
     "data": {
      "text/html": [
       "<div>\n",
       "<style scoped>\n",
       "    .dataframe tbody tr th:only-of-type {\n",
       "        vertical-align: middle;\n",
       "    }\n",
       "\n",
       "    .dataframe tbody tr th {\n",
       "        vertical-align: top;\n",
       "    }\n",
       "\n",
       "    .dataframe thead th {\n",
       "        text-align: right;\n",
       "    }\n",
       "</style>\n",
       "<table border=\"1\" class=\"dataframe\">\n",
       "  <thead>\n",
       "    <tr style=\"text-align: right;\">\n",
       "      <th></th>\n",
       "      <th>Salaries</th>\n",
       "      <th>Overtime</th>\n",
       "      <th>Other_Salaries</th>\n",
       "      <th>Total_Salary</th>\n",
       "      <th>Retirement</th>\n",
       "      <th>Health/Dental</th>\n",
       "      <th>Other_Benefits</th>\n",
       "      <th>Total_Benefits</th>\n",
       "      <th>Total_Compensation</th>\n",
       "      <th>Year_2014</th>\n",
       "      <th>Year_2015</th>\n",
       "      <th>Year_2016</th>\n",
       "      <th>Year_Type_Fiscal</th>\n",
       "    </tr>\n",
       "  </thead>\n",
       "  <tbody>\n",
       "    <tr>\n",
       "      <th>0</th>\n",
       "      <td>92288.22</td>\n",
       "      <td>267.45</td>\n",
       "      <td>267.45</td>\n",
       "      <td>92823.12</td>\n",
       "      <td>20700.20</td>\n",
       "      <td>12500.56</td>\n",
       "      <td>7605.75</td>\n",
       "      <td>40806.51</td>\n",
       "      <td>133629.63</td>\n",
       "      <td>0</td>\n",
       "      <td>1</td>\n",
       "      <td>0</td>\n",
       "      <td>1</td>\n",
       "    </tr>\n",
       "    <tr>\n",
       "      <th>1</th>\n",
       "      <td>1466.38</td>\n",
       "      <td>348.23</td>\n",
       "      <td>0.00</td>\n",
       "      <td>1814.61</td>\n",
       "      <td>0.00</td>\n",
       "      <td>442.03</td>\n",
       "      <td>141.59</td>\n",
       "      <td>583.62</td>\n",
       "      <td>2398.23</td>\n",
       "      <td>0</td>\n",
       "      <td>1</td>\n",
       "      <td>0</td>\n",
       "      <td>0</td>\n",
       "    </tr>\n",
       "    <tr>\n",
       "      <th>2</th>\n",
       "      <td>76536.95</td>\n",
       "      <td>13583.72</td>\n",
       "      <td>10855.94</td>\n",
       "      <td>100976.61</td>\n",
       "      <td>18632.19</td>\n",
       "      <td>12464.61</td>\n",
       "      <td>8011.41</td>\n",
       "      <td>39108.21</td>\n",
       "      <td>140084.82</td>\n",
       "      <td>1</td>\n",
       "      <td>0</td>\n",
       "      <td>0</td>\n",
       "      <td>1</td>\n",
       "    </tr>\n",
       "    <tr>\n",
       "      <th>3</th>\n",
       "      <td>45659.88</td>\n",
       "      <td>0.00</td>\n",
       "      <td>1625.37</td>\n",
       "      <td>47285.25</td>\n",
       "      <td>10081.20</td>\n",
       "      <td>0.00</td>\n",
       "      <td>3936.63</td>\n",
       "      <td>14017.83</td>\n",
       "      <td>61303.08</td>\n",
       "      <td>1</td>\n",
       "      <td>0</td>\n",
       "      <td>0</td>\n",
       "      <td>1</td>\n",
       "    </tr>\n",
       "    <tr>\n",
       "      <th>4</th>\n",
       "      <td>41832.00</td>\n",
       "      <td>0.00</td>\n",
       "      <td>0.00</td>\n",
       "      <td>41832.00</td>\n",
       "      <td>7617.60</td>\n",
       "      <td>5908.52</td>\n",
       "      <td>3254.50</td>\n",
       "      <td>16780.62</td>\n",
       "      <td>58612.62</td>\n",
       "      <td>0</td>\n",
       "      <td>0</td>\n",
       "      <td>0</td>\n",
       "      <td>1</td>\n",
       "    </tr>\n",
       "  </tbody>\n",
       "</table>\n",
       "</div>"
      ],
      "text/plain": [
       "   Salaries  Overtime  Other_Salaries  Total_Salary  Retirement  \\\n",
       "0  92288.22    267.45          267.45      92823.12    20700.20   \n",
       "1   1466.38    348.23            0.00       1814.61        0.00   \n",
       "2  76536.95  13583.72        10855.94     100976.61    18632.19   \n",
       "3  45659.88      0.00         1625.37      47285.25    10081.20   \n",
       "4  41832.00      0.00            0.00      41832.00     7617.60   \n",
       "\n",
       "   Health/Dental  Other_Benefits  Total_Benefits  Total_Compensation  \\\n",
       "0       12500.56         7605.75        40806.51           133629.63   \n",
       "1         442.03          141.59          583.62             2398.23   \n",
       "2       12464.61         8011.41        39108.21           140084.82   \n",
       "3           0.00         3936.63        14017.83            61303.08   \n",
       "4        5908.52         3254.50        16780.62            58612.62   \n",
       "\n",
       "   Year_2014  Year_2015  Year_2016  Year_Type_Fiscal  \n",
       "0          0          1          0                 1  \n",
       "1          0          1          0                 0  \n",
       "2          1          0          0                 1  \n",
       "3          1          0          0                 1  \n",
       "4          0          0          0                 1  "
      ]
     },
     "execution_count": 23,
     "metadata": {},
     "output_type": "execute_result"
    }
   ],
   "source": [
    "compensations.head()"
   ]
  },
  {
   "cell_type": "markdown",
   "metadata": {},
   "source": [
    "#### Note: No Null Values Present in the given Sample Data Set"
   ]
  },
  {
   "cell_type": "code",
   "execution_count": 32,
   "metadata": {},
   "outputs": [
    {
     "data": {
      "application/javascript": "\n        if (window._pyforest_update_imports_cell) { window._pyforest_update_imports_cell('import seaborn as sns\\nimport matplotlib.pyplot as plt\\nimport pandas as pd'); }\n    ",
      "text/plain": [
       "<IPython.core.display.Javascript object>"
      ]
     },
     "metadata": {},
     "output_type": "display_data"
    },
    {
     "data": {
      "application/javascript": "\n        if (window._pyforest_update_imports_cell) { window._pyforest_update_imports_cell('import seaborn as sns\\nimport matplotlib.pyplot as plt\\nimport pandas as pd'); }\n    ",
      "text/plain": [
       "<IPython.core.display.Javascript object>"
      ]
     },
     "metadata": {},
     "output_type": "display_data"
    },
    {
     "data": {
      "application/javascript": "\n        if (window._pyforest_update_imports_cell) { window._pyforest_update_imports_cell('import seaborn as sns\\nimport matplotlib.pyplot as plt\\nimport pandas as pd'); }\n    ",
      "text/plain": [
       "<IPython.core.display.Javascript object>"
      ]
     },
     "metadata": {},
     "output_type": "display_data"
    },
    {
     "data": {
      "application/javascript": "\n        if (window._pyforest_update_imports_cell) { window._pyforest_update_imports_cell('import seaborn as sns\\nimport matplotlib.pyplot as plt\\nimport pandas as pd'); }\n    ",
      "text/plain": [
       "<IPython.core.display.Javascript object>"
      ]
     },
     "metadata": {},
     "output_type": "display_data"
    },
    {
     "data": {
      "application/javascript": "\n        if (window._pyforest_update_imports_cell) { window._pyforest_update_imports_cell('import seaborn as sns\\nimport matplotlib.pyplot as plt\\nimport pandas as pd'); }\n    ",
      "text/plain": [
       "<IPython.core.display.Javascript object>"
      ]
     },
     "metadata": {},
     "output_type": "display_data"
    },
    {
     "data": {
      "application/javascript": "\n        if (window._pyforest_update_imports_cell) { window._pyforest_update_imports_cell('import seaborn as sns\\nimport matplotlib.pyplot as plt\\nimport pandas as pd'); }\n    ",
      "text/plain": [
       "<IPython.core.display.Javascript object>"
      ]
     },
     "metadata": {},
     "output_type": "display_data"
    },
    {
     "data": {
      "application/javascript": "\n        if (window._pyforest_update_imports_cell) { window._pyforest_update_imports_cell('import seaborn as sns\\nimport matplotlib.pyplot as plt\\nimport pandas as pd'); }\n    ",
      "text/plain": [
       "<IPython.core.display.Javascript object>"
      ]
     },
     "metadata": {},
     "output_type": "display_data"
    },
    {
     "data": {
      "application/javascript": "\n        if (window._pyforest_update_imports_cell) { window._pyforest_update_imports_cell('import seaborn as sns\\nimport matplotlib.pyplot as plt\\nimport pandas as pd'); }\n    ",
      "text/plain": [
       "<IPython.core.display.Javascript object>"
      ]
     },
     "metadata": {},
     "output_type": "display_data"
    },
    {
     "data": {
      "application/javascript": "\n        if (window._pyforest_update_imports_cell) { window._pyforest_update_imports_cell('import seaborn as sns\\nimport matplotlib.pyplot as plt\\nimport pandas as pd'); }\n    ",
      "text/plain": [
       "<IPython.core.display.Javascript object>"
      ]
     },
     "metadata": {},
     "output_type": "display_data"
    },
    {
     "data": {
      "application/javascript": "\n        if (window._pyforest_update_imports_cell) { window._pyforest_update_imports_cell('import seaborn as sns\\nimport matplotlib.pyplot as plt\\nimport pandas as pd'); }\n    ",
      "text/plain": [
       "<IPython.core.display.Javascript object>"
      ]
     },
     "metadata": {},
     "output_type": "display_data"
    },
    {
     "data": {
      "application/javascript": "\n        if (window._pyforest_update_imports_cell) { window._pyforest_update_imports_cell('import seaborn as sns\\nimport matplotlib.pyplot as plt\\nimport pandas as pd'); }\n    ",
      "text/plain": [
       "<IPython.core.display.Javascript object>"
      ]
     },
     "metadata": {},
     "output_type": "display_data"
    },
    {
     "data": {
      "application/javascript": "\n        if (window._pyforest_update_imports_cell) { window._pyforest_update_imports_cell('import seaborn as sns\\nimport matplotlib.pyplot as plt\\nimport pandas as pd'); }\n    ",
      "text/plain": [
       "<IPython.core.display.Javascript object>"
      ]
     },
     "metadata": {},
     "output_type": "display_data"
    },
    {
     "data": {
      "application/javascript": "\n        if (window._pyforest_update_imports_cell) { window._pyforest_update_imports_cell('import seaborn as sns\\nimport matplotlib.pyplot as plt\\nimport pandas as pd'); }\n    ",
      "text/plain": [
       "<IPython.core.display.Javascript object>"
      ]
     },
     "metadata": {},
     "output_type": "display_data"
    },
    {
     "data": {
      "application/javascript": "\n        if (window._pyforest_update_imports_cell) { window._pyforest_update_imports_cell('import seaborn as sns\\nimport matplotlib.pyplot as plt\\nimport pandas as pd'); }\n    ",
      "text/plain": [
       "<IPython.core.display.Javascript object>"
      ]
     },
     "metadata": {},
     "output_type": "display_data"
    },
    {
     "data": {
      "image/png": "[encoded data removed]",
      "text/plain": [
       "<Figure size 2000x2000 with 16 Axes>"
      ]
     },
     "metadata": {},
     "output_type": "display_data"
    }
   ],
   "source": [
    "fig, ax = plt.subplots(4, 4, figsize=(20, 20))\n",
    "\n",
    "for variable, subplot in zip(compensations.columns, ax.flatten()):\n",
    "    z = sns.boxplot(x = compensations[variable], orient = \"h\",whis=1.5 , ax=subplot) # plot the boxplot\n",
    "    z.set_xlabel(variable, fontsize = 20)                                   # set the x-axis label"
   ]
  },
  {
   "cell_type": "markdown",
   "metadata": {},
   "source": [
    "## Outlier Treatment"
   ]
  },
  {
   "cell_type": "code",
   "execution_count": 26,
   "metadata": {},
   "outputs": [],
   "source": [
    "data1 = compensations.iloc[:,:-4]"
   ]
  },
  {
   "cell_type": "code",
   "execution_count": 28,
   "metadata": {},
   "outputs": [],
   "source": [
    "q1 = data1.quantile(0.25)\n",
    "q3 = data1.quantile(0.75)\n",
    "\n",
    "iqr = q3-q1\n",
    "lb = q1 - 1.5*iqr\n",
    "ub = q3 + 1.5*iqr\n"
   ]
  },
  {
   "cell_type": "code",
   "execution_count": 34,
   "metadata": {},
   "outputs": [
    {
     "data": {
      "text/html": [
       "<div>\n",
       "<style scoped>\n",
       "    .dataframe tbody tr th:only-of-type {\n",
       "        vertical-align: middle;\n",
       "    }\n",
       "\n",
       "    .dataframe tbody tr th {\n",
       "        vertical-align: top;\n",
       "    }\n",
       "\n",
       "    .dataframe thead th {\n",
       "        text-align: right;\n",
       "    }\n",
       "</style>\n",
       "<table border=\"1\" class=\"dataframe\">\n",
       "  <thead>\n",
       "    <tr style=\"text-align: right;\">\n",
       "      <th></th>\n",
       "      <th>Salaries</th>\n",
       "      <th>Overtime</th>\n",
       "      <th>Other_Salaries</th>\n",
       "      <th>Total_Salary</th>\n",
       "      <th>Retirement</th>\n",
       "      <th>Health/Dental</th>\n",
       "      <th>Other_Benefits</th>\n",
       "      <th>Total_Benefits</th>\n",
       "      <th>Total_Compensation</th>\n",
       "      <th>Year_2014</th>\n",
       "      <th>Year_2015</th>\n",
       "      <th>Year_2016</th>\n",
       "      <th>Year_Type_Fiscal</th>\n",
       "    </tr>\n",
       "  </thead>\n",
       "  <tbody>\n",
       "    <tr>\n",
       "      <th>0</th>\n",
       "      <td>92288.22</td>\n",
       "      <td>267.45</td>\n",
       "      <td>267.45</td>\n",
       "      <td>92823.12</td>\n",
       "      <td>20700.20</td>\n",
       "      <td>12500.56</td>\n",
       "      <td>7605.75</td>\n",
       "      <td>40806.51</td>\n",
       "      <td>133629.63</td>\n",
       "      <td>0</td>\n",
       "      <td>1</td>\n",
       "      <td>0</td>\n",
       "      <td>1</td>\n",
       "    </tr>\n",
       "    <tr>\n",
       "      <th>1</th>\n",
       "      <td>1466.38</td>\n",
       "      <td>348.23</td>\n",
       "      <td>0.00</td>\n",
       "      <td>1814.61</td>\n",
       "      <td>0.00</td>\n",
       "      <td>442.03</td>\n",
       "      <td>141.59</td>\n",
       "      <td>583.62</td>\n",
       "      <td>2398.23</td>\n",
       "      <td>0</td>\n",
       "      <td>1</td>\n",
       "      <td>0</td>\n",
       "      <td>0</td>\n",
       "    </tr>\n",
       "    <tr>\n",
       "      <th>3</th>\n",
       "      <td>45659.88</td>\n",
       "      <td>0.00</td>\n",
       "      <td>1625.37</td>\n",
       "      <td>47285.25</td>\n",
       "      <td>10081.20</td>\n",
       "      <td>0.00</td>\n",
       "      <td>3936.63</td>\n",
       "      <td>14017.83</td>\n",
       "      <td>61303.08</td>\n",
       "      <td>1</td>\n",
       "      <td>0</td>\n",
       "      <td>0</td>\n",
       "      <td>1</td>\n",
       "    </tr>\n",
       "    <tr>\n",
       "      <th>4</th>\n",
       "      <td>41832.00</td>\n",
       "      <td>0.00</td>\n",
       "      <td>0.00</td>\n",
       "      <td>41832.00</td>\n",
       "      <td>7617.60</td>\n",
       "      <td>5908.52</td>\n",
       "      <td>3254.50</td>\n",
       "      <td>16780.62</td>\n",
       "      <td>58612.62</td>\n",
       "      <td>0</td>\n",
       "      <td>0</td>\n",
       "      <td>0</td>\n",
       "      <td>1</td>\n",
       "    </tr>\n",
       "    <tr>\n",
       "      <th>5</th>\n",
       "      <td>74132.00</td>\n",
       "      <td>0.00</td>\n",
       "      <td>1443.42</td>\n",
       "      <td>75575.42</td>\n",
       "      <td>14851.23</td>\n",
       "      <td>12888.34</td>\n",
       "      <td>6233.85</td>\n",
       "      <td>33973.42</td>\n",
       "      <td>109548.84</td>\n",
       "      <td>0</td>\n",
       "      <td>0</td>\n",
       "      <td>0</td>\n",
       "      <td>0</td>\n",
       "    </tr>\n",
       "  </tbody>\n",
       "</table>\n",
       "</div>"
      ],
      "text/plain": [
       "   Salaries  Overtime  Other_Salaries  Total_Salary  Retirement  \\\n",
       "0  92288.22    267.45          267.45      92823.12    20700.20   \n",
       "1   1466.38    348.23            0.00       1814.61        0.00   \n",
       "3  45659.88      0.00         1625.37      47285.25    10081.20   \n",
       "4  41832.00      0.00            0.00      41832.00     7617.60   \n",
       "5  74132.00      0.00         1443.42      75575.42    14851.23   \n",
       "\n",
       "   Health/Dental  Other_Benefits  Total_Benefits  Total_Compensation  \\\n",
       "0       12500.56         7605.75        40806.51           133629.63   \n",
       "1         442.03          141.59          583.62             2398.23   \n",
       "3           0.00         3936.63        14017.83            61303.08   \n",
       "4        5908.52         3254.50        16780.62            58612.62   \n",
       "5       12888.34         6233.85        33973.42           109548.84   \n",
       "\n",
       "   Year_2014  Year_2015  Year_2016  Year_Type_Fiscal  \n",
       "0          0          1          0                 1  \n",
       "1          0          1          0                 0  \n",
       "3          1          0          0                 1  \n",
       "4          0          0          0                 1  \n",
       "5          0          0          0                 0  "
      ]
     },
     "execution_count": 34,
     "metadata": {},
     "output_type": "execute_result"
    }
   ],
   "source": [
    "data2 = compensations[~((data1 < lb) | (data1 > ub)).any(axis=1)]\n",
    "data2.head()"
   ]
  },
  {
   "cell_type": "code",
   "execution_count": 35,
   "metadata": {},
   "outputs": [
    {
     "data": {
      "text/html": [
       "<div>\n",
       "<style scoped>\n",
       "    .dataframe tbody tr th:only-of-type {\n",
       "        vertical-align: middle;\n",
       "    }\n",
       "\n",
       "    .dataframe tbody tr th {\n",
       "        vertical-align: top;\n",
       "    }\n",
       "\n",
       "    .dataframe thead th {\n",
       "        text-align: right;\n",
       "    }\n",
       "</style>\n",
       "<table border=\"1\" class=\"dataframe\">\n",
       "  <thead>\n",
       "    <tr style=\"text-align: right;\">\n",
       "      <th></th>\n",
       "      <th>Salaries</th>\n",
       "      <th>Overtime</th>\n",
       "      <th>Other_Salaries</th>\n",
       "      <th>Total_Salary</th>\n",
       "      <th>Retirement</th>\n",
       "      <th>Health/Dental</th>\n",
       "      <th>Other_Benefits</th>\n",
       "      <th>Total_Benefits</th>\n",
       "      <th>Total_Compensation</th>\n",
       "      <th>Year_2014</th>\n",
       "      <th>Year_2015</th>\n",
       "      <th>Year_2016</th>\n",
       "      <th>Year_Type_Fiscal</th>\n",
       "    </tr>\n",
       "  </thead>\n",
       "  <tbody>\n",
       "    <tr>\n",
       "      <th>0</th>\n",
       "      <td>92288.22</td>\n",
       "      <td>267.45</td>\n",
       "      <td>267.45</td>\n",
       "      <td>92823.12</td>\n",
       "      <td>20700.20</td>\n",
       "      <td>12500.56</td>\n",
       "      <td>7605.75</td>\n",
       "      <td>40806.51</td>\n",
       "      <td>133629.63</td>\n",
       "      <td>0</td>\n",
       "      <td>1</td>\n",
       "      <td>0</td>\n",
       "      <td>1</td>\n",
       "    </tr>\n",
       "    <tr>\n",
       "      <th>1</th>\n",
       "      <td>1466.38</td>\n",
       "      <td>348.23</td>\n",
       "      <td>0.00</td>\n",
       "      <td>1814.61</td>\n",
       "      <td>0.00</td>\n",
       "      <td>442.03</td>\n",
       "      <td>141.59</td>\n",
       "      <td>583.62</td>\n",
       "      <td>2398.23</td>\n",
       "      <td>0</td>\n",
       "      <td>1</td>\n",
       "      <td>0</td>\n",
       "      <td>0</td>\n",
       "    </tr>\n",
       "    <tr>\n",
       "      <th>2</th>\n",
       "      <td>45659.88</td>\n",
       "      <td>0.00</td>\n",
       "      <td>1625.37</td>\n",
       "      <td>47285.25</td>\n",
       "      <td>10081.20</td>\n",
       "      <td>0.00</td>\n",
       "      <td>3936.63</td>\n",
       "      <td>14017.83</td>\n",
       "      <td>61303.08</td>\n",
       "      <td>1</td>\n",
       "      <td>0</td>\n",
       "      <td>0</td>\n",
       "      <td>1</td>\n",
       "    </tr>\n",
       "    <tr>\n",
       "      <th>3</th>\n",
       "      <td>41832.00</td>\n",
       "      <td>0.00</td>\n",
       "      <td>0.00</td>\n",
       "      <td>41832.00</td>\n",
       "      <td>7617.60</td>\n",
       "      <td>5908.52</td>\n",
       "      <td>3254.50</td>\n",
       "      <td>16780.62</td>\n",
       "      <td>58612.62</td>\n",
       "      <td>0</td>\n",
       "      <td>0</td>\n",
       "      <td>0</td>\n",
       "      <td>1</td>\n",
       "    </tr>\n",
       "    <tr>\n",
       "      <th>4</th>\n",
       "      <td>74132.00</td>\n",
       "      <td>0.00</td>\n",
       "      <td>1443.42</td>\n",
       "      <td>75575.42</td>\n",
       "      <td>14851.23</td>\n",
       "      <td>12888.34</td>\n",
       "      <td>6233.85</td>\n",
       "      <td>33973.42</td>\n",
       "      <td>109548.84</td>\n",
       "      <td>0</td>\n",
       "      <td>0</td>\n",
       "      <td>0</td>\n",
       "      <td>0</td>\n",
       "    </tr>\n",
       "  </tbody>\n",
       "</table>\n",
       "</div>"
      ],
      "text/plain": [
       "   Salaries  Overtime  Other_Salaries  Total_Salary  Retirement  \\\n",
       "0  92288.22    267.45          267.45      92823.12    20700.20   \n",
       "1   1466.38    348.23            0.00       1814.61        0.00   \n",
       "2  45659.88      0.00         1625.37      47285.25    10081.20   \n",
       "3  41832.00      0.00            0.00      41832.00     7617.60   \n",
       "4  74132.00      0.00         1443.42      75575.42    14851.23   \n",
       "\n",
       "   Health/Dental  Other_Benefits  Total_Benefits  Total_Compensation  \\\n",
       "0       12500.56         7605.75        40806.51           133629.63   \n",
       "1         442.03          141.59          583.62             2398.23   \n",
       "2           0.00         3936.63        14017.83            61303.08   \n",
       "3        5908.52         3254.50        16780.62            58612.62   \n",
       "4       12888.34         6233.85        33973.42           109548.84   \n",
       "\n",
       "   Year_2014  Year_2015  Year_2016  Year_Type_Fiscal  \n",
       "0          0          1          0                 1  \n",
       "1          0          1          0                 0  \n",
       "2          1          0          0                 1  \n",
       "3          0          0          0                 1  \n",
       "4          0          0          0                 0  "
      ]
     },
     "execution_count": 35,
     "metadata": {},
     "output_type": "execute_result"
    }
   ],
   "source": [
    "data2 = data2.reset_index(drop=True)\n",
    "data2.head()"
   ]
  },
  {
   "cell_type": "code",
   "execution_count": 31,
   "metadata": {},
   "outputs": [
    {
     "data": {
      "text/plain": [
       "Salaries              0\n",
       "Overtime              0\n",
       "Other_Salaries        0\n",
       "Total_Salary          0\n",
       "Retirement            0\n",
       "Health/Dental         0\n",
       "Other_Benefits        0\n",
       "Total_Benefits        0\n",
       "Total_Compensation    0\n",
       "Year_2014             0\n",
       "Year_2015             0\n",
       "Year_2016             0\n",
       "Year_Type_Fiscal      0\n",
       "dtype: int64"
      ]
     },
     "execution_count": 31,
     "metadata": {},
     "output_type": "execute_result"
    }
   ],
   "source": [
    "data2.isnull().sum()"
   ]
  },
  {
   "cell_type": "markdown",
   "metadata": {},
   "source": [
    "## Scaling"
   ]
  },
  {
   "cell_type": "code",
   "execution_count": 36,
   "metadata": {},
   "outputs": [
    {
     "data": {
      "application/javascript": "\n        if (window._pyforest_update_imports_cell) { window._pyforest_update_imports_cell('import sklearn\\nfrom sklearn.preprocessing import StandardScaler\\nimport matplotlib.pyplot as plt\\nimport pandas as pd\\nimport seaborn as sns\\nfrom sklearn.impute import SimpleImputer'); }\n    ",
      "text/plain": [
       "<IPython.core.display.Javascript object>"
      ]
     },
     "metadata": {},
     "output_type": "display_data"
    },
    {
     "data": {
      "text/html": [
       "<div>\n",
       "<style scoped>\n",
       "    .dataframe tbody tr th:only-of-type {\n",
       "        vertical-align: middle;\n",
       "    }\n",
       "\n",
       "    .dataframe tbody tr th {\n",
       "        vertical-align: top;\n",
       "    }\n",
       "\n",
       "    .dataframe thead th {\n",
       "        text-align: right;\n",
       "    }\n",
       "</style>\n",
       "<table border=\"1\" class=\"dataframe\">\n",
       "  <thead>\n",
       "    <tr style=\"text-align: right;\">\n",
       "      <th></th>\n",
       "      <th>Salaries</th>\n",
       "      <th>Overtime</th>\n",
       "      <th>Other_Salaries</th>\n",
       "      <th>Total_Salary</th>\n",
       "      <th>Retirement</th>\n",
       "      <th>Health/Dental</th>\n",
       "      <th>Other_Benefits</th>\n",
       "      <th>Total_Benefits</th>\n",
       "      <th>Total_Compensation</th>\n",
       "    </tr>\n",
       "  </thead>\n",
       "  <tbody>\n",
       "    <tr>\n",
       "      <th>0</th>\n",
       "      <td>0.983501</td>\n",
       "      <td>-0.228094</td>\n",
       "      <td>-0.474925</td>\n",
       "      <td>0.926924</td>\n",
       "      <td>1.178509</td>\n",
       "      <td>0.916577</td>\n",
       "      <td>1.145330</td>\n",
       "      <td>1.160937</td>\n",
       "      <td>1.001741</td>\n",
       "    </tr>\n",
       "    <tr>\n",
       "      <th>1</th>\n",
       "      <td>-1.252282</td>\n",
       "      <td>-0.167554</td>\n",
       "      <td>-0.587284</td>\n",
       "      <td>-1.263232</td>\n",
       "      <td>-1.180545</td>\n",
       "      <td>-1.491481</td>\n",
       "      <td>-1.259987</td>\n",
       "      <td>-1.365209</td>\n",
       "      <td>-1.304489</td>\n",
       "    </tr>\n",
       "    <tr>\n",
       "      <th>2</th>\n",
       "      <td>-0.164360</td>\n",
       "      <td>-0.428531</td>\n",
       "      <td>0.095552</td>\n",
       "      <td>-0.168963</td>\n",
       "      <td>-0.031662</td>\n",
       "      <td>-1.579754</td>\n",
       "      <td>-0.037040</td>\n",
       "      <td>-0.521491</td>\n",
       "      <td>-0.269309</td>\n",
       "    </tr>\n",
       "    <tr>\n",
       "      <th>3</th>\n",
       "      <td>-0.258592</td>\n",
       "      <td>-0.428531</td>\n",
       "      <td>-0.587284</td>\n",
       "      <td>-0.300198</td>\n",
       "      <td>-0.312421</td>\n",
       "      <td>-0.399837</td>\n",
       "      <td>-0.256855</td>\n",
       "      <td>-0.347977</td>\n",
       "      <td>-0.316591</td>\n",
       "    </tr>\n",
       "    <tr>\n",
       "      <th>4</th>\n",
       "      <td>0.536545</td>\n",
       "      <td>-0.428531</td>\n",
       "      <td>0.019113</td>\n",
       "      <td>0.511851</td>\n",
       "      <td>0.511944</td>\n",
       "      <td>0.994015</td>\n",
       "      <td>0.703237</td>\n",
       "      <td>0.731794</td>\n",
       "      <td>0.578551</td>\n",
       "    </tr>\n",
       "  </tbody>\n",
       "</table>\n",
       "</div>"
      ],
      "text/plain": [
       "   Salaries  Overtime  Other_Salaries  Total_Salary  Retirement  \\\n",
       "0  0.983501 -0.228094       -0.474925      0.926924    1.178509   \n",
       "1 -1.252282 -0.167554       -0.587284     -1.263232   -1.180545   \n",
       "2 -0.164360 -0.428531        0.095552     -0.168963   -0.031662   \n",
       "3 -0.258592 -0.428531       -0.587284     -0.300198   -0.312421   \n",
       "4  0.536545 -0.428531        0.019113      0.511851    0.511944   \n",
       "\n",
       "   Health/Dental  Other_Benefits  Total_Benefits  Total_Compensation  \n",
       "0       0.916577        1.145330        1.160937            1.001741  \n",
       "1      -1.491481       -1.259987       -1.365209           -1.304489  \n",
       "2      -1.579754       -0.037040       -0.521491           -0.269309  \n",
       "3      -0.399837       -0.256855       -0.347977           -0.316591  \n",
       "4       0.994015        0.703237        0.731794            0.578551  "
      ]
     },
     "execution_count": 36,
     "metadata": {},
     "output_type": "execute_result"
    }
   ],
   "source": [
    "from sklearn.preprocessing import  StandardScaler\n",
    "\n",
    "sc = StandardScaler()\n",
    "\n",
    "data_sc = sc.fit_transform(data2.iloc[:,:-4])\n",
    "\n",
    "data_sc = pd.DataFrame(data_sc, columns=data2.iloc[:,:-4].columns)\n",
    "data_sc.head()"
   ]
  },
  {
   "cell_type": "code",
   "execution_count": 37,
   "metadata": {},
   "outputs": [
    {
     "data": {
      "application/javascript": "\n        if (window._pyforest_update_imports_cell) { window._pyforest_update_imports_cell('import sklearn\\nfrom sklearn.preprocessing import StandardScaler\\nimport matplotlib.pyplot as plt\\nimport pandas as pd\\nimport seaborn as sns\\nfrom sklearn.impute import SimpleImputer'); }\n    ",
      "text/plain": [
       "<IPython.core.display.Javascript object>"
      ]
     },
     "metadata": {},
     "output_type": "display_data"
    },
    {
     "data": {
      "text/html": [
       "<div>\n",
       "<style scoped>\n",
       "    .dataframe tbody tr th:only-of-type {\n",
       "        vertical-align: middle;\n",
       "    }\n",
       "\n",
       "    .dataframe tbody tr th {\n",
       "        vertical-align: top;\n",
       "    }\n",
       "\n",
       "    .dataframe thead th {\n",
       "        text-align: right;\n",
       "    }\n",
       "</style>\n",
       "<table border=\"1\" class=\"dataframe\">\n",
       "  <thead>\n",
       "    <tr style=\"text-align: right;\">\n",
       "      <th></th>\n",
       "      <th>Salaries</th>\n",
       "      <th>Overtime</th>\n",
       "      <th>Other_Salaries</th>\n",
       "      <th>Total_Salary</th>\n",
       "      <th>Retirement</th>\n",
       "      <th>Health/Dental</th>\n",
       "      <th>Other_Benefits</th>\n",
       "      <th>Total_Benefits</th>\n",
       "      <th>Total_Compensation</th>\n",
       "      <th>Year_2014</th>\n",
       "      <th>Year_2015</th>\n",
       "      <th>Year_2016</th>\n",
       "      <th>Year_Type_Fiscal</th>\n",
       "    </tr>\n",
       "  </thead>\n",
       "  <tbody>\n",
       "    <tr>\n",
       "      <th>0</th>\n",
       "      <td>0.983501</td>\n",
       "      <td>-0.228094</td>\n",
       "      <td>-0.474925</td>\n",
       "      <td>0.926924</td>\n",
       "      <td>1.178509</td>\n",
       "      <td>0.916577</td>\n",
       "      <td>1.145330</td>\n",
       "      <td>1.160937</td>\n",
       "      <td>1.001741</td>\n",
       "      <td>0</td>\n",
       "      <td>1</td>\n",
       "      <td>0</td>\n",
       "      <td>1</td>\n",
       "    </tr>\n",
       "    <tr>\n",
       "      <th>1</th>\n",
       "      <td>-1.252282</td>\n",
       "      <td>-0.167554</td>\n",
       "      <td>-0.587284</td>\n",
       "      <td>-1.263232</td>\n",
       "      <td>-1.180545</td>\n",
       "      <td>-1.491481</td>\n",
       "      <td>-1.259987</td>\n",
       "      <td>-1.365209</td>\n",
       "      <td>-1.304489</td>\n",
       "      <td>0</td>\n",
       "      <td>1</td>\n",
       "      <td>0</td>\n",
       "      <td>0</td>\n",
       "    </tr>\n",
       "    <tr>\n",
       "      <th>2</th>\n",
       "      <td>-0.164360</td>\n",
       "      <td>-0.428531</td>\n",
       "      <td>0.095552</td>\n",
       "      <td>-0.168963</td>\n",
       "      <td>-0.031662</td>\n",
       "      <td>-1.579754</td>\n",
       "      <td>-0.037040</td>\n",
       "      <td>-0.521491</td>\n",
       "      <td>-0.269309</td>\n",
       "      <td>1</td>\n",
       "      <td>0</td>\n",
       "      <td>0</td>\n",
       "      <td>1</td>\n",
       "    </tr>\n",
       "    <tr>\n",
       "      <th>3</th>\n",
       "      <td>-0.258592</td>\n",
       "      <td>-0.428531</td>\n",
       "      <td>-0.587284</td>\n",
       "      <td>-0.300198</td>\n",
       "      <td>-0.312421</td>\n",
       "      <td>-0.399837</td>\n",
       "      <td>-0.256855</td>\n",
       "      <td>-0.347977</td>\n",
       "      <td>-0.316591</td>\n",
       "      <td>0</td>\n",
       "      <td>0</td>\n",
       "      <td>0</td>\n",
       "      <td>1</td>\n",
       "    </tr>\n",
       "    <tr>\n",
       "      <th>4</th>\n",
       "      <td>0.536545</td>\n",
       "      <td>-0.428531</td>\n",
       "      <td>0.019113</td>\n",
       "      <td>0.511851</td>\n",
       "      <td>0.511944</td>\n",
       "      <td>0.994015</td>\n",
       "      <td>0.703237</td>\n",
       "      <td>0.731794</td>\n",
       "      <td>0.578551</td>\n",
       "      <td>0</td>\n",
       "      <td>0</td>\n",
       "      <td>0</td>\n",
       "      <td>0</td>\n",
       "    </tr>\n",
       "  </tbody>\n",
       "</table>\n",
       "</div>"
      ],
      "text/plain": [
       "   Salaries  Overtime  Other_Salaries  Total_Salary  Retirement  \\\n",
       "0  0.983501 -0.228094       -0.474925      0.926924    1.178509   \n",
       "1 -1.252282 -0.167554       -0.587284     -1.263232   -1.180545   \n",
       "2 -0.164360 -0.428531        0.095552     -0.168963   -0.031662   \n",
       "3 -0.258592 -0.428531       -0.587284     -0.300198   -0.312421   \n",
       "4  0.536545 -0.428531        0.019113      0.511851    0.511944   \n",
       "\n",
       "   Health/Dental  Other_Benefits  Total_Benefits  Total_Compensation  \\\n",
       "0       0.916577        1.145330        1.160937            1.001741   \n",
       "1      -1.491481       -1.259987       -1.365209           -1.304489   \n",
       "2      -1.579754       -0.037040       -0.521491           -0.269309   \n",
       "3      -0.399837       -0.256855       -0.347977           -0.316591   \n",
       "4       0.994015        0.703237        0.731794            0.578551   \n",
       "\n",
       "   Year_2014  Year_2015  Year_2016  Year_Type_Fiscal  \n",
       "0          0          1          0                 1  \n",
       "1          0          1          0                 0  \n",
       "2          1          0          0                 1  \n",
       "3          0          0          0                 1  \n",
       "4          0          0          0                 0  "
      ]
     },
     "execution_count": 37,
     "metadata": {},
     "output_type": "execute_result"
    }
   ],
   "source": [
    "data_final = pd.concat([data_sc, data2.iloc[:, -4:]], axis=1)\n",
    "data_final.head()"
   ]
  },
  {
   "cell_type": "code",
   "execution_count": 39,
   "metadata": {},
   "outputs": [],
   "source": [
    "X, Y = data_final.drop(columns=['Total_Compensation']), data2.Total_Compensation\n",
    "# here we have considered the Y from data2 since data_sc contains scaled version of compensation to over come it we are using data2."
   ]
  },
  {
   "cell_type": "code",
   "execution_count": 40,
   "metadata": {},
   "outputs": [
    {
     "data": {
      "text/html": [
       "<table class=\"simpletable\">\n",
       "<caption>OLS Regression Results</caption>\n",
       "<tr>\n",
       "  <th>Dep. Variable:</th>    <td>Total_Compensation</td> <th>  R-squared:         </th>  <td>   1.000</td> \n",
       "</tr>\n",
       "<tr>\n",
       "  <th>Model:</th>                    <td>OLS</td>        <th>  Adj. R-squared:    </th>  <td>   1.000</td> \n",
       "</tr>\n",
       "<tr>\n",
       "  <th>Method:</th>              <td>Least Squares</td>   <th>  F-statistic:       </th>  <td>1.453e+33</td>\n",
       "</tr>\n",
       "<tr>\n",
       "  <th>Date:</th>              <td>Sun, 21 Jul 2024</td>  <th>  Prob (F-statistic):</th>   <td>  0.00</td>  \n",
       "</tr>\n",
       "<tr>\n",
       "  <th>Time:</th>                  <td>16:13:15</td>      <th>  Log-Likelihood:    </th> <td>8.1832e+05</td>\n",
       "</tr>\n",
       "<tr>\n",
       "  <th>No. Observations:</th>       <td> 37721</td>       <th>  AIC:               </th> <td>-1.637e+06</td>\n",
       "</tr>\n",
       "<tr>\n",
       "  <th>Df Residuals:</th>           <td> 37710</td>       <th>  BIC:               </th> <td>-1.637e+06</td>\n",
       "</tr>\n",
       "<tr>\n",
       "  <th>Df Model:</th>               <td>    10</td>       <th>                     </th>      <td> </td>    \n",
       "</tr>\n",
       "<tr>\n",
       "  <th>Covariance Type:</th>       <td>nonrobust</td>     <th>                     </th>      <td> </td>    \n",
       "</tr>\n",
       "</table>\n",
       "<table class=\"simpletable\">\n",
       "<tr>\n",
       "          <td></td>            <th>coef</th>     <th>std err</th>      <th>t</th>      <th>P>|t|</th>  <th>[0.025</th>    <th>0.975]</th>  \n",
       "</tr>\n",
       "<tr>\n",
       "  <th>const</th>            <td> 7.663e+04</td> <td> 1.05e-12</td> <td> 7.33e+16</td> <td> 0.000</td> <td> 7.66e+04</td> <td> 7.66e+04</td>\n",
       "</tr>\n",
       "<tr>\n",
       "  <th>Salaries</th>         <td> 2.073e+04</td> <td> 9.22e-13</td> <td> 2.25e+16</td> <td> 0.000</td> <td> 2.07e+04</td> <td> 2.07e+04</td>\n",
       "</tr>\n",
       "<tr>\n",
       "  <th>Overtime</th>         <td>  680.7894</td> <td> 5.09e-13</td> <td> 1.34e+15</td> <td> 0.000</td> <td>  680.789</td> <td>  680.789</td>\n",
       "</tr>\n",
       "<tr>\n",
       "  <th>Other_Salaries</th>   <td> 1214.4609</td> <td> 5.19e-13</td> <td> 2.34e+15</td> <td> 0.000</td> <td> 1214.461</td> <td> 1214.461</td>\n",
       "</tr>\n",
       "<tr>\n",
       "  <th>Total_Salary</th>     <td> 2.035e+04</td> <td> 8.97e-13</td> <td> 2.27e+16</td> <td> 0.000</td> <td> 2.04e+04</td> <td> 2.04e+04</td>\n",
       "</tr>\n",
       "<tr>\n",
       "  <th>Retirement</th>       <td> 6091.1128</td> <td> 1.39e-12</td> <td> 4.37e+15</td> <td> 0.000</td> <td> 6091.113</td> <td> 6091.113</td>\n",
       "</tr>\n",
       "<tr>\n",
       "  <th>Health/Dental</th>    <td> 3476.0609</td> <td>  8.9e-13</td> <td> 3.91e+15</td> <td> 0.000</td> <td> 3476.061</td> <td> 3476.061</td>\n",
       "</tr>\n",
       "<tr>\n",
       "  <th>Other_Benefits</th>   <td> 2154.1132</td> <td> 1.01e-12</td> <td> 2.12e+15</td> <td> 0.000</td> <td> 2154.113</td> <td> 2154.113</td>\n",
       "</tr>\n",
       "<tr>\n",
       "  <th>Total_Benefits</th>   <td> 4869.7666</td> <td> 6.38e-13</td> <td> 7.63e+15</td> <td> 0.000</td> <td> 4869.767</td> <td> 4869.767</td>\n",
       "</tr>\n",
       "<tr>\n",
       "  <th>Year_2014</th>        <td>-2.572e-11</td> <td> 1.29e-12</td> <td>  -19.942</td> <td> 0.000</td> <td>-2.82e-11</td> <td>-2.32e-11</td>\n",
       "</tr>\n",
       "<tr>\n",
       "  <th>Year_2015</th>        <td>-3.354e-11</td> <td> 1.29e-12</td> <td>  -26.061</td> <td> 0.000</td> <td>-3.61e-11</td> <td> -3.1e-11</td>\n",
       "</tr>\n",
       "<tr>\n",
       "  <th>Year_2016</th>        <td>-2.547e-11</td> <td>  1.6e-12</td> <td>  -15.911</td> <td> 0.000</td> <td>-2.86e-11</td> <td>-2.23e-11</td>\n",
       "</tr>\n",
       "<tr>\n",
       "  <th>Year_Type_Fiscal</th> <td> 9.692e-12</td> <td> 1.02e-12</td> <td>    9.462</td> <td> 0.000</td> <td> 7.68e-12</td> <td> 1.17e-11</td>\n",
       "</tr>\n",
       "</table>\n",
       "<table class=\"simpletable\">\n",
       "<tr>\n",
       "  <th>Omnibus:</th>       <td>31256.935</td> <th>  Durbin-Watson:     </th> <td>   1.740</td>\n",
       "</tr>\n",
       "<tr>\n",
       "  <th>Prob(Omnibus):</th>  <td> 0.000</td>   <th>  Jarque-Bera (JB):  </th> <td>2236.885</td>\n",
       "</tr>\n",
       "<tr>\n",
       "  <th>Skew:</th>           <td>-0.002</td>   <th>  Prob(JB):          </th> <td>    0.00</td>\n",
       "</tr>\n",
       "<tr>\n",
       "  <th>Kurtosis:</th>       <td> 1.807</td>   <th>  Cond. No.          </th> <td>2.08e+16</td>\n",
       "</tr>\n",
       "</table><br/><br/>Notes:<br/>[1] Standard Errors assume that the covariance matrix of the errors is correctly specified.<br/>[2] The smallest eigenvalue is 4.91e-28. This might indicate that there are<br/>strong multicollinearity problems or that the design matrix is singular."
      ],
      "text/latex": [
       "\\begin{center}\n",
       "\\begin{tabular}{lclc}\n",
       "\\toprule\n",
       "\\textbf{Dep. Variable:}     & Total\\_Compensation & \\textbf{  R-squared:         } &     1.000   \\\\\n",
       "\\textbf{Model:}             &         OLS         & \\textbf{  Adj. R-squared:    } &     1.000   \\\\\n",
       "\\textbf{Method:}            &    Least Squares    & \\textbf{  F-statistic:       } & 1.453e+33   \\\\\n",
       "\\textbf{Date:}              &   Sun, 21 Jul 2024  & \\textbf{  Prob (F-statistic):} &     0.00    \\\\\n",
       "\\textbf{Time:}              &       16:13:15      & \\textbf{  Log-Likelihood:    } & 8.1832e+05  \\\\\n",
       "\\textbf{No. Observations:}  &         37721       & \\textbf{  AIC:               } & -1.637e+06  \\\\\n",
       "\\textbf{Df Residuals:}      &         37710       & \\textbf{  BIC:               } & -1.637e+06  \\\\\n",
       "\\textbf{Df Model:}          &            10       & \\textbf{                     } &             \\\\\n",
       "\\textbf{Covariance Type:}   &      nonrobust      & \\textbf{                     } &             \\\\\n",
       "\\bottomrule\n",
       "\\end{tabular}\n",
       "\\begin{tabular}{lcccccc}\n",
       "                            & \\textbf{coef} & \\textbf{std err} & \\textbf{t} & \\textbf{P$> |$t$|$} & \\textbf{[0.025} & \\textbf{0.975]}  \\\\\n",
       "\\midrule\n",
       "\\textbf{const}              &    7.663e+04  &     1.05e-12     &  7.33e+16  &         0.000        &     7.66e+04    &     7.66e+04     \\\\\n",
       "\\textbf{Salaries}           &    2.073e+04  &     9.22e-13     &  2.25e+16  &         0.000        &     2.07e+04    &     2.07e+04     \\\\\n",
       "\\textbf{Overtime}           &     680.7894  &     5.09e-13     &  1.34e+15  &         0.000        &      680.789    &      680.789     \\\\\n",
       "\\textbf{Other\\_Salaries}    &    1214.4609  &     5.19e-13     &  2.34e+15  &         0.000        &     1214.461    &     1214.461     \\\\\n",
       "\\textbf{Total\\_Salary}      &    2.035e+04  &     8.97e-13     &  2.27e+16  &         0.000        &     2.04e+04    &     2.04e+04     \\\\\n",
       "\\textbf{Retirement}         &    6091.1128  &     1.39e-12     &  4.37e+15  &         0.000        &     6091.113    &     6091.113     \\\\\n",
       "\\textbf{Health/Dental}      &    3476.0609  &      8.9e-13     &  3.91e+15  &         0.000        &     3476.061    &     3476.061     \\\\\n",
       "\\textbf{Other\\_Benefits}    &    2154.1132  &     1.01e-12     &  2.12e+15  &         0.000        &     2154.113    &     2154.113     \\\\\n",
       "\\textbf{Total\\_Benefits}    &    4869.7666  &     6.38e-13     &  7.63e+15  &         0.000        &     4869.767    &     4869.767     \\\\\n",
       "\\textbf{Year\\_2014}         &   -2.572e-11  &     1.29e-12     &   -19.942  &         0.000        &    -2.82e-11    &    -2.32e-11     \\\\\n",
       "\\textbf{Year\\_2015}         &   -3.354e-11  &     1.29e-12     &   -26.061  &         0.000        &    -3.61e-11    &     -3.1e-11     \\\\\n",
       "\\textbf{Year\\_2016}         &   -2.547e-11  &      1.6e-12     &   -15.911  &         0.000        &    -2.86e-11    &    -2.23e-11     \\\\\n",
       "\\textbf{Year\\_Type\\_Fiscal} &    9.692e-12  &     1.02e-12     &     9.462  &         0.000        &     7.68e-12    &     1.17e-11     \\\\\n",
       "\\bottomrule\n",
       "\\end{tabular}\n",
       "\\begin{tabular}{lclc}\n",
       "\\textbf{Omnibus:}       & 31256.935 & \\textbf{  Durbin-Watson:     } &    1.740  \\\\\n",
       "\\textbf{Prob(Omnibus):} &    0.000  & \\textbf{  Jarque-Bera (JB):  } & 2236.885  \\\\\n",
       "\\textbf{Skew:}          &   -0.002  & \\textbf{  Prob(JB):          } &     0.00  \\\\\n",
       "\\textbf{Kurtosis:}      &    1.807  & \\textbf{  Cond. No.          } & 2.08e+16  \\\\\n",
       "\\bottomrule\n",
       "\\end{tabular}\n",
       "%\\caption{OLS Regression Results}\n",
       "\\end{center}\n",
       "\n",
       "Notes: \\newline\n",
       " [1] Standard Errors assume that the covariance matrix of the errors is correctly specified. \\newline\n",
       " [2] The smallest eigenvalue is 4.91e-28. This might indicate that there are \\newline\n",
       " strong multicollinearity problems or that the design matrix is singular."
      ],
      "text/plain": [
       "<class 'statsmodels.iolib.summary.Summary'>\n",
       "\"\"\"\n",
       "                            OLS Regression Results                            \n",
       "==============================================================================\n",
       "Dep. Variable:     Total_Compensation   R-squared:                       1.000\n",
       "Model:                            OLS   Adj. R-squared:                  1.000\n",
       "Method:                 Least Squares   F-statistic:                 1.453e+33\n",
       "Date:                Sun, 21 Jul 2024   Prob (F-statistic):               0.00\n",
       "Time:                        16:13:15   Log-Likelihood:             8.1832e+05\n",
       "No. Observations:               37721   AIC:                        -1.637e+06\n",
       "Df Residuals:                   37710   BIC:                        -1.637e+06\n",
       "Df Model:                          10                                         \n",
       "Covariance Type:            nonrobust                                         \n",
       "====================================================================================\n",
       "                       coef    std err          t      P>|t|      [0.025      0.975]\n",
       "------------------------------------------------------------------------------------\n",
       "const             7.663e+04   1.05e-12   7.33e+16      0.000    7.66e+04    7.66e+04\n",
       "Salaries          2.073e+04   9.22e-13   2.25e+16      0.000    2.07e+04    2.07e+04\n",
       "Overtime           680.7894   5.09e-13   1.34e+15      0.000     680.789     680.789\n",
       "Other_Salaries    1214.4609   5.19e-13   2.34e+15      0.000    1214.461    1214.461\n",
       "Total_Salary      2.035e+04   8.97e-13   2.27e+16      0.000    2.04e+04    2.04e+04\n",
       "Retirement        6091.1128   1.39e-12   4.37e+15      0.000    6091.113    6091.113\n",
       "Health/Dental     3476.0609    8.9e-13   3.91e+15      0.000    3476.061    3476.061\n",
       "Other_Benefits    2154.1132   1.01e-12   2.12e+15      0.000    2154.113    2154.113\n",
       "Total_Benefits    4869.7666   6.38e-13   7.63e+15      0.000    4869.767    4869.767\n",
       "Year_2014        -2.572e-11   1.29e-12    -19.942      0.000   -2.82e-11   -2.32e-11\n",
       "Year_2015        -3.354e-11   1.29e-12    -26.061      0.000   -3.61e-11    -3.1e-11\n",
       "Year_2016        -2.547e-11    1.6e-12    -15.911      0.000   -2.86e-11   -2.23e-11\n",
       "Year_Type_Fiscal  9.692e-12   1.02e-12      9.462      0.000    7.68e-12    1.17e-11\n",
       "==============================================================================\n",
       "Omnibus:                    31256.935   Durbin-Watson:                   1.740\n",
       "Prob(Omnibus):                  0.000   Jarque-Bera (JB):             2236.885\n",
       "Skew:                          -0.002   Prob(JB):                         0.00\n",
       "Kurtosis:                       1.807   Cond. No.                     2.08e+16\n",
       "==============================================================================\n",
       "\n",
       "Notes:\n",
       "[1] Standard Errors assume that the covariance matrix of the errors is correctly specified.\n",
       "[2] The smallest eigenvalue is 4.91e-28. This might indicate that there are\n",
       "strong multicollinearity problems or that the design matrix is singular.\n",
       "\"\"\""
      ]
     },
     "execution_count": 40,
     "metadata": {},
     "output_type": "execute_result"
    }
   ],
   "source": [
    "import statsmodels.api as sm\n",
    "\n",
    "Xc = sm.add_constant(X)\n",
    "ols = sm.OLS(Y, Xc)\n",
    "ols_mod = ols.fit()\n",
    "\n",
    "ols_mod.summary()"
   ]
  },
  {
   "cell_type": "markdown",
   "metadata": {},
   "source": [
    "#### Notes\n",
    "* Durbin Watson tells about autocorrelation\n",
    "* Cond No: this should be less than 1000, else its multi collinearity.\n",
    "* and the input is 100% explained since we have got `R-squared, Prob (F-statistic)`\n",
    "\n",
    "Reciduals are not normally distributed - Null Hypothesis can be rejected.\n",
    "\n",
    "**This concludes that its not worthy to bhelieve on this model**"
   ]
  },
  {
   "cell_type": "code",
   "execution_count": 41,
   "metadata": {},
   "outputs": [
    {
     "data": {
      "text/plain": [
       "(50000, 13)"
      ]
     },
     "execution_count": 41,
     "metadata": {},
     "output_type": "execute_result"
    }
   ],
   "source": [
    "compensations.shape"
   ]
  },
  {
   "cell_type": "code",
   "execution_count": 42,
   "metadata": {},
   "outputs": [],
   "source": [
    "from statsmodels.stats.outliers_influence import  variance_inflation_factor"
   ]
  },
  {
   "cell_type": "code",
   "execution_count": 43,
   "metadata": {},
   "outputs": [
    {
     "data": {
      "application/javascript": "\n        if (window._pyforest_update_imports_cell) { window._pyforest_update_imports_cell('import sklearn\\nimport statsmodels.api as sm\\nfrom sklearn.preprocessing import StandardScaler\\nimport matplotlib.pyplot as plt\\nimport pandas as pd\\nimport seaborn as sns\\nfrom sklearn.preprocessing import PolynomialFeatures\\nimport statistics\\nfrom sklearn.impute import SimpleImputer\\nimport datetime as dt'); }\n    ",
      "text/plain": [
       "<IPython.core.display.Javascript object>"
      ]
     },
     "metadata": {},
     "output_type": "display_data"
    },
    {
     "name": "stderr",
     "output_type": "stream",
     "text": [
      "c:\\Users\\lokesh\\anaconda3\\Lib\\site-packages\\statsmodels\\stats\\outliers_influence.py:197: RuntimeWarning: divide by zero encountered in scalar divide\n",
      "  vif = 1. / (1. - r_squared_i)\n"
     ]
    },
    {
     "data": {
      "text/html": [
       "<div>\n",
       "<style scoped>\n",
       "    .dataframe tbody tr th:only-of-type {\n",
       "        vertical-align: middle;\n",
       "    }\n",
       "\n",
       "    .dataframe tbody tr th {\n",
       "        vertical-align: top;\n",
       "    }\n",
       "\n",
       "    .dataframe thead th {\n",
       "        text-align: right;\n",
       "    }\n",
       "</style>\n",
       "<table border=\"1\" class=\"dataframe\">\n",
       "  <thead>\n",
       "    <tr style=\"text-align: right;\">\n",
       "      <th></th>\n",
       "      <th>VIF</th>\n",
       "      <th>Feature</th>\n",
       "    </tr>\n",
       "  </thead>\n",
       "  <tbody>\n",
       "    <tr>\n",
       "      <th>0</th>\n",
       "      <td>inf</td>\n",
       "      <td>Salaries</td>\n",
       "    </tr>\n",
       "    <tr>\n",
       "      <th>1</th>\n",
       "      <td>inf</td>\n",
       "      <td>Overtime</td>\n",
       "    </tr>\n",
       "    <tr>\n",
       "      <th>2</th>\n",
       "      <td>inf</td>\n",
       "      <td>Other_Salaries</td>\n",
       "    </tr>\n",
       "    <tr>\n",
       "      <th>3</th>\n",
       "      <td>inf</td>\n",
       "      <td>Total_Salary</td>\n",
       "    </tr>\n",
       "    <tr>\n",
       "      <th>4</th>\n",
       "      <td>inf</td>\n",
       "      <td>Retirement</td>\n",
       "    </tr>\n",
       "    <tr>\n",
       "      <th>5</th>\n",
       "      <td>inf</td>\n",
       "      <td>Health/Dental</td>\n",
       "    </tr>\n",
       "    <tr>\n",
       "      <th>6</th>\n",
       "      <td>inf</td>\n",
       "      <td>Other_Benefits</td>\n",
       "    </tr>\n",
       "    <tr>\n",
       "      <th>7</th>\n",
       "      <td>inf</td>\n",
       "      <td>Total_Benefits</td>\n",
       "    </tr>\n",
       "    <tr>\n",
       "      <th>11</th>\n",
       "      <td>2.065337</td>\n",
       "      <td>Year_Type_Fiscal</td>\n",
       "    </tr>\n",
       "    <tr>\n",
       "      <th>10</th>\n",
       "      <td>1.545000</td>\n",
       "      <td>Year_2016</td>\n",
       "    </tr>\n",
       "    <tr>\n",
       "      <th>9</th>\n",
       "      <td>1.300030</td>\n",
       "      <td>Year_2015</td>\n",
       "    </tr>\n",
       "    <tr>\n",
       "      <th>8</th>\n",
       "      <td>1.283136</td>\n",
       "      <td>Year_2014</td>\n",
       "    </tr>\n",
       "  </tbody>\n",
       "</table>\n",
       "</div>"
      ],
      "text/plain": [
       "         VIF           Feature\n",
       "0        inf          Salaries\n",
       "1        inf          Overtime\n",
       "2        inf    Other_Salaries\n",
       "3        inf      Total_Salary\n",
       "4        inf        Retirement\n",
       "5        inf     Health/Dental\n",
       "6        inf    Other_Benefits\n",
       "7        inf    Total_Benefits\n",
       "11  2.065337  Year_Type_Fiscal\n",
       "10  1.545000         Year_2016\n",
       "9   1.300030         Year_2015\n",
       "8   1.283136         Year_2014"
      ]
     },
     "execution_count": 43,
     "metadata": {},
     "output_type": "execute_result"
    }
   ],
   "source": [
    "vif = pd.DataFrame()\n",
    "vif['VIF'] = [variance_inflation_factor(X.values, i) for i in range(X.shape[1])]\n",
    "vif['Feature'] = X.columns\n",
    "vif.sort_values('VIF', ascending=False)"
   ]
  },
  {
   "cell_type": "code",
   "execution_count": 44,
   "metadata": {},
   "outputs": [
    {
     "data": {
      "application/javascript": "\n        if (window._pyforest_update_imports_cell) { window._pyforest_update_imports_cell('import sklearn\\nimport statsmodels.api as sm\\nfrom sklearn.preprocessing import StandardScaler\\nimport matplotlib.pyplot as plt\\nimport pandas as pd\\nimport seaborn as sns\\nfrom sklearn.preprocessing import PolynomialFeatures\\nimport statistics\\nfrom sklearn.impute import SimpleImputer\\nimport datetime as dt'); }\n    ",
      "text/plain": [
       "<IPython.core.display.Javascript object>"
      ]
     },
     "metadata": {},
     "output_type": "display_data"
    },
    {
     "name": "stderr",
     "output_type": "stream",
     "text": [
      "c:\\Users\\lokesh\\anaconda3\\Lib\\site-packages\\statsmodels\\stats\\outliers_influence.py:197: RuntimeWarning: divide by zero encountered in scalar divide\n",
      "  vif = 1. / (1. - r_squared_i)\n"
     ]
    },
    {
     "data": {
      "text/html": [
       "<div>\n",
       "<style scoped>\n",
       "    .dataframe tbody tr th:only-of-type {\n",
       "        vertical-align: middle;\n",
       "    }\n",
       "\n",
       "    .dataframe tbody tr th {\n",
       "        vertical-align: top;\n",
       "    }\n",
       "\n",
       "    .dataframe thead th {\n",
       "        text-align: right;\n",
       "    }\n",
       "</style>\n",
       "<table border=\"1\" class=\"dataframe\">\n",
       "  <thead>\n",
       "    <tr style=\"text-align: right;\">\n",
       "      <th></th>\n",
       "      <th>VIF</th>\n",
       "      <th>Feature</th>\n",
       "    </tr>\n",
       "  </thead>\n",
       "  <tbody>\n",
       "    <tr>\n",
       "      <th>3</th>\n",
       "      <td>inf</td>\n",
       "      <td>Retirement</td>\n",
       "    </tr>\n",
       "    <tr>\n",
       "      <th>4</th>\n",
       "      <td>inf</td>\n",
       "      <td>Health/Dental</td>\n",
       "    </tr>\n",
       "    <tr>\n",
       "      <th>5</th>\n",
       "      <td>inf</td>\n",
       "      <td>Other_Benefits</td>\n",
       "    </tr>\n",
       "    <tr>\n",
       "      <th>6</th>\n",
       "      <td>inf</td>\n",
       "      <td>Total_Benefits</td>\n",
       "    </tr>\n",
       "    <tr>\n",
       "      <th>2</th>\n",
       "      <td>15.008804</td>\n",
       "      <td>Total_Salary</td>\n",
       "    </tr>\n",
       "    <tr>\n",
       "      <th>10</th>\n",
       "      <td>2.065337</td>\n",
       "      <td>Year_Type_Fiscal</td>\n",
       "    </tr>\n",
       "    <tr>\n",
       "      <th>9</th>\n",
       "      <td>1.545000</td>\n",
       "      <td>Year_2016</td>\n",
       "    </tr>\n",
       "    <tr>\n",
       "      <th>8</th>\n",
       "      <td>1.300030</td>\n",
       "      <td>Year_2015</td>\n",
       "    </tr>\n",
       "    <tr>\n",
       "      <th>7</th>\n",
       "      <td>1.283136</td>\n",
       "      <td>Year_2014</td>\n",
       "    </tr>\n",
       "    <tr>\n",
       "      <th>1</th>\n",
       "      <td>1.271564</td>\n",
       "      <td>Other_Salaries</td>\n",
       "    </tr>\n",
       "    <tr>\n",
       "      <th>0</th>\n",
       "      <td>1.159517</td>\n",
       "      <td>Overtime</td>\n",
       "    </tr>\n",
       "  </tbody>\n",
       "</table>\n",
       "</div>"
      ],
      "text/plain": [
       "          VIF           Feature\n",
       "3         inf        Retirement\n",
       "4         inf     Health/Dental\n",
       "5         inf    Other_Benefits\n",
       "6         inf    Total_Benefits\n",
       "2   15.008804      Total_Salary\n",
       "10   2.065337  Year_Type_Fiscal\n",
       "9    1.545000         Year_2016\n",
       "8    1.300030         Year_2015\n",
       "7    1.283136         Year_2014\n",
       "1    1.271564    Other_Salaries\n",
       "0    1.159517          Overtime"
      ]
     },
     "execution_count": 44,
     "metadata": {},
     "output_type": "execute_result"
    }
   ],
   "source": [
    "X1 = X.drop('Salaries', axis=1)\n",
    "\n",
    "vif = pd.DataFrame()\n",
    "vif['VIF'] = [variance_inflation_factor(X1.values, i) for i in range(X1.shape[1])]\n",
    "vif['Feature'] = X1.columns\n",
    "vif.sort_values('VIF', ascending=False)"
   ]
  },
  {
   "cell_type": "code",
   "execution_count": 45,
   "metadata": {},
   "outputs": [
    {
     "data": {
      "application/javascript": "\n        if (window._pyforest_update_imports_cell) { window._pyforest_update_imports_cell('import sklearn\\nimport statsmodels.api as sm\\nfrom sklearn.preprocessing import StandardScaler\\nimport matplotlib.pyplot as plt\\nimport pandas as pd\\nimport seaborn as sns\\nfrom sklearn.preprocessing import PolynomialFeatures\\nimport statistics\\nfrom sklearn.impute import SimpleImputer\\nimport datetime as dt'); }\n    ",
      "text/plain": [
       "<IPython.core.display.Javascript object>"
      ]
     },
     "metadata": {},
     "output_type": "display_data"
    },
    {
     "data": {
      "text/html": [
       "<div>\n",
       "<style scoped>\n",
       "    .dataframe tbody tr th:only-of-type {\n",
       "        vertical-align: middle;\n",
       "    }\n",
       "\n",
       "    .dataframe tbody tr th {\n",
       "        vertical-align: top;\n",
       "    }\n",
       "\n",
       "    .dataframe thead th {\n",
       "        text-align: right;\n",
       "    }\n",
       "</style>\n",
       "<table border=\"1\" class=\"dataframe\">\n",
       "  <thead>\n",
       "    <tr style=\"text-align: right;\">\n",
       "      <th></th>\n",
       "      <th>VIF</th>\n",
       "      <th>Feature</th>\n",
       "    </tr>\n",
       "  </thead>\n",
       "  <tbody>\n",
       "    <tr>\n",
       "      <th>5</th>\n",
       "      <td>43.035389</td>\n",
       "      <td>Total_Benefits</td>\n",
       "    </tr>\n",
       "    <tr>\n",
       "      <th>2</th>\n",
       "      <td>15.008804</td>\n",
       "      <td>Total_Salary</td>\n",
       "    </tr>\n",
       "    <tr>\n",
       "      <th>3</th>\n",
       "      <td>9.417625</td>\n",
       "      <td>Health/Dental</td>\n",
       "    </tr>\n",
       "    <tr>\n",
       "      <th>4</th>\n",
       "      <td>6.641277</td>\n",
       "      <td>Other_Benefits</td>\n",
       "    </tr>\n",
       "    <tr>\n",
       "      <th>9</th>\n",
       "      <td>2.065337</td>\n",
       "      <td>Year_Type_Fiscal</td>\n",
       "    </tr>\n",
       "    <tr>\n",
       "      <th>8</th>\n",
       "      <td>1.545000</td>\n",
       "      <td>Year_2016</td>\n",
       "    </tr>\n",
       "    <tr>\n",
       "      <th>7</th>\n",
       "      <td>1.300030</td>\n",
       "      <td>Year_2015</td>\n",
       "    </tr>\n",
       "    <tr>\n",
       "      <th>6</th>\n",
       "      <td>1.283136</td>\n",
       "      <td>Year_2014</td>\n",
       "    </tr>\n",
       "    <tr>\n",
       "      <th>1</th>\n",
       "      <td>1.271564</td>\n",
       "      <td>Other_Salaries</td>\n",
       "    </tr>\n",
       "    <tr>\n",
       "      <th>0</th>\n",
       "      <td>1.159517</td>\n",
       "      <td>Overtime</td>\n",
       "    </tr>\n",
       "  </tbody>\n",
       "</table>\n",
       "</div>"
      ],
      "text/plain": [
       "         VIF           Feature\n",
       "5  43.035389    Total_Benefits\n",
       "2  15.008804      Total_Salary\n",
       "3   9.417625     Health/Dental\n",
       "4   6.641277    Other_Benefits\n",
       "9   2.065337  Year_Type_Fiscal\n",
       "8   1.545000         Year_2016\n",
       "7   1.300030         Year_2015\n",
       "6   1.283136         Year_2014\n",
       "1   1.271564    Other_Salaries\n",
       "0   1.159517          Overtime"
      ]
     },
     "execution_count": 45,
     "metadata": {},
     "output_type": "execute_result"
    }
   ],
   "source": [
    "X1 = X1.drop('Retirement', axis=1)\n",
    "\n",
    "vif = pd.DataFrame()\n",
    "vif['VIF'] = [variance_inflation_factor(X1.values, i) for i in range(X1.shape[1])]\n",
    "vif['Feature'] = X1.columns\n",
    "vif.sort_values('VIF', ascending=False)"
   ]
  },
  {
   "cell_type": "code",
   "execution_count": 46,
   "metadata": {},
   "outputs": [
    {
     "data": {
      "application/javascript": "\n        if (window._pyforest_update_imports_cell) { window._pyforest_update_imports_cell('import sklearn\\nimport statsmodels.api as sm\\nfrom sklearn.preprocessing import StandardScaler\\nimport matplotlib.pyplot as plt\\nimport pandas as pd\\nimport seaborn as sns\\nfrom sklearn.preprocessing import PolynomialFeatures\\nimport statistics\\nfrom sklearn.impute import SimpleImputer\\nimport datetime as dt'); }\n    ",
      "text/plain": [
       "<IPython.core.display.Javascript object>"
      ]
     },
     "metadata": {},
     "output_type": "display_data"
    },
    {
     "data": {
      "text/html": [
       "<div>\n",
       "<style scoped>\n",
       "    .dataframe tbody tr th:only-of-type {\n",
       "        vertical-align: middle;\n",
       "    }\n",
       "\n",
       "    .dataframe tbody tr th {\n",
       "        vertical-align: top;\n",
       "    }\n",
       "\n",
       "    .dataframe thead th {\n",
       "        text-align: right;\n",
       "    }\n",
       "</style>\n",
       "<table border=\"1\" class=\"dataframe\">\n",
       "  <thead>\n",
       "    <tr style=\"text-align: right;\">\n",
       "      <th></th>\n",
       "      <th>VIF</th>\n",
       "      <th>Feature</th>\n",
       "    </tr>\n",
       "  </thead>\n",
       "  <tbody>\n",
       "    <tr>\n",
       "      <th>2</th>\n",
       "      <td>5.851542</td>\n",
       "      <td>Total_Salary</td>\n",
       "    </tr>\n",
       "    <tr>\n",
       "      <th>4</th>\n",
       "      <td>4.636811</td>\n",
       "      <td>Other_Benefits</td>\n",
       "    </tr>\n",
       "    <tr>\n",
       "      <th>3</th>\n",
       "      <td>3.185484</td>\n",
       "      <td>Health/Dental</td>\n",
       "    </tr>\n",
       "    <tr>\n",
       "      <th>8</th>\n",
       "      <td>2.050162</td>\n",
       "      <td>Year_Type_Fiscal</td>\n",
       "    </tr>\n",
       "    <tr>\n",
       "      <th>7</th>\n",
       "      <td>1.535738</td>\n",
       "      <td>Year_2016</td>\n",
       "    </tr>\n",
       "    <tr>\n",
       "      <th>6</th>\n",
       "      <td>1.266620</td>\n",
       "      <td>Year_2015</td>\n",
       "    </tr>\n",
       "    <tr>\n",
       "      <th>1</th>\n",
       "      <td>1.257714</td>\n",
       "      <td>Other_Salaries</td>\n",
       "    </tr>\n",
       "    <tr>\n",
       "      <th>5</th>\n",
       "      <td>1.252008</td>\n",
       "      <td>Year_2014</td>\n",
       "    </tr>\n",
       "    <tr>\n",
       "      <th>0</th>\n",
       "      <td>1.159510</td>\n",
       "      <td>Overtime</td>\n",
       "    </tr>\n",
       "  </tbody>\n",
       "</table>\n",
       "</div>"
      ],
      "text/plain": [
       "        VIF           Feature\n",
       "2  5.851542      Total_Salary\n",
       "4  4.636811    Other_Benefits\n",
       "3  3.185484     Health/Dental\n",
       "8  2.050162  Year_Type_Fiscal\n",
       "7  1.535738         Year_2016\n",
       "6  1.266620         Year_2015\n",
       "1  1.257714    Other_Salaries\n",
       "5  1.252008         Year_2014\n",
       "0  1.159510          Overtime"
      ]
     },
     "execution_count": 46,
     "metadata": {},
     "output_type": "execute_result"
    }
   ],
   "source": [
    "X1 = X1.drop('Total_Benefits', axis=1)\n",
    "\n",
    "vif = pd.DataFrame()\n",
    "vif['VIF'] = [variance_inflation_factor(X1.values, i) for i in range(X1.shape[1])]\n",
    "vif['Feature'] = X1.columns\n",
    "vif.sort_values('VIF', ascending=False)"
   ]
  },
  {
   "cell_type": "code",
   "execution_count": 47,
   "metadata": {},
   "outputs": [
    {
     "data": {
      "text/html": [
       "<table class=\"simpletable\">\n",
       "<caption>OLS Regression Results</caption>\n",
       "<tr>\n",
       "  <th>Dep. Variable:</th>    <td>Total_Compensation</td> <th>  R-squared:         </th>  <td>   0.998</td>  \n",
       "</tr>\n",
       "<tr>\n",
       "  <th>Model:</th>                    <td>OLS</td>        <th>  Adj. R-squared:    </th>  <td>   0.998</td>  \n",
       "</tr>\n",
       "<tr>\n",
       "  <th>Method:</th>              <td>Least Squares</td>   <th>  F-statistic:       </th>  <td>2.342e+06</td> \n",
       "</tr>\n",
       "<tr>\n",
       "  <th>Date:</th>              <td>Sun, 21 Jul 2024</td>  <th>  Prob (F-statistic):</th>   <td>  0.00</td>   \n",
       "</tr>\n",
       "<tr>\n",
       "  <th>Time:</th>                  <td>17:11:55</td>      <th>  Log-Likelihood:    </th> <td>-3.4719e+05</td>\n",
       "</tr>\n",
       "<tr>\n",
       "  <th>No. Observations:</th>       <td> 37721</td>       <th>  AIC:               </th>  <td>6.944e+05</td> \n",
       "</tr>\n",
       "<tr>\n",
       "  <th>Df Residuals:</th>           <td> 37711</td>       <th>  BIC:               </th>  <td>6.945e+05</td> \n",
       "</tr>\n",
       "<tr>\n",
       "  <th>Df Model:</th>               <td>     9</td>       <th>                     </th>      <td> </td>     \n",
       "</tr>\n",
       "<tr>\n",
       "  <th>Covariance Type:</th>       <td>nonrobust</td>     <th>                     </th>      <td> </td>     \n",
       "</tr>\n",
       "</table>\n",
       "<table class=\"simpletable\">\n",
       "<tr>\n",
       "          <td></td>            <th>coef</th>     <th>std err</th>      <th>t</th>      <th>P>|t|</th>  <th>[0.025</th>    <th>0.975]</th>  \n",
       "</tr>\n",
       "<tr>\n",
       "  <th>const</th>            <td>  7.59e+04</td> <td>   27.188</td> <td> 2791.782</td> <td> 0.000</td> <td> 7.59e+04</td> <td>  7.6e+04</td>\n",
       "</tr>\n",
       "<tr>\n",
       "  <th>Overtime</th>         <td>    1.5956</td> <td>   13.335</td> <td>    0.120</td> <td> 0.905</td> <td>  -24.542</td> <td>   27.733</td>\n",
       "</tr>\n",
       "<tr>\n",
       "  <th>Other_Salaries</th>   <td> -283.7050</td> <td>   13.888</td> <td>  -20.429</td> <td> 0.000</td> <td> -310.925</td> <td> -256.485</td>\n",
       "</tr>\n",
       "<tr>\n",
       "  <th>Total_Salary</th>     <td>  4.89e+04</td> <td>   29.955</td> <td> 1632.492</td> <td> 0.000</td> <td> 4.88e+04</td> <td>  4.9e+04</td>\n",
       "</tr>\n",
       "<tr>\n",
       "  <th>Health/Dental</th>    <td> 6073.4216</td> <td>   22.108</td> <td>  274.722</td> <td> 0.000</td> <td> 6030.090</td> <td> 6116.753</td>\n",
       "</tr>\n",
       "<tr>\n",
       "  <th>Other_Benefits</th>   <td> 3430.4728</td> <td>   26.666</td> <td>  128.648</td> <td> 0.000</td> <td> 3378.207</td> <td> 3482.738</td>\n",
       "</tr>\n",
       "<tr>\n",
       "  <th>Year_2014</th>        <td> 1349.5995</td> <td>   33.117</td> <td>   40.752</td> <td> 0.000</td> <td> 1284.689</td> <td> 1414.510</td>\n",
       "</tr>\n",
       "<tr>\n",
       "  <th>Year_2015</th>        <td> 1369.4921</td> <td>   33.017</td> <td>   41.479</td> <td> 0.000</td> <td> 1304.779</td> <td> 1434.205</td>\n",
       "</tr>\n",
       "<tr>\n",
       "  <th>Year_2016</th>        <td> -233.1735</td> <td>   41.971</td> <td>   -5.556</td> <td> 0.000</td> <td> -315.437</td> <td> -150.910</td>\n",
       "</tr>\n",
       "<tr>\n",
       "  <th>Year_Type_Fiscal</th> <td>  -40.4212</td> <td>   26.872</td> <td>   -1.504</td> <td> 0.133</td> <td>  -93.091</td> <td>   12.248</td>\n",
       "</tr>\n",
       "</table>\n",
       "<table class=\"simpletable\">\n",
       "<tr>\n",
       "  <th>Omnibus:</th>       <td>23912.661</td> <th>  Durbin-Watson:     </th>  <td>   2.003</td>  \n",
       "</tr>\n",
       "<tr>\n",
       "  <th>Prob(Omnibus):</th>  <td> 0.000</td>   <th>  Jarque-Bera (JB):  </th> <td>1812097.420</td>\n",
       "</tr>\n",
       "<tr>\n",
       "  <th>Skew:</th>           <td>-2.274</td>   <th>  Prob(JB):          </th>  <td>    0.00</td>  \n",
       "</tr>\n",
       "<tr>\n",
       "  <th>Kurtosis:</th>       <td>36.649</td>   <th>  Cond. No.          </th>  <td>    7.20</td>  \n",
       "</tr>\n",
       "</table><br/><br/>Notes:<br/>[1] Standard Errors assume that the covariance matrix of the errors is correctly specified."
      ],
      "text/latex": [
       "\\begin{center}\n",
       "\\begin{tabular}{lclc}\n",
       "\\toprule\n",
       "\\textbf{Dep. Variable:}     & Total\\_Compensation & \\textbf{  R-squared:         } &      0.998   \\\\\n",
       "\\textbf{Model:}             &         OLS         & \\textbf{  Adj. R-squared:    } &      0.998   \\\\\n",
       "\\textbf{Method:}            &    Least Squares    & \\textbf{  F-statistic:       } &  2.342e+06   \\\\\n",
       "\\textbf{Date:}              &   Sun, 21 Jul 2024  & \\textbf{  Prob (F-statistic):} &      0.00    \\\\\n",
       "\\textbf{Time:}              &       17:11:55      & \\textbf{  Log-Likelihood:    } & -3.4719e+05  \\\\\n",
       "\\textbf{No. Observations:}  &         37721       & \\textbf{  AIC:               } &  6.944e+05   \\\\\n",
       "\\textbf{Df Residuals:}      &         37711       & \\textbf{  BIC:               } &  6.945e+05   \\\\\n",
       "\\textbf{Df Model:}          &             9       & \\textbf{                     } &              \\\\\n",
       "\\textbf{Covariance Type:}   &      nonrobust      & \\textbf{                     } &              \\\\\n",
       "\\bottomrule\n",
       "\\end{tabular}\n",
       "\\begin{tabular}{lcccccc}\n",
       "                            & \\textbf{coef} & \\textbf{std err} & \\textbf{t} & \\textbf{P$> |$t$|$} & \\textbf{[0.025} & \\textbf{0.975]}  \\\\\n",
       "\\midrule\n",
       "\\textbf{const}              &     7.59e+04  &       27.188     &  2791.782  &         0.000        &     7.59e+04    &      7.6e+04     \\\\\n",
       "\\textbf{Overtime}           &       1.5956  &       13.335     &     0.120  &         0.905        &      -24.542    &       27.733     \\\\\n",
       "\\textbf{Other\\_Salaries}    &    -283.7050  &       13.888     &   -20.429  &         0.000        &     -310.925    &     -256.485     \\\\\n",
       "\\textbf{Total\\_Salary}      &     4.89e+04  &       29.955     &  1632.492  &         0.000        &     4.88e+04    &      4.9e+04     \\\\\n",
       "\\textbf{Health/Dental}      &    6073.4216  &       22.108     &   274.722  &         0.000        &     6030.090    &     6116.753     \\\\\n",
       "\\textbf{Other\\_Benefits}    &    3430.4728  &       26.666     &   128.648  &         0.000        &     3378.207    &     3482.738     \\\\\n",
       "\\textbf{Year\\_2014}         &    1349.5995  &       33.117     &    40.752  &         0.000        &     1284.689    &     1414.510     \\\\\n",
       "\\textbf{Year\\_2015}         &    1369.4921  &       33.017     &    41.479  &         0.000        &     1304.779    &     1434.205     \\\\\n",
       "\\textbf{Year\\_2016}         &    -233.1735  &       41.971     &    -5.556  &         0.000        &     -315.437    &     -150.910     \\\\\n",
       "\\textbf{Year\\_Type\\_Fiscal} &     -40.4212  &       26.872     &    -1.504  &         0.133        &      -93.091    &       12.248     \\\\\n",
       "\\bottomrule\n",
       "\\end{tabular}\n",
       "\\begin{tabular}{lclc}\n",
       "\\textbf{Omnibus:}       & 23912.661 & \\textbf{  Durbin-Watson:     } &      2.003   \\\\\n",
       "\\textbf{Prob(Omnibus):} &    0.000  & \\textbf{  Jarque-Bera (JB):  } & 1812097.420  \\\\\n",
       "\\textbf{Skew:}          &   -2.274  & \\textbf{  Prob(JB):          } &       0.00   \\\\\n",
       "\\textbf{Kurtosis:}      &   36.649  & \\textbf{  Cond. No.          } &       7.20   \\\\\n",
       "\\bottomrule\n",
       "\\end{tabular}\n",
       "%\\caption{OLS Regression Results}\n",
       "\\end{center}\n",
       "\n",
       "Notes: \\newline\n",
       " [1] Standard Errors assume that the covariance matrix of the errors is correctly specified."
      ],
      "text/plain": [
       "<class 'statsmodels.iolib.summary.Summary'>\n",
       "\"\"\"\n",
       "                            OLS Regression Results                            \n",
       "==============================================================================\n",
       "Dep. Variable:     Total_Compensation   R-squared:                       0.998\n",
       "Model:                            OLS   Adj. R-squared:                  0.998\n",
       "Method:                 Least Squares   F-statistic:                 2.342e+06\n",
       "Date:                Sun, 21 Jul 2024   Prob (F-statistic):               0.00\n",
       "Time:                        17:11:55   Log-Likelihood:            -3.4719e+05\n",
       "No. Observations:               37721   AIC:                         6.944e+05\n",
       "Df Residuals:                   37711   BIC:                         6.945e+05\n",
       "Df Model:                           9                                         \n",
       "Covariance Type:            nonrobust                                         \n",
       "====================================================================================\n",
       "                       coef    std err          t      P>|t|      [0.025      0.975]\n",
       "------------------------------------------------------------------------------------\n",
       "const              7.59e+04     27.188   2791.782      0.000    7.59e+04     7.6e+04\n",
       "Overtime             1.5956     13.335      0.120      0.905     -24.542      27.733\n",
       "Other_Salaries    -283.7050     13.888    -20.429      0.000    -310.925    -256.485\n",
       "Total_Salary       4.89e+04     29.955   1632.492      0.000    4.88e+04     4.9e+04\n",
       "Health/Dental     6073.4216     22.108    274.722      0.000    6030.090    6116.753\n",
       "Other_Benefits    3430.4728     26.666    128.648      0.000    3378.207    3482.738\n",
       "Year_2014         1349.5995     33.117     40.752      0.000    1284.689    1414.510\n",
       "Year_2015         1369.4921     33.017     41.479      0.000    1304.779    1434.205\n",
       "Year_2016         -233.1735     41.971     -5.556      0.000    -315.437    -150.910\n",
       "Year_Type_Fiscal   -40.4212     26.872     -1.504      0.133     -93.091      12.248\n",
       "==============================================================================\n",
       "Omnibus:                    23912.661   Durbin-Watson:                   2.003\n",
       "Prob(Omnibus):                  0.000   Jarque-Bera (JB):          1812097.420\n",
       "Skew:                          -2.274   Prob(JB):                         0.00\n",
       "Kurtosis:                      36.649   Cond. No.                         7.20\n",
       "==============================================================================\n",
       "\n",
       "Notes:\n",
       "[1] Standard Errors assume that the covariance matrix of the errors is correctly specified.\n",
       "\"\"\""
      ]
     },
     "execution_count": 47,
     "metadata": {},
     "output_type": "execute_result"
    }
   ],
   "source": [
    "import statsmodels.api as sm\n",
    "\n",
    "Xc = sm.add_constant(X1)\n",
    "ols = sm.OLS(Y, Xc)\n",
    "ols_mod = ols.fit()\n",
    "\n",
    "ols_mod.summary()"
   ]
  },
  {
   "cell_type": "code",
   "execution_count": 49,
   "metadata": {},
   "outputs": [
    {
     "data": {
      "application/javascript": "\n        if (window._pyforest_update_imports_cell) { window._pyforest_update_imports_cell('import sklearn\\nimport statsmodels.api as sm\\nfrom sklearn.preprocessing import StandardScaler\\nimport matplotlib.pyplot as plt\\nimport pandas as pd\\nimport seaborn as sns\\nfrom sklearn.preprocessing import PolynomialFeatures\\nimport statistics\\nfrom sklearn.impute import SimpleImputer\\nimport datetime as dt'); }\n    ",
      "text/plain": [
       "<IPython.core.display.Javascript object>"
      ]
     },
     "metadata": {},
     "output_type": "display_data"
    },
    {
     "data": {
      "text/plain": [
       "<Axes: xlabel='Total_Compensation'>"
      ]
     },
     "execution_count": 49,
     "metadata": {},
     "output_type": "execute_result"
    },
    {
     "data": {
      "image/png": "[encoded data removed]",
      "text/plain": [
       "<Figure size 640x480 with 1 Axes>"
      ]
     },
     "metadata": {},
     "output_type": "display_data"
    }
   ],
   "source": [
    "ypred = ols_mod.predict()\n",
    "\n",
    "sns.scatterplot(x=Y, y=ypred)"
   ]
  },
  {
   "cell_type": "code",
   "execution_count": 53,
   "metadata": {},
   "outputs": [
    {
     "data": {
      "application/javascript": "\n        if (window._pyforest_update_imports_cell) { window._pyforest_update_imports_cell('import sklearn\\nimport statsmodels.api as sm\\nfrom sklearn.preprocessing import StandardScaler\\nimport matplotlib.pyplot as plt\\nimport pandas as pd\\nimport seaborn as sns\\nfrom sklearn.preprocessing import PolynomialFeatures\\nimport statistics\\nfrom sklearn.impute import SimpleImputer\\nimport datetime as dt'); }\n    ",
      "text/plain": [
       "<IPython.core.display.Javascript object>"
      ]
     },
     "metadata": {},
     "output_type": "display_data"
    },
    {
     "data": {
      "application/javascript": "\n        if (window._pyforest_update_imports_cell) { window._pyforest_update_imports_cell('import sklearn\\nimport statsmodels.api as sm\\nfrom sklearn.preprocessing import StandardScaler\\nimport matplotlib.pyplot as plt\\nimport pandas as pd\\nimport seaborn as sns\\nfrom sklearn.preprocessing import PolynomialFeatures\\nimport statistics\\nfrom sklearn.impute import SimpleImputer\\nimport datetime as dt'); }\n    ",
      "text/plain": [
       "<IPython.core.display.Javascript object>"
      ]
     },
     "metadata": {},
     "output_type": "display_data"
    },
    {
     "data": {
      "application/javascript": "\n        if (window._pyforest_update_imports_cell) { window._pyforest_update_imports_cell('import sklearn\\nimport statsmodels.api as sm\\nfrom sklearn.preprocessing import StandardScaler\\nimport matplotlib.pyplot as plt\\nimport pandas as pd\\nimport seaborn as sns\\nfrom sklearn.preprocessing import PolynomialFeatures\\nimport statistics\\nfrom sklearn.impute import SimpleImputer\\nimport datetime as dt'); }\n    ",
      "text/plain": [
       "<IPython.core.display.Javascript object>"
      ]
     },
     "metadata": {},
     "output_type": "display_data"
    },
    {
     "data": {
      "application/javascript": "\n        if (window._pyforest_update_imports_cell) { window._pyforest_update_imports_cell('import sklearn\\nimport statsmodels.api as sm\\nfrom sklearn.preprocessing import StandardScaler\\nimport matplotlib.pyplot as plt\\nimport pandas as pd\\nimport seaborn as sns\\nfrom sklearn.preprocessing import PolynomialFeatures\\nimport statistics\\nfrom sklearn.impute import SimpleImputer\\nimport datetime as dt'); }\n    ",
      "text/plain": [
       "<IPython.core.display.Javascript object>"
      ]
     },
     "metadata": {},
     "output_type": "display_data"
    },
    {
     "data": {
      "application/javascript": "\n        if (window._pyforest_update_imports_cell) { window._pyforest_update_imports_cell('import sklearn\\nimport statsmodels.api as sm\\nfrom sklearn.preprocessing import StandardScaler\\nimport matplotlib.pyplot as plt\\nimport pandas as pd\\nimport seaborn as sns\\nfrom sklearn.preprocessing import PolynomialFeatures\\nimport statistics\\nfrom sklearn.impute import SimpleImputer\\nimport datetime as dt'); }\n    ",
      "text/plain": [
       "<IPython.core.display.Javascript object>"
      ]
     },
     "metadata": {},
     "output_type": "display_data"
    },
    {
     "data": {
      "application/javascript": "\n        if (window._pyforest_update_imports_cell) { window._pyforest_update_imports_cell('import sklearn\\nimport statsmodels.api as sm\\nfrom sklearn.preprocessing import StandardScaler\\nimport matplotlib.pyplot as plt\\nimport pandas as pd\\nimport seaborn as sns\\nfrom sklearn.preprocessing import PolynomialFeatures\\nimport statistics\\nfrom sklearn.impute import SimpleImputer\\nimport datetime as dt'); }\n    ",
      "text/plain": [
       "<IPython.core.display.Javascript object>"
      ]
     },
     "metadata": {},
     "output_type": "display_data"
    },
    {
     "data": {
      "application/javascript": "\n        if (window._pyforest_update_imports_cell) { window._pyforest_update_imports_cell('import sklearn\\nimport statsmodels.api as sm\\nfrom sklearn.preprocessing import StandardScaler\\nimport matplotlib.pyplot as plt\\nimport pandas as pd\\nimport seaborn as sns\\nfrom sklearn.preprocessing import PolynomialFeatures\\nimport statistics\\nfrom sklearn.impute import SimpleImputer\\nimport datetime as dt'); }\n    ",
      "text/plain": [
       "<IPython.core.display.Javascript object>"
      ]
     },
     "metadata": {},
     "output_type": "display_data"
    },
    {
     "data": {
      "application/javascript": "\n        if (window._pyforest_update_imports_cell) { window._pyforest_update_imports_cell('import sklearn\\nimport statsmodels.api as sm\\nfrom sklearn.preprocessing import StandardScaler\\nimport matplotlib.pyplot as plt\\nimport pandas as pd\\nimport seaborn as sns\\nfrom sklearn.preprocessing import PolynomialFeatures\\nimport statistics\\nfrom sklearn.impute import SimpleImputer\\nimport datetime as dt'); }\n    ",
      "text/plain": [
       "<IPython.core.display.Javascript object>"
      ]
     },
     "metadata": {},
     "output_type": "display_data"
    },
    {
     "data": {
      "application/javascript": "\n        if (window._pyforest_update_imports_cell) { window._pyforest_update_imports_cell('import sklearn\\nimport statsmodels.api as sm\\nfrom sklearn.preprocessing import StandardScaler\\nimport matplotlib.pyplot as plt\\nimport pandas as pd\\nimport seaborn as sns\\nfrom sklearn.preprocessing import PolynomialFeatures\\nimport statistics\\nfrom sklearn.impute import SimpleImputer\\nimport datetime as dt'); }\n    ",
      "text/plain": [
       "<IPython.core.display.Javascript object>"
      ]
     },
     "metadata": {},
     "output_type": "display_data"
    },
    {
     "data": {
      "application/javascript": "\n        if (window._pyforest_update_imports_cell) { window._pyforest_update_imports_cell('import sklearn\\nimport statsmodels.api as sm\\nfrom sklearn.preprocessing import StandardScaler\\nimport matplotlib.pyplot as plt\\nimport pandas as pd\\nimport seaborn as sns\\nfrom sklearn.preprocessing import PolynomialFeatures\\nimport statistics\\nfrom sklearn.impute import SimpleImputer\\nimport datetime as dt'); }\n    ",
      "text/plain": [
       "<IPython.core.display.Javascript object>"
      ]
     },
     "metadata": {},
     "output_type": "display_data"
    },
    {
     "data": {
      "text/plain": [
       "<matplotlib.legend.Legend at 0x29bb65dc190>"
      ]
     },
     "execution_count": 53,
     "metadata": {},
     "output_type": "execute_result"
    },
    {
     "name": "stderr",
     "output_type": "stream",
     "text": [
      "c:\\Users\\lokesh\\anaconda3\\Lib\\site-packages\\IPython\\core\\pylabtools.py:152: UserWarning: Creating legend with loc=\"best\" can be slow with large amounts of data.\n",
      "  fig.canvas.print_figure(bytes_io, **kw)\n"
     ]
    },
    {
     "data": {
      "image/png": "[encoded data removed]",
      "text/plain": [
       "<Figure size 640x480 with 1 Axes>"
      ]
     },
     "metadata": {},
     "output_type": "display_data"
    }
   ],
   "source": [
    "for i in X1.columns:\n",
    "    sns.scatterplot(x=X1[i],y= ols_mod.resid)\n",
    "plt.legend(X1.columns)"
   ]
  },
  {
   "cell_type": "code",
   "execution_count": 54,
   "metadata": {},
   "outputs": [],
   "source": [
    "from statsmodels.stats.diagnostic import linear_rainbow"
   ]
  },
  {
   "cell_type": "code",
   "execution_count": 55,
   "metadata": {},
   "outputs": [
    {
     "data": {
      "text/plain": [
       "(0.9963561456138164, 0.5989512641677408)"
      ]
     },
     "execution_count": 55,
     "metadata": {},
     "output_type": "execute_result"
    }
   ],
   "source": [
    "linear_rainbow(res=ols_mod, frac=0.5)\n",
    "# H0: part of the data is linear, i.e 50%\n",
    "# H1: even 50% of data is not linear "
   ]
  },
  {
   "cell_type": "code",
   "execution_count": 56,
   "metadata": {},
   "outputs": [
    {
     "data": {
      "application/javascript": "\n        if (window._pyforest_update_imports_cell) { window._pyforest_update_imports_cell('import sklearn\\nimport statsmodels.api as sm\\nfrom sklearn.preprocessing import StandardScaler\\nimport matplotlib.pyplot as plt\\nimport pandas as pd\\nimport seaborn as sns\\nfrom sklearn.preprocessing import PolynomialFeatures\\nimport statistics\\nfrom sklearn.impute import SimpleImputer\\nimport datetime as dt'); }\n    ",
      "text/plain": [
       "<IPython.core.display.Javascript object>"
      ]
     },
     "metadata": {},
     "output_type": "display_data"
    },
    {
     "name": "stderr",
     "output_type": "stream",
     "text": [
      "C:\\Users\\lokesh\\AppData\\Local\\Temp\\ipykernel_16948\\2613488039.py:1: UserWarning: \n",
      "\n",
      "`distplot` is a deprecated function and will be removed in seaborn v0.14.0.\n",
      "\n",
      "Please adapt your code to use either `displot` (a figure-level function with\n",
      "similar flexibility) or `histplot` (an axes-level function for histograms).\n",
      "\n",
      "For a guide to updating your code to use the new functions, please see\n",
      "https://gist.github.com/mwaskom/de44147ed2974457ad6372750bbe5751\n",
      "\n",
      "  sns.distplot(ols_mod.resid)\n",
      "c:\\Users\\lokesh\\anaconda3\\Lib\\site-packages\\seaborn\\_oldcore.py:1119: FutureWarning: use_inf_as_na option is deprecated and will be removed in a future version. Convert inf values to NaN before operating instead.\n",
      "  with pd.option_context('mode.use_inf_as_na', True):\n"
     ]
    },
    {
     "data": {
      "text/plain": [
       "<Axes: ylabel='Density'>"
      ]
     },
     "execution_count": 56,
     "metadata": {},
     "output_type": "execute_result"
    },
    {
     "data": {
      "image/png": "[encoded data removed]",
      "text/plain": [
       "<Figure size 640x480 with 1 Axes>"
      ]
     },
     "metadata": {},
     "output_type": "display_data"
    }
   ],
   "source": [
    "sns.distplot(ols_mod.resid)"
   ]
  },
  {
   "cell_type": "code",
   "execution_count": 57,
   "metadata": {},
   "outputs": [
    {
     "data": {
      "text/plain": [
       "-2.274576175889527"
      ]
     },
     "execution_count": 57,
     "metadata": {},
     "output_type": "execute_result"
    }
   ],
   "source": [
    "ols_mod.resid.skew()"
   ]
  },
  {
   "cell_type": "code",
   "execution_count": 58,
   "metadata": {},
   "outputs": [
    {
     "data": {
      "application/javascript": "\n        if (window._pyforest_update_imports_cell) { window._pyforest_update_imports_cell('import sklearn\\nimport statsmodels.api as sm\\nfrom sklearn.preprocessing import StandardScaler\\nimport matplotlib.pyplot as plt\\nimport pandas as pd\\nimport seaborn as sns\\nfrom sklearn.preprocessing import PolynomialFeatures\\nimport statistics\\nfrom sklearn.impute import SimpleImputer\\nimport datetime as dt\\nfrom scipy import stats'); }\n    ",
      "text/plain": [
       "<IPython.core.display.Javascript object>"
      ]
     },
     "metadata": {},
     "output_type": "display_data"
    },
    {
     "data": {
      "application/javascript": "\n        if (window._pyforest_update_imports_cell) { window._pyforest_update_imports_cell('import sklearn\\nimport statsmodels.api as sm\\nfrom sklearn.preprocessing import StandardScaler\\nimport matplotlib.pyplot as plt\\nimport pandas as pd\\nimport seaborn as sns\\nfrom sklearn.preprocessing import PolynomialFeatures\\nimport statistics\\nfrom sklearn.impute import SimpleImputer\\nimport datetime as dt\\nfrom scipy import stats'); }\n    ",
      "text/plain": [
       "<IPython.core.display.Javascript object>"
      ]
     },
     "metadata": {},
     "output_type": "display_data"
    },
    {
     "data": {
      "application/javascript": "\n        if (window._pyforest_update_imports_cell) { window._pyforest_update_imports_cell('import sklearn\\nimport statsmodels.api as sm\\nfrom sklearn.preprocessing import StandardScaler\\nimport matplotlib.pyplot as plt\\nimport pandas as pd\\nimport seaborn as sns\\nfrom sklearn.preprocessing import PolynomialFeatures\\nimport statistics\\nfrom sklearn.impute import SimpleImputer\\nimport datetime as dt\\nfrom scipy import stats'); }\n    ",
      "text/plain": [
       "<IPython.core.display.Javascript object>"
      ]
     },
     "metadata": {},
     "output_type": "display_data"
    },
    {
     "data": {
      "application/javascript": "\n        if (window._pyforest_update_imports_cell) { window._pyforest_update_imports_cell('import sklearn\\nimport statsmodels.api as sm\\nfrom sklearn.preprocessing import StandardScaler\\nimport matplotlib.pyplot as plt\\nimport pandas as pd\\nimport seaborn as sns\\nfrom sklearn.preprocessing import PolynomialFeatures\\nimport statistics\\nfrom sklearn.impute import SimpleImputer\\nimport datetime as dt\\nfrom scipy import stats'); }\n    ",
      "text/plain": [
       "<IPython.core.display.Javascript object>"
      ]
     },
     "metadata": {},
     "output_type": "display_data"
    },
    {
     "data": {
      "application/javascript": "\n        if (window._pyforest_update_imports_cell) { window._pyforest_update_imports_cell('import sklearn\\nimport statsmodels.api as sm\\nfrom sklearn.preprocessing import StandardScaler\\nimport matplotlib.pyplot as plt\\nimport pandas as pd\\nimport seaborn as sns\\nfrom sklearn.preprocessing import PolynomialFeatures\\nimport statistics\\nfrom sklearn.impute import SimpleImputer\\nimport datetime as dt\\nfrom scipy import stats'); }\n    ",
      "text/plain": [
       "<IPython.core.display.Javascript object>"
      ]
     },
     "metadata": {},
     "output_type": "display_data"
    },
    {
     "data": {
      "application/javascript": "\n        if (window._pyforest_update_imports_cell) { window._pyforest_update_imports_cell('import sklearn\\nimport statsmodels.api as sm\\nfrom sklearn.preprocessing import StandardScaler\\nimport matplotlib.pyplot as plt\\nimport pandas as pd\\nimport seaborn as sns\\nfrom sklearn.preprocessing import PolynomialFeatures\\nimport statistics\\nfrom sklearn.impute import SimpleImputer\\nimport datetime as dt\\nfrom scipy import stats'); }\n    ",
      "text/plain": [
       "<IPython.core.display.Javascript object>"
      ]
     },
     "metadata": {},
     "output_type": "display_data"
    },
    {
     "data": {
      "text/plain": [
       "((array([-4.12701073, -3.91821603, -3.80426286, ...,  3.80426286,\n",
       "          3.91821603,  4.12701073]),\n",
       "  array([-46349.47386685, -31896.96538844, -30893.46480643, ...,\n",
       "          30536.62916981,  31016.88996381,  37879.74648887])),\n",
       " (2026.6984780577711, 1.7900849050349704e-10, 0.8427161692001346))"
      ]
     },
     "execution_count": 58,
     "metadata": {},
     "output_type": "execute_result"
    },
    {
     "data": {
      "image/png": "[encoded data removed]",
      "text/plain": [
       "<Figure size 640x480 with 1 Axes>"
      ]
     },
     "metadata": {},
     "output_type": "display_data"
    }
   ],
   "source": [
    "import scipy.stats as stats\n",
    "stats.probplot(ols_mod.resid, plot=plt)"
   ]
  },
  {
   "cell_type": "code",
   "execution_count": 59,
   "metadata": {},
   "outputs": [
    {
     "data": {
      "text/plain": [
       "count     37721.000000\n",
       "mean      76627.575881\n",
       "std       56903.754957\n",
       "min       -3518.340000\n",
       "25%       21211.800000\n",
       "50%       80608.920000\n",
       "75%      115231.110000\n",
       "max      272895.060000\n",
       "Name: Total_Compensation, dtype: float64"
      ]
     },
     "execution_count": 59,
     "metadata": {},
     "output_type": "execute_result"
    }
   ],
   "source": [
    "Y.describe()"
   ]
  },
  {
   "cell_type": "code",
   "execution_count": 61,
   "metadata": {},
   "outputs": [
    {
     "data": {
      "application/javascript": "\n        if (window._pyforest_update_imports_cell) { window._pyforest_update_imports_cell('import sklearn\\nimport statsmodels.api as sm\\nfrom sklearn.preprocessing import StandardScaler\\nimport matplotlib.pyplot as plt\\nimport pandas as pd\\nimport seaborn as sns\\nfrom sklearn.preprocessing import PolynomialFeatures\\nimport statistics\\nfrom sklearn.impute import SimpleImputer\\nimport numpy as np\\nimport datetime as dt\\nfrom scipy import stats'); }\n    ",
      "text/plain": [
       "<IPython.core.display.Javascript object>"
      ]
     },
     "metadata": {},
     "output_type": "display_data"
    },
    {
     "data": {
      "text/plain": [
       "count     37721.000000\n",
       "mean      76628.355130\n",
       "std       56902.705564\n",
       "min           0.290000\n",
       "25%       21211.800000\n",
       "50%       80608.920000\n",
       "75%      115231.110000\n",
       "max      272895.060000\n",
       "Name: Total_Compensation, dtype: float64"
      ]
     },
     "execution_count": 61,
     "metadata": {},
     "output_type": "execute_result"
    }
   ],
   "source": [
    "Yabs = np.abs(Y)\n",
    "Yabs.describe()"
   ]
  },
  {
   "cell_type": "code",
   "execution_count": 62,
   "metadata": {},
   "outputs": [
    {
     "data": {
      "application/javascript": "\n        if (window._pyforest_update_imports_cell) { window._pyforest_update_imports_cell('import sklearn\\nimport statsmodels.api as sm\\nfrom sklearn.preprocessing import StandardScaler\\nimport matplotlib.pyplot as plt\\nimport pandas as pd\\nimport seaborn as sns\\nfrom sklearn.preprocessing import PolynomialFeatures\\nimport statistics\\nfrom sklearn.impute import SimpleImputer\\nimport numpy as np\\nimport datetime as dt\\nfrom scipy import stats'); }\n    ",
      "text/plain": [
       "<IPython.core.display.Javascript object>"
      ]
     },
     "metadata": {},
     "output_type": "display_data"
    },
    {
     "data": {
      "text/plain": [
       "0.001916029754333152"
      ]
     },
     "execution_count": 62,
     "metadata": {},
     "output_type": "execute_result"
    }
   ],
   "source": [
    "# to fix the skewness make the trial and error until we get the skewness to 0\n",
    "Yabs = np.power(Yabs, 0.7) # for this given \n",
    "Yabs.skew()"
   ]
  },
  {
   "cell_type": "code",
   "execution_count": 63,
   "metadata": {},
   "outputs": [
    {
     "data": {
      "text/html": [
       "<table class=\"simpletable\">\n",
       "<caption>OLS Regression Results</caption>\n",
       "<tr>\n",
       "  <th>Dep. Variable:</th>    <td>Total_Compensation</td> <th>  R-squared:         </th>  <td>   0.990</td>  \n",
       "</tr>\n",
       "<tr>\n",
       "  <th>Model:</th>                    <td>OLS</td>        <th>  Adj. R-squared:    </th>  <td>   0.990</td>  \n",
       "</tr>\n",
       "<tr>\n",
       "  <th>Method:</th>              <td>Least Squares</td>   <th>  F-statistic:       </th>  <td>4.030e+05</td> \n",
       "</tr>\n",
       "<tr>\n",
       "  <th>Date:</th>              <td>Sun, 21 Jul 2024</td>  <th>  Prob (F-statistic):</th>   <td>  0.00</td>   \n",
       "</tr>\n",
       "<tr>\n",
       "  <th>Time:</th>                  <td>17:41:33</td>      <th>  Log-Likelihood:    </th> <td>-2.4169e+05</td>\n",
       "</tr>\n",
       "<tr>\n",
       "  <th>No. Observations:</th>       <td> 37721</td>       <th>  AIC:               </th>  <td>4.834e+05</td> \n",
       "</tr>\n",
       "<tr>\n",
       "  <th>Df Residuals:</th>           <td> 37711</td>       <th>  BIC:               </th>  <td>4.835e+05</td> \n",
       "</tr>\n",
       "<tr>\n",
       "  <th>Df Model:</th>               <td>     9</td>       <th>                     </th>      <td> </td>     \n",
       "</tr>\n",
       "<tr>\n",
       "  <th>Covariance Type:</th>       <td>nonrobust</td>     <th>                     </th>      <td> </td>     \n",
       "</tr>\n",
       "</table>\n",
       "<table class=\"simpletable\">\n",
       "<tr>\n",
       "          <td></td>            <th>coef</th>     <th>std err</th>      <th>t</th>      <th>P>|t|</th>  <th>[0.025</th>    <th>0.975]</th>  \n",
       "</tr>\n",
       "<tr>\n",
       "  <th>const</th>            <td> 2413.4103</td> <td>    1.658</td> <td> 1455.226</td> <td> 0.000</td> <td> 2410.160</td> <td> 2416.661</td>\n",
       "</tr>\n",
       "<tr>\n",
       "  <th>Overtime</th>         <td>   11.9698</td> <td>    0.813</td> <td>   14.715</td> <td> 0.000</td> <td>   10.375</td> <td>   13.564</td>\n",
       "</tr>\n",
       "<tr>\n",
       "  <th>Other_Salaries</th>   <td>   23.3904</td> <td>    0.847</td> <td>   27.612</td> <td> 0.000</td> <td>   21.730</td> <td>   25.051</td>\n",
       "</tr>\n",
       "<tr>\n",
       "  <th>Total_Salary</th>     <td>  989.2782</td> <td>    1.827</td> <td>  541.423</td> <td> 0.000</td> <td>  985.697</td> <td>  992.860</td>\n",
       "</tr>\n",
       "<tr>\n",
       "  <th>Health/Dental</th>    <td>  358.8735</td> <td>    1.349</td> <td>  266.123</td> <td> 0.000</td> <td>  356.230</td> <td>  361.517</td>\n",
       "</tr>\n",
       "<tr>\n",
       "  <th>Other_Benefits</th>   <td>  148.9871</td> <td>    1.627</td> <td>   91.597</td> <td> 0.000</td> <td>  145.799</td> <td>  152.175</td>\n",
       "</tr>\n",
       "<tr>\n",
       "  <th>Year_2014</th>        <td>   30.6724</td> <td>    2.020</td> <td>   15.184</td> <td> 0.000</td> <td>   26.713</td> <td>   34.632</td>\n",
       "</tr>\n",
       "<tr>\n",
       "  <th>Year_2015</th>        <td>   39.8592</td> <td>    2.014</td> <td>   19.792</td> <td> 0.000</td> <td>   35.912</td> <td>   43.807</td>\n",
       "</tr>\n",
       "<tr>\n",
       "  <th>Year_2016</th>        <td>  -10.9112</td> <td>    2.560</td> <td>   -4.262</td> <td> 0.000</td> <td>  -15.929</td> <td>   -5.893</td>\n",
       "</tr>\n",
       "<tr>\n",
       "  <th>Year_Type_Fiscal</th> <td>   -2.6032</td> <td>    1.639</td> <td>   -1.588</td> <td> 0.112</td> <td>   -5.816</td> <td>    0.610</td>\n",
       "</tr>\n",
       "</table>\n",
       "<table class=\"simpletable\">\n",
       "<tr>\n",
       "  <th>Omnibus:</th>       <td>2939.283</td> <th>  Durbin-Watson:     </th> <td>   1.992</td>\n",
       "</tr>\n",
       "<tr>\n",
       "  <th>Prob(Omnibus):</th>  <td> 0.000</td>  <th>  Jarque-Bera (JB):  </th> <td>8391.857</td>\n",
       "</tr>\n",
       "<tr>\n",
       "  <th>Skew:</th>           <td> 0.426</td>  <th>  Prob(JB):          </th> <td>    0.00</td>\n",
       "</tr>\n",
       "<tr>\n",
       "  <th>Kurtosis:</th>       <td> 5.148</td>  <th>  Cond. No.          </th> <td>    7.20</td>\n",
       "</tr>\n",
       "</table><br/><br/>Notes:<br/>[1] Standard Errors assume that the covariance matrix of the errors is correctly specified."
      ],
      "text/latex": [
       "\\begin{center}\n",
       "\\begin{tabular}{lclc}\n",
       "\\toprule\n",
       "\\textbf{Dep. Variable:}     & Total\\_Compensation & \\textbf{  R-squared:         } &      0.990   \\\\\n",
       "\\textbf{Model:}             &         OLS         & \\textbf{  Adj. R-squared:    } &      0.990   \\\\\n",
       "\\textbf{Method:}            &    Least Squares    & \\textbf{  F-statistic:       } &  4.030e+05   \\\\\n",
       "\\textbf{Date:}              &   Sun, 21 Jul 2024  & \\textbf{  Prob (F-statistic):} &      0.00    \\\\\n",
       "\\textbf{Time:}              &       17:41:33      & \\textbf{  Log-Likelihood:    } & -2.4169e+05  \\\\\n",
       "\\textbf{No. Observations:}  &         37721       & \\textbf{  AIC:               } &  4.834e+05   \\\\\n",
       "\\textbf{Df Residuals:}      &         37711       & \\textbf{  BIC:               } &  4.835e+05   \\\\\n",
       "\\textbf{Df Model:}          &             9       & \\textbf{                     } &              \\\\\n",
       "\\textbf{Covariance Type:}   &      nonrobust      & \\textbf{                     } &              \\\\\n",
       "\\bottomrule\n",
       "\\end{tabular}\n",
       "\\begin{tabular}{lcccccc}\n",
       "                            & \\textbf{coef} & \\textbf{std err} & \\textbf{t} & \\textbf{P$> |$t$|$} & \\textbf{[0.025} & \\textbf{0.975]}  \\\\\n",
       "\\midrule\n",
       "\\textbf{const}              &    2413.4103  &        1.658     &  1455.226  &         0.000        &     2410.160    &     2416.661     \\\\\n",
       "\\textbf{Overtime}           &      11.9698  &        0.813     &    14.715  &         0.000        &       10.375    &       13.564     \\\\\n",
       "\\textbf{Other\\_Salaries}    &      23.3904  &        0.847     &    27.612  &         0.000        &       21.730    &       25.051     \\\\\n",
       "\\textbf{Total\\_Salary}      &     989.2782  &        1.827     &   541.423  &         0.000        &      985.697    &      992.860     \\\\\n",
       "\\textbf{Health/Dental}      &     358.8735  &        1.349     &   266.123  &         0.000        &      356.230    &      361.517     \\\\\n",
       "\\textbf{Other\\_Benefits}    &     148.9871  &        1.627     &    91.597  &         0.000        &      145.799    &      152.175     \\\\\n",
       "\\textbf{Year\\_2014}         &      30.6724  &        2.020     &    15.184  &         0.000        &       26.713    &       34.632     \\\\\n",
       "\\textbf{Year\\_2015}         &      39.8592  &        2.014     &    19.792  &         0.000        &       35.912    &       43.807     \\\\\n",
       "\\textbf{Year\\_2016}         &     -10.9112  &        2.560     &    -4.262  &         0.000        &      -15.929    &       -5.893     \\\\\n",
       "\\textbf{Year\\_Type\\_Fiscal} &      -2.6032  &        1.639     &    -1.588  &         0.112        &       -5.816    &        0.610     \\\\\n",
       "\\bottomrule\n",
       "\\end{tabular}\n",
       "\\begin{tabular}{lclc}\n",
       "\\textbf{Omnibus:}       & 2939.283 & \\textbf{  Durbin-Watson:     } &    1.992  \\\\\n",
       "\\textbf{Prob(Omnibus):} &   0.000  & \\textbf{  Jarque-Bera (JB):  } & 8391.857  \\\\\n",
       "\\textbf{Skew:}          &   0.426  & \\textbf{  Prob(JB):          } &     0.00  \\\\\n",
       "\\textbf{Kurtosis:}      &   5.148  & \\textbf{  Cond. No.          } &     7.20  \\\\\n",
       "\\bottomrule\n",
       "\\end{tabular}\n",
       "%\\caption{OLS Regression Results}\n",
       "\\end{center}\n",
       "\n",
       "Notes: \\newline\n",
       " [1] Standard Errors assume that the covariance matrix of the errors is correctly specified."
      ],
      "text/plain": [
       "<class 'statsmodels.iolib.summary.Summary'>\n",
       "\"\"\"\n",
       "                            OLS Regression Results                            \n",
       "==============================================================================\n",
       "Dep. Variable:     Total_Compensation   R-squared:                       0.990\n",
       "Model:                            OLS   Adj. R-squared:                  0.990\n",
       "Method:                 Least Squares   F-statistic:                 4.030e+05\n",
       "Date:                Sun, 21 Jul 2024   Prob (F-statistic):               0.00\n",
       "Time:                        17:41:33   Log-Likelihood:            -2.4169e+05\n",
       "No. Observations:               37721   AIC:                         4.834e+05\n",
       "Df Residuals:                   37711   BIC:                         4.835e+05\n",
       "Df Model:                           9                                         \n",
       "Covariance Type:            nonrobust                                         \n",
       "====================================================================================\n",
       "                       coef    std err          t      P>|t|      [0.025      0.975]\n",
       "------------------------------------------------------------------------------------\n",
       "const             2413.4103      1.658   1455.226      0.000    2410.160    2416.661\n",
       "Overtime            11.9698      0.813     14.715      0.000      10.375      13.564\n",
       "Other_Salaries      23.3904      0.847     27.612      0.000      21.730      25.051\n",
       "Total_Salary       989.2782      1.827    541.423      0.000     985.697     992.860\n",
       "Health/Dental      358.8735      1.349    266.123      0.000     356.230     361.517\n",
       "Other_Benefits     148.9871      1.627     91.597      0.000     145.799     152.175\n",
       "Year_2014           30.6724      2.020     15.184      0.000      26.713      34.632\n",
       "Year_2015           39.8592      2.014     19.792      0.000      35.912      43.807\n",
       "Year_2016          -10.9112      2.560     -4.262      0.000     -15.929      -5.893\n",
       "Year_Type_Fiscal    -2.6032      1.639     -1.588      0.112      -5.816       0.610\n",
       "==============================================================================\n",
       "Omnibus:                     2939.283   Durbin-Watson:                   1.992\n",
       "Prob(Omnibus):                  0.000   Jarque-Bera (JB):             8391.857\n",
       "Skew:                           0.426   Prob(JB):                         0.00\n",
       "Kurtosis:                       5.148   Cond. No.                         7.20\n",
       "==============================================================================\n",
       "\n",
       "Notes:\n",
       "[1] Standard Errors assume that the covariance matrix of the errors is correctly specified.\n",
       "\"\"\""
      ]
     },
     "execution_count": 63,
     "metadata": {},
     "output_type": "execute_result"
    }
   ],
   "source": [
    "Xc = sm.add_constant(X1)\n",
    "ols = sm.OLS(Yabs, Xc)\n",
    "ols_mod = ols.fit()\n",
    "\n",
    "ols_mod.summary()"
   ]
  },
  {
   "cell_type": "code",
   "execution_count": 64,
   "metadata": {},
   "outputs": [
    {
     "data": {
      "text/plain": [
       "0.4259833748432255"
      ]
     },
     "execution_count": 64,
     "metadata": {},
     "output_type": "execute_result"
    }
   ],
   "source": [
    "ols_mod.resid.skew()"
   ]
  },
  {
   "cell_type": "code",
   "execution_count": 65,
   "metadata": {},
   "outputs": [
    {
     "data": {
      "application/javascript": "\n        if (window._pyforest_update_imports_cell) { window._pyforest_update_imports_cell('import sklearn\\nimport statsmodels.api as sm\\nfrom sklearn.preprocessing import StandardScaler\\nimport matplotlib.pyplot as plt\\nimport pandas as pd\\nimport seaborn as sns\\nfrom sklearn.preprocessing import PolynomialFeatures\\nimport statistics\\nfrom sklearn.impute import SimpleImputer\\nimport numpy as np\\nimport datetime as dt\\nfrom scipy import stats'); }\n    ",
      "text/plain": [
       "<IPython.core.display.Javascript object>"
      ]
     },
     "metadata": {},
     "output_type": "display_data"
    },
    {
     "data": {
      "application/javascript": "\n        if (window._pyforest_update_imports_cell) { window._pyforest_update_imports_cell('import sklearn\\nimport statsmodels.api as sm\\nfrom sklearn.preprocessing import StandardScaler\\nimport matplotlib.pyplot as plt\\nimport pandas as pd\\nimport seaborn as sns\\nfrom sklearn.preprocessing import PolynomialFeatures\\nimport statistics\\nfrom sklearn.impute import SimpleImputer\\nimport numpy as np\\nimport datetime as dt\\nfrom scipy import stats'); }\n    ",
      "text/plain": [
       "<IPython.core.display.Javascript object>"
      ]
     },
     "metadata": {},
     "output_type": "display_data"
    },
    {
     "data": {
      "application/javascript": "\n        if (window._pyforest_update_imports_cell) { window._pyforest_update_imports_cell('import sklearn\\nimport statsmodels.api as sm\\nfrom sklearn.preprocessing import StandardScaler\\nimport matplotlib.pyplot as plt\\nimport pandas as pd\\nimport seaborn as sns\\nfrom sklearn.preprocessing import PolynomialFeatures\\nimport statistics\\nfrom sklearn.impute import SimpleImputer\\nimport numpy as np\\nimport datetime as dt\\nfrom scipy import stats'); }\n    ",
      "text/plain": [
       "<IPython.core.display.Javascript object>"
      ]
     },
     "metadata": {},
     "output_type": "display_data"
    },
    {
     "data": {
      "application/javascript": "\n        if (window._pyforest_update_imports_cell) { window._pyforest_update_imports_cell('import sklearn\\nimport statsmodels.api as sm\\nfrom sklearn.preprocessing import StandardScaler\\nimport matplotlib.pyplot as plt\\nimport pandas as pd\\nimport seaborn as sns\\nfrom sklearn.preprocessing import PolynomialFeatures\\nimport statistics\\nfrom sklearn.impute import SimpleImputer\\nimport numpy as np\\nimport datetime as dt\\nfrom scipy import stats'); }\n    ",
      "text/plain": [
       "<IPython.core.display.Javascript object>"
      ]
     },
     "metadata": {},
     "output_type": "display_data"
    },
    {
     "data": {
      "application/javascript": "\n        if (window._pyforest_update_imports_cell) { window._pyforest_update_imports_cell('import sklearn\\nimport statsmodels.api as sm\\nfrom sklearn.preprocessing import StandardScaler\\nimport matplotlib.pyplot as plt\\nimport pandas as pd\\nimport seaborn as sns\\nfrom sklearn.preprocessing import PolynomialFeatures\\nimport statistics\\nfrom sklearn.impute import SimpleImputer\\nimport numpy as np\\nimport datetime as dt\\nfrom scipy import stats'); }\n    ",
      "text/plain": [
       "<IPython.core.display.Javascript object>"
      ]
     },
     "metadata": {},
     "output_type": "display_data"
    },
    {
     "data": {
      "application/javascript": "\n        if (window._pyforest_update_imports_cell) { window._pyforest_update_imports_cell('import sklearn\\nimport statsmodels.api as sm\\nfrom sklearn.preprocessing import StandardScaler\\nimport matplotlib.pyplot as plt\\nimport pandas as pd\\nimport seaborn as sns\\nfrom sklearn.preprocessing import PolynomialFeatures\\nimport statistics\\nfrom sklearn.impute import SimpleImputer\\nimport numpy as np\\nimport datetime as dt\\nfrom scipy import stats'); }\n    ",
      "text/plain": [
       "<IPython.core.display.Javascript object>"
      ]
     },
     "metadata": {},
     "output_type": "display_data"
    },
    {
     "data": {
      "text/plain": [
       "((array([-4.12701073, -3.91821603, -3.80426286, ...,  3.80426286,\n",
       "          3.91821603,  4.12701073]),\n",
       "  array([-778.29341226, -776.49991454, -757.58984121, ..., 1118.54305609,\n",
       "         1194.45307728, 1282.98174559])),\n",
       " (144.94451557632604, 5.4348784012559165e-12, 0.9880441508407529))"
      ]
     },
     "execution_count": 65,
     "metadata": {},
     "output_type": "execute_result"
    },
    {
     "data": {
      "image/png": "[encoded data removed]",
      "text/plain": [
       "<Figure size 640x480 with 1 Axes>"
      ]
     },
     "metadata": {},
     "output_type": "display_data"
    }
   ],
   "source": [
    "stats.probplot(ols_mod.resid, plot=plt)"
   ]
  },
  {
   "cell_type": "code",
   "execution_count": 67,
   "metadata": {},
   "outputs": [
    {
     "data": {
      "application/javascript": "\n        if (window._pyforest_update_imports_cell) { window._pyforest_update_imports_cell('import sklearn\\nimport statsmodels.api as sm\\nfrom sklearn.preprocessing import StandardScaler\\nimport matplotlib.pyplot as plt\\nimport pandas as pd\\nimport seaborn as sns\\nfrom sklearn.preprocessing import PolynomialFeatures\\nimport statistics\\nfrom sklearn.impute import SimpleImputer\\nimport numpy as np\\nimport datetime as dt\\nfrom scipy import stats'); }\n    ",
      "text/plain": [
       "<IPython.core.display.Javascript object>"
      ]
     },
     "metadata": {},
     "output_type": "display_data"
    },
    {
     "data": {
      "text/plain": [
       "<Axes: >"
      ]
     },
     "execution_count": 67,
     "metadata": {},
     "output_type": "execute_result"
    },
    {
     "data": {
      "image/png": "[encoded data removed]",
      "text/plain": [
       "<Figure size 640x480 with 1 Axes>"
      ]
     },
     "metadata": {},
     "output_type": "display_data"
    }
   ],
   "source": [
    "# Homoscedasticity\n",
    "\n",
    "sns.residplot(x=ols_mod.predict(), y=ols_mod.resid)"
   ]
  },
  {
   "cell_type": "code",
   "execution_count": 68,
   "metadata": {},
   "outputs": [
    {
     "data": {
      "text/html": [
       "<table class=\"simpletable\">\n",
       "<caption>OLS Regression Results</caption>\n",
       "<tr>\n",
       "  <th>Dep. Variable:</th>    <td>Total_Compensation</td> <th>  R-squared:         </th>  <td>   0.990</td>  \n",
       "</tr>\n",
       "<tr>\n",
       "  <th>Model:</th>                    <td>OLS</td>        <th>  Adj. R-squared:    </th>  <td>   0.990</td>  \n",
       "</tr>\n",
       "<tr>\n",
       "  <th>Method:</th>              <td>Least Squares</td>   <th>  F-statistic:       </th>  <td>4.030e+05</td> \n",
       "</tr>\n",
       "<tr>\n",
       "  <th>Date:</th>              <td>Sun, 21 Jul 2024</td>  <th>  Prob (F-statistic):</th>   <td>  0.00</td>   \n",
       "</tr>\n",
       "<tr>\n",
       "  <th>Time:</th>                  <td>18:00:39</td>      <th>  Log-Likelihood:    </th> <td>-2.4169e+05</td>\n",
       "</tr>\n",
       "<tr>\n",
       "  <th>No. Observations:</th>       <td> 37721</td>       <th>  AIC:               </th>  <td>4.834e+05</td> \n",
       "</tr>\n",
       "<tr>\n",
       "  <th>Df Residuals:</th>           <td> 37711</td>       <th>  BIC:               </th>  <td>4.835e+05</td> \n",
       "</tr>\n",
       "<tr>\n",
       "  <th>Df Model:</th>               <td>     9</td>       <th>                     </th>      <td> </td>     \n",
       "</tr>\n",
       "<tr>\n",
       "  <th>Covariance Type:</th>       <td>nonrobust</td>     <th>                     </th>      <td> </td>     \n",
       "</tr>\n",
       "</table>\n",
       "<table class=\"simpletable\">\n",
       "<tr>\n",
       "          <td></td>            <th>coef</th>     <th>std err</th>      <th>t</th>      <th>P>|t|</th>  <th>[0.025</th>    <th>0.975]</th>  \n",
       "</tr>\n",
       "<tr>\n",
       "  <th>const</th>            <td> 2413.4103</td> <td>    1.658</td> <td> 1455.226</td> <td> 0.000</td> <td> 2410.160</td> <td> 2416.661</td>\n",
       "</tr>\n",
       "<tr>\n",
       "  <th>Overtime</th>         <td>   11.9698</td> <td>    0.813</td> <td>   14.715</td> <td> 0.000</td> <td>   10.375</td> <td>   13.564</td>\n",
       "</tr>\n",
       "<tr>\n",
       "  <th>Other_Salaries</th>   <td>   23.3904</td> <td>    0.847</td> <td>   27.612</td> <td> 0.000</td> <td>   21.730</td> <td>   25.051</td>\n",
       "</tr>\n",
       "<tr>\n",
       "  <th>Total_Salary</th>     <td>  989.2782</td> <td>    1.827</td> <td>  541.423</td> <td> 0.000</td> <td>  985.697</td> <td>  992.860</td>\n",
       "</tr>\n",
       "<tr>\n",
       "  <th>Health/Dental</th>    <td>  358.8735</td> <td>    1.349</td> <td>  266.123</td> <td> 0.000</td> <td>  356.230</td> <td>  361.517</td>\n",
       "</tr>\n",
       "<tr>\n",
       "  <th>Other_Benefits</th>   <td>  148.9871</td> <td>    1.627</td> <td>   91.597</td> <td> 0.000</td> <td>  145.799</td> <td>  152.175</td>\n",
       "</tr>\n",
       "<tr>\n",
       "  <th>Year_2014</th>        <td>   30.6724</td> <td>    2.020</td> <td>   15.184</td> <td> 0.000</td> <td>   26.713</td> <td>   34.632</td>\n",
       "</tr>\n",
       "<tr>\n",
       "  <th>Year_2015</th>        <td>   39.8592</td> <td>    2.014</td> <td>   19.792</td> <td> 0.000</td> <td>   35.912</td> <td>   43.807</td>\n",
       "</tr>\n",
       "<tr>\n",
       "  <th>Year_2016</th>        <td>  -10.9112</td> <td>    2.560</td> <td>   -4.262</td> <td> 0.000</td> <td>  -15.929</td> <td>   -5.893</td>\n",
       "</tr>\n",
       "<tr>\n",
       "  <th>Year_Type_Fiscal</th> <td>   -2.6032</td> <td>    1.639</td> <td>   -1.588</td> <td> 0.112</td> <td>   -5.816</td> <td>    0.610</td>\n",
       "</tr>\n",
       "</table>\n",
       "<table class=\"simpletable\">\n",
       "<tr>\n",
       "  <th>Omnibus:</th>       <td>2939.283</td> <th>  Durbin-Watson:     </th> <td>   1.992</td>\n",
       "</tr>\n",
       "<tr>\n",
       "  <th>Prob(Omnibus):</th>  <td> 0.000</td>  <th>  Jarque-Bera (JB):  </th> <td>8391.857</td>\n",
       "</tr>\n",
       "<tr>\n",
       "  <th>Skew:</th>           <td> 0.426</td>  <th>  Prob(JB):          </th> <td>    0.00</td>\n",
       "</tr>\n",
       "<tr>\n",
       "  <th>Kurtosis:</th>       <td> 5.148</td>  <th>  Cond. No.          </th> <td>    7.20</td>\n",
       "</tr>\n",
       "</table><br/><br/>Notes:<br/>[1] Standard Errors assume that the covariance matrix of the errors is correctly specified."
      ],
      "text/latex": [
       "\\begin{center}\n",
       "\\begin{tabular}{lclc}\n",
       "\\toprule\n",
       "\\textbf{Dep. Variable:}     & Total\\_Compensation & \\textbf{  R-squared:         } &      0.990   \\\\\n",
       "\\textbf{Model:}             &         OLS         & \\textbf{  Adj. R-squared:    } &      0.990   \\\\\n",
       "\\textbf{Method:}            &    Least Squares    & \\textbf{  F-statistic:       } &  4.030e+05   \\\\\n",
       "\\textbf{Date:}              &   Sun, 21 Jul 2024  & \\textbf{  Prob (F-statistic):} &      0.00    \\\\\n",
       "\\textbf{Time:}              &       18:00:39      & \\textbf{  Log-Likelihood:    } & -2.4169e+05  \\\\\n",
       "\\textbf{No. Observations:}  &         37721       & \\textbf{  AIC:               } &  4.834e+05   \\\\\n",
       "\\textbf{Df Residuals:}      &         37711       & \\textbf{  BIC:               } &  4.835e+05   \\\\\n",
       "\\textbf{Df Model:}          &             9       & \\textbf{                     } &              \\\\\n",
       "\\textbf{Covariance Type:}   &      nonrobust      & \\textbf{                     } &              \\\\\n",
       "\\bottomrule\n",
       "\\end{tabular}\n",
       "\\begin{tabular}{lcccccc}\n",
       "                            & \\textbf{coef} & \\textbf{std err} & \\textbf{t} & \\textbf{P$> |$t$|$} & \\textbf{[0.025} & \\textbf{0.975]}  \\\\\n",
       "\\midrule\n",
       "\\textbf{const}              &    2413.4103  &        1.658     &  1455.226  &         0.000        &     2410.160    &     2416.661     \\\\\n",
       "\\textbf{Overtime}           &      11.9698  &        0.813     &    14.715  &         0.000        &       10.375    &       13.564     \\\\\n",
       "\\textbf{Other\\_Salaries}    &      23.3904  &        0.847     &    27.612  &         0.000        &       21.730    &       25.051     \\\\\n",
       "\\textbf{Total\\_Salary}      &     989.2782  &        1.827     &   541.423  &         0.000        &      985.697    &      992.860     \\\\\n",
       "\\textbf{Health/Dental}      &     358.8735  &        1.349     &   266.123  &         0.000        &      356.230    &      361.517     \\\\\n",
       "\\textbf{Other\\_Benefits}    &     148.9871  &        1.627     &    91.597  &         0.000        &      145.799    &      152.175     \\\\\n",
       "\\textbf{Year\\_2014}         &      30.6724  &        2.020     &    15.184  &         0.000        &       26.713    &       34.632     \\\\\n",
       "\\textbf{Year\\_2015}         &      39.8592  &        2.014     &    19.792  &         0.000        &       35.912    &       43.807     \\\\\n",
       "\\textbf{Year\\_2016}         &     -10.9112  &        2.560     &    -4.262  &         0.000        &      -15.929    &       -5.893     \\\\\n",
       "\\textbf{Year\\_Type\\_Fiscal} &      -2.6032  &        1.639     &    -1.588  &         0.112        &       -5.816    &        0.610     \\\\\n",
       "\\bottomrule\n",
       "\\end{tabular}\n",
       "\\begin{tabular}{lclc}\n",
       "\\textbf{Omnibus:}       & 2939.283 & \\textbf{  Durbin-Watson:     } &    1.992  \\\\\n",
       "\\textbf{Prob(Omnibus):} &   0.000  & \\textbf{  Jarque-Bera (JB):  } & 8391.857  \\\\\n",
       "\\textbf{Skew:}          &   0.426  & \\textbf{  Prob(JB):          } &     0.00  \\\\\n",
       "\\textbf{Kurtosis:}      &   5.148  & \\textbf{  Cond. No.          } &     7.20  \\\\\n",
       "\\bottomrule\n",
       "\\end{tabular}\n",
       "%\\caption{OLS Regression Results}\n",
       "\\end{center}\n",
       "\n",
       "Notes: \\newline\n",
       " [1] Standard Errors assume that the covariance matrix of the errors is correctly specified."
      ],
      "text/plain": [
       "<class 'statsmodels.iolib.summary.Summary'>\n",
       "\"\"\"\n",
       "                            OLS Regression Results                            \n",
       "==============================================================================\n",
       "Dep. Variable:     Total_Compensation   R-squared:                       0.990\n",
       "Model:                            OLS   Adj. R-squared:                  0.990\n",
       "Method:                 Least Squares   F-statistic:                 4.030e+05\n",
       "Date:                Sun, 21 Jul 2024   Prob (F-statistic):               0.00\n",
       "Time:                        18:00:39   Log-Likelihood:            -2.4169e+05\n",
       "No. Observations:               37721   AIC:                         4.834e+05\n",
       "Df Residuals:                   37711   BIC:                         4.835e+05\n",
       "Df Model:                           9                                         \n",
       "Covariance Type:            nonrobust                                         \n",
       "====================================================================================\n",
       "                       coef    std err          t      P>|t|      [0.025      0.975]\n",
       "------------------------------------------------------------------------------------\n",
       "const             2413.4103      1.658   1455.226      0.000    2410.160    2416.661\n",
       "Overtime            11.9698      0.813     14.715      0.000      10.375      13.564\n",
       "Other_Salaries      23.3904      0.847     27.612      0.000      21.730      25.051\n",
       "Total_Salary       989.2782      1.827    541.423      0.000     985.697     992.860\n",
       "Health/Dental      358.8735      1.349    266.123      0.000     356.230     361.517\n",
       "Other_Benefits     148.9871      1.627     91.597      0.000     145.799     152.175\n",
       "Year_2014           30.6724      2.020     15.184      0.000      26.713      34.632\n",
       "Year_2015           39.8592      2.014     19.792      0.000      35.912      43.807\n",
       "Year_2016          -10.9112      2.560     -4.262      0.000     -15.929      -5.893\n",
       "Year_Type_Fiscal    -2.6032      1.639     -1.588      0.112      -5.816       0.610\n",
       "==============================================================================\n",
       "Omnibus:                     2939.283   Durbin-Watson:                   1.992\n",
       "Prob(Omnibus):                  0.000   Jarque-Bera (JB):             8391.857\n",
       "Skew:                           0.426   Prob(JB):                         0.00\n",
       "Kurtosis:                       5.148   Cond. No.                         7.20\n",
       "==============================================================================\n",
       "\n",
       "Notes:\n",
       "[1] Standard Errors assume that the covariance matrix of the errors is correctly specified.\n",
       "\"\"\""
      ]
     },
     "execution_count": 68,
     "metadata": {},
     "output_type": "execute_result"
    }
   ],
   "source": [
    "ols_mod.summary()"
   ]
  },
  {
   "cell_type": "code",
   "execution_count": 70,
   "metadata": {},
   "outputs": [
    {
     "data": {
      "application/javascript": "\n        if (window._pyforest_update_imports_cell) { window._pyforest_update_imports_cell('import sklearn\\nimport statsmodels.api as sm\\nfrom sklearn.preprocessing import StandardScaler\\nimport matplotlib.pyplot as plt\\nimport pandas as pd\\nimport seaborn as sns\\nfrom sklearn.preprocessing import PolynomialFeatures\\nimport statistics\\nfrom sklearn.impute import SimpleImputer\\nimport numpy as np\\nimport datetime as dt\\nfrom scipy import stats'); }\n    ",
      "text/plain": [
       "<IPython.core.display.Javascript object>"
      ]
     },
     "metadata": {},
     "output_type": "display_data"
    },
    {
     "data": {
      "text/plain": [
       "34.683597228546525"
      ]
     },
     "execution_count": 70,
     "metadata": {},
     "output_type": "execute_result"
    }
   ],
   "source": [
    "# here if the overtime is increased by one unit then the total compensation is going to increase by 34.68 $ dollars\n",
    "np.power(11.9698, 1/0.7)"
   ]
  },
  {
   "cell_type": "code",
   "execution_count": 71,
   "metadata": {},
   "outputs": [
    {
     "data": {
      "text/html": [
       "<table class=\"simpletable\">\n",
       "<tr>\n",
       "        <td>Model:</td>                <td>OLS</td>          <td>Adj. R-squared:</td>      <td>0.990</td>   \n",
       "</tr>\n",
       "<tr>\n",
       "  <td>Dependent Variable:</td> <td>Total_Compensation</td>        <td>AIC:</td>         <td>483392.7573</td>\n",
       "</tr>\n",
       "<tr>\n",
       "         <td>Date:</td>         <td>2024-07-21 18:03</td>         <td>BIC:</td>         <td>483478.1370</td>\n",
       "</tr>\n",
       "<tr>\n",
       "   <td>No. Observations:</td>         <td>37721</td>         <td>Log-Likelihood:</td>   <td>-2.4169e+05</td>\n",
       "</tr>\n",
       "<tr>\n",
       "       <td>Df Model:</td>               <td>9</td>            <td>F-statistic:</td>      <td>4.030e+05</td> \n",
       "</tr>\n",
       "<tr>\n",
       "     <td>Df Residuals:</td>           <td>37711</td>       <td>Prob (F-statistic):</td>    <td>0.00</td>    \n",
       "</tr>\n",
       "<tr>\n",
       "      <td>R-squared:</td>             <td>0.990</td>             <td>Scale:</td>          <td>21522.</td>   \n",
       "</tr>\n",
       "</table>\n",
       "<table class=\"simpletable\">\n",
       "<tr>\n",
       "          <td></td>           <th>Coef.</th>   <th>Std.Err.</th>     <th>t</th>      <th>P>|t|</th>  <th>[0.025</th>    <th>0.975]</th>  \n",
       "</tr>\n",
       "<tr>\n",
       "  <th>const</th>            <td>2413.4103</td>  <td>1.6584</td>  <td>1455.2257</td> <td>0.0000</td> <td>2410.1597</td> <td>2416.6609</td>\n",
       "</tr>\n",
       "<tr>\n",
       "  <th>Overtime</th>          <td>11.9698</td>   <td>0.8134</td>   <td>14.7152</td>  <td>0.0000</td>  <td>10.3754</td>   <td>13.5641</td> \n",
       "</tr>\n",
       "<tr>\n",
       "  <th>Other_Salaries</th>    <td>23.3904</td>   <td>0.8471</td>   <td>27.6118</td>  <td>0.0000</td>  <td>21.7300</td>   <td>25.0507</td> \n",
       "</tr>\n",
       "<tr>\n",
       "  <th>Total_Salary</th>     <td>989.2782</td>   <td>1.8272</td>  <td>541.4226</td>  <td>0.0000</td> <td>985.6969</td>  <td>992.8595</td> \n",
       "</tr>\n",
       "<tr>\n",
       "  <th>Health/Dental</th>    <td>358.8735</td>   <td>1.3485</td>  <td>266.1235</td>  <td>0.0000</td> <td>356.2303</td>  <td>361.5166</td> \n",
       "</tr>\n",
       "<tr>\n",
       "  <th>Other_Benefits</th>   <td>148.9871</td>   <td>1.6266</td>   <td>91.5965</td>  <td>0.0000</td> <td>145.7990</td>  <td>152.1752</td> \n",
       "</tr>\n",
       "<tr>\n",
       "  <th>Year_2014</th>         <td>30.6724</td>   <td>2.0201</td>   <td>15.1837</td>  <td>0.0000</td>  <td>26.7130</td>   <td>34.6319</td> \n",
       "</tr>\n",
       "<tr>\n",
       "  <th>Year_2015</th>         <td>39.8592</td>   <td>2.0140</td>   <td>19.7916</td>  <td>0.0000</td>  <td>35.9118</td>   <td>43.8066</td> \n",
       "</tr>\n",
       "<tr>\n",
       "  <th>Year_2016</th>        <td>-10.9112</td>   <td>2.5601</td>   <td>-4.2620</td>  <td>0.0000</td> <td>-15.9292</td>   <td>-5.8933</td> \n",
       "</tr>\n",
       "<tr>\n",
       "  <th>Year_Type_Fiscal</th>  <td>-2.6032</td>   <td>1.6391</td>   <td>-1.5882</td>  <td>0.1123</td>  <td>-5.8159</td>   <td>0.6096</td>  \n",
       "</tr>\n",
       "</table>\n",
       "<table class=\"simpletable\">\n",
       "<tr>\n",
       "     <td>Omnibus:</td>    <td>2939.283</td>  <td>Durbin-Watson:</td>     <td>1.992</td> \n",
       "</tr>\n",
       "<tr>\n",
       "  <td>Prob(Omnibus):</td>   <td>0.000</td>  <td>Jarque-Bera (JB):</td> <td>8391.857</td>\n",
       "</tr>\n",
       "<tr>\n",
       "       <td>Skew:</td>       <td>0.426</td>      <td>Prob(JB):</td>       <td>0.000</td> \n",
       "</tr>\n",
       "<tr>\n",
       "     <td>Kurtosis:</td>     <td>5.148</td>   <td>Condition No.:</td>       <td>7</td>   \n",
       "</tr>\n",
       "</table><br/>\n",
       "Notes:<br/>\n",
       "[1] Standard Errors assume that the covariance matrix of the errors is correctly specified."
      ],
      "text/latex": [
       "\\begin{table}\n",
       "\\caption{Results: Ordinary least squares}\n",
       "\\label{}\n",
       "\\begin{center}\n",
       "\\begin{tabular}{llll}\n",
       "\\hline\n",
       "Model:              & OLS                 & Adj. R-squared:     & 0.990        \\\\\n",
       "Dependent Variable: & Total\\_Compensation & AIC:                & 483392.7573  \\\\\n",
       "Date:               & 2024-07-21 18:03    & BIC:                & 483478.1370  \\\\\n",
       "No. Observations:   & 37721               & Log-Likelihood:     & -2.4169e+05  \\\\\n",
       "Df Model:           & 9                   & F-statistic:        & 4.030e+05    \\\\\n",
       "Df Residuals:       & 37711               & Prob (F-statistic): & 0.00         \\\\\n",
       "R-squared:          & 0.990               & Scale:              & 21522.       \\\\\n",
       "\\hline\n",
       "\\end{tabular}\n",
       "\\end{center}\n",
       "\n",
       "\\begin{center}\n",
       "\\begin{tabular}{lrrrrrr}\n",
       "\\hline\n",
       "                   &     Coef. & Std.Err. &         t & P$> |$t$|$ &    [0.025 &    0.975]  \\\\\n",
       "\\hline\n",
       "const              & 2413.4103 &   1.6584 & 1455.2257 &      0.0000 & 2410.1597 & 2416.6609  \\\\\n",
       "Overtime           &   11.9698 &   0.8134 &   14.7152 &      0.0000 &   10.3754 &   13.5641  \\\\\n",
       "Other\\_Salaries    &   23.3904 &   0.8471 &   27.6118 &      0.0000 &   21.7300 &   25.0507  \\\\\n",
       "Total\\_Salary      &  989.2782 &   1.8272 &  541.4226 &      0.0000 &  985.6969 &  992.8595  \\\\\n",
       "Health/Dental      &  358.8735 &   1.3485 &  266.1235 &      0.0000 &  356.2303 &  361.5166  \\\\\n",
       "Other\\_Benefits    &  148.9871 &   1.6266 &   91.5965 &      0.0000 &  145.7990 &  152.1752  \\\\\n",
       "Year\\_2014         &   30.6724 &   2.0201 &   15.1837 &      0.0000 &   26.7130 &   34.6319  \\\\\n",
       "Year\\_2015         &   39.8592 &   2.0140 &   19.7916 &      0.0000 &   35.9118 &   43.8066  \\\\\n",
       "Year\\_2016         &  -10.9112 &   2.5601 &   -4.2620 &      0.0000 &  -15.9292 &   -5.8933  \\\\\n",
       "Year\\_Type\\_Fiscal &   -2.6032 &   1.6391 &   -1.5882 &      0.1123 &   -5.8159 &    0.6096  \\\\\n",
       "\\hline\n",
       "\\end{tabular}\n",
       "\\end{center}\n",
       "\n",
       "\\begin{center}\n",
       "\\begin{tabular}{llll}\n",
       "\\hline\n",
       "Omnibus:       & 2939.283 & Durbin-Watson:    & 1.992     \\\\\n",
       "Prob(Omnibus): & 0.000    & Jarque-Bera (JB): & 8391.857  \\\\\n",
       "Skew:          & 0.426    & Prob(JB):         & 0.000     \\\\\n",
       "Kurtosis:      & 5.148    & Condition No.:    & 7         \\\\\n",
       "\\hline\n",
       "\\end{tabular}\n",
       "\\end{center}\n",
       "\\end{table}\n",
       "\\bigskip\n",
       "Notes: \\newline \n",
       "[1] Standard Errors assume that the covariance matrix of the errors is correctly specified."
      ],
      "text/plain": [
       "<class 'statsmodels.iolib.summary2.Summary'>\n",
       "\"\"\"\n",
       "                    Results: Ordinary least squares\n",
       "========================================================================\n",
       "Model:                OLS                Adj. R-squared:     0.990      \n",
       "Dependent Variable:   Total_Compensation AIC:                483392.7573\n",
       "Date:                 2024-07-21 18:03   BIC:                483478.1370\n",
       "No. Observations:     37721              Log-Likelihood:     -2.4169e+05\n",
       "Df Model:             9                  F-statistic:        4.030e+05  \n",
       "Df Residuals:         37711              Prob (F-statistic): 0.00       \n",
       "R-squared:            0.990              Scale:              21522.     \n",
       "------------------------------------------------------------------------\n",
       "                   Coef.   Std.Err.     t     P>|t|    [0.025    0.975] \n",
       "------------------------------------------------------------------------\n",
       "const            2413.4103   1.6584 1455.2257 0.0000 2410.1597 2416.6609\n",
       "Overtime           11.9698   0.8134   14.7152 0.0000   10.3754   13.5641\n",
       "Other_Salaries     23.3904   0.8471   27.6118 0.0000   21.7300   25.0507\n",
       "Total_Salary      989.2782   1.8272  541.4226 0.0000  985.6969  992.8595\n",
       "Health/Dental     358.8735   1.3485  266.1235 0.0000  356.2303  361.5166\n",
       "Other_Benefits    148.9871   1.6266   91.5965 0.0000  145.7990  152.1752\n",
       "Year_2014          30.6724   2.0201   15.1837 0.0000   26.7130   34.6319\n",
       "Year_2015          39.8592   2.0140   19.7916 0.0000   35.9118   43.8066\n",
       "Year_2016         -10.9112   2.5601   -4.2620 0.0000  -15.9292   -5.8933\n",
       "Year_Type_Fiscal   -2.6032   1.6391   -1.5882 0.1123   -5.8159    0.6096\n",
       "------------------------------------------------------------------------\n",
       "Omnibus:               2939.283        Durbin-Watson:           1.992   \n",
       "Prob(Omnibus):         0.000           Jarque-Bera (JB):        8391.857\n",
       "Skew:                  0.426           Prob(JB):                0.000   \n",
       "Kurtosis:              5.148           Condition No.:           7       \n",
       "========================================================================\n",
       "Notes:\n",
       "[1] Standard Errors assume that the covariance matrix of the errors is\n",
       "correctly specified.\n",
       "\"\"\""
      ]
     },
     "execution_count": 71,
     "metadata": {},
     "output_type": "execute_result"
    }
   ],
   "source": [
    "ols_mod.summary2()"
   ]
  },
  {
   "cell_type": "code",
   "execution_count": null,
   "metadata": {},
   "outputs": [],
   "source": [
    " "
   ]
  }
 ],
 "metadata": {
  "kernelspec": {
   "display_name": "base",
   "language": "python",
   "name": "python3"
  },
  "language_info": {
   "codemirror_mode": {
    "name": "ipython",
    "version": 3
   },
   "file_extension": ".py",
   "mimetype": "text/x-python",
   "name": "python",
   "nbconvert_exporter": "python",
   "pygments_lexer": "ipython3",
   "version": "3.11.7"
  }
 },
 "nbformat": 4,
 "nbformat_minor": 2
}
