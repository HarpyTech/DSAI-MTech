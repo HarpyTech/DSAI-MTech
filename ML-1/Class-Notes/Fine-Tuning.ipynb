{
 "cells": [
  {
   "cell_type": "markdown",
   "metadata": {},
   "source": [
    "## Fine Tuning the Model\n",
    "\n",
    "* **Biased Error**: Error produced by the model during the Fitting Stage (Training Stage).\n",
    "* **Variance Error**: Difference in prediction when model fits into diffrent data set.\n",
    "\n",
    "1. Biased Error is Low, Varinace Error is High then the model is ***Over Fitted Model***\n",
    "2. Biased Error is High, Varinace Error is Low then the model is ***Under Fitted Model***\n",
    "\n",
    "How to handle overfitted model ?\n",
    "> **Regularization**: \n",
    "> * Rich\n",
    "> * Lasso\n",
    "> * Elastic net"
   ]
  },
  {
   "cell_type": "markdown",
   "metadata": {},
   "source": [
    "SSE = $\\sum((Y_a - Y_p)^2)$\n",
    "\n",
    "= $\\sum((y-b_1 \\times x_1 - b_0)^2)$\n",
    "\n",
    "=  $\\sum((y-b_1 \\times x_1 - b_0)^2) + P$ here the $P$ is penality constant is called ***Regularization*** \n",
    "\n",
    "= $\\sum((y -b_1 \\times x_1 - b_2 \\times x_2 - b_0)^2) + \\lambda (\\beta1 ^ 2 + \\beta2 ^ 2)$ here the lamda of beta is called Hyper Parameter $L_2$.\n",
    "\n",
    "= $\\sum((y -b_1 \\times x_1 - b_2 \\times x_2 - b_0)^2) + \\lambda (\\beta1 + \\beta2)$ here the lamda of beta is called Hyper Parameter $L_1$ norm which defines ***Lasso Regularization***.\n",
    "\n",
    "= $\\sum((y -b_1 \\times x_1 - b_2 \\times x_2 - b_0)^2) + L_2 + L_1$ which defines ***Elasto Regularization***."
   ]
  },
  {
   "cell_type": "markdown",
   "metadata": {},
   "source": []
  },
  {
   "cell_type": "code",
   "execution_count": null,
   "metadata": {},
   "outputs": [],
   "source": [
    "# !pip install optuna"
   ]
  },
  {
   "cell_type": "code",
   "execution_count": 4,
   "metadata": {},
   "outputs": [
    {
     "name": "stderr",
     "output_type": "stream",
     "text": [
      "c:\\Users\\lokesh\\anaconda3\\Lib\\site-packages\\tqdm\\auto.py:21: TqdmWarning: IProgress not found. Please update jupyter and ipywidgets. See https://ipywidgets.readthedocs.io/en/stable/user_install.html\n",
      "  from .autonotebook import tqdm as notebook_tqdm\n"
     ]
    }
   ],
   "source": [
    "import pyforest\n",
    "import optuna\n",
    "from sklearn.model_selection import cross_val_score"
   ]
  },
  {
   "cell_type": "code",
   "execution_count": 5,
   "metadata": {},
   "outputs": [
    {
     "data": {
      "application/javascript": "\n        if (window._pyforest_update_imports_cell) { window._pyforest_update_imports_cell('import pandas as pd\\nimport pickle'); }\n    ",
      "text/plain": [
       "<IPython.core.display.Javascript object>"
      ]
     },
     "metadata": {},
     "output_type": "display_data"
    }
   ],
   "source": [
    "data=pd.read_csv('../data-sets/IPL_IMB_data.csv')"
   ]
  },
  {
   "cell_type": "code",
   "execution_count": null,
   "metadata": {},
   "outputs": [],
   "source": []
  }
 ],
 "metadata": {
  "kernelspec": {
   "display_name": "base",
   "language": "python",
   "name": "python3"
  },
  "language_info": {
   "codemirror_mode": {
    "name": "ipython",
    "version": 3
   },
   "file_extension": ".py",
   "mimetype": "text/x-python",
   "name": "python",
   "nbconvert_exporter": "python",
   "pygments_lexer": "ipython3",
   "version": "3.11.7"
  }
 },
 "nbformat": 4,
 "nbformat_minor": 2
}
