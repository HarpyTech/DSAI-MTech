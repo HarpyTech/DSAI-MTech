{
 "cells": [
  {
   "cell_type": "markdown",
   "metadata": {},
   "source": [
    "## Fine Tuning the Model\n",
    "\n",
    "* **Biased Error**: Error produced by the model during the Fitting Stage (Training Stage).\n",
    "* **Variance Error**: Difference in prediction when model fits into diffrent data set.\n",
    "\n",
    "1. Biased Error is Low, Varinace Error is High then the model is ***Over Fitted Model***\n",
    "2. Biased Error is High, Varinace Error is Low then the model is ***Under Fitted Model***\n",
    "\n",
    "How to handle overfitted model ?\n",
    "> **Regularization**: \n",
    "> * Rich\n",
    "> * Lasso\n",
    "> * Elastic net"
   ]
  },
  {
   "cell_type": "markdown",
   "metadata": {},
   "source": [
    "SSE  ---> \n",
    "\n",
    "= $sum((Y_a - Y_p)^2)$\n",
    "\n",
    "= $sum((y-b_1*x_1 - b_0)^2)$\n",
    "\n",
    "=  $sum((y-b_1*x_1 - b_0)^2) + penality$ here the penality is called ***Regularization*** \n",
    "\n",
    "= $sum((y -b_1*x_1 - b_2*x_2 - b_0)^2) + \\lambda (\\beta_one ^ 2 + \\beta_two ^ 2)$ here the lamda of beta is called Hyper Parameter L2.\n",
    "\n",
    "= $sum((y -b_1*x_1 - b_2*x_2 - b_0)^2) + \\lambda (\\beta_one + \\beta_two)$ here the lamda of beta is called Hyper Parameter L1 norm which defines ***Lasso Regularization***.\n",
    "\n",
    "= $sum((y -b_1*x_1 - b_2*x_2 - b_0)^2) + L2 + L1$ which defines ***Elasto Regularization***."
   ]
  },
  {
   "cell_type": "markdown",
   "metadata": {},
   "source": []
  },
  {
   "cell_type": "markdown",
   "metadata": {},
   "source": []
  },
  {
   "cell_type": "code",
   "execution_count": 2,
   "metadata": {},
   "outputs": [],
   "source": [
    "import pyforest"
   ]
  },
  {
   "cell_type": "code",
   "execution_count": null,
   "metadata": {},
   "outputs": [],
   "source": []
  }
 ],
 "metadata": {
  "kernelspec": {
   "display_name": "base",
   "language": "python",
   "name": "python3"
  },
  "language_info": {
   "codemirror_mode": {
    "name": "ipython",
    "version": 3
   },
   "file_extension": ".py",
   "mimetype": "text/x-python",
   "name": "python",
   "nbconvert_exporter": "python",
   "pygments_lexer": "ipython3",
   "version": "3.11.7"
  }
 },
 "nbformat": 4,
 "nbformat_minor": 2
}
