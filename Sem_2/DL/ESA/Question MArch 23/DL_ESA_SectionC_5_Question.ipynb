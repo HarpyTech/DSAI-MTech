{
 "cells": [
  {
   "cell_type": "markdown",
   "id": "41317547",
   "metadata": {},
   "source": [
    "### March 2023: END SEMESTER ASSESSMENT (ESA) \n",
    "## M. TECH DATA SCIENCE AND MACHINE LEARNING_ SEMESTER II\n",
    "\n",
    "### UE20CS935 : Introduction to Deep Learning and Applications\n",
    "\n",
    "### Section C Q5"
   ]
  },
  {
   "cell_type": "markdown",
   "id": "58d5aa9b",
   "metadata": {
    "id": "c629d9f1"
   },
   "source": [
    "#### Section C: Question 5:    (15 Marks)\n",
    "\n",
    "<u>**The Problem Statement**</u>\n",
    "\n",
    "The human gastrointestinal (GI) tract is made up of different sections, one of them being the large bowel. Several types of anomalies and diseases can affect the large bowel, such as colorectal cancer. Colorectal cancer is the second most common cancer type among women and third most common among men. Polyps are precursors to colorectal cancer, and is found in nearly half of the individuals at age 50 having a screening colonoscopy, and are increasing with age. Colonoscopy is the gold standard for detection and assessment of these polyps with subsequent biopsy and removal of the polyps. Early disease detection has a huge impact on survival from colorectal cancer, and polyp detection is therefore important. In addition, several studies have shown that polyps are often overlooked during colonoscopies, with polyp miss rates of 14%-30% depending on the type and size of the polyps. Increasing the detection of polyps has been shown to decrease risk of colorectal cancer. Thus, automatic detection of more polyps at an early stage can play a crucial role in improving both prevention of and survival from colorectal cancer.\n",
    "\n",
    "<u> **Dataset Details** </u> \n",
    "\n",
    "The dataset contains 247 polyp images and their corresponding masks.The resolution of the images varies from 332x487 to 1920x1072 pixels. The images and its corresponding masks are stored in two separate folders. Find the dataset under the folder **“polyp_segmentation_dataset”**.\n",
    "\n",
    "<u> **The Task** </u> \n",
    "\n",
    "Develop a Semantic segmentation model using Unet architecture on the given dataset.\n",
    "\n",
    "Students can make use of pre-trained Unet segmentation model using the library\n",
    " - **import segmentation_models as sm**\n",
    "\n",
    "<u> **Hints** </u>\n",
    "\n",
    "1. Load all the images in one array of size 247x128x128x1\n",
    "    Where 247 is total number of trained images,\n",
    "    128x128x1 is each image size\n",
    "2. Load all the masks in one array of size 247x128x128x1\n",
    "3. Scale both the above two arrays\n",
    "4. Split the data into train and test\n",
    "5. Define the pre-trained segmentation model. Use encoder_weight=None, If internet access is not available.\n",
    "6. Compile with appropriate loss and metric and fit the data into it.\n",
    "7. Reduce the batch_size to 1 or 2, if you get any memory related error \n",
    "\n",
    "**Run the model for minimum 2 epochs and present your result. The solution will be evaluated based on approach only as it take lot of epochs to produce good result.**\n"
   ]
  },
  {
   "cell_type": "code",
   "execution_count": null,
   "id": "cbef0860",
   "metadata": {
    "id": "717bda92"
   },
   "outputs": [],
   "source": [
    "import os\n",
    "import cv2\n",
    "from PIL import Image\n",
    "import tensorflow as tf\n",
    "import numpy as np\n",
    "from matplotlib import pyplot as plt\n",
    "import segmentation_models as sm\n",
    "from sklearn.model_selection import train_test_split\n",
    "from PIL import Image\n",
    "from tensorflow.keras.utils import normalize\n",
    "import os\n",
    "os.environ[\"CUDA_DEVICE_ORDER\"]=\"PCI_BUS_ID\"\n",
    "os.environ[\"CUDA_VISIBLE_DEVICES\"]=\"0\""
   ]
  },
  {
   "cell_type": "code",
   "execution_count": 1,
   "id": "97f925cf",
   "metadata": {},
   "outputs": [],
   "source": [
    "# hint : uncomment  below to fetch path\n",
    "\n",
    "#image_dir= 'polyp_segmentation_dataset/images/'\n",
    "#mask_dir = 'polyp_segmentation_dataset/masks/'"
   ]
  },
  {
   "cell_type": "code",
   "execution_count": null,
   "id": "e08ac511",
   "metadata": {},
   "outputs": [],
   "source": []
  },
  {
   "cell_type": "code",
   "execution_count": null,
   "id": "2162f4ce",
   "metadata": {},
   "outputs": [],
   "source": []
  },
  {
   "cell_type": "code",
   "execution_count": null,
   "id": "f52fa3ec",
   "metadata": {},
   "outputs": [],
   "source": []
  },
  {
   "cell_type": "code",
   "execution_count": null,
   "id": "78f70adc",
   "metadata": {},
   "outputs": [],
   "source": []
  },
  {
   "cell_type": "code",
   "execution_count": null,
   "id": "c71b9031",
   "metadata": {
    "colab": {
     "base_uri": "https://localhost:8080/"
    },
    "id": "tFZCUDKAmi6A",
    "outputId": "afbc2e5e-d723-4880-f54b-d9f6fe401388"
   },
   "outputs": [],
   "source": [
    "#load the Unet model using the below syntax\n",
    "BACKBONE = 'resnet34'\n",
    "model_resnet_backbone = sm.Unet(BACKBONE, input_shape=(128,128,1), encoder_weights=None, classes=1, activation='sigmoid')"
   ]
  }
 ],
 "metadata": {
  "colab": {
   "name": "DL_ESA_SectionC_5-Solution.ipynb",
   "provenance": []
  },
  "kernelspec": {
   "display_name": "Python [conda env:myenv]",
   "language": "python",
   "name": "conda-env-myenv-py"
  },
  "language_info": {
   "codemirror_mode": {
    "name": "ipython",
    "version": 3
   },
   "file_extension": ".py",
   "mimetype": "text/x-python",
   "name": "python",
   "nbconvert_exporter": "python",
   "pygments_lexer": "ipython3",
   "version": "3.7.13"
  }
 },
 "nbformat": 4,
 "nbformat_minor": 5
}
