{
  "nbformat": 4,
  "nbformat_minor": 0,
  "metadata": {
    "colab": {
      "provenance": [],
      "gpuType": "T4",
      "authorship_tag": "ABX9TyOM3JCqPOqRCl40K3oLfafa"
    },
    "kernelspec": {
      "name": "python3",
      "display_name": "Python 3"
    },
    "language_info": {
      "name": "python"
    },
    "accelerator": "GPU"
  },
  "cells": [
    {
      "cell_type": "markdown",
      "source": [
        "# Deep Learning\n",
        "\n",
        "\n",
        "### Case Study - ANN"
      ],
      "metadata": {
        "id": "i0D_NafiBQVG"
      }
    },
    {
      "cell_type": "code",
      "execution_count": 4,
      "metadata": {
        "id": "kDEKackDBLhW"
      },
      "outputs": [],
      "source": [
        "import numpy as np\n",
        "import pandas as pd\n",
        "import matplotlib.pyplot as plt\n",
        "import seaborn as sns\n",
        "\n",
        "import warnings\n",
        "warnings.filterwarnings('ignore')\n",
        "\n",
        "import tensorflow as tf\n",
        "from tensorflow import keras\n",
        "from tensorflow.keras import layers\n",
        "import keras as ks\n",
        "\n",
        "from tensorflow.keras import Sequential\n",
        "from tensorflow.keras.layers import Dense, Dropout, Flatten, BatchNormalization\n"
      ]
    },
    {
      "cell_type": "code",
      "source": [
        "(x_train, y_train), (x_test, y_test) = tf.keras.datasets.cifar10.load_data()\n"
      ],
      "metadata": {
        "colab": {
          "base_uri": "https://localhost:8080/"
        },
        "id": "-nUUKAmjBidb",
        "outputId": "7b548a8f-059d-4220-a6a1-8aa531ed11ca"
      },
      "execution_count": 5,
      "outputs": [
        {
          "output_type": "stream",
          "name": "stdout",
          "text": [
            "Downloading data from https://www.cs.toronto.edu/~kriz/cifar-10-python.tar.gz\n",
            "\u001b[1m170498071/170498071\u001b[0m \u001b[32m━━━━━━━━━━━━━━━━━━━━\u001b[0m\u001b[37m\u001b[0m \u001b[1m19s\u001b[0m 0us/step\n"
          ]
        }
      ]
    },
    {
      "cell_type": "code",
      "source": [
        "x_train.shape"
      ],
      "metadata": {
        "colab": {
          "base_uri": "https://localhost:8080/"
        },
        "id": "sbqHYb_KCxDb",
        "outputId": "1817e353-17a7-4092-f04b-7333ce2983c8"
      },
      "execution_count": 6,
      "outputs": [
        {
          "output_type": "execute_result",
          "data": {
            "text/plain": [
              "(50000, 32, 32, 3)"
            ]
          },
          "metadata": {},
          "execution_count": 6
        }
      ]
    },
    {
      "cell_type": "code",
      "source": [
        "plt.imshow(x_train[2, : , :, :])"
      ],
      "metadata": {
        "colab": {
          "base_uri": "https://localhost:8080/",
          "height": 447
        },
        "id": "Rm-gg4TIDIAr",
        "outputId": "de8e0be7-26c2-4769-d749-36cd89232565"
      },
      "execution_count": 10,
      "outputs": [
        {
          "output_type": "execute_result",
          "data": {
            "text/plain": [
              "<matplotlib.image.AxesImage at 0x7981cb79b910>"
            ]
          },
          "metadata": {},
          "execution_count": 10
        },
        {
          "output_type": "display_data",
          "data": {
            "text/plain": [
              "<Figure size 640x480 with 1 Axes>"
            ],
            "image/png": "[encoded data removed]"
          },
          "metadata": {}
        }
      ]
    },
    {
      "cell_type": "code",
      "source": [
        "# Scaling - to make the numerical value ranges from 0 to 1, instead of 0 to 255.\n",
        "# To make the Models understand better / stabilize the Learning process\n",
        "x_train = x_train / 255\n",
        "x_test = x_test / 255\n",
        "\n",
        "# Apply One Hot Encoding on y_train\n",
        "y_train = tf.keras.utils.to_categorical(y_train, 10)\n",
        "y_test = tf.keras.utils.to_categorical(y_test, 10)\n",
        "\n",
        "# Flatten the input\n",
        "x_train = x_train.reshape(50000, 32*32*3)\n",
        "x_test = x_test.reshape(10000, 32*32*3)"
      ],
      "metadata": {
        "id": "Ohjy_COHDcP7"
      },
      "execution_count": 11,
      "outputs": []
    },
    {
      "cell_type": "code",
      "source": [
        "# Model Building\n",
        "tf.keras.backend.clear_session()\n",
        "\n",
        "model = Sequential()\n",
        "model.add(Dense(128, activation='relu', input_shape=(3072,)))\n",
        "model.add(Dense(100, activation='relu'))\n",
        "model.add(Dense(64, activation='relu'))\n",
        "\n",
        "model.add(Dense(10, activation='softmax'))\n",
        "model.summary()\n"
      ],
      "metadata": {
        "colab": {
          "base_uri": "https://localhost:8080/",
          "height": 262
        },
        "id": "0m0ZiO-uEXqP",
        "outputId": "131a9fa3-b6eb-46f1-d635-3ebe72b6f4af"
      },
      "execution_count": 12,
      "outputs": [
        {
          "output_type": "display_data",
          "data": {
            "text/plain": [
              "\u001b[1mModel: \"sequential\"\u001b[0m\n"
            ],
            "text/html": [
              "<pre style=\"white-space:pre;overflow-x:auto;line-height:normal;font-family:Menlo,'DejaVu Sans Mono',consolas,'Courier New',monospace\"><span style=\"font-weight: bold\">Model: \"sequential\"</span>\n",
              "</pre>\n"
            ]
          },
          "metadata": {}
        },
        {
          "output_type": "display_data",
          "data": {
            "text/plain": [
              "┏━━━━━━━━━━━━━━━━━━━━━━━━━━━━━━━━━━━━━━┳━━━━━━━━━━━━━━━━━━━━━━━━━━━━━┳━━━━━━━━━━━━━━━━━┓\n",
              "┃\u001b[1m \u001b[0m\u001b[1mLayer (type)                        \u001b[0m\u001b[1m \u001b[0m┃\u001b[1m \u001b[0m\u001b[1mOutput Shape               \u001b[0m\u001b[1m \u001b[0m┃\u001b[1m \u001b[0m\u001b[1m        Param #\u001b[0m\u001b[1m \u001b[0m┃\n",
              "┡━━━━━━━━━━━━━━━━━━━━━━━━━━━━━━━━━━━━━━╇━━━━━━━━━━━━━━━━━━━━━━━━━━━━━╇━━━━━━━━━━━━━━━━━┩\n",
              "│ dense (\u001b[38;5;33mDense\u001b[0m)                        │ (\u001b[38;5;45mNone\u001b[0m, \u001b[38;5;34m128\u001b[0m)                 │         \u001b[38;5;34m393,344\u001b[0m │\n",
              "├──────────────────────────────────────┼─────────────────────────────┼─────────────────┤\n",
              "│ dense_1 (\u001b[38;5;33mDense\u001b[0m)                      │ (\u001b[38;5;45mNone\u001b[0m, \u001b[38;5;34m100\u001b[0m)                 │          \u001b[38;5;34m12,900\u001b[0m │\n",
              "├──────────────────────────────────────┼─────────────────────────────┼─────────────────┤\n",
              "│ dense_2 (\u001b[38;5;33mDense\u001b[0m)                      │ (\u001b[38;5;45mNone\u001b[0m, \u001b[38;5;34m64\u001b[0m)                  │           \u001b[38;5;34m6,464\u001b[0m │\n",
              "├──────────────────────────────────────┼─────────────────────────────┼─────────────────┤\n",
              "│ dense_3 (\u001b[38;5;33mDense\u001b[0m)                      │ (\u001b[38;5;45mNone\u001b[0m, \u001b[38;5;34m10\u001b[0m)                  │             \u001b[38;5;34m650\u001b[0m │\n",
              "└──────────────────────────────────────┴─────────────────────────────┴─────────────────┘\n"
            ],
            "text/html": [
              "<pre style=\"white-space:pre;overflow-x:auto;line-height:normal;font-family:Menlo,'DejaVu Sans Mono',consolas,'Courier New',monospace\">┏━━━━━━━━━━━━━━━━━━━━━━━━━━━━━━━━━━━━━━┳━━━━━━━━━━━━━━━━━━━━━━━━━━━━━┳━━━━━━━━━━━━━━━━━┓\n",
              "┃<span style=\"font-weight: bold\"> Layer (type)                         </span>┃<span style=\"font-weight: bold\"> Output Shape                </span>┃<span style=\"font-weight: bold\">         Param # </span>┃\n",
              "┡━━━━━━━━━━━━━━━━━━━━━━━━━━━━━━━━━━━━━━╇━━━━━━━━━━━━━━━━━━━━━━━━━━━━━╇━━━━━━━━━━━━━━━━━┩\n",
              "│ dense (<span style=\"color: #0087ff; text-decoration-color: #0087ff\">Dense</span>)                        │ (<span style=\"color: #00d7ff; text-decoration-color: #00d7ff\">None</span>, <span style=\"color: #00af00; text-decoration-color: #00af00\">128</span>)                 │         <span style=\"color: #00af00; text-decoration-color: #00af00\">393,344</span> │\n",
              "├──────────────────────────────────────┼─────────────────────────────┼─────────────────┤\n",
              "│ dense_1 (<span style=\"color: #0087ff; text-decoration-color: #0087ff\">Dense</span>)                      │ (<span style=\"color: #00d7ff; text-decoration-color: #00d7ff\">None</span>, <span style=\"color: #00af00; text-decoration-color: #00af00\">100</span>)                 │          <span style=\"color: #00af00; text-decoration-color: #00af00\">12,900</span> │\n",
              "├──────────────────────────────────────┼─────────────────────────────┼─────────────────┤\n",
              "│ dense_2 (<span style=\"color: #0087ff; text-decoration-color: #0087ff\">Dense</span>)                      │ (<span style=\"color: #00d7ff; text-decoration-color: #00d7ff\">None</span>, <span style=\"color: #00af00; text-decoration-color: #00af00\">64</span>)                  │           <span style=\"color: #00af00; text-decoration-color: #00af00\">6,464</span> │\n",
              "├──────────────────────────────────────┼─────────────────────────────┼─────────────────┤\n",
              "│ dense_3 (<span style=\"color: #0087ff; text-decoration-color: #0087ff\">Dense</span>)                      │ (<span style=\"color: #00d7ff; text-decoration-color: #00d7ff\">None</span>, <span style=\"color: #00af00; text-decoration-color: #00af00\">10</span>)                  │             <span style=\"color: #00af00; text-decoration-color: #00af00\">650</span> │\n",
              "└──────────────────────────────────────┴─────────────────────────────┴─────────────────┘\n",
              "</pre>\n"
            ]
          },
          "metadata": {}
        },
        {
          "output_type": "display_data",
          "data": {
            "text/plain": [
              "\u001b[1m Total params: \u001b[0m\u001b[38;5;34m413,358\u001b[0m (1.58 MB)\n"
            ],
            "text/html": [
              "<pre style=\"white-space:pre;overflow-x:auto;line-height:normal;font-family:Menlo,'DejaVu Sans Mono',consolas,'Courier New',monospace\"><span style=\"font-weight: bold\"> Total params: </span><span style=\"color: #00af00; text-decoration-color: #00af00\">413,358</span> (1.58 MB)\n",
              "</pre>\n"
            ]
          },
          "metadata": {}
        },
        {
          "output_type": "display_data",
          "data": {
            "text/plain": [
              "\u001b[1m Trainable params: \u001b[0m\u001b[38;5;34m413,358\u001b[0m (1.58 MB)\n"
            ],
            "text/html": [
              "<pre style=\"white-space:pre;overflow-x:auto;line-height:normal;font-family:Menlo,'DejaVu Sans Mono',consolas,'Courier New',monospace\"><span style=\"font-weight: bold\"> Trainable params: </span><span style=\"color: #00af00; text-decoration-color: #00af00\">413,358</span> (1.58 MB)\n",
              "</pre>\n"
            ]
          },
          "metadata": {}
        },
        {
          "output_type": "display_data",
          "data": {
            "text/plain": [
              "\u001b[1m Non-trainable params: \u001b[0m\u001b[38;5;34m0\u001b[0m (0.00 B)\n"
            ],
            "text/html": [
              "<pre style=\"white-space:pre;overflow-x:auto;line-height:normal;font-family:Menlo,'DejaVu Sans Mono',consolas,'Courier New',monospace\"><span style=\"font-weight: bold\"> Non-trainable params: </span><span style=\"color: #00af00; text-decoration-color: #00af00\">0</span> (0.00 B)\n",
              "</pre>\n"
            ]
          },
          "metadata": {}
        }
      ]
    },
    {
      "cell_type": "markdown",
      "source": [
        "Here the Params 393,344 is 32 * 32 * 3 * 128 ( nuerons)"
      ],
      "metadata": {
        "id": "KkWWe77YF2G6"
      }
    },
    {
      "cell_type": "code",
      "source": [
        "sgd = keras.optimizers.SGD(learning_rate=0.01, momentum=0.9)\n",
        "\n",
        "model.compile(loss='categorical_crossentropy', optimizer=sgd, metrics=['accuracy'])"
      ],
      "metadata": {
        "id": "XBRN8E_QFn8i"
      },
      "execution_count": 13,
      "outputs": []
    },
    {
      "cell_type": "code",
      "source": [
        "model.fit(\n",
        "    x_train,\n",
        "    y_train,\n",
        "    batch_size=32,\n",
        "    epochs=10,\n",
        "    validation_data=(x_test, y_test)\n",
        ")"
      ],
      "metadata": {
        "colab": {
          "base_uri": "https://localhost:8080/"
        },
        "id": "9pWj1gv9Gp1m",
        "outputId": "224a294e-e825-4bda-f90e-02eaca3cf98f"
      },
      "execution_count": 14,
      "outputs": [
        {
          "output_type": "stream",
          "name": "stdout",
          "text": [
            "Epoch 1/10\n",
            "\u001b[1m1563/1563\u001b[0m \u001b[32m━━━━━━━━━━━━━━━━━━━━\u001b[0m\u001b[37m\u001b[0m \u001b[1m7s\u001b[0m 3ms/step - accuracy: 0.2627 - loss: 1.9988 - val_accuracy: 0.3555 - val_loss: 1.7884\n",
            "Epoch 2/10\n",
            "\u001b[1m1563/1563\u001b[0m \u001b[32m━━━━━━━━━━━━━━━━━━━━\u001b[0m\u001b[37m\u001b[0m \u001b[1m3s\u001b[0m 2ms/step - accuracy: 0.3659 - loss: 1.7608 - val_accuracy: 0.3773 - val_loss: 1.7089\n",
            "Epoch 3/10\n",
            "\u001b[1m1563/1563\u001b[0m \u001b[32m━━━━━━━━━━━━━━━━━━━━\u001b[0m\u001b[37m\u001b[0m \u001b[1m4s\u001b[0m 2ms/step - accuracy: 0.3894 - loss: 1.6846 - val_accuracy: 0.3900 - val_loss: 1.6889\n",
            "Epoch 4/10\n",
            "\u001b[1m1563/1563\u001b[0m \u001b[32m━━━━━━━━━━━━━━━━━━━━\u001b[0m\u001b[37m\u001b[0m \u001b[1m3s\u001b[0m 2ms/step - accuracy: 0.4147 - loss: 1.6269 - val_accuracy: 0.4252 - val_loss: 1.5900\n",
            "Epoch 5/10\n",
            "\u001b[1m1563/1563\u001b[0m \u001b[32m━━━━━━━━━━━━━━━━━━━━\u001b[0m\u001b[37m\u001b[0m \u001b[1m3s\u001b[0m 2ms/step - accuracy: 0.4278 - loss: 1.5942 - val_accuracy: 0.4381 - val_loss: 1.5738\n",
            "Epoch 6/10\n",
            "\u001b[1m1563/1563\u001b[0m \u001b[32m━━━━━━━━━━━━━━━━━━━━\u001b[0m\u001b[37m\u001b[0m \u001b[1m3s\u001b[0m 2ms/step - accuracy: 0.4395 - loss: 1.5636 - val_accuracy: 0.4512 - val_loss: 1.5297\n",
            "Epoch 7/10\n",
            "\u001b[1m1563/1563\u001b[0m \u001b[32m━━━━━━━━━━━━━━━━━━━━\u001b[0m\u001b[37m\u001b[0m \u001b[1m4s\u001b[0m 2ms/step - accuracy: 0.4446 - loss: 1.5427 - val_accuracy: 0.4566 - val_loss: 1.5379\n",
            "Epoch 8/10\n",
            "\u001b[1m1563/1563\u001b[0m \u001b[32m━━━━━━━━━━━━━━━━━━━━\u001b[0m\u001b[37m\u001b[0m \u001b[1m4s\u001b[0m 2ms/step - accuracy: 0.4504 - loss: 1.5225 - val_accuracy: 0.4650 - val_loss: 1.5150\n",
            "Epoch 9/10\n",
            "\u001b[1m1563/1563\u001b[0m \u001b[32m━━━━━━━━━━━━━━━━━━━━\u001b[0m\u001b[37m\u001b[0m \u001b[1m3s\u001b[0m 2ms/step - accuracy: 0.4565 - loss: 1.5050 - val_accuracy: 0.4616 - val_loss: 1.5403\n",
            "Epoch 10/10\n",
            "\u001b[1m1563/1563\u001b[0m \u001b[32m━━━━━━━━━━━━━━━━━━━━\u001b[0m\u001b[37m\u001b[0m \u001b[1m3s\u001b[0m 2ms/step - accuracy: 0.4664 - loss: 1.4853 - val_accuracy: 0.4411 - val_loss: 1.5807\n"
          ]
        },
        {
          "output_type": "execute_result",
          "data": {
            "text/plain": [
              "<keras.src.callbacks.history.History at 0x7981cb737910>"
            ]
          },
          "metadata": {},
          "execution_count": 14
        }
      ]
    },
    {
      "cell_type": "markdown",
      "source": [
        "### Tensorflow Callbacks\n",
        "TensorFlow callbacks are powerful tools that allow you to customize and control the training process of a model. They provide hooks into the training, evaluation, and inference lifecycle, enabling actions like logging, learning rate scheduling, saving models, and more.\n",
        "\n",
        "Here are the common TensorFlow callbacks and their uses:\n",
        "\n",
        "---\n",
        "\n",
        "### 1. **ModelCheckpoint**\n",
        "   - **Purpose:** Save the model during training.\n",
        "   - **Key Features:**\n",
        "     - Save the best model based on a monitored metric.\n",
        "     - Save weights only or the entire model.\n",
        "     - Define frequency of saving (e.g., every epoch or batch).\n",
        "   - **Example:**\n",
        "     ```python\n",
        "     tf.keras.callbacks.ModelCheckpoint(\n",
        "         filepath='model_best.keras',\n",
        "         monitor='val_loss',\n",
        "         save_best_only=True,\n",
        "         save_weights_only=False\n",
        "     )\n",
        "     ```\n",
        "\n",
        "---\n",
        "\n",
        "### 2. **EarlyStopping**\n",
        "   - **Purpose:** Stop training early when the monitored metric stops improving.\n",
        "   - **Key Features:**\n",
        "     - Avoids overfitting.\n",
        "     - Monitors a specific metric like `val_loss`.\n",
        "     - Adds a patience parameter to wait for a certain number of epochs before stopping.\n",
        "   - **Example:**\n",
        "     ```python\n",
        "     tf.keras.callbacks.EarlyStopping(\n",
        "         monitor='val_loss',\n",
        "         patience=5,\n",
        "         restore_best_weights=True\n",
        "     )\n",
        "     ```\n",
        "\n",
        "---\n",
        "\n",
        "### 3. **LearningRateScheduler**\n",
        "   - **Purpose:** Dynamically adjust the learning rate during training.\n",
        "   - **Key Features:**\n",
        "     - Define a custom schedule as a function of the epoch.\n",
        "   - **Example:**\n",
        "     ```python\n",
        "     def lr_schedule(epoch):\n",
        "         initial_lr = 0.01\n",
        "         if epoch > 10:\n",
        "             return initial_lr * 0.1\n",
        "         return initial_lr\n",
        "\n",
        "     tf.keras.callbacks.LearningRateScheduler(lr_schedule)\n",
        "     ```\n",
        "\n",
        "---\n",
        "\n",
        "### 4. **ReduceLROnPlateau**\n",
        "   - **Purpose:** Reduce the learning rate when a monitored metric has stopped improving.\n",
        "   - **Key Features:**\n",
        "     - Automatically adjusts the learning rate during plateaus.\n",
        "   - **Example:**\n",
        "     ```python\n",
        "     tf.keras.callbacks.ReduceLROnPlateau(\n",
        "         monitor='val_loss',\n",
        "         factor=0.1,\n",
        "         patience=3,\n",
        "         min_lr=1e-6\n",
        "     )\n",
        "     ```\n",
        "\n",
        "---\n",
        "\n",
        "### 5. **TensorBoard**\n",
        "   - **Purpose:** Visualize training metrics, model graphs, and other statistics in TensorBoard.\n",
        "   - **Key Features:**\n",
        "     - Logs metrics during training.\n",
        "     - Allows real-time monitoring of training progress.\n",
        "   - **Example:**\n",
        "     ```python\n",
        "     tf.keras.callbacks.TensorBoard(\n",
        "         log_dir='logs',\n",
        "         histogram_freq=1\n",
        "     )\n",
        "     ```\n",
        "\n",
        "---\n",
        "\n",
        "### 6. **CSVLogger**\n",
        "   - **Purpose:** Logs training metrics into a CSV file.\n",
        "   - **Key Features:**\n",
        "     - Records epoch-level metrics.\n",
        "   - **Example:**\n",
        "     ```python\n",
        "     tf.keras.callbacks.CSVLogger(\n",
        "         filename='training_log.csv',\n",
        "         append=True\n",
        "     )\n",
        "     ```\n",
        "\n",
        "---\n",
        "\n",
        "### 7. **TerminateOnNaN**\n",
        "   - **Purpose:** Stops training when NaN values are encountered in loss or metrics.\n",
        "   - **Example:**\n",
        "     ```python\n",
        "     tf.keras.callbacks.TerminateOnNaN()\n",
        "     ```\n",
        "\n",
        "---\n",
        "\n",
        "### 8. **ProgbarLogger**\n",
        "   - **Purpose:** Displays a progress bar during training.\n",
        "   - **Key Features:**\n",
        "     - Useful for monitoring training in a terminal or notebook.\n",
        "   - **Example:**\n",
        "     ```python\n",
        "     tf.keras.callbacks.ProgbarLogger(count_mode='steps')\n",
        "     ```\n",
        "\n",
        "---\n",
        "\n",
        "### 9. **BackupAndRestore**\n",
        "   - **Purpose:** Save training state to resume from interruptions (e.g., crashes).\n",
        "   - **Key Features:**\n",
        "     - Periodically saves training checkpoints.\n",
        "   - **Example:**\n",
        "     ```python\n",
        "     tf.keras.callbacks.BackupAndRestore(\n",
        "         backup_dir='backup'\n",
        "     )\n",
        "     ```\n",
        "\n",
        "---\n",
        "\n",
        "### 10. **Custom Callback**\n",
        "   - **Purpose:** Create your own callback to define custom behavior during training.\n",
        "   - **How to create:**\n",
        "     - Subclass `tf.keras.callbacks.Callback`.\n",
        "     - Override methods like `on_epoch_begin`, `on_epoch_end`, `on_batch_begin`, etc.\n",
        "   - **Example:**\n",
        "     ```python\n",
        "     class CustomCallback(tf.keras.callbacks.Callback):\n",
        "         def on_epoch_end(self, epoch, logs=None):\n",
        "             print(f\"Epoch {epoch} ended with loss: {logs['loss']}\")\n",
        "\n",
        "     custom_callback = CustomCallback()\n",
        "     ```\n",
        "\n",
        "---\n",
        "\n",
        "### 11. **LambdaCallback**\n",
        "   - **Purpose:** Quickly define lightweight custom behaviors without creating a new class.\n",
        "   - **Example:**\n",
        "     ```python\n",
        "     tf.keras.callbacks.LambdaCallback(\n",
        "         on_epoch_end=lambda epoch, logs: print(f\"Epoch {epoch} ended.\")\n",
        "     )\n",
        "     ```\n",
        "\n",
        "---\n",
        "\n",
        "### Usage Example\n",
        "Callbacks are passed to the `fit` method of the model:\n",
        "```python\n",
        "model.fit(\n",
        "    train_data,\n",
        "    validation_data=val_data,\n",
        "    epochs=50,\n",
        "    callbacks=[\n",
        "        tf.keras.callbacks.EarlyStopping(monitor='val_loss', patience=5),\n",
        "        tf.keras.callbacks.ModelCheckpoint('model_best.keras', save_best_only=True),\n",
        "        tf.keras.callbacks.TensorBoard(log_dir='logs')\n",
        "    ]\n",
        ")\n",
        "```\n",
        "\n",
        "Callbacks simplify complex training workflows, enabling you to monitor and adapt the training process efficiently."
      ],
      "metadata": {
        "id": "71mCYZuDI8u1"
      }
    },
    {
      "cell_type": "code",
      "source": [
        "## Call backs\n",
        "callback1 = keras.callbacks.EarlyStopping(monitor='val_loss', patience=3)\n",
        "callback2 = keras.callbacks.ModelCheckpoint('best_model.keras', monitor='val_loss', save_best_only=True, mode='min')\n",
        "\n",
        "model.fit(\n",
        "    x_train,\n",
        "    y_train,\n",
        "    batch_size=32,\n",
        "    epochs=10,\n",
        "    validation_data=(x_test, y_test),\n",
        "    callbacks=[callback1, callback2]\n",
        ")"
      ],
      "metadata": {
        "colab": {
          "base_uri": "https://localhost:8080/"
        },
        "id": "1opbmPgTG19f",
        "outputId": "d85c8906-d358-49d9-889d-07867e138a23"
      },
      "execution_count": 17,
      "outputs": [
        {
          "output_type": "stream",
          "name": "stdout",
          "text": [
            "Epoch 1/10\n",
            "\u001b[1m1563/1563\u001b[0m \u001b[32m━━━━━━━━━━━━━━━━━━━━\u001b[0m\u001b[37m\u001b[0m \u001b[1m5s\u001b[0m 3ms/step - accuracy: 0.4894 - loss: 1.4189 - val_accuracy: 0.4727 - val_loss: 1.4935\n",
            "Epoch 2/10\n",
            "\u001b[1m1563/1563\u001b[0m \u001b[32m━━━━━━━━━━━━━━━━━━━━\u001b[0m\u001b[37m\u001b[0m \u001b[1m3s\u001b[0m 2ms/step - accuracy: 0.4928 - loss: 1.4069 - val_accuracy: 0.4771 - val_loss: 1.4828\n",
            "Epoch 3/10\n",
            "\u001b[1m1563/1563\u001b[0m \u001b[32m━━━━━━━━━━━━━━━━━━━━\u001b[0m\u001b[37m\u001b[0m \u001b[1m5s\u001b[0m 2ms/step - accuracy: 0.4983 - loss: 1.4080 - val_accuracy: 0.4572 - val_loss: 1.5286\n",
            "Epoch 4/10\n",
            "\u001b[1m1563/1563\u001b[0m \u001b[32m━━━━━━━━━━━━━━━━━━━━\u001b[0m\u001b[37m\u001b[0m \u001b[1m5s\u001b[0m 2ms/step - accuracy: 0.4992 - loss: 1.3985 - val_accuracy: 0.4663 - val_loss: 1.5182\n",
            "Epoch 5/10\n",
            "\u001b[1m1563/1563\u001b[0m \u001b[32m━━━━━━━━━━━━━━━━━━━━\u001b[0m\u001b[37m\u001b[0m \u001b[1m3s\u001b[0m 2ms/step - accuracy: 0.5030 - loss: 1.3905 - val_accuracy: 0.4748 - val_loss: 1.4929\n"
          ]
        },
        {
          "output_type": "execute_result",
          "data": {
            "text/plain": [
              "<keras.src.callbacks.history.History at 0x7981d640cb50>"
            ]
          },
          "metadata": {},
          "execution_count": 17
        }
      ]
    },
    {
      "cell_type": "code",
      "source": [
        "# Add More Layers to Fine Tune\n",
        "tf.keras.backend.clear_session()\n",
        "\n",
        "model = Sequential()\n",
        "model.add(Dense(200, activation='relu', input_shape=(3072,)))\n",
        "model.add(Dense(100, activation='relu'))\n",
        "model.add(Dense(100, activation='relu'))\n",
        "model.add(Dense(100, activation='relu'))\n",
        "model.add(Dense(64, activation='relu'))\n",
        "\n",
        "model.add(Dense(10, activation='softmax'))\n",
        "model.summary()\n",
        "\n",
        "sgd = keras.optimizers.SGD(learning_rate=0.01, momentum=0.9)\n",
        "model.compile(loss='categorical_crossentropy', optimizer=sgd, metrics=['accuracy'])\n",
        "\n"
      ],
      "metadata": {
        "colab": {
          "base_uri": "https://localhost:8080/",
          "height": 328
        },
        "id": "BSrrSUqSJQi_",
        "outputId": "7c87b0ef-6570-41ce-c648-9e5075c30e4f"
      },
      "execution_count": 21,
      "outputs": [
        {
          "output_type": "display_data",
          "data": {
            "text/plain": [
              "\u001b[1mModel: \"sequential\"\u001b[0m\n"
            ],
            "text/html": [
              "<pre style=\"white-space:pre;overflow-x:auto;line-height:normal;font-family:Menlo,'DejaVu Sans Mono',consolas,'Courier New',monospace\"><span style=\"font-weight: bold\">Model: \"sequential\"</span>\n",
              "</pre>\n"
            ]
          },
          "metadata": {}
        },
        {
          "output_type": "display_data",
          "data": {
            "text/plain": [
              "┏━━━━━━━━━━━━━━━━━━━━━━━━━━━━━━━━━━━━━━┳━━━━━━━━━━━━━━━━━━━━━━━━━━━━━┳━━━━━━━━━━━━━━━━━┓\n",
              "┃\u001b[1m \u001b[0m\u001b[1mLayer (type)                        \u001b[0m\u001b[1m \u001b[0m┃\u001b[1m \u001b[0m\u001b[1mOutput Shape               \u001b[0m\u001b[1m \u001b[0m┃\u001b[1m \u001b[0m\u001b[1m        Param #\u001b[0m\u001b[1m \u001b[0m┃\n",
              "┡━━━━━━━━━━━━━━━━━━━━━━━━━━━━━━━━━━━━━━╇━━━━━━━━━━━━━━━━━━━━━━━━━━━━━╇━━━━━━━━━━━━━━━━━┩\n",
              "│ dense (\u001b[38;5;33mDense\u001b[0m)                        │ (\u001b[38;5;45mNone\u001b[0m, \u001b[38;5;34m200\u001b[0m)                 │         \u001b[38;5;34m614,600\u001b[0m │\n",
              "├──────────────────────────────────────┼─────────────────────────────┼─────────────────┤\n",
              "│ dense_1 (\u001b[38;5;33mDense\u001b[0m)                      │ (\u001b[38;5;45mNone\u001b[0m, \u001b[38;5;34m100\u001b[0m)                 │          \u001b[38;5;34m20,100\u001b[0m │\n",
              "├──────────────────────────────────────┼─────────────────────────────┼─────────────────┤\n",
              "│ dense_2 (\u001b[38;5;33mDense\u001b[0m)                      │ (\u001b[38;5;45mNone\u001b[0m, \u001b[38;5;34m100\u001b[0m)                 │          \u001b[38;5;34m10,100\u001b[0m │\n",
              "├──────────────────────────────────────┼─────────────────────────────┼─────────────────┤\n",
              "│ dense_3 (\u001b[38;5;33mDense\u001b[0m)                      │ (\u001b[38;5;45mNone\u001b[0m, \u001b[38;5;34m100\u001b[0m)                 │          \u001b[38;5;34m10,100\u001b[0m │\n",
              "├──────────────────────────────────────┼─────────────────────────────┼─────────────────┤\n",
              "│ dense_4 (\u001b[38;5;33mDense\u001b[0m)                      │ (\u001b[38;5;45mNone\u001b[0m, \u001b[38;5;34m64\u001b[0m)                  │           \u001b[38;5;34m6,464\u001b[0m │\n",
              "├──────────────────────────────────────┼─────────────────────────────┼─────────────────┤\n",
              "│ dense_5 (\u001b[38;5;33mDense\u001b[0m)                      │ (\u001b[38;5;45mNone\u001b[0m, \u001b[38;5;34m10\u001b[0m)                  │             \u001b[38;5;34m650\u001b[0m │\n",
              "└──────────────────────────────────────┴─────────────────────────────┴─────────────────┘\n"
            ],
            "text/html": [
              "<pre style=\"white-space:pre;overflow-x:auto;line-height:normal;font-family:Menlo,'DejaVu Sans Mono',consolas,'Courier New',monospace\">┏━━━━━━━━━━━━━━━━━━━━━━━━━━━━━━━━━━━━━━┳━━━━━━━━━━━━━━━━━━━━━━━━━━━━━┳━━━━━━━━━━━━━━━━━┓\n",
              "┃<span style=\"font-weight: bold\"> Layer (type)                         </span>┃<span style=\"font-weight: bold\"> Output Shape                </span>┃<span style=\"font-weight: bold\">         Param # </span>┃\n",
              "┡━━━━━━━━━━━━━━━━━━━━━━━━━━━━━━━━━━━━━━╇━━━━━━━━━━━━━━━━━━━━━━━━━━━━━╇━━━━━━━━━━━━━━━━━┩\n",
              "│ dense (<span style=\"color: #0087ff; text-decoration-color: #0087ff\">Dense</span>)                        │ (<span style=\"color: #00d7ff; text-decoration-color: #00d7ff\">None</span>, <span style=\"color: #00af00; text-decoration-color: #00af00\">200</span>)                 │         <span style=\"color: #00af00; text-decoration-color: #00af00\">614,600</span> │\n",
              "├──────────────────────────────────────┼─────────────────────────────┼─────────────────┤\n",
              "│ dense_1 (<span style=\"color: #0087ff; text-decoration-color: #0087ff\">Dense</span>)                      │ (<span style=\"color: #00d7ff; text-decoration-color: #00d7ff\">None</span>, <span style=\"color: #00af00; text-decoration-color: #00af00\">100</span>)                 │          <span style=\"color: #00af00; text-decoration-color: #00af00\">20,100</span> │\n",
              "├──────────────────────────────────────┼─────────────────────────────┼─────────────────┤\n",
              "│ dense_2 (<span style=\"color: #0087ff; text-decoration-color: #0087ff\">Dense</span>)                      │ (<span style=\"color: #00d7ff; text-decoration-color: #00d7ff\">None</span>, <span style=\"color: #00af00; text-decoration-color: #00af00\">100</span>)                 │          <span style=\"color: #00af00; text-decoration-color: #00af00\">10,100</span> │\n",
              "├──────────────────────────────────────┼─────────────────────────────┼─────────────────┤\n",
              "│ dense_3 (<span style=\"color: #0087ff; text-decoration-color: #0087ff\">Dense</span>)                      │ (<span style=\"color: #00d7ff; text-decoration-color: #00d7ff\">None</span>, <span style=\"color: #00af00; text-decoration-color: #00af00\">100</span>)                 │          <span style=\"color: #00af00; text-decoration-color: #00af00\">10,100</span> │\n",
              "├──────────────────────────────────────┼─────────────────────────────┼─────────────────┤\n",
              "│ dense_4 (<span style=\"color: #0087ff; text-decoration-color: #0087ff\">Dense</span>)                      │ (<span style=\"color: #00d7ff; text-decoration-color: #00d7ff\">None</span>, <span style=\"color: #00af00; text-decoration-color: #00af00\">64</span>)                  │           <span style=\"color: #00af00; text-decoration-color: #00af00\">6,464</span> │\n",
              "├──────────────────────────────────────┼─────────────────────────────┼─────────────────┤\n",
              "│ dense_5 (<span style=\"color: #0087ff; text-decoration-color: #0087ff\">Dense</span>)                      │ (<span style=\"color: #00d7ff; text-decoration-color: #00d7ff\">None</span>, <span style=\"color: #00af00; text-decoration-color: #00af00\">10</span>)                  │             <span style=\"color: #00af00; text-decoration-color: #00af00\">650</span> │\n",
              "└──────────────────────────────────────┴─────────────────────────────┴─────────────────┘\n",
              "</pre>\n"
            ]
          },
          "metadata": {}
        },
        {
          "output_type": "display_data",
          "data": {
            "text/plain": [
              "\u001b[1m Total params: \u001b[0m\u001b[38;5;34m662,014\u001b[0m (2.53 MB)\n"
            ],
            "text/html": [
              "<pre style=\"white-space:pre;overflow-x:auto;line-height:normal;font-family:Menlo,'DejaVu Sans Mono',consolas,'Courier New',monospace\"><span style=\"font-weight: bold\"> Total params: </span><span style=\"color: #00af00; text-decoration-color: #00af00\">662,014</span> (2.53 MB)\n",
              "</pre>\n"
            ]
          },
          "metadata": {}
        },
        {
          "output_type": "display_data",
          "data": {
            "text/plain": [
              "\u001b[1m Trainable params: \u001b[0m\u001b[38;5;34m662,014\u001b[0m (2.53 MB)\n"
            ],
            "text/html": [
              "<pre style=\"white-space:pre;overflow-x:auto;line-height:normal;font-family:Menlo,'DejaVu Sans Mono',consolas,'Courier New',monospace\"><span style=\"font-weight: bold\"> Trainable params: </span><span style=\"color: #00af00; text-decoration-color: #00af00\">662,014</span> (2.53 MB)\n",
              "</pre>\n"
            ]
          },
          "metadata": {}
        },
        {
          "output_type": "display_data",
          "data": {
            "text/plain": [
              "\u001b[1m Non-trainable params: \u001b[0m\u001b[38;5;34m0\u001b[0m (0.00 B)\n"
            ],
            "text/html": [
              "<pre style=\"white-space:pre;overflow-x:auto;line-height:normal;font-family:Menlo,'DejaVu Sans Mono',consolas,'Courier New',monospace\"><span style=\"font-weight: bold\"> Non-trainable params: </span><span style=\"color: #00af00; text-decoration-color: #00af00\">0</span> (0.00 B)\n",
              "</pre>\n"
            ]
          },
          "metadata": {}
        }
      ]
    },
    {
      "cell_type": "code",
      "source": [
        "model.fit(\n",
        "    x_train,\n",
        "    y_train,\n",
        "    batch_size=32,\n",
        "    epochs=20,\n",
        "    validation_data=(x_test, y_test),\n",
        "    callbacks=[callback1, callback2]\n",
        ")"
      ],
      "metadata": {
        "colab": {
          "base_uri": "https://localhost:8080/"
        },
        "id": "jrPur70gLM-x",
        "outputId": "76467a78-01e5-449d-de70-a5b573a56331"
      },
      "execution_count": 22,
      "outputs": [
        {
          "output_type": "stream",
          "name": "stdout",
          "text": [
            "Epoch 1/20\n",
            "\u001b[1m1563/1563\u001b[0m \u001b[32m━━━━━━━━━━━━━━━━━━━━\u001b[0m\u001b[37m\u001b[0m \u001b[1m8s\u001b[0m 4ms/step - accuracy: 0.2419 - loss: 2.0337 - val_accuracy: 0.3457 - val_loss: 1.7871\n",
            "Epoch 2/20\n",
            "\u001b[1m1563/1563\u001b[0m \u001b[32m━━━━━━━━━━━━━━━━━━━━\u001b[0m\u001b[37m\u001b[0m \u001b[1m3s\u001b[0m 2ms/step - accuracy: 0.3523 - loss: 1.7775 - val_accuracy: 0.3918 - val_loss: 1.6817\n",
            "Epoch 3/20\n",
            "\u001b[1m1563/1563\u001b[0m \u001b[32m━━━━━━━━━━━━━━━━━━━━\u001b[0m\u001b[37m\u001b[0m \u001b[1m6s\u001b[0m 3ms/step - accuracy: 0.3850 - loss: 1.6936 - val_accuracy: 0.3965 - val_loss: 1.6773\n"
          ]
        },
        {
          "output_type": "execute_result",
          "data": {
            "text/plain": [
              "<keras.src.callbacks.history.History at 0x7981cb66dc90>"
            ]
          },
          "metadata": {},
          "execution_count": 22
        }
      ]
    },
    {
      "cell_type": "markdown",
      "source": [
        "Fine Tuning"
      ],
      "metadata": {
        "id": "VHj0WTl1Nie5"
      }
    },
    {
      "cell_type": "code",
      "source": [
        "tf.keras.backend.clear_session()\n",
        "\n",
        "model=Sequential()\n",
        "model.add(Dense(200,activation='relu',input_shape=(3072,)))\n",
        "\n",
        "model.add(BatchNormalization())\n",
        "model.add(Dropout(0.2))\n",
        "\n",
        "model.add(Dense(100,activation='relu'))\n",
        "model.add(BatchNormalization())\n",
        "\n",
        "model.add(Dense(100,activation='relu'))\n",
        "model.add(Dropout(0.2))\n",
        "\n",
        "model.add(Dense(100,activation='relu'))\n",
        "model.add(BatchNormalization())\n",
        "model.add(Dropout(0.2))\n",
        "\n",
        "model.add(Dense(64,activation='relu'))\n",
        "# model.add(BatchNormalization())\n",
        "# model.add(Dropout(0.2))\n",
        "\n",
        "model.add(Dense(10,activation='softmax'))\n",
        "model.summary()"
      ],
      "metadata": {
        "colab": {
          "base_uri": "https://localhost:8080/",
          "height": 573
        },
        "id": "LbKrGBjcMwY9",
        "outputId": "af838330-3309-40c9-c535-b38caab3e0fa"
      },
      "execution_count": 23,
      "outputs": [
        {
          "output_type": "display_data",
          "data": {
            "text/plain": [
              "\u001b[1mModel: \"sequential\"\u001b[0m\n"
            ],
            "text/html": [
              "<pre style=\"white-space:pre;overflow-x:auto;line-height:normal;font-family:Menlo,'DejaVu Sans Mono',consolas,'Courier New',monospace\"><span style=\"font-weight: bold\">Model: \"sequential\"</span>\n",
              "</pre>\n"
            ]
          },
          "metadata": {}
        },
        {
          "output_type": "display_data",
          "data": {
            "text/plain": [
              "┏━━━━━━━━━━━━━━━━━━━━━━━━━━━━━━━━━━━━━━┳━━━━━━━━━━━━━━━━━━━━━━━━━━━━━┳━━━━━━━━━━━━━━━━━┓\n",
              "┃\u001b[1m \u001b[0m\u001b[1mLayer (type)                        \u001b[0m\u001b[1m \u001b[0m┃\u001b[1m \u001b[0m\u001b[1mOutput Shape               \u001b[0m\u001b[1m \u001b[0m┃\u001b[1m \u001b[0m\u001b[1m        Param #\u001b[0m\u001b[1m \u001b[0m┃\n",
              "┡━━━━━━━━━━━━━━━━━━━━━━━━━━━━━━━━━━━━━━╇━━━━━━━━━━━━━━━━━━━━━━━━━━━━━╇━━━━━━━━━━━━━━━━━┩\n",
              "│ dense (\u001b[38;5;33mDense\u001b[0m)                        │ (\u001b[38;5;45mNone\u001b[0m, \u001b[38;5;34m200\u001b[0m)                 │         \u001b[38;5;34m614,600\u001b[0m │\n",
              "├──────────────────────────────────────┼─────────────────────────────┼─────────────────┤\n",
              "│ batch_normalization                  │ (\u001b[38;5;45mNone\u001b[0m, \u001b[38;5;34m200\u001b[0m)                 │             \u001b[38;5;34m800\u001b[0m │\n",
              "│ (\u001b[38;5;33mBatchNormalization\u001b[0m)                 │                             │                 │\n",
              "├──────────────────────────────────────┼─────────────────────────────┼─────────────────┤\n",
              "│ dropout (\u001b[38;5;33mDropout\u001b[0m)                    │ (\u001b[38;5;45mNone\u001b[0m, \u001b[38;5;34m200\u001b[0m)                 │               \u001b[38;5;34m0\u001b[0m │\n",
              "├──────────────────────────────────────┼─────────────────────────────┼─────────────────┤\n",
              "│ dense_1 (\u001b[38;5;33mDense\u001b[0m)                      │ (\u001b[38;5;45mNone\u001b[0m, \u001b[38;5;34m100\u001b[0m)                 │          \u001b[38;5;34m20,100\u001b[0m │\n",
              "├──────────────────────────────────────┼─────────────────────────────┼─────────────────┤\n",
              "│ batch_normalization_1                │ (\u001b[38;5;45mNone\u001b[0m, \u001b[38;5;34m100\u001b[0m)                 │             \u001b[38;5;34m400\u001b[0m │\n",
              "│ (\u001b[38;5;33mBatchNormalization\u001b[0m)                 │                             │                 │\n",
              "├──────────────────────────────────────┼─────────────────────────────┼─────────────────┤\n",
              "│ dense_2 (\u001b[38;5;33mDense\u001b[0m)                      │ (\u001b[38;5;45mNone\u001b[0m, \u001b[38;5;34m100\u001b[0m)                 │          \u001b[38;5;34m10,100\u001b[0m │\n",
              "├──────────────────────────────────────┼─────────────────────────────┼─────────────────┤\n",
              "│ dropout_1 (\u001b[38;5;33mDropout\u001b[0m)                  │ (\u001b[38;5;45mNone\u001b[0m, \u001b[38;5;34m100\u001b[0m)                 │               \u001b[38;5;34m0\u001b[0m │\n",
              "├──────────────────────────────────────┼─────────────────────────────┼─────────────────┤\n",
              "│ dense_3 (\u001b[38;5;33mDense\u001b[0m)                      │ (\u001b[38;5;45mNone\u001b[0m, \u001b[38;5;34m100\u001b[0m)                 │          \u001b[38;5;34m10,100\u001b[0m │\n",
              "├──────────────────────────────────────┼─────────────────────────────┼─────────────────┤\n",
              "│ batch_normalization_2                │ (\u001b[38;5;45mNone\u001b[0m, \u001b[38;5;34m100\u001b[0m)                 │             \u001b[38;5;34m400\u001b[0m │\n",
              "│ (\u001b[38;5;33mBatchNormalization\u001b[0m)                 │                             │                 │\n",
              "├──────────────────────────────────────┼─────────────────────────────┼─────────────────┤\n",
              "│ dropout_2 (\u001b[38;5;33mDropout\u001b[0m)                  │ (\u001b[38;5;45mNone\u001b[0m, \u001b[38;5;34m100\u001b[0m)                 │               \u001b[38;5;34m0\u001b[0m │\n",
              "├──────────────────────────────────────┼─────────────────────────────┼─────────────────┤\n",
              "│ dense_4 (\u001b[38;5;33mDense\u001b[0m)                      │ (\u001b[38;5;45mNone\u001b[0m, \u001b[38;5;34m64\u001b[0m)                  │           \u001b[38;5;34m6,464\u001b[0m │\n",
              "├──────────────────────────────────────┼─────────────────────────────┼─────────────────┤\n",
              "│ dense_5 (\u001b[38;5;33mDense\u001b[0m)                      │ (\u001b[38;5;45mNone\u001b[0m, \u001b[38;5;34m10\u001b[0m)                  │             \u001b[38;5;34m650\u001b[0m │\n",
              "└──────────────────────────────────────┴─────────────────────────────┴─────────────────┘\n"
            ],
            "text/html": [
              "<pre style=\"white-space:pre;overflow-x:auto;line-height:normal;font-family:Menlo,'DejaVu Sans Mono',consolas,'Courier New',monospace\">┏━━━━━━━━━━━━━━━━━━━━━━━━━━━━━━━━━━━━━━┳━━━━━━━━━━━━━━━━━━━━━━━━━━━━━┳━━━━━━━━━━━━━━━━━┓\n",
              "┃<span style=\"font-weight: bold\"> Layer (type)                         </span>┃<span style=\"font-weight: bold\"> Output Shape                </span>┃<span style=\"font-weight: bold\">         Param # </span>┃\n",
              "┡━━━━━━━━━━━━━━━━━━━━━━━━━━━━━━━━━━━━━━╇━━━━━━━━━━━━━━━━━━━━━━━━━━━━━╇━━━━━━━━━━━━━━━━━┩\n",
              "│ dense (<span style=\"color: #0087ff; text-decoration-color: #0087ff\">Dense</span>)                        │ (<span style=\"color: #00d7ff; text-decoration-color: #00d7ff\">None</span>, <span style=\"color: #00af00; text-decoration-color: #00af00\">200</span>)                 │         <span style=\"color: #00af00; text-decoration-color: #00af00\">614,600</span> │\n",
              "├──────────────────────────────────────┼─────────────────────────────┼─────────────────┤\n",
              "│ batch_normalization                  │ (<span style=\"color: #00d7ff; text-decoration-color: #00d7ff\">None</span>, <span style=\"color: #00af00; text-decoration-color: #00af00\">200</span>)                 │             <span style=\"color: #00af00; text-decoration-color: #00af00\">800</span> │\n",
              "│ (<span style=\"color: #0087ff; text-decoration-color: #0087ff\">BatchNormalization</span>)                 │                             │                 │\n",
              "├──────────────────────────────────────┼─────────────────────────────┼─────────────────┤\n",
              "│ dropout (<span style=\"color: #0087ff; text-decoration-color: #0087ff\">Dropout</span>)                    │ (<span style=\"color: #00d7ff; text-decoration-color: #00d7ff\">None</span>, <span style=\"color: #00af00; text-decoration-color: #00af00\">200</span>)                 │               <span style=\"color: #00af00; text-decoration-color: #00af00\">0</span> │\n",
              "├──────────────────────────────────────┼─────────────────────────────┼─────────────────┤\n",
              "│ dense_1 (<span style=\"color: #0087ff; text-decoration-color: #0087ff\">Dense</span>)                      │ (<span style=\"color: #00d7ff; text-decoration-color: #00d7ff\">None</span>, <span style=\"color: #00af00; text-decoration-color: #00af00\">100</span>)                 │          <span style=\"color: #00af00; text-decoration-color: #00af00\">20,100</span> │\n",
              "├──────────────────────────────────────┼─────────────────────────────┼─────────────────┤\n",
              "│ batch_normalization_1                │ (<span style=\"color: #00d7ff; text-decoration-color: #00d7ff\">None</span>, <span style=\"color: #00af00; text-decoration-color: #00af00\">100</span>)                 │             <span style=\"color: #00af00; text-decoration-color: #00af00\">400</span> │\n",
              "│ (<span style=\"color: #0087ff; text-decoration-color: #0087ff\">BatchNormalization</span>)                 │                             │                 │\n",
              "├──────────────────────────────────────┼─────────────────────────────┼─────────────────┤\n",
              "│ dense_2 (<span style=\"color: #0087ff; text-decoration-color: #0087ff\">Dense</span>)                      │ (<span style=\"color: #00d7ff; text-decoration-color: #00d7ff\">None</span>, <span style=\"color: #00af00; text-decoration-color: #00af00\">100</span>)                 │          <span style=\"color: #00af00; text-decoration-color: #00af00\">10,100</span> │\n",
              "├──────────────────────────────────────┼─────────────────────────────┼─────────────────┤\n",
              "│ dropout_1 (<span style=\"color: #0087ff; text-decoration-color: #0087ff\">Dropout</span>)                  │ (<span style=\"color: #00d7ff; text-decoration-color: #00d7ff\">None</span>, <span style=\"color: #00af00; text-decoration-color: #00af00\">100</span>)                 │               <span style=\"color: #00af00; text-decoration-color: #00af00\">0</span> │\n",
              "├──────────────────────────────────────┼─────────────────────────────┼─────────────────┤\n",
              "│ dense_3 (<span style=\"color: #0087ff; text-decoration-color: #0087ff\">Dense</span>)                      │ (<span style=\"color: #00d7ff; text-decoration-color: #00d7ff\">None</span>, <span style=\"color: #00af00; text-decoration-color: #00af00\">100</span>)                 │          <span style=\"color: #00af00; text-decoration-color: #00af00\">10,100</span> │\n",
              "├──────────────────────────────────────┼─────────────────────────────┼─────────────────┤\n",
              "│ batch_normalization_2                │ (<span style=\"color: #00d7ff; text-decoration-color: #00d7ff\">None</span>, <span style=\"color: #00af00; text-decoration-color: #00af00\">100</span>)                 │             <span style=\"color: #00af00; text-decoration-color: #00af00\">400</span> │\n",
              "│ (<span style=\"color: #0087ff; text-decoration-color: #0087ff\">BatchNormalization</span>)                 │                             │                 │\n",
              "├──────────────────────────────────────┼─────────────────────────────┼─────────────────┤\n",
              "│ dropout_2 (<span style=\"color: #0087ff; text-decoration-color: #0087ff\">Dropout</span>)                  │ (<span style=\"color: #00d7ff; text-decoration-color: #00d7ff\">None</span>, <span style=\"color: #00af00; text-decoration-color: #00af00\">100</span>)                 │               <span style=\"color: #00af00; text-decoration-color: #00af00\">0</span> │\n",
              "├──────────────────────────────────────┼─────────────────────────────┼─────────────────┤\n",
              "│ dense_4 (<span style=\"color: #0087ff; text-decoration-color: #0087ff\">Dense</span>)                      │ (<span style=\"color: #00d7ff; text-decoration-color: #00d7ff\">None</span>, <span style=\"color: #00af00; text-decoration-color: #00af00\">64</span>)                  │           <span style=\"color: #00af00; text-decoration-color: #00af00\">6,464</span> │\n",
              "├──────────────────────────────────────┼─────────────────────────────┼─────────────────┤\n",
              "│ dense_5 (<span style=\"color: #0087ff; text-decoration-color: #0087ff\">Dense</span>)                      │ (<span style=\"color: #00d7ff; text-decoration-color: #00d7ff\">None</span>, <span style=\"color: #00af00; text-decoration-color: #00af00\">10</span>)                  │             <span style=\"color: #00af00; text-decoration-color: #00af00\">650</span> │\n",
              "└──────────────────────────────────────┴─────────────────────────────┴─────────────────┘\n",
              "</pre>\n"
            ]
          },
          "metadata": {}
        },
        {
          "output_type": "display_data",
          "data": {
            "text/plain": [
              "\u001b[1m Total params: \u001b[0m\u001b[38;5;34m663,614\u001b[0m (2.53 MB)\n"
            ],
            "text/html": [
              "<pre style=\"white-space:pre;overflow-x:auto;line-height:normal;font-family:Menlo,'DejaVu Sans Mono',consolas,'Courier New',monospace\"><span style=\"font-weight: bold\"> Total params: </span><span style=\"color: #00af00; text-decoration-color: #00af00\">663,614</span> (2.53 MB)\n",
              "</pre>\n"
            ]
          },
          "metadata": {}
        },
        {
          "output_type": "display_data",
          "data": {
            "text/plain": [
              "\u001b[1m Trainable params: \u001b[0m\u001b[38;5;34m662,814\u001b[0m (2.53 MB)\n"
            ],
            "text/html": [
              "<pre style=\"white-space:pre;overflow-x:auto;line-height:normal;font-family:Menlo,'DejaVu Sans Mono',consolas,'Courier New',monospace\"><span style=\"font-weight: bold\"> Trainable params: </span><span style=\"color: #00af00; text-decoration-color: #00af00\">662,814</span> (2.53 MB)\n",
              "</pre>\n"
            ]
          },
          "metadata": {}
        },
        {
          "output_type": "display_data",
          "data": {
            "text/plain": [
              "\u001b[1m Non-trainable params: \u001b[0m\u001b[38;5;34m800\u001b[0m (3.12 KB)\n"
            ],
            "text/html": [
              "<pre style=\"white-space:pre;overflow-x:auto;line-height:normal;font-family:Menlo,'DejaVu Sans Mono',consolas,'Courier New',monospace\"><span style=\"font-weight: bold\"> Non-trainable params: </span><span style=\"color: #00af00; text-decoration-color: #00af00\">800</span> (3.12 KB)\n",
              "</pre>\n"
            ]
          },
          "metadata": {}
        }
      ]
    },
    {
      "cell_type": "code",
      "source": [
        "model.compile(loss='categorical_crossentropy',optimizer='adam',metrics=['accuracy'])\n"
      ],
      "metadata": {
        "id": "ybj0c-WkOVU2"
      },
      "execution_count": 24,
      "outputs": []
    },
    {
      "cell_type": "code",
      "source": [
        "model.fit(x_train,y_train,batch_size=32,epochs=20,validation_data=(x_test,y_test),callbacks=[callback1,callback2])"
      ],
      "metadata": {
        "colab": {
          "base_uri": "https://localhost:8080/"
        },
        "id": "e5Jg1mbtOiVg",
        "outputId": "cd05c339-3acf-4590-bc41-dfd9aa9a1451"
      },
      "execution_count": 25,
      "outputs": [
        {
          "output_type": "stream",
          "name": "stdout",
          "text": [
            "Epoch 1/20\n",
            "\u001b[1m1563/1563\u001b[0m \u001b[32m━━━━━━━━━━━━━━━━━━━━\u001b[0m\u001b[37m\u001b[0m \u001b[1m16s\u001b[0m 6ms/step - accuracy: 0.2532 - loss: 2.0674 - val_accuracy: 0.3632 - val_loss: 1.7701\n",
            "Epoch 2/20\n",
            "\u001b[1m1563/1563\u001b[0m \u001b[32m━━━━━━━━━━━━━━━━━━━━\u001b[0m\u001b[37m\u001b[0m \u001b[1m14s\u001b[0m 3ms/step - accuracy: 0.3501 - loss: 1.7994 - val_accuracy: 0.3763 - val_loss: 1.7226\n",
            "Epoch 3/20\n",
            "\u001b[1m1563/1563\u001b[0m \u001b[32m━━━━━━━━━━━━━━━━━━━━\u001b[0m\u001b[37m\u001b[0m \u001b[1m9s\u001b[0m 3ms/step - accuracy: 0.3740 - loss: 1.7477 - val_accuracy: 0.4076 - val_loss: 1.6534\n"
          ]
        },
        {
          "output_type": "execute_result",
          "data": {
            "text/plain": [
              "<keras.src.callbacks.history.History at 0x7981c8407750>"
            ]
          },
          "metadata": {},
          "execution_count": 25
        }
      ]
    },
    {
      "cell_type": "markdown",
      "source": [
        "## **Dense Layer**\n",
        "A **Dense layer** (also known as a fully connected layer) is a fundamental building block in deep learning architectures, especially in neural networks. It connects each input node to every output node in the layer, making it a powerful and versatile layer for learning complex representations.\n",
        "\n",
        "---\n",
        "\n",
        "### Key Features of a Dense Layer:\n",
        "1. **Fully Connected Nodes**:\n",
        "   - Each neuron in the Dense layer is connected to every neuron in the previous layer.\n",
        "   - It computes a weighted sum of the inputs and passes it through an activation function.\n",
        "\n",
        "2. **Learnable Parameters**:\n",
        "   - **Weights (W):** The connection weights between input and output nodes.\n",
        "   - **Bias (b):** A learnable scalar added to the weighted sum to introduce flexibility.\n",
        "\n",
        "3. **Mathematical Representation**:\n",
        "   The output of a Dense layer can be expressed as:\n",
        "   ![image.png](data:image/png;base64,iVBORw0KGgoAAAANSUhEUgAAAdEAAAA6CAYAAADvN2NuAAAAAXNSR0IArs4c6QAAAARnQU1BAACxjwv8YQUAAAAJcEhZcwAADsMAAA7DAcdvqGQAABxRSURBVHhe7d0FlCzF1cDxAuLubsTd3d3dhQhR4kJciUJCnLjnxQlxIe7u7u7uxBO+/Iq57yuanpme2el9u/vu/5w5OzvS011yvap32X333Q8tSZIkSZIszK6Tv0mSJEmSLEgq0SRJkiRZklSiSZIkSbIkqUSTJEmSZElSiSZJkiTJkqQSTZIkSZIlSSWaJEmSJEuSSjRJkiRJliSVaJIkSZIsSSrRJEmW4hjHOEa5/OUvX85+9rNPXkmS9cf4u/KVr1xOcpKTTF5ZX3Y7/vGPv8/keZIkySBOf/rTlyc84QnlBje4Qfnzn/9cPv3pT0/eSZL15brXvW65173uVS51qUuV733ve+XnP//55J31IZVokiQLQYE++tGPLmc+85nLu971rrL//vtP3kmS9edzn/tcOdrRjlYucYlLlAtf+MLlRz/6Ufnxj388eXd8cgP6JEkGI4RLaV7oQhcqn/3sZ8vee+9d/vrXv07ePYyb3OQm5ZrXvGbZbbfdJq/0c+ihh5Z3vvOdZdu2bfX/y13ucuWWt7xlFYjz+MpXvlIe97jHTf47jHvf+971vGbxgQ98oDzvec+b/JdsBPT7bW5zm3KKU5yiHOUoRym77rprOepRj1p22WWXOj4e+tCHTj45G+Phile8YvnOd75Tv8MrXQ8yJ5qsGZ7Ji170ovKpT32qPjz32s4GS/iggw6qbfCJT3yiPOUpT6lKZytx//vfv1zgAhcov/nNb8rLX/7yIyhQXPKSlyxnPetZy5nOdKaZD2PkOMc5zuRbpZzjHOcoZzvb2Xo/230c85jHnHzr/zn/+c/f+9l4+L2t1h9bAYaP8XK84x2v9g8jigL917/+tZBH+YIXvKD85Cc/KWc84xmrcbdefZ3h3GTN3OIWt6gFJjwPg/+EJzxh+fvf/16Vyc7EXnvtVQW5NmBNn/jEJy6/+93vyte+9rXJJzY38p83utGNypGPfORy8MEHl1e/+tWTdw7PD3/4w/KFL3yhen3/ky/lZCc72eSdUv7whz+Ut73tbeU1r3lNed/73lfe+973lkMOOaS+x7v81re+VT7ykY+U//73v+V0pztdbUv87W9/K+9///vLK1/5yhpCftOb3rT9ewGB6xgUrCITfcDb/e53v1te9apXlTe/+c3l3e9+9xG+l+xYvv3tb5evf/3r5UMf+lAdK+YN/vKXv5S3vOUtgz3K3//+91UBn/e8561eLXm0Hrn69ESTI/CsZz2rfPCDHyxXv/rVJ6/MhgV5pCMdafJfqc+9ttkh6An8C17wgpNXZkNhhNCHdmBQbAVY9de5znXKsY997PKzn/2setzTYDS8/e1vrw8KteUXv/hF2W+//ep7lOGvfvWryTulerUUq/ccgycSKF56wxveUBVh93vBZz7zmfK6172uHt/v/POf/6znebOb3ay85CUvmfq9ZMeiT/SNfm/7nFL82Mc+NvlvGK997Wur0mXoXelKVyrnOte5Ju+MRyrR5AjIRyzCl770pfKnP/1p8l+pz722mTnNaU5T8zOL8PnPf74K7oAXKm+4FbjxjW9cznCGM1QPUYRhqHegPXwnGNqmwsX/+c9/Jv8tBuHJE/3iF79YK4iTxRG2lztez7QMD7KNWigQ6ksXzCIMMePu5Cc/ebn+9a8/eWc8Uokmh4PyOMEJTjD5bxi8gyc96Um1Ss7Dc69tZk572tP25t1m8fznP7968UKKH/3oR8tjH/vY6h1tdnihCjYoQOHYD3/4w5N35vPHP/5xKWXIi2+9eucwxKsn9K9ylatUYfrGN75x8mqyKELpZznLWWqucr1Q7S3SAR6pAqFloER5t8L58vdje6OpRJPDobCjLfYYilDMne50p/rwfLPD61pUieIVr3hF2XPPPeu6tY9//OOTVzc3wvqMK/AOGAhDab1QHOtYxxoUHr/qVa9ajn70o0/++5+g+p9AnFftixve8IbVA9H2QoTJ5kFBUFRmM4LkSpfBGI06BPnVy1zmMvX5WKQSTQ7H+c53virodnaElhYN525VjAnCjUf51a9+dfLqMH76058eLs81hJve9KblnOc85+S/w+CVtnn3PihnAvOXv/xlOfDAAyevJssQHuF6wnCN6MNvf/vbhfOhLd/85jfLP/7xjzpmjN8xSSWabMcSjUtf+tLV6t+ZUYV6nvOcZ/Lfzg0PVFiPcFMhq4pyLci3zyo683sKmAg/Fd6B/3mYs7j5zW9ei7tUBX/5y1+evJosw3obkN18qKUqi+ZDW3iiUgk41alOVWXbWIy+xMW+htYBnfrUp64W4qJW6VZHAYSF6QS3ZSIWHl/kIhepwub73//+5FOLIX907Wtfuy5HaI8pPGlLrL4+kDewtko/wWeE7RYJqfhdW2/JbVhaoLpuPZEPc92KCVyzhyUnrkVF6RB4Mne7292qMIblEITy0O9Dn5q0LGtVpUOWVHTP3VpL4UzLM4biGHZskc/tzjXno499ZpG+MXflQ3mi8kwve9nLtgunIciv+21jA8K71tBOG1dC4T7vMxR39IPvKRSaVqhl6zfK1zKXZzzjGQud444k+kwos69fYixNe38syA4RqUVlwLIw3skOVbXGrbymvg79sfvuuw+eSzBfr3a1q5UTnehE1SkgS42fMRhtxyKd/+AHP7hc9KIX3Z7LUJRgEsYOJV0MKLuOaDgXbNeJtVgjG5m4VolvA6cP7SW/+NznPndQO2hzCsBgnBaSVTn71re+tW4EgGtd61pVAJmkIehgwvIE/G2x5CMqHlmP+siarPYaTIKXvvSl9byDJz/5yfVap6GazhrAF7/4xfV/1YHXuMY16vMuP/jBD8qtb33ryX+lHvee97xnVd59eTPXQAEof3defRDeDA790lrhQpjOrW2H7rna/FpfEvjt7+uzxz/+8TNzxBe72MXKHe5wh1rA0TcO9Jc1mQqWumPAOVujq6/b33Wtj3jEI2o46/a3v301JCLXBNfC0lcI5dizuPOd71x3EXJuKq5vd7vbTd4ZhhDrIx/5yDo2wZt94hOf2Ft4RsnbTtA43Hfffeu6W/0B56xQqLtLEXz+6U9/eu1/7TRt/epGgsK39EYBT/SdsUZxPOc5z6metDHFsIq57H3GhTbQx2NieRfPcN74XRV0BTnEcGIA+X1KkBcZIV5yRQV8tM88FPaZmyDzjMMxGCVuJyRjMlCgLtZFUwjCOCY9y6oPBQwmncIWISSTYiti0u+zzz61fQgnBgMPiMVFcRBu0V4mmoHcKrg+KJIDDjigFmSYdCwxxooCFw/KgwDTtoovCG4IW5773Oc+wvENXJ6Q19tHq2CE2HxmmhHQQoh3j9U+eMntsT3v+5xHqxAI3oc97GG1IMo5v+c976nt6GH7OesGXfdJT3rSqhAolz58niLrhrEIuG47dM9VO3i9T4HP4la3ulV5zGMeU6/BwnI7ADln58I4ITD8luUljJ5QKEG0Ud/vag9V0uYTwez7xoMcJUQcRB5CyEyD8ov+tfZyUSj+f//735P/ZodleeH6SfWvjRUsEQr07bQ0A69J36mK3gwKlHFwv/vdr5zylKfcvrMVIc/o4ZU+6EEPqgrAWGBEWWrCaOOFMbqM461Gmw81v29729tWo9TmGHQJY080ItqnOxf6oIyjsK0NFa+aUTxRQo0ysGCf9udZhjXa56UEL3zhC6tAxze+8Y1qAS+KxhUaneaJrQIWoaQ3gb0MSvAf+MAHbj9HQl4Iqi2GYIURcsc97nHr773jHe+oircP10wY29oMwi/dvSNZ6IRzYCePu9zlLpP/DkNlLQ+P0BziRQV+n4dyhStcoQr0WX3ssw94wAOqdwSCg3Dv28+UgOdhxrgxnkQy2h2AGAM8shD0wl0mXbsMw2dclxA5L1IFrfaYhrbjKSC8uiFLVYzze9zjHtt3LZrVhgTpHnvsUc/Jb/Au+qpe9TnDiAJx3Y961KOOsEaTUUroxNwhPHhurlXUQLsFFDYBHYrMbzKyphHjhjBikCyz7pJXEUJv2tjQ16IPlMZ973vfeo3dMWtHG3OixXF5rZa/OLeNXpFLNt31rnetc77bN+E56TsPERcKQ1+1qRZtQ8GOyXp6oiJarj2iFRB+9dtt+N5nrAGGXa3uc5/71OfTaOXZmG22ck/UhJbPYbXG3poGQbtcoM+i7FtouwysdpYpr3ashxAowT0mLK9PfvKT9TnFxAKd5sEL4QrHggC1O0tX0I6J3yKMKcR5dD/Lm+J99EEg2vGGQJGXJFBaBToUnr1qPfg9YdtYsrFKnBvvsfW8+tCPwnSh1IWZ+xQoCFrr5Shl3hbvtYvv2gCBggLDi8dnD+NWSENkqN1FSK6J8p9GrM1kyK0iz+i8+tZ7CuXxqm04HmPXb7a0S14CURU5YNe/0RUohS8Sh76+oVihr40hMkBbkDnCmkF4V1uFdn0oOAGcjG7+m1GhXbSPfZanycNAfjzmBIeFjhmDlStR+TiTWJgi4tYuOCYAoSEf06VtSBeuwZbB4ORJ8B7GfLCKloWXZG9RQoKCEM4VzunCkIhBoG36hB2vVkg2QiH2Hu0TJjxZZePw1/87CgoxQoPO2/n3KTXXK+SloKArcAJ7r4paaEftSaH0bQbQFmkR4sKdOwpGXuwPygtVRDENRqhcJMHJmGKgzgvBguLlOfah6CiIUHQfXm8N3mWFd4w76O+uER1LWpyzSEPQnidijAexpMVYsjfumGiLtQphypCjYO739U0UUUE6R3gawptx7cY4Q20rIS/MoIRIhEhFnxNgPISBOk0ezsJYH4OVK1EKU+w+OtrgM0Fi4lCgBF8XOdDIdckPEYzLQChRIkIQYz6W8YgCglHRgNDO9a53vXL3u9+9vjaPPg9eVVsYHyYYJdqHQg5hQeExf3fkjkKMA+HRNl9x2ctetj5vkf9QXWdC8VD68J5QJkHMuxtSPKAdF81frgrWc6vAKYB5URcGZXjuctrzFo8bB0PXc5qf03YCIqRCwTLmIp+6VlqP0vEpF8Lx9a9//cx50N1JSw6V4hl7SYvQO6NTRMNf42wZVMi7zr71j9qh9TaNi0ghaBfzmmL1+1I/WwmyP2QbJTptGZWIZihCf8MQnQbjLcbTrHG+VlauRJ/2tKeVhz/84duFnjxZDA6T28DomyjtHRvktbqu/FaEUOoKJkLWvfUoAx5an+JsESKKduPl91lwGxFGFmMJrNDIkbZoC9c/pDTddbcViyaNsK28r7aMnNyOhkHZhq540PPQTvE5fT3vWhgnERqcx3oYFN1lGa3Hpe5BKoJ31t2mjxCMSEwX3jgjS2iakhkL3q70TSh+glgkYRnIRjluRngXhYHRLvov0g8QXREGlg/0/SEGdxfROcVJQx9SLFIf0lZ97/c9VEgvOs8YagzlwDyeZlRq+1Ci5sE82UjfhKE+5jhfuRKlJNv8jgrUsGZZGX3K0UBt86FrXWi7mTDoDHCeoRD4U5/61Fp4wDrnNc7q+KhkDgjaCHdsdNrcF3hnbY7DcyHeX//611NDuV0IIgU6ji1EqjCBENCWCmo2Aqzntpp5kfWngT7X95uFrkIPo8/Yl46IW1516YaPI69FnojgiFzxzJatnxiCCvkINQbaf9FQIshG47JPtjleFBqKOiybzurDsY2X7v1VZz3UsFBYnJu+9/sedgZSu7EIDKgwHii9WfcPVVgVY4dxRTZsBFauRFsIwdjtBBqoL1+lk+VRoXGmhSS3EirR5FXlgFSCClUQNqrOlLyrJHOT2WmW+FaAUInr0/9tJWbk1oXp5oXqKMhnPvOZ9cFaNykZbMrjVS2rFHf/yWTHQBm2HneEZXmh1hgzui1p6WI+dBUpwc4T1OfGhaKsMRF6bQ0d1yFXuZZ0Th9kZVthHvnQVeBcFW6ZX0MfDFzKXv1H3/t9D3NW5fsiKJYLI0V/Twvl0hHGSsBZsHHMRmBUJSocGa46K2OaMFRdF+vudNwiu7RsRljgFCWB77opEpY4xSlXKjSyWcKya4GAcssr8LhZy7wMD2FP4el5RRQ8VsaI0J5jGD/btm2rQsMCbsqzDfNuNFrBsNFooxoM4QilLYqwbDdCYlcmfUdBtcVELd3boVEyQnoiCzYCcX/RsSNWji+Eqs5CnYail7UUFfZhvEd1PVz3qpX0RoV3GWFZOd9pSrT1WMHQmHeXF2MloqD6sS1wWyWjKlEhusglCNlMs65U5oa36kLXsvGw8J0BLwQ41oPVbNeVZaEohT9cM+Fy4IEH1vV/iwp7E60VIpRIm19YC33Hsm7P9RNiqyC8zPBSWOOO7eG5MF1f/ijwGTnPWPPIkn32s59dCy9WJVxZyd29Xhe9WXeLedAqhmXgZUfRyZjIU0bemgKNdl4rwpaWpvjbDevPQl/Ic6/3khbn95CHPKR6zqIdq1bcs/KhW512bvEsp4XmeaLhsQ6NBpBhoaC161rn3TRGVaKtlWGZQl+YliBqq+7Wmg812eclnNeK47d5rUWwDynjIowGg6Zvo4FpGEwmsvWD2qkddM6pzS2vBdfYty5v1cgDR3/7vciruJb2vT5U9BKogYm1yI41PCFLonis03AeESVZBc4xFBNa63oalvm04209oxSiAcGy84pwbD1ROUVRqu6Sli6Myrat9MPFL37xamiPWUw0Fsa1mgfbRbYL/83pIflQXrCc6pAlTpuFNroxrT4gIlMx/hiRjPl5aNOQs+TIWN79qNqGJRCYjH1WhtBmuz50rflQZegUlWUAYz7spLMMtreKEANmGQ19Qst3JftDebhvYhRu+HzfFn5dCK5lJmNbVboqLHdq1w2r0iVUTJR5oVyeaFinLM1ZxRjtWAzkXPVHu7RgHs6t3XZwUexy1a5ZHVIkxDAKYcMYtdvUeiHEBkp82SUCFGibE9V++kuUYZaR1EUbOA8CdD088VWij3mzDDcKwR1njCUwqsNImuZsKMAyThXTqJvYKnQrt/uIyBR4k65/SBSCgRrzRvh/kbG2COO6bANQbRdCyUVu9Xxot1hilpejKKv1QPo46KCD6hKQEFJ2oLFEZhomozychcvdtbjteXWhmPUTz2CVOUZ9zuMMT0UI2UNupK3y7oNhFuc8K2fn3IXPh+KYrdBvYUjoM+2wrCCX/2YkQBTGBgrTYGTyzl2fc+pbCjImvMhoi2k7S81DP7UFco5nzM6LGhhnrScMBshm2B+3iz5u0yPGqnGkQEofB8aVPm4xfmNHJ0bzWMpgR9COrz5D1zW3N2hnYAzderKthJ8WJl4FoypR7nMIR43QXWbAMhOSC5d7rfnQzQDvKoppwBNinXaR62O9hpIwwHhOUXLfKjxCJXYAMjHlm2w+0MVkjT1k+5YG6C+WMAy+dlMAlXcEvnPvUx6EQvQjjzjCU0PQJqFUwNAYYm0TNnG+fluIsBVIgT1ZFSa0bRnK2vNursREjXtZMhxiT1poE4q03TqvpY0eeN7Np8JyJjvWUBDaTUTAXsldCJA999xze/GR8Oe0hfZdY6wvihG0wmqW8QFRglBkrRJYBN5suyWk/4eEY43PVok6xthLWsZCX0afGG+iCcavfm/3jNWP4XUFxi9DygYai6R+NgNy2zGHGbraKfDcVp88d9gOcJF1sjFvGHBttGvVjHo/UQJXDoPw1yDca56mSkp7IxLM7QQ2sKbtTLNVYF0TrHZ2cu3WYwlhEvByXdrGDkaWZRAWigwit+yvz2pP4QweHCwd8lkC3nuUpN1RPAh832OsOK6QkO9a+N3FcSgbit3vCSMqJjHJ7dkq9Gh7tSgQI/wJdRs9O34Ict91Lr5jL2MhqFkRBr/LYAjhITciVzlvr1bH5HnH+WpXRRompfd43Ta7NwZD4VIE2t11Muo8J9DbojdhYQrZJHRc58UocE1yWYSgvFaEjym6/fffv250r9Q/lJRj608FKe4ZSzmHsWOs6yfRBufNkKKsjQfXxPqWMtAuFJ3zI0DafGj7u647ftdfER6/K2zoPPSVNbRuFOA6wuBhLPGSfNa1dfuKEaH9zF9jlCJfdOci7aga17U5hlSC/Z2HYPlXKG9KxJ1pWq92s8CL10fa3Rafxrc9r23kIKSpzc0zbWSeMWiNnQgB63ebhqwyCjQLy4iMedGgMe8n6roZvuYwI91zrxm/Nu0hw7SZ9rDcZmg9gDnrGrQl757hOlYtwahK1OBgAZi0BAXh4MJU2HG1hWZ0lElvYrhLw86wUxFPjtetPXSyNiCoCEXCUyGJrcxMGl4agW6AEWgEr1yS4qJWmFBEvuN4FB/PnxJUzECAmcAEmJsCuLfnNFiGqqWjmMU6LkLW8SwXaS1hCsCxCVghGd6bc/KgfJwrhKDmTURtEIqAkFX9OgT5Mb9nEjpH7WR83fGOd6x/GRHO27IEwl9bei2UgkrbrkB3PKFu106wuQ6T2oSmQOWU23WnXqc8fU7khccU7UCBeZ1HZXy3xRPGASOJYWM+yHVra23qPM0ZtwNTvd13D8lZv0vweF17UsDGRRgNzsWje47o9pU2046UgGPxwIfsINXimilDRrTnqryHKgPLwIxFkYpt27YdztjZTFACBDtvSy5UpMj4Es40HylWY5jBYf7FDkXy0G5EQZmO6U11WS8lCjLHdRv/2sBvu3bGE0PaUqZFVy+YF3bLIzONOca+sT4Go92Uu4uJ6MIILw0jLGPvWJaYCU/hdm9htTPA02BxElIENKFqCU13wLBGDWoDeohF1ba3wcMTm7ZbSh8mOu/SeUV/EQRj4Tx5SQa9UOcyVqM2olh449Ou2e/YRYvi8P68ial/7E/smAQeL34Mi5aypjwZJpSVnDXhshEKaNwqjdB3Xq6fQF8UG4cQknL47i88FN6HcWhOEKSbHfOKoWw8iUx017oawwwp43TM8TaP9bwVWsALFTHhBJi/a4lMxpilW7TxfvvtN3ln9YymRDUIq4vH1ScIWGUssKgyJdDiRtFJkmwcCHahNV4+T9R9HDdjXjIZzo5Qoqsk7k0tgqEQacw04SiFRfIwlprYcs26KMUsXXhK7SL5vju7JEmy4xHSk48Usucx8+STrY1Uh0e36G4zoBZC1AMie2PX2axciQpDyH/IwUCuRWFLCy/V7YQUogwtd0+SZMchnM+ql3cWXk22NkL2dlbbjIWecXtIhYTC4WOzciUq5i93Fyg2aReXU7J777339gXuqv3sI5skycaFMFJ0xDtREGPdYrJ1kYeVYttsSD2oY4DzX4811StXogo1YgcdS1wUFMTO/jxQClPBCyTW99133x2SOE+SZDFiWQ8r35IdBnGSbCQUq6oCp4fcyGM9WPkSF5WcSpOtgzTJ5D1ZBiql7KSjkEjllapJSzhaLzVJko2LCnrpF8tvzGvVuuu5BWGSzIKOkUoULbEM7eCDD568My6jrBM1sSSk5UKt/+GBUqxKue1EoyrXesVDDjlk8o0kSTYDtmOM3ccsx7GQfdrtq5JkvRDGtXmFzSpUEx9wwAGTd8Zn3daJJkmyddhrr73KHnvsUSNPNoKYt89xkowFJ81KEBW5NmlZ9f1e5zHqjkVJkmxNrP0WWRLaVYE/5NZUSTIGtqy0JtTOXrN2YxuL9ESTJEmSZElG2WwhSZIkSXYGUokmSZIkyZKkEk2SJEmSJUklmiRJkiRLkko0SZIkSZYklWiSJEmSLEkq0SRJkiRZilL+D1V3uzuJqVvwAAAAAElFTkSuQmCC)\n",
        "   - \\( W \\): Weight matrix.\n",
        "   - \\( x \\): Input vector.\n",
        "   - \\( b \\): Bias vector.\n",
        "   - \\( \\text{activation} \\): Activation function (e.g., ReLU, sigmoid, softmax).\n",
        "\n",
        "---\n",
        "\n",
        "### Dense Layer in TensorFlow/Keras:\n",
        "You can add a Dense layer to a model using `tf.keras.layers.Dense`.\n",
        "\n",
        "#### Basic Syntax:\n",
        "```python\n",
        "from tensorflow.keras.layers import Dense\n",
        "\n",
        "dense_layer = Dense(units=128, activation='relu')\n",
        "```\n",
        "\n",
        "- **`units`:** Number of neurons in the layer.\n",
        "- **`activation`:** Activation function applied to the output (e.g., `relu`, `sigmoid`, `softmax`, `tanh`, or `linear`).\n",
        "\n",
        "---\n",
        "\n",
        "### Examples of Dense Layer Usage:\n",
        "\n",
        "#### Example 1: Simple Dense Layer in Sequential Model\n",
        "```python\n",
        "from tensorflow.keras.models import Sequential\n",
        "from tensorflow.keras.layers import Dense\n",
        "\n",
        "model = Sequential([\n",
        "    Dense(64, activation='relu', input_shape=(100,)),\n",
        "    Dense(32, activation='relu'),\n",
        "    Dense(10, activation='softmax')  # For multi-class classification\n",
        "])\n",
        "```\n",
        "\n",
        "#### Example 2: Adding a Dense Layer in Functional API\n",
        "```python\n",
        "from tensorflow.keras.models import Model\n",
        "from tensorflow.keras.layers import Input, Dense\n",
        "\n",
        "input_layer = Input(shape=(100,))\n",
        "hidden_layer = Dense(64, activation='relu')(input_layer)\n",
        "output_layer = Dense(10, activation='softmax')(hidden_layer)\n",
        "\n",
        "model = Model(inputs=input_layer, outputs=output_layer)\n",
        "```\n",
        "\n",
        "---\n",
        "\n",
        "### Activation Functions in Dense Layers:\n",
        "- **ReLU (Rectified Linear Unit):** Often used in hidden layers.\n",
        "- **Sigmoid:** Used for binary classification problems.\n",
        "- **Softmax:** Used for multi-class classification.\n",
        "- **Tanh:** Used for outputs in the range \\([-1, 1]\\).\n",
        "- **Linear (no activation):** Common in regression tasks.\n",
        "\n",
        "---\n",
        "\n",
        "### Applications of Dense Layers:\n",
        "1. **Classification Tasks**:\n",
        "   - Output layer uses softmax or sigmoid activation.\n",
        "2. **Regression Tasks**:\n",
        "   - Output layer often has linear activation.\n",
        "3. **Feature Transformation**:\n",
        "   - Intermediate Dense layers can transform input features into representations suited for the task.\n",
        "\n",
        "---\n",
        "\n",
        "### Advantages of Dense Layers:\n",
        "- **Versatility:** Can model any type of input-output relationship.\n",
        "- **Interconnectedness:** Captures complex patterns through fully connected neurons.\n",
        "- **Flexibility:** Works with different activation functions and configurations.\n",
        "\n",
        "---\n",
        "\n",
        "### Limitations:\n",
        "1. **Overfitting:** Due to a large number of parameters, Dense layers can overfit small datasets.\n",
        "   - Mitigation: Use regularization (L1/L2) or dropout.\n",
        "2. **High Computational Cost:** Fully connected layers can become computationally expensive with high-dimensional input.\n",
        "\n",
        "---\n",
        "\n",
        "Dense layers are an integral part of neural networks and are often combined with other layer types (e.g., convolutional layers, recurrent layers) for better performance on specialized tasks."
      ],
      "metadata": {
        "id": "e68iygcDRB1O"
      }
    },
    {
      "cell_type": "code",
      "source": [],
      "metadata": {
        "id": "Yt1G-NXeO3Tm"
      },
      "execution_count": null,
      "outputs": []
    }
  ]
}